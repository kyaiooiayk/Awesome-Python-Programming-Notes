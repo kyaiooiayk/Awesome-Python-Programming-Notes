{
 "cells": [
  {
   "cell_type": "markdown",
   "id": "satellite-taste",
   "metadata": {},
   "source": [
    "# Introduction\n",
    "<hr style=\"border:2px solid black\"> </hr>"
   ]
  },
  {
   "cell_type": "markdown",
   "id": "9c40707e",
   "metadata": {},
   "source": [
    "\n",
    "**What?** Sequence slicing\n",
    "\n",
""   ]
  },
  {
   "cell_type": "markdown",
   "id": "7e279c6b",
   "metadata": {},
   "source": [
    "# Sequence definition\n",
    "<hr style=\"border:2px solid black\"> </hr>"
   ]
  },
  {
   "cell_type": "code",
   "execution_count": 1,
   "id": "saved-approval",
   "metadata": {
    "ExecuteTime": {
     "end_time": "2022-08-27T08:59:04.441795Z",
     "start_time": "2022-08-27T08:59:04.438817Z"
    }
   },
   "outputs": [],
   "source": [
    "s = 'Slicing is easy!'"
   ]
  },
  {
   "cell_type": "code",
   "execution_count": 2,
   "id": "ed5f6535",
   "metadata": {
    "ExecuteTime": {
     "end_time": "2022-08-27T08:59:04.451820Z",
     "start_time": "2022-08-27T08:59:04.443604Z"
    }
   },
   "outputs": [
    {
     "data": {
      "text/plain": [
       "'Slicing is easy!'"
      ]
     },
     "execution_count": 2,
     "metadata": {},
     "output_type": "execute_result"
    }
   ],
   "source": [
    "s"
   ]
  },
  {
   "cell_type": "markdown",
   "id": "e0029745",
   "metadata": {},
   "source": [
    "# [start:stop:step]\n",
    "<hr style=\"border:2px solid black\"> </hr>"
   ]
  },
  {
   "cell_type": "markdown",
   "id": "13a9e8c1",
   "metadata": {},
   "source": [
    "\n",
    "- The default value of the step parameter is `Z`\n",
    "\n",
""   ]
  },
  {
   "cell_type": "code",
   "execution_count": 3,
   "id": "f92cb8c0",
   "metadata": {
    "ExecuteTime": {
     "end_time": "2022-08-27T08:59:04.458634Z",
     "start_time": "2022-08-27T08:59:04.454777Z"
    }
   },
   "outputs": [
    {
     "data": {
      "text/plain": [
       "'iigi a'"
      ]
     },
     "execution_count": 3,
     "metadata": {},
     "output_type": "execute_result"
    }
   ],
   "source": [
    "s[2:14:2]"
   ]
  },
  {
   "cell_type": "code",
   "execution_count": 4,
   "id": "5bd1a34b",
   "metadata": {
    "ExecuteTime": {
     "end_time": "2022-08-27T08:59:04.463743Z",
     "start_time": "2022-08-27T08:59:04.460443Z"
    }
   },
   "outputs": [
    {
     "data": {
      "text/plain": [
       "'iigi a'"
      ]
     },
     "execution_count": 4,
     "metadata": {},
     "output_type": "execute_result"
    }
   ],
   "source": [
    "# equivalent to this as well\n",
    "s[2:14][::2]"
   ]
  },
  {
   "cell_type": "markdown",
   "id": "92021e49",
   "metadata": {},
   "source": [
    "# step-only\n",
    "<hr style=\"border:2px solid black\"> </hr>"
   ]
  },
  {
   "cell_type": "code",
   "execution_count": 5,
   "id": "ad92d388",
   "metadata": {
    "ExecuteTime": {
     "end_time": "2022-08-27T08:59:04.469215Z",
     "start_time": "2022-08-27T08:59:04.465525Z"
    }
   },
   "outputs": [
    {
     "data": {
      "text/plain": [
       "'Siigi ay'"
      ]
     },
     "execution_count": 5,
     "metadata": {},
     "output_type": "execute_result"
    }
   ],
   "source": [
    "s[::2]"
   ]
  },
  {
   "cell_type": "markdown",
   "id": "d3e473b0",
   "metadata": {
    "ExecuteTime": {
     "end_time": "2022-08-27T08:59:04.474869Z",
     "start_time": "2022-08-27T08:59:04.471418Z"
    }
   },
   "source": [
    "# `slice` built-in function\n",
    "<hr style=\"border:2px solid black\"> </hr>"
   ]
  },
  {
   "cell_type": "markdown",
   "id": "a811f404",
   "metadata": {},
   "source": [
    "\n",
    "- The syntax `[start:stop:step]` is just syntactic sugar for `slice(start, stop, step)`.\n",
    "\n",
""   ]
  },
  {
   "cell_type": "code",
   "execution_count": 7,
   "id": "867fb3a5",
   "metadata": {
    "ExecuteTime": {
     "end_time": "2022-08-27T08:59:09.931894Z",
     "start_time": "2022-08-27T08:59:09.929240Z"
    }
   },
   "outputs": [],
   "source": [
    "sl = slice(1, 12, 3)"
   ]
  },
  {
   "cell_type": "code",
   "execution_count": 8,
   "id": "d672f641",
   "metadata": {
    "ExecuteTime": {
     "end_time": "2022-08-27T08:59:10.131140Z",
     "start_time": "2022-08-27T08:59:10.127944Z"
    }
   },
   "outputs": [
    {
     "data": {
      "text/plain": [
       "1"
      ]
     },
     "execution_count": 8,
     "metadata": {},
     "output_type": "execute_result"
    }
   ],
   "source": [
    "sl.start"
   ]
  },
  {
   "cell_type": "code",
   "execution_count": 9,
   "id": "27579101",
   "metadata": {
    "ExecuteTime": {
     "end_time": "2022-08-27T08:59:10.289355Z",
     "start_time": "2022-08-27T08:59:10.286125Z"
    }
   },
   "outputs": [
    {
     "data": {
      "text/plain": [
       "12"
      ]
     },
     "execution_count": 9,
     "metadata": {},
     "output_type": "execute_result"
    }
   ],
   "source": [
    "sl.stop"
   ]
  },
  {
   "cell_type": "code",
   "execution_count": 10,
   "id": "bd94473a",
   "metadata": {
    "ExecuteTime": {
     "end_time": "2022-08-27T08:59:10.445640Z",
     "start_time": "2022-08-27T08:59:10.442419Z"
    }
   },
   "outputs": [
    {
     "data": {
      "text/plain": [
       "3"
      ]
     },
     "execution_count": 10,
     "metadata": {},
     "output_type": "execute_result"
    }
   ],
   "source": [
    "sl.step"
   ]
  },
  {
   "cell_type": "code",
   "execution_count": 13,
   "id": "72011610",
   "metadata": {
    "ExecuteTime": {
     "end_time": "2022-08-27T08:59:44.241470Z",
     "start_time": "2022-08-27T08:59:44.238411Z"
    }
   },
   "outputs": [
    {
     "data": {
      "text/plain": [
       "'lcn ses'"
      ]
     },
     "execution_count": 13,
     "metadata": {},
     "output_type": "execute_result"
    }
   ],
   "source": [
    "# Normally we'll do this\n",
    "s[1:15:2]"
   ]
  },
  {
   "cell_type": "code",
   "execution_count": 15,
   "id": "199901a1",
   "metadata": {
    "ExecuteTime": {
     "end_time": "2022-08-27T09:00:07.192957Z",
     "start_time": "2022-08-27T09:00:07.189598Z"
    }
   },
   "outputs": [
    {
     "data": {
      "text/plain": [
       "'lcn ses'"
      ]
     },
     "execution_count": 15,
     "metadata": {},
     "output_type": "execute_result"
    }
   ],
   "source": [
    "# but we could also do this\n",
    "sl=slice(1,15,2)\n",
    "s[sl]"
   ]
  },
  {
   "cell_type": "markdown",
   "id": "electronic-coupon",
   "metadata": {},
   "source": [
    "# References\n",
    "<hr style=\"border:2px solid black\"> </hr>"
   ]
  },
  {
   "cell_type": "markdown",
   "id": "03699603",
   "metadata": {},
   "source": [
    "\n",
    "- https://mathspp.com/blog/pydonts\n",
    "\n",
""   ]
  },
  {
   "cell_type": "code",
   "execution_count": null,
   "id": "0185f75d",
   "metadata": {},
   "outputs": [],
   "source": []
  }
 ],
 "metadata": {
  "hide_input": false,
  "kernelspec": {
   "display_name": "trainingAI",
   "language": "python",
   "name": "trainingai"
  },
  "language_info": {
   "codemirror_mode": {
    "name": "ipython",
    "version": 3
   },
   "file_extension": ".py",
   "mimetype": "text/x-python",
   "name": "python",
   "nbconvert_exporter": "python",
   "pygments_lexer": "ipython3",
   "version": "3.9.7"
  },
  "toc": {
   "base_numbering": 1,
   "nav_menu": {},
   "number_sections": true,
   "sideBar": true,
   "skip_h1_title": false,
   "title_cell": "Table of Contents",
   "title_sidebar": "Contents",
   "toc_cell": false,
   "toc_position": {},
   "toc_section_display": true,
   "toc_window_display": true
  },
  "varInspector": {
   "cols": {
    "lenName": 16,
    "lenType": 16,
    "lenVar": 40
   },
   "kernels_config": {
    "python": {
     "delete_cmd_postfix": "",
     "delete_cmd_prefix": "del ",
     "library": "var_list.py",
     "varRefreshCmd": "print(var_dic_list())"
    },
    "r": {
     "delete_cmd_postfix": ") ",
     "delete_cmd_prefix": "rm(",
     "library": "var_list.r",
     "varRefreshCmd": "cat(var_dic_list()) "
    }
   },
   "types_to_exclude": [
    "module",
    "function",
    "builtin_function_or_method",
    "instance",
    "_Feature"
   ],
   "window_display": false
  }
 },
 "nbformat": 4,
 "nbformat_minor": 5
}
