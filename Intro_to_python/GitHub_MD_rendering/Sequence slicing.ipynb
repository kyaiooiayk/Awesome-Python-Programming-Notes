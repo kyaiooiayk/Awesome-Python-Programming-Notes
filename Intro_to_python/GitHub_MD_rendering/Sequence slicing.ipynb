{
 "cells": [
  {
   "cell_type": "markdown",
   "id": "satellite-taste",
   "metadata": {},
   "source": [
    "# Introduction\n",
    "<hr style=\"border:2px solid black\"> </hr>"
   ]
  },
  {
   "cell_type": "markdown",
   "id": "9c40707e",
   "metadata": {},
   "source": [
    "\n",
    "**What?** Sequence slicing\n",
    "\n",
""   ]
  },
  {
   "cell_type": "markdown",
   "id": "7e279c6b",
   "metadata": {},
   "source": [
    "# Sequence definition\n",
    "<hr style=\"border:2px solid black\"> </hr>"
   ]
  },
  {
   "cell_type": "code",
   "execution_count": 1,
   "id": "saved-approval",
   "metadata": {
    "ExecuteTime": {
     "end_time": "2022-08-27T08:31:12.148357Z",
     "start_time": "2022-08-27T08:31:12.145628Z"
    }
   },
   "outputs": [],
   "source": [
    "s = 'Slicing is easy!'"
   ]
  },
  {
   "cell_type": "code",
   "execution_count": 2,
   "id": "ed5f6535",
   "metadata": {
    "ExecuteTime": {
     "end_time": "2022-08-27T08:31:15.934120Z",
     "start_time": "2022-08-27T08:31:15.924947Z"
    }
   },
   "outputs": [
    {
     "data": {
      "text/plain": [
       "'Slicing is easy!'"
      ]
     },
     "execution_count": 2,
     "metadata": {},
     "output_type": "execute_result"
    }
   ],
   "source": [
    "s"
   ]
  },
  {
   "cell_type": "markdown",
   "id": "7cbfc297",
   "metadata": {},
   "source": [
    "# [start:stop:step]\n",
    "<hr style=\"border:2px solid black\"> </hr>"
   ]
  },
  {
   "cell_type": "code",
   "execution_count": 3,
   "id": "f92cb8c0",
   "metadata": {
    "ExecuteTime": {
     "end_time": "2022-08-27T08:31:36.246452Z",
     "start_time": "2022-08-27T08:31:36.242852Z"
    }
   },
   "outputs": [
    {
     "data": {
      "text/plain": [
       "'iigi a'"
      ]
     },
     "execution_count": 3,
     "metadata": {},
     "output_type": "execute_result"
    }
   ],
   "source": [
    "s[2:14:2]"
   ]
  },
  {
   "cell_type": "code",
   "execution_count": 5,
   "id": "5bd1a34b",
   "metadata": {
    "ExecuteTime": {
     "end_time": "2022-08-27T08:32:48.202724Z",
     "start_time": "2022-08-27T08:32:48.199215Z"
    }
   },
   "outputs": [
    {
     "data": {
      "text/plain": [
       "'iigi a'"
      ]
     },
     "execution_count": 5,
     "metadata": {},
     "output_type": "execute_result"
    }
   ],
   "source": [
    "# equivalent to this as well\n",
    "s[2:14][::2]"
   ]
  },
  {
   "cell_type": "markdown",
   "id": "caf82259",
   "metadata": {},
   "source": [
    "# step-only\n",
    "<hr style=\"border:2px solid black\"> </hr>"
   ]
  },
  {
   "cell_type": "code",
   "execution_count": 4,
   "id": "ad92d388",
   "metadata": {
    "ExecuteTime": {
     "end_time": "2022-08-27T08:32:35.848513Z",
     "start_time": "2022-08-27T08:32:35.845127Z"
    }
   },
   "outputs": [
    {
     "data": {
      "text/plain": [
       "'Siigi ay'"
      ]
     },
     "execution_count": 4,
     "metadata": {},
     "output_type": "execute_result"
    }
   ],
   "source": [
    "s[::2]"
   ]
  },
  {
   "cell_type": "markdown",
   "id": "electronic-coupon",
   "metadata": {},
   "source": [
    "# References\n",
    "<hr style=\"border:2px solid black\"> </hr>"
   ]
  },
  {
   "cell_type": "markdown",
   "id": "03699603",
   "metadata": {},
   "source": [
    "\n",
    "- https://mathspp.com/blog/pydonts\n",
    "\n",
""   ]
  },
  {
   "cell_type": "code",
   "execution_count": null,
   "id": "0185f75d",
   "metadata": {},
   "outputs": [],
   "source": []
  }
 ],
 "metadata": {
  "hide_input": false,
  "kernelspec": {
   "display_name": "trainingAI",
   "language": "python",
   "name": "trainingai"
  },
  "language_info": {
   "codemirror_mode": {
    "name": "ipython",
    "version": 3
   },
   "file_extension": ".py",
   "mimetype": "text/x-python",
   "name": "python",
   "nbconvert_exporter": "python",
   "pygments_lexer": "ipython3",
   "version": "3.9.7"
  },
  "toc": {
   "base_numbering": 1,
   "nav_menu": {},
   "number_sections": true,
   "sideBar": true,
   "skip_h1_title": false,
   "title_cell": "Table of Contents",
   "title_sidebar": "Contents",
   "toc_cell": false,
   "toc_position": {},
   "toc_section_display": true,
   "toc_window_display": true
  },
  "varInspector": {
   "cols": {
    "lenName": 16,
    "lenType": 16,
    "lenVar": 40
   },
   "kernels_config": {
    "python": {
     "delete_cmd_postfix": "",
     "delete_cmd_prefix": "del ",
     "library": "var_list.py",
     "varRefreshCmd": "print(var_dic_list())"
    },
    "r": {
     "delete_cmd_postfix": ") ",
     "delete_cmd_prefix": "rm(",
     "library": "var_list.r",
     "varRefreshCmd": "cat(var_dic_list()) "
    }
   },
   "types_to_exclude": [
    "module",
    "function",
    "builtin_function_or_method",
    "instance",
    "_Feature"
   ],
   "window_display": false
  }
 },
 "nbformat": 4,
 "nbformat_minor": 5
}
