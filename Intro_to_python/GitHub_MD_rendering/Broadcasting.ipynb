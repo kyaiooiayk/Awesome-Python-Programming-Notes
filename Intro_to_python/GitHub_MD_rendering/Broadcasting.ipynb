{
 "cells": [
  {
   "cell_type": "markdown",
   "id": "satellite-taste",
   "metadata": {},
   "source": [
    "# Introduction\n",
    "<hr style=\"border:2px solid black\"> </hr>"
   ]
  },
  {
   "cell_type": "markdown",
   "id": "purple-electric",
   "metadata": {},
   "source": [
    "\n",
    "**What?** Broadcasting\n",
    "\n",
""   ]
  },
  {
   "cell_type": "markdown",
   "id": "stopped-recruitment",
   "metadata": {},
   "source": [
    "# List - not supported\n",
    "<hr style=\"border:2px solid black\"> </hr>"
   ]
  },
  {
   "cell_type": "code",
   "execution_count": 1,
   "id": "standard-encyclopedia",
   "metadata": {
    "ExecuteTime": {
     "end_time": "2022-04-04T17:47:54.944257Z",
     "start_time": "2022-04-04T17:47:54.869509Z"
    }
   },
   "outputs": [
    {
     "ename": "TypeError",
     "evalue": "unsupported operand type(s) for ** or pow(): 'list' and 'int'",
     "output_type": "error",
     "traceback": [
      "\u001b[0;31m---------------------------------------------------------------------------\u001b[0m",
      "\u001b[0;31mTypeError\u001b[0m                                 Traceback (most recent call last)",
      "\u001b[0;32m/var/folders/5x/lyqr8wv507n43bnwpsz4dq_c0000gn/T/ipykernel_79954/3764687105.py\u001b[0m in \u001b[0;36m<module>\u001b[0;34m\u001b[0m\n\u001b[1;32m      1\u001b[0m \u001b[0;31m# Python lists don't support broadcasting\u001b[0m\u001b[0;34m\u001b[0m\u001b[0;34m\u001b[0m\u001b[0m\n\u001b[1;32m      2\u001b[0m \u001b[0mnums\u001b[0m \u001b[0;34m=\u001b[0m \u001b[0;34m[\u001b[0m\u001b[0;34m-\u001b[0m\u001b[0;36m2\u001b[0m\u001b[0;34m,\u001b[0m \u001b[0;34m-\u001b[0m\u001b[0;36m1\u001b[0m\u001b[0;34m,\u001b[0m \u001b[0;36m0\u001b[0m\u001b[0;34m,\u001b[0m \u001b[0;36m1\u001b[0m\u001b[0;34m,\u001b[0m \u001b[0;36m2\u001b[0m\u001b[0;34m]\u001b[0m\u001b[0;34m\u001b[0m\u001b[0;34m\u001b[0m\u001b[0m\n\u001b[0;32m----> 3\u001b[0;31m \u001b[0mnums\u001b[0m \u001b[0;34m**\u001b[0m \u001b[0;36m2\u001b[0m\u001b[0;34m\u001b[0m\u001b[0;34m\u001b[0m\u001b[0m\n\u001b[0m",
      "\u001b[0;31mTypeError\u001b[0m: unsupported operand type(s) for ** or pow(): 'list' and 'int'"
     ]
    }
   ],
   "source": [
    "# Python lists don't support broadcasting\n",
    "nums = [-2, -1, 0, 1, 2]\n",
    "nums ** 2"
   ]
  },
  {
   "cell_type": "markdown",
   "id": "alone-cache",
   "metadata": {},
   "source": [
    "# List loop - not efficient\n",
    "<hr style=\"border:2px solid black\"> </hr>"
   ]
  },
  {
   "cell_type": "code",
   "execution_count": 8,
   "id": "talented-jacob",
   "metadata": {
    "ExecuteTime": {
     "end_time": "2022-04-04T17:49:02.329786Z",
     "start_time": "2022-04-04T17:49:02.324754Z"
    }
   },
   "outputs": [
    {
     "name": "stdout",
     "output_type": "stream",
     "text": [
      "2.04 µs ± 11.2 ns per loop (mean ± std. dev. of 7 runs, 100 loops each)\n"
     ]
    }
   ],
   "source": [
    "%%timeit -n100\n",
    "# For loop (inefficient option)\n",
    "sqrd_nums = []\n",
    "for num in nums:\n",
    "    sqrd_nums.append(num ** 2)\n",
    "#print(sqrd_nums)"
   ]
  },
  {
   "cell_type": "markdown",
   "id": "signed-setting",
   "metadata": {},
   "source": [
    "# List comprehension - better but not best\n",
    "<hr style=\"border:2px solid black\"> </hr>"
   ]
  },
  {
   "cell_type": "code",
   "execution_count": 6,
   "id": "upset-being",
   "metadata": {
    "ExecuteTime": {
     "end_time": "2022-04-04T17:48:54.271779Z",
     "start_time": "2022-04-04T17:48:54.266714Z"
    }
   },
   "outputs": [
    {
     "name": "stdout",
     "output_type": "stream",
     "text": [
      "1.96 µs ± 10.1 ns per loop (mean ± std. dev. of 7 runs, 100 loops each)\n"
     ]
    }
   ],
   "source": [
    "%%timeit -n100\n",
    "# List comprehension (better option but not best)\n",
    "sqrd_nums = [num ** 2 for num in nums]\n",
    "#print(sqrd_nums)"
   ]
  },
  {
   "cell_type": "markdown",
   "id": "sensitive-billy",
   "metadata": {},
   "source": [
    "# NumPy array  - best option\n",
    "<hr style=\"border:2px solid black\"> </hr>"
   ]
  },
  {
   "cell_type": "code",
   "execution_count": 4,
   "id": "saved-approval",
   "metadata": {
    "ExecuteTime": {
     "end_time": "2022-04-04T17:48:31.733836Z",
     "start_time": "2022-04-04T17:48:31.730070Z"
    }
   },
   "outputs": [
    {
     "name": "stdout",
     "output_type": "stream",
     "text": [
      "1.59 µs ± 48.4 ns per loop (mean ± std. dev. of 7 runs, 100 loops each)\n"
     ]
    }
   ],
   "source": [
    "%%timeit -n100\n",
    "import numpy as np\n",
    "nums_np = np.array([-2, -1, 0, 1, 2]) \n",
    "nums_np ** 2"
   ]
  },
  {
   "cell_type": "markdown",
   "id": "electronic-coupon",
   "metadata": {},
   "source": [
    "# References\n",
    "<hr style=\"border:2px solid black\"> </hr>"
   ]
  },
  {
   "cell_type": "markdown",
   "id": "center-graph",
   "metadata": {},
   "source": [
    "\n",
    "- https://s3.amazonaws.com/assets.datacamp.com/production/course_13369/slides/chapter1.pdf\n",
    "\n",
""   ]
  }
 ],
 "metadata": {
  "hide_input": false,
  "kernelspec": {
   "display_name": "trainingAI",
   "language": "python",
   "name": "trainingai"
  },
  "language_info": {
   "codemirror_mode": {
    "name": "ipython",
    "version": 3
   },
   "file_extension": ".py",
   "mimetype": "text/x-python",
   "name": "python",
   "nbconvert_exporter": "python",
   "pygments_lexer": "ipython3",
   "version": "3.9.7"
  },
  "toc": {
   "base_numbering": 1,
   "nav_menu": {},
   "number_sections": true,
   "sideBar": true,
   "skip_h1_title": false,
   "title_cell": "Table of Contents",
   "title_sidebar": "Contents",
   "toc_cell": false,
   "toc_position": {},
   "toc_section_display": true,
   "toc_window_display": true
  },
  "varInspector": {
   "cols": {
    "lenName": 16,
    "lenType": 16,
    "lenVar": 40
   },
   "kernels_config": {
    "python": {
     "delete_cmd_postfix": "",
     "delete_cmd_prefix": "del ",
     "library": "var_list.py",
     "varRefreshCmd": "print(var_dic_list())"
    },
    "r": {
     "delete_cmd_postfix": ") ",
     "delete_cmd_prefix": "rm(",
     "library": "var_list.r",
     "varRefreshCmd": "cat(var_dic_list()) "
    }
   },
   "types_to_exclude": [
    "module",
    "function",
    "builtin_function_or_method",
    "instance",
    "_Feature"
   ],
   "window_display": false
  }
 },
 "nbformat": 4,
 "nbformat_minor": 5
}
