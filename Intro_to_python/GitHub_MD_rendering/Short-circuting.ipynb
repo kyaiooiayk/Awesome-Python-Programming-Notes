{
 "cells": [
  {
   "cell_type": "markdown",
   "id": "satellite-taste",
   "metadata": {},
   "source": [
    "# Introduction\n",
    "<hr style=\"border:2px solid black\"> </hr>"
   ]
  },
  {
   "cell_type": "markdown",
   "id": "00cf3a1c",
   "metadata": {},
   "source": [
    "\n",
    "**What?** Short-circuting\n",
    "\n",
""   ]
  },
  {
   "cell_type": "markdown",
   "id": "8ccbab20",
   "metadata": {},
   "source": [
    "# What is it?\n",
    "<hr style=\"border:2px solid black\"> </hr>"
   ]
  },
  {
   "cell_type": "markdown",
   "id": "17df7286",
   "metadata": {},
   "source": [
    "\n",
    "- This mostly relevant because of the following property: and and or only evaluate the right operand if the left operand is not enough to determine the result of the operation. \n",
    "    \n",
    "- This is what short-circuiting is: not evaluating the whole expression (stopping short of evaluating it) if we already have enough information to determine the final outcome.\n",
    "\n",
    "- Together with the fact that the boolean operators `and` and `or` return the values of the operands and not necessarily a Boolean, means we can do some really neat things with them.\n",
    "\n",
    "- **Why does it matter?** If the left operand to or is False or falsy, we know that or has to look at its right operand and will, therefore, return the value of its right operand after evaluating it. On the other hand, if the left operand is True or truthy, or will return the value of the left operand without even evaluating the right operand. *Hence* using short-circuiting can save you a lot of computational time.\n",
    "\n",
""   ]
  },
  {
   "cell_type": "markdown",
   "id": "41595447",
   "metadata": {
    "ExecuteTime": {
     "end_time": "2022-08-27T09:00:07.192957Z",
     "start_time": "2022-08-27T09:00:07.189598Z"
    }
   },
   "source": [
    "# Example #1\n",
    "<hr style=\"border:2px solid black\"> </hr>"
   ]
  },
  {
   "cell_type": "markdown",
   "id": "786563cf",
   "metadata": {},
   "source": [
    "\n",
    "- `or` evaluates to True if any of its operands is truthy. \n",
    "\n",
    "- If the left operand to or is False (or falsy, for that matter) then the or operator has to look to its right operand in order to determine the final result.\n",
    "\n",
    "- Therefore, we know that an expression like `val = False or y` will have the value of `y` in it, and in an if statement or in a while loop, it will evaluate the body of the construct only if `y` is truthy\n",
    "    \n",
""   ]
  },
  {
   "cell_type": "code",
   "execution_count": 3,
   "id": "795c51dc",
   "metadata": {
    "ExecuteTime": {
     "end_time": "2022-08-28T09:55:32.258945Z",
     "start_time": "2022-08-28T09:55:32.256470Z"
    }
   },
   "outputs": [],
   "source": [
    "# truthy value.\n",
    "y = 5  "
   ]
  },
  {
   "cell_type": "code",
   "execution_count": 5,
   "id": "b56382b8",
   "metadata": {
    "ExecuteTime": {
     "end_time": "2022-08-28T09:55:37.418102Z",
     "start_time": "2022-08-28T09:55:37.408909Z"
    }
   },
   "outputs": [
    {
     "data": {
      "text/plain": [
       "True"
      ]
     },
     "execution_count": 5,
     "metadata": {},
     "output_type": "execute_result"
    }
   ],
   "source": [
    "# Let's verufy it\n",
    "bool(y)"
   ]
  },
  {
   "cell_type": "code",
   "execution_count": 6,
   "id": "ced28fcf",
   "metadata": {
    "ExecuteTime": {
     "end_time": "2022-08-28T09:55:39.864297Z",
     "start_time": "2022-08-28T09:55:39.861479Z"
    }
   },
   "outputs": [
    {
     "name": "stdout",
     "output_type": "stream",
     "text": [
      "Got in!\n"
     ]
    }
   ],
   "source": [
    "if False or y:\n",
    "    print(\"Got in!\")\n",
    "else:\n",
    "    print(\"Didn't get in...\")"
   ]
  },
  {
   "cell_type": "markdown",
   "id": "29385e89",
   "metadata": {},
   "source": [
    "\n",
    "- If the left operand to or is False or falsy, then we need to look at the right operand to determine the value of the or.\n",
    "\n",
""   ]
  },
  {
   "cell_type": "code",
   "execution_count": 8,
   "id": "0b1e8c7a",
   "metadata": {
    "ExecuteTime": {
     "end_time": "2022-08-28T09:56:06.528090Z",
     "start_time": "2022-08-28T09:56:06.525681Z"
    }
   },
   "outputs": [],
   "source": [
    "# truthy value\n",
    "y = []  "
   ]
  },
  {
   "cell_type": "code",
   "execution_count": 9,
   "id": "243513ac",
   "metadata": {
    "ExecuteTime": {
     "end_time": "2022-08-28T09:56:06.864527Z",
     "start_time": "2022-08-28T09:56:06.861079Z"
    }
   },
   "outputs": [
    {
     "data": {
      "text/plain": [
       "False"
      ]
     },
     "execution_count": 9,
     "metadata": {},
     "output_type": "execute_result"
    }
   ],
   "source": [
    "# Let's verify it\n",
    "bool(y)"
   ]
  },
  {
   "cell_type": "code",
   "execution_count": 10,
   "id": "dc358990",
   "metadata": {
    "ExecuteTime": {
     "end_time": "2022-08-28T09:56:08.822944Z",
     "start_time": "2022-08-28T09:56:08.820275Z"
    }
   },
   "outputs": [
    {
     "name": "stdout",
     "output_type": "stream",
     "text": [
      "Didn't get in...\n"
     ]
    }
   ],
   "source": [
    "if False or y:\n",
    "    print(\"Got in!\")\n",
    "else:\n",
    "    print(\"Didn't get in...\")"
   ]
  },
  {
   "cell_type": "markdown",
   "id": "electronic-coupon",
   "metadata": {},
   "source": [
    "# References\n",
    "<hr style=\"border:2px solid black\"> </hr>"
   ]
  },
  {
   "cell_type": "markdown",
   "id": "03699603",
   "metadata": {},
   "source": [
    "\n",
    "- https://mathspp.com/blog/pydonts\n",
    "\n",
""   ]
  },
  {
   "cell_type": "code",
   "execution_count": null,
   "id": "0185f75d",
   "metadata": {},
   "outputs": [],
   "source": []
  }
 ],
 "metadata": {
  "hide_input": false,
  "kernelspec": {
   "display_name": "trainingAI",
   "language": "python",
   "name": "trainingai"
  },
  "language_info": {
   "codemirror_mode": {
    "name": "ipython",
    "version": 3
   },
   "file_extension": ".py",
   "mimetype": "text/x-python",
   "name": "python",
   "nbconvert_exporter": "python",
   "pygments_lexer": "ipython3",
   "version": "3.9.7"
  },
  "toc": {
   "base_numbering": 1,
   "nav_menu": {},
   "number_sections": true,
   "sideBar": true,
   "skip_h1_title": false,
   "title_cell": "Table of Contents",
   "title_sidebar": "Contents",
   "toc_cell": false,
   "toc_position": {},
   "toc_section_display": true,
   "toc_window_display": true
  },
  "varInspector": {
   "cols": {
    "lenName": 16,
    "lenType": 16,
    "lenVar": 40
   },
   "kernels_config": {
    "python": {
     "delete_cmd_postfix": "",
     "delete_cmd_prefix": "del ",
     "library": "var_list.py",
     "varRefreshCmd": "print(var_dic_list())"
    },
    "r": {
     "delete_cmd_postfix": ") ",
     "delete_cmd_prefix": "rm(",
     "library": "var_list.r",
     "varRefreshCmd": "cat(var_dic_list()) "
    }
   },
   "types_to_exclude": [
    "module",
    "function",
    "builtin_function_or_method",
    "instance",
    "_Feature"
   ],
   "window_display": false
  }
 },
 "nbformat": 4,
 "nbformat_minor": 5
}
