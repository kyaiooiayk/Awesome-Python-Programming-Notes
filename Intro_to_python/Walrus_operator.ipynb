{
 "cells": [
  {
   "cell_type": "markdown",
   "id": "7e7e5c9a",
   "metadata": {},
   "source": [
    "# Introduction\n",
    "<hr style = \"border:2px solid black\" ></hr>"
   ]
  },
  {
   "cell_type": "markdown",
   "id": "2442af41",
   "metadata": {},
   "source": [
    "<div class=\"alert alert-warning\">\n",
    "<font color=black>\n",
    "\n",
    "**What?** Walrus Operator\n",
    "\n",
    "</font>\n",
    "</div>"
   ]
  },
  {
   "cell_type": "markdown",
   "id": "7b7e31f9",
   "metadata": {},
   "source": [
    "# What is it?\n",
    "<hr style = \"border:2px solid black\" ></hr>"
   ]
  },
  {
   "cell_type": "markdown",
   "id": "77abf4fa",
   "metadata": {},
   "source": [
    "<div class=\"alert alert-info\">\n",
    "<font color=black>\n",
    "\n",
    "- Each new version of Python adds new features to the language. For Python 3.8, the biggest change is the addition of **assignment expressions**.\n",
    "- Specifically, the `:=` operator gives you a new syntax for assigning variables in the middle of expressions. \n",
    "- This operator is colloquially known as the walrus operator.\n",
    "- During early discussions, it was dubbed the walrus operator because the := syntax resembles the eyes and tusks of a sideways walrus. \n",
    "- The `:=` operator does not do anything that isn’t possible without it. It **only makes** certain constructs more convenient and can sometimes communicate the intent of your code more clearly.\n",
    "    \n",
    "</font>\n",
    "</div>"
   ]
  },
  {
   "cell_type": "markdown",
   "id": "3db65eaf",
   "metadata": {},
   "source": [
    "# Example No.1\n",
    "<hr style = \"border:2px solid black\" ></hr>"
   ]
  },
  {
   "cell_type": "code",
   "execution_count": 11,
   "id": "73ccaf48",
   "metadata": {
    "ExecuteTime": {
     "end_time": "2022-07-31T16:39:35.363440Z",
     "start_time": "2022-07-31T16:39:35.360885Z"
    }
   },
   "outputs": [],
   "source": [
    "# Evaluating this does not print anything!\n",
    "walrus = False"
   ]
  },
  {
   "cell_type": "code",
   "execution_count": null,
   "id": "67aff793",
   "metadata": {},
   "outputs": [],
   "source": [
    "walrus"
   ]
  },
  {
   "cell_type": "code",
   "execution_count": 14,
   "id": "99b47414",
   "metadata": {
    "ExecuteTime": {
     "end_time": "2022-07-31T16:42:17.850228Z",
     "start_time": "2022-07-31T16:42:17.846424Z"
    }
   },
   "outputs": [
    {
     "data": {
      "text/plain": [
       "False"
      ]
     },
     "execution_count": 14,
     "metadata": {},
     "output_type": "execute_result"
    }
   ],
   "source": [
    "# Evaluating this does print something indeed!\n",
    "(walrus := False)"
   ]
  },
  {
   "cell_type": "code",
   "execution_count": 15,
   "id": "1ba1cd1b",
   "metadata": {
    "ExecuteTime": {
     "end_time": "2022-07-31T16:42:19.420606Z",
     "start_time": "2022-07-31T16:42:19.416902Z"
    }
   },
   "outputs": [
    {
     "data": {
      "text/plain": [
       "False"
      ]
     },
     "execution_count": 15,
     "metadata": {},
     "output_type": "execute_result"
    }
   ],
   "source": [
    "walrus"
   ]
  },
  {
   "cell_type": "code",
   "execution_count": 16,
   "id": "b34f9e06",
   "metadata": {
    "ExecuteTime": {
     "end_time": "2022-07-31T16:42:39.173434Z",
     "start_time": "2022-07-31T16:42:39.169813Z"
    }
   },
   "outputs": [
    {
     "ename": "SyntaxError",
     "evalue": "invalid syntax (3442574821.py, line 2)",
     "output_type": "error",
     "traceback": [
      "\u001b[0;36m  File \u001b[0;32m\"/var/folders/5x/lyqr8wv507n43bnwpsz4dq_c0000gn/T/ipykernel_60936/3442574821.py\"\u001b[0;36m, line \u001b[0;32m2\u001b[0m\n\u001b[0;31m    walrus := False\u001b[0m\n\u001b[0m                   ^\u001b[0m\n\u001b[0;31mSyntaxError\u001b[0m\u001b[0;31m:\u001b[0m invalid syntax\n"
     ]
    }
   ],
   "source": [
    "# Also note you need the parantheses\n",
    "walrus := False"
   ]
  },
  {
   "cell_type": "markdown",
   "id": "15c77f3f",
   "metadata": {},
   "source": [
    "# References\n",
    "<hr style = \"border:2px solid black\" ></hr>"
   ]
  },
  {
   "cell_type": "markdown",
   "id": "67141036",
   "metadata": {},
   "source": [
    "<div class=\"alert alert-warning\">\n",
    "<font color=black>\n",
    "\n",
    "- [Pydon'ts *by Rodrigo G I R Ã O S E R R Ã O*](https://mathspp.gumroad.com/l/pydonts)\n",
    "- https://realpython.com/python-walrus-operator/\n",
    "   \n",
    "</font>\n",
    "</div>"
   ]
  },
  {
   "cell_type": "code",
   "execution_count": null,
   "id": "1a60187c",
   "metadata": {},
   "outputs": [],
   "source": []
  }
 ],
 "metadata": {
  "kernelspec": {
   "display_name": "trainingAI",
   "language": "python",
   "name": "trainingai"
  },
  "language_info": {
   "codemirror_mode": {
    "name": "ipython",
    "version": 3
   },
   "file_extension": ".py",
   "mimetype": "text/x-python",
   "name": "python",
   "nbconvert_exporter": "python",
   "pygments_lexer": "ipython3",
   "version": "3.9.7"
  },
  "toc": {
   "base_numbering": 1,
   "nav_menu": {},
   "number_sections": true,
   "sideBar": true,
   "skip_h1_title": false,
   "title_cell": "Table of Contents",
   "title_sidebar": "Contents",
   "toc_cell": false,
   "toc_position": {},
   "toc_section_display": true,
   "toc_window_display": false
  },
  "varInspector": {
   "cols": {
    "lenName": 16,
    "lenType": 16,
    "lenVar": 40
   },
   "kernels_config": {
    "python": {
     "delete_cmd_postfix": "",
     "delete_cmd_prefix": "del ",
     "library": "var_list.py",
     "varRefreshCmd": "print(var_dic_list())"
    },
    "r": {
     "delete_cmd_postfix": ") ",
     "delete_cmd_prefix": "rm(",
     "library": "var_list.r",
     "varRefreshCmd": "cat(var_dic_list()) "
    }
   },
   "types_to_exclude": [
    "module",
    "function",
    "builtin_function_or_method",
    "instance",
    "_Feature"
   ],
   "window_display": false
  }
 },
 "nbformat": 4,
 "nbformat_minor": 5
}
