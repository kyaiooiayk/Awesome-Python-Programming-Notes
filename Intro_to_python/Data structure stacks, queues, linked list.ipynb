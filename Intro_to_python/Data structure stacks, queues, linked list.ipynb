{
 "cells": [
  {
   "cell_type": "markdown",
   "metadata": {},
   "source": [
    "# Introduction"
   ]
  },
  {
   "cell_type": "markdown",
   "metadata": {},
   "source": [
    "<div class=\"alert alert-warning\">\n",
    "<font color=black>\n",
    "\n",
    "**What?** Data structure: stacks, queues, linked list\n",
    "\n",
    "</font>\n",
    "</div>"
   ]
  },
  {
   "cell_type": "markdown",
   "metadata": {},
   "source": [
    "# Stack implemented in python"
   ]
  },
  {
   "cell_type": "markdown",
   "metadata": {},
   "source": [
    "<div class=\"alert alert-info\">\n",
    "<font color=black>\n",
    "\n",
    "- Stack is a data structure where the last element addedis the first element retrieved -> **last-in, first-out**. \n",
    "- List can be very easily used as stacked.\n",
    "\n",
    "</font>\n",
    "</div>"
   ]
  },
  {
   "cell_type": "code",
   "execution_count": 2,
   "metadata": {},
   "outputs": [
    {
     "data": {
      "text/plain": [
       "[1, 2, 3, 4, 5]"
      ]
     },
     "execution_count": 2,
     "metadata": {},
     "output_type": "execute_result"
    }
   ],
   "source": [
    "stack = [1,2,3]\n",
    "stack.append(4)\n",
    "stack.append(5)\n",
    "stack"
   ]
  },
  {
   "cell_type": "code",
   "execution_count": 3,
   "metadata": {},
   "outputs": [
    {
     "data": {
      "text/plain": [
       "5"
      ]
     },
     "execution_count": 3,
     "metadata": {},
     "output_type": "execute_result"
    }
   ],
   "source": [
    "# the first to be removed is the the last that was added\n",
    "stack.pop()"
   ]
  },
  {
   "cell_type": "code",
   "execution_count": 4,
   "metadata": {},
   "outputs": [
    {
     "data": {
      "text/plain": [
       "[1, 2, 3, 4]"
      ]
     },
     "execution_count": 4,
     "metadata": {},
     "output_type": "execute_result"
    }
   ],
   "source": [
    "stack"
   ]
  },
  {
   "cell_type": "markdown",
   "metadata": {},
   "source": [
    "# Stack implementation from scratch"
   ]
  },
  {
   "cell_type": "markdown",
   "metadata": {},
   "source": [
    "<div class=\"alert alert-block alert-info\">\n",
    "<font color=black><br>\n",
    "\n",
    "- A stack is an array or list structure of function calls and parameters used in modern computer programming and CPU architecture.\n",
    "- The stack is also known as **\"Last In First Out (LIFO)\"**. The one at the bottom was the first one put down but when you are picking up plates from the stack it is the last one you get to.\n",
    "- When a function is called, the address of the next instruction is pushed onto the stack. \n",
    "- When the function exits, the address is popped off the stack and execution continues at that address. \n",
    "- **What are they used for?** This concept is used for evaluating expressions and syntax parsing, scheduling algortihms/routines, etc. \n",
    "  \n",
    "<br></font>\n",
    "</div>"
   ]
  },
  {
   "cell_type": "code",
   "execution_count": 2,
   "metadata": {},
   "outputs": [],
   "source": [
    "class Stack:\n",
    "    \"\"\"\n",
    "    Last In First Out (LIFO)\n",
    "    creates a new stack that is empty,\n",
    "    assumes that the end of the list will hold \n",
    "    the top element of the stack\n",
    "    \n",
    "    References\n",
    "    ----------\n",
    "    https://docs.python.org/3/tutorial/datastructures.html#using-lists-as-stacks\n",
    "    \"\"\"\n",
    "\n",
    "    def __init__(self):\n",
    "        self.items = []\n",
    "\n",
    "    def is_empty(self):\n",
    "        \"\"\"\n",
    "        For sequences, (strings, lists, tuples), \n",
    "        use the fact that empty sequences are false\n",
    "        http://stackoverflow.com/questions/53513/best-way-to-check-if-a-list-is-empty\n",
    "        \"\"\"\n",
    "        return not self.items\n",
    "\n",
    "    def push(self, item):\n",
    "        \"\"\"adds a new item to the top of the stack\"\"\"\n",
    "        self.items.append(item)\n",
    "    \n",
    "    def pop(self):\n",
    "        \"\"\"\n",
    "        removes the top item from the stack,\n",
    "        popping an empty stack (list) will result in an error\n",
    "        \"\"\"\n",
    "        return self.items.pop()\n",
    "\n",
    "    def peek(self):\n",
    "        \"\"\"returns the top item from the stack but does not remove it\"\"\"\n",
    "        return self.items[len(self.items) - 1]\n",
    "\n",
    "    def size(self):\n",
    "        return len(self.items)"
   ]
  },
  {
   "cell_type": "code",
   "execution_count": 6,
   "metadata": {},
   "outputs": [
    {
     "name": "stdout",
     "output_type": "stream",
     "text": [
      "True\n",
      "False\n",
      "5\n",
      "4\n"
     ]
    }
   ],
   "source": [
    "s = Stack()\n",
    "print(s.is_empty())\n",
    "s.push(4)\n",
    "s.push(5)\n",
    "print(s.is_empty())\n",
    "print(s.pop())\n",
    "print(s.peek())"
   ]
  },
  {
   "cell_type": "markdown",
   "metadata": {},
   "source": [
    "<div class=\"alert alert-info\">\n",
    "<font color=black>\n",
    "\n",
    "- Stacks can be implemented using lists in Python. \n",
    "- When you add elements to a stack, it is known as a push operation, whereas when you remove or delete an element it is called a pop operation\n",
    "\n",
    "</font>\n",
    "</div"
   ]
  },
  {
   "cell_type": "code",
   "execution_count": 8,
   "metadata": {},
   "outputs": [
    {
     "name": "stdout",
     "output_type": "stream",
     "text": [
      "[1, 2, 3, 4, 5, 6]\n",
      "[1, 2, 3, 4]\n"
     ]
    }
   ],
   "source": [
    "# Bottom -> 1 -> 2 -> 3 -> 4 -> 5 (Top)\n",
    "stack = [1,2,3,4,5] \n",
    "stack.append(6) # Bottom -> 1 -> 2 -> 3 -> 4 -> 5 -> 6 (Top)\n",
    "print(stack)\n",
    "\n",
    "stack.pop() # Bottom -> 1 -> 2 -> 3 -> 4 -> 5 (Top)\n",
    "stack.pop() # Bottom -> 1 -> 2 -> 3 -> 4 (Top)\n",
    "print(stack)"
   ]
  },
  {
   "cell_type": "markdown",
   "metadata": {},
   "source": [
    "Write a function rev_string(mystr) that uses a stack to reverse the characters in a string."
   ]
  },
  {
   "cell_type": "code",
   "execution_count": 4,
   "metadata": {},
   "outputs": [
    {
     "data": {
      "text/plain": [
       "'elppa'"
      ]
     },
     "execution_count": 4,
     "metadata": {},
     "output_type": "execute_result"
    }
   ],
   "source": [
    "def rev_string(string):\n",
    "    s = Stack()\n",
    "    for char in string:\n",
    "        s.push(char)\n",
    "\n",
    "    rev_str = ''\n",
    "    while not s.is_empty():\n",
    "        rev_str += s.pop()\n",
    "\n",
    "    return rev_str\n",
    "\n",
    "test = 'apple'    \n",
    "rev_string(test)"
   ]
  },
  {
   "cell_type": "markdown",
   "metadata": {},
   "source": [
    "Check for balance parenthesis."
   ]
  },
  {
   "cell_type": "code",
   "execution_count": 5,
   "metadata": {},
   "outputs": [],
   "source": [
    "def match(top, char):\n",
    "    if top == '[' and char == ']':\n",
    "        return True\n",
    "    \n",
    "    if top == '{' and char == '}':\n",
    "        return True\n",
    "    \n",
    "    if top == '(' and char == ')':\n",
    "        return True\n",
    "    \n",
    "    return False\n",
    "\n",
    "def check_paren(text):\n",
    "    \"\"\"confirm balance parenthesis in operations\"\"\"\n",
    "    # define the set of opening\n",
    "    # and closing brackets\n",
    "    opens = '([{'\n",
    "    close = ')]}'\n",
    "    \n",
    "    s = Stack()\n",
    "    balanced = True\n",
    "    for char in text:\n",
    "        if char in opens:\n",
    "            s.push(char)\n",
    "\n",
    "        if char in close:\n",
    "            # if a closing bracket appeared\n",
    "            # without a opening bracket\n",
    "            if s.is_empty():\n",
    "                balanced = False\n",
    "                break\n",
    "            else:\n",
    "                # if there is a mismatch between the\n",
    "                # closing and opening bracket\n",
    "                top = s.pop()\n",
    "                if not match(top, char):\n",
    "                    balanced = False\n",
    "                    break\n",
    "\n",
    "    if balanced and s.is_empty():\n",
    "        return True\n",
    "    else:\n",
    "        return False"
   ]
  },
  {
   "cell_type": "code",
   "execution_count": 6,
   "metadata": {},
   "outputs": [
    {
     "name": "stdout",
     "output_type": "stream",
     "text": [
      "True\n",
      "True\n",
      "False\n"
     ]
    }
   ],
   "source": [
    "test1 = '{{([][])}()}'\n",
    "balanced = check_paren(test1)\n",
    "print(balanced)\n",
    "\n",
    "test2 = '{test}'\n",
    "balanced = check_paren(test2)\n",
    "print(balanced)\n",
    "\n",
    "test3 = ']'\n",
    "balanced = check_paren(test3)\n",
    "print(balanced)"
   ]
  },
  {
   "cell_type": "markdown",
   "metadata": {},
   "source": [
    "Convert numbers into binary representation."
   ]
  },
  {
   "cell_type": "code",
   "execution_count": 7,
   "metadata": {},
   "outputs": [],
   "source": [
    "def convert_binary(num):\n",
    "    \"\"\"assumes positive number is given\"\"\"\n",
    "    s = Stack()\n",
    "    while num > 0:\n",
    "        remainder = num % 2\n",
    "        s.push(remainder)\n",
    "        num = num // 2\n",
    "\n",
    "    binary_str = ''\n",
    "    while not s.is_empty():\n",
    "        binary_str += str(s.pop())\n",
    "        \n",
    "    return binary_str"
   ]
  },
  {
   "cell_type": "code",
   "execution_count": 8,
   "metadata": {},
   "outputs": [
    {
     "data": {
      "text/plain": [
       "'101010'"
      ]
     },
     "execution_count": 8,
     "metadata": {},
     "output_type": "execute_result"
    }
   ],
   "source": [
    "num = 42\n",
    "binary_str = convert_binary(num)\n",
    "binary_str"
   ]
  },
  {
   "cell_type": "markdown",
   "metadata": {},
   "source": [
    "Convert operators from infix to postfix."
   ]
  },
  {
   "cell_type": "code",
   "execution_count": 9,
   "metadata": {},
   "outputs": [],
   "source": [
    "import string\n",
    "\n",
    "def infix_to_postfix(formula):\n",
    "    \"\"\"assume input formula is space-delimited\"\"\"\n",
    "    s = Stack()\n",
    "    output = [] \n",
    "    prec = {'*': 3, '/': 3, '+': 2, '-': 2, '(': 1}\n",
    "    operand = string.digits + string.ascii_uppercase\n",
    "    \n",
    "    for token in formula.split():\n",
    "        if token in operand:\n",
    "            output.append(token)\n",
    "        elif token == '(':\n",
    "            s.push(token)\n",
    "        elif token == ')':\n",
    "            top = s.pop()\n",
    "            while top != '(':\n",
    "                output.append(top)\n",
    "                top = s.pop()\n",
    "        else:\n",
    "            while (not s.is_empty()) and prec[s.peek()] > prec[token]:\n",
    "                top = s.pop()\n",
    "                output.append(top)\n",
    "            s.push(token)\n",
    "\n",
    "    while not s.is_empty():\n",
    "        top = s.pop()\n",
    "        output.append(top)\n",
    "    \n",
    "    postfix = ' '.join(output)\n",
    "    return postfix"
   ]
  },
  {
   "cell_type": "code",
   "execution_count": 10,
   "metadata": {},
   "outputs": [
    {
     "data": {
      "text/plain": [
       "'A B C * +'"
      ]
     },
     "execution_count": 10,
     "metadata": {},
     "output_type": "execute_result"
    }
   ],
   "source": [
    "formula = 'A + B * C'\n",
    "output = infix_to_postfix(formula)\n",
    "output"
   ]
  },
  {
   "cell_type": "code",
   "execution_count": 11,
   "metadata": {},
   "outputs": [
    {
     "data": {
      "text/plain": [
       "'A B + C *'"
      ]
     },
     "execution_count": 11,
     "metadata": {},
     "output_type": "execute_result"
    }
   ],
   "source": [
    "formula = '( A + B ) * C'\n",
    "output = infix_to_postfix(formula)\n",
    "output"
   ]
  },
  {
   "cell_type": "markdown",
   "metadata": {},
   "source": [
    "# Queue implementation in python"
   ]
  },
  {
   "cell_type": "markdown",
   "metadata": {},
   "source": [
    "<div class=\"alert alert-info\">\n",
    "<font color=black>\n",
    "\n",
    "- Stack was last-in first-out.\n",
    "- Queue as the opposite firs-in first-out.\n",
    "\n",
    "\n",
    "- List are not **efficiently** used as a queue, because all the other elements have to be shifted by one.\n",
    "- To implement a queue use `collections.deque` which was designed to have fast append and pops from both ends.\n",
    "\n",
    "</font>\n",
    "</div>"
   ]
  },
  {
   "cell_type": "code",
   "execution_count": 1,
   "metadata": {},
   "outputs": [
    {
     "name": "stdout",
     "output_type": "stream",
     "text": [
      "deque(['Eric', 'John', 'Michael', 'Terry'])\n",
      "deque(['Eric', 'John', 'Michael', 'Terry', 'Graham'])\n",
      "Eric\n"
     ]
    }
   ],
   "source": [
    "from collections import deque\n",
    "a = [\"Eric\", \"John\", \"Michael\"]\n",
    "queue = deque(a)\n",
    "queue.append(\"Terry\")\n",
    "print(queue)\n",
    "queue.append(\"Graham\")\n",
    "print(queue)\n",
    "print(queue.popleft())"
   ]
  },
  {
   "cell_type": "code",
   "execution_count": 2,
   "metadata": {},
   "outputs": [
    {
     "name": "stdout",
     "output_type": "stream",
     "text": [
      "Graham\n",
      "deque(['John', 'Michael', 'Terry'])\n"
     ]
    }
   ],
   "source": [
    "# Removes the right-most element\n",
    "print(queue.pop())\n",
    "print(queue)"
   ]
  },
  {
   "cell_type": "markdown",
   "metadata": {},
   "source": [
    "# Priority queue"
   ]
  },
  {
   "cell_type": "markdown",
   "metadata": {},
   "source": [
    "<div class=\"alert alert-info\">\n",
    "<font color=black>\n",
    "\n",
    "- We can think of priority queue as a modified queue: instead of retrieving the next element by insertion time, it retrieves the highest-priority element. The priority of individual elements is decided by the ordering applied to their keys.\n",
    "\n",
    "- Priority queues are commonly used for dealing with scheduling problems. High-priority tasks on the system should take precedence over lower-priority tasks. By organizing pending tasks in a priority queue that uses the task urgency as the key, the task scheduler can allow the highest-priority tasks to run first.\n",
    "\n",
    "- Let’s take a look at how we can implement priority queues in Python using built-in data structures or data structures that ship with Python’s standard library.\n",
    "\n",
    "</font>\n",
    "</div>"
   ]
  },
  {
   "cell_type": "code",
   "execution_count": 1,
   "metadata": {},
   "outputs": [
    {
     "name": "stdout",
     "output_type": "stream",
     "text": [
      "(1, 'eat')\n",
      "(2, 'code')\n",
      "(3, 'sleep')\n"
     ]
    }
   ],
   "source": [
    "from queue import PriorityQueue\n",
    "\n",
    "q = PriorityQueue()\n",
    "q.put((2, 'code'))\n",
    "q.put((1, 'eat'))\n",
    "q.put((3, 'sleep'))\n",
    "\n",
    "while not q.empty():\n",
    "    # note that apart from returning\n",
    "    # the item from the queue, it will\n",
    "    # also remove it from the queue\n",
    "    next_item = q.get()\n",
    "    print(next_item)"
   ]
  },
  {
   "cell_type": "markdown",
   "metadata": {},
   "source": [
    "<div class=\"alert alert-info\">\n",
    "<font color=black>\n",
    "\n",
    "As we can infer from the output, prioriy queue stores the elements by its priority, in this case the first element in the tuple. After from sorting primitive types such as integers, we can also sort objects that we've defined. To perform sorting on custom objects we need to implement the dunder methods for all 6 comparisons.\n",
    "\n",
    "| Operator | Method     |\n",
    "|----------|------------|\n",
    "| ==       | ``__eq__`` |\n",
    "| !=       | ``__ne__`` |\n",
    "| <        | ``__le__`` |\n",
    "| <=       | ``__le__`` |\n",
    "| >        | ``__gt__`` |\n",
    "| >=       | ``__ge__`` |\n",
    "\n",
    "</font>\n",
    "</div>"
   ]
  },
  {
   "cell_type": "code",
   "execution_count": 2,
   "metadata": {},
   "outputs": [],
   "source": [
    "class Skill:\n",
    "    def __init__(self, priority, description):\n",
    "        self.priority = priority\n",
    "        self.description = description\n",
    "        \n",
    "    def __eq__(self, other):\n",
    "        return self.priority == other.priority\n",
    "\n",
    "    def __ne__(self, other):\n",
    "        return self.priority != other.priority\n",
    "\n",
    "    def __lt__(self, other):\n",
    "        return self.priority < other.priority\n",
    "\n",
    "    def __le__(self, other):\n",
    "        return self.priority <= other.priority\n",
    "\n",
    "    def __gt__(self, other):\n",
    "        return self.priority > other.priority\n",
    "\n",
    "    def __ge__(self, other):\n",
    "        return self.priority >= other.priority\n",
    "\n",
    "    def __repr__(self):\n",
    "        return '{}: {}'.format(self.description, self.priority)"
   ]
  },
  {
   "cell_type": "code",
   "execution_count": 3,
   "metadata": {},
   "outputs": [
    {
     "name": "stdout",
     "output_type": "stream",
     "text": [
      "Java: 1\n",
      "R: 5\n",
      "Python: 10\n"
     ]
    }
   ],
   "source": [
    "q = PriorityQueue()\n",
    "q.put(Skill(5, 'R'))\n",
    "q.put(Skill(10, 'Python'))\n",
    "q.put(Skill(1, 'Java'))\n",
    "\n",
    "while not q.empty():\n",
    "    next_item = q.get()\n",
    "    print(next_item)"
   ]
  },
  {
   "cell_type": "markdown",
   "metadata": {},
   "source": [
    "# Queue implementation from scratch"
   ]
  },
  {
   "cell_type": "markdown",
   "metadata": {},
   "source": [
    "Following the material, [Online book: What is a Queue?](http://interactivepython.org/runestone/static/pythonds/BasicDS/WhatIsaQueue.html)"
   ]
  },
  {
   "cell_type": "code",
   "execution_count": 12,
   "metadata": {},
   "outputs": [],
   "source": [
    "class Queue:\n",
    "    \"\"\"\n",
    "    First In First Out (FIFO)\n",
    "    assume rear is at position 0 in the list,\n",
    "    so the last element of the list is the front\n",
    "    \"\"\"\n",
    "\n",
    "    def __init__(self):\n",
    "        self.items = []\n",
    "    \n",
    "    def is_empty(self):\n",
    "        return not self.items\n",
    "    \n",
    "    def enqueue(self, item):\n",
    "        self.items.insert(0, item)\n",
    "\n",
    "    def dequeue(self):\n",
    "        return self.items.pop()\n",
    "        \n",
    "    def size(self):\n",
    "        return len(self.items)"
   ]
  },
  {
   "cell_type": "code",
   "execution_count": 13,
   "metadata": {},
   "outputs": [
    {
     "name": "stdout",
     "output_type": "stream",
     "text": [
      "4\n",
      "2\n"
     ]
    }
   ],
   "source": [
    "q = Queue()\n",
    "q.enqueue(4)\n",
    "q.enqueue(3)\n",
    "q.enqueue(10)\n",
    "\n",
    "# 4 is the first one added, hence it's the first\n",
    "# one that gets popped\n",
    "print(q.dequeue())\n",
    "print(q.size())"
   ]
  },
  {
   "cell_type": "markdown",
   "metadata": {},
   "source": [
    "> From [Python Documentation: Using Lists as Queues](https://docs.python.org/3/tutorial/datastructures.html#using-lists-as-queues)\n",
    ">\n",
    "> Although the queue functionality can be implemented using a list, it is not efficient for this  purpose. Because doing inserts or pops from the beginning of a list is slow (all of the other elements have to be shifted by one).\n",
    "\n",
    "We instead use `deque`. It is designed to have fast appends and pops from both ends.\n",
    "\n",
    "Implement the palindrome checker to check if a given word is a palindrom. A palindrome is a string that reads the same forward and backward, e.g. radar."
   ]
  },
  {
   "cell_type": "code",
   "execution_count": 14,
   "metadata": {},
   "outputs": [],
   "source": [
    "from collections import deque\n",
    "\n",
    "def check_palindrome(word):\n",
    "    equal = True\n",
    "    queue = deque([token for token in word])\n",
    "    while len(queue) > 1 and equal:\n",
    "        first = queue.popleft()\n",
    "        last = queue.pop()\n",
    "        if first != last:\n",
    "            equal = False\n",
    "\n",
    "    return equal"
   ]
  },
  {
   "cell_type": "code",
   "execution_count": 15,
   "metadata": {},
   "outputs": [
    {
     "data": {
      "text/plain": [
       "True"
      ]
     },
     "execution_count": 15,
     "metadata": {},
     "output_type": "execute_result"
    }
   ],
   "source": [
    "test = 'radar'\n",
    "check_palindrome(test)"
   ]
  },
  {
   "cell_type": "markdown",
   "metadata": {},
   "source": [
    "# Unordered (Linked)List\n",
    "\n",
    "- [Online book: Lists](http://interactivepython.org/runestone/static/pythonds/BasicDS/Lists.html)\n",
    "- [Blog: Implementing a Singly Linked List in Python](https://www.codefellows.org/blog/implementing-a-singly-linked-list-in-python/#)"
   ]
  },
  {
   "cell_type": "code",
   "execution_count": 16,
   "metadata": {},
   "outputs": [],
   "source": [
    "class Node:\n",
    "    \"\"\"\n",
    "    node must contain the list item itself (data) \n",
    "    node must hold a reference that points to the next node\n",
    "    \"\"\"\n",
    "\n",
    "    def __init__(self, initdata):\n",
    "        # None will denote the fact that there is no next node\n",
    "        self._data = initdata\n",
    "        self._next = None\n",
    "\n",
    "    def get_data(self):\n",
    "        return self._data\n",
    "\n",
    "    def get_next(self):\n",
    "        return self._next\n",
    "\n",
    "    def set_data(self, newdata):\n",
    "        self._data = newdata\n",
    "\n",
    "    def set_next(self, newnext):\n",
    "        self._next = newnext"
   ]
  },
  {
   "cell_type": "code",
   "execution_count": 17,
   "metadata": {},
   "outputs": [],
   "source": [
    "class UnorderedList:\n",
    "\n",
    "    def __init__(self):\n",
    "        \"\"\"\n",
    "        we need identify the position for the first node,\n",
    "        the head, When the list is first initialized \n",
    "        it has no nodes\n",
    "        \"\"\"\n",
    "        self.head = None\n",
    "        \n",
    "    def is_empty(self):\n",
    "        return self.head is None\n",
    "    \n",
    "    def add(self, item):\n",
    "        \"\"\"\n",
    "        takes data, initializes a new node with the given data\n",
    "        and add it to the list, the easiest way is to\n",
    "        place it at the head of the list and \n",
    "        point the new node at the old head\n",
    "        \"\"\"\n",
    "        node = Node(item)\n",
    "        node.set_next(self.head)\n",
    "        self.head = node\n",
    "        return self\n",
    "\n",
    "    def size(self):\n",
    "        \"\"\"\n",
    "        traverse the linked list and keep a count \n",
    "        of the number of nodes that occurred\n",
    "        \"\"\"\n",
    "        count = 0\n",
    "        current = self.head\n",
    "        while current is not None:\n",
    "            count += 1\n",
    "            current = current.get_next()\n",
    "\n",
    "        return count\n",
    "\n",
    "    def search(self, item):\n",
    "        \"\"\"\n",
    "        goes through the entire list to check\n",
    "        and see there's a matched value\n",
    "        \"\"\"\n",
    "        found = False\n",
    "        current = self.head\n",
    "        while current is not None and not found:\n",
    "            if current.get_data() == item:\n",
    "                found = True\n",
    "            else:\n",
    "                current = current.get_next()\n",
    "\n",
    "        return found\n",
    "    \n",
    "    def delete(self, item):\n",
    "        \"\"\"\n",
    "        traverses the list in the same way that search does,\n",
    "        but this time we keep track of the current node and the previous node.\n",
    "        When delete finally arrives at the node it wants to delete, \n",
    "        it looks at the previous node and resets that previous node’s pointer \n",
    "        so that, rather than pointing to the soon-to-be-deleted node, \n",
    "        it will point to the next node in line;\n",
    "        this assumes item is in the list\n",
    "        \"\"\"\n",
    "        found = False\n",
    "        previous = None\n",
    "        current = self.head\n",
    "        while current is not None and not found:\n",
    "            if current.get_data() == item:\n",
    "                found = True\n",
    "            else:\n",
    "                previous = current\n",
    "                current = current.get_next()\n",
    "        \n",
    "        # note this assumes the item is in the list,\n",
    "        # if not we'll have to write another if else statement\n",
    "        # here to handle it\n",
    "        if previous is None:\n",
    "            # handle cases where the first item is deleted,\n",
    "            # i.e. where we are modifying the head\n",
    "            self.head = current.get_next()\n",
    "        else:\n",
    "            previous.set_next(current.get_next())\n",
    "\n",
    "        return self\n",
    "\n",
    "    def __repr__(self):\n",
    "        value = []\n",
    "        current = self.head\n",
    "        while current is not None:\n",
    "            data = str(current.get_data())\n",
    "            value.append(data)\n",
    "            current = current.get_next()\n",
    "\n",
    "        return '[' + ', '.join(value) + ']'"
   ]
  },
  {
   "cell_type": "code",
   "execution_count": 18,
   "metadata": {},
   "outputs": [
    {
     "name": "stdout",
     "output_type": "stream",
     "text": [
      "False\n"
     ]
    },
    {
     "data": {
      "text/plain": [
       "[91, 31]"
      ]
     },
     "execution_count": 18,
     "metadata": {},
     "output_type": "execute_result"
    }
   ],
   "source": [
    "mylist = UnorderedList()\n",
    "mylist.add(31)\n",
    "mylist.add(17)\n",
    "mylist.add(91)\n",
    "mylist.delete(17)\n",
    "print(mylist.search(35))\n",
    "mylist"
   ]
  },
  {
   "cell_type": "markdown",
   "metadata": {},
   "source": [
    "# Ordered (Linked)List\n",
    "\n",
    "Following [Implementing an Ordered List](http://interactivepython.org/runestone/static/pythonds/BasicDS/ImplementinganOrderedList.html). As the name suggests, compared to unordered linkedlist, the elements will always be ordered for a ordered linked list. The `is_empty` and `size` method are exactly the same as the unordered linkedlist as they don't have anything to do with the actual item in the list."
   ]
  },
  {
   "cell_type": "code",
   "execution_count": 19,
   "metadata": {},
   "outputs": [],
   "source": [
    "class OrderedList:\n",
    "    def __init__(self):\n",
    "        self.head = None\n",
    "        \n",
    "    def add(self, item):\n",
    "        \"\"\"\n",
    "        takes data, initializes a new node with the given data\n",
    "        and add it to the list while maintaining relative order\n",
    "        \"\"\"\n",
    "        \n",
    "        # stop when the current node is larger than the item\n",
    "        stop = False\n",
    "        previous = None\n",
    "        current = self.head\n",
    "        while current is not None and not stop:\n",
    "            if current.get_data() > item:\n",
    "                stop = True\n",
    "            else:\n",
    "                previous = current\n",
    "                current = current.get_next()\n",
    "        \n",
    "        # check whether it will be added to the head\n",
    "        # or somewhether in the middle and handle\n",
    "        # both cases\n",
    "        node = Node(item)\n",
    "        if previous is None:\n",
    "            node.set_next(self.head)\n",
    "            self.head = node\n",
    "        else:\n",
    "            previous.set_next(node)\n",
    "            node.set_next(current)\n",
    "\n",
    "        return self\n",
    "    \n",
    "    def search(self, item):\n",
    "        \"\"\"\n",
    "        goes through the entire list to check\n",
    "        and see there's a matched value, but\n",
    "        we can stop if the current node's value\n",
    "        is greater than item since the list is sorted\n",
    "        \"\"\"\n",
    "        stop = False\n",
    "        found = False\n",
    "        current = self.head\n",
    "        while current is not None and not found and not stop:\n",
    "            if current.get_data() == item:\n",
    "                found = True\n",
    "            else:\n",
    "                if current.get_data() > item:\n",
    "                    stop = True\n",
    "                else:\n",
    "                    current = current.get_next()\n",
    "\n",
    "        return found\n",
    "    \n",
    "    def __repr__(self):\n",
    "        value = []\n",
    "        current = self.head\n",
    "        while current is not None:\n",
    "            data = str(current.get_data())\n",
    "            value.append(data)\n",
    "            current = current.get_next()\n",
    "\n",
    "        return '[' + ', '.join(value) + ']'"
   ]
  },
  {
   "cell_type": "code",
   "execution_count": 20,
   "metadata": {},
   "outputs": [
    {
     "name": "stdout",
     "output_type": "stream",
     "text": [
      "True\n"
     ]
    },
    {
     "data": {
      "text/plain": [
       "[17, 31, 77]"
      ]
     },
     "execution_count": 20,
     "metadata": {},
     "output_type": "execute_result"
    }
   ],
   "source": [
    "mylist = OrderedList()\n",
    "mylist.add(17)\n",
    "mylist.add(77)\n",
    "mylist.add(31)\n",
    "print(mylist.search(31))\n",
    "mylist"
   ]
  },
  {
   "cell_type": "markdown",
   "metadata": {},
   "source": [
    "# References"
   ]
  },
  {
   "cell_type": "markdown",
   "metadata": {},
   "source": [
    "<div class=\"alert alert-warning\">\n",
    "<font color=black>\n",
    "\n",
    "- https://www.thoughtco.com/definition-of-stack-in-programming-958162 \n",
    "- https://runestone.academy/runestone/books/published/pythonds/BasicDS/WhatisaStack.html\n",
    "- https://github.com/ethen8181/machine-learning/blob/master/python/algorithms/basic_data_structure.ipynb\n",
    "- https://www.datacamp.com/community/tutorials/data-structures-python\n",
    "\n",
    "</font>\n",
    "</div>"
   ]
  },
  {
   "cell_type": "code",
   "execution_count": null,
   "metadata": {},
   "outputs": [],
   "source": []
  }
 ],
 "metadata": {
  "anaconda-cloud": {},
  "kernelspec": {
   "display_name": "Python 3",
   "language": "python",
   "name": "python3"
  },
  "language_info": {
   "codemirror_mode": {
    "name": "ipython",
    "version": 3
   },
   "file_extension": ".py",
   "mimetype": "text/x-python",
   "name": "python",
   "nbconvert_exporter": "python",
   "pygments_lexer": "ipython3",
   "version": "3.7.3"
  },
  "toc": {
   "nav_menu": {
    "height": "92px",
    "width": "254px"
   },
   "number_sections": true,
   "sideBar": true,
   "skip_h1_title": false,
   "title_cell": "Table of Contents",
   "title_sidebar": "Contents",
   "toc_cell": false,
   "toc_position": {},
   "toc_section_display": "block",
   "toc_window_display": true
  },
  "varInspector": {
   "cols": {
    "lenName": 16,
    "lenType": 16,
    "lenVar": 40
   },
   "kernels_config": {
    "python": {
     "delete_cmd_postfix": "",
     "delete_cmd_prefix": "del ",
     "library": "var_list.py",
     "varRefreshCmd": "print(var_dic_list())"
    },
    "r": {
     "delete_cmd_postfix": ") ",
     "delete_cmd_prefix": "rm(",
     "library": "var_list.r",
     "varRefreshCmd": "cat(var_dic_list()) "
    }
   },
   "types_to_exclude": [
    "module",
    "function",
    "builtin_function_or_method",
    "instance",
    "_Feature"
   ],
   "window_display": false
  }
 },
 "nbformat": 4,
 "nbformat_minor": 1
}
