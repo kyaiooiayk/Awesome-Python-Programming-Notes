{
 "cells": [
  {
   "cell_type": "markdown",
   "metadata": {
    "toc": true
   },
   "source": [
    "<h1>Table of Contents<span class=\"tocSkip\"></span></h1>\n",
    "<div class=\"toc\"><ul class=\"toc-item\"><li><span><a href=\"#Introduction\" data-toc-modified-id=\"Introduction-1\"><span class=\"toc-item-num\">1&nbsp;&nbsp;</span>Introduction</a></span></li><li><span><a href=\"#Using-C-style-string-formatting\" data-toc-modified-id=\"Using-C-style-string-formatting-2\"><span class=\"toc-item-num\">2&nbsp;&nbsp;</span>Using C-style string formatting</a></span></li><li><span><a href=\"#Using-the-Python-3-.format-method-from-strings\" data-toc-modified-id=\"Using-the-Python-3-.format-method-from-strings-3\"><span class=\"toc-item-num\">3&nbsp;&nbsp;</span>Using the Python 3 <code>.format</code> method from strings</a></span></li><li><span><a href=\"#Using-f-strings,-from-Python-3.6+\" data-toc-modified-id=\"Using-f-strings,-from-Python-3.6+-4\"><span class=\"toc-item-num\">4&nbsp;&nbsp;</span>Using f-strings, from Python 3.6+</a></span></li><li><span><a href=\"#Conclusions\" data-toc-modified-id=\"Conclusions-5\"><span class=\"toc-item-num\">5&nbsp;&nbsp;</span>Conclusions</a></span></li><li><span><a href=\"#References\" data-toc-modified-id=\"References-6\"><span class=\"toc-item-num\">6&nbsp;&nbsp;</span>References</a></span></li></ul></div>"
   ]
  },
  {
   "cell_type": "markdown",
   "metadata": {},
   "source": [
    "# Introduction\n",
    "<hr style = \"border:2px solid black\" ></hr>"
   ]
  },
  {
   "cell_type": "markdown",
   "metadata": {},
   "source": [
    "<div class=\"alert alert-block alert-warning\">\n",
    "<font color=black>\n",
    "\n",
    "**What?** String formatting\n",
    "\n",
    "</font>\n",
    "</div>"
   ]
  },
  {
   "cell_type": "markdown",
   "metadata": {},
   "source": [
    "# Using C-style string formatting\n",
    "<hr style = \"border:2px solid black\" ></hr>"
   ]
  },
  {
   "cell_type": "markdown",
   "metadata": {},
   "source": [
    "<div class=\"alert alert-info\">\n",
    "<font color=black>\n",
    "\n",
    "- This string formatting, borrowed from the similar C syntax.\n",
    "\n",
    "- The C-style formatting, which is the one that has been around the longer, is characterised by a series of percent signs (\"%\") that show up in the template strings. (By “template strings”, I mean the strings in which we want to fill in the gaps.)\n",
    "\n",
    "- These percent signs indicate the places where the bits of information should go, and the character that\n",
    "comes next (above, we’ve seen \"%s\" and \"%d\") determine how the information being passed in is treated.\n",
    "\n",
    "</font>\n",
    "</div>"
   ]
  },
  {
   "cell_type": "code",
   "execution_count": 4,
   "metadata": {
    "ExecuteTime": {
     "end_time": "2022-09-03T13:23:34.731159Z",
     "start_time": "2022-09-03T13:23:34.726531Z"
    }
   },
   "outputs": [
    {
     "data": {
      "text/plain": [
       "'Python rocks! Did you know that Python has around 10 users?!'"
      ]
     },
     "execution_count": 4,
     "metadata": {},
     "output_type": "execute_result"
    }
   ],
   "source": [
    "def language_info_cstyle(language, users_estimate):\n",
    "    return (\n",
    "        \"%s rocks! Did you know that %s has around %d users?!\" %\n",
    "        (language, language, users_estimate)\n",
    "    )\n",
    "\n",
    "\n",
    "language_info_cstyle(\"Python\", 10)"
   ]
  },
  {
   "cell_type": "markdown",
   "metadata": {},
   "source": [
    "# Using the Python 3 `.format` method from strings\n",
    "<hr style = \"border:2px solid black\" ></hr>"
   ]
  },
  {
   "cell_type": "markdown",
   "metadata": {},
   "source": [
    "<div class=\"alert alert-info\">\n",
    "<font color=black>\n",
    "\n",
    "- This string formatting was introduced in PEP 3101.\n",
    "\n",
    "- The string method .format is, like the name suggests, a method of the string type. This means that you typically have a format string and, when you get access to the missing pieces of information, you just call the .format method on that string.\n",
    "\n",
    "- Strings that use the method .format for formatting are typically characterised by the occurrence of a series of curly braces \"{}\" within the string. It is also common to find that the method .format is called where/when the string literal is defined.\n",
    "\n",
    "</font>\n",
    "</div>"
   ]
  },
  {
   "cell_type": "code",
   "execution_count": 5,
   "metadata": {
    "ExecuteTime": {
     "end_time": "2022-09-03T13:23:35.596475Z",
     "start_time": "2022-09-03T13:23:35.592118Z"
    }
   },
   "outputs": [
    {
     "data": {
      "text/plain": [
       "'Python rocks! Did you know that Python has around 10 users?!'"
      ]
     },
     "execution_count": 5,
     "metadata": {},
     "output_type": "execute_result"
    }
   ],
   "source": [
    "def language_info_format(language, users_estimate):\n",
    "\n",
    "    return \"{} rocks! Did you know that {} has around {} users?!\".format(\n",
    "        language, language, users_estimate\n",
    "    )\n",
    "\n",
    "\n",
    "language_info_format(\"Python\", 10)"
   ]
  },
  {
   "cell_type": "markdown",
   "metadata": {},
   "source": [
    "# Using f-strings, from Python 3.6+\n",
    "<hr style = \"border:2px solid black\" ></hr>"
   ]
  },
  {
   "cell_type": "markdown",
   "metadata": {},
   "source": [
    "<div class=\"alert alert-info\">\n",
    "<font color=black>\n",
    "\n",
    "\n",
    "- This string formatting which uses the new f-strings was introduced in PEP 498 for Python 3.6+.\n",
    "\n",
    "- Literal string interpolation is the process through which you interpolate values into strings. \n",
    "\n",
    "- Interpolate here means insert.\n",
    "    \n",
    "</font>\n",
    "</div>"
   ]
  },
  {
   "cell_type": "code",
   "execution_count": 6,
   "metadata": {
    "ExecuteTime": {
     "end_time": "2022-09-03T13:24:27.058331Z",
     "start_time": "2022-09-03T13:24:27.054268Z"
    }
   },
   "outputs": [
    {
     "data": {
      "text/plain": [
       "'Python rocks! Did you know that Python has around 10 users?!'"
      ]
     },
     "execution_count": 6,
     "metadata": {},
     "output_type": "execute_result"
    }
   ],
   "source": [
    "def language_info_fstring(language, users_estimate):\n",
    "    return (\n",
    "        f\"{language} rocks! Did you know that {language}\" +\n",
    "        f\" has around {users_estimate} users?!\"\n",
    "    )\n",
    "\n",
    "\n",
    "language_info_fstring(\"Python\", 10)"
   ]
  },
  {
   "cell_type": "markdown",
   "metadata": {},
   "source": [
    "# Conclusions\n",
    "<hr style = \"border:2px solid black\" ></hr>"
   ]
  },
  {
   "cell_type": "markdown",
   "metadata": {},
   "source": [
    "\n",
    "<div class=\"alert alert-danger\">\n",
    "<font color=black>\n",
    "\n",
    "- Don’t use old-style string formatting: use `f-strings` whenever possible, and then `.format` in the\n",
    "other occasions.\n",
    "\n",
    "</font>\n",
    "</div>"
   ]
  },
  {
   "cell_type": "markdown",
   "metadata": {},
   "source": [
    "# References\n",
    "<hr style = \"border:2px solid black\" ></hr>"
   ]
  },
  {
   "cell_type": "markdown",
   "metadata": {},
   "source": [
    "<div class=\"alert alert-block alert-warning\">\n",
    "<font color=black>\n",
    "\n",
    "- https://mathspp.com/blog/pydonts\n",
    "    \n",
    "</font>\n",
    "</div>"
   ]
  },
  {
   "cell_type": "code",
   "execution_count": null,
   "metadata": {},
   "outputs": [],
   "source": []
  }
 ],
 "metadata": {
  "anaconda-cloud": {},
  "kernelspec": {
   "display_name": "Python 3 (ipykernel)",
   "language": "python",
   "name": "python3"
  },
  "language_info": {
   "codemirror_mode": {
    "name": "ipython",
    "version": 3
   },
   "file_extension": ".py",
   "mimetype": "text/x-python",
   "name": "python",
   "nbconvert_exporter": "python",
   "pygments_lexer": "ipython3",
   "version": "3.9.7"
  },
  "toc": {
   "base_numbering": 1,
   "nav_menu": {},
   "number_sections": true,
   "sideBar": true,
   "skip_h1_title": false,
   "title_cell": "Table of Contents",
   "title_sidebar": "Contents",
   "toc_cell": true,
   "toc_position": {},
   "toc_section_display": true,
   "toc_window_display": true
  },
  "varInspector": {
   "cols": {
    "lenName": 16,
    "lenType": 16,
    "lenVar": 40
   },
   "kernels_config": {
    "python": {
     "delete_cmd_postfix": "",
     "delete_cmd_prefix": "del ",
     "library": "var_list.py",
     "varRefreshCmd": "print(var_dic_list())"
    },
    "r": {
     "delete_cmd_postfix": ") ",
     "delete_cmd_prefix": "rm(",
     "library": "var_list.r",
     "varRefreshCmd": "cat(var_dic_list()) "
    }
   },
   "types_to_exclude": [
    "module",
    "function",
    "builtin_function_or_method",
    "instance",
    "_Feature"
   ],
   "window_display": false
  }
 },
 "nbformat": 4,
 "nbformat_minor": 1
}
