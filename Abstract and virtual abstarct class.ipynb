{
 "cells": [
  {
   "cell_type": "markdown",
   "metadata": {},
   "source": [
    "# Introduction"
   ]
  },
  {
   "cell_type": "markdown",
   "metadata": {},
   "source": [
    "<div class=\"alert alert-warning\">\n",
    "<font color=black>\n",
    "\n",
    "**What?** Abstract and virtual abstarct class\n",
    "\n",
    "</font>\n",
    "</div>"
   ]
  },
  {
   "cell_type": "markdown",
   "metadata": {},
   "source": [
    "# What an abstract class is?"
   ]
  },
  {
   "cell_type": "markdown",
   "metadata": {},
   "source": [
    "<div class=\"alert alert-info\">\n",
    "<font color=black>\n",
    "\n",
    "- A class is called an **abstract class** if it contains some abstract methods.\n",
    "- An **abstract method** is a method that is declared, but contains no implementation. \n",
    "- Abstract classes may not be instantiated, and its abstract methods must be implemented by its subclasses.\n",
    "- **When are they used?** Abstract base classes provide a way to define **interfaces** when other techniques like hasattr() would be clumsy or subtly wrong\n",
    "\n",
    "</font>\n",
    "</div>"
   ]
  },
  {
   "cell_type": "markdown",
   "metadata": {},
   "source": [
    "# What is a virtual abstarct class?"
   ]
  },
  {
   "cell_type": "markdown",
   "metadata": {},
   "source": [
    "<div class=\"alert alert-info\">\n",
    "<font color=black>\n",
    "\n",
    "- It is everything tha a normal abstact class is but it contains at least one virtual method. \n",
    "\n",
    "</font>\n",
    "</div>"
   ]
  },
  {
   "cell_type": "markdown",
   "metadata": {},
   "source": [
    "# Example #1"
   ]
  },
  {
   "cell_type": "markdown",
   "metadata": {},
   "source": [
    "<div class=\"alert alert-info\">\n",
    "<font color=black>\n",
    "\n",
    "- The abc module defines ABCMeta class which is a metaclass for defining abstract base class. Following example defines Shape class as an abstract base class using ABCMeta. \n",
    "\n",
    "\n",
    "- The shape class has area() method decorated by abstractmethod.\n",
    "- A Rectangle class now uses above Shape class as its parent and implementing the abstract `area()` method. Since it is a concrete class, it can be instantiated and an implemented `area()` method can be called. \n",
    "\n",
    "</font>\n",
    "</div>"
   ]
  },
  {
   "cell_type": "code",
   "execution_count": 1,
   "metadata": {},
   "outputs": [],
   "source": [
    "import abc\n",
    "\n",
    "\n",
    "class Shape(metaclass=abc.ABCMeta):\n",
    "    @abc.abstractmethod\n",
    "    def area(self):\n",
    "        pass"
   ]
  },
  {
   "cell_type": "code",
   "execution_count": 2,
   "metadata": {},
   "outputs": [],
   "source": [
    "class Rectangle(Shape):\n",
    "    def __init__(self, x, y):\n",
    "        self.l = x\n",
    "        self.b = y\n",
    "\n",
    "    def area(self):\n",
    "        return self.l*self.b"
   ]
  },
  {
   "cell_type": "code",
   "execution_count": 3,
   "metadata": {},
   "outputs": [
    {
     "name": "stdout",
     "output_type": "stream",
     "text": [
      "area:  200\n"
     ]
    }
   ],
   "source": [
    "r = Rectangle(10,20)\n",
    "print ('area: ', r.area())"
   ]
  },
  {
   "cell_type": "markdown",
   "metadata": {},
   "source": [
    "# Example #2"
   ]
  },
  {
   "cell_type": "markdown",
   "metadata": {},
   "source": [
    "<div class=\"alert alert-info\">\n",
    "<font color=black>\n",
    "\n",
    "- Let us say we run a dealeship and trade car, truck and motorcycles. If we want to create a sale system how would it look like?\n",
    "- We'll create the final model in following these steps:\n",
    "    - Create separate classes.\n",
    "    - Simplify them via inheritance using an abstarct class.\n",
    "\n",
    "</font>\n",
    "</div>"
   ]
  },
  {
   "cell_type": "code",
   "execution_count": 1,
   "metadata": {},
   "outputs": [],
   "source": [
    "class Car(object):\n",
    "\n",
    "    def __init__(self, wheels, miles, make, model, year):\n",
    "        self.wheels = wheels\n",
    "        self.make = make\n",
    "        self.model = model\n",
    "        self.miles = miles\n",
    "        self.year = year\n",
    "\n",
    "    def sale_price():\n",
    "        \"\"\"\n",
    "        We charge a flat rate of 5k per wheels\n",
    "        \"\"\"\n",
    "        return 5000.0 * sel.wheels\n",
    "\n",
    "    def purchaise_price(self):\n",
    "        \"\"\"\n",
    "        We buy back according to the miles the car has\n",
    "        \"\"\"\n",
    "        return 8000.0 - (.1 * self.miles)"
   ]
  },
  {
   "cell_type": "code",
   "execution_count": 2,
   "metadata": {},
   "outputs": [],
   "source": [
    "class Truck(object):\n",
    "\n",
    "    def __init__(self, wheels, miles, make, model, year):\n",
    "        self.wheels = wheels\n",
    "        self.make = make\n",
    "        self.model = model\n",
    "        self.miles = miles\n",
    "        self.year = year\n",
    "\n",
    "    def sale_price():\n",
    "        \"\"\"\n",
    "        We charge a flat rate of 5k per wheels\n",
    "        \"\"\"\n",
    "        return 5000.0 * sel.wheels\n",
    "\n",
    "    def purchaise_price(self):\n",
    "        \"\"\"\n",
    "        We buy back according to the miles the car has\n",
    "        \"\"\"\n",
    "        return 10000.0 - (.1 * self.miles)"
   ]
  },
  {
   "cell_type": "markdown",
   "metadata": {},
   "source": [
    "<div class=\"alert alert-info\">\n",
    "<font color=black>\n",
    "\n",
    "- We create two class, but we ended up repeating a lot of code?\n",
    "- **How can we improve it?** First of all we can look for abstraction material! This means to look for something that is in common and try ti abstarct this away.\n",
    "-  This can be done by noticing that cars and trucks can be considerd as a vehicles. All vechicles have something in common and this can be used to create a more abstract class.\n",
    "\n",
    "</font>\n",
    "</div>"
   ]
  },
  {
   "cell_type": "code",
   "execution_count": 20,
   "metadata": {},
   "outputs": [],
   "source": [
    "class Vehicle(object):\n",
    "\n",
    "    base_sale_price = 0.0\n",
    "\n",
    "    def __init__(self, wheels, miles, make, model, year):\n",
    "        self.wheels = wheels\n",
    "        self.make = make\n",
    "        self.model = model\n",
    "        self.miles = miles\n",
    "        self.year = year\n",
    "\n",
    "    def sale_price():\n",
    "        \"\"\"\n",
    "        We charge a flat rate of 5k per wheels\n",
    "        \"\"\"\n",
    "        return 5000.0 * sel.wheels\n",
    "\n",
    "    def purchaise_price(self):\n",
    "        \"\"\"\n",
    "        We buy back according to the miles the car has\n",
    "        \"\"\"\n",
    "        return self.base_sale_price - (.1 * self.miles)"
   ]
  },
  {
   "cell_type": "markdown",
   "metadata": {},
   "source": [
    "<div class=\"alert alert-info\">\n",
    "<font color=black>\n",
    "\n",
    "- Look how we have created a class attribute `base_sale_price` to help us distinguish a car from a truck.\n",
    "- Writing `Car(Vehicle)` mean we are creating a class that inherits from the inherited class `Vehicle`.\n",
    "\n",
    "</font>\n",
    "</div>"
   ]
  },
  {
   "cell_type": "code",
   "execution_count": 21,
   "metadata": {},
   "outputs": [],
   "source": [
    "class Car(Vehicle):\n",
    "    def __init(self, wheels, miles, make, model, year):\n",
    "        self.wheels = wheels\n",
    "        self.make = make\n",
    "        self.model = model\n",
    "        self.miles = miles\n",
    "        self.year = year\n",
    "        self.based_sale_price = 8000\n",
    "\n",
    "\n",
    "class Car(Vehicle):\n",
    "    def __init(self, wheels, miles, make, model, year):\n",
    "        self.wheels = wheels\n",
    "        self.make = make\n",
    "        self.model = model\n",
    "        self.miles = miles\n",
    "        self.year = year\n",
    "        self.based_sale_price = 10000"
   ]
  },
  {
   "cell_type": "markdown",
   "metadata": {},
   "source": [
    "<div class=\"alert alert-info\">\n",
    "<font color=black>\n",
    "\n",
    "- We've cleaned up a bit the code but there are still two things that are not as polished as we'd like them to be.\n",
    "- **Frist** There is still some repeated code.\n",
    "- **Secondly** You can still create an obkect fromfrom the `Vehicle` class. A vechicle should not have a `base_sale_price`, only Car or Truck do.\n",
    "- `Vehicle` should really be an abstarct class.\n",
    "\n",
    "</font>\n",
    "</div>"
   ]
  },
  {
   "cell_type": "code",
   "execution_count": 22,
   "metadata": {},
   "outputs": [
    {
     "data": {
      "text/plain": [
       "0.0"
      ]
     },
     "execution_count": 22,
     "metadata": {},
     "output_type": "execute_result"
    }
   ],
   "source": [
    "# You can still do this\n",
    "v = Vehicle(4, 0, \"Honda\", \"Accord\", 2014)\n",
    "# but although we get purchaise price. does it make sense?\n",
    "v.purchaise_price()"
   ]
  },
  {
   "cell_type": "markdown",
   "metadata": {},
   "source": [
    "<div class=\"alert alert-info\">\n",
    "<font color=black>\n",
    "\n",
    "- It makes sense to disallow `Vehicle(4, 0, \"Honda\", \"Accord\", 2014)` as we only wanted to abstract away some common data and behaviour.\n",
    "- A class that contains at list one **virtual method** is called metaclass.\n",
    "- A virtual method is one that the abstract class says must exhist in child classes, but does not necessarily implement something.\n",
    "\n",
    "</font>\n",
    "</div>"
   ]
  },
  {
   "cell_type": "code",
   "execution_count": 40,
   "metadata": {},
   "outputs": [],
   "source": [
    "import abc\n",
    "\n",
    "\n",
    "class Vehicle(metaclass=abc.ABCMeta):\n",
    "\n",
    "    # These are two class attribute that depends on the type of object\n",
    "    base_sale_price = 0.0\n",
    "    wheels = 0\n",
    "\n",
    "    def __init__(self, wheels, miles, make, model, year):\n",
    "        self.wheels = wheels\n",
    "        self.make = make\n",
    "        self.model = model\n",
    "        self.miles = miles\n",
    "        self.year = year\n",
    "\n",
    "    def sale_price():\n",
    "        \"\"\"\n",
    "        We charge a flat rate of 5k per wheels\n",
    "        \"\"\"\n",
    "        return 5000.0 * sel.wheels\n",
    "\n",
    "    def purchaise_price(self):\n",
    "        \"\"\"\n",
    "        We buy back according to the miles the car has\n",
    "        \"\"\"\n",
    "        return self.base_sale_price - (.1 * self.miles)\n",
    "\n",
    "    @abstractmethod\n",
    "    def vehicle_type():\n",
    "        \"\"\"\n",
    "        Returns a string representing the type of vehicle this is.\n",
    "        This will be defined in the derived class\n",
    "        \"\"\"\n",
    "        pass"
   ]
  },
  {
   "cell_type": "code",
   "execution_count": 41,
   "metadata": {},
   "outputs": [
    {
     "ename": "TypeError",
     "evalue": "Can't instantiate abstract class Vehicle with abstract methods vehicle_type",
     "output_type": "error",
     "traceback": [
      "\u001b[0;31m---------------------------------------------------------------------------\u001b[0m",
      "\u001b[0;31mTypeError\u001b[0m                                 Traceback (most recent call last)",
      "\u001b[0;32m<ipython-input-41-58d5208b449c>\u001b[0m in \u001b[0;36m<module>\u001b[0;34m\u001b[0m\n\u001b[1;32m      1\u001b[0m \u001b[0;31m# Now you can see how this will throw an error. This ie exactly what we wanted\u001b[0m\u001b[0;34m\u001b[0m\u001b[0;34m\u001b[0m\u001b[0;34m\u001b[0m\u001b[0m\n\u001b[0;32m----> 2\u001b[0;31m \u001b[0mv\u001b[0m \u001b[0;34m=\u001b[0m \u001b[0mVehicle\u001b[0m\u001b[0;34m(\u001b[0m\u001b[0;36m4\u001b[0m\u001b[0;34m,\u001b[0m \u001b[0;36m0\u001b[0m\u001b[0;34m,\u001b[0m \u001b[0;34m\"Honda\"\u001b[0m\u001b[0;34m,\u001b[0m \u001b[0;34m\"Accord\"\u001b[0m\u001b[0;34m,\u001b[0m \u001b[0;36m2014\u001b[0m\u001b[0;34m)\u001b[0m\u001b[0;34m\u001b[0m\u001b[0;34m\u001b[0m\u001b[0m\n\u001b[0m",
      "\u001b[0;31mTypeError\u001b[0m: Can't instantiate abstract class Vehicle with abstract methods vehicle_type"
     ]
    }
   ],
   "source": [
    "# Now you can see how this will throw an error. This ie exactly what we wanted\n",
    "v = Vehicle(4, 0, \"Honda\", \"Accord\", 2014)"
   ]
  },
  {
   "cell_type": "code",
   "execution_count": 45,
   "metadata": {},
   "outputs": [],
   "source": [
    "class Car(Vehicle):\n",
    "    def __init__(self):\n",
    "        wheels = 4\n",
    "        based_sale_price = 8000\n",
    "\n",
    "    def vehicle_type():\n",
    "        \"\"\"\n",
    "        Returns a string representing the type of vehicle this is.\n",
    "        \"\"\"\n",
    "        return \"car\"\n",
    "\n",
    "\n",
    "class Truck(Vehicle):\n",
    "    def __init__(self, wheels, miles, make, model, year):\n",
    "        wheels = 6\n",
    "        based_sale_price = 10000\n",
    "\n",
    "    def vehicle_type():\n",
    "        \"\"\"\n",
    "        Returns a string representing the type of vehicle this is.\n",
    "        \"\"\"\n",
    "        return \"truck\"\n",
    "\n",
    "\n",
    "class Motorcycle(Vehicle):\n",
    "    def __init__(self, wheels, miles, make, model, year):\n",
    "        wheels = 2\n",
    "        based_sale_price = 4000\n",
    "\n",
    "    def vehicle_type():\n",
    "        \"\"\"\n",
    "        Returns a string representing the type of vehicle this is.\n",
    "        \"\"\"\n",
    "        return \"motorcycle\""
   ]
  },
  {
   "cell_type": "markdown",
   "metadata": {},
   "source": [
    "# Conclusions"
   ]
  },
  {
   "cell_type": "markdown",
   "metadata": {},
   "source": [
    "<div class=\"alert alert-danger\">\n",
    "<font color=black>\n",
    "\n",
    "- Remember that getting rid of ducplicates is a side effect of inheritance.\n",
    "- When using inheritance, what we are really doing ispproviding the proper level of **abstraction**. \n",
    "- Abstract class is **different** from virtual abstract class.\n",
    "\n",
    "</font>\n",
    "</div>"
   ]
  },
  {
   "cell_type": "markdown",
   "metadata": {},
   "source": [
    "# References"
   ]
  },
  {
   "cell_type": "markdown",
   "metadata": {},
   "source": [
    "<div class=\"alert alert-warning\">\n",
    "<font color=black>\n",
    "\n",
    "- https://www.tutorialspoint.com/abstract-base-classes-in-python-abc\n",
    "- Jeff Knupp, Everything I know about Python. No longer available online.\n",
    "\n",
    "</font>\n",
    "</div>"
   ]
  },
  {
   "cell_type": "code",
   "execution_count": null,
   "metadata": {},
   "outputs": [],
   "source": []
  }
 ],
 "metadata": {
  "kernelspec": {
   "display_name": "trainingAI",
   "language": "python",
   "name": "trainingai"
  },
  "language_info": {
   "codemirror_mode": {
    "name": "ipython",
    "version": 3
   },
   "file_extension": ".py",
   "mimetype": "text/x-python",
   "name": "python",
   "nbconvert_exporter": "python",
   "pygments_lexer": "ipython3",
   "version": "3.9.7"
  },
  "toc": {
   "base_numbering": 1,
   "nav_menu": {},
   "number_sections": true,
   "sideBar": true,
   "skip_h1_title": false,
   "title_cell": "Table of Contents",
   "title_sidebar": "Contents",
   "toc_cell": false,
   "toc_position": {},
   "toc_section_display": true,
   "toc_window_display": true
  },
  "varInspector": {
   "cols": {
    "lenName": 16,
    "lenType": 16,
    "lenVar": 40
   },
   "kernels_config": {
    "python": {
     "delete_cmd_postfix": "",
     "delete_cmd_prefix": "del ",
     "library": "var_list.py",
     "varRefreshCmd": "print(var_dic_list())"
    },
    "r": {
     "delete_cmd_postfix": ") ",
     "delete_cmd_prefix": "rm(",
     "library": "var_list.r",
     "varRefreshCmd": "cat(var_dic_list()) "
    }
   },
   "types_to_exclude": [
    "module",
    "function",
    "builtin_function_or_method",
    "instance",
    "_Feature"
   ],
   "window_display": false
  }
 },
 "nbformat": 4,
 "nbformat_minor": 2
}
