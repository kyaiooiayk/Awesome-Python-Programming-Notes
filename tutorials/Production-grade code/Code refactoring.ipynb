{
 "cells": [
  {
   "cell_type": "markdown",
   "id": "5f943388",
   "metadata": {
    "toc": true
   },
   "source": [
    "<h1>Table of Contents<span class=\"tocSkip\"></span></h1>\n",
    "<div class=\"toc\"><ul class=\"toc-item\"><li><span><a href=\"#Introduction\" data-toc-modified-id=\"Introduction-1\"><span class=\"toc-item-num\">1&nbsp;&nbsp;</span>Introduction</a></span></li><li><span><a href=\"#What-is-it?\" data-toc-modified-id=\"What-is-it?-2\"><span class=\"toc-item-num\">2&nbsp;&nbsp;</span>What is it?</a></span></li><li><span><a href=\"#Task\" data-toc-modified-id=\"Task-3\"><span class=\"toc-item-num\">3&nbsp;&nbsp;</span>Task</a></span></li><li><span><a href=\"#Refactor-step-#1---automatic-style-formatting\" data-toc-modified-id=\"Refactor-step-#1---automatic-style-formatting-4\"><span class=\"toc-item-num\">4&nbsp;&nbsp;</span>Refactor step #1 - automatic style formatting</a></span></li><li><span><a href=\"#Refactor-step-#2---Naming\" data-toc-modified-id=\"Refactor-step-#2---Naming-5\"><span class=\"toc-item-num\">5&nbsp;&nbsp;</span>Refactor step #2 - Naming</a></span></li><li><span><a href=\"#Refactor-step-#3---Traversing-data-and-indices\" data-toc-modified-id=\"Refactor-step-#3---Traversing-data-and-indices-6\"><span class=\"toc-item-num\">6&nbsp;&nbsp;</span>Refactor step #3 - Traversing data and indices</a></span></li><li><span><a href=\"#Refactor-step-#4---Nest-only-what-is-needed\" data-toc-modified-id=\"Refactor-step-#4---Nest-only-what-is-needed-7\"><span class=\"toc-item-num\">7&nbsp;&nbsp;</span>Refactor step #4 - Nest only what is needed</a></span></li><li><span><a href=\"#Refactor-step-#5---Conditional-assignment-and-conditional-expressions\" data-toc-modified-id=\"Refactor-step-#5---Conditional-assignment-and-conditional-expressions-8\"><span class=\"toc-item-num\">8&nbsp;&nbsp;</span>Refactor step #5 - Conditional assignment and conditional expressions</a></span></li><li><span><a href=\"#Refactor-step-#6---Truthy-and-Falsy\" data-toc-modified-id=\"Refactor-step-#6---Truthy-and-Falsy-9\"><span class=\"toc-item-num\">9&nbsp;&nbsp;</span>Refactor step #6 - Truthy and Falsy</a></span></li><li><span><a href=\"#Refactor-step-#7---List-comprehensions-versus-appending\" data-toc-modified-id=\"Refactor-step-#7---List-comprehensions-versus-appending-10\"><span class=\"toc-item-num\">10&nbsp;&nbsp;</span>Refactor step #7 - List comprehensions versus appending</a></span></li><li><span><a href=\"#Refactor-step-#8---Avoid-long-lines\" data-toc-modified-id=\"Refactor-step-#8---Avoid-long-lines-11\"><span class=\"toc-item-num\">11&nbsp;&nbsp;</span>Refactor step #8 - Avoid long lines</a></span></li><li><span><a href=\"#Refactor-step-#9---Auxiliary-variables\" data-toc-modified-id=\"Refactor-step-#9---Auxiliary-variables-12\"><span class=\"toc-item-num\">12&nbsp;&nbsp;</span>Refactor step #9 - Auxiliary variables</a></span></li><li><span><a href=\"#Refactor-step-#10---Reduntant-list-comprehensions\" data-toc-modified-id=\"Refactor-step-#10---Reduntant-list-comprehensions-13\"><span class=\"toc-item-num\">13&nbsp;&nbsp;</span>Refactor step #10 - Reduntant list comprehensions</a></span></li><li><span><a href=\"#References\" data-toc-modified-id=\"References-14\"><span class=\"toc-item-num\">14&nbsp;&nbsp;</span>References</a></span></li></ul></div>"
   ]
  },
  {
   "cell_type": "markdown",
   "id": "satellite-taste",
   "metadata": {},
   "source": [
    "# Introduction\n",
    "<hr style=\"border:2px solid black\"> </hr>"
   ]
  },
  {
   "cell_type": "markdown",
   "id": "90e8ffd3",
   "metadata": {},
   "source": [
    "<div class=\"alert alert-warning\">\n",
    "<font color=black>\n",
    "\n",
    "**What?** Code refactoring\n",
    "\n",
    "</font>\n",
    "</div>"
   ]
  },
  {
   "cell_type": "markdown",
   "id": "0cf31e28",
   "metadata": {},
   "source": [
    "# What is it?\n",
    "<hr style=\"border:2px solid black\"> </hr>"
   ]
  },
  {
   "cell_type": "markdown",
   "id": "85619f36",
   "metadata": {},
   "source": [
    "<div class=\"alert alert-info\">\n",
    "<font color=black>\n",
    "\n",
    "- Refactoring the source code of an application or piece of software aims to improve operation without altering functionality.\n",
    "    \n",
    "- Making your code better might mean different things:\n",
    "    - Easier to maintain\n",
    "    - Easier to explain\n",
    "    - Faster \n",
    "    - etc ...\n",
    "    \n",
    "</font>\n",
    "</div>"
   ]
  },
  {
   "cell_type": "markdown",
   "id": "a4528bc9",
   "metadata": {
    "ExecuteTime": {
     "end_time": "2022-08-27T09:00:07.192957Z",
     "start_time": "2022-08-27T09:00:07.189598Z"
    }
   },
   "source": [
    "# Task\n",
    "<hr style=\"border:2px solid black\"> </hr>"
   ]
  },
  {
   "cell_type": "markdown",
   "id": "aab1231d",
   "metadata": {},
   "source": [
    "<div class=\"alert alert-info\">\n",
    "<font color=black>\n",
    "\n",
    "- Write a function that changes the casing of its letters:\n",
    "    - letters in even positions should become uppercase\n",
    "    - letters in odd positions should become lowercase\n",
    "\n",
    "</font>\n",
    "</div>"
   ]
  },
  {
   "cell_type": "code",
   "execution_count": null,
   "id": "a35a76ec",
   "metadata": {},
   "outputs": [],
   "source": [
    "def myfunc(a): empty=[]\n",
    "    for i in range(len(a)): \n",
    "        if i%2==0:\n",
    "            empty.append(a[i].upper()) \n",
    "        else:\n",
    "            empty.append(a[i].lower()) \n",
    "    return \"\".join(empty)"
   ]
  },
  {
   "cell_type": "markdown",
   "id": "ea714709",
   "metadata": {},
   "source": [
    "# Refactor step #1 - automatic style formatting\n",
    "<hr style = \"border:2px solid black\" ></hr>"
   ]
  },
  {
   "cell_type": "markdown",
   "id": "68a3e9b5",
   "metadata": {},
   "source": [
    "<div class=\"alert alert-info\">\n",
    "<font color=black>\n",
    "\n",
    "- The very first step you can take towards writing code that is as elegant as possible is running an auto formatter. If you use `black`, for example, you can fix many style issues and inconsistencies right from the get-go.\n",
    "\n",
    "- Also, one could use `flake8` which does a little more than what `black` does. It will also suggest changes to your code.\n",
    "\n",
    "- In this particula case the only changes made was adding spaces around `=` and `==` which gives your code rooom to breath.\n",
    "\n",
    "\n",
    "</font>\n",
    "</div>"
   ]
  },
  {
   "cell_type": "code",
   "execution_count": null,
   "id": "6427d7d4",
   "metadata": {},
   "outputs": [],
   "source": [
    "def myfunc(a):\n",
    "    empty = []\n",
    "    for i in range(len(a)):\n",
    "        if i % 2 == 0:\n",
    "            empty.append(a[i].upper())\n",
    "        else:\n",
    "            empty.append(a[i].lower())\n",
    "\n",
    "    return \"\".join(empty)"
   ]
  },
  {
   "cell_type": "markdown",
   "id": "87a78a54",
   "metadata": {},
   "source": [
    "# Refactor step #2 - Naming\n",
    "<hr style = \"border:2px solid black\" ></hr>"
   ]
  },
  {
   "cell_type": "markdown",
   "id": "916c3cec",
   "metadata": {},
   "source": [
    "<div class=\"alert alert-info\">\n",
    "<font color=black>\n",
    "\n",
    "- Names should reflect the intent, or a very important property, of the thing they refer to. \n",
    "\n",
    "- Here are the changes one could use:\n",
    "    - myfunc -> alternate_casing\n",
    "    - a -> text\n",
    "    - empty -> letters\n",
    "    - i -> idx (because of my personal preference).\n",
    "\n",
    "- **On the index `i`**: a notable exception is the usage of i in for loops. Generally it is left to the coder whether to keep using the bare letter or to use something more verbose as in `idx` instead of `i`.\n",
    "    \n",
    "</font>\n",
    "</div>"
   ]
  },
  {
   "cell_type": "code",
   "execution_count": null,
   "id": "1ef6bd2b",
   "metadata": {},
   "outputs": [],
   "source": [
    "def alternate_casing(text):\n",
    "    letters = []\n",
    "    for idx in range(len(text)):\n",
    "        if idx % 2 == 0:\n",
    "    letters.append(text[idx].upper()) else:\n",
    "        letters.append(text[idx].lower())\n",
    "\n",
    "    return \"\".join(letters)"
   ]
  },
  {
   "cell_type": "markdown",
   "id": "f69a00e3",
   "metadata": {},
   "source": [
    "# Refactor step #3 - Traversing data and indices\n",
    "<hr style = \"border:2px solid black\" ></hr>"
   ]
  },
  {
   "cell_type": "markdown",
   "id": "40a28a63",
   "metadata": {},
   "source": [
    "<div class=\"alert alert-info\">\n",
    "<font color=black>\n",
    "\n",
    "- In our function we need the indices and the data, because we need the index to determine the operation to do, and then we need the data (the actual letter) to change its casing. `enumerate` is the way to go here.\n",
    "\n",
    "- Not only we were able to remove the explicit indexing, therefore cutting down on one operation, but we also express our intent more clearly: when someone finds an enumerate, they should immediately understand that to mean “in this loop I need both the indices and the data I’m traversing”.\n",
    "    \n",
    "</font>\n",
    "</div>"
   ]
  },
  {
   "cell_type": "code",
   "execution_count": null,
   "id": "44da32ef",
   "metadata": {},
   "outputs": [],
   "source": [
    "def alternate_casing(text):\n",
    "    letters = []\n",
    "    for idx, letter in enumerate(text):\n",
    "        if idx % 2 == 0:\n",
    "            letters.append(letter.upper())\n",
    "        else:\n",
    "            letters.append(letter.lower())\n",
    "\n",
    "return \"\".join(letters)"
   ]
  },
  {
   "cell_type": "markdown",
   "id": "40c657be",
   "metadata": {},
   "source": [
    "# Refactor step #4 - Nest only what is needed\n",
    "<hr style = \"border:2px solid black\" ></hr>"
   ]
  },
  {
   "cell_type": "markdown",
   "id": "2859efa2",
   "metadata": {},
   "source": [
    "<div class=\"alert alert-info\">\n",
    "<font color=black>\n",
    "\n",
    "- **Nesting code** means we need to keep track of many contexts in our head while we read the code, and even though you might not notice it, that’s exhausting. Going in and out of all those indented structures, making all those context switches, consumes brain power. Flatter code places less strain on our brains and makes it easier to keep up with the code.\n",
    "\n",
    "- Notice that we are doing a `letters.append` regardless of the branch we are in, which makes it less clear that the thing that is changing from one branch to the other is the choice of method that we call on `letter`.\n",
    "    \n",
    "</font>\n",
    "</div>"
   ]
  },
  {
   "cell_type": "code",
   "execution_count": null,
   "id": "eddaa8ba",
   "metadata": {},
   "outputs": [],
   "source": [
    "def alternate_casing(text):\n",
    "    letters = []\n",
    "    for idx, letter in enumerate(text):\n",
    "        if idx % 2 == 0:\n",
    "            capitalised = letter.upper()\n",
    "        else:\n",
    "            capitalised = letter.lower()\n",
    "        letters.append(capitalised)\n",
    "\n",
    "return \"\".join(letters)"
   ]
  },
  {
   "cell_type": "markdown",
   "id": "a015694f",
   "metadata": {},
   "source": [
    "# Refactor step #5 - Conditional assignment and conditional expressions\n",
    "<hr style = \"border:2px solid black\" ></hr>"
   ]
  },
  {
   "cell_type": "markdown",
   "id": "e2f31898",
   "metadata": {},
   "source": [
    "<div class=\"alert alert-info\">\n",
    "<font color=black>\n",
    "\n",
    "- Having factored out the `.append()` to outside of the if makes it blatantly clear that the if statement is only there to decide on what to assign to capitalised. This opens the door for another simplification, that will come in the form of a conditional expression.\n",
    "\n",
    "- Conditional expressions are like condensed `if-else` blocks that are great for conditional assignment.\n",
    "\n",
    "</font>\n",
    "</div>"
   ]
  },
  {
   "cell_type": "code",
   "execution_count": null,
   "id": "12a79bda",
   "metadata": {},
   "outputs": [],
   "source": [
    "def alternate_casing(text):\n",
    "    letters = []\n",
    "    for idx, letter in enumerate(text):\n",
    "        letters.append(letter.upper() if idx % 2 == 0 else letter.lower())\n",
    "\n",
    "return \"\".join(letters)"
   ]
  },
  {
   "cell_type": "markdown",
   "id": "9f83d7b0",
   "metadata": {},
   "source": [
    "# Refactor step #6 - Truthy and Falsy\n",
    "<hr style = \"border:2px solid black\" ></hr>"
   ]
  },
  {
   "cell_type": "markdown",
   "id": "a7774c50",
   "metadata": {},
   "source": [
    "<div class=\"alert alert-info\">\n",
    "<font color=black>\n",
    "\n",
    "- The next step concerns itself with simplifying the condition of the if statement. In Python, we have this won- derful thing which allows us to interpret many objects as Booleans, even if they are not Booleans themselves. This is often referred to as the Truthy/Falsy value of an object in Python,\n",
    "\n",
    "- For our case, what matters is that the number 0 is treated as `False` and any other integer is treated as `True`.\n",
    "</font>\n",
    "</div>"
   ]
  },
  {
   "cell_type": "code",
   "execution_count": null,
   "id": "aafecbba",
   "metadata": {},
   "outputs": [],
   "source": [
    "def alternate_casing(text):\n",
    "    letters = []\n",
    "    for idx, letter in enumerate(text):\n",
    "        letters.append(letter.lower() if idx % 2 else letter.upper())\n",
    "    return \"\".join(letters)"
   ]
  },
  {
   "cell_type": "markdown",
   "id": "9aa91d88",
   "metadata": {},
   "source": [
    "# Refactor step #7 - List comprehensions versus appending\n",
    "<hr style = \"border:2px solid black\" ></hr>"
   ]
  },
  {
   "cell_type": "markdown",
   "id": "f541216d",
   "metadata": {},
   "source": [
    "<div class=\"alert alert-info\">\n",
    "<font color=black>\n",
    "\n",
    "- One thing that you can also learn to spot is when you are building a list by calling `.append()` on it successively. When that is the case, look for an opportunity to use a list comprehension. \n",
    "\n",
    "- List comprehensions are very Pythonic when used well, and they allow you to initialise a variable with the correct contents right from the start, instead of having to initialise a variable to change it right away.\n",
    "\n",
    "</font>\n",
    "</div>"
   ]
  },
  {
   "cell_type": "code",
   "execution_count": null,
   "id": "55e80300",
   "metadata": {},
   "outputs": [],
   "source": [
    "def alternate_casing(text):\n",
    "    letters = [letter.lower() if idx % 2 else letter.upper() for idx, letter in enumerate(text)]\n",
    "    return \"\".join(letters)"
   ]
  },
  {
   "cell_type": "markdown",
   "id": "8877e7cd",
   "metadata": {},
   "source": [
    "# Refactor step #8 - Avoid long lines\n",
    "<hr style = \"border:2px solid black\" ></hr>"
   ]
  },
  {
   "cell_type": "markdown",
   "id": "b97954d1",
   "metadata": {},
   "source": [
    "<div class=\"alert alert-info\">\n",
    "<font color=black>\n",
    "\n",
    "- **Horizontal scrolling** in code is to be avoided at all costs, and that means lines shouldn’t get too long.\n",
    "\n",
    "- The names inside the list comprehension only live inside the list comprehension, so they are very short-lived and have a very specific role.\n",
    "\n",
    "</font>\n",
    "</div>"
   ]
  },
  {
   "cell_type": "code",
   "execution_count": null,
   "id": "dcf015b6",
   "metadata": {},
   "outputs": [],
   "source": [
    "def alternate_casing(text):\n",
    "    letters = [l.lower() if i % 2 else l.upper() for i, l in enumerate(text)] \n",
    "    return \"\".join(letters)"
   ]
  },
  {
   "cell_type": "markdown",
   "id": "503651e6",
   "metadata": {},
   "source": [
    "<div class=\"alert alert-info\">\n",
    "<font color=black>\n",
    "\n",
    "- Another option could've been to split the list comprehension instead.\n",
    "\n",
    "\n",
    "</font>\n",
    "</div>"
   ]
  },
  {
   "cell_type": "code",
   "execution_count": null,
   "id": "b3218c13",
   "metadata": {},
   "outputs": [],
   "source": [
    "def alternate_casing(text):\n",
    "    letters = [\n",
    "        letter.lower() if idx % 2 else letter.upper()\n",
    "        for idx, letter in enumerate(text)\n",
    "    ]\n",
    "return \"\".join(letters)"
   ]
  },
  {
   "cell_type": "markdown",
   "id": "58e7edee",
   "metadata": {},
   "source": [
    "# Refactor step #9 - Auxiliary variables\n",
    "<hr style = \"border:2px solid black\" ></hr>"
   ]
  },
  {
   "cell_type": "markdown",
   "id": "b502c1b8",
   "metadata": {},
   "source": [
    "<div class=\"alert alert-info\">\n",
    "<font color=black>\n",
    "\n",
    "- Once again, auxiliary variables aren’t always needed. Whether you have the broken up list comprehension or the one with the short names, you can just get rid of the auxiliary variable and call `.join()` on those letters directly.\n",
    "    \n",
    "</font>\n",
    "</div>"
   ]
  },
  {
   "cell_type": "code",
   "execution_count": null,
   "id": "0882f40a",
   "metadata": {},
   "outputs": [],
   "source": [
    "def alternate_casing(text):\n",
    "return \"\".join([l.lower() if i % 2 else l.upper() for i, l in enumerate(text)])"
   ]
  },
  {
   "cell_type": "code",
   "execution_count": null,
   "id": "03a1fb6d",
   "metadata": {},
   "outputs": [],
   "source": [
    "def alternate_casing(text):\n",
    "    return \"\".join([\n",
    "        letter.lower() if idx % 2 else letter.upper()\n",
    "        for idx, letter in enumerate(text)\n",
    "    ])"
   ]
  },
  {
   "cell_type": "markdown",
   "id": "b1b72fac",
   "metadata": {},
   "source": [
    "# Refactor step #10 - Reduntant list comprehensions\n",
    "<hr style = \"border:2px solid black\" ></hr>"
   ]
  },
  {
   "cell_type": "markdown",
   "id": "c90eab57",
   "metadata": {},
   "source": [
    "<div class=\"alert alert-info\">\n",
    "<font color=black>\n",
    "\n",
    "- We have come so far, but there is one final thing we can do, and that is related to how we can get rid of the `[]` of the list comprehension. I mean we can literally delete them.\n",
    "\n",
    "- Now, instead of a list comprehension, we have a generator expression. Generator expressions are amazing, in my opinion, and they come with memory and speed benefits, so try to use them when you can. In practice, when you are calling a function with a list comprehension, you can often omit the [] altogether to switch to a **generator** expression.\n",
    "    \n",
    "</font>\n",
    "</div>"
   ]
  },
  {
   "cell_type": "code",
   "execution_count": null,
   "id": "b294cee9",
   "metadata": {},
   "outputs": [],
   "source": [
    "def alternate_casing(text):\n",
    "    return \"\".join(l.lower() if i % 2 else l.upper() for i, l in enumerate(text))"
   ]
  },
  {
   "cell_type": "code",
   "execution_count": null,
   "id": "204f38ae",
   "metadata": {},
   "outputs": [],
   "source": [
    "def alternate_casing(text):\n",
    "    return \"\".join(\n",
    "        letter.lower() if idx % 2 else letter.upper()\n",
    "        for idx, letter in enumerate(text)\n",
    "    )"
   ]
  },
  {
   "cell_type": "markdown",
   "id": "electronic-coupon",
   "metadata": {},
   "source": [
    "# References\n",
    "<hr style=\"border:2px solid black\"> </hr>"
   ]
  },
  {
   "cell_type": "markdown",
   "id": "03699603",
   "metadata": {},
   "source": [
    "<div class=\"alert alert-warning\">\n",
    "<font color=black>\n",
    "\n",
    "- https://mathspp.com/blog/pydonts\n",
    "\n",
    "</font>\n",
    "</div>"
   ]
  }
 ],
 "metadata": {
  "hide_input": false,
  "kernelspec": {
   "display_name": "trainingAI",
   "language": "python",
   "name": "trainingai"
  },
  "language_info": {
   "codemirror_mode": {
    "name": "ipython",
    "version": 3
   },
   "file_extension": ".py",
   "mimetype": "text/x-python",
   "name": "python",
   "nbconvert_exporter": "python",
   "pygments_lexer": "ipython3",
   "version": "3.9.7"
  },
  "toc": {
   "base_numbering": 1,
   "nav_menu": {},
   "number_sections": true,
   "sideBar": true,
   "skip_h1_title": false,
   "title_cell": "Table of Contents",
   "title_sidebar": "Contents",
   "toc_cell": true,
   "toc_position": {
    "height": "calc(100% - 180px)",
    "left": "10px",
    "top": "150px",
    "width": "221.833px"
   },
   "toc_section_display": true,
   "toc_window_display": true
  },
  "varInspector": {
   "cols": {
    "lenName": 16,
    "lenType": 16,
    "lenVar": 40
   },
   "kernels_config": {
    "python": {
     "delete_cmd_postfix": "",
     "delete_cmd_prefix": "del ",
     "library": "var_list.py",
     "varRefreshCmd": "print(var_dic_list())"
    },
    "r": {
     "delete_cmd_postfix": ") ",
     "delete_cmd_prefix": "rm(",
     "library": "var_list.r",
     "varRefreshCmd": "cat(var_dic_list()) "
    }
   },
   "types_to_exclude": [
    "module",
    "function",
    "builtin_function_or_method",
    "instance",
    "_Feature"
   ],
   "window_display": false
  }
 },
 "nbformat": 4,
 "nbformat_minor": 5
}
