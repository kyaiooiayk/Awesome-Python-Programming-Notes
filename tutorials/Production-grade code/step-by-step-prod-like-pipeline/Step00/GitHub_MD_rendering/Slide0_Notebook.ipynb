{
 "cells": [
  {
   "cell_type": "code",
   "execution_count": 5,
   "metadata": {
    "ExecuteTime": {
     "end_time": "2023-06-19T11:23:49.651114Z",
     "start_time": "2023-06-19T11:23:49.647298Z"
    }
   },
   "outputs": [],
   "source": [
    "import os\n",
    "import pickle\n",
    "import numpy as np\n",
    "import pandas as pd\n",
    "from collections import Counter\n",
    "from sqlalchemy import create_engine\n",
    "from sqlalchemy import text\n",
    "\n",
    "from sklearn.model_selection import train_test_split\n",
    "from sklearn.linear_model import LogisticRegression\n",
    "from sklearn.preprocessing import RobustScaler\n",
    "from sklearn.preprocessing import OneHotEncoder\n",
    "from sklearn.impute import KNNImputer\n",
    "from sklearn.metrics import confusion_matrix"
   ]
  },
  {
   "cell_type": "code",
   "execution_count": 6,
   "metadata": {
    "ExecuteTime": {
     "end_time": "2023-06-19T11:24:05.441174Z",
     "start_time": "2023-06-19T11:24:05.417589Z"
    }
   },
   "outputs": [
    {
     "data": {
      "text/html": [
       "<style scoped>\n",
       "    .dataframe tbody tr th:only-of-type {\n",
       "        vertical-align: middle;\n",
       "    }\n",
       "\n",
       "    .dataframe tbody tr th {\n",
       "        vertical-align: top;\n",
       "    }\n",
       "\n",
       "    .dataframe thead th {\n",
       "        text-align: right;\n",
       "    }\n",
       "</style>\n",
       "<table border=\"1\" class=\"dataframe\">\n",
       "  <thead>\n",
       "    <tr style=\"text-align: right;\">\n",
       "      <th></th>\n",
       "      <th>type</th>\n",
       "      <th>name</th>\n",
       "      <th>tbl_name</th>\n",
       "      <th>rootpage</th>\n",
       "      <th>sql</th>\n",
       "    </tr>\n",
       "  </thead>\n",
       "  <tbody>\n",
       "    <tr>\n",
       "      <th>0</th>\n",
       "      <td>table</td>\n",
       "      <td>tbl_passengers</td>\n",
       "      <td>tbl_passengers</td>\n",
       "      <td>2</td>\n",
       "      <td>CREATE TABLE tbl_passengers (\\n\\tpid BIGINT, \\...</td>\n",
       "    </tr>\n",
       "    <tr>\n",
       "      <th>1</th>\n",
       "      <td>table</td>\n",
       "      <td>tbl_targets</td>\n",
       "      <td>tbl_targets</td>\n",
       "      <td>35</td>\n",
       "      <td>CREATE TABLE tbl_targets (\\n\\tpid BIGINT, \\n\\t...</td>\n",
       "    </tr>\n",
       "  </tbody>\n",
       "</table>\n",
""      ],
      "text/plain": [
       "    type            name        tbl_name  rootpage  \\\n",
       "0  table  tbl_passengers  tbl_passengers         2   \n",
       "1  table     tbl_targets     tbl_targets        35   \n",
       "\n",
       "                                                 sql  \n",
       "0  CREATE TABLE tbl_passengers (\\n\\tpid BIGINT, \\...  \n",
       "1  CREATE TABLE tbl_targets (\\n\\tpid BIGINT, \\n\\t...  "
      ]
     },
     "execution_count": 6,
     "metadata": {},
     "output_type": "execute_result"
    }
   ],
   "source": [
    "engine = create_engine('sqlite:///../data/titanic.db')\n",
    "sqlite_connection = engine.connect()\n",
    "pd.read_sql(text('SELECT * FROM sqlite_schema WHERE type=\"table\"'), con=sqlite_connection)"
   ]
  },
  {
   "cell_type": "code",
   "execution_count": 7,
   "metadata": {
    "ExecuteTime": {
     "end_time": "2023-06-19T11:24:30.392340Z",
     "start_time": "2023-06-19T11:24:30.351101Z"
    }
   },
   "outputs": [],
   "source": [
    "np.random.seed(42)\n",
    "\n",
    "df = pd.read_sql(text('SELECT * FROM tbl_passengers'), con=sqlite_connection)\n",
    "\n",
    "targets = pd.read_sql(text('SELECT * FROM tbl_targets'), con=sqlite_connection)\n",
    "\n",
    "# df, targets = fetch_openml(\"titanic\", version=1, as_frame=True, return_X_y=True)\n",
    "\n",
    "# parch = Parents/Children, sibsp = Siblings/Spouses\n",
    "df['family_size'] = df['parch'] + df['sibsp']\n",
    "df['is_alone'] = [1 if family_size==1 else 0 for family_size in df['family_size']]\n",
    "\n",
    "df['title'] = [name.split(',')[1].split('.')[0].strip() for name in df['name']]\n",
    "rare_titles = {k for k,v in Counter(df['title']).items() if v < 10}\n",
    "df['title'] = ['rare' if title in rare_titles else title for title in df['title']]\n",
    "\n",
    "df = df[[\n",
    "    'pclass', 'sex', 'age', 'ticket', 'family_size',\n",
    "    'fare', 'embarked', 'is_alone', 'title'\n",
    "]]\n",
    "\n",
    "targets = [int(v) for v in targets['is_survived']]\n",
    "X_train, X_test, y_train, y_test = train_test_split(df, targets, stratify=targets, test_size=0.2)"
   ]
  },
  {
   "cell_type": "code",
   "execution_count": 8,
   "metadata": {
    "ExecuteTime": {
     "end_time": "2023-06-19T11:24:33.309577Z",
     "start_time": "2023-06-19T11:24:33.298278Z"
    }
   },
   "outputs": [
    {
     "data": {
      "text/html": [
       "<style scoped>\n",
       "    .dataframe tbody tr th:only-of-type {\n",
       "        vertical-align: middle;\n",
       "    }\n",
       "\n",
       "    .dataframe tbody tr th {\n",
       "        vertical-align: top;\n",
       "    }\n",
       "\n",
       "    .dataframe thead th {\n",
       "        text-align: right;\n",
       "    }\n",
       "</style>\n",
       "<table border=\"1\" class=\"dataframe\">\n",
       "  <thead>\n",
       "    <tr style=\"text-align: right;\">\n",
       "      <th></th>\n",
       "      <th>pclass</th>\n",
       "      <th>sex</th>\n",
       "      <th>age</th>\n",
       "      <th>ticket</th>\n",
       "      <th>family_size</th>\n",
       "      <th>fare</th>\n",
       "      <th>embarked</th>\n",
       "      <th>is_alone</th>\n",
       "      <th>title</th>\n",
       "    </tr>\n",
       "  </thead>\n",
       "  <tbody>\n",
       "    <tr>\n",
       "      <th>0</th>\n",
       "      <td>1.0</td>\n",
       "      <td>female</td>\n",
       "      <td>29.0000</td>\n",
       "      <td>24160</td>\n",
       "      <td>0.0</td>\n",
       "      <td>211.3375</td>\n",
       "      <td>S</td>\n",
       "      <td>0</td>\n",
       "      <td>Miss</td>\n",
       "    </tr>\n",
       "    <tr>\n",
       "      <th>1</th>\n",
       "      <td>1.0</td>\n",
       "      <td>male</td>\n",
       "      <td>0.9167</td>\n",
       "      <td>113781</td>\n",
       "      <td>3.0</td>\n",
       "      <td>151.5500</td>\n",
       "      <td>S</td>\n",
       "      <td>0</td>\n",
       "      <td>Master</td>\n",
       "    </tr>\n",
       "    <tr>\n",
       "      <th>2</th>\n",
       "      <td>1.0</td>\n",
       "      <td>female</td>\n",
       "      <td>2.0000</td>\n",
       "      <td>113781</td>\n",
       "      <td>3.0</td>\n",
       "      <td>151.5500</td>\n",
       "      <td>S</td>\n",
       "      <td>0</td>\n",
       "      <td>Miss</td>\n",
       "    </tr>\n",
       "  </tbody>\n",
       "</table>\n",
""      ],
      "text/plain": [
       "   pclass     sex      age  ticket  family_size      fare embarked  is_alone  \\\n",
       "0     1.0  female  29.0000   24160          0.0  211.3375        S         0   \n",
       "1     1.0    male   0.9167  113781          3.0  151.5500        S         0   \n",
       "2     1.0  female   2.0000  113781          3.0  151.5500        S         0   \n",
       "\n",
       "    title  \n",
       "0    Miss  \n",
       "1  Master  \n",
       "2    Miss  "
      ]
     },
     "execution_count": 8,
     "metadata": {},
     "output_type": "execute_result"
    }
   ],
   "source": [
    "df[:3]"
   ]
  },
  {
   "cell_type": "code",
   "execution_count": 9,
   "metadata": {
    "ExecuteTime": {
     "end_time": "2023-06-19T11:24:33.830237Z",
     "start_time": "2023-06-19T11:24:33.814903Z"
    }
   },
   "outputs": [
    {
     "name": "stderr",
     "output_type": "stream",
     "text": [
      "/opt/anaconda3/envs/SQL/lib/python3.10/site-packages/sklearn/preprocessing/_encoders.py:868: FutureWarning: `sparse` was renamed to `sparse_output` in version 1.2 and will be removed in 1.4. `sparse_output` is ignored unless you leave `sparse` to its default value.\n",
      "  warnings.warn(\n"
     ]
    }
   ],
   "source": [
    "X_train_categorical = X_train[['embarked', 'sex', 'pclass', 'title', 'is_alone']]\n",
    "X_test_categorical = X_test[['embarked', 'sex', 'pclass', 'title', 'is_alone']]\n",
    "\n",
    "one_hot_encoder = OneHotEncoder(handle_unknown='ignore', sparse=False).fit(X_train_categorical)\n",
    "X_train_categorical_one_hot = one_hot_encoder.transform(X_train_categorical)\n",
    "X_test_categorical_one_hot = one_hot_encoder.transform(X_test_categorical)"
   ]
  },
  {
   "cell_type": "code",
   "execution_count": 10,
   "metadata": {
    "ExecuteTime": {
     "end_time": "2023-06-19T11:24:36.798850Z",
     "start_time": "2023-06-19T11:24:36.763042Z"
    }
   },
   "outputs": [],
   "source": [
    "X_train_numerical = X_train[['age', 'fare', 'family_size']]\n",
    "X_test_numerical = X_test[['age', 'fare', 'family_size']]\n",
    "knn_imputer = KNNImputer(n_neighbors=5).fit(X_train_numerical)\n",
    "X_train_numerical_imputed = knn_imputer.transform(X_train_numerical)\n",
    "X_test_numerical_imputed = knn_imputer.transform(X_test_numerical)"
   ]
  },
  {
   "cell_type": "code",
   "execution_count": 11,
   "metadata": {
    "ExecuteTime": {
     "end_time": "2023-06-19T11:24:37.153566Z",
     "start_time": "2023-06-19T11:24:37.146883Z"
    }
   },
   "outputs": [],
   "source": [
    "robust_scaler = RobustScaler().fit(X_train_numerical_imputed)\n",
    "X_train_numerical_imputed_scaled = robust_scaler.transform(X_train_numerical_imputed)\n",
    "X_test_numerical_imputed_scaled = robust_scaler.transform(X_test_numerical_imputed)"
   ]
  },
  {
   "cell_type": "code",
   "execution_count": 12,
   "metadata": {
    "ExecuteTime": {
     "end_time": "2023-06-19T11:24:37.530341Z",
     "start_time": "2023-06-19T11:24:37.527409Z"
    }
   },
   "outputs": [],
   "source": [
    "X_train_processed = np.hstack((X_train_categorical_one_hot, X_train_numerical_imputed_scaled))\n",
    "X_test_processed = np.hstack((X_test_categorical_one_hot, X_test_numerical_imputed_scaled))"
   ]
  },
  {
   "cell_type": "code",
   "execution_count": 13,
   "metadata": {
    "ExecuteTime": {
     "end_time": "2023-06-19T11:24:37.981906Z",
     "start_time": "2023-06-19T11:24:37.951907Z"
    }
   },
   "outputs": [],
   "source": [
    "model = LogisticRegression(random_state=0).fit(X_train_processed, y_train)\n",
    "y_train_estimation = model.predict(X_train_processed)\n",
    "y_test_estimation = model.predict(X_test_processed)"
   ]
  },
  {
   "cell_type": "code",
   "execution_count": 14,
   "metadata": {
    "ExecuteTime": {
     "end_time": "2023-06-19T11:24:40.323242Z",
     "start_time": "2023-06-19T11:24:40.318113Z"
    }
   },
   "outputs": [],
   "source": [
    "cm_train = confusion_matrix(y_train, y_train_estimation)"
   ]
  },
  {
   "cell_type": "code",
   "execution_count": 15,
   "metadata": {
    "ExecuteTime": {
     "end_time": "2023-06-19T11:24:40.903109Z",
     "start_time": "2023-06-19T11:24:40.899335Z"
    }
   },
   "outputs": [],
   "source": [
    "cm_test = confusion_matrix(y_test, y_test_estimation)"
   ]
  },
  {
   "cell_type": "code",
   "execution_count": 16,
   "metadata": {
    "ExecuteTime": {
     "end_time": "2023-06-19T11:24:42.864883Z",
     "start_time": "2023-06-19T11:24:42.860587Z"
    }
   },
   "outputs": [
    {
     "data": {
      "text/plain": [
       "array([[553,  94],\n",
       "       [107, 293]])"
      ]
     },
     "execution_count": 16,
     "metadata": {},
     "output_type": "execute_result"
    }
   ],
   "source": [
    "cm_train"
   ]
  },
  {
   "cell_type": "code",
   "execution_count": 17,
   "metadata": {
    "ExecuteTime": {
     "end_time": "2023-06-19T11:24:43.271410Z",
     "start_time": "2023-06-19T11:24:43.267176Z"
    }
   },
   "outputs": [
    {
     "data": {
      "text/plain": [
       "array([[142,  20],\n",
       "       [ 22,  78]])"
      ]
     },
     "execution_count": 17,
     "metadata": {},
     "output_type": "execute_result"
    }
   ],
   "source": [
    "cm_test"
   ]
  },
  {
   "cell_type": "code",
   "execution_count": 23,
   "metadata": {
    "ExecuteTime": {
     "end_time": "2023-06-19T11:26:04.725557Z",
     "start_time": "2023-06-19T11:26:04.721370Z"
    }
   },
   "outputs": [
    {
     "data": {
      "text/plain": [
       "{'Capt',\n",
       " 'Col',\n",
       " 'Don',\n",
       " 'Dona',\n",
       " 'Dr',\n",
       " 'Jonkheer',\n",
       " 'Lady',\n",
       " 'Major',\n",
       " 'Mlle',\n",
       " 'Mme',\n",
       " 'Ms',\n",
       " 'Rev',\n",
       " 'Sir',\n",
       " 'the Countess'}"
      ]
     },
     "execution_count": 23,
     "metadata": {},
     "output_type": "execute_result"
    }
   ],
   "source": [
    "rare_titles"
   ]
  },
  {
   "cell_type": "code",
   "execution_count": null,
   "metadata": {},
   "outputs": [],
   "source": []
  }
 ],
 "metadata": {
  "kernelspec": {
   "display_name": "SQL",
   "language": "python",
   "name": "sql"
  },
  "language_info": {
   "codemirror_mode": {
    "name": "ipython",
    "version": 3
   },
   "file_extension": ".py",
   "mimetype": "text/x-python",
   "name": "python",
   "nbconvert_exporter": "python",
   "pygments_lexer": "ipython3",
   "version": "3.10.4"
  },
  "toc": {
   "base_numbering": 1,
   "nav_menu": {},
   "number_sections": true,
   "sideBar": true,
   "skip_h1_title": false,
   "title_cell": "Table of Contents",
   "title_sidebar": "Contents",
   "toc_cell": false,
   "toc_position": {},
   "toc_section_display": true,
   "toc_window_display": false
  },
  "varInspector": {
   "cols": {
    "lenName": 16,
    "lenType": 16,
    "lenVar": 40
   },
   "kernels_config": {
    "python": {
     "delete_cmd_postfix": "",
     "delete_cmd_prefix": "del ",
     "library": "var_list.py",
     "varRefreshCmd": "print(var_dic_list())"
    },
    "r": {
     "delete_cmd_postfix": ") ",
     "delete_cmd_prefix": "rm(",
     "library": "var_list.r",
     "varRefreshCmd": "cat(var_dic_list()) "
    }
   },
   "types_to_exclude": [
    "module",
    "function",
    "builtin_function_or_method",
    "instance",
    "_Feature"
   ],
   "window_display": false
  },
  "vscode": {
   "interpreter": {
    "hash": "774712da715a3086605d6bf08e7144a3a7e717b0d5585da12e288357dd4c8f07"
   }
  }
 },
 "nbformat": 4,
 "nbformat_minor": 4
}
