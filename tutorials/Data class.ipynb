{
 "cells": [
  {
   "cell_type": "markdown",
   "id": "40adc5b9",
   "metadata": {
    "toc": true
   },
   "source": [
    "<h1>Table of Contents<span class=\"tocSkip\"></span></h1>\n",
    "<div class=\"toc\"><ul class=\"toc-item\"><li><span><a href=\"#Introduction\" data-toc-modified-id=\"Introduction-1\"><span class=\"toc-item-num\">1&nbsp;&nbsp;</span>Introduction</a></span></li><li><span><a href=\"#Imports\" data-toc-modified-id=\"Imports-2\"><span class=\"toc-item-num\">2&nbsp;&nbsp;</span>Imports</a></span></li><li><span><a href=\"#Data-class-vs.-other-data-structures\" data-toc-modified-id=\"Data-class-vs.-other-data-structures-3\"><span class=\"toc-item-num\">3&nbsp;&nbsp;</span>Data class vs. other data structures</a></span><ul class=\"toc-item\"><li><span><a href=\"#Tuple\" data-toc-modified-id=\"Tuple-3.1\"><span class=\"toc-item-num\">3.1&nbsp;&nbsp;</span><code>Tuple</code></a></span></li><li><span><a href=\"#dict\" data-toc-modified-id=\"dict-3.2\"><span class=\"toc-item-num\">3.2&nbsp;&nbsp;</span><code>dict</code></a></span></li><li><span><a href=\"#namedtuple\" data-toc-modified-id=\"namedtuple-3.3\"><span class=\"toc-item-num\">3.3&nbsp;&nbsp;</span><code>namedtuple</code></a></span></li></ul></li><li><span><a href=\"#Regular-class\" data-toc-modified-id=\"Regular-class-4\"><span class=\"toc-item-num\">4&nbsp;&nbsp;</span>Regular class</a></span></li><li><span><a href=\"#Data-class\" data-toc-modified-id=\"Data-class-5\"><span class=\"toc-item-num\">5&nbsp;&nbsp;</span>Data class</a></span></li><li><span><a href=\"#References\" data-toc-modified-id=\"References-6\"><span class=\"toc-item-num\">6&nbsp;&nbsp;</span>References</a></span></li><li><span><a href=\"#Requirements\" data-toc-modified-id=\"Requirements-7\"><span class=\"toc-item-num\">7&nbsp;&nbsp;</span>Requirements</a></span></li></ul></div>"
   ]
  },
  {
   "cell_type": "markdown",
   "id": "satellite-taste",
   "metadata": {},
   "source": [
    "# Introduction\n",
    "<hr style=\"border:2px solid black\"> </hr>"
   ]
  },
  {
   "cell_type": "markdown",
   "id": "purple-electric",
   "metadata": {},
   "source": [
    "<div class=\"alert alert-warning\">\n",
    "<font color=black>\n",
    "\n",
    "**What?** Data class\n",
    "\n",
    "</font>\n",
    "</div>"
   ]
  },
  {
   "cell_type": "markdown",
   "id": "fb9febb1",
   "metadata": {},
   "source": [
    "# Imports\n",
    "<hr style=\"border:2px solid black\"> </hr>"
   ]
  },
  {
   "cell_type": "code",
   "execution_count": 2,
   "id": "7178be13",
   "metadata": {
    "ExecuteTime": {
     "end_time": "2023-04-16T10:29:41.491797Z",
     "start_time": "2023-04-16T10:29:41.489017Z"
    }
   },
   "outputs": [],
   "source": [
    "from collections import namedtuple\n",
    "from dataclasses import dataclass"
   ]
  },
  {
   "cell_type": "markdown",
   "id": "stopped-recruitment",
   "metadata": {},
   "source": [
    "# Data class vs. other data structures\n",
    "<hr style=\"border:2px solid black\"> </hr>"
   ]
  },
  {
   "cell_type": "markdown",
   "id": "9fc361df",
   "metadata": {},
   "source": [
    "<div class=\"alert alert-info\">\n",
    "<font color=black>\n",
    "\n",
    "- For simple data structures, you have can use a `tuple`, `dict` and `namedtuple`. \n",
    "- If `namedtuple` offers a lot of flexibiliy why even bother with data classes? First of all, data classes come with many more features. At the end of day even if `namedtuple` comes very close to what data class has to offer, by design is a `namedtuple` is a regular `tuple`.\n",
    "\n",
    "</font>\n",
    "</div>"
   ]
  },
  {
   "cell_type": "markdown",
   "id": "ef7406b7",
   "metadata": {},
   "source": [
    "## `Tuple`"
   ]
  },
  {
   "cell_type": "code",
   "execution_count": 6,
   "id": "1c290e4f",
   "metadata": {
    "ExecuteTime": {
     "end_time": "2023-04-16T09:49:04.068633Z",
     "start_time": "2023-04-16T09:49:04.066025Z"
    }
   },
   "outputs": [],
   "source": [
    "queen_of_hearts_tuple = ('Q', 'Hearts')"
   ]
  },
  {
   "cell_type": "code",
   "execution_count": 9,
   "id": "2f5104af",
   "metadata": {
    "ExecuteTime": {
     "end_time": "2023-04-16T09:49:34.083455Z",
     "start_time": "2023-04-16T09:49:34.079675Z"
    }
   },
   "outputs": [
    {
     "data": {
      "text/plain": [
       "'Q'"
      ]
     },
     "execution_count": 9,
     "metadata": {},
     "output_type": "execute_result"
    }
   ],
   "source": [
    "# Has no name access, just positional\n",
    "queen_of_hearts_tuple[0]"
   ]
  },
  {
   "cell_type": "markdown",
   "id": "e2cf3c01",
   "metadata": {},
   "source": [
    "## `dict`"
   ]
  },
  {
   "cell_type": "code",
   "execution_count": null,
   "id": "a32d54e4",
   "metadata": {},
   "outputs": [],
   "source": [
    "queen_of_hearts_dict = {'rank': 'Q', 'suit': 'Hearts'}"
   ]
  },
  {
   "cell_type": "code",
   "execution_count": 11,
   "id": "22757aed",
   "metadata": {
    "ExecuteTime": {
     "end_time": "2023-04-16T09:50:30.899944Z",
     "start_time": "2023-04-16T09:50:30.896426Z"
    }
   },
   "outputs": [
    {
     "data": {
      "text/plain": [
       "'Hearts'"
      ]
     },
     "execution_count": 11,
     "metadata": {},
     "output_type": "execute_result"
    }
   ],
   "source": [
    "# Would be nicer with .suit\n",
    "queen_of_hearts_dict['suit']"
   ]
  },
  {
   "cell_type": "markdown",
   "id": "4bca8459",
   "metadata": {},
   "source": [
    "## `namedtuple`"
   ]
  },
  {
   "cell_type": "code",
   "execution_count": 3,
   "id": "77497002",
   "metadata": {
    "ExecuteTime": {
     "end_time": "2023-04-16T09:48:01.862800Z",
     "start_time": "2023-04-16T09:48:01.859964Z"
    }
   },
   "outputs": [],
   "source": [
    "NamedTupleCard = namedtuple('NamedTupleCard', ['rank', 'suit'])"
   ]
  },
  {
   "cell_type": "code",
   "execution_count": 4,
   "id": "6458281e",
   "metadata": {
    "ExecuteTime": {
     "end_time": "2023-04-16T09:48:18.134329Z",
     "start_time": "2023-04-16T09:48:18.124157Z"
    }
   },
   "outputs": [
    {
     "data": {
      "text/plain": [
       "'Q'"
      ]
     },
     "execution_count": 4,
     "metadata": {},
     "output_type": "execute_result"
    }
   ],
   "source": [
    "queen_of_hearts = NamedTupleCard('Q', 'Hearts')\n",
    "queen_of_hearts.rank"
   ]
  },
  {
   "cell_type": "code",
   "execution_count": 5,
   "id": "dcf583e6",
   "metadata": {
    "ExecuteTime": {
     "end_time": "2023-04-16T09:48:36.438867Z",
     "start_time": "2023-04-16T09:48:36.435320Z"
    }
   },
   "outputs": [
    {
     "data": {
      "text/plain": [
       "'Hearts'"
      ]
     },
     "execution_count": 5,
     "metadata": {},
     "output_type": "execute_result"
    }
   ],
   "source": [
    "queen_of_hearts.suit"
   ]
  },
  {
   "cell_type": "markdown",
   "id": "7ba28923",
   "metadata": {},
   "source": [
    "# Regular class\n",
    "<hr style=\"border:2px solid black\"> </hr>"
   ]
  },
  {
   "cell_type": "markdown",
   "id": "e82ae299",
   "metadata": {
    "ExecuteTime": {
     "end_time": "2023-04-16T10:01:52.149789Z",
     "start_time": "2023-04-16T10:01:52.144803Z"
    }
   },
   "source": [
    "<div class=\"alert alert-info\">\n",
    "<font color=black>\n",
    "\n",
    "- Let's we'd like to build a class to describe a deck of cards.\n",
    "- At the same we'd like to specifically build a `print`and `=` methods inside the class.\n",
    "- We'll then compare this against the data classes.\n",
    "\n",
    "</font>\n",
    "</div>"
   ]
  },
  {
   "cell_type": "code",
   "execution_count": 22,
   "id": "62e57ee1",
   "metadata": {
    "ExecuteTime": {
     "end_time": "2023-04-16T09:59:51.975827Z",
     "start_time": "2023-04-16T09:59:51.971811Z"
    }
   },
   "outputs": [],
   "source": [
    "class RegularCard:\n",
    "    def __init__(self, rank, suit):\n",
    "        self.rank = rank\n",
    "        self.suit = suit\n",
    "\n",
    "    def __repr__(self):\n",
    "        return (f'{self.__class__.__name__}'\n",
    "                f'(rank={self.rank!r}, suit={self.suit!r})')\n",
    "\n",
    "    def __eq__(self, other):\n",
    "        if other.__class__ is not self.__class__:\n",
    "            return NotImplemented\n",
    "        return (self.rank, self.suit) == (other.rank, other.suit)"
   ]
  },
  {
   "cell_type": "code",
   "execution_count": 24,
   "id": "b8dc682f",
   "metadata": {
    "ExecuteTime": {
     "end_time": "2023-04-16T10:02:20.204237Z",
     "start_time": "2023-04-16T10:02:20.201453Z"
    }
   },
   "outputs": [],
   "source": [
    "# Instantiate the class\n",
    "queen_of_hearts = RegularCard('Q', 'Hearts')"
   ]
  },
  {
   "cell_type": "code",
   "execution_count": 25,
   "id": "6daa37f7",
   "metadata": {
    "ExecuteTime": {
     "end_time": "2023-04-16T10:02:25.262989Z",
     "start_time": "2023-04-16T10:02:25.259327Z"
    }
   },
   "outputs": [
    {
     "data": {
      "text/plain": [
       "'Q'"
      ]
     },
     "execution_count": 25,
     "metadata": {},
     "output_type": "execute_result"
    }
   ],
   "source": [
    "queen_of_hearts.rank"
   ]
  },
  {
   "cell_type": "code",
   "execution_count": 26,
   "id": "dc40dac1",
   "metadata": {
    "ExecuteTime": {
     "end_time": "2023-04-16T10:02:31.868500Z",
     "start_time": "2023-04-16T10:02:31.864471Z"
    }
   },
   "outputs": [
    {
     "data": {
      "text/plain": [
       "'Hearts'"
      ]
     },
     "execution_count": 26,
     "metadata": {},
     "output_type": "execute_result"
    }
   ],
   "source": [
    "queen_of_hearts.suit"
   ]
  },
  {
   "cell_type": "code",
   "execution_count": 29,
   "id": "5218f633",
   "metadata": {
    "ExecuteTime": {
     "end_time": "2023-04-16T10:03:14.297840Z",
     "start_time": "2023-04-16T10:03:14.294117Z"
    }
   },
   "outputs": [
    {
     "data": {
      "text/plain": [
       "RegularCard(rank='Q', suit='Hearts')"
      ]
     },
     "execution_count": 29,
     "metadata": {},
     "output_type": "execute_result"
    }
   ],
   "source": [
    "# Calling hte __repr__ method\n",
    "queen_of_hearts"
   ]
  },
  {
   "cell_type": "code",
   "execution_count": 30,
   "id": "45a740f7",
   "metadata": {
    "ExecuteTime": {
     "end_time": "2023-04-16T10:08:36.428170Z",
     "start_time": "2023-04-16T10:08:36.424244Z"
    }
   },
   "outputs": [
    {
     "data": {
      "text/plain": [
       "True"
      ]
     },
     "execution_count": 30,
     "metadata": {},
     "output_type": "execute_result"
    }
   ],
   "source": [
    "# Calling the method __eq__\n",
    "queen_of_hearts == RegularCard('Q', 'Hearts')"
   ]
  },
  {
   "cell_type": "markdown",
   "id": "aba7e618",
   "metadata": {},
   "source": [
    "# Data class\n",
    "<hr style=\"border:2px solid black\"> </hr>"
   ]
  },
  {
   "cell_type": "markdown",
   "id": "03478f9c",
   "metadata": {},
   "source": [
    "<div class=\"alert alert-info\">\n",
    "<font color=black>\n",
    "\n",
    "- Can we simplify what we have done above with a regular python class? Specifically can we reduce the amount of boiler plate code?\n",
    "- To give an idea why this may be beneficial look at `rank` and how many times is repeated: 3!\n",
    "- In short `dataclass` allows you to avoid having to write the class's constructor.\n",
    "    \n",
    "</font>\n",
    "</div>"
   ]
  },
  {
   "cell_type": "code",
   "execution_count": 3,
   "id": "d4f51883",
   "metadata": {
    "ExecuteTime": {
     "end_time": "2023-04-16T10:29:45.081891Z",
     "start_time": "2023-04-16T10:29:45.078595Z"
    }
   },
   "outputs": [],
   "source": [
    "@dataclass\n",
    "class DataClassCard:\n",
    "    rank: str\n",
    "    suit: str"
   ]
  },
  {
   "cell_type": "code",
   "execution_count": 5,
   "id": "fb72ec05",
   "metadata": {
    "ExecuteTime": {
     "end_time": "2023-04-16T10:29:59.789780Z",
     "start_time": "2023-04-16T10:29:59.786183Z"
    }
   },
   "outputs": [],
   "source": [
    "# Instantiate the class\n",
    "queen_of_hearts = DataClassCard('Q', 'Hearts')"
   ]
  },
  {
   "cell_type": "code",
   "execution_count": 6,
   "id": "f7ecd567",
   "metadata": {
    "ExecuteTime": {
     "end_time": "2023-04-16T10:30:08.417561Z",
     "start_time": "2023-04-16T10:30:08.407624Z"
    }
   },
   "outputs": [
    {
     "data": {
      "text/plain": [
       "'Q'"
      ]
     },
     "execution_count": 6,
     "metadata": {},
     "output_type": "execute_result"
    }
   ],
   "source": [
    "queen_of_hearts.rank"
   ]
  },
  {
   "cell_type": "code",
   "execution_count": 7,
   "id": "de787020",
   "metadata": {
    "ExecuteTime": {
     "end_time": "2023-04-16T10:30:13.612022Z",
     "start_time": "2023-04-16T10:30:13.608186Z"
    }
   },
   "outputs": [
    {
     "data": {
      "text/plain": [
       "'Hearts'"
      ]
     },
     "execution_count": 7,
     "metadata": {},
     "output_type": "execute_result"
    }
   ],
   "source": [
    "queen_of_hearts.suit"
   ]
  },
  {
   "cell_type": "code",
   "execution_count": 8,
   "id": "6cfa032d",
   "metadata": {
    "ExecuteTime": {
     "end_time": "2023-04-16T10:30:20.639052Z",
     "start_time": "2023-04-16T10:30:20.635408Z"
    }
   },
   "outputs": [
    {
     "data": {
      "text/plain": [
       "DataClassCard(rank='Q', suit='Hearts')"
      ]
     },
     "execution_count": 8,
     "metadata": {},
     "output_type": "execute_result"
    }
   ],
   "source": [
    "# Calling hte __repr__ method\n",
    "queen_of_hearts"
   ]
  },
  {
   "cell_type": "code",
   "execution_count": 10,
   "id": "16d4d66f",
   "metadata": {
    "ExecuteTime": {
     "end_time": "2023-04-16T10:31:56.432133Z",
     "start_time": "2023-04-16T10:31:56.428133Z"
    }
   },
   "outputs": [
    {
     "data": {
      "text/plain": [
       "True"
      ]
     },
     "execution_count": 10,
     "metadata": {},
     "output_type": "execute_result"
    }
   ],
   "source": [
    "# Calling the method __eq__\n",
    "queen_of_hearts == DataClassCard('Q', 'Hearts')"
   ]
  },
  {
   "cell_type": "markdown",
   "id": "electronic-coupon",
   "metadata": {},
   "source": [
    "# References\n",
    "<hr style=\"border:2px solid black\"> </hr>"
   ]
  },
  {
   "cell_type": "markdown",
   "id": "center-graph",
   "metadata": {},
   "source": [
    "<div class=\"alert alert-warning\">\n",
    "<font color=black>\n",
    "\n",
    "- [Data Classes in Python 3.7+ (Guide)](https://realpython.com/python-data-classes/)\n",
    "- [Python: To OOP or to FP?](https://towardsdatascience.com/python-to-oop-or-to-fp-13ac79a43b16)\n",
    "    \n",
    "</font>\n",
    "</div>"
   ]
  },
  {
   "cell_type": "markdown",
   "id": "09b8eac2",
   "metadata": {
    "ExecuteTime": {
     "end_time": "2023-05-06T12:34:42.892431Z",
     "start_time": "2023-05-06T12:34:42.888347Z"
    }
   },
   "source": [
    "# Requirements\n",
    "<hr style=\"border:2px solid black\"> </hr>"
   ]
  },
  {
   "cell_type": "code",
   "execution_count": 1,
   "id": "df903d60",
   "metadata": {
    "ExecuteTime": {
     "end_time": "2023-05-06T12:34:32.340020Z",
     "start_time": "2023-05-06T12:34:32.314782Z"
    }
   },
   "outputs": [
    {
     "name": "stdout",
     "output_type": "stream",
     "text": [
      "Python implementation: CPython\n",
      "Python version       : 3.9.7\n",
      "IPython version      : 7.29.0\n",
      "\n",
      "numpy   : 1.21.6\n",
      "json    : 2.0.9\n",
      "autopep8: 1.6.0\n",
      "\n"
     ]
    }
   ],
   "source": [
    "%load_ext watermark\n",
    "%watermark -v -iv"
   ]
  },
  {
   "cell_type": "code",
   "execution_count": null,
   "id": "9c0207fa",
   "metadata": {},
   "outputs": [],
   "source": []
  }
 ],
 "metadata": {
  "hide_input": false,
  "kernelspec": {
   "display_name": "trainingAI",
   "language": "python",
   "name": "trainingai"
  },
  "language_info": {
   "codemirror_mode": {
    "name": "ipython",
    "version": 3
   },
   "file_extension": ".py",
   "mimetype": "text/x-python",
   "name": "python",
   "nbconvert_exporter": "python",
   "pygments_lexer": "ipython3",
   "version": "3.9.7"
  },
  "toc": {
   "base_numbering": 1,
   "nav_menu": {},
   "number_sections": true,
   "sideBar": true,
   "skip_h1_title": false,
   "title_cell": "Table of Contents",
   "title_sidebar": "Contents",
   "toc_cell": true,
   "toc_position": {
    "height": "calc(100% - 180px)",
    "left": "10px",
    "top": "150px",
    "width": "203.483px"
   },
   "toc_section_display": true,
   "toc_window_display": true
  },
  "varInspector": {
   "cols": {
    "lenName": 16,
    "lenType": 16,
    "lenVar": 40
   },
   "kernels_config": {
    "python": {
     "delete_cmd_postfix": "",
     "delete_cmd_prefix": "del ",
     "library": "var_list.py",
     "varRefreshCmd": "print(var_dic_list())"
    },
    "r": {
     "delete_cmd_postfix": ") ",
     "delete_cmd_prefix": "rm(",
     "library": "var_list.r",
     "varRefreshCmd": "cat(var_dic_list()) "
    }
   },
   "types_to_exclude": [
    "module",
    "function",
    "builtin_function_or_method",
    "instance",
    "_Feature"
   ],
   "window_display": false
  }
 },
 "nbformat": 4,
 "nbformat_minor": 5
}
