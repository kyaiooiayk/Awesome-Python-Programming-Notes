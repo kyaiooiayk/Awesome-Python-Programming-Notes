{
 "cells": [
  {
   "cell_type": "markdown",
   "metadata": {
    "toc": true
   },
   "source": [
    "<h1>Table of Contents<span class=\"tocSkip\"></span></h1>\n",
    "<div class=\"toc\"><ul class=\"toc-item\"><li><span><a href=\"#Introduction\" data-toc-modified-id=\"Introduction-1\"><span class=\"toc-item-num\">1&nbsp;&nbsp;</span>Introduction</a></span></li><li><span><a href=\"#Imports\" data-toc-modified-id=\"Imports-2\"><span class=\"toc-item-num\">2&nbsp;&nbsp;</span>Imports</a></span></li><li><span><a href=\"#What-is-a-decorator?\" data-toc-modified-id=\"What-is-a-decorator?-3\"><span class=\"toc-item-num\">3&nbsp;&nbsp;</span>What is a decorator?</a></span></li><li><span><a href=\"#Creating-a-decorator\" data-toc-modified-id=\"Creating-a-decorator-4\"><span class=\"toc-item-num\">4&nbsp;&nbsp;</span>Creating a decorator</a></span><ul class=\"toc-item\"><li><span><a href=\"#ourDecorators()-vs.-ourDecorators\" data-toc-modified-id=\"ourDecorators()-vs.-ourDecorators-4.1\"><span class=\"toc-item-num\">4.1&nbsp;&nbsp;</span><code>ourDecorators()</code> vs. <code>ourDecorators</code></a></span></li></ul></li><li><span><a href=\"#How-to-unwrap-a-function-from-a-decorator\" data-toc-modified-id=\"How-to-unwrap-a-function-from-a-decorator-5\"><span class=\"toc-item-num\">5&nbsp;&nbsp;</span>How to unwrap a function from a decorator</a></span></li><li><span><a href=\"#What-would-it-be-if-there-was-not-decorator?\" data-toc-modified-id=\"What-would-it-be-if-there-was-not-decorator?-6\"><span class=\"toc-item-num\">6&nbsp;&nbsp;</span>What would it be if there was not decorator?</a></span></li><li><span><a href=\"#How-to-unwrap\" data-toc-modified-id=\"How-to-unwrap-7\"><span class=\"toc-item-num\">7&nbsp;&nbsp;</span>How to unwrap</a></span></li><li><span><a href=\"#Chaining-Decorators-in-Python\" data-toc-modified-id=\"Chaining-Decorators-in-Python-8\"><span class=\"toc-item-num\">8&nbsp;&nbsp;</span>Chaining Decorators in Python</a></span></li><li><span><a href=\"#How-to-handle-function-decorator-inside-a-class\" data-toc-modified-id=\"How-to-handle-function-decorator-inside-a-class-9\"><span class=\"toc-item-num\">9&nbsp;&nbsp;</span>How to handle function decorator inside a class</a></span></li><li><span><a href=\"#How-to-add-parameters-to-a-decorator\" data-toc-modified-id=\"How-to-add-parameters-to-a-decorator-10\"><span class=\"toc-item-num\">10&nbsp;&nbsp;</span>How to add parameters to a decorator</a></span><ul class=\"toc-item\"><li><span><a href=\"#Example-#1\" data-toc-modified-id=\"Example-#1-10.1\"><span class=\"toc-item-num\">10.1&nbsp;&nbsp;</span>Example #1</a></span></li><li><span><a href=\"#Example-#2\" data-toc-modified-id=\"Example-#2-10.2\"><span class=\"toc-item-num\">10.2&nbsp;&nbsp;</span>Example #2</a></span></li></ul></li><li><span><a href=\"#How-to-make-the-decorator-callable\" data-toc-modified-id=\"How-to-make-the-decorator-callable-11\"><span class=\"toc-item-num\">11&nbsp;&nbsp;</span>How to make the decorator callable</a></span><ul class=\"toc-item\"><li><span><a href=\"#With-args-and-kargs\" data-toc-modified-id=\"With-args-and-kargs-11.1\"><span class=\"toc-item-num\">11.1&nbsp;&nbsp;</span>With args and kargs</a></span></li><li><span><a href=\"#With-kargs-only\" data-toc-modified-id=\"With-kargs-only-11.2\"><span class=\"toc-item-num\">11.2&nbsp;&nbsp;</span>With kargs only</a></span></li></ul></li><li><span><a href=\"#Practical-Use-Cases\" data-toc-modified-id=\"Practical-Use-Cases-12\"><span class=\"toc-item-num\">12&nbsp;&nbsp;</span>Practical Use Cases</a></span></li><li><span><a href=\"#Advance-logging\" data-toc-modified-id=\"Advance-logging-13\"><span class=\"toc-item-num\">13&nbsp;&nbsp;</span>Advance logging</a></span></li><li><span><a href=\"#References\" data-toc-modified-id=\"References-14\"><span class=\"toc-item-num\">14&nbsp;&nbsp;</span>References</a></span></li></ul></div>"
   ]
  },
  {
   "cell_type": "markdown",
   "metadata": {},
   "source": [
    "# Introduction\n",
    "<hr style=\"border:2px solid black\"> </hr>"
   ]
  },
  {
   "cell_type": "markdown",
   "metadata": {},
   "source": [
    "<div class=\"alert alert-warning\">\n",
    "<font color=black>\n",
    "\n",
    "**What?** Function decorators\n",
    "\n",
    "</font>\n",
    "</div>"
   ]
  },
  {
   "cell_type": "markdown",
   "metadata": {},
   "source": [
    "# Imports\n",
    "<hr style=\"border:2px solid black\"> </hr>"
   ]
  },
  {
   "cell_type": "code",
   "execution_count": 1,
   "metadata": {
    "ExecuteTime": {
     "end_time": "2023-06-27T06:50:28.232878Z",
     "start_time": "2023-06-27T06:50:28.230292Z"
    }
   },
   "outputs": [],
   "source": [
    "import functools\n",
    "from functools import wraps"
   ]
  },
  {
   "cell_type": "markdown",
   "metadata": {},
   "source": [
    "# What is a decorator?\n",
    "<hr style=\"border:2px solid black\"> </hr>"
   ]
  },
  {
   "cell_type": "markdown",
   "metadata": {},
   "source": [
    "<div class=\"alert alert-info\">\n",
    "<font color=black>\n",
    "\n",
    "- A decorator takes in a function, adds some functionality and **RETURNS** it.\n",
    "- A **decorator** is basically a function that takes another function as an argument, adds some kind of functionality and then returns another function. So why would we want to do something like this? Well, it's because this allows us to easily add or alter the functionality to our existing function method or class without having to directly use its subclasses. In short, **decorators** are simply wrappers to existing functions.\n",
    "\n",
    "</font>\n",
    "</div>"
   ]
  },
  {
   "cell_type": "markdown",
   "metadata": {},
   "source": [
    "# Creating a decorator\n",
    "<hr style=\"border:2px solid black\"> </hr>"
   ]
  },
  {
   "cell_type": "markdown",
   "metadata": {},
   "source": [
    "<div class=\"alert alert-info\">\n",
    "<font color=black>\n",
    "\n",
    "- Our decorator does nothing more than adding an extra print functions.\n",
    "- If you're wondering why there is a ` @functools.wraps ` here while other examples do not have it, it is because it is **good practice**. \n",
    "- This automatically adds a `__wrapped__` attribute that let you retrieve the original, undecorated function\n",
    "\n",
    "</font>\n",
    "</div>"
   ]
  },
  {
   "cell_type": "code",
   "execution_count": 51,
   "metadata": {
    "ExecuteTime": {
     "end_time": "2023-06-27T07:09:57.384185Z",
     "start_time": "2023-06-27T07:09:57.381322Z"
    }
   },
   "outputs": [],
   "source": [
    "def ourDecorator(func: callable):\n",
    "    @functools.wraps(func)\n",
    "    def functionWrapper(x):\n",
    "        print(\"Decorating the function\")\n",
    "        func(x)        \n",
    "    return functionWrapper"
   ]
  },
  {
   "cell_type": "code",
   "execution_count": 52,
   "metadata": {
    "ExecuteTime": {
     "end_time": "2023-06-27T07:09:57.968435Z",
     "start_time": "2023-06-27T07:09:57.965796Z"
    }
   },
   "outputs": [],
   "source": [
    "@ourDecorator\n",
    "def foo(x):\n",
    "    print(\"Hi, foo has been called with: \" + str(x))"
   ]
  },
  {
   "cell_type": "code",
   "execution_count": 53,
   "metadata": {
    "ExecuteTime": {
     "end_time": "2023-06-27T07:09:58.622265Z",
     "start_time": "2023-06-27T07:09:58.619807Z"
    }
   },
   "outputs": [
    {
     "name": "stdout",
     "output_type": "stream",
     "text": [
      "Decorating the function\n",
      "Hi, foo has been called with: Hi\n"
     ]
    }
   ],
   "source": [
    "# Let us call foo\n",
    "foo(\"Hi\")"
   ]
  },
  {
   "cell_type": "code",
   "execution_count": 54,
   "metadata": {
    "ExecuteTime": {
     "end_time": "2023-06-27T07:09:59.454162Z",
     "start_time": "2023-06-27T07:09:59.451213Z"
    }
   },
   "outputs": [
    {
     "name": "stdout",
     "output_type": "stream",
     "text": [
      "Decorating the function\n",
      "Hi, foo has been called with: Hi\n"
     ]
    }
   ],
   "source": [
    "# This can be also re-written as (keep in mind that @function is just a syntaz sugar)\n",
    "ourDecorator(foo(\"Hi\"));"
   ]
  },
  {
   "cell_type": "markdown",
   "metadata": {},
   "source": [
    "## `ourDecorators()` vs. `ourDecorators`"
   ]
  },
  {
   "cell_type": "code",
   "execution_count": 55,
   "metadata": {
    "ExecuteTime": {
     "end_time": "2023-06-27T07:11:24.283987Z",
     "start_time": "2023-06-27T07:11:24.277237Z"
    }
   },
   "outputs": [
    {
     "ename": "TypeError",
     "evalue": "ourDecorator() missing 1 required positional argument: 'func'",
     "output_type": "error",
     "traceback": [
      "\u001b[0;31m---------------------------------------------------------------------------\u001b[0m",
      "\u001b[0;31mTypeError\u001b[0m                                 Traceback (most recent call last)",
      "\u001b[0;32m/var/folders/5x/lyqr8wv507n43bnwpsz4dq_c0000gn/T/ipykernel_49188/2290766106.py\u001b[0m in \u001b[0;36m<module>\u001b[0;34m\u001b[0m\n\u001b[0;32m----> 1\u001b[0;31m \u001b[0;34m@\u001b[0m\u001b[0mourDecorator\u001b[0m\u001b[0;34m(\u001b[0m\u001b[0;34m)\u001b[0m\u001b[0;34m\u001b[0m\u001b[0;34m\u001b[0m\u001b[0m\n\u001b[0m\u001b[1;32m      2\u001b[0m \u001b[0;32mdef\u001b[0m \u001b[0mfoo\u001b[0m\u001b[0;34m(\u001b[0m\u001b[0mx\u001b[0m\u001b[0;34m)\u001b[0m\u001b[0;34m:\u001b[0m\u001b[0;34m\u001b[0m\u001b[0;34m\u001b[0m\u001b[0m\n\u001b[1;32m      3\u001b[0m     \u001b[0mprint\u001b[0m\u001b[0;34m(\u001b[0m\u001b[0;34m\"Hi, foo has been called with: \"\u001b[0m \u001b[0;34m+\u001b[0m \u001b[0mstr\u001b[0m\u001b[0;34m(\u001b[0m\u001b[0mx\u001b[0m\u001b[0;34m)\u001b[0m\u001b[0;34m)\u001b[0m\u001b[0;34m\u001b[0m\u001b[0;34m\u001b[0m\u001b[0m\n",
      "\u001b[0;31mTypeError\u001b[0m: ourDecorator() missing 1 required positional argument: 'func'"
     ]
    }
   ],
   "source": [
    "@ourDecorator()\n",
    "def foo(x):\n",
    "    print(\"Hi, foo has been called with: \" + str(x))"
   ]
  },
  {
   "cell_type": "markdown",
   "metadata": {},
   "source": [
    "<div class=\"alert alert-info\">\n",
    "<font color=black>\n",
    "\n",
    "- `@decorator def func` gets replaced by `func = decorator(func)`.\n",
    "- `@decorator() def func` gets replaced by `func = decorator()(func)`. So in the latter case, decorator() is run, and it needs to return a function which accepts a function as as an argument, and returns a function.\n",
    "\n",
    "</font>\n",
    "</div>"
   ]
  },
  {
   "cell_type": "markdown",
   "metadata": {},
   "source": [
    "# How to unwrap a function from a decorator\n",
    "<hr style=\"border:2px solid black\"> </hr>"
   ]
  },
  {
   "cell_type": "markdown",
   "metadata": {},
   "source": [
    "<div class=\"alert alert-info\">\n",
    "<font color=black>\n",
    "\n",
    "- How do we go back to the undecorated function?\n",
    "- One solution would be to use @include_original \n",
    "- https://stackoverflow.com/questions/1166118/how-to-strip-decorators-from-a-function-in-python\n",
    "\n",
    "</font>\n",
    "</div>"
   ]
  },
  {
   "cell_type": "code",
   "execution_count": 6,
   "metadata": {
    "ExecuteTime": {
     "end_time": "2023-06-27T06:50:28.264966Z",
     "start_time": "2023-06-27T06:50:28.255609Z"
    }
   },
   "outputs": [
    {
     "name": "stdout",
     "output_type": "stream",
     "text": [
      "Decorating the function\n",
      "Hi, foo has been called with: Hi\n"
     ]
    },
    {
     "data": {
      "text/plain": [
       "<function __main__.ourDecorator.<locals>.functionWrapper>"
      ]
     },
     "execution_count": 6,
     "metadata": {},
     "output_type": "execute_result"
    }
   ],
   "source": [
    "# This is equivalent to \n",
    "ourDecorator(foo(\"Hi\"))"
   ]
  },
  {
   "cell_type": "code",
   "execution_count": 7,
   "metadata": {
    "ExecuteTime": {
     "end_time": "2023-06-27T06:50:28.269722Z",
     "start_time": "2023-06-27T06:50:28.266996Z"
    }
   },
   "outputs": [
    {
     "name": "stdout",
     "output_type": "stream",
     "text": [
      "Hi, foo has been called with: Hi\n"
     ]
    }
   ],
   "source": [
    "foo.__wrapped__(\"Hi\")"
   ]
  },
  {
   "cell_type": "code",
   "execution_count": 8,
   "metadata": {
    "ExecuteTime": {
     "end_time": "2023-06-27T06:50:28.274867Z",
     "start_time": "2023-06-27T06:50:28.271409Z"
    }
   },
   "outputs": [
    {
     "data": {
      "text/plain": [
       "\"\\nHowever, instead of manually accessing the __wrapped__ attribute, it's better to use inspect.unwrap:\\nIT IS NOT WORKING!\\n\""
      ]
     },
     "execution_count": 8,
     "metadata": {},
     "output_type": "execute_result"
    }
   ],
   "source": [
    "\"\"\"\n",
    "However, instead of manually accessing the __wrapped__ attribute, it's better to use inspect.unwrap:\n",
    "IT IS NOT WORKING!\n",
    "\"\"\""
   ]
  },
  {
   "cell_type": "code",
   "execution_count": 9,
   "metadata": {
    "ExecuteTime": {
     "end_time": "2023-06-27T06:50:28.279582Z",
     "start_time": "2023-06-27T06:50:28.276614Z"
    }
   },
   "outputs": [
    {
     "data": {
      "text/plain": [
       "<function __main__.foo(x)>"
      ]
     },
     "execution_count": 9,
     "metadata": {},
     "output_type": "execute_result"
    }
   ],
   "source": [
    "import inspect\n",
    "inspect.unwrap(foo)"
   ]
  },
  {
   "cell_type": "code",
   "execution_count": 10,
   "metadata": {
    "ExecuteTime": {
     "end_time": "2023-06-27T06:50:28.285158Z",
     "start_time": "2023-06-27T06:50:28.282375Z"
    }
   },
   "outputs": [
    {
     "name": "stdout",
     "output_type": "stream",
     "text": [
      "Decorating the function\n",
      "Hi, foo has been called with: Hi\n"
     ]
    }
   ],
   "source": [
    "inspect.unwrap(foo(\"Hi\"))"
   ]
  },
  {
   "cell_type": "markdown",
   "metadata": {},
   "source": [
    "# What would it be if there was not decorator?\n",
    "<hr style=\"border:2px solid black\"> </hr>"
   ]
  },
  {
   "cell_type": "code",
   "execution_count": 11,
   "metadata": {
    "ExecuteTime": {
     "end_time": "2023-06-27T06:50:28.289363Z",
     "start_time": "2023-06-27T06:50:28.286873Z"
    }
   },
   "outputs": [],
   "source": [
    "def make_pretty(func):\n",
    "    def inner():\n",
    "        print(\"I got decorated\")\n",
    "        func()\n",
    "    return inner\n",
    "\n",
    "\n",
    "def ordinary():\n",
    "    print(\"I am ordinary\")"
   ]
  },
  {
   "cell_type": "code",
   "execution_count": 12,
   "metadata": {
    "ExecuteTime": {
     "end_time": "2023-06-27T06:50:28.293381Z",
     "start_time": "2023-06-27T06:50:28.291078Z"
    }
   },
   "outputs": [
    {
     "name": "stdout",
     "output_type": "stream",
     "text": [
      "I am ordinary\n"
     ]
    }
   ],
   "source": [
    "# Let us call the ordinary function\n",
    "ordinary()"
   ]
  },
  {
   "cell_type": "code",
   "execution_count": 13,
   "metadata": {
    "ExecuteTime": {
     "end_time": "2023-06-27T06:50:28.297504Z",
     "start_time": "2023-06-27T06:50:28.295088Z"
    }
   },
   "outputs": [
    {
     "name": "stdout",
     "output_type": "stream",
     "text": [
      "I got decorated\n",
      "I am ordinary\n"
     ]
    }
   ],
   "source": [
    "# let's decorate this ordinary function. essentially all it added was a print statement\n",
    "pretty = make_pretty(ordinary)\n",
    "pretty()"
   ]
  },
  {
   "cell_type": "code",
   "execution_count": 14,
   "metadata": {
    "ExecuteTime": {
     "end_time": "2023-06-27T06:50:28.300827Z",
     "start_time": "2023-06-27T06:50:28.298869Z"
    }
   },
   "outputs": [],
   "source": [
    "# Generally, we decorate a function and reassign it as\n",
    "ordinary = make_pretty(ordinary)"
   ]
  },
  {
   "cell_type": "code",
   "execution_count": 15,
   "metadata": {
    "ExecuteTime": {
     "end_time": "2023-06-27T06:50:28.304889Z",
     "start_time": "2023-06-27T06:50:28.302220Z"
    }
   },
   "outputs": [
    {
     "name": "stdout",
     "output_type": "stream",
     "text": [
      "I got decorated\n",
      "I am ordinary\n"
     ]
    }
   ],
   "source": [
    "ordinary()"
   ]
  },
  {
   "cell_type": "markdown",
   "metadata": {},
   "source": [
    "<div class=\"alert alert-info\">\n",
    "<font color=black>\n",
    "\n",
    "- This is a common construct and for this reason, Python has a syntax to simplify this.\n",
    "- We can use the `@` symbol along with the name of the decorator function and place it above the definition of the function to be decorated. Essentially this is a syntactuc sugar \n",
    "\n",
    "</font>\n",
    "</div>"
   ]
  },
  {
   "cell_type": "code",
   "execution_count": 16,
   "metadata": {
    "ExecuteTime": {
     "end_time": "2023-06-27T06:50:28.310756Z",
     "start_time": "2023-06-27T06:50:28.308496Z"
    }
   },
   "outputs": [],
   "source": [
    "@make_pretty\n",
    "def ordinary():\n",
    "    print(\"I am ordinary\")"
   ]
  },
  {
   "cell_type": "code",
   "execution_count": 17,
   "metadata": {
    "ExecuteTime": {
     "end_time": "2023-06-27T06:50:28.314796Z",
     "start_time": "2023-06-27T06:50:28.312444Z"
    }
   },
   "outputs": [
    {
     "name": "stdout",
     "output_type": "stream",
     "text": [
      "I got decorated\n",
      "I am ordinary\n"
     ]
    }
   ],
   "source": [
    "ordinary()"
   ]
  },
  {
   "cell_type": "code",
   "execution_count": 18,
   "metadata": {
    "ExecuteTime": {
     "end_time": "2023-06-27T06:50:28.319162Z",
     "start_time": "2023-06-27T06:50:28.316427Z"
    }
   },
   "outputs": [
    {
     "name": "stdout",
     "output_type": "stream",
     "text": [
      "I got decorated\n",
      "I am ordinary\n"
     ]
    }
   ],
   "source": [
    "# This is equivalent to\n",
    "def ordinary():\n",
    "    print(\"I am ordinary\")\n",
    "ordinary = make_pretty(ordinary)\n",
    "ordinary()"
   ]
  },
  {
   "cell_type": "markdown",
   "metadata": {},
   "source": [
    "# How to unwrap\n",
    "<hr style=\"border:2px solid black\"> </hr>"
   ]
  },
  {
   "cell_type": "code",
   "execution_count": 19,
   "metadata": {
    "ExecuteTime": {
     "end_time": "2023-06-27T06:50:28.323437Z",
     "start_time": "2023-06-27T06:50:28.321096Z"
    }
   },
   "outputs": [],
   "source": [
    "def divide(a, b):\n",
    "    return a/b"
   ]
  },
  {
   "cell_type": "code",
   "execution_count": 20,
   "metadata": {
    "ExecuteTime": {
     "end_time": "2023-06-27T06:50:28.328144Z",
     "start_time": "2023-06-27T06:50:28.325166Z"
    }
   },
   "outputs": [
    {
     "data": {
      "text/plain": [
       "2.0"
      ]
     },
     "execution_count": 20,
     "metadata": {},
     "output_type": "execute_result"
    }
   ],
   "source": [
    "divide(4,2)"
   ]
  },
  {
   "cell_type": "code",
   "execution_count": 21,
   "metadata": {
    "ExecuteTime": {
     "end_time": "2023-06-27T06:50:28.452951Z",
     "start_time": "2023-06-27T06:50:28.329703Z"
    }
   },
   "outputs": [
    {
     "ename": "ZeroDivisionError",
     "evalue": "division by zero",
     "output_type": "error",
     "traceback": [
      "\u001b[0;31m---------------------------------------------------------------------------\u001b[0m",
      "\u001b[0;31mZeroDivisionError\u001b[0m                         Traceback (most recent call last)",
      "\u001b[0;32m/var/folders/5x/lyqr8wv507n43bnwpsz4dq_c0000gn/T/ipykernel_49188/944371792.py\u001b[0m in \u001b[0;36m<module>\u001b[0;34m\u001b[0m\n\u001b[1;32m      1\u001b[0m \u001b[0;31m# This call will spit out an error. We'll show how to create a decorator to check for this\u001b[0m\u001b[0;34m\u001b[0m\u001b[0;34m\u001b[0m\u001b[0m\n\u001b[0;32m----> 2\u001b[0;31m \u001b[0mdivide\u001b[0m\u001b[0;34m(\u001b[0m\u001b[0;36m4\u001b[0m\u001b[0;34m,\u001b[0m\u001b[0;36m0\u001b[0m\u001b[0;34m)\u001b[0m\u001b[0;34m\u001b[0m\u001b[0;34m\u001b[0m\u001b[0m\n\u001b[0m",
      "\u001b[0;32m/var/folders/5x/lyqr8wv507n43bnwpsz4dq_c0000gn/T/ipykernel_49188/560253271.py\u001b[0m in \u001b[0;36mdivide\u001b[0;34m(a, b)\u001b[0m\n\u001b[1;32m      1\u001b[0m \u001b[0;32mdef\u001b[0m \u001b[0mdivide\u001b[0m\u001b[0;34m(\u001b[0m\u001b[0ma\u001b[0m\u001b[0;34m,\u001b[0m \u001b[0mb\u001b[0m\u001b[0;34m)\u001b[0m\u001b[0;34m:\u001b[0m\u001b[0;34m\u001b[0m\u001b[0;34m\u001b[0m\u001b[0m\n\u001b[0;32m----> 2\u001b[0;31m     \u001b[0;32mreturn\u001b[0m \u001b[0ma\u001b[0m\u001b[0;34m/\u001b[0m\u001b[0mb\u001b[0m\u001b[0;34m\u001b[0m\u001b[0;34m\u001b[0m\u001b[0m\n\u001b[0m",
      "\u001b[0;31mZeroDivisionError\u001b[0m: division by zero"
     ]
    }
   ],
   "source": [
    "# This call will spit out an error. We'll show how to create a decorator to check for this\n",
    "divide(4,0)"
   ]
  },
  {
   "cell_type": "code",
   "execution_count": null,
   "metadata": {
    "ExecuteTime": {
     "end_time": "2023-06-27T06:50:28.456845Z",
     "start_time": "2023-06-27T06:50:28.456833Z"
    }
   },
   "outputs": [],
   "source": [
    "def smart_divide(func):\n",
    "    def inner(a, b):\n",
    "        print(\"I am going to divide\", a, \"and\", b)\n",
    "        if b == 0:\n",
    "            print(\"Whoops! cannot divide\")\n",
    "            return\n",
    "\n",
    "        return func(a, b)\n",
    "    return inner"
   ]
  },
  {
   "cell_type": "code",
   "execution_count": null,
   "metadata": {
    "ExecuteTime": {
     "end_time": "2023-06-27T06:50:28.457884Z",
     "start_time": "2023-06-27T06:50:28.457872Z"
    }
   },
   "outputs": [],
   "source": [
    "@smart_divide\n",
    "def divide(a, b):\n",
    "    print(a/b)"
   ]
  },
  {
   "cell_type": "code",
   "execution_count": null,
   "metadata": {
    "ExecuteTime": {
     "end_time": "2023-06-27T06:50:28.458977Z",
     "start_time": "2023-06-27T06:50:28.458963Z"
    }
   },
   "outputs": [],
   "source": [
    "divide(4,0)"
   ]
  },
  {
   "cell_type": "code",
   "execution_count": null,
   "metadata": {
    "ExecuteTime": {
     "end_time": "2023-06-27T06:50:28.460435Z",
     "start_time": "2023-06-27T06:50:28.460419Z"
    }
   },
   "outputs": [],
   "source": [
    "# we saw it is good practice to add @functools.wraps()"
   ]
  },
  {
   "cell_type": "code",
   "execution_count": null,
   "metadata": {
    "ExecuteTime": {
     "end_time": "2023-06-27T06:50:28.461871Z",
     "start_time": "2023-06-27T06:50:28.461857Z"
    }
   },
   "outputs": [],
   "source": [
    "def smart_divide(func):\n",
    "    @functools.wraps(func)\n",
    "    def inner(a, b):\n",
    "        print(\"I am going to divide\", a, \"and\", b)\n",
    "        if b == 0:\n",
    "            print(\"Whoops! cannot divide\")\n",
    "            return\n",
    "\n",
    "        return func(a, b)\n",
    "    return inner"
   ]
  },
  {
   "cell_type": "code",
   "execution_count": null,
   "metadata": {
    "ExecuteTime": {
     "end_time": "2023-06-27T06:50:28.463333Z",
     "start_time": "2023-06-27T06:50:28.463304Z"
    }
   },
   "outputs": [],
   "source": [
    "@smart_divide\n",
    "def divide(a, b):\n",
    "    print(a/b)"
   ]
  },
  {
   "cell_type": "code",
   "execution_count": null,
   "metadata": {
    "ExecuteTime": {
     "end_time": "2023-06-27T06:50:28.464638Z",
     "start_time": "2023-06-27T06:50:28.464624Z"
    }
   },
   "outputs": [],
   "source": [
    "# Again, if I want to use the old undecoreated function I can do\n",
    "divide.__wrapped__(4,0)"
   ]
  },
  {
   "cell_type": "code",
   "execution_count": null,
   "metadata": {
    "ExecuteTime": {
     "end_time": "2023-06-27T06:50:28.465861Z",
     "start_time": "2023-06-27T06:50:28.465832Z"
    }
   },
   "outputs": [],
   "source": [
    "divide(4,0)"
   ]
  },
  {
   "cell_type": "markdown",
   "metadata": {},
   "source": [
    "# Chaining Decorators in Python\n",
    "<hr style=\"border:2px solid black\"> </hr>"
   ]
  },
  {
   "cell_type": "markdown",
   "metadata": {},
   "source": [
    "<div class=\"alert alert-info\">\n",
    "<font color=black>\n",
    "\n",
    "- Multiple decorators can be chained in Python.\n",
    "- This is to say, a function can be decorated multiple times with different (or same) decorators. \n",
    "- We simply place the decorators above the desired function.\n",
    "\n",
    "</font>\n",
    "</div>"
   ]
  },
  {
   "cell_type": "code",
   "execution_count": null,
   "metadata": {
    "ExecuteTime": {
     "end_time": "2023-06-27T06:50:28.467214Z",
     "start_time": "2023-06-27T06:50:28.467200Z"
    }
   },
   "outputs": [],
   "source": [
    "def star(func):\n",
    "    def inner(*args, **kwargs):\n",
    "        print(\"*\" * 30)\n",
    "        func(*args, **kwargs)\n",
    "        print(\"*\" * 30)\n",
    "    return inner\n",
    "\n",
    "\n",
    "def percent(func):\n",
    "    def inner(*args, **kwargs):\n",
    "        print(\"%\" * 30)\n",
    "        func(*args, **kwargs)\n",
    "        print(\"%\" * 30)\n",
    "    return inner"
   ]
  },
  {
   "cell_type": "code",
   "execution_count": null,
   "metadata": {
    "ExecuteTime": {
     "end_time": "2023-06-27T06:50:28.468674Z",
     "start_time": "2023-06-27T06:50:28.468658Z"
    }
   },
   "outputs": [],
   "source": [
    "@star\n",
    "@percent\n",
    "def printer(msg):\n",
    "    print(msg)\n",
    "\n",
    "\n",
    "printer(\"Hello\")"
   ]
  },
  {
   "cell_type": "code",
   "execution_count": null,
   "metadata": {
    "ExecuteTime": {
     "end_time": "2023-06-27T06:50:28.469840Z",
     "start_time": "2023-06-27T06:50:28.469827Z"
    }
   },
   "outputs": [],
   "source": [
    "# For comlpeteness the above syntax is equivalent to \n",
    "def printer(msg):\n",
    "    print(msg)\n",
    "printer = star(percent(printer))"
   ]
  },
  {
   "cell_type": "markdown",
   "metadata": {},
   "source": [
    "# How to handle function decorator inside a class\n",
    "<hr style=\"border:2px solid black\"> </hr>"
   ]
  },
  {
   "cell_type": "markdown",
   "metadata": {},
   "source": [
    "<div class=\"alert alert-info\">\n",
    "<font color=black>\n",
    "\n",
    "- When decorating a method inside a class we need to hanfle `self` explicitly.\n",
    "\n",
    "</font>\n",
    "</div>"
   ]
  },
  {
   "cell_type": "code",
   "execution_count": null,
   "metadata": {
    "ExecuteTime": {
     "end_time": "2023-06-27T06:50:28.471026Z",
     "start_time": "2023-06-27T06:50:28.471011Z"
    }
   },
   "outputs": [],
   "source": [
    "class A():\n",
    "        \n",
    "    def __init__(self, data):\n",
    "        self.data = data\n",
    "\n",
    "    def myPrintDecorator(func):\n",
    "        \"\"\"My print decorator        \n",
    "        \n",
    "        Print the name of the method when it is called.\n",
    "        \"\"\"\n",
    "        \n",
    "        def printCallNameMethod(self, *args, **kwargs):        \n",
    "            print(\"Using method\", func.__name__)\n",
    "            instance = func(self, *args, **kwargs)            \n",
    "            return instance \n",
    "        \n",
    "        return printCallNameMethod\n",
    "    \n",
    "    @myPrintDecorator\n",
    "    def double(self):\n",
    "        return self.data*2"
   ]
  },
  {
   "cell_type": "code",
   "execution_count": null,
   "metadata": {
    "ExecuteTime": {
     "end_time": "2023-06-27T06:50:28.472384Z",
     "start_time": "2023-06-27T06:50:28.472353Z"
    }
   },
   "outputs": [],
   "source": [
    "instance = A([1,1])\n",
    "a = instance.double()\n",
    "print(a)"
   ]
  },
  {
   "cell_type": "markdown",
   "metadata": {},
   "source": [
    "# How to add parameters to a decorator\n",
    "<hr style=\"border:2px solid black\"> </hr>"
   ]
  },
  {
   "cell_type": "markdown",
   "metadata": {},
   "source": [
    "## Example #1"
   ]
  },
  {
   "cell_type": "code",
   "execution_count": 25,
   "metadata": {
    "ExecuteTime": {
     "end_time": "2023-06-27T06:58:32.928377Z",
     "start_time": "2023-06-27T06:58:32.924639Z"
    }
   },
   "outputs": [],
   "source": [
    "def get_time(t_start: float, t_end: float, unit: str):\n",
    "    \"\"\"Get elapsed time given the unit.\n",
    "    \"\"\"\n",
    "    if unit.lower() == \"sec\":\n",
    "        return np.around(t_end - t_start, 3)\n",
    "\n",
    "    elif unit.lower() == \"min\":\n",
    "        return np.around((t_end - t_start) / 60, 3)\n",
    "\n",
    "    elif unit.lower() == \"hr\":\n",
    "        return np.around((t_end - t_start) / 3600, 3)\n",
    "    else:\n",
    "        raise TypeError(f\"Unit of time {unit} not known!\")"
   ]
  },
  {
   "cell_type": "code",
   "execution_count": 37,
   "metadata": {
    "ExecuteTime": {
     "end_time": "2023-06-27T07:00:07.051969Z",
     "start_time": "2023-06-27T07:00:07.047339Z"
    }
   },
   "outputs": [],
   "source": [
    "import time\n",
    "\n",
    "\n",
    "def time_it(\n",
    "    func_: None = None,\n",
    "    unit: str = \"sec\",\n",
    "):\n",
    "\n",
    "    def _decorator(func):\n",
    "        @wraps(func)\n",
    "        def wrapper(self, *args, **kwargs):\n",
    "            t1 = time.time()\n",
    "            output = func(self, *args, **kwargs)\n",
    "            t2 = time.time()\n",
    "\n",
    "            print(\n",
    "                f\"Executed in: {str(get_time(t1, t2, unit))} {unit}\")\n",
    "\n",
    "            return output\n",
    "\n",
    "        return wrapper\n",
    "\n",
    "    if callable(func_):\n",
    "        return _decorator(func_)\n",
    "    elif func_ is None:\n",
    "        return _decorator\n",
    "    else:\n",
    "        raise RuntimeWarning(\"Positional arguments are not supported!\")"
   ]
  },
  {
   "cell_type": "code",
   "execution_count": 38,
   "metadata": {
    "ExecuteTime": {
     "end_time": "2023-06-27T07:00:07.404926Z",
     "start_time": "2023-06-27T07:00:07.402295Z"
    }
   },
   "outputs": [],
   "source": [
    "@time_it(unit=\"sec\")\n",
    "def sum_two_numbers(a,b):\n",
    "    time.sleep(2)\n",
    "    return a+b"
   ]
  },
  {
   "cell_type": "code",
   "execution_count": 39,
   "metadata": {
    "ExecuteTime": {
     "end_time": "2023-06-27T07:00:10.807642Z",
     "start_time": "2023-06-27T07:00:08.799257Z"
    }
   },
   "outputs": [
    {
     "name": "stdout",
     "output_type": "stream",
     "text": [
      "Executed in: 2.003 sec\n"
     ]
    },
    {
     "data": {
      "text/plain": [
       "3"
      ]
     },
     "execution_count": 39,
     "metadata": {},
     "output_type": "execute_result"
    }
   ],
   "source": [
    "sum_two_numbers(1,2)"
   ]
  },
  {
   "cell_type": "code",
   "execution_count": 40,
   "metadata": {
    "ExecuteTime": {
     "end_time": "2023-06-27T07:00:14.581592Z",
     "start_time": "2023-06-27T07:00:14.578871Z"
    }
   },
   "outputs": [],
   "source": [
    "@time_it(unit=\"min\")\n",
    "def sum_two_numbers(a,b):\n",
    "    time.sleep(2)\n",
    "    return a+b"
   ]
  },
  {
   "cell_type": "code",
   "execution_count": 41,
   "metadata": {
    "ExecuteTime": {
     "end_time": "2023-06-27T07:00:17.149184Z",
     "start_time": "2023-06-27T07:00:15.143318Z"
    }
   },
   "outputs": [
    {
     "name": "stdout",
     "output_type": "stream",
     "text": [
      "Executed in: 0.033 min\n"
     ]
    },
    {
     "data": {
      "text/plain": [
       "3"
      ]
     },
     "execution_count": 41,
     "metadata": {},
     "output_type": "execute_result"
    }
   ],
   "source": [
    "sum_two_numbers(1,2)"
   ]
  },
  {
   "cell_type": "code",
   "execution_count": 42,
   "metadata": {
    "ExecuteTime": {
     "end_time": "2023-06-27T07:00:19.171827Z",
     "start_time": "2023-06-27T07:00:17.167048Z"
    }
   },
   "outputs": [
    {
     "name": "stdout",
     "output_type": "stream",
     "text": [
      "Executed in: 0.033 min\n"
     ]
    }
   ],
   "source": [
    "# Alternative syntax\n",
    "time_it(unit=\"sec\")(sum_two_numbers(1,2));"
   ]
  },
  {
   "cell_type": "markdown",
   "metadata": {},
   "source": [
    "## Example #2"
   ]
  },
  {
   "cell_type": "code",
   "execution_count": 46,
   "metadata": {
    "ExecuteTime": {
     "end_time": "2023-06-27T07:01:11.201892Z",
     "start_time": "2023-06-27T07:01:11.197810Z"
    }
   },
   "outputs": [
    {
     "name": "stdout",
     "output_type": "stream",
     "text": [
      "Hello world!\n",
      "Hello world!\n",
      "Hello world!\n"
     ]
    }
   ],
   "source": [
    "def repeat(n: int = 1):\n",
    "    def decorator(func: callable):\n",
    "        def inner(*args, **kwargs):\n",
    "            for _ in range(n):\n",
    "                func(*args, **kwargs)\n",
    "        return inner\n",
    "    return decorator\n",
    "\n",
    "@repeat(n=3)\n",
    "def hello(name: str):\n",
    "    print(f'Hello {name}!')\n",
    "\n",
    "hello('world')"
   ]
  },
  {
   "cell_type": "markdown",
   "metadata": {},
   "source": [
    "# How to make the decorator callable\n",
    "<hr style=\"border:2px solid black\"> </hr>"
   ]
  },
  {
   "cell_type": "markdown",
   "metadata": {},
   "source": [
    "<div class=\"alert alert-info\">\n",
    "<font color=black>\n",
    "\n",
    "\n",
    "\n",
    "- This is a template for a function decorator that does not require `()` if no parameters are to be given and supports both positional and keyword parameters (but requires cheching on `locals()` to find out if the first parameter is the function to be decorated or not):\n",
    "\n",
    "</font>\n",
    "</div>"
   ]
  },
  {
   "cell_type": "markdown",
   "metadata": {},
   "source": [
    "## With args and kargs"
   ]
  },
  {
   "cell_type": "code",
   "execution_count": null,
   "metadata": {
    "ExecuteTime": {
     "end_time": "2023-06-27T06:50:28.479501Z",
     "start_time": "2023-06-27T06:50:28.479489Z"
    }
   },
   "outputs": [],
   "source": [
    "import functools"
   ]
  },
  {
   "cell_type": "code",
   "execution_count": null,
   "metadata": {
    "ExecuteTime": {
     "end_time": "2023-06-27T06:50:28.480897Z",
     "start_time": "2023-06-27T06:50:28.480884Z"
    }
   },
   "outputs": [],
   "source": [
    "def multiplying(factor_or_func=None):\n",
    "    def _decorator(func):\n",
    "        @functools.wraps(func)\n",
    "        def wrapper(*args, **kwargs):\n",
    "            if 'factor_or_func' not in locals() \\\n",
    "                    or callable(factor_or_func) \\\n",
    "                    or factor_or_func is None:\n",
    "                factor = 1\n",
    "            else:\n",
    "                factor = factor_or_func\n",
    "            return factor * func(*args, **kwargs)\n",
    "        return wrapper\n",
    "    return _decorator(factor_or_func) if callable(factor_or_func) else _decorator"
   ]
  },
  {
   "cell_type": "code",
   "execution_count": null,
   "metadata": {
    "ExecuteTime": {
     "end_time": "2023-06-27T06:50:28.482090Z",
     "start_time": "2023-06-27T06:50:28.482078Z"
    }
   },
   "outputs": [],
   "source": [
    "@multiplying\n",
    "def summing(x): return sum(x)\n",
    "summing([3,2])"
   ]
  },
  {
   "cell_type": "code",
   "execution_count": null,
   "metadata": {
    "ExecuteTime": {
     "end_time": "2023-06-27T06:50:28.483277Z",
     "start_time": "2023-06-27T06:50:28.483265Z"
    }
   },
   "outputs": [],
   "source": [
    "@multiplying()\n",
    "def summing(x): return sum(x)\n",
    "summing([3,2])"
   ]
  },
  {
   "cell_type": "code",
   "execution_count": null,
   "metadata": {
    "ExecuteTime": {
     "end_time": "2023-06-27T06:50:28.484484Z",
     "start_time": "2023-06-27T06:50:28.484469Z"
    }
   },
   "outputs": [],
   "source": [
    "@multiplying(2)\n",
    "def summing(x): return sum(x)\n",
    "summing([3,2])"
   ]
  },
  {
   "cell_type": "markdown",
   "metadata": {},
   "source": [
    "## With kargs only"
   ]
  },
  {
   "cell_type": "code",
   "execution_count": null,
   "metadata": {
    "ExecuteTime": {
     "end_time": "2023-06-27T06:50:28.486091Z",
     "start_time": "2023-06-27T06:50:28.486075Z"
    }
   },
   "outputs": [],
   "source": [
    "def multiplying(func_=None, factor=1):\n",
    "    def _decorator(func):\n",
    "        @functools.wraps(func)\n",
    "        def wrapper(*args, **kwargs):\n",
    "            return factor * func(*args, **kwargs)\n",
    "        return wrapper\n",
    "\n",
    "    if callable(func_):\n",
    "        return _decorator(func_)\n",
    "    elif func_ is None:\n",
    "        return _decorator\n",
    "    else:\n",
    "        raise RuntimeWarning(\"Positional arguments are not supported.\")"
   ]
  },
  {
   "cell_type": "code",
   "execution_count": null,
   "metadata": {
    "ExecuteTime": {
     "end_time": "2023-06-27T06:50:28.487534Z",
     "start_time": "2023-06-27T06:50:28.487501Z"
    }
   },
   "outputs": [],
   "source": [
    "@multiplying\n",
    "def summing(x): return sum(x)\n",
    "summing([3,2])"
   ]
  },
  {
   "cell_type": "code",
   "execution_count": null,
   "metadata": {
    "ExecuteTime": {
     "end_time": "2023-06-27T06:50:28.488692Z",
     "start_time": "2023-06-27T06:50:28.488676Z"
    }
   },
   "outputs": [],
   "source": [
    "@multiplying()\n",
    "def summing(x): return sum(x)\n",
    "summing([3,2])"
   ]
  },
  {
   "cell_type": "code",
   "execution_count": null,
   "metadata": {
    "ExecuteTime": {
     "end_time": "2023-06-27T06:50:28.490908Z",
     "start_time": "2023-06-27T06:50:28.490891Z"
    }
   },
   "outputs": [],
   "source": [
    "@multiplying(factor=2)\n",
    "def summing(x): return sum(x)\n",
    "summing([3,2])"
   ]
  },
  {
   "cell_type": "markdown",
   "metadata": {},
   "source": [
    "# Practical Use Cases\n",
    "<hr style=\"border:2px solid black\"> </hr>"
   ]
  },
  {
   "cell_type": "markdown",
   "metadata": {
    "code_folding": [
     3
    ]
   },
   "source": [
    "<div class=\"alert alert-info\">\n",
    "<font color=black>\n",
    "\n",
    "- While writing a large code there two things we want to do as basics.\n",
    "    - How fast it runs and generally we time it\n",
    "    - What is doing and generally we use some print statements\n",
    "\n",
    "- Now consider the situation where you have to do it over and over. A nice way to save you space and time is to create two decorator that do just this for you.\n",
    "\n",
    "</font>\n",
    "</div>"
   ]
  },
  {
   "cell_type": "code",
   "execution_count": null,
   "metadata": {
    "ExecuteTime": {
     "end_time": "2023-06-27T06:50:28.492396Z",
     "start_time": "2023-06-27T06:50:28.492379Z"
    }
   },
   "outputs": [],
   "source": [
    "import time\n",
    "import logging\n",
    "import functools\n",
    "\n",
    "def timer(func):\n",
    "    \"\"\"time the running time of the passed in function\"\"\"\n",
    "    @functools.wraps(func)\n",
    "    def wrapper(*args, **kwargs):\n",
    "        t1 = time.time()\n",
    "        result = func(*args, **kwargs)\n",
    "        t2 = time.time() - t1\n",
    "        print('{} ran in: {} sec'.format(func.__name__, t2))\n",
    "        return result\n",
    "    \n",
    "    return wrapper"
   ]
  },
  {
   "cell_type": "code",
   "execution_count": null,
   "metadata": {
    "ExecuteTime": {
     "end_time": "2023-06-27T06:50:28.493783Z",
     "start_time": "2023-06-27T06:50:28.493769Z"
    }
   },
   "outputs": [],
   "source": [
    "@timer\n",
    "def display_info(name, age):\n",
    "    time.sleep(1)  # manually add a second to the timing\n",
    "    print('display info ran with arguments ({}, {})'.format(name, age))\n",
    "\n",
    "display_info('John', 25)"
   ]
  },
  {
   "cell_type": "code",
   "execution_count": null,
   "metadata": {
    "ExecuteTime": {
     "end_time": "2023-06-27T06:50:28.495116Z",
     "start_time": "2023-06-27T06:50:28.495101Z"
    }
   },
   "outputs": [],
   "source": [
    "def logger(func):\n",
    "    \"\"\"\n",
    "    create logging for the function,\n",
    "    re-define the format to add specific logging time\n",
    "    \"\"\"\n",
    "    @functools.wraps(func)\n",
    "    def wrapper(*args, **kwargs):\n",
    "        logging.basicConfig(\n",
    "            filename = './logging_example',\n",
    "            format = '%(asctime)s -- %(levelname)s:%(name)s: %(message)s',\n",
    "            datefmt = '%Y/%m/%d-%H:%M:%S',\n",
    "            level = logging.INFO)\n",
    "        \n",
    "        # custom the logging information\n",
    "        logging.info('Ran with args: {} and kwargs: {}'.format(args, kwargs))\n",
    "        return func(*args, **kwargs)\n",
    "\n",
    "    return wrapper"
   ]
  },
  {
   "cell_type": "code",
   "execution_count": null,
   "metadata": {
    "ExecuteTime": {
     "end_time": "2023-06-27T06:50:28.496644Z",
     "start_time": "2023-06-27T06:50:28.496627Z"
    }
   },
   "outputs": [],
   "source": [
    "# http://stackoverflow.com/questions/18786912/get-output-from-the-logging-module-in-ipython-notebook\n",
    "# ipython notebook already call basicConfig somewhere, thus reload the logging\n",
    "import logging\n",
    "from importlib import reload\n",
    "reload(logging)\n",
    "\n",
    "@logger\n",
    "def display_info(name, age):\n",
    "    print('display info ran with arguments ({}, {})'.format(name, age))\n",
    "    \n",
    "display_info('John', 25)"
   ]
  },
  {
   "cell_type": "code",
   "execution_count": null,
   "metadata": {
    "ExecuteTime": {
     "end_time": "2023-06-27T06:50:28.498091Z",
     "start_time": "2023-06-27T06:50:28.498077Z"
    }
   },
   "outputs": [],
   "source": [
    "@logger\n",
    "@timer\n",
    "def display_info(name, age):\n",
    "    time.sleep(1) # manually add a second to the timing\n",
    "    print('display info ran with arguments ({}, {})'.format(name, age))\n",
    "    \n",
    "display_info('Tom', 22)"
   ]
  },
  {
   "cell_type": "code",
   "execution_count": null,
   "metadata": {
    "ExecuteTime": {
     "end_time": "2023-06-27T06:50:28.499159Z",
     "start_time": "2023-06-27T06:50:28.499144Z"
    },
    "scrolled": true
   },
   "outputs": [],
   "source": [
    "dir(logging)"
   ]
  },
  {
   "cell_type": "code",
   "execution_count": null,
   "metadata": {
    "ExecuteTime": {
     "end_time": "2023-06-27T06:50:28.500545Z",
     "start_time": "2023-06-27T06:50:28.500531Z"
    }
   },
   "outputs": [],
   "source": [
    "import logging\n",
    "\n",
    "logging.basicConfig(filename='./example.log', encoding='utf-8', level=logging.DEBUG)\n",
    "logging.debug('This message should go to the log file')\n",
    "logging.info('So should this')\n",
    "logging.warning('And this, too')\n",
    "logging.error('And non-ASCII stuff, too, like Øresund and Malmö')"
   ]
  },
  {
   "cell_type": "markdown",
   "metadata": {},
   "source": [
    "# Advance logging\n",
    "<hr style=\"border:2px solid black\"> </hr>"
   ]
  },
  {
   "cell_type": "markdown",
   "metadata": {},
   "source": [
    "<div class=\"alert alert-info\">\n",
    "<font color=black>\n",
    "\n",
    "- Please refer to this folder `Decorators_Advanced_Example` for a more advanced used of the decorators. \n",
    "- In particular, one of th example shows how to keep track of two diffrent handlers: one that is written on a `.log` file where you print all the info and another one that keep track of the message printed on the console.\n",
    "\n",
    "</font>\n",
    "</div>"
   ]
  },
  {
   "cell_type": "code",
   "execution_count": null,
   "metadata": {
    "ExecuteTime": {
     "end_time": "2023-06-27T06:50:28.501866Z",
     "start_time": "2023-06-27T06:50:28.501851Z"
    },
    "scrolled": true
   },
   "outputs": [],
   "source": [
    "# List only directories\n",
    "!ls -d */"
   ]
  },
  {
   "cell_type": "code",
   "execution_count": null,
   "metadata": {
    "ExecuteTime": {
     "end_time": "2023-06-27T06:50:28.502829Z",
     "start_time": "2023-06-27T06:50:28.502816Z"
    }
   },
   "outputs": [],
   "source": [
    "!ls"
   ]
  },
  {
   "cell_type": "markdown",
   "metadata": {},
   "source": [
    "# References\n",
    "<hr style=\"border:2px solid black\"> </hr>"
   ]
  },
  {
   "cell_type": "markdown",
   "metadata": {},
   "source": [
    "<div class=\"alert alert-warning\">\n",
    "<font color=black>\n",
    "\n",
    "- https://www.programiz.com/python-programming/decorator\n",
    "- [How to handle function decorator inside a class](https://stackoverflow.com/questions/38524332/declaring-decorator-inside-a-class)\n",
    "- [Blog: Guide to python function decorators](http://thecodeship.com/patterns/guide-to-python-function-decorators/)\n",
    "- [Youtube: Decorators - Dynamically Alter The Functionality Of Your Functions](https://www.youtube.com/watch?v=FsAPt_9Bf3U)\n",
    "- http://nbviewer.jupyter.org/github/ethen8181/machine-learning/blob/master/python/decorators/decorators.ipynb\n",
    "- https://medium.com/swlh/add-log-decorators-to-your-python-project-84094f832181\n",
    "- https://machinelearningmastery.com/a-gentle-introduction-to-decorators-in-python/\n",
    "- [Decorators with parameters?](https://stackoverflow.com/questions/5929107/decorators-with-parameters)\n",
    "- [python decorator patterns](https://bytepawn.com/python-decorator-patterns.html)\n",
    "    \n",
    "</font>\n",
    "</div>"
   ]
  },
  {
   "cell_type": "code",
   "execution_count": null,
   "metadata": {},
   "outputs": [],
   "source": []
  }
 ],
 "metadata": {
  "hide_input": false,
  "kernelspec": {
   "display_name": "trainingAI",
   "language": "python",
   "name": "trainingai"
  },
  "language_info": {
   "codemirror_mode": {
    "name": "ipython",
    "version": 3
   },
   "file_extension": ".py",
   "mimetype": "text/x-python",
   "name": "python",
   "nbconvert_exporter": "python",
   "pygments_lexer": "ipython3",
   "version": "3.9.7"
  },
  "toc": {
   "base_numbering": 1,
   "nav_menu": {},
   "number_sections": true,
   "sideBar": true,
   "skip_h1_title": false,
   "title_cell": "Table of Contents",
   "title_sidebar": "Contents",
   "toc_cell": true,
   "toc_position": {
    "height": "calc(100% - 180px)",
    "left": "10px",
    "top": "150px",
    "width": "282.35px"
   },
   "toc_section_display": true,
   "toc_window_display": true
  },
  "varInspector": {
   "cols": {
    "lenName": 16,
    "lenType": 16,
    "lenVar": 40
   },
   "kernels_config": {
    "python": {
     "delete_cmd_postfix": "",
     "delete_cmd_prefix": "del ",
     "library": "var_list.py",
     "varRefreshCmd": "print(var_dic_list())"
    },
    "r": {
     "delete_cmd_postfix": ") ",
     "delete_cmd_prefix": "rm(",
     "library": "var_list.r",
     "varRefreshCmd": "cat(var_dic_list()) "
    }
   },
   "types_to_exclude": [
    "module",
    "function",
    "builtin_function_or_method",
    "instance",
    "_Feature"
   ],
   "window_display": false
  }
 },
 "nbformat": 4,
 "nbformat_minor": 2
}
