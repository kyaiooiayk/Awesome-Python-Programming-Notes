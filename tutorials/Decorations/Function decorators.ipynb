{
 "cells": [
  {
   "cell_type": "markdown",
   "metadata": {
    "toc": true
   },
   "source": [
    "<h1>Table of Contents<span class=\"tocSkip\"></span></h1>\n",
    "<div class=\"toc\"><ul class=\"toc-item\"><li><span><a href=\"#Introduction\" data-toc-modified-id=\"Introduction-1\"><span class=\"toc-item-num\">1&nbsp;&nbsp;</span>Introduction</a></span></li><li><span><a href=\"#Import-modules\" data-toc-modified-id=\"Import-modules-2\"><span class=\"toc-item-num\">2&nbsp;&nbsp;</span>Import modules</a></span></li><li><span><a href=\"#What-is-a-decorator?\" data-toc-modified-id=\"What-is-a-decorator?-3\"><span class=\"toc-item-num\">3&nbsp;&nbsp;</span>What is a decorator?</a></span></li><li><span><a href=\"#Creating-a-decorator\" data-toc-modified-id=\"Creating-a-decorator-4\"><span class=\"toc-item-num\">4&nbsp;&nbsp;</span>Creating a decorator</a></span></li><li><span><a href=\"#How-to-unwrap-a-function-from-a-decorator\" data-toc-modified-id=\"How-to-unwrap-a-function-from-a-decorator-5\"><span class=\"toc-item-num\">5&nbsp;&nbsp;</span>How to unwrap a function from a decorator</a></span></li><li><span><a href=\"#What-would-it-be-if-there-was-not-decorator?\" data-toc-modified-id=\"What-would-it-be-if-there-was-not-decorator?-6\"><span class=\"toc-item-num\">6&nbsp;&nbsp;</span>What would it be if there was not decorator?</a></span></li><li><span><a href=\"#How-to-unwrap\" data-toc-modified-id=\"How-to-unwrap-7\"><span class=\"toc-item-num\">7&nbsp;&nbsp;</span>How to unwrap</a></span></li><li><span><a href=\"#Chaining-Decorators-in-Python\" data-toc-modified-id=\"Chaining-Decorators-in-Python-8\"><span class=\"toc-item-num\">8&nbsp;&nbsp;</span>Chaining Decorators in Python</a></span></li><li><span><a href=\"#How-to-handle-function-decorator-inside-a-class\" data-toc-modified-id=\"How-to-handle-function-decorator-inside-a-class-9\"><span class=\"toc-item-num\">9&nbsp;&nbsp;</span>How to handle function decorator inside a class</a></span></li><li><span><a href=\"#How-to-add-parameters-to-a-decorator\" data-toc-modified-id=\"How-to-add-parameters-to-a-decorator-10\"><span class=\"toc-item-num\">10&nbsp;&nbsp;</span>How to add parameters to a decorator</a></span></li><li><span><a href=\"#How-to-make-the-decorator-callable\" data-toc-modified-id=\"How-to-make-the-decorator-callable-11\"><span class=\"toc-item-num\">11&nbsp;&nbsp;</span>How to make the decorator callable</a></span><ul class=\"toc-item\"><li><span><a href=\"#With-args-and-kargs\" data-toc-modified-id=\"With-args-and-kargs-11.1\"><span class=\"toc-item-num\">11.1&nbsp;&nbsp;</span>With args and kargs</a></span></li><li><span><a href=\"#With-kargs-only\" data-toc-modified-id=\"With-kargs-only-11.2\"><span class=\"toc-item-num\">11.2&nbsp;&nbsp;</span>With kargs only</a></span></li></ul></li><li><span><a href=\"#Practical-Use-Cases\" data-toc-modified-id=\"Practical-Use-Cases-12\"><span class=\"toc-item-num\">12&nbsp;&nbsp;</span>Practical Use Cases</a></span></li><li><span><a href=\"#Advance-logging\" data-toc-modified-id=\"Advance-logging-13\"><span class=\"toc-item-num\">13&nbsp;&nbsp;</span>Advance logging</a></span></li><li><span><a href=\"#References\" data-toc-modified-id=\"References-14\"><span class=\"toc-item-num\">14&nbsp;&nbsp;</span>References</a></span></li></ul></div>"
   ]
  },
  {
   "cell_type": "markdown",
   "metadata": {},
   "source": [
    "# Introduction\n",
    "<hr style=\"border:2px solid black\"> </hr>"
   ]
  },
  {
   "cell_type": "markdown",
   "metadata": {},
   "source": [
    "<div class=\"alert alert-warning\">\n",
    "<font color=black>\n",
    "\n",
    "**What?** Function decorators\n",
    "\n",
    "</font>\n",
    "</div>"
   ]
  },
  {
   "cell_type": "markdown",
   "metadata": {},
   "source": [
    "# Import modules\n",
    "<hr style=\"border:2px solid black\"> </hr>"
   ]
  },
  {
   "cell_type": "code",
   "execution_count": 1,
   "metadata": {},
   "outputs": [],
   "source": [
    "import functools"
   ]
  },
  {
   "cell_type": "markdown",
   "metadata": {},
   "source": [
    "# What is a decorator?\n",
    "<hr style=\"border:2px solid black\"> </hr>"
   ]
  },
  {
   "cell_type": "markdown",
   "metadata": {},
   "source": [
    "<div class=\"alert alert-info\">\n",
    "<font color=black>\n",
    "\n",
    "- A decorator takes in a function, adds some functionality and **RETURNS** it.\n",
    "- A **decorator** is basically a function that takes another function as an argument, adds some kind of functionality and then returns another function. So why would we want to do something like this? Well, it's because this allows us to easily add or alter the functionality to our existing function method or class without having to directly use its subclasses. In short, **decorators** are simply wrappers to existing functions.\n",
    "\n",
    "</font>\n",
    "</div>"
   ]
  },
  {
   "cell_type": "markdown",
   "metadata": {},
   "source": [
    "# Creating a decorator\n",
    "<hr style=\"border:2px solid black\"> </hr>"
   ]
  },
  {
   "cell_type": "markdown",
   "metadata": {},
   "source": [
    "<div class=\"alert alert-info\">\n",
    "<font color=black>\n",
    "\n",
    "- Our decorator does nothing more than adding an extra print functions.\n",
    "- If you're wondering why there is a ` @functools.wraps ` here while other examples do not have it, it is because it is **good practice**. \n",
    "- This automatically adds a `__wrapped__` attribute that let you retrieve the original, undecorated function\n",
    "\n",
    "</font>\n",
    "</div>"
   ]
  },
  {
   "cell_type": "code",
   "execution_count": 2,
   "metadata": {},
   "outputs": [],
   "source": [
    "def ourDecorator(func):\n",
    "    @functools.wraps(func)\n",
    "    def functionWrapper(x):\n",
    "        print(\"Decorating the function\")\n",
    "        func(x)        \n",
    "    return functionWrapper"
   ]
  },
  {
   "cell_type": "code",
   "execution_count": 3,
   "metadata": {},
   "outputs": [],
   "source": [
    "@ourDecorator\n",
    "def foo(x):\n",
    "    print(\"Hi, foo has been called with: \" + str(x))"
   ]
  },
  {
   "cell_type": "code",
   "execution_count": 4,
   "metadata": {},
   "outputs": [
    {
     "name": "stdout",
     "output_type": "stream",
     "text": [
      "Decorating the function\n",
      "Hi, foo has been called with: Hi\n"
     ]
    }
   ],
   "source": [
    "# Let us call foo\n",
    "foo(\"Hi\")"
   ]
  },
  {
   "cell_type": "markdown",
   "metadata": {},
   "source": [
    "# How to unwrap a function from a decorator\n",
    "<hr style=\"border:2px solid black\"> </hr>"
   ]
  },
  {
   "cell_type": "markdown",
   "metadata": {},
   "source": [
    "<div class=\"alert alert-info\">\n",
    "<font color=black>\n",
    "\n",
    "- How do we go back to the undecorated function?\n",
    "- One solution would be to use @include_original \n",
    "- https://stackoverflow.com/questions/1166118/how-to-strip-decorators-from-a-function-in-python\n",
    "\n",
    "</font>\n",
    "</div>"
   ]
  },
  {
   "cell_type": "code",
   "execution_count": 5,
   "metadata": {},
   "outputs": [
    {
     "name": "stdout",
     "output_type": "stream",
     "text": [
      "Decorating the function\n",
      "Hi, foo has been called with: Hi\n"
     ]
    },
    {
     "data": {
      "text/plain": [
       "<function __main__.ourDecorator.<locals>.functionWrapper>"
      ]
     },
     "execution_count": 5,
     "metadata": {},
     "output_type": "execute_result"
    }
   ],
   "source": [
    "# This is equivalent to \n",
    "ourDecorator(foo(\"Hi\"))"
   ]
  },
  {
   "cell_type": "code",
   "execution_count": 6,
   "metadata": {},
   "outputs": [
    {
     "name": "stdout",
     "output_type": "stream",
     "text": [
      "Hi, foo has been called with: Hi\n"
     ]
    }
   ],
   "source": [
    "foo.__wrapped__(\"Hi\")"
   ]
  },
  {
   "cell_type": "code",
   "execution_count": 7,
   "metadata": {},
   "outputs": [
    {
     "data": {
      "text/plain": [
       "\"\\nHowever, instead of manually accessing the __wrapped__ attribute, it's better to use inspect.unwrap:\\nIT IS NOT WORKING!\\n\""
      ]
     },
     "execution_count": 7,
     "metadata": {},
     "output_type": "execute_result"
    }
   ],
   "source": [
    "\"\"\"\n",
    "However, instead of manually accessing the __wrapped__ attribute, it's better to use inspect.unwrap:\n",
    "IT IS NOT WORKING!\n",
    "\"\"\""
   ]
  },
  {
   "cell_type": "code",
   "execution_count": 8,
   "metadata": {},
   "outputs": [
    {
     "data": {
      "text/plain": [
       "<function __main__.foo(x)>"
      ]
     },
     "execution_count": 8,
     "metadata": {},
     "output_type": "execute_result"
    }
   ],
   "source": [
    "import inspect\n",
    "inspect.unwrap(foo)"
   ]
  },
  {
   "cell_type": "code",
   "execution_count": 9,
   "metadata": {},
   "outputs": [
    {
     "name": "stdout",
     "output_type": "stream",
     "text": [
      "Decorating the function\n",
      "Hi, foo has been called with: Hi\n"
     ]
    }
   ],
   "source": [
    "inspect.unwrap(foo(\"Hi\"))"
   ]
  },
  {
   "cell_type": "markdown",
   "metadata": {},
   "source": [
    "# What would it be if there was not decorator?\n",
    "<hr style=\"border:2px solid black\"> </hr>"
   ]
  },
  {
   "cell_type": "code",
   "execution_count": 10,
   "metadata": {},
   "outputs": [],
   "source": [
    "def make_pretty(func):\n",
    "    def inner():\n",
    "        print(\"I got decorated\")\n",
    "        func()\n",
    "    return inner\n",
    "\n",
    "\n",
    "def ordinary():\n",
    "    print(\"I am ordinary\")"
   ]
  },
  {
   "cell_type": "code",
   "execution_count": 11,
   "metadata": {},
   "outputs": [
    {
     "name": "stdout",
     "output_type": "stream",
     "text": [
      "I am ordinary\n"
     ]
    }
   ],
   "source": [
    "# Let us call the ordinary function\n",
    "ordinary()"
   ]
  },
  {
   "cell_type": "code",
   "execution_count": 12,
   "metadata": {},
   "outputs": [
    {
     "name": "stdout",
     "output_type": "stream",
     "text": [
      "I got decorated\n",
      "I am ordinary\n"
     ]
    }
   ],
   "source": [
    "# let's decorate this ordinary function. essentially all it added was a print statement\n",
    "pretty = make_pretty(ordinary)\n",
    "pretty()"
   ]
  },
  {
   "cell_type": "code",
   "execution_count": 13,
   "metadata": {},
   "outputs": [],
   "source": [
    "# Generally, we decorate a function and reassign it as\n",
    "ordinary = make_pretty(ordinary)"
   ]
  },
  {
   "cell_type": "code",
   "execution_count": 14,
   "metadata": {},
   "outputs": [
    {
     "name": "stdout",
     "output_type": "stream",
     "text": [
      "I got decorated\n",
      "I am ordinary\n"
     ]
    }
   ],
   "source": [
    "ordinary()"
   ]
  },
  {
   "cell_type": "markdown",
   "metadata": {},
   "source": [
    "<div class=\"alert alert-info\">\n",
    "<font color=black>\n",
    "\n",
    "- This is a common construct and for this reason, Python has a syntax to simplify this.\n",
    "- We can use the `@` symbol along with the name of the decorator function and place it above the definition of the function to be decorated. Essentially this is a syntactuc sugar \n",
    "\n",
    "</font>\n",
    "</div>"
   ]
  },
  {
   "cell_type": "code",
   "execution_count": 15,
   "metadata": {},
   "outputs": [],
   "source": [
    "@make_pretty\n",
    "def ordinary():\n",
    "    print(\"I am ordinary\")"
   ]
  },
  {
   "cell_type": "code",
   "execution_count": 16,
   "metadata": {},
   "outputs": [
    {
     "name": "stdout",
     "output_type": "stream",
     "text": [
      "I got decorated\n",
      "I am ordinary\n"
     ]
    }
   ],
   "source": [
    "ordinary()"
   ]
  },
  {
   "cell_type": "code",
   "execution_count": 17,
   "metadata": {},
   "outputs": [
    {
     "name": "stdout",
     "output_type": "stream",
     "text": [
      "I got decorated\n",
      "I am ordinary\n"
     ]
    }
   ],
   "source": [
    "# This is equivalent to\n",
    "def ordinary():\n",
    "    print(\"I am ordinary\")\n",
    "ordinary = make_pretty(ordinary)\n",
    "ordinary()"
   ]
  },
  {
   "cell_type": "markdown",
   "metadata": {},
   "source": [
    "# How to unwrap\n",
    "<hr style=\"border:2px solid black\"> </hr>"
   ]
  },
  {
   "cell_type": "code",
   "execution_count": 18,
   "metadata": {},
   "outputs": [],
   "source": [
    "def divide(a, b):\n",
    "    return a/b"
   ]
  },
  {
   "cell_type": "code",
   "execution_count": 19,
   "metadata": {},
   "outputs": [
    {
     "data": {
      "text/plain": [
       "2.0"
      ]
     },
     "execution_count": 19,
     "metadata": {},
     "output_type": "execute_result"
    }
   ],
   "source": [
    "divide(4,2)"
   ]
  },
  {
   "cell_type": "code",
   "execution_count": 20,
   "metadata": {},
   "outputs": [
    {
     "ename": "ZeroDivisionError",
     "evalue": "division by zero",
     "output_type": "error",
     "traceback": [
      "\u001b[0;31m---------------------------------------------------------------------------\u001b[0m",
      "\u001b[0;31mZeroDivisionError\u001b[0m                         Traceback (most recent call last)",
      "\u001b[0;32m<ipython-input-20-f9b68779a409>\u001b[0m in \u001b[0;36m<module>\u001b[0;34m\u001b[0m\n\u001b[1;32m      1\u001b[0m \u001b[0;31m# This call will spit out an error. We'll show how to create a decorator to check for this\u001b[0m\u001b[0;34m\u001b[0m\u001b[0;34m\u001b[0m\u001b[0;34m\u001b[0m\u001b[0m\n\u001b[0;32m----> 2\u001b[0;31m \u001b[0mdivide\u001b[0m\u001b[0;34m(\u001b[0m\u001b[0;36m4\u001b[0m\u001b[0;34m,\u001b[0m\u001b[0;36m0\u001b[0m\u001b[0;34m)\u001b[0m\u001b[0;34m\u001b[0m\u001b[0;34m\u001b[0m\u001b[0m\n\u001b[0m",
      "\u001b[0;32m<ipython-input-18-7507bdc665d5>\u001b[0m in \u001b[0;36mdivide\u001b[0;34m(a, b)\u001b[0m\n\u001b[1;32m      1\u001b[0m \u001b[0;32mdef\u001b[0m \u001b[0mdivide\u001b[0m\u001b[0;34m(\u001b[0m\u001b[0ma\u001b[0m\u001b[0;34m,\u001b[0m \u001b[0mb\u001b[0m\u001b[0;34m)\u001b[0m\u001b[0;34m:\u001b[0m\u001b[0;34m\u001b[0m\u001b[0;34m\u001b[0m\u001b[0m\n\u001b[0;32m----> 2\u001b[0;31m     \u001b[0;32mreturn\u001b[0m \u001b[0ma\u001b[0m\u001b[0;34m/\u001b[0m\u001b[0mb\u001b[0m\u001b[0;34m\u001b[0m\u001b[0;34m\u001b[0m\u001b[0m\n\u001b[0m",
      "\u001b[0;31mZeroDivisionError\u001b[0m: division by zero"
     ]
    }
   ],
   "source": [
    "# This call will spit out an error. We'll show how to create a decorator to check for this\n",
    "divide(4,0)"
   ]
  },
  {
   "cell_type": "code",
   "execution_count": null,
   "metadata": {},
   "outputs": [],
   "source": [
    "def smart_divide(func):\n",
    "    def inner(a, b):\n",
    "        print(\"I am going to divide\", a, \"and\", b)\n",
    "        if b == 0:\n",
    "            print(\"Whoops! cannot divide\")\n",
    "            return\n",
    "\n",
    "        return func(a, b)\n",
    "    return inner"
   ]
  },
  {
   "cell_type": "code",
   "execution_count": null,
   "metadata": {},
   "outputs": [],
   "source": [
    "@smart_divide\n",
    "def divide(a, b):\n",
    "    print(a/b)"
   ]
  },
  {
   "cell_type": "code",
   "execution_count": null,
   "metadata": {},
   "outputs": [],
   "source": [
    "divide(4,0)"
   ]
  },
  {
   "cell_type": "code",
   "execution_count": null,
   "metadata": {},
   "outputs": [],
   "source": [
    "# we saw it is good practice to add @functools.wraps()"
   ]
  },
  {
   "cell_type": "code",
   "execution_count": null,
   "metadata": {},
   "outputs": [],
   "source": [
    "def smart_divide(func):\n",
    "    @functools.wraps(func)\n",
    "    def inner(a, b):\n",
    "        print(\"I am going to divide\", a, \"and\", b)\n",
    "        if b == 0:\n",
    "            print(\"Whoops! cannot divide\")\n",
    "            return\n",
    "\n",
    "        return func(a, b)\n",
    "    return inner"
   ]
  },
  {
   "cell_type": "code",
   "execution_count": null,
   "metadata": {},
   "outputs": [],
   "source": [
    "@smart_divide\n",
    "def divide(a, b):\n",
    "    print(a/b)"
   ]
  },
  {
   "cell_type": "code",
   "execution_count": null,
   "metadata": {},
   "outputs": [],
   "source": [
    "# Again, if I want to use the old undecoreated function I can do\n",
    "divide.__wrapped__(4,0)"
   ]
  },
  {
   "cell_type": "code",
   "execution_count": null,
   "metadata": {},
   "outputs": [],
   "source": [
    "divide(4,0)"
   ]
  },
  {
   "cell_type": "markdown",
   "metadata": {},
   "source": [
    "# Chaining Decorators in Python\n",
    "<hr style=\"border:2px solid black\"> </hr>"
   ]
  },
  {
   "cell_type": "markdown",
   "metadata": {},
   "source": [
    "<div class=\"alert alert-info\">\n",
    "<font color=black>\n",
    "\n",
    "- Multiple decorators can be chained in Python.\n",
    "- This is to say, a function can be decorated multiple times with different (or same) decorators. \n",
    "- We simply place the decorators above the desired function.\n",
    "\n",
    "</font>\n",
    "</div>"
   ]
  },
  {
   "cell_type": "code",
   "execution_count": null,
   "metadata": {},
   "outputs": [],
   "source": [
    "def star(func):\n",
    "    def inner(*args, **kwargs):\n",
    "        print(\"*\" * 30)\n",
    "        func(*args, **kwargs)\n",
    "        print(\"*\" * 30)\n",
    "    return inner\n",
    "\n",
    "\n",
    "def percent(func):\n",
    "    def inner(*args, **kwargs):\n",
    "        print(\"%\" * 30)\n",
    "        func(*args, **kwargs)\n",
    "        print(\"%\" * 30)\n",
    "    return inner"
   ]
  },
  {
   "cell_type": "code",
   "execution_count": null,
   "metadata": {},
   "outputs": [],
   "source": [
    "@star\n",
    "@percent\n",
    "def printer(msg):\n",
    "    print(msg)\n",
    "\n",
    "\n",
    "printer(\"Hello\")"
   ]
  },
  {
   "cell_type": "code",
   "execution_count": null,
   "metadata": {},
   "outputs": [],
   "source": [
    "# For comlpeteness the above syntax is equivalent to \n",
    "def printer(msg):\n",
    "    print(msg)\n",
    "printer = star(percent(printer))"
   ]
  },
  {
   "cell_type": "markdown",
   "metadata": {},
   "source": [
    "# How to handle function decorator inside a class\n",
    "<hr style=\"border:2px solid black\"> </hr>"
   ]
  },
  {
   "cell_type": "markdown",
   "metadata": {},
   "source": [
    "<div class=\"alert alert-info\">\n",
    "<font color=black>\n",
    "\n",
    "- When decorating a method inside a class we need to hanfle `self` explicitly.\n",
    "\n",
    "</font>\n",
    "</div>"
   ]
  },
  {
   "cell_type": "code",
   "execution_count": null,
   "metadata": {},
   "outputs": [],
   "source": [
    "class A():\n",
    "        \n",
    "    def __init__(self, data):\n",
    "        self.data = data\n",
    "\n",
    "    def myPrintDecorator(func):\n",
    "        \"\"\"My print decorator        \n",
    "        \n",
    "        Print the name of the method when it is called.\n",
    "        \"\"\"\n",
    "        \n",
    "        def printCallNameMethod(self, *args, **kwargs):        \n",
    "            print(\"Using method\", func.__name__)\n",
    "            instance = func(self, *args, **kwargs)            \n",
    "            return instance \n",
    "        \n",
    "        return printCallNameMethod\n",
    "    \n",
    "    @myPrintDecorator\n",
    "    def double(self):\n",
    "        return self.data*2"
   ]
  },
  {
   "cell_type": "code",
   "execution_count": null,
   "metadata": {},
   "outputs": [],
   "source": [
    "instance = A([1,1])\n",
    "a = instance.double()\n",
    "print(a)"
   ]
  },
  {
   "cell_type": "markdown",
   "metadata": {},
   "source": [
    "# How to add parameters to a decorator\n",
    "<hr style=\"border:2px solid black\"> </hr>"
   ]
  },
  {
   "cell_type": "code",
   "execution_count": null,
   "metadata": {},
   "outputs": [],
   "source": []
  },
  {
   "cell_type": "code",
   "execution_count": null,
   "metadata": {},
   "outputs": [],
   "source": []
  },
  {
   "cell_type": "markdown",
   "metadata": {},
   "source": [
    "# How to make the decorator callable\n",
    "<hr style=\"border:2px solid black\"> </hr>"
   ]
  },
  {
   "cell_type": "markdown",
   "metadata": {},
   "source": [
    "<div class=\"alert alert-info\">\n",
    "<font color=black>\n",
    "\n",
    "\n",
    "\n",
    "- This is a template for a function decorator that does not require `()` if no parameters are to be given and supports both positional and keyword parameters (but requires cheching on `locals()` to find out if the first parameter is the function to be decorated or not):\n",
    "\n",
    "</font>\n",
    "</div>"
   ]
  },
  {
   "cell_type": "markdown",
   "metadata": {},
   "source": [
    "## With args and kargs"
   ]
  },
  {
   "cell_type": "code",
   "execution_count": 6,
   "metadata": {
    "ExecuteTime": {
     "end_time": "2023-06-23T07:46:11.454439Z",
     "start_time": "2023-06-23T07:46:11.451882Z"
    }
   },
   "outputs": [],
   "source": [
    "import functools"
   ]
  },
  {
   "cell_type": "code",
   "execution_count": 7,
   "metadata": {
    "ExecuteTime": {
     "end_time": "2023-06-23T07:46:12.232908Z",
     "start_time": "2023-06-23T07:46:12.229330Z"
    }
   },
   "outputs": [],
   "source": [
    "def multiplying(factor_or_func=None):\n",
    "    def _decorator(func):\n",
    "        @functools.wraps(func)\n",
    "        def wrapper(*args, **kwargs):\n",
    "            if 'factor_or_func' not in locals() \\\n",
    "                    or callable(factor_or_func) \\\n",
    "                    or factor_or_func is None:\n",
    "                factor = 1\n",
    "            else:\n",
    "                factor = factor_or_func\n",
    "            return factor * func(*args, **kwargs)\n",
    "        return wrapper\n",
    "    return _decorator(factor_or_func) if callable(factor_or_func) else _decorator"
   ]
  },
  {
   "cell_type": "code",
   "execution_count": 10,
   "metadata": {
    "ExecuteTime": {
     "end_time": "2023-06-23T07:46:45.836159Z",
     "start_time": "2023-06-23T07:46:45.831976Z"
    }
   },
   "outputs": [
    {
     "data": {
      "text/plain": [
       "5"
      ]
     },
     "execution_count": 10,
     "metadata": {},
     "output_type": "execute_result"
    }
   ],
   "source": [
    "@multiplying\n",
    "def summing(x): return sum(x)\n",
    "summing([3,2])"
   ]
  },
  {
   "cell_type": "code",
   "execution_count": 11,
   "metadata": {
    "ExecuteTime": {
     "end_time": "2023-06-23T07:46:50.943760Z",
     "start_time": "2023-06-23T07:46:50.939768Z"
    }
   },
   "outputs": [
    {
     "data": {
      "text/plain": [
       "5"
      ]
     },
     "execution_count": 11,
     "metadata": {},
     "output_type": "execute_result"
    }
   ],
   "source": [
    "@multiplying()\n",
    "def summing(x): return sum(x)\n",
    "summing([3,2])"
   ]
  },
  {
   "cell_type": "code",
   "execution_count": 13,
   "metadata": {
    "ExecuteTime": {
     "end_time": "2023-06-23T07:47:17.560876Z",
     "start_time": "2023-06-23T07:47:17.556939Z"
    }
   },
   "outputs": [
    {
     "data": {
      "text/plain": [
       "10"
      ]
     },
     "execution_count": 13,
     "metadata": {},
     "output_type": "execute_result"
    }
   ],
   "source": [
    "@multiplying(2)\n",
    "def summing(x): return sum(x)\n",
    "summing([3,2])"
   ]
  },
  {
   "cell_type": "markdown",
   "metadata": {},
   "source": [
    "## With kargs only"
   ]
  },
  {
   "cell_type": "code",
   "execution_count": 15,
   "metadata": {
    "ExecuteTime": {
     "end_time": "2023-06-23T07:47:51.757432Z",
     "start_time": "2023-06-23T07:47:51.753733Z"
    }
   },
   "outputs": [],
   "source": [
    "def multiplying(func_=None, factor=1):\n",
    "    def _decorator(func):\n",
    "        @functools.wraps(func)\n",
    "        def wrapper(*args, **kwargs):\n",
    "            return factor * func(*args, **kwargs)\n",
    "        return wrapper\n",
    "\n",
    "    if callable(func_):\n",
    "        return _decorator(func_)\n",
    "    elif func_ is None:\n",
    "        return _decorator\n",
    "    else:\n",
    "        raise RuntimeWarning(\"Positional arguments are not supported.\")"
   ]
  },
  {
   "cell_type": "code",
   "execution_count": 16,
   "metadata": {
    "ExecuteTime": {
     "end_time": "2023-06-23T07:48:00.334295Z",
     "start_time": "2023-06-23T07:48:00.330448Z"
    }
   },
   "outputs": [
    {
     "data": {
      "text/plain": [
       "5"
      ]
     },
     "execution_count": 16,
     "metadata": {},
     "output_type": "execute_result"
    }
   ],
   "source": [
    "@multiplying\n",
    "def summing(x): return sum(x)\n",
    "summing([3,2])"
   ]
  },
  {
   "cell_type": "code",
   "execution_count": 17,
   "metadata": {
    "ExecuteTime": {
     "end_time": "2023-06-23T07:48:05.869031Z",
     "start_time": "2023-06-23T07:48:05.865319Z"
    }
   },
   "outputs": [
    {
     "data": {
      "text/plain": [
       "5"
      ]
     },
     "execution_count": 17,
     "metadata": {},
     "output_type": "execute_result"
    }
   ],
   "source": [
    "@multiplying()\n",
    "def summing(x): return sum(x)\n",
    "summing([3,2])"
   ]
  },
  {
   "cell_type": "code",
   "execution_count": 19,
   "metadata": {
    "ExecuteTime": {
     "end_time": "2023-06-23T07:48:15.183880Z",
     "start_time": "2023-06-23T07:48:15.179802Z"
    }
   },
   "outputs": [
    {
     "data": {
      "text/plain": [
       "10"
      ]
     },
     "execution_count": 19,
     "metadata": {},
     "output_type": "execute_result"
    }
   ],
   "source": [
    "@multiplying(factor=2)\n",
    "def summing(x): return sum(x)\n",
    "summing([3,2])"
   ]
  },
  {
   "cell_type": "markdown",
   "metadata": {},
   "source": [
    "# Practical Use Cases\n",
    "<hr style=\"border:2px solid black\"> </hr>"
   ]
  },
  {
   "cell_type": "markdown",
   "metadata": {
    "code_folding": [
     3
    ]
   },
   "source": [
    "<div class=\"alert alert-info\">\n",
    "<font color=black>\n",
    "\n",
    "- While writing a large code there two things we want to do as basics.\n",
    "    - How fast it runs and generally we time it\n",
    "    - What is doing and generally we use some print statements\n",
    "\n",
    "- Now consider the situation where you have to do it over and over. A nice way to save you space and time is to create two decorator that do just this for you.\n",
    "\n",
    "</font>\n",
    "</div>"
   ]
  },
  {
   "cell_type": "code",
   "execution_count": null,
   "metadata": {},
   "outputs": [],
   "source": [
    "import time\n",
    "import logging\n",
    "import functools\n",
    "\n",
    "def timer(func):\n",
    "    \"\"\"time the running time of the passed in function\"\"\"\n",
    "    @functools.wraps(func)\n",
    "    def wrapper(*args, **kwargs):\n",
    "        t1 = time.time()\n",
    "        result = func(*args, **kwargs)\n",
    "        t2 = time.time() - t1\n",
    "        print('{} ran in: {} sec'.format(func.__name__, t2))\n",
    "        return result\n",
    "    \n",
    "    return wrapper"
   ]
  },
  {
   "cell_type": "code",
   "execution_count": null,
   "metadata": {},
   "outputs": [],
   "source": [
    "@timer\n",
    "def display_info(name, age):\n",
    "    time.sleep(1)  # manually add a second to the timing\n",
    "    print('display info ran with arguments ({}, {})'.format(name, age))\n",
    "\n",
    "display_info('John', 25)"
   ]
  },
  {
   "cell_type": "code",
   "execution_count": null,
   "metadata": {},
   "outputs": [],
   "source": [
    "def logger(func):\n",
    "    \"\"\"\n",
    "    create logging for the function,\n",
    "    re-define the format to add specific logging time\n",
    "    \"\"\"\n",
    "    @functools.wraps(func)\n",
    "    def wrapper(*args, **kwargs):\n",
    "        logging.basicConfig(\n",
    "            filename = './logging_example',\n",
    "            format = '%(asctime)s -- %(levelname)s:%(name)s: %(message)s',\n",
    "            datefmt = '%Y/%m/%d-%H:%M:%S',\n",
    "            level = logging.INFO)\n",
    "        \n",
    "        # custom the logging information\n",
    "        logging.info('Ran with args: {} and kwargs: {}'.format(args, kwargs))\n",
    "        return func(*args, **kwargs)\n",
    "\n",
    "    return wrapper"
   ]
  },
  {
   "cell_type": "code",
   "execution_count": null,
   "metadata": {},
   "outputs": [],
   "source": [
    "# http://stackoverflow.com/questions/18786912/get-output-from-the-logging-module-in-ipython-notebook\n",
    "# ipython notebook already call basicConfig somewhere, thus reload the logging\n",
    "import logging\n",
    "from importlib import reload\n",
    "reload(logging)\n",
    "\n",
    "@logger\n",
    "def display_info(name, age):\n",
    "    print('display info ran with arguments ({}, {})'.format(name, age))\n",
    "    \n",
    "display_info('John', 25)"
   ]
  },
  {
   "cell_type": "code",
   "execution_count": null,
   "metadata": {},
   "outputs": [],
   "source": [
    "@logger\n",
    "@timer\n",
    "def display_info(name, age):\n",
    "    time.sleep(1) # manually add a second to the timing\n",
    "    print('display info ran with arguments ({}, {})'.format(name, age))\n",
    "    \n",
    "display_info('Tom', 22)"
   ]
  },
  {
   "cell_type": "code",
   "execution_count": null,
   "metadata": {
    "scrolled": true
   },
   "outputs": [],
   "source": [
    "dir(logging)"
   ]
  },
  {
   "cell_type": "code",
   "execution_count": null,
   "metadata": {},
   "outputs": [],
   "source": [
    "import logging\n",
    "\n",
    "logging.basicConfig(filename='./example.log', encoding='utf-8', level=logging.DEBUG)\n",
    "logging.debug('This message should go to the log file')\n",
    "logging.info('So should this')\n",
    "logging.warning('And this, too')\n",
    "logging.error('And non-ASCII stuff, too, like Øresund and Malmö')"
   ]
  },
  {
   "cell_type": "markdown",
   "metadata": {},
   "source": [
    "# Advance logging\n",
    "<hr style=\"border:2px solid black\"> </hr>"
   ]
  },
  {
   "cell_type": "markdown",
   "metadata": {},
   "source": [
    "<div class=\"alert alert-info\">\n",
    "<font color=black>\n",
    "\n",
    "- Please refer to this folder `Decorators_Advanced_Example` for a more advanced used of the decorators. \n",
    "- In particular, one of th example shows how to keep track of two diffrent handlers: one that is written on a `.log` file where you print all the info and another one that keep track of the message printed on the console.\n",
    "\n",
    "</font>\n",
    "</div>"
   ]
  },
  {
   "cell_type": "code",
   "execution_count": 9,
   "metadata": {
    "scrolled": true
   },
   "outputs": [
    {
     "name": "stdout",
     "output_type": "stream",
     "text": [
      "\u001b[34mHow_to_use_decorators_for_logging/\u001b[m\u001b[m\r\n"
     ]
    }
   ],
   "source": [
    "# List only directories\n",
    "!ls -d */"
   ]
  },
  {
   "cell_type": "code",
   "execution_count": 2,
   "metadata": {
    "ExecuteTime": {
     "end_time": "2022-01-22T12:18:32.804560Z",
     "start_time": "2022-01-22T12:18:32.684218Z"
    }
   },
   "outputs": [
    {
     "name": "stdout",
     "output_type": "stream",
     "text": [
      "@classmethod.ipynb                Function decorators.ipynb\r\n",
      "@property.ipynb                   \u001b[34mGitHub_MD_rendering\u001b[m\u001b[m\r\n",
      "@staticmethod.ipynb               \u001b[34mHow_to_use_decorators_for_logging\u001b[m\u001b[m\r\n",
      "Class decorators.ipynb\r\n"
     ]
    }
   ],
   "source": [
    "!ls"
   ]
  },
  {
   "cell_type": "markdown",
   "metadata": {},
   "source": [
    "# References\n",
    "<hr style=\"border:2px solid black\"> </hr>"
   ]
  },
  {
   "cell_type": "markdown",
   "metadata": {},
   "source": [
    "<div class=\"alert alert-warning\">\n",
    "<font color=black>\n",
    "\n",
    "- https://www.programiz.com/python-programming/decorator\n",
    "- [How to handle function decorator inside a class](https://stackoverflow.com/questions/38524332/declaring-decorator-inside-a-class)\n",
    "- [Blog: Guide to python function decorators](http://thecodeship.com/patterns/guide-to-python-function-decorators/)\n",
    "- [Youtube: Decorators - Dynamically Alter The Functionality Of Your Functions](https://www.youtube.com/watch?v=FsAPt_9Bf3U)\n",
    "- http://nbviewer.jupyter.org/github/ethen8181/machine-learning/blob/master/python/decorators/decorators.ipynb\n",
    "- https://medium.com/swlh/add-log-decorators-to-your-python-project-84094f832181\n",
    "- https://machinelearningmastery.com/a-gentle-introduction-to-decorators-in-python/\n",
    "- [Decorators with parameters?](https://stackoverflow.com/questions/5929107/decorators-with-parameters)\n",
    "    \n",
    "</font>\n",
    "</div>"
   ]
  },
  {
   "cell_type": "code",
   "execution_count": null,
   "metadata": {},
   "outputs": [],
   "source": []
  }
 ],
 "metadata": {
  "hide_input": false,
  "kernelspec": {
   "display_name": "trainingAI",
   "language": "python",
   "name": "trainingai"
  },
  "language_info": {
   "codemirror_mode": {
    "name": "ipython",
    "version": 3
   },
   "file_extension": ".py",
   "mimetype": "text/x-python",
   "name": "python",
   "nbconvert_exporter": "python",
   "pygments_lexer": "ipython3",
   "version": "3.9.7"
  },
  "toc": {
   "base_numbering": 1,
   "nav_menu": {},
   "number_sections": true,
   "sideBar": true,
   "skip_h1_title": false,
   "title_cell": "Table of Contents",
   "title_sidebar": "Contents",
   "toc_cell": true,
   "toc_position": {
    "height": "calc(100% - 180px)",
    "left": "10px",
    "top": "150px",
    "width": "353.35px"
   },
   "toc_section_display": true,
   "toc_window_display": true
  },
  "varInspector": {
   "cols": {
    "lenName": 16,
    "lenType": 16,
    "lenVar": 40
   },
   "kernels_config": {
    "python": {
     "delete_cmd_postfix": "",
     "delete_cmd_prefix": "del ",
     "library": "var_list.py",
     "varRefreshCmd": "print(var_dic_list())"
    },
    "r": {
     "delete_cmd_postfix": ") ",
     "delete_cmd_prefix": "rm(",
     "library": "var_list.r",
     "varRefreshCmd": "cat(var_dic_list()) "
    }
   },
   "types_to_exclude": [
    "module",
    "function",
    "builtin_function_or_method",
    "instance",
    "_Feature"
   ],
   "window_display": false
  }
 },
 "nbformat": 4,
 "nbformat_minor": 2
}
