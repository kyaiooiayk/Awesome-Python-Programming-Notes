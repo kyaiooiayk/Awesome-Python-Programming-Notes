{
 "cells": [
  {
   "cell_type": "markdown",
   "id": "0a985102",
   "metadata": {
    "toc": true
   },
   "source": [
    "<h1>Table of Contents<span class=\"tocSkip\"></span></h1>\n",
""   ]
  },
  {
   "cell_type": "markdown",
   "id": "awful-romance",
   "metadata": {},
   "source": [
    "# Introduction\n",
    "<hr style=\"border:2px solid black\"> </hr>"
   ]
  },
  {
   "cell_type": "markdown",
   "id": "indirect-marketing",
   "metadata": {},
   "source": [
    "\n",
    "**What?**  What does `if __name__ == \"__main__\"`: do?\n",
    "\n",
""   ]
  },
  {
   "cell_type": "markdown",
   "id": "aware-major",
   "metadata": {},
   "source": [
    "# The basics\n",
    "<hr style=\"border:2px solid black\"> </hr>"
   ]
  },
  {
   "cell_type": "markdown",
   "id": "arctic-fight",
   "metadata": {},
   "source": [
    "\n",
    "- `__name__` is a global variable.\n",
    "\n",
    "- `__name__` variable points to the namespace wherever the Python interpreter happens to be at the moment. \n",
    "\n",
    "- The global variable, __name__, in the module that is the entry point to your program, is `__main__`. \n",
    "    \n",
    "- If you are not using the construct `__name__ == \"__main__\" the `__name__` is assigned to the name you import the module by.\n",
    "\n",
    "- So, the code under the if block runs if the module is the entry point to your program.\n",
    "\n",
    "- **In practice?** It allows the code in the module to be importable by other modules, without executing the code block beneath on import.\n",
    "\n",
""   ]
  },
  {
   "cell_type": "markdown",
   "id": "located-cambodia",
   "metadata": {},
   "source": [
    "# The problem\n",
    "<hr style=\"border:2px solid black\"> </hr>"
   ]
  },
  {
   "cell_type": "markdown",
   "id": "collaborative-copper",
   "metadata": {},
   "source": [
    "\n",
    "- Let's assume we have a script called `important.py`\n",
    "- Now I can call the script as normal with `python important.py` and this works OK.\n",
    "- However, what happens when I import this script from another script called `test_import.py`? The function `do_important()` get executed. \n",
    "- **What if this is a behaviour we do not want?** This is where the `__name__ == \"__main__\"` construct comes to the rescue.\n",
    "\n",
""   ]
  },
  {
   "cell_type": "code",
   "execution_count": 14,
   "id": "given-execution",
   "metadata": {},
   "outputs": [
    {
     "name": "stdout",
     "output_type": "stream",
     "text": [
      "What does  __name__ == __main__ do?.ipynb\r\n",
      "\u001b[34m__pycache__\u001b[m\u001b[m\r\n",
      "important.py\r\n",
      "test_import.py\r\n"
     ]
    }
   ],
   "source": [
    "# Checking if the script is present\n",
    "!ls"
   ]
  },
  {
   "cell_type": "code",
   "execution_count": 15,
   "id": "subsequent-warner",
   "metadata": {},
   "outputs": [
    {
     "name": "stdout",
     "output_type": "stream",
     "text": [
      "I'm doing some important stuff here!\r\n",
      "Called from important.py, __name__ has value?: __main__\r\n"
     ]
    }
   ],
   "source": [
    "# tunning the script\n",
    "!python important.py"
   ]
  },
  {
   "cell_type": "code",
   "execution_count": 17,
   "id": "exotic-xerox",
   "metadata": {},
   "outputs": [
    {
     "name": "stdout",
     "output_type": "stream",
     "text": [
      "I'm doing some important stuff here!\r\n",
      "Called from important.py, __name__ has value?: important\r\n",
      "Called from test_import.py, __name__ has value?: __main__\r\n"
     ]
    }
   ],
   "source": [
    "# As you can see what is inside important.py get executed\n",
    "!python test_import.py"
   ]
  },
  {
   "cell_type": "markdown",
   "id": "incoming-roulette",
   "metadata": {},
   "source": [
    "# A better way\n",
    "<hr style=\"border:2px solid black\"> </hr>"
   ]
  },
  {
   "cell_type": "markdown",
   "id": "scheduled-proposition",
   "metadata": {},
   "source": [
    "\n",
    "- `__name__` variable points to the namespace wherever the Python interpreter happens to be at the moment. \n",
    "- Inside an imported module, it's the name of that module/script. \n",
    "- There's a **Pythonic way** to improve on this. All we are trying to say is how to we call the script only when we want to do and how do we protect the script when we import the module but we do not want to runt it unless called specifically?\n",
    "- We are going to rewrite our to scripts. These are indicated by the `_new.py`\n",
    "\n",
""   ]
  },
  {
   "cell_type": "code",
   "execution_count": 22,
   "id": "public-coffee",
   "metadata": {},
   "outputs": [
    {
     "name": "stdout",
     "output_type": "stream",
     "text": [
      "What does  __name__ == __main__ do?.ipynb\r\n",
      "\u001b[34m__pycache__\u001b[m\u001b[m\r\n",
      "important.py\r\n",
      "important_new.py\r\n",
      "test_import.py\r\n",
      "test_import_new.py\r\n"
     ]
    }
   ],
   "source": [
    "!ls"
   ]
  },
  {
   "cell_type": "code",
   "execution_count": 28,
   "id": "secure-registrar",
   "metadata": {},
   "outputs": [
    {
     "name": "stdout",
     "output_type": "stream",
     "text": [
      "Called from important_new.py, __name__ has value?: __main__\r\n",
      "I'm doing some important stuff here!\r\n"
     ]
    }
   ],
   "source": [
    "# The model still behaves as before\n",
    "!python important_new.py"
   ]
  },
  {
   "cell_type": "code",
   "execution_count": 30,
   "id": "powerful-advantage",
   "metadata": {},
   "outputs": [
    {
     "name": "stdout",
     "output_type": "stream",
     "text": [
      "Called from important_new.py, __name__ has value?: important_new\r\n",
      "Called from test_import_new.py, __name__ has value?: __main__\r\n"
     ]
    }
   ],
   "source": [
    "# The real difference is here. As you can see the function is not extecuted\n",
    "!python test_import_new.py"
   ]
  },
  {
   "cell_type": "markdown",
   "id": "informative-thriller",
   "metadata": {},
   "source": [
    "# Others\n",
    "<hr style=\"border:2px solid black\"> </hr>"
   ]
  },
  {
   "cell_type": "code",
   "execution_count": 31,
   "id": "monetary-grade",
   "metadata": {},
   "outputs": [
    {
     "name": "stdout",
     "output_type": "stream",
     "text": [
      "Called from important_new.py, __name__ has value?: important_new\n"
     ]
    }
   ],
   "source": [
    "# Importing but not executing it\n",
    "import important_new"
   ]
  },
  {
   "cell_type": "code",
   "execution_count": 33,
   "id": "sticky-ratio",
   "metadata": {},
   "outputs": [
    {
     "name": "stdout",
     "output_type": "stream",
     "text": [
      "I'm doing some important stuff here!\n"
     ]
    }
   ],
   "source": [
    "# Executing explicitly the function defined under the main\n",
    "important_new.main()"
   ]
  },
  {
   "cell_type": "markdown",
   "id": "colonial-baltimore",
   "metadata": {},
   "source": [
    "# Conclusions\n",
    "<hr style=\"border:2px solid black\"> </hr>"
   ]
  },
  {
   "cell_type": "markdown",
   "id": "054bbfd5",
   "metadata": {},
   "source": [
    "\n",
    "- `__name__` is a variable defined for each script that defines whether the script is being run as the main module or it is being run as an imported module.\n",
    "\n",
    "- So it's possible to program different behaviour into a module for the two cases:\n",
    "    - As a module or\n",
    "    - As a script.\n",
    " \n",
""   ]
  },
  {
   "cell_type": "markdown",
   "id": "several-image",
   "metadata": {},
   "source": [
    "# References\n",
    "<hr style=\"border:2px solid black\"> </hr>"
   ]
  },
  {
   "cell_type": "markdown",
   "id": "humanitarian-badge",
   "metadata": {},
   "source": [
    "\n",
    "- https://stackoverflow.com/questions/419163/what-does-if-name-main-do \n",
    "\n",
""   ]
  },
  {
   "cell_type": "code",
   "execution_count": null,
   "id": "departmental-swimming",
   "metadata": {},
   "outputs": [],
   "source": []
  }
 ],
 "metadata": {
  "hide_input": false,
  "kernelspec": {
   "display_name": "mlops",
   "language": "python",
   "name": "mlops"
  },
  "language_info": {
   "codemirror_mode": {
    "name": "ipython",
    "version": 3
   },
   "file_extension": ".py",
   "mimetype": "text/x-python",
   "name": "python",
   "nbconvert_exporter": "python",
   "pygments_lexer": "ipython3",
   "version": "3.8.16"
  },
  "toc": {
   "base_numbering": 1,
   "nav_menu": {},
   "number_sections": true,
   "sideBar": true,
   "skip_h1_title": false,
   "title_cell": "Table of Contents",
   "title_sidebar": "Contents",
   "toc_cell": true,
   "toc_position": {
    "height": "calc(100% - 180px)",
    "left": "10px",
    "top": "150px",
    "width": "212.1px"
   },
   "toc_section_display": true,
   "toc_window_display": true
  },
  "varInspector": {
   "cols": {
    "lenName": 16,
    "lenType": 16,
    "lenVar": 40
   },
   "kernels_config": {
    "python": {
     "delete_cmd_postfix": "",
     "delete_cmd_prefix": "del ",
     "library": "var_list.py",
     "varRefreshCmd": "print(var_dic_list())"
    },
    "r": {
     "delete_cmd_postfix": ") ",
     "delete_cmd_prefix": "rm(",
     "library": "var_list.r",
     "varRefreshCmd": "cat(var_dic_list()) "
    }
   },
   "types_to_exclude": [
    "module",
    "function",
    "builtin_function_or_method",
    "instance",
    "_Feature"
   ],
   "window_display": false
  }
 },
 "nbformat": 4,
 "nbformat_minor": 5
}
