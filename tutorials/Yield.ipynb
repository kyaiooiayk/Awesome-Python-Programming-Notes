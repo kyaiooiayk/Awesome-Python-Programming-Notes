{
 "cells": [
  {
   "cell_type": "markdown",
   "metadata": {
    "toc": true
   },
   "source": [
    "<h1>Table of Contents<span class=\"tocSkip\"></span></h1>\n",
    "<div class=\"toc\"><ul class=\"toc-item\"><li><span><a href=\"#Introduction\" data-toc-modified-id=\"Introduction-1\"><span class=\"toc-item-num\">1&nbsp;&nbsp;</span>Introduction</a></span></li><li><span><a href=\"#What-is-Yield?\" data-toc-modified-id=\"What-is-Yield?-2\"><span class=\"toc-item-num\">2&nbsp;&nbsp;</span>What is Yield?</a></span></li><li><span><a href=\"#Case-with-no-yield\" data-toc-modified-id=\"Case-with-no-yield-3\"><span class=\"toc-item-num\">3&nbsp;&nbsp;</span>Case with no yield</a></span></li><li><span><a href=\"#Case-with-yield\" data-toc-modified-id=\"Case-with-yield-4\"><span class=\"toc-item-num\">4&nbsp;&nbsp;</span>Case with yield</a></span></li><li><span><a href=\"#Another-example\" data-toc-modified-id=\"Another-example-5\"><span class=\"toc-item-num\">5&nbsp;&nbsp;</span>Another example</a></span></li><li><span><a href=\"#Approaches-to-overcome-generator-exhaustion\" data-toc-modified-id=\"Approaches-to-overcome-generator-exhaustion-6\"><span class=\"toc-item-num\">6&nbsp;&nbsp;</span>Approaches to overcome generator exhaustion</a></span></li><li><span><a href=\"#Generator-are-memory-efficient\" data-toc-modified-id=\"Generator-are-memory-efficient-7\"><span class=\"toc-item-num\">7&nbsp;&nbsp;</span>Generator are memory efficient</a></span></li><li><span><a href=\"#yield-from\" data-toc-modified-id=\"yield-from-8\"><span class=\"toc-item-num\">8&nbsp;&nbsp;</span>yield from</a></span></li><li><span><a href=\"#References\" data-toc-modified-id=\"References-9\"><span class=\"toc-item-num\">9&nbsp;&nbsp;</span>References</a></span></li></ul></div>"
   ]
  },
  {
   "cell_type": "markdown",
   "metadata": {},
   "source": [
    "# Introduction"
   ]
  },
  {
   "cell_type": "markdown",
   "metadata": {},
   "source": [
    "<div class=\"alert alert-warning\">\n",
    "<font color=black>\n",
    "\n",
    "**What?** Yield\n",
    "\n",
    "</font>\n",
    "</div>"
   ]
  },
  {
   "cell_type": "markdown",
   "metadata": {},
   "source": [
    "# What is Yield?"
   ]
  },
  {
   "cell_type": "markdown",
   "metadata": {},
   "source": [
    "<div class=\"alert alert-info\">\n",
    "<font color=black>\n",
    "\n",
    "- The `yield` keyword can turn any function into a generator object. \n",
    "- Yields work like a standard `return` keyword.\n",
    "- When done so, the function instead of returning the output, it returns a generator that can be **iterated upon**. \n",
    "\n",
    "</font>\n",
    "</div>"
   ]
  },
  {
   "cell_type": "markdown",
   "metadata": {},
   "source": [
    "# Case with no yield"
   ]
  },
  {
   "cell_type": "code",
   "execution_count": 15,
   "metadata": {
    "ExecuteTime": {
     "end_time": "2024-05-31T16:16:11.746699Z",
     "start_time": "2024-05-31T16:16:11.743726Z"
    }
   },
   "outputs": [],
   "source": [
    "def testgen_baseline(index):\n",
    "    weekdays = ['sun','mon','tue','wed','thu','fri','sat']\n",
    "    return weekdays[index]"
   ]
  },
  {
   "cell_type": "code",
   "execution_count": 17,
   "metadata": {
    "ExecuteTime": {
     "end_time": "2024-05-31T16:16:16.179876Z",
     "start_time": "2024-05-31T16:16:16.176816Z"
    }
   },
   "outputs": [
    {
     "name": "stdout",
     "output_type": "stream",
     "text": [
      "sun\n",
      "<class 'str'>\n"
     ]
    }
   ],
   "source": [
    "day = testgen_baseline(0)\n",
    "print(day)\n",
    "print(type(day))"
   ]
  },
  {
   "cell_type": "code",
   "execution_count": 19,
   "metadata": {
    "ExecuteTime": {
     "end_time": "2024-05-31T16:16:20.188480Z",
     "start_time": "2024-05-31T16:16:20.185165Z"
    }
   },
   "outputs": [
    {
     "name": "stdout",
     "output_type": "stream",
     "text": [
      "mon\n",
      "mon\n"
     ]
    }
   ],
   "source": [
    "day = testgen_baseline(1)\n",
    "print(day)\n",
    "# Still print the same value as expected!\n",
    "print(day)"
   ]
  },
  {
   "cell_type": "markdown",
   "metadata": {},
   "source": [
    "# Case with yield"
   ]
  },
  {
   "cell_type": "code",
   "execution_count": 31,
   "metadata": {
    "ExecuteTime": {
     "end_time": "2024-05-31T16:17:37.348898Z",
     "start_time": "2024-05-31T16:17:37.345669Z"
    }
   },
   "outputs": [],
   "source": [
    "def testgen_with_yield(index):\n",
    "    weekdays = ['sun','mon','tue','wed','thu','fri','sat']\n",
    "    yield weekdays[index]\n",
    "    yield weekdays[index+1]"
   ]
  },
  {
   "cell_type": "code",
   "execution_count": 32,
   "metadata": {
    "ExecuteTime": {
     "end_time": "2024-05-31T16:17:37.699889Z",
     "start_time": "2024-05-31T16:17:37.695991Z"
    }
   },
   "outputs": [
    {
     "name": "stdout",
     "output_type": "stream",
     "text": [
      "<generator object testgen_with_yield at 0x7fe6fc492ba0>\n",
      "<class 'generator'>\n"
     ]
    }
   ],
   "source": [
    "day = testgen_with_yield(0)\n",
    "print(day)\n",
    "print(type(day))"
   ]
  },
  {
   "cell_type": "markdown",
   "metadata": {},
   "source": [
    "<div class=\"alert alert-info\">\n",
    "<font color=black>\n",
    "\n",
    "- You can then iterate through the generator to extract items. \n",
    "- Iterating is done using a `for loop` or simply using the `next()` function.\n",
    "\n",
    "</font>\n",
    "</div>"
   ]
  },
  {
   "cell_type": "code",
   "execution_count": 33,
   "metadata": {
    "ExecuteTime": {
     "end_time": "2024-05-31T16:17:38.544000Z",
     "start_time": "2024-05-31T16:17:38.540986Z"
    }
   },
   "outputs": [
    {
     "name": "stdout",
     "output_type": "stream",
     "text": [
      "sun mon\n"
     ]
    }
   ],
   "source": [
    "print(next(day), next(day))"
   ]
  },
  {
   "cell_type": "code",
   "execution_count": 38,
   "metadata": {
    "ExecuteTime": {
     "end_time": "2024-05-31T16:18:18.923183Z",
     "start_time": "2024-05-31T16:18:18.919806Z"
    }
   },
   "outputs": [
    {
     "name": "stdout",
     "output_type": "stream",
     "text": [
      "= sun\n",
      "= mon\n"
     ]
    }
   ],
   "source": [
    "day = testgen_with_yield(0)\n",
    "for i in day:\n",
    "    print(\"=\", i)"
   ]
  },
  {
   "cell_type": "code",
   "execution_count": 41,
   "metadata": {
    "ExecuteTime": {
     "end_time": "2024-05-31T16:18:24.920784Z",
     "start_time": "2024-05-31T16:18:24.917736Z"
    }
   },
   "outputs": [
    {
     "name": "stdout",
     "output_type": "stream",
     "text": [
      "= sun mon\n"
     ]
    }
   ],
   "source": [
    "day = testgen_with_yield(0)\n",
    "for i in day:\n",
    "    print(\"=\", i, next(day))"
   ]
  },
  {
   "cell_type": "markdown",
   "metadata": {},
   "source": [
    "<div class=\"alert alert-info\">\n",
    "<font color=black>\n",
    "\n",
    "- **How do we explain the error below?**\n",
    "- Each time you iterate, Python runs the code **until** it encounters a yield statement inside the function. \n",
    "- Then, it sends the yielded value and pauses the function in that state without exiting. \n",
    "- When the function is invoked the next time, the **state** at which it was last paused is remembered and execution is continued from that point onwards. It means, any local variable you may have created inside the function before yield was called will be available the next time you invoke the function.\n",
    "- This continues until the generator is exhausted.\n",
    "\n",
    "</font>\n",
    "</div>"
   ]
  },
  {
   "cell_type": "code",
   "execution_count": 42,
   "metadata": {
    "ExecuteTime": {
     "end_time": "2024-05-31T16:18:45.641757Z",
     "start_time": "2024-05-31T16:18:45.624670Z"
    }
   },
   "outputs": [
    {
     "name": "stdout",
     "output_type": "stream",
     "text": [
      "= mon\n"
     ]
    },
    {
     "ename": "StopIteration",
     "evalue": "",
     "output_type": "error",
     "traceback": [
      "\u001b[0;31m---------------------------------------------------------------------------\u001b[0m",
      "\u001b[0;31mStopIteration\u001b[0m                             Traceback (most recent call last)",
      "Input \u001b[0;32mIn [42]\u001b[0m, in \u001b[0;36m<cell line: 3>\u001b[0;34m()\u001b[0m\n\u001b[1;32m      3\u001b[0m \u001b[38;5;28;01mfor\u001b[39;00m i \u001b[38;5;129;01min\u001b[39;00m day:\n\u001b[1;32m      4\u001b[0m     \u001b[38;5;28mprint\u001b[39m(\u001b[38;5;124m\"\u001b[39m\u001b[38;5;124m=\u001b[39m\u001b[38;5;124m\"\u001b[39m, i)\n\u001b[0;32m----> 5\u001b[0m     \u001b[38;5;28mprint\u001b[39m(\u001b[38;5;28;43mnext\u001b[39;49m\u001b[43m(\u001b[49m\u001b[43mday\u001b[49m\u001b[43m)\u001b[49m)\n",
      "\u001b[0;31mStopIteration\u001b[0m: "
     ]
    }
   ],
   "source": [
    "day = testgen_with_yield(0)\n",
    "next(day)\n",
    "for i in day:\n",
    "    print(\"=\", i)\n",
    "    print(next(day))\n"
   ]
  },
  {
   "cell_type": "markdown",
   "metadata": {},
   "source": [
    "# Another example"
   ]
  },
  {
   "cell_type": "markdown",
   "metadata": {},
   "source": [
    "<div class=\"alert alert-info\">\n",
    "<font color=black>\n",
    "\n",
    "- Since the yield enables the function to remember its 'state', this function can be used to generate values in a logic defined by you. So, it function becomes a **generator**. \n",
    "\n",
    "</font>\n",
    "</div>"
   ]
  },
  {
   "cell_type": "code",
   "execution_count": 10,
   "metadata": {
    "ExecuteTime": {
     "end_time": "2023-01-25T16:53:53.506221Z",
     "start_time": "2023-01-25T16:53:53.502668Z"
    }
   },
   "outputs": [],
   "source": [
    "def simple_generator():\n",
    "    \"\"\"\n",
    "    We have defined a logic which goes like this:\n",
    "    \n",
    "    call me once and I will return 1\n",
    "    cam me twice and I will return 2\n",
    "    call me three times and I will return 3\n",
    "    \"\"\"\n",
    "    x = 1\n",
    "    yield x\n",
    "    yield x + 1\n",
    "    yield x + 2"
   ]
  },
  {
   "cell_type": "code",
   "execution_count": 11,
   "metadata": {
    "ExecuteTime": {
     "end_time": "2023-01-25T16:53:53.877229Z",
     "start_time": "2023-01-25T16:53:53.866618Z"
    }
   },
   "outputs": [
    {
     "data": {
      "text/plain": [
       "<generator object simple_generator at 0x7fe2d5f34d60>"
      ]
     },
     "execution_count": 11,
     "metadata": {},
     "output_type": "execute_result"
    }
   ],
   "source": [
    "# Only generator. no code runs. no value gets returned\n",
    "generator_object = simple_generator()\n",
    "generator_object"
   ]
  },
  {
   "cell_type": "code",
   "execution_count": 12,
   "metadata": {
    "ExecuteTime": {
     "end_time": "2023-01-25T16:53:54.202990Z",
     "start_time": "2023-01-25T16:53:54.200046Z"
    }
   },
   "outputs": [
    {
     "name": "stdout",
     "output_type": "stream",
     "text": [
      "1\n",
      "2\n",
      "3\n"
     ]
    }
   ],
   "source": [
    "# Now you can iterate through the generator object. But it works only once.\n",
    "for i in generator_object:\n",
    "    print(i)"
   ]
  },
  {
   "cell_type": "code",
   "execution_count": 13,
   "metadata": {
    "ExecuteTime": {
     "end_time": "2023-01-25T16:53:54.551381Z",
     "start_time": "2023-01-25T16:53:54.548766Z"
    }
   },
   "outputs": [],
   "source": [
    "# This will not print anything as the generator has exhasuted all the options and has to be re-initialised\n",
    "for i in generator_object:\n",
    "    print(i)"
   ]
  },
  {
   "cell_type": "markdown",
   "metadata": {},
   "source": [
    "# Approaches to overcome generator exhaustion"
   ]
  },
  {
   "cell_type": "markdown",
   "metadata": {},
   "source": [
    "<div class=\"alert alert-info\">\n",
    "<font color=black>\n",
    "\n",
    "-  To overcome generator exhaustion, you can:    \n",
    "    - **Approach 1**: Iterate by calling the function that created the generator in the first place\n",
    "    - **Approach 2** (best): Convert it to a class that implements a `__iter__()` method. This creates an iterator every time, so you don't have to worry about the generator getting exhausted.\n",
    "\n",
    "</font>\n",
    "</div>"
   ]
  },
  {
   "cell_type": "markdown",
   "metadata": {},
   "source": [
    "**Approach No1**"
   ]
  },
  {
   "cell_type": "code",
   "execution_count": 14,
   "metadata": {
    "ExecuteTime": {
     "end_time": "2023-01-25T16:53:56.136214Z",
     "start_time": "2023-01-25T16:53:56.132235Z"
    }
   },
   "outputs": [
    {
     "name": "stdout",
     "output_type": "stream",
     "text": [
      "1\n",
      "2\n",
      "3\n",
      "1\n",
      "2\n",
      "3\n"
     ]
    }
   ],
   "source": [
    "generator_object = simple_generator()\n",
    "for i in generator_object:\n",
    "    print(i)\n",
    "generator_object = simple_generator()\n",
    "for i in generator_object:\n",
    "    print(i)    "
   ]
  },
  {
   "cell_type": "markdown",
   "metadata": {},
   "source": [
    "**Approach No2**"
   ]
  },
  {
   "cell_type": "code",
   "execution_count": 15,
   "metadata": {
    "ExecuteTime": {
     "end_time": "2023-01-25T16:53:56.967176Z",
     "start_time": "2023-01-25T16:53:56.964154Z"
    }
   },
   "outputs": [],
   "source": [
    "class Iterable(object):\n",
    "    \"\"\"\n",
    "    Creates an iterator object every time, \n",
    "    so you don't have to keep recreating the generator.\n",
    "    \"\"\"\n",
    "    def __iter__(self):\n",
    "        x = 1\n",
    "        yield x\n",
    "        yield x + 1\n",
    "        yield x + 2"
   ]
  },
  {
   "cell_type": "code",
   "execution_count": 16,
   "metadata": {
    "ExecuteTime": {
     "end_time": "2023-01-25T16:53:57.446616Z",
     "start_time": "2023-01-25T16:53:57.444046Z"
    }
   },
   "outputs": [],
   "source": [
    "# Instantiate the class once only!\n",
    "iterable = Iterable()"
   ]
  },
  {
   "cell_type": "code",
   "execution_count": 17,
   "metadata": {
    "ExecuteTime": {
     "end_time": "2023-01-25T16:53:57.843825Z",
     "start_time": "2023-01-25T16:53:57.840021Z"
    }
   },
   "outputs": [
    {
     "name": "stdout",
     "output_type": "stream",
     "text": [
      "1\n",
      "2\n",
      "3\n",
      "1\n",
      "2\n",
      "3\n"
     ]
    }
   ],
   "source": [
    "for i in iterable:  # iterator created here\n",
    "    print(i)\n",
    "for i in iterable:  # iterator created here\n",
    "    print(i)    "
   ]
  },
  {
   "cell_type": "markdown",
   "metadata": {},
   "source": [
    "# Generator are memory efficient"
   ]
  },
  {
   "cell_type": "markdown",
   "metadata": {},
   "source": [
    "<div class=\"alert alert-info\">\n",
    "<font color=black>\n",
    "\n",
    "- Let's we want to iterate through al  list. If you do so, the content of the list occupies tangible memory as soon as you materialise it (you run the code and everythign get sent into the RAM). The larger the list gets, it occupies more memory resource. Generators are memory efficient because the values are not materialized **until called**. \n",
    "\n",
    "- But if there is a certain logic behind producing the items that you want, you **don't have** to store in a list. But rather, simply write a generator that will produce the items whenever you want them.\n",
    "\n",
    "\n",
    "- Let's say, you want to iterate through squares of numbers from 1 to 10. There are two ways:\n",
    "    - Create the list \n",
    "    - Create a generator \n",
    "\n",
    "</font>\n",
    "</div>"
   ]
  },
  {
   "cell_type": "markdown",
   "metadata": {},
   "source": [
    "**Option No1 - create a list**"
   ]
  },
  {
   "cell_type": "code",
   "execution_count": 18,
   "metadata": {
    "ExecuteTime": {
     "end_time": "2023-01-25T16:53:59.721926Z",
     "start_time": "2023-01-25T16:53:59.717904Z"
    }
   },
   "outputs": [
    {
     "name": "stdout",
     "output_type": "stream",
     "text": [
      "Size of a list 152\n",
      "1\n",
      "4\n",
      "9\n",
      "16\n",
      "25\n",
      "36\n",
      "49\n",
      "64\n",
      "81\n",
      "100\n"
     ]
    }
   ],
   "source": [
    "import sys\n",
    "my_list = [1, 2, 3, 4, 5, 6, 7, 8, 9, 10]\n",
    "print(\"Size of a list\", sys.getsizeof(my_list))\n",
    "for i in my_list:\n",
    "    print(i**2)"
   ]
  },
  {
   "cell_type": "markdown",
   "metadata": {},
   "source": [
    "**Option No2 - create a generator**"
   ]
  },
  {
   "cell_type": "code",
   "execution_count": 19,
   "metadata": {
    "ExecuteTime": {
     "end_time": "2023-01-25T16:54:00.636171Z",
     "start_time": "2023-01-25T16:54:00.632263Z"
    }
   },
   "outputs": [
    {
     "name": "stdout",
     "output_type": "stream",
     "text": [
      "1\n",
      "size of x 28\n",
      "4\n",
      "size of x 28\n",
      "9\n",
      "size of x 28\n",
      "16\n",
      "size of x 28\n",
      "25\n",
      "size of x 28\n",
      "36\n",
      "size of x 28\n",
      "49\n",
      "size of x 28\n",
      "64\n",
      "size of x 28\n",
      "81\n",
      "size of x 28\n",
      "100\n",
      "size of x 28\n"
     ]
    }
   ],
   "source": [
    "def squares(x=0):\n",
    "    \n",
    "    while x < 10:        \n",
    "        x = x + 1\n",
    "        yield x*x\n",
    "        print(\"size of x\", sys.getsizeof(x))\n",
    "\n",
    "for i in squares():\n",
    "    print(i)"
   ]
  },
  {
   "cell_type": "markdown",
   "metadata": {},
   "source": [
    "# yield from"
   ]
  },
  {
   "cell_type": "markdown",
   "metadata": {},
   "source": [
    "<div class=\"alert alert-info\">\n",
    "<font color=black>\n",
    "\n",
    "- `yield` from is generally faster than using yield in a loop because yield from reduces the overhead of the loop and function calls.\n",
    "- This makes the code slightly shorter and removes the mental overhead and extra variable used by the for loop. Eliminating the for loop also makes the yield from version about 15% faster.\n",
    "    \n",
    "</font>\n",
    "</div>"
   ]
  },
  {
   "cell_type": "code",
   "execution_count": 45,
   "metadata": {
    "ExecuteTime": {
     "end_time": "2024-05-31T16:28:02.595948Z",
     "start_time": "2024-05-31T16:28:02.592002Z"
    }
   },
   "outputs": [],
   "source": [
    "import time\n",
    "\n",
    "# Using yield\n",
    "def generator_yield(n):\n",
    "    for i in range(n):\n",
    "        yield i\n",
    "\n",
    "def outer_yield(n):\n",
    "    for value in generator_yield(n):\n",
    "        yield value\n",
    "\n",
    "# Using yield from\n",
    "def generator_yield_from(n):\n",
    "    for i in range(n):\n",
    "        yield i\n",
    "\n",
    "def outer_yield_from(n):\n",
    "    yield from generator_yield_from(n)"
   ]
  },
  {
   "cell_type": "code",
   "execution_count": 46,
   "metadata": {
    "ExecuteTime": {
     "end_time": "2024-05-31T16:28:09.811823Z",
     "start_time": "2024-05-31T16:28:09.713146Z"
    }
   },
   "outputs": [
    {
     "name": "stdout",
     "output_type": "stream",
     "text": [
      "Time with yield: 0.09615 seconds\n"
     ]
    }
   ],
   "source": [
    "# Measure performance for yield\n",
    "start_time = time.time()\n",
    "for _ in outer_yield(1000000):\n",
    "    pass\n",
    "print(f\"Time with yield: {time.time() - start_time:.5f} seconds\")"
   ]
  },
  {
   "cell_type": "code",
   "execution_count": 47,
   "metadata": {
    "ExecuteTime": {
     "end_time": "2024-05-31T16:28:13.977178Z",
     "start_time": "2024-05-31T16:28:13.888259Z"
    }
   },
   "outputs": [
    {
     "name": "stdout",
     "output_type": "stream",
     "text": [
      "Time with yield from: 0.08642 seconds\n"
     ]
    }
   ],
   "source": [
    "# Measure performance for yield from\n",
    "start_time = time.time()\n",
    "for _ in outer_yield_from(1000000):\n",
    "    pass\n",
    "print(f\"Time with yield from: {time.time() - start_time:.5f} seconds\")\n"
   ]
  },
  {
   "cell_type": "markdown",
   "metadata": {},
   "source": [
    "# References"
   ]
  },
  {
   "cell_type": "markdown",
   "metadata": {},
   "source": [
    "<div class=\"alert alert-warning\">\n",
    "<font color=black>\n",
    "\n",
    "- https://codingcompiler.com/python-coding-interview-questions-answers/\n",
    "- https://www.machinelearningplus.com/python/what-does-yield-keyword-do/\n",
    "- https://sourcery.ai/blog/explaining-refactorings-1/\n",
    "\n",
    "</font>\n",
    "</div>"
   ]
  },
  {
   "cell_type": "code",
   "execution_count": null,
   "metadata": {},
   "outputs": [],
   "source": []
  }
 ],
 "metadata": {
  "kernelspec": {
   "display_name": "mlops",
   "language": "python",
   "name": "mlops"
  },
  "language_info": {
   "codemirror_mode": {
    "name": "ipython",
    "version": 3
   },
   "file_extension": ".py",
   "mimetype": "text/x-python",
   "name": "python",
   "nbconvert_exporter": "python",
   "pygments_lexer": "ipython3",
   "version": "3.8.16"
  },
  "toc": {
   "base_numbering": 1,
   "nav_menu": {},
   "number_sections": true,
   "sideBar": true,
   "skip_h1_title": false,
   "title_cell": "Table of Contents",
   "title_sidebar": "Contents",
   "toc_cell": true,
   "toc_position": {},
   "toc_section_display": true,
   "toc_window_display": true
  },
  "varInspector": {
   "cols": {
    "lenName": 16,
    "lenType": 16,
    "lenVar": 40
   },
   "kernels_config": {
    "python": {
     "delete_cmd_postfix": "",
     "delete_cmd_prefix": "del ",
     "library": "var_list.py",
     "varRefreshCmd": "print(var_dic_list())"
    },
    "r": {
     "delete_cmd_postfix": ") ",
     "delete_cmd_prefix": "rm(",
     "library": "var_list.r",
     "varRefreshCmd": "cat(var_dic_list()) "
    }
   },
   "types_to_exclude": [
    "module",
    "function",
    "builtin_function_or_method",
    "instance",
    "_Feature"
   ],
   "window_display": false
  }
 },
 "nbformat": 4,
 "nbformat_minor": 2
}
