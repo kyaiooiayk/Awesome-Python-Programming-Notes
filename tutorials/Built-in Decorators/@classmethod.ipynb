{
 "cells": [
  {
   "cell_type": "markdown",
   "metadata": {
    "toc": true
   },
   "source": [
    "<h1>Table of Contents<span class=\"tocSkip\"></span></h1>\n",
    "<div class=\"toc\"><ul class=\"toc-item\"><li><span><a href=\"#Introduction\" data-toc-modified-id=\"Introduction-1\"><span class=\"toc-item-num\">1&nbsp;&nbsp;</span>Introduction</a></span></li><li><span><a href=\"#Class-decorators\" data-toc-modified-id=\"Class-decorators-2\"><span class=\"toc-item-num\">2&nbsp;&nbsp;</span>Class decorators</a></span></li><li><span><a href=\"#@classmethod\" data-toc-modified-id=\"@classmethod-3\"><span class=\"toc-item-num\">3&nbsp;&nbsp;</span>@classmethod</a></span></li><li><span><a href=\"#Imports\" data-toc-modified-id=\"Imports-4\"><span class=\"toc-item-num\">4&nbsp;&nbsp;</span>Imports</a></span></li><li><span><a href=\"#Example\" data-toc-modified-id=\"Example-5\"><span class=\"toc-item-num\">5&nbsp;&nbsp;</span>Example</a></span><ul class=\"toc-item\"><li><span><a href=\"#Class-definition-with-@classmethod\" data-toc-modified-id=\"Class-definition-with-@classmethod-5.1\"><span class=\"toc-item-num\">5.1&nbsp;&nbsp;</span>Class definition with <code>@classmethod</code></a></span></li><li><span><a href=\"#Class-instantiation-via-object\" data-toc-modified-id=\"Class-instantiation-via-object-5.2\"><span class=\"toc-item-num\">5.2&nbsp;&nbsp;</span>Class instantiation via object</a></span></li><li><span><a href=\"#Class-instantiation-via-@classmethod\" data-toc-modified-id=\"Class-instantiation-via-@classmethod-5.3\"><span class=\"toc-item-num\">5.3&nbsp;&nbsp;</span>Class instantiation via <code>@classmethod</code></a></span></li><li><span><a href=\"#Updating-the-job-dynamically\" data-toc-modified-id=\"Updating-the-job-dynamically-5.4\"><span class=\"toc-item-num\">5.4&nbsp;&nbsp;</span>Updating the job dynamically</a></span></li></ul></li><li><span><a href=\"#References\" data-toc-modified-id=\"References-6\"><span class=\"toc-item-num\">6&nbsp;&nbsp;</span>References</a></span></li></ul></div>"
   ]
  },
  {
   "cell_type": "markdown",
   "metadata": {},
   "source": [
    "# Introduction\n",
    "<hr style = \"border:2px solid black\" ></hr>"
   ]
  },
  {
   "cell_type": "markdown",
   "metadata": {},
   "source": [
    "<div class=\"alert alert-block alert-warning\">\n",
    "<font color=black>\n",
    "\n",
    "**What?** @classmethod\n",
    "\n",
    "</font>\n",
    "</div>"
   ]
  },
  {
   "cell_type": "markdown",
   "metadata": {},
   "source": [
    "# Class decorators\n",
    "<hr style = \"border:2px solid black\" ></hr>"
   ]
  },
  {
   "cell_type": "markdown",
   "metadata": {},
   "source": [
    "<div class=\"alert alert-block alert-info\">\n",
    "<font color=black>\n",
    "\n",
    "- `@property` is the pythonic way to introduce attributes is to make them public, and not introduce getters and setters to retrieve or change them.\n",
    "- `@classmethod` is used to add an additional constructor to the class.\n",
    "- `@staticmethod` is used to attach functions to classes so people won't misuse them in wrong places.\n",
    "\n",
    "</font>\n",
    "</div>"
   ]
  },
  {
   "cell_type": "markdown",
   "metadata": {},
   "source": [
    "# @classmethod\n",
    "<hr style = \"border:2px solid black\" ></hr>"
   ]
  },
  {
   "cell_type": "markdown",
   "metadata": {},
   "source": [
    "<div class=\"alert alert-block alert-info\">\n",
    "<font color=black>\n",
    "\n",
    "- `@classmethod` is bound to a class rather than an object.\n",
    "- Class methods can be called with a class **or** with an object. \n",
    "\n",
    "</font>\n",
    "</div>"
   ]
  },
  {
   "cell_type": "markdown",
   "metadata": {},
   "source": [
    "# Imports\n",
    "<hr style = \"border:2px solid black\" ></hr>"
   ]
  },
  {
   "cell_type": "code",
   "execution_count": 1,
   "metadata": {
    "ExecuteTime": {
     "end_time": "2022-09-22T09:23:57.298869Z",
     "start_time": "2022-09-22T09:23:57.295915Z"
    }
   },
   "outputs": [],
   "source": [
    "from datetime import date"
   ]
  },
  {
   "cell_type": "markdown",
   "metadata": {},
   "source": [
    "# Example\n",
    "<hr style = \"border:2px solid black\" ></hr>"
   ]
  },
  {
   "cell_type": "markdown",
   "metadata": {},
   "source": [
    "## Class definition with `@classmethod`"
   ]
  },
  {
   "cell_type": "code",
   "execution_count": 14,
   "metadata": {
    "ExecuteTime": {
     "end_time": "2022-09-22T09:35:11.143232Z",
     "start_time": "2022-09-22T09:35:11.138729Z"
    }
   },
   "outputs": [],
   "source": [
    "class Person:\n",
    "    def __init__(self, name, age):\n",
    "        \"\"\"\n",
    "        This will create the object by name and age\n",
    "        \"\"\"\n",
    "        self.name = name\n",
    "        self.age = age\n",
    "        self.dummy = 3\n",
    "        print(\"__init__ method is called\")\n",
    "\n",
    "    \"\"\"\n",
    "    This will create the object by name and year\n",
    "    \"\"\"\n",
    "    @classmethod\n",
    "    def fromBirthYear(cls, name, year):\n",
    "        print(\"class method is called\")\n",
    "        # keep the construct the same, name, age\n",
    "        return cls(name, date.today().year - year)\n",
    "\n",
    "    def display(self):\n",
    "        print(\"Name : \", self.name, \"Age : \", self.age)"
   ]
  },
  {
   "cell_type": "markdown",
   "metadata": {
    "ExecuteTime": {
     "end_time": "2022-09-22T09:29:30.339695Z",
     "start_time": "2022-09-22T09:29:30.337404Z"
    }
   },
   "source": [
    "## Class instantiation via object"
   ]
  },
  {
   "cell_type": "code",
   "execution_count": 15,
   "metadata": {
    "ExecuteTime": {
     "end_time": "2022-09-22T09:35:11.621144Z",
     "start_time": "2022-09-22T09:35:11.618096Z"
    }
   },
   "outputs": [
    {
     "name": "stdout",
     "output_type": "stream",
     "text": [
      "__init__ method is called\n",
      "Name :  mayank Age :  21\n"
     ]
    }
   ],
   "source": [
    "person = Person('mayank', 21)\n",
    "person.display()"
   ]
  },
  {
   "cell_type": "markdown",
   "metadata": {},
   "source": [
    "## Class instantiation via `@classmethod`"
   ]
  },
  {
   "cell_type": "code",
   "execution_count": 16,
   "metadata": {
    "ExecuteTime": {
     "end_time": "2022-09-22T09:35:12.413051Z",
     "start_time": "2022-09-22T09:35:12.409010Z"
    }
   },
   "outputs": [
    {
     "name": "stdout",
     "output_type": "stream",
     "text": [
      "class method is called\n",
      "__init__ method is called\n",
      "Name :  mayank Age :  22\n"
     ]
    }
   ],
   "source": [
    "#\n",
    "person1 = Person.fromBirthYear('mayank', 2000)\n",
    "person1.display()\n",
    "\n",
    "# The result is the same"
   ]
  },
  {
   "cell_type": "markdown",
   "metadata": {},
   "source": [
    "## Updating the job dynamically"
   ]
  },
  {
   "cell_type": "code",
   "execution_count": 18,
   "metadata": {
    "ExecuteTime": {
     "end_time": "2022-09-22T09:39:14.888193Z",
     "start_time": "2022-09-22T09:39:14.884843Z"
    }
   },
   "outputs": [
    {
     "name": "stdout",
     "output_type": "stream",
     "text": [
      "__init__ method is called\n",
      "Name :  just something Age :  1000\n"
     ]
    }
   ],
   "source": [
    "# called by the class\n",
    "person1 = Person('just something', 1000)\n",
    "person1.display()"
   ]
  },
  {
   "cell_type": "code",
   "execution_count": 19,
   "metadata": {
    "ExecuteTime": {
     "end_time": "2022-09-22T09:39:18.573609Z",
     "start_time": "2022-09-22T09:39:18.570275Z"
    }
   },
   "outputs": [
    {
     "name": "stdout",
     "output_type": "stream",
     "text": [
      "class method is called\n",
      "__init__ method is called\n",
      "Name :  mayank Age :  22\n"
     ]
    }
   ],
   "source": [
    "# called by the object\n",
    "person2 = person1.fromBirthYear('mayank', 2000)\n",
    "person2.display()"
   ]
  },
  {
   "cell_type": "markdown",
   "metadata": {},
   "source": [
    "# References\n",
    "<hr style = \"border:2px solid black\" ></hr>"
   ]
  },
  {
   "cell_type": "markdown",
   "metadata": {},
   "source": [
    "<div class=\"alert alert-block alert-warning\">\n",
    "<font color=black>\n",
    "\n",
    "- https://www.geeksforgeeks.org/classmethod-in-python/\n",
    "\n",
    "</font>\n",
    "</div>"
   ]
  },
  {
   "cell_type": "code",
   "execution_count": null,
   "metadata": {},
   "outputs": [],
   "source": []
  }
 ],
 "metadata": {
  "kernelspec": {
   "display_name": "trainingAI",
   "language": "python",
   "name": "trainingai"
  },
  "language_info": {
   "codemirror_mode": {
    "name": "ipython",
    "version": 3
   },
   "file_extension": ".py",
   "mimetype": "text/x-python",
   "name": "python",
   "nbconvert_exporter": "python",
   "pygments_lexer": "ipython3",
   "version": "3.9.7"
  },
  "toc": {
   "base_numbering": 1,
   "nav_menu": {},
   "number_sections": true,
   "sideBar": true,
   "skip_h1_title": false,
   "title_cell": "Table of Contents",
   "title_sidebar": "Contents",
   "toc_cell": true,
   "toc_position": {
    "height": "calc(100% - 180px)",
    "left": "10px",
    "top": "150px",
    "width": "279.95px"
   },
   "toc_section_display": true,
   "toc_window_display": true
  },
  "varInspector": {
   "cols": {
    "lenName": 16,
    "lenType": 16,
    "lenVar": 40
   },
   "kernels_config": {
    "python": {
     "delete_cmd_postfix": "",
     "delete_cmd_prefix": "del ",
     "library": "var_list.py",
     "varRefreshCmd": "print(var_dic_list())"
    },
    "r": {
     "delete_cmd_postfix": ") ",
     "delete_cmd_prefix": "rm(",
     "library": "var_list.r",
     "varRefreshCmd": "cat(var_dic_list()) "
    }
   },
   "types_to_exclude": [
    "module",
    "function",
    "builtin_function_or_method",
    "instance",
    "_Feature"
   ],
   "window_display": false
  }
 },
 "nbformat": 4,
 "nbformat_minor": 2
}
