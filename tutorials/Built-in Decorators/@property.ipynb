{
 "cells": [
  {
   "cell_type": "markdown",
   "metadata": {
    "toc": true
   },
   "source": [
    "<h1>Table of Contents<span class=\"tocSkip\"></span></h1>\n",
    "<div class=\"toc\"><ul class=\"toc-item\"><li><span><a href=\"#Introduction\" data-toc-modified-id=\"Introduction-1\"><span class=\"toc-item-num\">1&nbsp;&nbsp;</span>Introduction</a></span></li><li><span><a href=\"#Class-decorators\" data-toc-modified-id=\"Class-decorators-2\"><span class=\"toc-item-num\">2&nbsp;&nbsp;</span>Class decorators</a></span></li><li><span><a href=\"#@property\" data-toc-modified-id=\"@property-3\"><span class=\"toc-item-num\">3&nbsp;&nbsp;</span>@property</a></span></li><li><span><a href=\"#Example\" data-toc-modified-id=\"Example-4\"><span class=\"toc-item-num\">4&nbsp;&nbsp;</span>Example</a></span></li><li><span><a href=\"#Will-not-work-at-instantiation\" data-toc-modified-id=\"Will-not-work-at-instantiation-5\"><span class=\"toc-item-num\">5&nbsp;&nbsp;</span>Will not work at instantiation</a></span></li><li><span><a href=\"#Avoid-running-a-specific-part-of-the-code\" data-toc-modified-id=\"Avoid-running-a-specific-part-of-the-code-6\"><span class=\"toc-item-num\">6&nbsp;&nbsp;</span>Avoid running a specific part of the code</a></span></li><li><span><a href=\"#@property-vs.-object-attributes\" data-toc-modified-id=\"@property-vs.-object-attributes-7\"><span class=\"toc-item-num\">7&nbsp;&nbsp;</span><code>@property</code> vs. object attributes</a></span></li><li><span><a href=\"#References\" data-toc-modified-id=\"References-8\"><span class=\"toc-item-num\">8&nbsp;&nbsp;</span>References</a></span></li></ul></div>"
   ]
  },
  {
   "cell_type": "markdown",
   "metadata": {},
   "source": [
    "# Introduction\n",
    "<hr style = \"border:2px solid black\" ></hr>"
   ]
  },
  {
   "cell_type": "markdown",
   "metadata": {},
   "source": [
    "<div class=\"alert alert-block alert-warning\">\n",
    "<font color=black>\n",
    "\n",
    "**What?** @property\n",
    "\n",
    "</font>\n",
    "</div>"
   ]
  },
  {
   "cell_type": "markdown",
   "metadata": {},
   "source": [
    "# Class decorators\n",
    "<hr style = \"border:2px solid black\" ></hr>"
   ]
  },
  {
   "cell_type": "markdown",
   "metadata": {},
   "source": [
    "<div class=\"alert alert-block alert-info\">\n",
    "<font color=black>\n",
    "\n",
    "- `@property` The Pythonic way to introduce attributes is to make them public, and not introduce getters and setters to retrieve or change them.\n",
    "- `@classmethod` To add additional constructor to the class.\n",
    "- `@staticmethod` To attach functions to classes so people won't misuse them in wrong places.\n",
    "\n",
    "</font>\n",
    "</div>"
   ]
  },
  {
   "cell_type": "markdown",
   "metadata": {},
   "source": [
    "# @property\n",
    "<hr style = \"border:2px solid black\" ></hr>"
   ]
  },
  {
   "cell_type": "markdown",
   "metadata": {},
   "source": [
    "<div class=\"alert alert-block alert-info\">\n",
    "<font color=black>\n",
    "\n",
    "- The Pythonic way to introduce attributes is to make them public, and not introduce getters and setters to retrieve or change them.\n",
    "- Give access to the value like it is an attribute **instead** of a method\n",
    "- By using `@property`, you can \"reuse\" the name of a property to avoid creating new names for the getters, setters, and deleters.\n",
    "- They are often used to validate the value of an attribute. Essentially they make the process much easier.\n",
    "- This makes methods act as getters, setters, or deleters when we define properties in a class. \n",
    "\n",
    "</font>\n",
    "</div>"
   ]
  },
  {
   "cell_type": "markdown",
   "metadata": {},
   "source": [
    "# Example\n",
    "<hr style = \"border:2px solid black\" ></hr>"
   ]
  },
  {
   "cell_type": "code",
   "execution_count": 1,
   "metadata": {
    "ExecuteTime": {
     "end_time": "2022-10-11T07:54:00.065764Z",
     "start_time": "2022-10-11T07:54:00.063037Z"
    }
   },
   "outputs": [],
   "source": [
    "class House:\n",
    "    def __init__(self, price):\n",
    "        self.price = price"
   ]
  },
  {
   "cell_type": "code",
   "execution_count": 2,
   "metadata": {
    "ExecuteTime": {
     "end_time": "2022-10-11T07:54:00.069749Z",
     "start_time": "2022-10-11T07:54:00.067362Z"
    }
   },
   "outputs": [],
   "source": [
    "house1 = House(10)"
   ]
  },
  {
   "cell_type": "code",
   "execution_count": 3,
   "metadata": {
    "ExecuteTime": {
     "end_time": "2022-10-11T07:54:00.080777Z",
     "start_time": "2022-10-11T07:54:00.072455Z"
    }
   },
   "outputs": [
    {
     "data": {
      "text/plain": [
       "10"
      ]
     },
     "execution_count": 3,
     "metadata": {},
     "output_type": "execute_result"
    }
   ],
   "source": [
    "house1.price"
   ]
  },
  {
   "cell_type": "code",
   "execution_count": 4,
   "metadata": {
    "ExecuteTime": {
     "end_time": "2022-10-11T07:54:00.084496Z",
     "start_time": "2022-10-11T07:54:00.082443Z"
    }
   },
   "outputs": [],
   "source": [
    "# Since the attribute is public I can access and modify it\n",
    "house1.price = 20"
   ]
  },
  {
   "cell_type": "code",
   "execution_count": 5,
   "metadata": {
    "ExecuteTime": {
     "end_time": "2022-10-11T07:54:00.089860Z",
     "start_time": "2022-10-11T07:54:00.086787Z"
    }
   },
   "outputs": [
    {
     "data": {
      "text/plain": [
       "20"
      ]
     },
     "execution_count": 5,
     "metadata": {},
     "output_type": "execute_result"
    }
   ],
   "source": [
    "house1.price"
   ]
  },
  {
   "cell_type": "markdown",
   "metadata": {},
   "source": [
    "<div class=\"alert alert-block alert-info\">\n",
    "<font color=black>\n",
    "\n",
    "- Let's say that you are asked to make this attribute protected (non-public) and validate the new value before assigning it. \n",
    "- Specifically, you need to check if the value is a positive float. How would you do that? Let's see.\n",
    "- With `@property` you will able to add getters and setters \"behind the scenes\" without affecting the syntax that you used to access or modify the attribute when it was public. \n",
    "\n",
    "</font>\n",
    "</div>"
   ]
  },
  {
   "cell_type": "code",
   "execution_count": 6,
   "metadata": {
    "ExecuteTime": {
     "end_time": "2022-10-11T07:54:00.096217Z",
     "start_time": "2022-10-11T07:54:00.091246Z"
    }
   },
   "outputs": [],
   "source": [
    "class House_v1:    \n",
    "    \"\"\"House\n",
    "    \n",
    "    We'd like to create a class where it only\n",
    "    attribute is its price. We'd like to enforce a check on\n",
    "    this value: no negative value area allowed. So the user\n",
    "    we'll never misuse them.\n",
    "    \"\"\"\n",
    "\n",
    "    def __init__(self, price):        \n",
    "        \"\"\"\n",
    "        Please note that there is un underscored in \n",
    "        front of price!\n",
    "        \"\"\"\n",
    "        self._price = price\n",
    "\n",
    "    # This is essentially the getter method\n",
    "    @property\n",
    "    def price(self):\n",
    "        print(\"getter\")\n",
    "        return self._price\n",
    "\n",
    "    @price.setter\n",
    "    def price(self, new_price):\n",
    "        print(\"setter\")\n",
    "        if new_price > 0 and isinstance(new_price, float):\n",
    "            self._price = new_price\n",
    "        else:\n",
    "            print(\"Please enter a valid price: float and >0.0\")\n",
    "\n",
    "    @price.deleter\n",
    "    def price(self):\n",
    "        print(\"deleter\")\n",
    "        del self._price"
   ]
  },
  {
   "cell_type": "code",
   "execution_count": 7,
   "metadata": {
    "ExecuteTime": {
     "end_time": "2022-10-11T07:54:00.101005Z",
     "start_time": "2022-10-11T07:54:00.098755Z"
    }
   },
   "outputs": [],
   "source": [
    "house2 = House_v1(10)"
   ]
  },
  {
   "cell_type": "code",
   "execution_count": 8,
   "metadata": {
    "ExecuteTime": {
     "end_time": "2022-10-11T07:54:00.106451Z",
     "start_time": "2022-10-11T07:54:00.102698Z"
    }
   },
   "outputs": [
    {
     "name": "stdout",
     "output_type": "stream",
     "text": [
      "getter\n"
     ]
    },
    {
     "data": {
      "text/plain": [
       "10"
      ]
     },
     "execution_count": 8,
     "metadata": {},
     "output_type": "execute_result"
    }
   ],
   "source": [
    "house2.price"
   ]
  },
  {
   "cell_type": "markdown",
   "metadata": {},
   "source": [
    "<div class=\"alert alert-block alert-info\">\n",
    "<font color=black>\n",
    "\n",
    "- Please note that the price attribute is now considered \"protected\" by the check.\n",
    "- To help developer ditinguish the two attribute we now add `_` before `price` as in `self._price`.\n",
    "- We are not changing the syntax at all, but we are actually using the getter as an intermediary to avoid accessing the data directly.\n",
    "\n",
    "</font>\n",
    "</div>"
   ]
  },
  {
   "cell_type": "code",
   "execution_count": 9,
   "metadata": {
    "ExecuteTime": {
     "end_time": "2022-10-11T07:54:00.114413Z",
     "start_time": "2022-10-11T07:54:00.111572Z"
    }
   },
   "outputs": [
    {
     "name": "stdout",
     "output_type": "stream",
     "text": [
      "setter\n",
      "Please enter a valid price: float and >0.0\n"
     ]
    }
   ],
   "source": [
    "house2.price = -10"
   ]
  },
  {
   "cell_type": "markdown",
   "metadata": {},
   "source": [
    "<div class=\"alert alert-block alert-info\">\n",
    "<font color=black>\n",
    "\n",
    "- You can define three methods for a property:\n",
    "    - A `getter` - to access the value of the attribute.\n",
    "    - A `setter` - to set the value of the attribute.\n",
    "    - A `deleter` - to delete the instance attribute. \n",
    "\n",
    "\n",
    "- You don't necessarily have to define all three methods for every property.\n",
    "\n",
    "</font>\n",
    "</div>"
   ]
  },
  {
   "cell_type": "code",
   "execution_count": 10,
   "metadata": {
    "ExecuteTime": {
     "end_time": "2022-10-11T07:54:00.118685Z",
     "start_time": "2022-10-11T07:54:00.116176Z"
    }
   },
   "outputs": [
    {
     "name": "stdout",
     "output_type": "stream",
     "text": [
      "deleter\n"
     ]
    }
   ],
   "source": [
    "del house2.price"
   ]
  },
  {
   "cell_type": "code",
   "execution_count": 11,
   "metadata": {
    "ExecuteTime": {
     "end_time": "2022-10-11T07:54:00.206114Z",
     "start_time": "2022-10-11T07:54:00.120798Z"
    }
   },
   "outputs": [
    {
     "name": "stdout",
     "output_type": "stream",
     "text": [
      "getter\n"
     ]
    },
    {
     "ename": "AttributeError",
     "evalue": "'House_v1' object has no attribute '_price'",
     "output_type": "error",
     "traceback": [
      "\u001b[0;31m---------------------------------------------------------------------------\u001b[0m",
      "\u001b[0;31mAttributeError\u001b[0m                            Traceback (most recent call last)",
      "\u001b[0;32m/var/folders/5x/lyqr8wv507n43bnwpsz4dq_c0000gn/T/ipykernel_64433/1790403948.py\u001b[0m in \u001b[0;36m<module>\u001b[0;34m\u001b[0m\n\u001b[1;32m      1\u001b[0m \u001b[0;31m# Which will throw an error\u001b[0m\u001b[0;34m\u001b[0m\u001b[0;34m\u001b[0m\u001b[0m\n\u001b[0;32m----> 2\u001b[0;31m \u001b[0mhouse2\u001b[0m\u001b[0;34m.\u001b[0m\u001b[0mprice\u001b[0m\u001b[0;34m\u001b[0m\u001b[0;34m\u001b[0m\u001b[0m\n\u001b[0m",
      "\u001b[0;32m/var/folders/5x/lyqr8wv507n43bnwpsz4dq_c0000gn/T/ipykernel_64433/2717883670.py\u001b[0m in \u001b[0;36mprice\u001b[0;34m(self)\u001b[0m\n\u001b[1;32m     19\u001b[0m     \u001b[0;32mdef\u001b[0m \u001b[0mprice\u001b[0m\u001b[0;34m(\u001b[0m\u001b[0mself\u001b[0m\u001b[0;34m)\u001b[0m\u001b[0;34m:\u001b[0m\u001b[0;34m\u001b[0m\u001b[0;34m\u001b[0m\u001b[0m\n\u001b[1;32m     20\u001b[0m         \u001b[0mprint\u001b[0m\u001b[0;34m(\u001b[0m\u001b[0;34m\"getter\"\u001b[0m\u001b[0;34m)\u001b[0m\u001b[0;34m\u001b[0m\u001b[0;34m\u001b[0m\u001b[0m\n\u001b[0;32m---> 21\u001b[0;31m         \u001b[0;32mreturn\u001b[0m \u001b[0mself\u001b[0m\u001b[0;34m.\u001b[0m\u001b[0m_price\u001b[0m\u001b[0;34m\u001b[0m\u001b[0;34m\u001b[0m\u001b[0m\n\u001b[0m\u001b[1;32m     22\u001b[0m \u001b[0;34m\u001b[0m\u001b[0m\n\u001b[1;32m     23\u001b[0m     \u001b[0;34m@\u001b[0m\u001b[0mprice\u001b[0m\u001b[0;34m.\u001b[0m\u001b[0msetter\u001b[0m\u001b[0;34m\u001b[0m\u001b[0;34m\u001b[0m\u001b[0m\n",
      "\u001b[0;31mAttributeError\u001b[0m: 'House_v1' object has no attribute '_price'"
     ]
    }
   ],
   "source": [
    "# Which will throw an error\n",
    "house2.price"
   ]
  },
  {
   "cell_type": "markdown",
   "metadata": {},
   "source": [
    "# Will not work at instantiation\n",
    "<hr style = \"border:2px solid black\" ></hr>"
   ]
  },
  {
   "cell_type": "markdown",
   "metadata": {},
   "source": [
    "<div class=\"alert alert-info\">\n",
    "<font color=black>\n",
    "\n",
    "- The decorator `@property` would not be called at instantiation!\n",
    "- This is an example of what this means.\n",
    "\n",
    "</font>\n",
    "</div>"
   ]
  },
  {
   "cell_type": "code",
   "execution_count": 12,
   "metadata": {
    "ExecuteTime": {
     "end_time": "2022-10-11T07:55:26.658354Z",
     "start_time": "2022-10-11T07:55:26.655898Z"
    }
   },
   "outputs": [],
   "source": [
    "house2 = House_v1(-10)"
   ]
  },
  {
   "cell_type": "code",
   "execution_count": 13,
   "metadata": {
    "ExecuteTime": {
     "end_time": "2022-10-11T07:55:33.345832Z",
     "start_time": "2022-10-11T07:55:33.341459Z"
    }
   },
   "outputs": [
    {
     "name": "stdout",
     "output_type": "stream",
     "text": [
      "getter\n"
     ]
    },
    {
     "data": {
      "text/plain": [
       "-10"
      ]
     },
     "execution_count": 13,
     "metadata": {},
     "output_type": "execute_result"
    }
   ],
   "source": [
    "house2.price"
   ]
  },
  {
   "cell_type": "code",
   "execution_count": 14,
   "metadata": {
    "ExecuteTime": {
     "end_time": "2022-10-11T08:00:33.310689Z",
     "start_time": "2022-10-11T08:00:33.307788Z"
    }
   },
   "outputs": [
    {
     "name": "stdout",
     "output_type": "stream",
     "text": [
      "setter\n",
      "Please enter a valid price: float and >0.0\n"
     ]
    }
   ],
   "source": [
    "house2.price = -10"
   ]
  },
  {
   "cell_type": "markdown",
   "metadata": {},
   "source": [
    "# Avoid running a specific part of the code\n",
    "<hr style = \"border:2px solid black\" ></hr>"
   ]
  },
  {
   "cell_type": "markdown",
   "metadata": {},
   "source": [
    "<div class=\"alert alert-info\">\n",
    "<font color=black>\n",
    "\n",
    "- Let's assume we have a routine made of many parts.\n",
    "- One of the section of the code is very expensive and we'd like to run only once.\n",
    "- We could use property to trigger this.\n",
    "\n",
    "</font>\n",
    "</div>"
   ]
  },
  {
   "cell_type": "code",
   "execution_count": 1,
   "metadata": {
    "ExecuteTime": {
     "end_time": "2022-12-19T08:28:24.501653Z",
     "start_time": "2022-12-19T08:28:24.497438Z"
    }
   },
   "outputs": [],
   "source": [
    "class A:\n",
    "    def __init__(self):\n",
    "        self._value = None\n",
    "        self.expensive_output = None\n",
    "\n",
    "    @property\n",
    "    def value(self):\n",
    "        if not self._value:\n",
    "            print(\"computing for the first time!\")\n",
    "            # Suppose this is a very expensive process!\n",
    "            self._value = 100\n",
    "        return self._value\n",
    "\n",
    "    def compute_result(self):\n",
    "        return self.value"
   ]
  },
  {
   "cell_type": "code",
   "execution_count": 2,
   "metadata": {
    "ExecuteTime": {
     "end_time": "2022-12-19T08:28:24.908697Z",
     "start_time": "2022-12-19T08:28:24.906113Z"
    }
   },
   "outputs": [],
   "source": [
    "a=A()"
   ]
  },
  {
   "cell_type": "code",
   "execution_count": 3,
   "metadata": {
    "ExecuteTime": {
     "end_time": "2022-12-19T08:28:25.418112Z",
     "start_time": "2022-12-19T08:28:25.408142Z"
    }
   },
   "outputs": [
    {
     "name": "stdout",
     "output_type": "stream",
     "text": [
      "computing for the first time!\n"
     ]
    },
    {
     "data": {
      "text/plain": [
       "100"
      ]
     },
     "execution_count": 3,
     "metadata": {},
     "output_type": "execute_result"
    }
   ],
   "source": [
    "# Call it once for the first time\n",
    "a.value"
   ]
  },
  {
   "cell_type": "code",
   "execution_count": 4,
   "metadata": {
    "ExecuteTime": {
     "end_time": "2022-12-19T08:28:26.236029Z",
     "start_time": "2022-12-19T08:28:26.232634Z"
    }
   },
   "outputs": [
    {
     "data": {
      "text/plain": [
       "100"
      ]
     },
     "execution_count": 4,
     "metadata": {},
     "output_type": "execute_result"
    }
   ],
   "source": [
    "# Does not recompute again!\n",
    "a.value"
   ]
  },
  {
   "cell_type": "markdown",
   "metadata": {},
   "source": [
    "# `@property` vs. object attributes\n",
    "<hr style = \"border:2px solid black\" ></hr>"
   ]
  },
  {
   "cell_type": "markdown",
   "metadata": {},
   "source": [
    "<div class=\"alert alert-info\">\n",
    "<font color=black>\n",
    "\n",
    "- With a property you have complete control on its `getter`, `setter` and `deleter` methods, which you don't have (if not using caveats) with an attribute.\n",
    "- When we we sat **if not using caveats**, we mean in a non-pythonic way. The python way is what each programmer should really strive for.\n",
    "- This (\"complete control\") can be done with \"non-property\" attributes as well though, just without such simple decorators.\n",
    "\n",
    "</font>\n",
    "</div>"
   ]
  },
  {
   "cell_type": "markdown",
   "metadata": {},
   "source": [
    "# References\n",
    "<hr style = \"border:2px solid black\" ></hr>"
   ]
  },
  {
   "cell_type": "markdown",
   "metadata": {},
   "source": [
    "<div class=\"alert alert-block alert-warning\">\n",
    "<font color=black>\n",
    "\n",
    "- https://www.freecodecamp.org/news/python-property-decorator/\n",
    "- https://stackoverflow.com/questions/7374748/whats-the-difference-between-a-python-property-and-attribute \n",
    "- https://python-course.eu/oop/properties-vs-getters-and-setters.php\n",
    "- [Having @property only run once](https://stackoverflow.com/questions/50934180/having-property-only-run-once)\n",
    "\n",
    "</font>\n",
    "</div>"
   ]
  }
 ],
 "metadata": {
  "kernelspec": {
   "display_name": "trainingAI",
   "language": "python",
   "name": "trainingai"
  },
  "language_info": {
   "codemirror_mode": {
    "name": "ipython",
    "version": 3
   },
   "file_extension": ".py",
   "mimetype": "text/x-python",
   "name": "python",
   "nbconvert_exporter": "python",
   "pygments_lexer": "ipython3",
   "version": "3.9.7"
  },
  "toc": {
   "base_numbering": 1,
   "nav_menu": {},
   "number_sections": true,
   "sideBar": true,
   "skip_h1_title": false,
   "title_cell": "Table of Contents",
   "title_sidebar": "Contents",
   "toc_cell": true,
   "toc_position": {},
   "toc_section_display": true,
   "toc_window_display": true
  },
  "varInspector": {
   "cols": {
    "lenName": 16,
    "lenType": 16,
    "lenVar": 40
   },
   "kernels_config": {
    "python": {
     "delete_cmd_postfix": "",
     "delete_cmd_prefix": "del ",
     "library": "var_list.py",
     "varRefreshCmd": "print(var_dic_list())"
    },
    "r": {
     "delete_cmd_postfix": ") ",
     "delete_cmd_prefix": "rm(",
     "library": "var_list.r",
     "varRefreshCmd": "cat(var_dic_list()) "
    }
   },
   "types_to_exclude": [
    "module",
    "function",
    "builtin_function_or_method",
    "instance",
    "_Feature"
   ],
   "window_display": false
  }
 },
 "nbformat": 4,
 "nbformat_minor": 2
}
