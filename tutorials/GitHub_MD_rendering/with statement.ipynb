{
 "cells": [
  {
   "cell_type": "markdown",
   "id": "c440bce4",
   "metadata": {
    "toc": true
   },
   "source": [
    "<h1>Table of Contents<span class=\"tocSkip\"></span></h1>\n",
""   ]
  },
  {
   "cell_type": "markdown",
   "id": "efec4e5a",
   "metadata": {},
   "source": [
    "# Introduction\n",
    "<hr style = \"border:2px solid black\" ></hr>"
   ]
  },
  {
   "cell_type": "markdown",
   "id": "0d9c492e",
   "metadata": {},
   "source": [
    "\n",
    "**What?** `with` statement\n",
    "\n",
""   ]
  },
  {
   "cell_type": "markdown",
   "id": "9d0e4a7f",
   "metadata": {},
   "source": [
    "# What is `with` in Python?\n",
    "<hr style = \"border:2px solid black\" ></hr>"
   ]
  },
  {
   "cell_type": "markdown",
   "id": "9f07f4bb",
   "metadata": {},
   "source": [
    "\n",
    "- In Python, with statement is used in exception handling to make the code cleaner and much more readable.\n",
    "- It simplifies the management of common resources like file streams. \n",
    "- The with statement is popularly used with file streams, as shown above and with Locks, sockets, subprocesses and telnets etc.\n",
    "    \n",
""   ]
  },
  {
   "cell_type": "markdown",
   "id": "8458f660",
   "metadata": {},
   "source": [
    "# Three ways to write in a file\n",
    "<hr style = \"border:2px solid black\" ></hr>"
   ]
  },
  {
   "cell_type": "markdown",
   "id": "251a9cdb",
   "metadata": {},
   "source": [
    "    \n",
    "- An exception during the file.write() call in the first implementation can prevent the file from closing properly which may introduce several bugs in the code, i.e. many changes in files do not go into effect until the file is properly closed.\n",
    "\n",
""   ]
  },
  {
   "cell_type": "code",
   "execution_count": 1,
   "id": "4c7ed9f4",
   "metadata": {
    "ExecuteTime": {
     "end_time": "2023-06-20T10:56:27.131478Z",
     "start_time": "2023-06-20T10:56:27.128218Z"
    }
   },
   "outputs": [],
   "source": [
    "# Without using with statement\n",
    "file = open('file_1.txt', 'w')\n",
    "file.write('hello world !')\n",
    "file.close()"
   ]
  },
  {
   "cell_type": "markdown",
   "id": "7a394679",
   "metadata": {},
   "source": [
    "    \n",
    "- The second approach in the above example takes care of all the exceptions but the code seems to be too cluttered.\n",
    "    \n",
""   ]
  },
  {
   "cell_type": "code",
   "execution_count": 2,
   "id": "1add385f",
   "metadata": {
    "ExecuteTime": {
     "end_time": "2023-06-20T10:56:27.136639Z",
     "start_time": "2023-06-20T10:56:27.133390Z"
    }
   },
   "outputs": [],
   "source": [
    "# Without using with statement\n",
    "file = open('file_2.txt', 'w')\n",
    "try:\n",
    "    file.write('hello world')\n",
    "finally:\n",
    "    file.close()"
   ]
  },
  {
   "cell_type": "markdown",
   "id": "4f64d4cd",
   "metadata": {},
   "source": [
    "    \n",
    "- Notice that unlike the first two implementations, there is no need to call `file.close()` when using with statement.\n",
    "- Using the with statement makes the code compact and much more readable. \n",
    "- Thus, with statement helps avoiding bugs and leaks by ensuring that a resource is properly released when the code using the resource is completely executed. \n",
    "\n",
""   ]
  },
  {
   "cell_type": "code",
   "execution_count": 3,
   "id": "3ec6e9d9",
   "metadata": {
    "ExecuteTime": {
     "end_time": "2023-06-20T10:56:27.142490Z",
     "start_time": "2023-06-20T10:56:27.139443Z"
    }
   },
   "outputs": [],
   "source": [
    "# Using with statement\n",
    "with open('file_3.txt', 'w') as file:\n",
    "    file.write('hello world !')"
   ]
  },
  {
   "cell_type": "markdown",
   "id": "d19c0531",
   "metadata": {},
   "source": [
    "# How it works\n",
    "<hr style = \"border:2px solid black\" ></hr>"
   ]
  },
  {
   "cell_type": "markdown",
   "id": "4d221357",
   "metadata": {},
   "source": [
    "\n",
    "- To use with statement in user defined objects you only need to add the dunder methods `__enter__()` and `__exit__()` in the object methods.\n",
    "\n",
""   ]
  },
  {
   "cell_type": "code",
   "execution_count": 4,
   "id": "21403323",
   "metadata": {
    "ExecuteTime": {
     "end_time": "2023-06-20T10:56:27.147983Z",
     "start_time": "2023-06-20T10:56:27.144702Z"
    }
   },
   "outputs": [],
   "source": [
    "class MessageWriter(object):\n",
    "    def __init__(self, file_name):\n",
    "        self.file_name = file_name\n",
    "\n",
    "    def __enter__(self):\n",
    "        self.file = open(self.file_name, 'w')\n",
    "        return self.file\n",
    "\n",
    "    def __exit__(self, *args):\n",
    "        self.file.close()"
   ]
  },
  {
   "cell_type": "markdown",
   "id": "da7e1160",
   "metadata": {},
   "source": [
    "    \n",
    "- The with statement takes the object instance that implements the context manager interface as an argument.\n",
    "- It will execute the code in the object for the beginning of the block, e.g. the `__enter__()` method and return an instance of an object that can be assigned.\n",
    "\n",
""   ]
  },
  {
   "cell_type": "markdown",
   "id": "225a27e1",
   "metadata": {},
   "source": [
    "```python\n",
    "# execute the context manager, calls __enter__()\n",
    "with object as o:\n",
    "    # the main block...\n",
    "# end of the context manager, calls __exit__()\n",
    "```"
   ]
  },
  {
   "cell_type": "code",
   "execution_count": 5,
   "id": "3bd0c495",
   "metadata": {
    "ExecuteTime": {
     "end_time": "2023-06-20T10:56:27.152782Z",
     "start_time": "2023-06-20T10:56:27.149565Z"
    }
   },
   "outputs": [],
   "source": [
    "# Using with statement with MessageWriter\n",
    "with MessageWriter('file_4.txt') as xfile:\n",
    "    xfile.write('hello world')"
   ]
  },
  {
   "cell_type": "markdown",
   "id": "c098b3a7",
   "metadata": {},
   "source": [
    "\n",
    "- A class based context manager as shown above is not the only way to support the with statement in user defined objects.\n",
    "- The `contextlib` module provides a few more abstractions built upon the basic context manager interface.\n",
    "\n",
""   ]
  },
  {
   "cell_type": "code",
   "execution_count": 6,
   "id": "dfe89d31",
   "metadata": {
    "ExecuteTime": {
     "end_time": "2023-06-20T10:56:27.157965Z",
     "start_time": "2023-06-20T10:56:27.154826Z"
    }
   },
   "outputs": [],
   "source": [
    "from contextlib import contextmanager\n",
    "\n",
    "\n",
    "class MessageWriter(object):\n",
    "    def __init__(self, filename):\n",
    "        self.file_name = filename\n",
    "\n",
    "    @contextmanager\n",
    "    def open_file(self):\n",
    "        try:\n",
    "            file = open(self.file_name, 'w')\n",
    "            yield file\n",
    "        finally:\n",
    "            file.close()"
   ]
  },
  {
   "cell_type": "code",
   "execution_count": 7,
   "id": "f36688f6",
   "metadata": {
    "ExecuteTime": {
     "end_time": "2023-06-20T10:56:27.162952Z",
     "start_time": "2023-06-20T10:56:27.159989Z"
    }
   },
   "outputs": [],
   "source": [
    "# usage\n",
    "message_writer = MessageWriter('file_5.txt')\n",
    "with message_writer.open_file() as my_file:\n",
    "    my_file.write('hello world')"
   ]
  },
  {
   "cell_type": "markdown",
   "id": "d0e6e10f",
   "metadata": {},
   "source": [
    "# Clean-up folder\n",
    "<hr style = \"border:2px solid black\" ></hr>"
   ]
  },
  {
   "cell_type": "code",
   "execution_count": 8,
   "id": "4621c568",
   "metadata": {
    "ExecuteTime": {
     "end_time": "2023-06-20T10:56:27.784603Z",
     "start_time": "2023-06-20T10:56:27.164694Z"
    }
   },
   "outputs": [],
   "source": [
    "!rm file_1.txt\n",
    "!rm file_2.txt\n",
    "!rm file_3.txt\n",
    "!rm file_4.txt\n",
    "!rm file_5.txt"
   ]
  },
  {
   "cell_type": "markdown",
   "id": "af2882b2",
   "metadata": {},
   "source": [
    "# References\n",
    "<hr style = \"border:2px solid black\" ></hr>"
   ]
  },
  {
   "cell_type": "markdown",
   "id": "fedd4956",
   "metadata": {},
   "source": [
    "\n",
    "- [`with` statement in Python](https://www.geeksforgeeks.org/with-statement-in-python/)\n",
    "- [What is a context manager?](https://superfastpython.com/thread-context-manager/)\n",
    "    \n",
""   ]
  },
  {
   "cell_type": "code",
   "execution_count": null,
   "id": "7ddfef08",
   "metadata": {},
   "outputs": [],
   "source": []
  }
 ],
 "metadata": {
  "kernelspec": {
   "display_name": "mlops",
   "language": "python",
   "name": "mlops"
  },
  "language_info": {
   "codemirror_mode": {
    "name": "ipython",
    "version": 3
   },
   "file_extension": ".py",
   "mimetype": "text/x-python",
   "name": "python",
   "nbconvert_exporter": "python",
   "pygments_lexer": "ipython3",
   "version": "3.8.16"
  },
  "toc": {
   "base_numbering": 1,
   "nav_menu": {},
   "number_sections": true,
   "sideBar": true,
   "skip_h1_title": false,
   "title_cell": "Table of Contents",
   "title_sidebar": "Contents",
   "toc_cell": true,
   "toc_position": {
    "height": "calc(100% - 180px)",
    "left": "10px",
    "top": "150px",
    "width": "259.75px"
   },
   "toc_section_display": true,
   "toc_window_display": true
  },
  "varInspector": {
   "cols": {
    "lenName": 16,
    "lenType": 16,
    "lenVar": 40
   },
   "kernels_config": {
    "python": {
     "delete_cmd_postfix": "",
     "delete_cmd_prefix": "del ",
     "library": "var_list.py",
     "varRefreshCmd": "print(var_dic_list())"
    },
    "r": {
     "delete_cmd_postfix": ") ",
     "delete_cmd_prefix": "rm(",
     "library": "var_list.r",
     "varRefreshCmd": "cat(var_dic_list()) "
    }
   },
   "types_to_exclude": [
    "module",
    "function",
    "builtin_function_or_method",
    "instance",
    "_Feature"
   ],
   "window_display": false
  }
 },
 "nbformat": 4,
 "nbformat_minor": 5
}
