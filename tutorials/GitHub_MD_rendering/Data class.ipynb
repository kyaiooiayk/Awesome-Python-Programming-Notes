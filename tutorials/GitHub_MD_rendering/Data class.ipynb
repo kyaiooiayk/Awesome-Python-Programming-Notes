{
 "cells": [
  {
   "cell_type": "markdown",
   "id": "40adc5b9",
   "metadata": {
    "toc": true
   },
   "source": [
    "<h1>Table of Contents<span class=\"tocSkip\"></span></h1>\n",
""   ]
  },
  {
   "cell_type": "markdown",
   "id": "satellite-taste",
   "metadata": {},
   "source": [
    "# Introduction\n",
    "<hr style=\"border:2px solid black\"> </hr>"
   ]
  },
  {
   "cell_type": "markdown",
   "id": "purple-electric",
   "metadata": {},
   "source": [
    "\n",
    "**What?** Data class\n",
    "\n",
""   ]
  },
  {
   "cell_type": "markdown",
   "id": "fb9febb1",
   "metadata": {},
   "source": [
    "# Imports\n",
    "<hr style=\"border:2px solid black\"> </hr>"
   ]
  },
  {
   "cell_type": "code",
   "execution_count": 2,
   "id": "7178be13",
   "metadata": {
    "ExecuteTime": {
     "end_time": "2023-04-16T10:29:41.491797Z",
     "start_time": "2023-04-16T10:29:41.489017Z"
    }
   },
   "outputs": [],
   "source": [
    "from collections import namedtuple\n",
    "from dataclasses import dataclass"
   ]
  },
  {
   "cell_type": "markdown",
   "id": "stopped-recruitment",
   "metadata": {},
   "source": [
    "# Data class vs. other data structures\n",
    "<hr style=\"border:2px solid black\"> </hr>"
   ]
  },
  {
   "cell_type": "markdown",
   "id": "9fc361df",
   "metadata": {},
   "source": [
    "\n",
    "- For simple data structures, you have can use a `tuple`, `dict` and `namedtuple`. \n",
    "- If `namedtuple` offers a lot of flexibiliy why even bother with data classes? First of all, data classes come with many more features. At the end of day even if `namedtuple` comes very close to what data class has to offer, by design is a `namedtuple` is a regular `tuple`.\n",
    "\n",
""   ]
  },
  {
   "cell_type": "markdown",
   "id": "ef7406b7",
   "metadata": {},
   "source": [
    "## `Tuple`"
   ]
  },
  {
   "cell_type": "code",
   "execution_count": 6,
   "id": "1c290e4f",
   "metadata": {
    "ExecuteTime": {
     "end_time": "2023-04-16T09:49:04.068633Z",
     "start_time": "2023-04-16T09:49:04.066025Z"
    }
   },
   "outputs": [],
   "source": [
    "queen_of_hearts_tuple = ('Q', 'Hearts')"
   ]
  },
  {
   "cell_type": "code",
   "execution_count": 9,
   "id": "2f5104af",
   "metadata": {
    "ExecuteTime": {
     "end_time": "2023-04-16T09:49:34.083455Z",
     "start_time": "2023-04-16T09:49:34.079675Z"
    }
   },
   "outputs": [
    {
     "data": {
      "text/plain": [
       "'Q'"
      ]
     },
     "execution_count": 9,
     "metadata": {},
     "output_type": "execute_result"
    }
   ],
   "source": [
    "# Has no name access, just positional\n",
    "queen_of_hearts_tuple[0]"
   ]
  },
  {
   "cell_type": "markdown",
   "id": "e2cf3c01",
   "metadata": {},
   "source": [
    "## `dict`"
   ]
  },
  {
   "cell_type": "code",
   "execution_count": null,
   "id": "a32d54e4",
   "metadata": {},
   "outputs": [],
   "source": [
    "queen_of_hearts_dict = {'rank': 'Q', 'suit': 'Hearts'}"
   ]
  },
  {
   "cell_type": "code",
   "execution_count": 11,
   "id": "22757aed",
   "metadata": {
    "ExecuteTime": {
     "end_time": "2023-04-16T09:50:30.899944Z",
     "start_time": "2023-04-16T09:50:30.896426Z"
    }
   },
   "outputs": [
    {
     "data": {
      "text/plain": [
       "'Hearts'"
      ]
     },
     "execution_count": 11,
     "metadata": {},
     "output_type": "execute_result"
    }
   ],
   "source": [
    "# Would be nicer with .suit\n",
    "queen_of_hearts_dict['suit']"
   ]
  },
  {
   "cell_type": "markdown",
   "id": "4bca8459",
   "metadata": {},
   "source": [
    "## `namedtuple`"
   ]
  },
  {
   "cell_type": "code",
   "execution_count": 3,
   "id": "77497002",
   "metadata": {
    "ExecuteTime": {
     "end_time": "2023-04-16T09:48:01.862800Z",
     "start_time": "2023-04-16T09:48:01.859964Z"
    }
   },
   "outputs": [],
   "source": [
    "NamedTupleCard = namedtuple('NamedTupleCard', ['rank', 'suit'])"
   ]
  },
  {
   "cell_type": "code",
   "execution_count": 4,
   "id": "6458281e",
   "metadata": {
    "ExecuteTime": {
     "end_time": "2023-04-16T09:48:18.134329Z",
     "start_time": "2023-04-16T09:48:18.124157Z"
    }
   },
   "outputs": [
    {
     "data": {
      "text/plain": [
       "'Q'"
      ]
     },
     "execution_count": 4,
     "metadata": {},
     "output_type": "execute_result"
    }
   ],
   "source": [
    "queen_of_hearts = NamedTupleCard('Q', 'Hearts')\n",
    "queen_of_hearts.rank"
   ]
  },
  {
   "cell_type": "code",
   "execution_count": 5,
   "id": "dcf583e6",
   "metadata": {
    "ExecuteTime": {
     "end_time": "2023-04-16T09:48:36.438867Z",
     "start_time": "2023-04-16T09:48:36.435320Z"
    }
   },
   "outputs": [
    {
     "data": {
      "text/plain": [
       "'Hearts'"
      ]
     },
     "execution_count": 5,
     "metadata": {},
     "output_type": "execute_result"
    }
   ],
   "source": [
    "queen_of_hearts.suit"
   ]
  },
  {
   "cell_type": "markdown",
   "id": "7ba28923",
   "metadata": {},
   "source": [
    "# Regular class\n",
    "<hr style=\"border:2px solid black\"> </hr>"
   ]
  },
  {
   "cell_type": "markdown",
   "id": "e82ae299",
   "metadata": {
    "ExecuteTime": {
     "end_time": "2023-04-16T10:01:52.149789Z",
     "start_time": "2023-04-16T10:01:52.144803Z"
    }
   },
   "source": [
    "\n",
    "- Let's we'd like to build a class to describe a deck of cards.\n",
    "- At the same we'd like to specifically build a `print`and `=` methods inside the class.\n",
    "- We'll then compare this against the data classes.\n",
    "\n",
""   ]
  },
  {
   "cell_type": "code",
   "execution_count": 22,
   "id": "62e57ee1",
   "metadata": {
    "ExecuteTime": {
     "end_time": "2023-04-16T09:59:51.975827Z",
     "start_time": "2023-04-16T09:59:51.971811Z"
    }
   },
   "outputs": [],
   "source": [
    "class RegularCard:\n",
    "    def __init__(self, rank, suit):\n",
    "        self.rank = rank\n",
    "        self.suit = suit\n",
    "\n",
    "    def __repr__(self):\n",
    "        return (f'{self.__class__.__name__}'\n",
    "                f'(rank={self.rank!r}, suit={self.suit!r})')\n",
    "\n",
    "    def __eq__(self, other):\n",
    "        if other.__class__ is not self.__class__:\n",
    "            return NotImplemented\n",
    "        return (self.rank, self.suit) == (other.rank, other.suit)"
   ]
  },
  {
   "cell_type": "code",
   "execution_count": 24,
   "id": "b8dc682f",
   "metadata": {
    "ExecuteTime": {
     "end_time": "2023-04-16T10:02:20.204237Z",
     "start_time": "2023-04-16T10:02:20.201453Z"
    }
   },
   "outputs": [],
   "source": [
    "# Instantiate the class\n",
    "queen_of_hearts = RegularCard('Q', 'Hearts')"
   ]
  },
  {
   "cell_type": "code",
   "execution_count": 25,
   "id": "6daa37f7",
   "metadata": {
    "ExecuteTime": {
     "end_time": "2023-04-16T10:02:25.262989Z",
     "start_time": "2023-04-16T10:02:25.259327Z"
    }
   },
   "outputs": [
    {
     "data": {
      "text/plain": [
       "'Q'"
      ]
     },
     "execution_count": 25,
     "metadata": {},
     "output_type": "execute_result"
    }
   ],
   "source": [
    "queen_of_hearts.rank"
   ]
  },
  {
   "cell_type": "code",
   "execution_count": 26,
   "id": "dc40dac1",
   "metadata": {
    "ExecuteTime": {
     "end_time": "2023-04-16T10:02:31.868500Z",
     "start_time": "2023-04-16T10:02:31.864471Z"
    }
   },
   "outputs": [
    {
     "data": {
      "text/plain": [
       "'Hearts'"
      ]
     },
     "execution_count": 26,
     "metadata": {},
     "output_type": "execute_result"
    }
   ],
   "source": [
    "queen_of_hearts.suit"
   ]
  },
  {
   "cell_type": "code",
   "execution_count": 29,
   "id": "5218f633",
   "metadata": {
    "ExecuteTime": {
     "end_time": "2023-04-16T10:03:14.297840Z",
     "start_time": "2023-04-16T10:03:14.294117Z"
    }
   },
   "outputs": [
    {
     "data": {
      "text/plain": [
       "RegularCard(rank='Q', suit='Hearts')"
      ]
     },
     "execution_count": 29,
     "metadata": {},
     "output_type": "execute_result"
    }
   ],
   "source": [
    "# Calling hte __repr__ method\n",
    "queen_of_hearts"
   ]
  },
  {
   "cell_type": "code",
   "execution_count": 30,
   "id": "45a740f7",
   "metadata": {
    "ExecuteTime": {
     "end_time": "2023-04-16T10:08:36.428170Z",
     "start_time": "2023-04-16T10:08:36.424244Z"
    }
   },
   "outputs": [
    {
     "data": {
      "text/plain": [
       "True"
      ]
     },
     "execution_count": 30,
     "metadata": {},
     "output_type": "execute_result"
    }
   ],
   "source": [
    "# Calling the method __eq__\n",
    "queen_of_hearts == RegularCard('Q', 'Hearts')"
   ]
  },
  {
   "cell_type": "markdown",
   "id": "aba7e618",
   "metadata": {},
   "source": [
    "# Data class\n",
    "<hr style=\"border:2px solid black\"> </hr>"
   ]
  },
  {
   "cell_type": "markdown",
   "id": "03478f9c",
   "metadata": {},
   "source": [
    "\n",
    "- Can we simplify what we have done above with a regular python class? Specifically can we reduce the amount of boiler plate code?\n",
    "- To give an idea why this may be beneficial look at `rank` and how many times is repeated: 3!\n",
    "\n",
""   ]
  },
  {
   "cell_type": "code",
   "execution_count": 3,
   "id": "d4f51883",
   "metadata": {
    "ExecuteTime": {
     "end_time": "2023-04-16T10:29:45.081891Z",
     "start_time": "2023-04-16T10:29:45.078595Z"
    }
   },
   "outputs": [],
   "source": [
    "@dataclass\n",
    "class DataClassCard:\n",
    "    rank: str\n",
    "    suit: str"
   ]
  },
  {
   "cell_type": "code",
   "execution_count": 5,
   "id": "fb72ec05",
   "metadata": {
    "ExecuteTime": {
     "end_time": "2023-04-16T10:29:59.789780Z",
     "start_time": "2023-04-16T10:29:59.786183Z"
    }
   },
   "outputs": [],
   "source": [
    "# Instantiate the class\n",
    "queen_of_hearts = DataClassCard('Q', 'Hearts')"
   ]
  },
  {
   "cell_type": "code",
   "execution_count": 6,
   "id": "ca886131",
   "metadata": {
    "ExecuteTime": {
     "end_time": "2023-04-16T10:30:08.417561Z",
     "start_time": "2023-04-16T10:30:08.407624Z"
    }
   },
   "outputs": [
    {
     "data": {
      "text/plain": [
       "'Q'"
      ]
     },
     "execution_count": 6,
     "metadata": {},
     "output_type": "execute_result"
    }
   ],
   "source": [
    "queen_of_hearts.rank"
   ]
  },
  {
   "cell_type": "code",
   "execution_count": 7,
   "id": "69a8ab02",
   "metadata": {
    "ExecuteTime": {
     "end_time": "2023-04-16T10:30:13.612022Z",
     "start_time": "2023-04-16T10:30:13.608186Z"
    }
   },
   "outputs": [
    {
     "data": {
      "text/plain": [
       "'Hearts'"
      ]
     },
     "execution_count": 7,
     "metadata": {},
     "output_type": "execute_result"
    }
   ],
   "source": [
    "queen_of_hearts.suit"
   ]
  },
  {
   "cell_type": "code",
   "execution_count": 8,
   "id": "908c029d",
   "metadata": {
    "ExecuteTime": {
     "end_time": "2023-04-16T10:30:20.639052Z",
     "start_time": "2023-04-16T10:30:20.635408Z"
    }
   },
   "outputs": [
    {
     "data": {
      "text/plain": [
       "DataClassCard(rank='Q', suit='Hearts')"
      ]
     },
     "execution_count": 8,
     "metadata": {},
     "output_type": "execute_result"
    }
   ],
   "source": [
    "# Calling hte __repr__ method\n",
    "queen_of_hearts"
   ]
  },
  {
   "cell_type": "code",
   "execution_count": 10,
   "id": "53ed2cbc",
   "metadata": {
    "ExecuteTime": {
     "end_time": "2023-04-16T10:31:56.432133Z",
     "start_time": "2023-04-16T10:31:56.428133Z"
    }
   },
   "outputs": [
    {
     "data": {
      "text/plain": [
       "True"
      ]
     },
     "execution_count": 10,
     "metadata": {},
     "output_type": "execute_result"
    }
   ],
   "source": [
    "# Calling the method __eq__\n",
    "queen_of_hearts == DataClassCard('Q', 'Hearts')"
   ]
  },
  {
   "cell_type": "markdown",
   "id": "electronic-coupon",
   "metadata": {},
   "source": [
    "# References\n",
    "<hr style=\"border:2px solid black\"> </hr>"
   ]
  },
  {
   "cell_type": "markdown",
   "id": "center-graph",
   "metadata": {},
   "source": [
    "\n",
    "- [Data Classes in Python 3.7+ (Guide)](https://realpython.com/python-data-classes/)\n",
    "\n",
""   ]
  }
 ],
 "metadata": {
  "hide_input": false,
  "kernelspec": {
   "display_name": "trainingAI",
   "language": "python",
   "name": "trainingai"
  },
  "language_info": {
   "codemirror_mode": {
    "name": "ipython",
    "version": 3
   },
   "file_extension": ".py",
   "mimetype": "text/x-python",
   "name": "python",
   "nbconvert_exporter": "python",
   "pygments_lexer": "ipython3",
   "version": "3.9.7"
  },
  "toc": {
   "base_numbering": 1,
   "nav_menu": {},
   "number_sections": true,
   "sideBar": true,
   "skip_h1_title": false,
   "title_cell": "Table of Contents",
   "title_sidebar": "Contents",
   "toc_cell": true,
   "toc_position": {
    "height": "calc(100% - 180px)",
    "left": "10px",
    "top": "150px",
    "width": "203.483px"
   },
   "toc_section_display": true,
   "toc_window_display": true
  },
  "varInspector": {
   "cols": {
    "lenName": 16,
    "lenType": 16,
    "lenVar": 40
   },
   "kernels_config": {
    "python": {
     "delete_cmd_postfix": "",
     "delete_cmd_prefix": "del ",
     "library": "var_list.py",
     "varRefreshCmd": "print(var_dic_list())"
    },
    "r": {
     "delete_cmd_postfix": ") ",
     "delete_cmd_prefix": "rm(",
     "library": "var_list.r",
     "varRefreshCmd": "cat(var_dic_list()) "
    }
   },
   "types_to_exclude": [
    "module",
    "function",
    "builtin_function_or_method",
    "instance",
    "_Feature"
   ],
   "window_display": false
  }
 },
 "nbformat": 4,
 "nbformat_minor": 5
}
