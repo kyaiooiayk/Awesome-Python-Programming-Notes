{
 "cells": [
  {
   "cell_type": "markdown",
   "metadata": {
    "toc": true
   },
   "source": [
    "<h1>Table of Contents<span class=\"tocSkip\"></span></h1>\n",
""   ]
  },
  {
   "cell_type": "markdown",
   "metadata": {},
   "source": [
    "# Introduction"
   ]
  },
  {
   "cell_type": "markdown",
   "metadata": {},
   "source": [
    "\n",
    "**What?** How to implement wildcards in python\n",
    "\n",
""   ]
  },
  {
   "cell_type": "markdown",
   "metadata": {},
   "source": [
    "# What is a wildcard?"
   ]
  },
  {
   "cell_type": "markdown",
   "metadata": {},
   "source": [
    "\n",
    "- A wildcard is a symbol used to replace or represent one or more characters. \n",
    "- They are used to **simplify** search criteria. \n",
    "- The most common wildcards are the asterisk `*` and the question mark `?`. \n",
    "- In Python, we can implement wildcards using the `regex` (regular expressions) library.\n",
    "\n",
""   ]
  },
  {
   "cell_type": "markdown",
   "metadata": {},
   "source": [
    "# Example #1"
   ]
  },
  {
   "cell_type": "markdown",
   "metadata": {},
   "source": [
    "\n",
    "- The dot `.` character is used in place of the question mark `?` symbol. \n",
    "- Hence,to search for all words matching the `col?r` pattern, the code would look something like as follows.\n",
    "\n",
""   ]
  },
  {
   "cell_type": "code",
   "execution_count": 4,
   "metadata": {},
   "outputs": [
    {
     "name": "stdout",
     "output_type": "stream",
     "text": [
      "Using one dot color\n",
      "Using two dot colour\n"
     ]
    }
   ],
   "source": [
    "# Regular expression library\n",
    "import re\n",
    "\n",
    "# Add or remove the words in this list to vary the results\n",
    "wordlist = [\"color\", \"colour\", \"work\", \"working\",\n",
    "            \"fox\", \"worker\", \"working\"]\n",
    "\n",
    "for word in wordlist:\n",
    "        # The . symbol is used in place of ? symbol\n",
    "        if re.search('col.r', word) : \n",
    "                print (\"Using one dot\", word)\n",
    "        elif re.search('col..r', word) : \n",
    "                print (\"Using two dot\", word)"
   ]
  },
  {
   "cell_type": "markdown",
   "metadata": {},
   "source": [
    "# Example #2"
   ]
  },
  {
   "cell_type": "markdown",
   "metadata": {},
   "source": [
    "\n",
    "- Similarly, the `.+` characters are used to match one or more characters (like the asterisk `*` symbol). \n",
    "Hence, in Python, to search for all words starting with the root `work`, our regex code would look like this: \n",
    "\n",
""   ]
  },
  {
   "cell_type": "code",
   "execution_count": 5,
   "metadata": {},
   "outputs": [
    {
     "name": "stdout",
     "output_type": "stream",
     "text": [
      "working\n",
      "worker\n"
     ]
    }
   ],
   "source": [
    "# Regular expression library\n",
    "import re\n",
    "\n",
    "# Add or remove the words in this list to vary the results\n",
    "wordlist = [\"color\", \"colour\", \"work\", \"working\",\n",
    "            \"fox\", \"worker\"]\n",
    "\n",
    "for word in wordlist:\n",
    "        # The .+ symbol is used in place of * symbol\n",
    "        if re.search('work.+', word) : \n",
    "                print (word)"
   ]
  },
  {
   "cell_type": "markdown",
   "metadata": {},
   "source": [
    "# References"
   ]
  },
  {
   "cell_type": "markdown",
   "metadata": {},
   "source": [
    "\n",
    "- https://www.educative.io/edpresso/how-to-implement-wildcards-in-python\n",
    "\n",
""   ]
  },
  {
   "cell_type": "code",
   "execution_count": null,
   "metadata": {},
   "outputs": [],
   "source": []
  }
 ],
 "metadata": {
  "kernelspec": {
   "display_name": "trainingAI",
   "language": "python",
   "name": "trainingai"
  },
  "language_info": {
   "codemirror_mode": {
    "name": "ipython",
    "version": 3
   },
   "file_extension": ".py",
   "mimetype": "text/x-python",
   "name": "python",
   "nbconvert_exporter": "python",
   "pygments_lexer": "ipython3",
   "version": "3.9.7"
  },
  "toc": {
   "base_numbering": 1,
   "nav_menu": {},
   "number_sections": true,
   "sideBar": true,
   "skip_h1_title": false,
   "title_cell": "Table of Contents",
   "title_sidebar": "Contents",
   "toc_cell": true,
   "toc_position": {},
   "toc_section_display": true,
   "toc_window_display": true
  },
  "varInspector": {
   "cols": {
    "lenName": 16,
    "lenType": 16,
    "lenVar": 40
   },
   "kernels_config": {
    "python": {
     "delete_cmd_postfix": "",
     "delete_cmd_prefix": "del ",
     "library": "var_list.py",
     "varRefreshCmd": "print(var_dic_list())"
    },
    "r": {
     "delete_cmd_postfix": ") ",
     "delete_cmd_prefix": "rm(",
     "library": "var_list.r",
     "varRefreshCmd": "cat(var_dic_list()) "
    }
   },
   "types_to_exclude": [
    "module",
    "function",
    "builtin_function_or_method",
    "instance",
    "_Feature"
   ],
   "window_display": false
  }
 },
 "nbformat": 4,
 "nbformat_minor": 2
}
