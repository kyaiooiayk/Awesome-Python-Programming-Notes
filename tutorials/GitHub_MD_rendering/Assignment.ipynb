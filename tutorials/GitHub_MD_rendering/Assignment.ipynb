{
 "cells": [
  {
   "cell_type": "markdown",
   "metadata": {
    "toc": true
   },
   "source": [
    "<h1>Table of Contents<span class=\"tocSkip\"></span></h1>\n",
""   ]
  },
  {
   "cell_type": "markdown",
   "metadata": {},
   "source": [
    "# Introduction\n",
    "<hr style = \"border:2px solid black\" ></hr>"
   ]
  },
  {
   "cell_type": "markdown",
   "metadata": {},
   "source": [
    "\n",
    "**What?** Assignment\n",
    "\n",
""   ]
  },
  {
   "cell_type": "markdown",
   "metadata": {},
   "source": [
    "# Is Python pass-by-value?\n",
    "<hr style = \"border:2px solid black\" ></hr>"
   ]
  },
  {
   "cell_type": "markdown",
   "metadata": {},
   "source": [
    "\n",
    "- In the pass-by-value model, when you call a function with a set of arguments, the data is copied into the function. This means that you can modify the arguments however you please and that you won’t be able to alter the state of the program outside the function. \n",
    "\n",
    "- This is not what Python does, Python does not use the pass-by-value model.\n",
    "\n",
""   ]
  },
  {
   "cell_type": "code",
   "execution_count": 3,
   "metadata": {
    "ExecuteTime": {
     "end_time": "2022-09-03T13:01:03.310438Z",
     "start_time": "2022-09-03T13:01:03.307021Z"
    }
   },
   "outputs": [
    {
     "name": "stdout",
     "output_type": "stream",
     "text": [
      "[42, 2, 3]\n"
     ]
    }
   ],
   "source": [
    "def clearly_not_pass_by_value(my_list):\n",
    "    my_list[0] = 42\n",
    "\n",
    "\n",
    "l = [1, 2, 3] \n",
    "clearly_not_pass_by_value(l)\n",
    "print(l)\n",
    "## [42, 2, 3]"
   ]
  },
  {
   "cell_type": "markdown",
   "metadata": {},
   "source": [
    "# Is Python pass-by-reference?\n",
    "<hr style = \"border:2px solid black\" ></hr>"
   ]
  },
  {
   "cell_type": "markdown",
   "metadata": {},
   "source": [
    "\n",
    "- In a true pass-by-reference model, the called function gets access to the variables of the callee! \n",
    "    \n",
    "- Sometimes, it can look like that’s what Python does, but Python does not use the pass-by-reference model. \n",
    "    \n",
    "- If Python used a pass-by-reference model, the function would’ve managed to completely change the value of l outside the function, but that’s not what happened, as we can see.\n",
    "\n",
    "- Pascal programming laguage implements a pass-by-reference model.\n",
    "\n",
""   ]
  },
  {
   "cell_type": "code",
   "execution_count": 4,
   "metadata": {
    "ExecuteTime": {
     "end_time": "2022-09-03T13:04:01.429839Z",
     "start_time": "2022-09-03T13:04:01.426499Z"
    }
   },
   "outputs": [
    {
     "name": "stdout",
     "output_type": "stream",
     "text": [
      "[1, 2, 3]\n"
     ]
    }
   ],
   "source": [
    "def not_pass_by_reference(my_list): \n",
    "    my_list = [42, 73, 0]\n",
    "l = [1, 2, 3] \n",
    "not_pass_by_reference(l)\n",
    "print(l)"
   ]
  },
  {
   "cell_type": "markdown",
   "metadata": {},
   "source": [
    "# Python is pass-by-assignment\n",
    "<hr style = \"border:2px solid black\" ></hr>"
   ]
  },
  {
   "cell_type": "markdown",
   "metadata": {},
   "source": [
    "\n",
    "- When we call a function, each of the parameters of the function is assigned to the object they were passed\n",
    "in. In essence, each parameter now becomes a new nickname to the objects that were given in.\n",
    "\n",
    "- In the example below, when we call foo with the argument 5, it’s as if we were doing bar = 5 at the beginning of the function.\n",
    "\n",
    "- Immediately after that, we have bar = 3. This means “take the nickname”bar” and point it at the integer 3”. \n",
    "    \n",
    "- Python **doesn’t care** that bar, as a nickname (as a variable name) had already been used. It is now pointing at that 3!\n",
    "\n",
""   ]
  },
  {
   "cell_type": "code",
   "execution_count": 6,
   "metadata": {
    "ExecuteTime": {
     "end_time": "2022-09-03T13:10:55.500428Z",
     "start_time": "2022-09-03T13:10:55.490166Z"
    }
   },
   "outputs": [
    {
     "data": {
      "text/plain": [
       "3"
      ]
     },
     "execution_count": 6,
     "metadata": {},
     "output_type": "execute_result"
    }
   ],
   "source": [
    "def foo(bar):\n",
    "    bar = 3\n",
    "    return bar\n",
    "\n",
    "\n",
    "foo(5)"
   ]
  },
  {
   "cell_type": "markdown",
   "metadata": {},
   "source": [
    "# References\n",
    "<hr style = \"border:2px solid black\" ></hr>"
   ]
  },
  {
   "cell_type": "markdown",
   "metadata": {},
   "source": [
    "\n",
    "- [Whirlwind Tour of Python](http://www.oreilly.com/programming/free/a-whirlwind-tour-of-python.csp)\n",
    "- https://mathspp.com/blog/pydonts\n",
    "    \n",
""   ]
  },
  {
   "cell_type": "code",
   "execution_count": null,
   "metadata": {},
   "outputs": [],
   "source": []
  }
 ],
 "metadata": {
  "anaconda-cloud": {},
  "kernelspec": {
   "display_name": "Python 3 (ipykernel)",
   "language": "python",
   "name": "python3"
  },
  "language_info": {
   "codemirror_mode": {
    "name": "ipython",
    "version": 3
   },
   "file_extension": ".py",
   "mimetype": "text/x-python",
   "name": "python",
   "nbconvert_exporter": "python",
   "pygments_lexer": "ipython3",
   "version": "3.9.7"
  },
  "toc": {
   "base_numbering": 1,
   "nav_menu": {},
   "number_sections": true,
   "sideBar": true,
   "skip_h1_title": false,
   "title_cell": "Table of Contents",
   "title_sidebar": "Contents",
   "toc_cell": true,
   "toc_position": {},
   "toc_section_display": true,
   "toc_window_display": true
  },
  "varInspector": {
   "cols": {
    "lenName": 16,
    "lenType": 16,
    "lenVar": 40
   },
   "kernels_config": {
    "python": {
     "delete_cmd_postfix": "",
     "delete_cmd_prefix": "del ",
     "library": "var_list.py",
     "varRefreshCmd": "print(var_dic_list())"
    },
    "r": {
     "delete_cmd_postfix": ") ",
     "delete_cmd_prefix": "rm(",
     "library": "var_list.r",
     "varRefreshCmd": "cat(var_dic_list()) "
    }
   },
   "types_to_exclude": [
    "module",
    "function",
    "builtin_function_or_method",
    "instance",
    "_Feature"
   ],
   "window_display": false
  }
 },
 "nbformat": 4,
 "nbformat_minor": 1
}
