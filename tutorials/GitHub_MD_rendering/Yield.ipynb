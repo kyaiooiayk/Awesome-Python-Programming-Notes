{
 "cells": [
  {
   "cell_type": "markdown",
   "metadata": {
    "toc": true
   },
   "source": [
    "<h1>Table of Contents<span class=\"tocSkip\"></span></h1>\n",
""   ]
  },
  {
   "cell_type": "markdown",
   "metadata": {},
   "source": [
    "# Introduction"
   ]
  },
  {
   "cell_type": "markdown",
   "metadata": {},
   "source": [
    "\n",
    "**What?** Yield\n",
    "\n",
""   ]
  },
  {
   "cell_type": "markdown",
   "metadata": {},
   "source": [
    "# What is Yield?"
   ]
  },
  {
   "cell_type": "markdown",
   "metadata": {},
   "source": [
    "\n",
    "- The `yield` keyword can turn any function into a generator object. \n",
    "- Yields work like a standard `return` keyword.\n",
    "- When done so, the function instead of returning the output, it returns a generator that can be **iterated upon**. \n",
    "\n",
""   ]
  },
  {
   "cell_type": "markdown",
   "metadata": {},
   "source": [
    "# Case with no yield"
   ]
  },
  {
   "cell_type": "code",
   "execution_count": 1,
   "metadata": {
    "ExecuteTime": {
     "end_time": "2023-01-25T16:53:43.576536Z",
     "start_time": "2023-01-25T16:53:43.573530Z"
    }
   },
   "outputs": [],
   "source": [
    "def testgen_baseline(index):\n",
    "    weekdays = ['sun','mon','tue','wed','thu','fri','sat']\n",
    "    return weekdays[index]"
   ]
  },
  {
   "cell_type": "code",
   "execution_count": 2,
   "metadata": {
    "ExecuteTime": {
     "end_time": "2023-01-25T16:53:43.581965Z",
     "start_time": "2023-01-25T16:53:43.578608Z"
    }
   },
   "outputs": [
    {
     "name": "stdout",
     "output_type": "stream",
     "text": [
      "sun\n",
      "<class 'str'>\n"
     ]
    }
   ],
   "source": [
    "day = testgen_baseline(0)\n",
    "print(day)\n",
    "print(type(day))"
   ]
  },
  {
   "cell_type": "code",
   "execution_count": 3,
   "metadata": {
    "ExecuteTime": {
     "end_time": "2023-01-25T16:53:43.588439Z",
     "start_time": "2023-01-25T16:53:43.585421Z"
    }
   },
   "outputs": [
    {
     "name": "stdout",
     "output_type": "stream",
     "text": [
      "mon\n",
      "mon\n"
     ]
    }
   ],
   "source": [
    "day = testgen_baseline(1)\n",
    "print(day)\n",
    "# Still print the same value as expected!\n",
    "print(day)"
   ]
  },
  {
   "cell_type": "markdown",
   "metadata": {},
   "source": [
    "# Case with yield"
   ]
  },
  {
   "cell_type": "code",
   "execution_count": 4,
   "metadata": {
    "ExecuteTime": {
     "end_time": "2023-01-25T16:53:43.593428Z",
     "start_time": "2023-01-25T16:53:43.590339Z"
    }
   },
   "outputs": [],
   "source": [
    "def testgen_with_yield(index):\n",
    "    weekdays = ['sun','mon','tue','wed','thu','fri','sat']\n",
    "    yield weekdays[index]\n",
    "    yield weekdays[index+1]"
   ]
  },
  {
   "cell_type": "code",
   "execution_count": 5,
   "metadata": {
    "ExecuteTime": {
     "end_time": "2023-01-25T16:53:43.598452Z",
     "start_time": "2023-01-25T16:53:43.595490Z"
    }
   },
   "outputs": [
    {
     "name": "stdout",
     "output_type": "stream",
     "text": [
      "<generator object testgen_with_yield at 0x7fe2d59d4ba0>\n",
      "<class 'generator'>\n"
     ]
    }
   ],
   "source": [
    "day = testgen_with_yield(0)\n",
    "print(day)\n",
    "print(type(day))"
   ]
  },
  {
   "cell_type": "markdown",
   "metadata": {},
   "source": [
    "\n",
    "- You can then iterate through the generator to extract items. \n",
    "- Iterating is done using a `for loop` or simply using the `next()` function.\n",
    "\n",
""   ]
  },
  {
   "cell_type": "code",
   "execution_count": 6,
   "metadata": {
    "ExecuteTime": {
     "end_time": "2023-01-25T16:53:43.603796Z",
     "start_time": "2023-01-25T16:53:43.600534Z"
    }
   },
   "outputs": [
    {
     "name": "stdout",
     "output_type": "stream",
     "text": [
      "sun mon\n"
     ]
    }
   ],
   "source": [
    "print(next(day), next(day))"
   ]
  },
  {
   "cell_type": "code",
   "execution_count": 7,
   "metadata": {
    "ExecuteTime": {
     "end_time": "2023-01-25T16:53:43.608985Z",
     "start_time": "2023-01-25T16:53:43.605814Z"
    }
   },
   "outputs": [
    {
     "name": "stdout",
     "output_type": "stream",
     "text": [
      "= sun\n",
      "= mon\n"
     ]
    }
   ],
   "source": [
    "day = testgen_with_yield(0)\n",
    "for i in day:\n",
    "    print(\"=\", i)"
   ]
  },
  {
   "cell_type": "code",
   "execution_count": 8,
   "metadata": {
    "ExecuteTime": {
     "end_time": "2023-01-25T16:53:43.613949Z",
     "start_time": "2023-01-25T16:53:43.610958Z"
    }
   },
   "outputs": [
    {
     "name": "stdout",
     "output_type": "stream",
     "text": [
      "= sun mon\n"
     ]
    }
   ],
   "source": [
    "day = testgen_with_yield(0)\n",
    "for i in day:\n",
    "    print(\"=\", i, next(day))"
   ]
  },
  {
   "cell_type": "markdown",
   "metadata": {},
   "source": [
    "\n",
    "- **How do we explain the error below?**\n",
    "- Each time you iterate, Python runs the code **until** it encounters a yield statement inside the function. \n",
    "- Then, it sends the yielded value and pauses the function in that state without exiting. \n",
    "- When the function is invoked the next time, the **state** at which it was last paused is remembered and execution is continued from that point onwards. It means, any local variable you may have created inside the function before yield was called will be available the next time you invoke the function.\n",
    "- This continues until the generator is exhausted.\n",
    "\n",
""   ]
  },
  {
   "cell_type": "code",
   "execution_count": 9,
   "metadata": {
    "ExecuteTime": {
     "end_time": "2023-01-25T16:53:43.724811Z",
     "start_time": "2023-01-25T16:53:43.619349Z"
    }
   },
   "outputs": [
    {
     "name": "stdout",
     "output_type": "stream",
     "text": [
      "= mon\n"
     ]
    },
    {
     "ename": "StopIteration",
     "evalue": "",
     "output_type": "error",
     "traceback": [
      "\u001b[0;31m---------------------------------------------------------------------------\u001b[0m",
      "\u001b[0;31mStopIteration\u001b[0m                             Traceback (most recent call last)",
      "\u001b[0;32m/var/folders/5x/lyqr8wv507n43bnwpsz4dq_c0000gn/T/ipykernel_27289/733796526.py\u001b[0m in \u001b[0;36m<module>\u001b[0;34m\u001b[0m\n\u001b[1;32m      3\u001b[0m \u001b[0;32mfor\u001b[0m \u001b[0mi\u001b[0m \u001b[0;32min\u001b[0m \u001b[0mday\u001b[0m\u001b[0;34m:\u001b[0m\u001b[0;34m\u001b[0m\u001b[0;34m\u001b[0m\u001b[0m\n\u001b[1;32m      4\u001b[0m     \u001b[0mprint\u001b[0m\u001b[0;34m(\u001b[0m\u001b[0;34m\"=\"\u001b[0m\u001b[0;34m,\u001b[0m \u001b[0mi\u001b[0m\u001b[0;34m)\u001b[0m\u001b[0;34m\u001b[0m\u001b[0;34m\u001b[0m\u001b[0m\n\u001b[0;32m----> 5\u001b[0;31m     \u001b[0mprint\u001b[0m\u001b[0;34m(\u001b[0m\u001b[0mnext\u001b[0m\u001b[0;34m(\u001b[0m\u001b[0mday\u001b[0m\u001b[0;34m)\u001b[0m\u001b[0;34m)\u001b[0m\u001b[0;34m\u001b[0m\u001b[0;34m\u001b[0m\u001b[0m\n\u001b[0m",
      "\u001b[0;31mStopIteration\u001b[0m: "
     ]
    }
   ],
   "source": [
    "day = testgen_with_yield(0)\n",
    "next(day)\n",
    "for i in day:\n",
    "    print(\"=\", i)\n",
    "    print(next(day))\n"
   ]
  },
  {
   "cell_type": "markdown",
   "metadata": {},
   "source": [
    "# Another example"
   ]
  },
  {
   "cell_type": "markdown",
   "metadata": {},
   "source": [
    "\n",
    "- Since the yield enables the function to remember its 'state', this function can be used to generate values in a logic defined by you. So, it function becomes a **generator**. \n",
    "\n",
""   ]
  },
  {
   "cell_type": "code",
   "execution_count": 10,
   "metadata": {
    "ExecuteTime": {
     "end_time": "2023-01-25T16:53:53.506221Z",
     "start_time": "2023-01-25T16:53:53.502668Z"
    }
   },
   "outputs": [],
   "source": [
    "def simple_generator():\n",
    "    \"\"\"\n",
    "    We have defined a logic which goes like this:\n",
    "    \n",
    "    call me once and I will return 1\n",
    "    cam me twice and I will return 2\n",
    "    call me three times and I will return 3\n",
    "    \"\"\"\n",
    "    x = 1\n",
    "    yield x\n",
    "    yield x + 1\n",
    "    yield x + 2"
   ]
  },
  {
   "cell_type": "code",
   "execution_count": 11,
   "metadata": {
    "ExecuteTime": {
     "end_time": "2023-01-25T16:53:53.877229Z",
     "start_time": "2023-01-25T16:53:53.866618Z"
    }
   },
   "outputs": [
    {
     "data": {
      "text/plain": [
       "<generator object simple_generator at 0x7fe2d5f34d60>"
      ]
     },
     "execution_count": 11,
     "metadata": {},
     "output_type": "execute_result"
    }
   ],
   "source": [
    "# Only generator. no code runs. no value gets returned\n",
    "generator_object = simple_generator()\n",
    "generator_object"
   ]
  },
  {
   "cell_type": "code",
   "execution_count": 12,
   "metadata": {
    "ExecuteTime": {
     "end_time": "2023-01-25T16:53:54.202990Z",
     "start_time": "2023-01-25T16:53:54.200046Z"
    }
   },
   "outputs": [
    {
     "name": "stdout",
     "output_type": "stream",
     "text": [
      "1\n",
      "2\n",
      "3\n"
     ]
    }
   ],
   "source": [
    "# Now you can iterate through the generator object. But it works only once.\n",
    "for i in generator_object:\n",
    "    print(i)"
   ]
  },
  {
   "cell_type": "code",
   "execution_count": 13,
   "metadata": {
    "ExecuteTime": {
     "end_time": "2023-01-25T16:53:54.551381Z",
     "start_time": "2023-01-25T16:53:54.548766Z"
    }
   },
   "outputs": [],
   "source": [
    "# This will not print anything as the generator has exhasuted all the options and has to be re-initialised\n",
    "for i in generator_object:\n",
    "    print(i)"
   ]
  },
  {
   "cell_type": "markdown",
   "metadata": {},
   "source": [
    "# Approaches to overcome generator exhaustion"
   ]
  },
  {
   "cell_type": "markdown",
   "metadata": {},
   "source": [
    "\n",
    "-  To overcome generator exhaustion, you can:    \n",
    "    - **Approach 1**: Iterate by calling the function that created the generator in the first place\n",
    "    - **Approach 2** (best): Convert it to a class that implements a `__iter__()` method. This creates an iterator every time, so you don't have to worry about the generator getting exhausted.\n",
    "\n",
""   ]
  },
  {
   "cell_type": "markdown",
   "metadata": {},
   "source": [
    "**Approach No1**"
   ]
  },
  {
   "cell_type": "code",
   "execution_count": 14,
   "metadata": {
    "ExecuteTime": {
     "end_time": "2023-01-25T16:53:56.136214Z",
     "start_time": "2023-01-25T16:53:56.132235Z"
    }
   },
   "outputs": [
    {
     "name": "stdout",
     "output_type": "stream",
     "text": [
      "1\n",
      "2\n",
      "3\n",
      "1\n",
      "2\n",
      "3\n"
     ]
    }
   ],
   "source": [
    "generator_object = simple_generator()\n",
    "for i in generator_object:\n",
    "    print(i)\n",
    "generator_object = simple_generator()\n",
    "for i in generator_object:\n",
    "    print(i)    "
   ]
  },
  {
   "cell_type": "markdown",
   "metadata": {},
   "source": [
    "**Approach No2**"
   ]
  },
  {
   "cell_type": "code",
   "execution_count": 15,
   "metadata": {
    "ExecuteTime": {
     "end_time": "2023-01-25T16:53:56.967176Z",
     "start_time": "2023-01-25T16:53:56.964154Z"
    }
   },
   "outputs": [],
   "source": [
    "class Iterable(object):\n",
    "    \"\"\"\n",
    "    Creates an iterator object every time, \n",
    "    so you don't have to keep recreating the generator.\n",
    "    \"\"\"\n",
    "    def __iter__(self):\n",
    "        x = 1\n",
    "        yield x\n",
    "        yield x + 1\n",
    "        yield x + 2"
   ]
  },
  {
   "cell_type": "code",
   "execution_count": 16,
   "metadata": {
    "ExecuteTime": {
     "end_time": "2023-01-25T16:53:57.446616Z",
     "start_time": "2023-01-25T16:53:57.444046Z"
    }
   },
   "outputs": [],
   "source": [
    "# Instantiate the class once only!\n",
    "iterable = Iterable()"
   ]
  },
  {
   "cell_type": "code",
   "execution_count": 17,
   "metadata": {
    "ExecuteTime": {
     "end_time": "2023-01-25T16:53:57.843825Z",
     "start_time": "2023-01-25T16:53:57.840021Z"
    }
   },
   "outputs": [
    {
     "name": "stdout",
     "output_type": "stream",
     "text": [
      "1\n",
      "2\n",
      "3\n",
      "1\n",
      "2\n",
      "3\n"
     ]
    }
   ],
   "source": [
    "for i in iterable:  # iterator created here\n",
    "    print(i)\n",
    "for i in iterable:  # iterator created here\n",
    "    print(i)    "
   ]
  },
  {
   "cell_type": "markdown",
   "metadata": {},
   "source": [
    "# Generator are memory efficient"
   ]
  },
  {
   "cell_type": "markdown",
   "metadata": {},
   "source": [
    "\n",
    "- Let's we want to iterate through al  list. If you do so, the content of the list occupies tangible memory as soon as you materialise it (you run the code and everythign get sent into the RAM). The larger the list gets, it occupies more memory resource. Generators are memory efficient because the values are not materialized **until called**. \n",
    "\n",
    "- But if there is a certain logic behind producing the items that you want, you **don't have** to store in a list. But rather, simply write a generator that will produce the items whenever you want them.\n",
    "\n",
    "\n",
    "- Let's say, you want to iterate through squares of numbers from 1 to 10. There are two ways:\n",
    "    - Create the list \n",
    "    - Create a generator \n",
    "\n",
""   ]
  },
  {
   "cell_type": "markdown",
   "metadata": {},
   "source": [
    "**Option No1 - create a list**"
   ]
  },
  {
   "cell_type": "code",
   "execution_count": 18,
   "metadata": {
    "ExecuteTime": {
     "end_time": "2023-01-25T16:53:59.721926Z",
     "start_time": "2023-01-25T16:53:59.717904Z"
    }
   },
   "outputs": [
    {
     "name": "stdout",
     "output_type": "stream",
     "text": [
      "Size of a list 152\n",
      "1\n",
      "4\n",
      "9\n",
      "16\n",
      "25\n",
      "36\n",
      "49\n",
      "64\n",
      "81\n",
      "100\n"
     ]
    }
   ],
   "source": [
    "import sys\n",
    "my_list = [1, 2, 3, 4, 5, 6, 7, 8, 9, 10]\n",
    "print(\"Size of a list\", sys.getsizeof(my_list))\n",
    "for i in my_list:\n",
    "    print(i**2)"
   ]
  },
  {
   "cell_type": "markdown",
   "metadata": {},
   "source": [
    "**Option No2 - create a generator**"
   ]
  },
  {
   "cell_type": "code",
   "execution_count": 19,
   "metadata": {
    "ExecuteTime": {
     "end_time": "2023-01-25T16:54:00.636171Z",
     "start_time": "2023-01-25T16:54:00.632263Z"
    }
   },
   "outputs": [
    {
     "name": "stdout",
     "output_type": "stream",
     "text": [
      "1\n",
      "size of x 28\n",
      "4\n",
      "size of x 28\n",
      "9\n",
      "size of x 28\n",
      "16\n",
      "size of x 28\n",
      "25\n",
      "size of x 28\n",
      "36\n",
      "size of x 28\n",
      "49\n",
      "size of x 28\n",
      "64\n",
      "size of x 28\n",
      "81\n",
      "size of x 28\n",
      "100\n",
      "size of x 28\n"
     ]
    }
   ],
   "source": [
    "def squares(x=0):\n",
    "    \n",
    "    while x < 10:        \n",
    "        x = x + 1\n",
    "        yield x*x\n",
    "        print(\"size of x\", sys.getsizeof(x))\n",
    "\n",
    "for i in squares():\n",
    "    print(i)"
   ]
  },
  {
   "cell_type": "markdown",
   "metadata": {},
   "source": [
    "# References"
   ]
  },
  {
   "cell_type": "markdown",
   "metadata": {},
   "source": [
    "\n",
    "- https://codingcompiler.com/python-coding-interview-questions-answers/\n",
    "- https://www.machinelearningplus.com/python/what-does-yield-keyword-do/\n",
    "\n",
""   ]
  }
 ],
 "metadata": {
  "kernelspec": {
   "display_name": "trainingAI",
   "language": "python",
   "name": "trainingai"
  },
  "language_info": {
   "codemirror_mode": {
    "name": "ipython",
    "version": 3
   },
   "file_extension": ".py",
   "mimetype": "text/x-python",
   "name": "python",
   "nbconvert_exporter": "python",
   "pygments_lexer": "ipython3",
   "version": "3.9.7"
  },
  "toc": {
   "base_numbering": 1,
   "nav_menu": {},
   "number_sections": true,
   "sideBar": true,
   "skip_h1_title": false,
   "title_cell": "Table of Contents",
   "title_sidebar": "Contents",
   "toc_cell": true,
   "toc_position": {},
   "toc_section_display": true,
   "toc_window_display": true
  },
  "varInspector": {
   "cols": {
    "lenName": 16,
    "lenType": 16,
    "lenVar": 40
   },
   "kernels_config": {
    "python": {
     "delete_cmd_postfix": "",
     "delete_cmd_prefix": "del ",
     "library": "var_list.py",
     "varRefreshCmd": "print(var_dic_list())"
    },
    "r": {
     "delete_cmd_postfix": ") ",
     "delete_cmd_prefix": "rm(",
     "library": "var_list.r",
     "varRefreshCmd": "cat(var_dic_list()) "
    }
   },
   "types_to_exclude": [
    "module",
    "function",
    "builtin_function_or_method",
    "instance",
    "_Feature"
   ],
   "window_display": false
  }
 },
 "nbformat": 4,
 "nbformat_minor": 2
}
