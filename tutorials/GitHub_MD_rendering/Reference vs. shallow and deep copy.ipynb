{
 "cells": [
  {
   "cell_type": "markdown",
   "metadata": {
    "toc": true
   },
   "source": [
    "<h1>Table of Contents<span class=\"tocSkip\"></span></h1>\n",
""   ]
  },
  {
   "cell_type": "markdown",
   "metadata": {},
   "source": [
    "# Introduction\n",
    "<hr style = \"border:2px solid black\" ></hr>"
   ]
  },
  {
   "cell_type": "markdown",
   "metadata": {},
   "source": [
    "\n",
    "**What?** A collection of not-so-obvious Python stuff\n",
    "\n",
""   ]
  },
  {
   "cell_type": "markdown",
   "metadata": {},
   "source": [
    "# How to make a shallow and deep copy of an object\n",
    "<hr style = \"border:2px solid black\" ></hr>"
   ]
  },
  {
   "cell_type": "code",
   "execution_count": 3,
   "metadata": {
    "ExecuteTime": {
     "end_time": "2023-01-28T10:09:14.461232Z",
     "start_time": "2023-01-28T10:09:14.457216Z"
    }
   },
   "outputs": [
    {
     "name": "stdout",
     "output_type": "stream",
     "text": [
      "IDs:\n",
      "list1: 140609799131584\n",
      "list2: 140609799131584\n",
      "list3: 140609799131200\n",
      "list4: 140609793850432\n",
      "list5: 140609799111104\n",
      "\n"
     ]
    }
   ],
   "source": [
    "from copy import deepcopy\n",
    "\n",
    "list1 = [1,2]\n",
    "list2 = list1           # reference\n",
    "list3 = list1[:]        # shallow copy\n",
    "list4 = list1.copy()    # shallow copy\n",
    "list5 = deepcopy(list1) # deep copy\n",
    "\n",
    "print('IDs:\\nlist1: {}\\nlist2: {}\\nlist3: {}\\nlist4: {}\\nlist5: {}\\n'\n",
    "      .format(id(list1), id(list2), id(list3), id(list4), id(list5)))"
   ]
  },
  {
   "cell_type": "markdown",
   "metadata": {},
   "source": [
    "# Shallow\n",
    "<hr style = \"border:2px solid black\" ></hr>"
   ]
  },
  {
   "cell_type": "markdown",
   "metadata": {},
   "source": [
    "\n",
    "- If we use the assignment operator to assign one list to another list, we just create a new name reference to the original list.\n",
    "- If we want to create a new list object, we have to make a copy of the original list. This can be done via `a_list[:]` or `a_list.copy()`.\n",
    "\n",
""   ]
  },
  {
   "cell_type": "code",
   "execution_count": 12,
   "metadata": {},
   "outputs": [
    {
     "name": "stdout",
     "output_type": "stream",
     "text": [
      "IDs:\n",
      "list1: 4486860424\n",
      "list2: 4486860424\n",
      "list3: 4486818632\n",
      "list4: 4486818568\n",
      "\n",
      "list1: [3, 2]\n",
      "\n",
      "list1: [3, 2]\n",
      "list2: [3, 2]\n",
      "list3: [4, 2]\n",
      "list4: [1, 4]\n"
     ]
    }
   ],
   "source": [
    "list1 = [1,2]\n",
    "list2 = list1        # reference\n",
    "list3 = list1[:]     # shallow copy\n",
    "list4 = list1.copy() # shallow copy\n",
    "\n",
    "print('IDs:\\nlist1: {}\\nlist2: {}\\nlist3: {}\\nlist4: {}\\n'\n",
    "      .format(id(list1), id(list2), id(list3), id(list4)))\n",
    "\n",
    "list2[0] = 3\n",
    "print('list1:', list1)\n",
    "\n",
    "list3[0] = 4\n",
    "list4[1] = 4\n",
    "print('\\nlist1:', list1)\n",
    "print('list2:', list2)\n",
    "print('list3:', list3)\n",
    "print('list4:', list4)"
   ]
  },
  {
   "cell_type": "markdown",
   "metadata": {},
   "source": [
    "# Deep copy\n",
    "<hr style = \"border:2px solid black\" ></hr>"
   ]
  },
  {
   "cell_type": "markdown",
   "metadata": {},
   "source": [
    "\n",
    "- If we are dealing with compound objects (e.g., lists that contain other lists, for more information) it becomes a little trickier.\n",
    "- In the case of compound objects, a shallow copy would create a new compound object, **but** it would just insert the references to the contained objects into the new compound object. In contrast, a deep copy would go \"deeper\" and create also new objects for the objects found in the original compound object. \n",
    "\n",
""   ]
  },
  {
   "cell_type": "code",
   "execution_count": 13,
   "metadata": {},
   "outputs": [
    {
     "name": "stdout",
     "output_type": "stream",
     "text": [
      "IDs:\n",
      "list1: 4486818824\n",
      "list2: 4486886024\n",
      "list3: 4486888200\n",
      "\n",
      "list1: [[3], [2]]\n",
      "\n",
      "list1: [[3], [2]]\n",
      "list2: [[3], [2]]\n",
      "list3: [[5], [2]]\n"
     ]
    }
   ],
   "source": [
    "from copy import deepcopy\n",
    "\n",
    "list1 = [[1], [2]]\n",
    "list2 = list1.copy()    # shallow copy\n",
    "list3 = deepcopy(list1)  # deep copy\n",
    "\n",
    "print('IDs:\\nlist1: {}\\nlist2: {}\\nlist3: {}\\n'\n",
    "      .format(id(list1), id(list2), id(list3)))\n",
    "\n",
    "list2[0][0] = 3\n",
    "print('list1:', list1)\n",
    "\n",
    "list3[0][0] = 5\n",
    "print('\\nlist1:', list1)\n",
    "print('list2:', list2)\n",
    "print('list3:', list3)"
   ]
  },
  {
   "cell_type": "markdown",
   "metadata": {},
   "source": [
    "# References\n",
    "<hr style = \"border:2px solid black\" ></hr>"
   ]
  },
  {
   "cell_type": "markdown",
   "metadata": {},
   "source": [
    "\n",
    "- https://nbviewer.org/github/rasbt/python_reference/blob/master/tutorials/not_so_obvious_python_stuff.ipynb?create=1\n",
    "- https://docs.python.org/2/library/copy.html\n",
    "    \n",
""   ]
  },
  {
   "cell_type": "code",
   "execution_count": null,
   "metadata": {},
   "outputs": [],
   "source": []
  }
 ],
 "metadata": {
  "kernelspec": {
   "display_name": "trainingAI",
   "language": "python",
   "name": "trainingai"
  },
  "language_info": {
   "codemirror_mode": {
    "name": "ipython",
    "version": 3
   },
   "file_extension": ".py",
   "mimetype": "text/x-python",
   "name": "python",
   "nbconvert_exporter": "python",
   "pygments_lexer": "ipython3",
   "version": "3.9.7"
  },
  "latex_envs": {
   "LaTeX_envs_menu_present": true,
   "autoclose": false,
   "autocomplete": true,
   "bibliofile": "biblio.bib",
   "cite_by": "apalike",
   "current_citInitial": 1,
   "eqLabelWithNumbers": true,
   "eqNumInitial": 1,
   "hotkeys": {
    "equation": "Ctrl-E",
    "itemize": "Ctrl-I"
   },
   "labels_anchors": false,
   "latex_user_defs": false,
   "report_style_numbering": false,
   "user_envs_cfg": false
  },
  "toc": {
   "base_numbering": 1,
   "nav_menu": {},
   "number_sections": true,
   "sideBar": true,
   "skip_h1_title": false,
   "title_cell": "Table of Contents",
   "title_sidebar": "Contents",
   "toc_cell": true,
   "toc_position": {
    "height": "calc(100% - 180px)",
    "left": "10px",
    "top": "150px",
    "width": "219.667px"
   },
   "toc_section_display": true,
   "toc_window_display": true
  },
  "varInspector": {
   "cols": {
    "lenName": 16,
    "lenType": 16,
    "lenVar": 40
   },
   "kernels_config": {
    "python": {
     "delete_cmd_postfix": "",
     "delete_cmd_prefix": "del ",
     "library": "var_list.py",
     "varRefreshCmd": "print(var_dic_list())"
    },
    "r": {
     "delete_cmd_postfix": ") ",
     "delete_cmd_prefix": "rm(",
     "library": "var_list.r",
     "varRefreshCmd": "cat(var_dic_list()) "
    }
   },
   "types_to_exclude": [
    "module",
    "function",
    "builtin_function_or_method",
    "instance",
    "_Feature"
   ],
   "window_display": false
  }
 },
 "nbformat": 4,
 "nbformat_minor": 1
}
