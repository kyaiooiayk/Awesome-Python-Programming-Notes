{
 "cells": [
  {
   "cell_type": "markdown",
   "id": "07ae13f0",
   "metadata": {
    "toc": true
   },
   "source": [
    "<h1>Table of Contents<span class=\"tocSkip\"></span></h1>\n",
""   ]
  },
  {
   "cell_type": "markdown",
   "id": "52951695",
   "metadata": {},
   "source": [
    "# Introduction\n",
    "<hr style = \"border:2px solid black\" ></hr>"
   ]
  },
  {
   "cell_type": "markdown",
   "id": "4301ed66",
   "metadata": {},
   "source": [
    "\n",
    "**What?** Default dictionary\n",
    "\n",
""   ]
  },
  {
   "cell_type": "markdown",
   "id": "f34b5a63",
   "metadata": {},
   "source": [
    "# Imports\n",
    "<hr style = \"border:2px solid black\" ></hr>"
   ]
  },
  {
   "cell_type": "code",
   "execution_count": null,
   "id": "7707c0cb",
   "metadata": {},
   "outputs": [],
   "source": [
    "from collections import defaultdict"
   ]
  },
  {
   "cell_type": "markdown",
   "id": "bb3748fb",
   "metadata": {},
   "source": [
    "# Explanation\n",
    "<hr style = \"border:2px solid black\" ></hr>"
   ]
  },
  {
   "cell_type": "markdown",
   "id": "0fd1c294",
   "metadata": {},
   "source": [
    "\n",
    "- Usually, a Python dictionary throws a `KeyError` if you try to get an item with a key that is not currently in the dictionary.\n",
    "\n",
    "- The defaultdict in contrast will simply create any items that you try to access (provided of course they do not exist yet).\n",
    "\n",
    "- To create such a \"default\" item, it calls the function object that you pass to the constructor (more precisely, it's an arbitrary \"callable\" object, which includes function and type objects).\n",
    "\n",
    "- For instance:\n",
    "    - `a = defaultdict(int)` default items are created using `int()` which will return the integer object 0.\n",
    "    - `b = defaultdict(int)` default items are created using `list()` which returns a new empty list object.\n",
    "\n",
""   ]
  },
  {
   "cell_type": "markdown",
   "id": "01bfc904",
   "metadata": {},
   "source": [
    "# Example\n",
    "<hr style = \"border:2px solid black\" ></hr>"
   ]
  },
  {
   "cell_type": "markdown",
   "id": "cda656bc",
   "metadata": {},
   "source": [
    "\n",
    "- Implement a group_by_owners function that: Accepts a dictionary containing the file owner name for each file name. \n",
    "- Returns a dictionary containing a list of file names for each owner name, in any order. \n",
    "- For example, for dictionary {'Input.txt': 'Randy', 'Code.py': 'Stan', 'Output.txt': 'Randy'} the group_by_owners function should return {'Randy': ['Input.txt', 'Output.txt'], 'Stan': ['Code.py']}.\n",
    "\n",
""   ]
  },
  {
   "cell_type": "code",
   "execution_count": 2,
   "id": "cbe17273",
   "metadata": {
    "ExecuteTime": {
     "end_time": "2022-03-11T06:52:17.213748Z",
     "start_time": "2022-03-11T06:52:17.209392Z"
    }
   },
   "outputs": [
    {
     "name": "stdout",
     "output_type": "stream",
     "text": [
      "Input.txt Randy\n",
      "Code.py Stan\n",
      "Output.txt Randy\n",
      "{'Randy': ['Input.txt', 'Output.txt'], 'Stan': ['Code.py']}\n"
     ]
    }
   ],
   "source": [
    "def group_by_owners(files):\n",
    "\n",
    "    owners = defaultdict(list)\n",
    "\n",
    "    for owned, owner in files.items():\n",
    "        print(owned, owner)\n",
    "        owners[owner].append(owned)\n",
    "\n",
    "    return dict(owners)\n",
    "    # return owners\n",
    "\n",
    "\n",
    "files = {\n",
    "    'Input.txt': 'Randy',\n",
    "    'Code.py': 'Stan',\n",
    "    'Output.txt': 'Randy'\n",
    "}\n",
    "print(group_by_owners(files))"
   ]
  },
  {
   "cell_type": "markdown",
   "id": "21a7f45e",
   "metadata": {},
   "source": [
    "# References\n",
    "<hr style = \"border:2px solid black\" ></hr>"
   ]
  },
  {
   "cell_type": "markdown",
   "id": "a497b883",
   "metadata": {},
   "source": [
    "\n",
    "- [TestDome home page](https://www.testdome.com/tests/python-online-test/45)\n",
    "- [elegant solution](https://github.com/jozo/testdome-python-solutions/blob/master/01_file_owners.py)\n",
    "- [python `defaultdict`](https://stackoverflow.com/questions/5900578/how-does-collections-defaultdict-work)\n",
    "\n",
""   ]
  }
 ],
 "metadata": {
  "kernelspec": {
   "display_name": "trainingAI",
   "language": "python",
   "name": "trainingai"
  },
  "language_info": {
   "codemirror_mode": {
    "name": "ipython",
    "version": 3
   },
   "file_extension": ".py",
   "mimetype": "text/x-python",
   "name": "python",
   "nbconvert_exporter": "python",
   "pygments_lexer": "ipython3",
   "version": "3.9.7"
  },
  "toc": {
   "base_numbering": 1,
   "nav_menu": {},
   "number_sections": true,
   "sideBar": true,
   "skip_h1_title": false,
   "title_cell": "Table of Contents",
   "title_sidebar": "Contents",
   "toc_cell": true,
   "toc_position": {
    "height": "calc(100% - 180px)",
    "left": "10px",
    "top": "150px",
    "width": "213.233px"
   },
   "toc_section_display": true,
   "toc_window_display": true
  },
  "varInspector": {
   "cols": {
    "lenName": 16,
    "lenType": 16,
    "lenVar": 40
   },
   "kernels_config": {
    "python": {
     "delete_cmd_postfix": "",
     "delete_cmd_prefix": "del ",
     "library": "var_list.py",
     "varRefreshCmd": "print(var_dic_list())"
    },
    "r": {
     "delete_cmd_postfix": ") ",
     "delete_cmd_prefix": "rm(",
     "library": "var_list.r",
     "varRefreshCmd": "cat(var_dic_list()) "
    }
   },
   "types_to_exclude": [
    "module",
    "function",
    "builtin_function_or_method",
    "instance",
    "_Feature"
   ],
   "window_display": false
  }
 },
 "nbformat": 4,
 "nbformat_minor": 5
}
