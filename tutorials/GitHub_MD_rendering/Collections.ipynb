{
 "cells": [
  {
   "cell_type": "markdown",
   "id": "c440bce4",
   "metadata": {
    "toc": true
   },
   "source": [
    "<h1>Table of Contents<span class=\"tocSkip\"></span></h1>\n",
""   ]
  },
  {
   "cell_type": "markdown",
   "id": "efec4e5a",
   "metadata": {},
   "source": [
    "# Introduction\n",
    "<hr style = \"border:2px solid black\" ></hr>"
   ]
  },
  {
   "cell_type": "markdown",
   "id": "0d9c492e",
   "metadata": {},
   "source": [
    "\n",
    "**What?** Collections\n",
    "\n",
""   ]
  },
  {
   "cell_type": "markdown",
   "id": "9d0e4a7f",
   "metadata": {},
   "source": [
    "# What are they?\n",
    "<hr style = \"border:2px solid black\" ></hr>"
   ]
  },
  {
   "cell_type": "markdown",
   "id": "9f07f4bb",
   "metadata": {},
   "source": [
    "\n",
    "- Collections provide different types of containers.\n",
    "- A Container is an object that is used to store different objects and provide a way to access the contained objects and iterate over them. \n",
    "- Some of the most known built-in containers are Tuple, List, Dictionary, but there are more and they reside inside the `collections` module:\n",
    "    - `Counters`\n",
    "    - `OrderedDict`\n",
    "    - `DefaultDict`\n",
    "    - `ChainMap`\n",
    "    - `NamedTuple`\n",
    "    - `DeQue`\n",
    "    - `UserDict`\n",
    "    - `UserList`\n",
    "    - `UserString`\n",
    "    \n",
""   ]
  },
  {
   "cell_type": "markdown",
   "id": "2d597615",
   "metadata": {},
   "source": [
    "# `Counter`\n",
    "<hr style = \"border:2px solid black\" ></hr>"
   ]
  },
  {
   "cell_type": "markdown",
   "id": "6fcf91a9",
   "metadata": {},
   "source": [
    "\n",
    "- A counter is a sub-class of the dictionary. \n",
    "- It is used to keep the count of the elements in an iterable in the form of an unordered dictionary where the key represents the element in the iterable and value represents the count of that element in the iterable.\n",
    "- Syntax: `class collections.Counter([iterable-or-mapping])` \n",
    "\n",
""   ]
  },
  {
   "cell_type": "code",
   "execution_count": 1,
   "id": "1e238c24",
   "metadata": {
    "ExecuteTime": {
     "end_time": "2023-02-14T19:54:16.957321Z",
     "start_time": "2023-02-14T19:54:16.954479Z"
    }
   },
   "outputs": [],
   "source": [
    "from collections import Counter"
   ]
  },
  {
   "cell_type": "code",
   "execution_count": 2,
   "id": "d042aae2",
   "metadata": {
    "ExecuteTime": {
     "end_time": "2023-02-14T19:54:31.839579Z",
     "start_time": "2023-02-14T19:54:31.835920Z"
    }
   },
   "outputs": [
    {
     "name": "stdout",
     "output_type": "stream",
     "text": [
      "Counter({'B': 5, 'A': 3, 'C': 2})\n"
     ]
    }
   ],
   "source": [
    "# Initialised with sequence of items\n",
    "print(Counter(['B', 'B', 'A', 'B', 'C', 'A', 'B', 'B', 'A', 'C']))"
   ]
  },
  {
   "cell_type": "code",
   "execution_count": 4,
   "id": "29eb9bd5",
   "metadata": {
    "ExecuteTime": {
     "end_time": "2023-02-14T19:54:44.415471Z",
     "start_time": "2023-02-14T19:54:44.412150Z"
    }
   },
   "outputs": [
    {
     "name": "stdout",
     "output_type": "stream",
     "text": [
      "Counter({'B': 5, 'A': 3, 'C': 2})\n"
     ]
    }
   ],
   "source": [
    "# Initialised with dictionary\n",
    "print(Counter({'A': 3, 'B': 5, 'C': 2}))"
   ]
  },
  {
   "cell_type": "code",
   "execution_count": 5,
   "id": "c50dd6e9",
   "metadata": {
    "ExecuteTime": {
     "end_time": "2023-02-14T19:54:50.731804Z",
     "start_time": "2023-02-14T19:54:50.728245Z"
    }
   },
   "outputs": [
    {
     "name": "stdout",
     "output_type": "stream",
     "text": [
      "Counter({'B': 5, 'A': 3, 'C': 2})\n"
     ]
    }
   ],
   "source": [
    "# Initialised with keyword arguments\n",
    "print(Counter(A=3, B=5, C=2))"
   ]
  },
  {
   "cell_type": "markdown",
   "id": "732cfdd9",
   "metadata": {},
   "source": [
    "# `OrderedDict`\n",
    "<hr style = \"border:2px solid black\" ></hr>"
   ]
  },
  {
   "cell_type": "markdown",
   "id": "706720ad",
   "metadata": {},
   "source": [
    "    \n",
    "- An OrderedDict is also a sub-class of dictionary but unlike dictionary, it **remembers** the order in which the keys were inserted. \n",
    "- While deleting and re-inserting the same key will push the key to the last to maintain the order of insertion of the key.\n",
    "\n",
""   ]
  },
  {
   "cell_type": "code",
   "execution_count": 6,
   "id": "3968e1e9",
   "metadata": {
    "ExecuteTime": {
     "end_time": "2023-02-14T19:57:13.034674Z",
     "start_time": "2023-02-14T19:57:13.032441Z"
    }
   },
   "outputs": [],
   "source": [
    "from collections import OrderedDict"
   ]
  },
  {
   "cell_type": "code",
   "execution_count": 14,
   "id": "2898ab00",
   "metadata": {
    "ExecuteTime": {
     "end_time": "2023-02-14T20:00:07.254043Z",
     "start_time": "2023-02-14T20:00:07.248576Z"
    },
    "cell_style": "split"
   },
   "outputs": [
    {
     "name": "stdout",
     "output_type": "stream",
     "text": [
      "This is a Dict:\n",
      "\n",
      "a 1\n",
      "b 2\n",
      "c 3\n",
      "d 4\n",
      "\n",
      "After re-inserting\n",
      "b 2\n",
      "c 3\n",
      "d 4\n",
      "a 1\n"
     ]
    }
   ],
   "source": [
    "print(\"This is a Dict:\\n\")\n",
    "d = {}\n",
    "d['a'] = 1\n",
    "d['b'] = 2\n",
    "d['c'] = 3\n",
    "d['d'] = 4\n",
    "\n",
    "for key, value in d.items():\n",
    "    print(key, value)\n",
    "    \n",
    "# deleting element\n",
    "od.pop('a')\n",
    "  \n",
    "# Re-inserting the same\n",
    "od['a'] = 1\n",
    "  \n",
    "print('\\nAfter re-inserting')\n",
    "for key, value in od.items(): \n",
    "    print(key, value)"
   ]
  },
  {
   "cell_type": "code",
   "execution_count": 11,
   "id": "4398385f",
   "metadata": {
    "ExecuteTime": {
     "end_time": "2023-02-14T19:59:58.058490Z",
     "start_time": "2023-02-14T19:59:58.053554Z"
    },
    "cell_style": "split"
   },
   "outputs": [
    {
     "name": "stdout",
     "output_type": "stream",
     "text": [
      "\n",
      "This is an Ordered Dict:\n",
      "\n",
      "a 1\n",
      "b 2\n",
      "c 3\n",
      "d 4\n",
      "\n",
      "After re-inserting\n",
      "b 2\n",
      "c 3\n",
      "d 4\n",
      "a 1\n"
     ]
    }
   ],
   "source": [
    "print(\"\\nThis is an Ordered Dict:\\n\")\n",
    "od = OrderedDict()\n",
    "od['a'] = 1\n",
    "od['b'] = 2\n",
    "od['c'] = 3\n",
    "od['d'] = 4\n",
    "\n",
    "for key, value in od.items():\n",
    "    print(key, value)\n",
    "\n",
    "# deleting element\n",
    "od.pop('a')\n",
    "  \n",
    "# Re-inserting the same\n",
    "od['a'] = 1\n",
    "  \n",
    "print('\\nAfter re-inserting')\n",
    "for key, value in od.items(): \n",
    "    print(key, value)"
   ]
  },
  {
   "cell_type": "markdown",
   "id": "123923b0",
   "metadata": {
    "ExecuteTime": {
     "end_time": "2023-02-14T20:02:03.572351Z",
     "start_time": "2023-02-14T20:02:03.568453Z"
    }
   },
   "source": [
    "# `DefaultDict`\n",
    "<hr style = \"border:2px solid black\" ></hr>"
   ]
  },
  {
   "cell_type": "markdown",
   "id": "0b91b1cc",
   "metadata": {},
   "source": [
    "\n",
    "- A `DefaultDict` is also a sub-class to dictionary. \n",
    "- It is used to provide some default values for the key that does not exist and never raises a KeyError.\n",
    "\n",
""   ]
  },
  {
   "cell_type": "code",
   "execution_count": 18,
   "id": "6d2d0632",
   "metadata": {
    "ExecuteTime": {
     "end_time": "2023-02-14T20:04:40.980496Z",
     "start_time": "2023-02-14T20:04:40.977938Z"
    }
   },
   "outputs": [],
   "source": [
    "from collections import defaultdict"
   ]
  },
  {
   "cell_type": "code",
   "execution_count": 21,
   "id": "e3ab7636",
   "metadata": {
    "ExecuteTime": {
     "end_time": "2023-02-14T20:05:29.156165Z",
     "start_time": "2023-02-14T20:05:29.152302Z"
    }
   },
   "outputs": [
    {
     "name": "stdout",
     "output_type": "stream",
     "text": [
      "defaultdict(<class 'int'>, {'1': 1, '2': 2, '3': 3, '4': 4})\n"
     ]
    }
   ],
   "source": [
    "# Dictionary with values as int\n",
    "d = defaultdict(int)\n",
    "\n",
    "L = [1, 2, 3, 4, 2, 4, 1, 2]\n",
    "\n",
    "for i in L:\n",
    "\n",
    "    d[str(i)] = i\n",
    "\n",
    "print(d)"
   ]
  },
  {
   "cell_type": "code",
   "execution_count": 23,
   "id": "11c380aa",
   "metadata": {
    "ExecuteTime": {
     "end_time": "2023-02-14T20:06:10.034698Z",
     "start_time": "2023-02-14T20:06:10.031274Z"
    }
   },
   "outputs": [
    {
     "name": "stdout",
     "output_type": "stream",
     "text": [
      "Dictionary with values as list:\n",
      "defaultdict(<class 'list'>, {'0': [0], '1': [1], '2': [2], '3': [3], '4': [4]})\n"
     ]
    }
   ],
   "source": [
    "# Dictionary with values as list\n",
    "d = defaultdict(list)\n",
    "\n",
    "for i in range(5):\n",
    "    d[str(i)].append(i)\n",
    "\n",
    "print(\"Dictionary with values as list:\")\n",
    "print(d)"
   ]
  },
  {
   "cell_type": "markdown",
   "id": "8f122517",
   "metadata": {},
   "source": [
    "# `ChainMap`\n",
    "<hr style = \"border:2px solid black\" ></hr>"
   ]
  },
  {
   "cell_type": "markdown",
   "id": "9f11531e",
   "metadata": {},
   "source": [
    "\n",
    "- A `ChainMap` encapsulates many dictionaries into a single unit and returns a list of dictionaries.\n",
    "- Syntax: `class collections.ChainMap(dict1, dict2)`\n",
    "    \n",
""   ]
  },
  {
   "cell_type": "code",
   "execution_count": 24,
   "id": "0b5f795b",
   "metadata": {
    "ExecuteTime": {
     "end_time": "2023-02-15T07:59:28.455413Z",
     "start_time": "2023-02-15T07:59:28.451553Z"
    }
   },
   "outputs": [
    {
     "name": "stdout",
     "output_type": "stream",
     "text": [
      "ChainMap({'a': 1, 'b': 2}, {'c': 3, 'd': 4}, {'e': 5, 'f': 6})\n"
     ]
    }
   ],
   "source": [
    "from collections import ChainMap\n",
    "\n",
    "\n",
    "d1 = {'a': 1, 'b': 2}\n",
    "d2 = {'c': 3, 'd': 4}\n",
    "d3 = {'e': 5, 'f': 6}\n",
    "\n",
    "# Defining the chainmap\n",
    "c = ChainMap(d1, d2, d3)\n",
    "\n",
    "print(c)"
   ]
  },
  {
   "cell_type": "code",
   "execution_count": 25,
   "id": "430dfdc6",
   "metadata": {
    "ExecuteTime": {
     "end_time": "2023-02-15T08:00:34.995447Z",
     "start_time": "2023-02-15T08:00:34.990149Z"
    }
   },
   "outputs": [
    {
     "name": "stdout",
     "output_type": "stream",
     "text": [
      "All the ChainMap contents are : \n",
      "ChainMap({'a': 1, 'b': 2}, {'b': 3, 'c': 4})\n",
      "Displaying new ChainMap : \n",
      "ChainMap({'f': 5}, {'a': 1, 'b': 2}, {'b': 3, 'c': 4})\n"
     ]
    }
   ],
   "source": [
    "import collections\n",
    "\n",
    "# initializing dictionaries\n",
    "dic1 = {'a': 1, 'b': 2}\n",
    "dic2 = {'b': 3, 'c': 4}\n",
    "dic3 = {'f': 5}\n",
    "\n",
    "# initializing ChainMap\n",
    "chain = collections.ChainMap(dic1, dic2)\n",
    "\n",
    "# printing chainMap\n",
    "print(\"All the ChainMap contents are : \")\n",
    "print(chain)\n",
    "\n",
    "# using new_child() to add new dictionary\n",
    "chain1 = chain.new_child(dic3)\n",
    "\n",
    "# printing chainMap\n",
    "print(\"Displaying new ChainMap : \")\n",
    "print(chain1)"
   ]
  },
  {
   "cell_type": "markdown",
   "id": "81f5099d",
   "metadata": {},
   "source": [
    "# `NamedTuple`\n",
    "<hr style = \"border:2px solid black\" ></hr>"
   ]
  },
  {
   "cell_type": "markdown",
   "id": "b37ca5d7",
   "metadata": {},
   "source": [
    "\n",
    "- A `NamedTuple` returns a tuple object with names for each position which the ordinary tuples lack. For example, consider a tuple names student where the first element represents name, second represents name and the third element represents the DOB.\n",
    "- Suppose for calling name instead of remembering the index position you can actually call the element by using the name argument, then it will be really easy for accessing tuples element. This functionality is provided by the NamedTuple.\n",
    "\n",
    "- `Syntax: class collections.namedtuple(typename, field_names)`\n",
    "    \n",
""   ]
  },
  {
   "cell_type": "code",
   "execution_count": 26,
   "id": "69087c7f",
   "metadata": {
    "ExecuteTime": {
     "end_time": "2023-02-15T08:03:18.761737Z",
     "start_time": "2023-02-15T08:03:18.757193Z"
    }
   },
   "outputs": [
    {
     "name": "stdout",
     "output_type": "stream",
     "text": [
      "The Student age using index is : 19\n",
      "The Student name using keyname is : Nandini\n"
     ]
    }
   ],
   "source": [
    "from collections import namedtuple\n",
    "\n",
    "# Declaring namedtuple()\n",
    "Student = namedtuple('Student', ['name', 'age', 'DOB'])\n",
    "\n",
    "# Adding values\n",
    "S = Student('Nandini', '19', '2541997')\n",
    "\n",
    "# Access using index\n",
    "print(\"The Student age using index is : \", end=\"\")\n",
    "print(S[1])\n",
    "\n",
    "# Access using name\n",
    "print(\"The Student name using keyname is : \", end=\"\")\n",
    "print(S.name)"
   ]
  },
  {
   "cell_type": "code",
   "execution_count": 27,
   "id": "fd3ca620",
   "metadata": {
    "ExecuteTime": {
     "end_time": "2023-02-15T08:04:43.048190Z",
     "start_time": "2023-02-15T08:04:43.043183Z"
    }
   },
   "outputs": [
    {
     "name": "stdout",
     "output_type": "stream",
     "text": [
      "The namedtuple instance using iterable is : \n",
      "Student(name='Manjeet', age='19', DOB='411997')\n",
      "The OrderedDict instance using namedtuple is : \n",
      "{'name': 'Nandini', 'age': '19', 'DOB': '2541997'}\n"
     ]
    }
   ],
   "source": [
    "# Declaring namedtuple()\n",
    "Student = namedtuple('Student', ['name', 'age', 'DOB'])\n",
    "\n",
    "# Adding values\n",
    "S = Student('Nandini', '19', '2541997')\n",
    "\n",
    "# initializing iterable\n",
    "li = ['Manjeet', '19', '411997']\n",
    "\n",
    "# initializing dict\n",
    "di = {'name': \"Nikhil\", 'age': 19, 'DOB': '1391997'}\n",
    "\n",
    "# using _make() to return namedtuple()\n",
    "print(\"The namedtuple instance using iterable is : \")\n",
    "print(Student._make(li))\n",
    "\n",
    "# using _asdict() to return an OrderedDict()\n",
    "print(\"The OrderedDict instance using namedtuple is : \")\n",
    "print(S._asdict())"
   ]
  },
  {
   "cell_type": "markdown",
   "id": "1efc9b02",
   "metadata": {},
   "source": [
    "# ` Deque`\n",
    "<hr style = \"border:2px solid black\" ></hr>"
   ]
  },
  {
   "cell_type": "markdown",
   "id": "dd235d40",
   "metadata": {},
   "source": [
    "\n",
    "- `Deque` (Doubly Ended Queue) is the optimised list for quicker append and pop operations from both sides of the container. It provides O(1) time complexity for append and pop operations as compared to list with O(n) time complexity.\n",
    "- Elements in deque can be inserted from both ends. To insert the elements from right `append()` method is used and to insert the elements from the left `appendleft()` method is used.\n",
    "- Elements can also be removed from the deque from both the ends. To remove elements from right use `pop()` method and to remove elements from the left use `popleft()` method.\n",
    "- Syntax: `class collections.deque(list)`\n",
    "    \n",
""   ]
  },
  {
   "cell_type": "code",
   "execution_count": 29,
   "id": "3faa17e5",
   "metadata": {
    "ExecuteTime": {
     "end_time": "2023-02-15T08:06:57.781275Z",
     "start_time": "2023-02-15T08:06:57.777867Z"
    }
   },
   "outputs": [
    {
     "name": "stdout",
     "output_type": "stream",
     "text": [
      "deque(['name', 'age', 'DOB'])\n"
     ]
    }
   ],
   "source": [
    "from collections import deque\n",
    "\n",
    "# Declaring deque\n",
    "queue = deque(['name', 'age', 'DOB'])\n",
    "\n",
    "print(queue)"
   ]
  },
  {
   "cell_type": "code",
   "execution_count": 30,
   "id": "63539e01",
   "metadata": {
    "ExecuteTime": {
     "end_time": "2023-02-15T08:07:59.844344Z",
     "start_time": "2023-02-15T08:07:59.840116Z"
    }
   },
   "outputs": [
    {
     "name": "stdout",
     "output_type": "stream",
     "text": [
      "The deque after appending at right is : \n",
      "deque([1, 2, 3, 4])\n",
      "The deque after appending at left is : \n",
      "deque([6, 1, 2, 3, 4])\n"
     ]
    }
   ],
   "source": [
    "# initializing deque\n",
    "de = deque([1, 2, 3])\n",
    "\n",
    "# using append() to insert element at right end\n",
    "# inserts 4 at the end of deque\n",
    "de.append(4)\n",
    "\n",
    "# printing modified deque\n",
    "print(\"The deque after appending at right is : \")\n",
    "print(de)\n",
    "\n",
    "# using appendleft() to insert element at left end\n",
    "# inserts 6 at the beginning of deque\n",
    "de.appendleft(6)\n",
    "\n",
    "# printing modified deque\n",
    "print(\"The deque after appending at left is : \")\n",
    "print(de)b"
   ]
  },
  {
   "cell_type": "code",
   "execution_count": 31,
   "id": "7defacf4",
   "metadata": {
    "ExecuteTime": {
     "end_time": "2023-02-15T08:08:57.579408Z",
     "start_time": "2023-02-15T08:08:57.575390Z"
    }
   },
   "outputs": [
    {
     "name": "stdout",
     "output_type": "stream",
     "text": [
      "The deque after deleting from right is : \n",
      "deque([6, 1, 2, 3])\n",
      "The deque after deleting from left is : \n",
      "deque([1, 2, 3])\n"
     ]
    }
   ],
   "source": [
    "# initializing deque\n",
    "de = deque([6, 1, 2, 3, 4])\n",
    "\n",
    "# using pop() to delete element from right end\n",
    "# deletes 4 from the right end of deque\n",
    "de.pop()\n",
    "\n",
    "# printing modified deque\n",
    "print(\"The deque after deleting from right is : \")\n",
    "print(de)\n",
    "\n",
    "# using popleft() to delete element from left end\n",
    "# deletes 6 from the left end of deque\n",
    "de.popleft()\n",
    "\n",
    "# printing modified deque\n",
    "print(\"The deque after deleting from left is : \")\n",
    "print(de)"
   ]
  },
  {
   "cell_type": "markdown",
   "id": "5a316ec2",
   "metadata": {
    "ExecuteTime": {
     "end_time": "2023-02-15T08:10:26.579840Z",
     "start_time": "2023-02-15T08:10:26.575870Z"
    }
   },
   "source": [
    "# `UserDict`\n",
    "<hr style = \"border:2px solid black\" ></hr>"
   ]
  },
  {
   "cell_type": "markdown",
   "id": "6ec3a9a9",
   "metadata": {},
   "source": [
    "    \n",
    "- `UserDict` is a dictionary-like container that acts as a wrapper around the dictionary objects.\n",
    "- This container is used when someone wants to create their own dictionary with some modified or new functionality. \n",
    "- `Syntax: class collections.UserDict([initialdata])`\n",
    "    \n",
""   ]
  },
  {
   "cell_type": "code",
   "execution_count": 34,
   "id": "cf6b1ab3",
   "metadata": {
    "ExecuteTime": {
     "end_time": "2023-02-15T08:12:29.878732Z",
     "start_time": "2023-02-15T08:12:29.874967Z"
    }
   },
   "outputs": [],
   "source": [
    "from collections import UserDict\n",
    "\n",
    "\n",
    "# Creating a Dictionary where\n",
    "# deletion is not allowed\n",
    "class MyDict(UserDict):\n",
    "\n",
    "    # Function to stop deletion\n",
    "    # from dictionary\n",
    "    def __del__(self):\n",
    "        raise RuntimeError(\"Deletion not allowed\")\n",
    "\n",
    "    # Function to stop pop from\n",
    "    # dictionary\n",
    "    def pop(self, s=None):\n",
    "        raise RuntimeError(\"Deletion not allowed\")\n",
    "\n",
    "    # Function to stop popitem\n",
    "    # from Dictionary\n",
    "    def popitem(self, s=None):\n",
    "        raise RuntimeError(\"Deletion not allowed\")"
   ]
  },
  {
   "cell_type": "code",
   "execution_count": 35,
   "id": "43938a55",
   "metadata": {
    "ExecuteTime": {
     "end_time": "2023-02-15T08:12:34.563544Z",
     "start_time": "2023-02-15T08:12:34.553460Z"
    }
   },
   "outputs": [
    {
     "ename": "RuntimeError",
     "evalue": "Deletion not allowed",
     "output_type": "error",
     "traceback": [
      "\u001b[0;31m---------------------------------------------------------------------------\u001b[0m",
      "\u001b[0;31mRuntimeError\u001b[0m                              Traceback (most recent call last)",
      "\u001b[0;32m/var/folders/5x/lyqr8wv507n43bnwpsz4dq_c0000gn/T/ipykernel_2508/3536948408.py\u001b[0m in \u001b[0;36m<module>\u001b[0;34m\u001b[0m\n\u001b[1;32m      4\u001b[0m             'c': 3})\n\u001b[1;32m      5\u001b[0m \u001b[0;34m\u001b[0m\u001b[0m\n\u001b[0;32m----> 6\u001b[0;31m \u001b[0md\u001b[0m\u001b[0;34m.\u001b[0m\u001b[0mpop\u001b[0m\u001b[0;34m(\u001b[0m\u001b[0;36m1\u001b[0m\u001b[0;34m)\u001b[0m\u001b[0;34m\u001b[0m\u001b[0;34m\u001b[0m\u001b[0m\n\u001b[0m",
      "\u001b[0;32m/var/folders/5x/lyqr8wv507n43bnwpsz4dq_c0000gn/T/ipykernel_2508/2604671188.py\u001b[0m in \u001b[0;36mpop\u001b[0;34m(self, s)\u001b[0m\n\u001b[1;32m     14\u001b[0m     \u001b[0;31m# dictionary\u001b[0m\u001b[0;34m\u001b[0m\u001b[0;34m\u001b[0m\u001b[0m\n\u001b[1;32m     15\u001b[0m     \u001b[0;32mdef\u001b[0m \u001b[0mpop\u001b[0m\u001b[0;34m(\u001b[0m\u001b[0mself\u001b[0m\u001b[0;34m,\u001b[0m \u001b[0ms\u001b[0m\u001b[0;34m=\u001b[0m\u001b[0;32mNone\u001b[0m\u001b[0;34m)\u001b[0m\u001b[0;34m:\u001b[0m\u001b[0;34m\u001b[0m\u001b[0;34m\u001b[0m\u001b[0m\n\u001b[0;32m---> 16\u001b[0;31m         \u001b[0;32mraise\u001b[0m \u001b[0mRuntimeError\u001b[0m\u001b[0;34m(\u001b[0m\u001b[0;34m\"Deletion not allowed\"\u001b[0m\u001b[0;34m)\u001b[0m\u001b[0;34m\u001b[0m\u001b[0;34m\u001b[0m\u001b[0m\n\u001b[0m\u001b[1;32m     17\u001b[0m \u001b[0;34m\u001b[0m\u001b[0m\n\u001b[1;32m     18\u001b[0m     \u001b[0;31m# Function to stop popitem\u001b[0m\u001b[0;34m\u001b[0m\u001b[0;34m\u001b[0m\u001b[0m\n",
      "\u001b[0;31mRuntimeError\u001b[0m: Deletion not allowed"
     ]
    }
   ],
   "source": [
    "# Driver's code\n",
    "d = MyDict({'a': 1,\n",
    "            'b': 2,\n",
    "            'c': 3})\n",
    "\n",
    "d.pop(1)"
   ]
  },
  {
   "cell_type": "markdown",
   "id": "422c741a",
   "metadata": {},
   "source": [
    "# `UserList`\n",
    "<hr style = \"border:2px solid black\" ></hr>"
   ]
  },
  {
   "cell_type": "markdown",
   "id": "33eb6086",
   "metadata": {},
   "source": [
    "    \n",
    "- `UserList` is a list like container that acts as a wrapper around the list objects. This is useful when someone wants to create their own list with some modified or additional functionality.\n",
    "- Syntax: `class collections.UserList([list])`\n",
    "    \n",
""   ]
  },
  {
   "cell_type": "code",
   "execution_count": 36,
   "id": "5c9557b0",
   "metadata": {
    "ExecuteTime": {
     "end_time": "2023-02-15T08:19:29.027506Z",
     "start_time": "2023-02-15T08:19:29.023800Z"
    }
   },
   "outputs": [],
   "source": [
    "from collections import UserList\n",
    "\n",
    "\n",
    "# Creating a List where\n",
    "# deletion is not allowed\n",
    "class MyList(UserList):\n",
    "\n",
    "    # Function to stop deletion\n",
    "    # from List\n",
    "    def remove(self, s=None):\n",
    "        raise RuntimeError(\"Deletion not allowed\")\n",
    "\n",
    "    # Function to stop pop from\n",
    "    # List\n",
    "    def pop(self, s=None):\n",
    "        raise RuntimeError(\"Deletion not allowed\")"
   ]
  },
  {
   "cell_type": "code",
   "execution_count": 37,
   "id": "1fdc15a5",
   "metadata": {
    "ExecuteTime": {
     "end_time": "2023-02-15T08:19:31.748123Z",
     "start_time": "2023-02-15T08:19:31.737316Z"
    }
   },
   "outputs": [
    {
     "name": "stdout",
     "output_type": "stream",
     "text": [
      "Original List\n",
      "After Insertion\n",
      "[1, 2, 3, 4, 5]\n"
     ]
    },
    {
     "ename": "RuntimeError",
     "evalue": "Deletion not allowed",
     "output_type": "error",
     "traceback": [
      "\u001b[0;31m---------------------------------------------------------------------------\u001b[0m",
      "\u001b[0;31mRuntimeError\u001b[0m                              Traceback (most recent call last)",
      "\u001b[0;32m/var/folders/5x/lyqr8wv507n43bnwpsz4dq_c0000gn/T/ipykernel_2508/516597304.py\u001b[0m in \u001b[0;36m<module>\u001b[0;34m\u001b[0m\n\u001b[1;32m     10\u001b[0m \u001b[0;34m\u001b[0m\u001b[0m\n\u001b[1;32m     11\u001b[0m \u001b[0;31m# Deleting From List\u001b[0m\u001b[0;34m\u001b[0m\u001b[0;34m\u001b[0m\u001b[0m\n\u001b[0;32m---> 12\u001b[0;31m \u001b[0mL\u001b[0m\u001b[0;34m.\u001b[0m\u001b[0mremove\u001b[0m\u001b[0;34m(\u001b[0m\u001b[0;34m)\u001b[0m\u001b[0;34m\u001b[0m\u001b[0;34m\u001b[0m\u001b[0m\n\u001b[0m",
      "\u001b[0;32m/var/folders/5x/lyqr8wv507n43bnwpsz4dq_c0000gn/T/ipykernel_2508/4193979950.py\u001b[0m in \u001b[0;36mremove\u001b[0;34m(self, s)\u001b[0m\n\u001b[1;32m      9\u001b[0m     \u001b[0;31m# from List\u001b[0m\u001b[0;34m\u001b[0m\u001b[0;34m\u001b[0m\u001b[0m\n\u001b[1;32m     10\u001b[0m     \u001b[0;32mdef\u001b[0m \u001b[0mremove\u001b[0m\u001b[0;34m(\u001b[0m\u001b[0mself\u001b[0m\u001b[0;34m,\u001b[0m \u001b[0ms\u001b[0m\u001b[0;34m=\u001b[0m\u001b[0;32mNone\u001b[0m\u001b[0;34m)\u001b[0m\u001b[0;34m:\u001b[0m\u001b[0;34m\u001b[0m\u001b[0;34m\u001b[0m\u001b[0m\n\u001b[0;32m---> 11\u001b[0;31m         \u001b[0;32mraise\u001b[0m \u001b[0mRuntimeError\u001b[0m\u001b[0;34m(\u001b[0m\u001b[0;34m\"Deletion not allowed\"\u001b[0m\u001b[0;34m)\u001b[0m\u001b[0;34m\u001b[0m\u001b[0;34m\u001b[0m\u001b[0m\n\u001b[0m\u001b[1;32m     12\u001b[0m \u001b[0;34m\u001b[0m\u001b[0m\n\u001b[1;32m     13\u001b[0m     \u001b[0;31m# Function to stop pop from\u001b[0m\u001b[0;34m\u001b[0m\u001b[0;34m\u001b[0m\u001b[0m\n",
      "\u001b[0;31mRuntimeError\u001b[0m: Deletion not allowed"
     ]
    }
   ],
   "source": [
    "# Driver's code\n",
    "L = MyList([1, 2, 3, 4])\n",
    "\n",
    "print(\"Original List\")\n",
    "\n",
    "# Inserting to List\"\n",
    "L.append(5)\n",
    "print(\"After Insertion\")\n",
    "print(L)\n",
    "\n",
    "# Deleting From List\n",
    "L.remove()"
   ]
  },
  {
   "cell_type": "markdown",
   "id": "533c1b1f",
   "metadata": {
    "ExecuteTime": {
     "end_time": "2023-02-15T08:20:26.375461Z",
     "start_time": "2023-02-15T08:20:26.371214Z"
    }
   },
   "source": [
    "# `UserString`\n",
    "<hr style = \"border:2px solid black\" ></hr>"
   ]
  },
  {
   "cell_type": "markdown",
   "id": "4fecc5b4",
   "metadata": {},
   "source": [
    "    \n",
    "- `UserString` is a string like container and just like UserDict and UserList it acts as a wrapper around string objects. It is used when someone wants to create their own strings with some modified or additional functionality. \n",
    "- `Syntax: class collections.UserString(seq)`\n",
    "\n",
""   ]
  },
  {
   "cell_type": "code",
   "execution_count": 40,
   "id": "d61542f5",
   "metadata": {
    "ExecuteTime": {
     "end_time": "2023-02-15T08:22:04.487340Z",
     "start_time": "2023-02-15T08:22:04.483857Z"
    }
   },
   "outputs": [],
   "source": [
    "from collections import UserString\n",
    "\n",
    "# Creating a Mutable String\n",
    "class Mystring(UserString):\n",
    "\n",
    "    # Function to append to\n",
    "    # string\n",
    "    def append(self, s):\n",
    "        self.data += s\n",
    "\n",
    "    # Function to remove from\n",
    "    # string\n",
    "    def remove(self, s):\n",
    "        self.data = self.data.replace(s, \"\")"
   ]
  },
  {
   "cell_type": "code",
   "execution_count": 41,
   "id": "9c9f72ad",
   "metadata": {
    "ExecuteTime": {
     "end_time": "2023-02-15T08:22:04.974458Z",
     "start_time": "2023-02-15T08:22:04.970454Z"
    }
   },
   "outputs": [
    {
     "name": "stdout",
     "output_type": "stream",
     "text": [
      "Original String: Geeks\n",
      "String After Appending: Geekss\n",
      "String after Removing: Gkss\n"
     ]
    }
   ],
   "source": [
    "# Driver's code\n",
    "s1 = Mystring(\"Geeks\")\n",
    "print(\"Original String:\", s1.data)\n",
    "\n",
    "# Appending to string\n",
    "s1.append(\"s\")\n",
    "print(\"String After Appending:\", s1.data)\n",
    "\n",
    "# Removing from string\n",
    "s1.remove(\"e\")\n",
    "print(\"String after Removing:\", s1.data)"
   ]
  },
  {
   "cell_type": "markdown",
   "id": "a4ab803a",
   "metadata": {},
   "source": [
    "# Conclusions\n",
    "<hr style = \"border:2px solid black\" ></hr>"
   ]
  },
  {
   "cell_type": "markdown",
   "id": "a2c4271c",
   "metadata": {},
   "source": [
    "\n",
    "- Write readable and explicit code using `namedtuple`\n",
    "- Build efficient queues and stacks using `deque`\n",
    "- Count objects efficiently using `Counter`\n",
    "- Handle missing dictionary keys with `defaultdict`\n",
    "- Remember the insertion order of keys with `OrderedDict`\n",
    "- Chain multiple dictionaries in a single view with `ChainMap`\n",
    "\n",
""   ]
  },
  {
   "cell_type": "markdown",
   "id": "af2882b2",
   "metadata": {},
   "source": [
    "# References\n",
    "<hr style = \"border:2px solid black\" ></hr>"
   ]
  },
  {
   "cell_type": "markdown",
   "id": "fedd4956",
   "metadata": {},
   "source": [
    "\n",
    "- https://realpython.com/python-collections-module/\n",
    "- https://www.geeksforgeeks.org/python-collections-module/\n",
    "\n",
""   ]
  },
  {
   "cell_type": "code",
   "execution_count": null,
   "id": "7ddfef08",
   "metadata": {},
   "outputs": [],
   "source": []
  }
 ],
 "metadata": {
  "kernelspec": {
   "display_name": "trainingAI",
   "language": "python",
   "name": "trainingai"
  },
  "language_info": {
   "codemirror_mode": {
    "name": "ipython",
    "version": 3
   },
   "file_extension": ".py",
   "mimetype": "text/x-python",
   "name": "python",
   "nbconvert_exporter": "python",
   "pygments_lexer": "ipython3",
   "version": "3.9.7"
  },
  "toc": {
   "base_numbering": 1,
   "nav_menu": {},
   "number_sections": true,
   "sideBar": true,
   "skip_h1_title": false,
   "title_cell": "Table of Contents",
   "title_sidebar": "Contents",
   "toc_cell": true,
   "toc_position": {
    "height": "calc(100% - 180px)",
    "left": "10px",
    "top": "150px",
    "width": "259.75px"
   },
   "toc_section_display": true,
   "toc_window_display": true
  },
  "varInspector": {
   "cols": {
    "lenName": 16,
    "lenType": 16,
    "lenVar": 40
   },
   "kernels_config": {
    "python": {
     "delete_cmd_postfix": "",
     "delete_cmd_prefix": "del ",
     "library": "var_list.py",
     "varRefreshCmd": "print(var_dic_list())"
    },
    "r": {
     "delete_cmd_postfix": ") ",
     "delete_cmd_prefix": "rm(",
     "library": "var_list.r",
     "varRefreshCmd": "cat(var_dic_list()) "
    }
   },
   "types_to_exclude": [
    "module",
    "function",
    "builtin_function_or_method",
    "instance",
    "_Feature"
   ],
   "window_display": false
  }
 },
 "nbformat": 4,
 "nbformat_minor": 5
}
