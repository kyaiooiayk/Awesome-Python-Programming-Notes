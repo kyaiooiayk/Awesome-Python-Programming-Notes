{
 "cells": [
  {
   "cell_type": "markdown",
   "metadata": {
    "toc": true
   },
   "source": [
    "<h1>Table of Contents<span class=\"tocSkip\"></span></h1>\n",
""   ]
  },
  {
   "cell_type": "markdown",
   "metadata": {},
   "source": [
    "# Introduction\n",
    "<hr style = \"border:2px solid black\" ></hr>"
   ]
  },
  {
   "cell_type": "markdown",
   "metadata": {},
   "source": [
    "\n",
    "**What?** Object-Oriented Programming (OOP) in Python\n",
    "\n",
""   ]
  },
  {
   "cell_type": "markdown",
   "metadata": {},
   "source": [
    "# What is OOP?\n",
    "<hr style = \"border:2px solid black\" ></hr>"
   ]
  },
  {
   "cell_type": "markdown",
   "metadata": {},
   "source": [
    "\n",
    "- OOP stands for Object-oriented programming.\n",
    "- It is a **programming paradigm** that provides means of structuring a program by bundling related data, properties and behaviors into individual objects.\n",
    "- This is in constrast with another common programming paradigm: **procedural programming**. This structures a program like a recipe in that it provides a set of steps, in the form of functions and code blocks, that flow sequentially in order to complete a task.\n",
    "\n",
""   ]
  },
  {
   "cell_type": "markdown",
   "metadata": {},
   "source": [
    "# High-level of what OOP really is\n",
    "<hr style = \"border:2px solid black\" ></hr>"
   ]
  },
  {
   "cell_type": "markdown",
   "metadata": {},
   "source": [
    "\n",
    "- OOPs has many technical aspects but from a way very high level, many of these aspects can be summarized by two generals goals in software engineering:\n",
    "    - **Reusability**: concepts like inheritance and polymorphism improve code reusability and increase the efficiency and productivity of the programmer. They also simplify code maintenance.\n",
    "    - **Nonredundancy**: avoiding double implementation effort and reducing debugging and testing\n",
    "\n",
""   ]
  },
  {
   "cell_type": "markdown",
   "metadata": {},
   "source": [
    "# Technical aspects of OOP\n",
    "<hr style = \"border:2px solid black\" ></hr>"
   ]
  },
  {
   "cell_type": "markdown",
   "metadata": {},
   "source": [
    "\n",
    "- **Abstraction**: the use of attributes and methods allows building abstract, flexible models of objects, with a focus on what is relevant and neglecting what is not needed.\n",
    "- **Modularity** implies the possibility of breaking code down into multiple modules which are then linked to form the complete codebase. \n",
    "- **Inheritance** refers to the concept that one class can inherit attributes and meth‐ ods from another class.\n",
    "- **Aggregation** refers to the case in which an object is at least partly made up of multiple other objects that might exist independently.  \n",
    "- **Composition** is similar to aggregation, but here the single objects cannot exist independently of each other.\n",
    "- **Polymorphism** can take on multiple forms. Of particular importance in a Python context is what is called duck typing. This refers to the fact that standard opera‐ tions can be implemented on many different classes and their instances without knowing exactly what object one is dealing with.\n",
    "- **Encapsulation** refers to the approach of making data within a class accessible only via public methods. This approach might avoid unintended effects by sim‐ ply working with and possibly changing attribute values.\n",
    "    \n",
""   ]
  },
  {
   "cell_type": "markdown",
   "metadata": {},
   "source": [
    "# Defining a class\n",
    "<hr style = \"border:2px solid black\" ></hr>"
   ]
  },
  {
   "cell_type": "markdown",
   "metadata": {},
   "source": [
    "\n",
    "- A class is like a **blueprint** for creating an object.\n",
    "- By creating a class you render your code more manageable and more maintainable.\n",
    "- While the class is the blueprint, an **instance** is an object that is built from a class and **contains real data**.\n",
    "- Put another way, a class is like a form or questionnaire. An instance is like a form that has been filled out with information.\n",
    "\n",
    "\n",
    "- You can give `.__init__()` any number of parameters, but the first parameter will always be a variable called self. \n",
    "- When a new class instance is created, the instance is automatically passed to the `self` parameter in .__init__() so that new attributes can be defined on the object.\n",
    "\n",
    "\n",
    "- Attributes created in .__init__() are called **instance attributes**.\n",
    "- Attributes created outside .__init__() are called **class attributes**.\n",
    "- Use class attributes to define properties that should have the same value for every class instance. Use instance attributes for properties that vary from one instance to another.\n",
    "\n",
""   ]
  },
  {
   "cell_type": "code",
   "execution_count": 1,
   "metadata": {
    "ExecuteTime": {
     "end_time": "2022-09-27T12:40:53.646059Z",
     "start_time": "2022-09-27T12:40:53.642249Z"
    }
   },
   "outputs": [],
   "source": [
    "class Dog:\n",
    "    # Class attribute\n",
    "    species = \"Canis familiaris\"\n",
    "\n",
    "    def __init__(self, name, age):\n",
    "        # Creates an instance attribute called name and assigns to it the value of the name parameter.\n",
    "        self.name = name\n",
    "        # Creates an instance attribute called age and assigns to it the value of the age parameter.\n",
    "        self.age = age\n",
    "\n",
    "    # Instance method\n",
    "    def __str__(self):\n",
    "        return f\"{self.name} is {self.age} years old\""
   ]
  },
  {
   "cell_type": "markdown",
   "metadata": {},
   "source": [
    "\n",
    "- Creating a new object from a class is called **instantiating** an object.\n",
    "- This funny-looking string of letters and numbers is a memory address that indicates where the Dog object is stored in your computer’s memory\n",
    "\n",
""   ]
  },
  {
   "cell_type": "code",
   "execution_count": 2,
   "metadata": {
    "ExecuteTime": {
     "end_time": "2022-09-27T12:40:53.659347Z",
     "start_time": "2022-09-27T12:40:53.648247Z"
    }
   },
   "outputs": [
    {
     "data": {
      "text/plain": [
       "<__main__.Dog at 0x7f7cf7aef0d0>"
      ]
     },
     "execution_count": 2,
     "metadata": {},
     "output_type": "execute_result"
    }
   ],
   "source": [
    "Dog(\"Pingo\", 3)"
   ]
  },
  {
   "cell_type": "code",
   "execution_count": 3,
   "metadata": {
    "ExecuteTime": {
     "end_time": "2022-09-27T12:40:53.666417Z",
     "start_time": "2022-09-27T12:40:53.662620Z"
    }
   },
   "outputs": [
    {
     "data": {
      "text/plain": [
       "False"
      ]
     },
     "execution_count": 3,
     "metadata": {},
     "output_type": "execute_result"
    }
   ],
   "source": [
    "a = Dog(\"Pingo\", 3)\n",
    "b = Dog(\"Pingo\", 3)\n",
    "# This returns falso because the two object are different meaning stored at two difference place even if we\n",
    "# instantiated them with the same parameters.\n",
    "a == b"
   ]
  },
  {
   "cell_type": "code",
   "execution_count": 4,
   "metadata": {
    "ExecuteTime": {
     "end_time": "2022-09-27T12:40:53.670833Z",
     "start_time": "2022-09-27T12:40:53.668217Z"
    }
   },
   "outputs": [],
   "source": [
    "Pingo = Dog(\"Pingo\", 3)"
   ]
  },
  {
   "cell_type": "code",
   "execution_count": 5,
   "metadata": {
    "ExecuteTime": {
     "end_time": "2022-09-27T12:40:53.676858Z",
     "start_time": "2022-09-27T12:40:53.672945Z"
    },
    "scrolled": true
   },
   "outputs": [
    {
     "data": {
      "text/plain": [
       "['__class__',\n",
       " '__delattr__',\n",
       " '__dict__',\n",
       " '__dir__',\n",
       " '__doc__',\n",
       " '__eq__',\n",
       " '__format__',\n",
       " '__ge__',\n",
       " '__getattribute__',\n",
       " '__gt__',\n",
       " '__hash__',\n",
       " '__init__',\n",
       " '__init_subclass__',\n",
       " '__le__',\n",
       " '__lt__',\n",
       " '__module__',\n",
       " '__ne__',\n",
       " '__new__',\n",
       " '__reduce__',\n",
       " '__reduce_ex__',\n",
       " '__repr__',\n",
       " '__setattr__',\n",
       " '__sizeof__',\n",
       " '__str__',\n",
       " '__subclasshook__',\n",
       " '__weakref__',\n",
       " 'age',\n",
       " 'name',\n",
       " 'species']"
      ]
     },
     "execution_count": 5,
     "metadata": {},
     "output_type": "execute_result"
    }
   ],
   "source": [
    "dir(Pingo)"
   ]
  },
  {
   "cell_type": "code",
   "execution_count": 6,
   "metadata": {
    "ExecuteTime": {
     "end_time": "2022-09-27T12:40:53.681962Z",
     "start_time": "2022-09-27T12:40:53.678862Z"
    }
   },
   "outputs": [
    {
     "name": "stdout",
     "output_type": "stream",
     "text": [
      "Pingo\n",
      "3\n",
      "Canis familiaris\n"
     ]
    }
   ],
   "source": [
    "print(Pingo.name)\n",
    "print(Pingo.age)\n",
    "print(Pingo.species)"
   ]
  },
  {
   "cell_type": "markdown",
   "metadata": {},
   "source": [
    "\n",
    "- Although the attributes are guaranteed to exist, their values can be changed **dynamically**.\n",
    "\n",
""   ]
  },
  {
   "cell_type": "code",
   "execution_count": 7,
   "metadata": {
    "ExecuteTime": {
     "end_time": "2022-09-27T12:40:53.687029Z",
     "start_time": "2022-09-27T12:40:53.684163Z"
    }
   },
   "outputs": [
    {
     "name": "stdout",
     "output_type": "stream",
     "text": [
      "8\n"
     ]
    }
   ],
   "source": [
    "Pingo.age = 8\n",
    "print(Pingo.age)"
   ]
  },
  {
   "cell_type": "markdown",
   "metadata": {},
   "source": [
    "\n",
    "- You can decided what gets printed by defining a special instance method called `.__str__()`. \n",
    "- This message is called directly by the function `print`.\n",
    "- So instead of getting a strangle looking memory address we get a nice string.\n",
    "- **Dunder** methods because they begin and end with double underscores. There are many dunder methods that you can use to customize classes in Python. \n",
    "\n",
""   ]
  },
  {
   "cell_type": "code",
   "execution_count": 8,
   "metadata": {
    "ExecuteTime": {
     "end_time": "2022-09-27T12:40:53.692067Z",
     "start_time": "2022-09-27T12:40:53.689190Z"
    }
   },
   "outputs": [
    {
     "name": "stdout",
     "output_type": "stream",
     "text": [
      "<bound method Dog.__str__ of <__main__.Dog object at 0x7f7cf7aef2b0>>\n",
      "Pingo is 8 years old\n"
     ]
    }
   ],
   "source": [
    "# Look what happens if we do not use paranthesis\n",
    "print(Pingo.__str__)\n",
    "print(Pingo.__str__())"
   ]
  },
  {
   "cell_type": "code",
   "execution_count": 9,
   "metadata": {
    "ExecuteTime": {
     "end_time": "2022-09-27T12:40:53.701066Z",
     "start_time": "2022-09-27T12:40:53.697933Z"
    }
   },
   "outputs": [
    {
     "name": "stdout",
     "output_type": "stream",
     "text": [
      "Pingo is 8 years old\n"
     ]
    }
   ],
   "source": [
    "print(Pingo)"
   ]
  },
  {
   "cell_type": "markdown",
   "metadata": {},
   "source": [
    "# Inherit from other classes\n",
    "<hr style = \"border:2px solid black\" ></hr>"
   ]
  },
  {
   "cell_type": "markdown",
   "metadata": {},
   "source": [
    "\n",
    "- **Inheritance** is the process by which one class takes on the attributes and methods of another. \n",
    "- Newly formed classes are called **child classes**, and the classes that child classes are derived from are called **parent classes**. \n",
    "\n",
""   ]
  },
  {
   "cell_type": "code",
   "execution_count": 10,
   "metadata": {
    "ExecuteTime": {
     "end_time": "2022-09-27T12:40:53.706591Z",
     "start_time": "2022-09-27T12:40:53.703234Z"
    }
   },
   "outputs": [],
   "source": [
    "class Dog_v2:\n",
    "    species = \"Canis familiaris\"\n",
    "\n",
    "    def __init__(self, name, age):\n",
    "        self.name = name\n",
    "        self.age = age\n",
    "\n",
    "    def __str__(self):\n",
    "        return f\"{self.name} is {self.age} years old\"\n",
    "\n",
    "    def speak(self, sound):\n",
    "        return f\"{self.name} says {sound}\"\n"
   ]
  },
  {
   "cell_type": "markdown",
   "metadata": {},
   "source": [
    "\n",
    "- We are going to create a class for each dog type which inherits from Dog_v2 calss. \n",
    "- To create a child class, you create new class with its own name and then put the name of the parent class in parentheses. \n",
    "\n",
""   ]
  },
  {
   "cell_type": "code",
   "execution_count": 11,
   "metadata": {
    "ExecuteTime": {
     "end_time": "2022-09-27T12:40:53.712765Z",
     "start_time": "2022-09-27T12:40:53.709765Z"
    }
   },
   "outputs": [],
   "source": [
    "class JackRussellTerrier(Dog_v2):\n",
    "    pass\n",
    "\n",
    "class Dachshund(Dog_v2):\n",
    "    pass\n",
    "\n",
    "class Bulldog(Dog_v2):\n",
    "    pass\n"
   ]
  },
  {
   "cell_type": "code",
   "execution_count": 12,
   "metadata": {
    "ExecuteTime": {
     "end_time": "2022-09-27T12:40:53.718497Z",
     "start_time": "2022-09-27T12:40:53.715237Z"
    }
   },
   "outputs": [],
   "source": [
    "miles = JackRussellTerrier(\"Miles\", 4)\n",
    "buddy = Dachshund(\"Buddy\", 9)\n",
    "jack = Bulldog(\"Jack\", 3)\n",
    "jim = Bulldog(\"Jim\", 5)"
   ]
  },
  {
   "cell_type": "code",
   "execution_count": 13,
   "metadata": {
    "ExecuteTime": {
     "end_time": "2022-09-27T12:40:53.723501Z",
     "start_time": "2022-09-27T12:40:53.720404Z"
    }
   },
   "outputs": [
    {
     "data": {
      "text/plain": [
       "'Jim says Woof'"
      ]
     },
     "execution_count": 13,
     "metadata": {},
     "output_type": "execute_result"
    }
   ],
   "source": [
    "jim.speak(\"Woof\")"
   ]
  },
  {
   "cell_type": "markdown",
   "metadata": {},
   "source": [
    "\n",
    "- To determine which class a given object belongs to, you can use the built-in `type()`\n",
    "\n",
""   ]
  },
  {
   "cell_type": "code",
   "execution_count": 14,
   "metadata": {
    "ExecuteTime": {
     "end_time": "2022-09-27T12:40:53.729048Z",
     "start_time": "2022-09-27T12:40:53.725529Z"
    }
   },
   "outputs": [
    {
     "data": {
      "text/plain": [
       "__main__.Bulldog"
      ]
     },
     "execution_count": 14,
     "metadata": {},
     "output_type": "execute_result"
    }
   ],
   "source": [
    "type(jim)"
   ]
  },
  {
   "cell_type": "markdown",
   "metadata": {},
   "source": [
    "\n",
    "- What if you want to determine if jim is an instance of the Dog_v2 class? You can do this with the built-in isinstance()?\n",
    "- `isinstance()` takes two arguments, an object and a class. \n",
    "\n",
""   ]
  },
  {
   "cell_type": "code",
   "execution_count": 15,
   "metadata": {
    "ExecuteTime": {
     "end_time": "2022-09-27T12:40:53.735226Z",
     "start_time": "2022-09-27T12:40:53.730951Z"
    }
   },
   "outputs": [
    {
     "data": {
      "text/plain": [
       "True"
      ]
     },
     "execution_count": 15,
     "metadata": {},
     "output_type": "execute_result"
    }
   ],
   "source": [
    "isinstance(jim, Dog_v2)"
   ]
  },
  {
   "cell_type": "code",
   "execution_count": 16,
   "metadata": {
    "ExecuteTime": {
     "end_time": "2022-09-27T12:40:53.741071Z",
     "start_time": "2022-09-27T12:40:53.737488Z"
    }
   },
   "outputs": [
    {
     "data": {
      "text/plain": [
       "True"
      ]
     },
     "execution_count": 16,
     "metadata": {},
     "output_type": "execute_result"
    }
   ],
   "source": [
    "isinstance(jim, Bulldog)"
   ]
  },
  {
   "cell_type": "markdown",
   "metadata": {},
   "source": [
    "\n",
    "- To override a method defined on the parent class, you define a method with the same name on the child class.\n",
    "\n",
""   ]
  },
  {
   "cell_type": "code",
   "execution_count": 17,
   "metadata": {
    "ExecuteTime": {
     "end_time": "2022-09-27T12:40:53.747055Z",
     "start_time": "2022-09-27T12:40:53.743222Z"
    }
   },
   "outputs": [
    {
     "data": {
      "text/plain": [
       "'Jim says Woof'"
      ]
     },
     "execution_count": 17,
     "metadata": {},
     "output_type": "execute_result"
    }
   ],
   "source": [
    "# Before we have\n",
    "jim.speak(\"Woof\")"
   ]
  },
  {
   "cell_type": "code",
   "execution_count": 18,
   "metadata": {
    "ExecuteTime": {
     "end_time": "2022-09-27T12:40:53.752075Z",
     "start_time": "2022-09-27T12:40:53.749266Z"
    }
   },
   "outputs": [],
   "source": [
    "class Bulldog(Dog_v2):\n",
    "    def speak(self, sound=\"Arf\"):\n",
    "        return f\"{self.name} says {sound}\"\n"
   ]
  },
  {
   "cell_type": "code",
   "execution_count": 19,
   "metadata": {
    "ExecuteTime": {
     "end_time": "2022-09-27T12:40:53.757233Z",
     "start_time": "2022-09-27T12:40:53.753675Z"
    }
   },
   "outputs": [
    {
     "data": {
      "text/plain": [
       "'Jim says Arf'"
      ]
     },
     "execution_count": 19,
     "metadata": {},
     "output_type": "execute_result"
    }
   ],
   "source": [
    "# Before we have\n",
    "jim = Bulldog(\"Jim\", 5)\n",
    "jim.speak()"
   ]
  },
  {
   "cell_type": "markdown",
   "metadata": {},
   "source": [
    "# References\n",
    "<hr style = \"border:2px solid black\" ></hr>"
   ]
  },
  {
   "cell_type": "markdown",
   "metadata": {},
   "source": [
    "\n",
    "- https://realpython.com/python3-object-oriented-programming/\n",
    "- https://github.com/yhilpisch/py4fi2nd/blob/master/code/ch06/06_object_orientation.ipynb\n",
    "- Hilpisch, Yves. Python for finance: mastering data-driven finance. O'Reilly Media, 2018.\n",
    "- [Object-Oriented Programming in Python](https://python-textbok.readthedocs.io/en/1.0/)\n",
    "\n",
""   ]
  },
  {
   "cell_type": "markdown",
   "metadata": {},
   "source": [
    "# Requirements\n",
    "<hr style = \"border:2px solid black\" ></hr>"
   ]
  },
  {
   "cell_type": "code",
   "execution_count": 20,
   "metadata": {
    "ExecuteTime": {
     "end_time": "2022-09-27T12:40:53.788112Z",
     "start_time": "2022-09-27T12:40:53.759358Z"
    }
   },
   "outputs": [
    {
     "name": "stdout",
     "output_type": "stream",
     "text": [
      "Python implementation: CPython\n",
      "Python version       : 3.9.7\n",
      "IPython version      : 7.29.0\n",
      "\n",
      "autopep8: 1.6.0\n",
      "json    : 2.0.9\n",
      "\n"
     ]
    }
   ],
   "source": [
    "%load_ext watermark\n",
    "%watermark -v -iv"
   ]
  }
 ],
 "metadata": {
  "kernelspec": {
   "display_name": "trainingAI",
   "language": "python",
   "name": "trainingai"
  },
  "language_info": {
   "codemirror_mode": {
    "name": "ipython",
    "version": 3
   },
   "file_extension": ".py",
   "mimetype": "text/x-python",
   "name": "python",
   "nbconvert_exporter": "python",
   "pygments_lexer": "ipython3",
   "version": "3.9.7"
  },
  "toc": {
   "base_numbering": 1,
   "nav_menu": {},
   "number_sections": true,
   "sideBar": true,
   "skip_h1_title": false,
   "title_cell": "Table of Contents",
   "title_sidebar": "Contents",
   "toc_cell": true,
   "toc_position": {},
   "toc_section_display": true,
   "toc_window_display": true
  },
  "varInspector": {
   "cols": {
    "lenName": 16,
    "lenType": 16,
    "lenVar": 40
   },
   "kernels_config": {
    "python": {
     "delete_cmd_postfix": "",
     "delete_cmd_prefix": "del ",
     "library": "var_list.py",
     "varRefreshCmd": "print(var_dic_list())"
    },
    "r": {
     "delete_cmd_postfix": ") ",
     "delete_cmd_prefix": "rm(",
     "library": "var_list.r",
     "varRefreshCmd": "cat(var_dic_list()) "
    }
   },
   "types_to_exclude": [
    "module",
    "function",
    "builtin_function_or_method",
    "instance",
    "_Feature"
   ],
   "window_display": false
  }
 },
 "nbformat": 4,
 "nbformat_minor": 2
}
