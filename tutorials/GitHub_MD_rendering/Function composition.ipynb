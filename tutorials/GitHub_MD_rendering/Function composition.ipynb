{
 "cells": [
  {
   "cell_type": "markdown",
   "metadata": {
    "toc": true
   },
   "source": [
    "<h1>Table of Contents<span class=\"tocSkip\"></span></h1>\n",
""   ]
  },
  {
   "cell_type": "markdown",
   "metadata": {},
   "source": [
    "# Introduction\n",
    "<hr style = \"border:2px solid black\" ></hr>"
   ]
  },
  {
   "cell_type": "markdown",
   "metadata": {},
   "source": [
    "\n",
    "**What?** Function composition\n",
    "\n",
""   ]
  },
  {
   "cell_type": "markdown",
   "metadata": {},
   "source": [
    "# What is function composition?\n",
    "<hr style = \"border:2px solid black\" ></hr>"
   ]
  },
  {
   "cell_type": "markdown",
   "metadata": {},
   "source": [
    "\n",
    "- Function composition is the way of combining two or more functions in such a way that the output of one function becomes the input of the second function and so on. \n",
    "- For example, let there be two functions `F` and `G` and their composition can be represented as `F(G(x))` where `x` is the argument and output of `G(x)` function will become the input of `F`.\n",
""   ]
  },
  {
   "cell_type": "markdown",
   "metadata": {},
   "source": [
    "# Examples #1 - naive implementation\n",
    "<hr style = \"border:2px solid black\" ></hr>"
   ]
  },
  {
   "cell_type": "code",
   "execution_count": 2,
   "metadata": {
    "ExecuteTime": {
     "end_time": "2022-11-19T12:22:22.056975Z",
     "start_time": "2022-11-19T12:22:22.053425Z"
    }
   },
   "outputs": [
    {
     "name": "stdout",
     "output_type": "stream",
     "text": [
      "Adding 2 to 5 and multiplying the result with 2:  14\n"
     ]
    }
   ],
   "source": [
    "def add_two(x):\n",
    "    return x + 2\n",
    "\n",
    "\n",
    "def multiply_by_two(x):\n",
    "    return x * 2\n",
    "\n",
    "\n",
    "print(\"Adding 2 to 5 and multiplying the result with 2: \",\n",
    "      multiply_by_two(add_two(5)))"
   ]
  },
  {
   "cell_type": "markdown",
   "metadata": {},
   "source": [
    "# Example #2 - `with lambda` function\n",
    "<hr style = \"border:2px solid black\" ></hr>"
   ]
  },
  {
   "cell_type": "markdown",
   "metadata": {},
   "source": [
    "\n",
    "- There is a more python (and hence elegant) solution to this which makes use of `lambda` function.\n",
    "- `lambda` returns a function object which can be assigned to any variable.\n",
    "- `lambda` functions are passed as parameters to functions that expect function object as parameters such as `map`, `reduce`, and `filter` functions. \n",
    "- Lambda functions are single-expression  functions that **are not necessarily** bound to a name (they can be anonymous). \n",
    "- Lambda functions can't use regular Python statements and always include an implicit `return` statement.\n",
    "\n",
""   ]
  },
  {
   "cell_type": "code",
   "execution_count": 3,
   "metadata": {
    "ExecuteTime": {
     "end_time": "2022-11-19T12:24:02.297948Z",
     "start_time": "2022-11-19T12:24:02.293528Z"
    }
   },
   "outputs": [
    {
     "name": "stdout",
     "output_type": "stream",
     "text": [
      "Adding 2 to 5 and multiplying the result with 2:  14\n"
     ]
    }
   ],
   "source": [
    "def composite_function(f, g):\n",
    "    return lambda x: f(g(x))\n",
    "\n",
    "\n",
    "# Composite function returns\n",
    "# a lambda function. Here add_multiply\n",
    "# will store lambda x : multiply(add(x))\n",
    "add_multiply = composite_function(multiply_by_two, add_two)\n",
    "\n",
    "print(\"Adding 2 to 5 and multiplying the result with 2: \", add_multiply(5))"
   ]
  },
  {
   "cell_type": "markdown",
   "metadata": {},
   "source": [
    "# Example #3 - adding any number of functions\n",
    "<hr style = \"border:2px solid black\" ></hr>"
   ]
  },
  {
   "cell_type": "code",
   "execution_count": 5,
   "metadata": {
    "ExecuteTime": {
     "end_time": "2022-11-19T12:33:02.615593Z",
     "start_time": "2022-11-19T12:33:02.612600Z"
    }
   },
   "outputs": [
    {
     "name": "stdout",
     "output_type": "stream",
     "text": [
      "Adding 2 to 5, then subtracting 1 and multiplying the result with 2:  12\n"
     ]
    }
   ],
   "source": [
    "def subtract_one(x):\n",
    "    return x - 1\n",
    "\n",
    "\n",
    "add_subtract_multiply = composite_function(\n",
    "    composite_function(multiply_by_two, subtract_one), add_two)\n",
    "\n",
    "\n",
    "print(\"Adding 2 to 5, then subtracting 1 and multiplying the result with 2: \",\n",
    "      add_subtract_multiply(5))"
   ]
  },
  {
   "cell_type": "markdown",
   "metadata": {},
   "source": [
    "# Example #4 - with `reduce` function\n",
    "<hr style = \"border:2px solid black\" ></hr>"
   ]
  },
  {
   "cell_type": "markdown",
   "metadata": {},
   "source": [
    "\n",
    "- `reduce` is a tool that is typically associated with functional programming, which is a programming paradigm. \n",
    "\n",
    "- In a short sentence, reduce takes an iterable and a binary function (a function that takes two arguments), and then uses that binary function to boil the iterable down to a single value.\n",
    "\n",
    "- A concrete example is the function `sum` which is a reduction. \n",
    "\n",
    "- Keep in mind that part of what a reduction does is taking an iterable and reducing it to a single value. \n",
    "    \n",
""   ]
  },
  {
   "cell_type": "code",
   "execution_count": 8,
   "metadata": {
    "ExecuteTime": {
     "end_time": "2022-11-19T12:39:43.839904Z",
     "start_time": "2022-11-19T12:39:43.836138Z"
    }
   },
   "outputs": [
    {
     "name": "stdout",
     "output_type": "stream",
     "text": [
      "Adding 2 to 5, then subtracting 1 and multiplying the result with 2:  12\n"
     ]
    }
   ],
   "source": [
    "# importing reduce() from functools\n",
    "from functools import reduce\n",
    "\n",
    "\n",
    "def composite_function(*func):\n",
    "\n",
    "    def compose(f, g):\n",
    "        return lambda x: f(g(x))\n",
    "\n",
    "    return reduce(compose, func, lambda x: x)\n",
    "\n",
    "\n",
    "add_subtract_multiply = composite_function(multiply_by_two,\n",
    "                                           subtract_one,\n",
    "                                           add_two)\n",
    "\n",
    "print(\"Adding 2 to 5, then subtracting 1 and multiplying the result with 2: \",\n",
    "      add_subtract_multiply(5))"
   ]
  },
  {
   "cell_type": "code",
   "execution_count": null,
   "metadata": {},
   "outputs": [],
   "source": []
  },
  {
   "cell_type": "markdown",
   "metadata": {},
   "source": [
    "# References\n",
    "<hr style = \"border:2px solid black\" ></hr>"
   ]
  },
  {
   "cell_type": "markdown",
   "metadata": {},
   "source": [
    "\n",
    "- https://www.geeksforgeeks.org/function-composition-in-python/\n",
    "    \n",
""   ]
  },
  {
   "cell_type": "code",
   "execution_count": null,
   "metadata": {},
   "outputs": [],
   "source": []
  }
 ],
 "metadata": {
  "kernelspec": {
   "display_name": "Python 3 (ipykernel)",
   "language": "python",
   "name": "python3"
  },
  "language_info": {
   "codemirror_mode": {
    "name": "ipython",
    "version": 3
   },
   "file_extension": ".py",
   "mimetype": "text/x-python",
   "name": "python",
   "nbconvert_exporter": "python",
   "pygments_lexer": "ipython3",
   "version": "3.9.7"
  },
  "toc": {
   "base_numbering": 1,
   "nav_menu": {
    "height": "169px",
    "width": "252px"
   },
   "number_sections": true,
   "sideBar": true,
   "skip_h1_title": false,
   "title_cell": "Table of Contents",
   "title_sidebar": "Contents",
   "toc_cell": true,
   "toc_position": {
    "height": "calc(100% - 180px)",
    "left": "10px",
    "top": "150px",
    "width": "253px"
   },
   "toc_section_display": "block",
   "toc_window_display": true
  },
  "varInspector": {
   "cols": {
    "lenName": 16,
    "lenType": 16,
    "lenVar": 40
   },
   "kernels_config": {
    "python": {
     "delete_cmd_postfix": "",
     "delete_cmd_prefix": "del ",
     "library": "var_list.py",
     "varRefreshCmd": "print(var_dic_list())"
    },
    "r": {
     "delete_cmd_postfix": ") ",
     "delete_cmd_prefix": "rm(",
     "library": "var_list.r",
     "varRefreshCmd": "cat(var_dic_list()) "
    }
   },
   "types_to_exclude": [
    "module",
    "function",
    "builtin_function_or_method",
    "instance",
    "_Feature"
   ],
   "window_display": false
  }
 },
 "nbformat": 4,
 "nbformat_minor": 1
}
