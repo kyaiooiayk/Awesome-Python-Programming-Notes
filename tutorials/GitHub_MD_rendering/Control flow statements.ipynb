{
 "cells": [
  {
   "cell_type": "markdown",
   "metadata": {
    "toc": true
   },
   "source": [
    "<h1>Table of Contents<span class=\"tocSkip\"></span></h1>\n",
""   ]
  },
  {
   "cell_type": "markdown",
   "metadata": {},
   "source": [
    "# Introduction\n",
    "<hr style=\"border:2px solid black\"> </hr>"
   ]
  },
  {
   "cell_type": "markdown",
   "metadata": {},
   "source": [
    "\n",
    "**What?** Control flow statements\n",
    "\n",
""   ]
  },
  {
   "cell_type": "markdown",
   "metadata": {},
   "source": [
    "# `if-elif-else`\n",
    "<hr style=\"border:2px solid black\"> </hr>"
   ]
  },
  {
   "cell_type": "markdown",
   "metadata": {},
   "source": [
    "\n",
    "- `if`\n",
    "- `else`\n",
    "\n",
""   ]
  },
  {
   "cell_type": "code",
   "execution_count": 1,
   "metadata": {
    "ExecuteTime": {
     "end_time": "2022-04-04T18:39:59.711822Z",
     "start_time": "2022-04-04T18:39:59.707513Z"
    }
   },
   "outputs": [
    {
     "name": "stdout",
     "output_type": "stream",
     "text": [
      "-15 is negative\n"
     ]
    }
   ],
   "source": [
    "x = -15\n",
    "\n",
    "if x == 0:\n",
    "    print(x, \"is zero\")\n",
    "elif x > 0:\n",
    "    print(x, \"is positive\")\n",
    "elif x < 0:\n",
    "    print(x, \"is negative\")\n",
    "else:\n",
    "    print(x, \"is unlike anything I've ever seen...\")"
   ]
  },
  {
   "cell_type": "markdown",
   "metadata": {},
   "source": [
    "# `for` loops\n",
    "<hr style=\"border:2px solid black\"> </hr>"
   ]
  },
  {
   "cell_type": "markdown",
   "metadata": {},
   "source": [
    "\n",
    "- `for` loops\n",
    "- Notice the simplicity of the for loop: we specify the variable we want to use, the sequence we want to loop over, and use the `in` operator to link them together in an intuitive and readable way. More precisely, the object to the right of the `in` can be any Python **iterator**. \n",
    "\n",
""   ]
  },
  {
   "cell_type": "code",
   "execution_count": 2,
   "metadata": {
    "ExecuteTime": {
     "end_time": "2022-04-04T18:39:59.717022Z",
     "start_time": "2022-04-04T18:39:59.714100Z"
    }
   },
   "outputs": [
    {
     "name": "stdout",
     "output_type": "stream",
     "text": [
      "2 3 5 7 "
     ]
    }
   ],
   "source": [
    "for N in [2, 3, 5, 7]:\n",
    "    print(N, end=' ') # print all on same line"
   ]
  },
  {
   "cell_type": "markdown",
   "metadata": {},
   "source": [
    "# `while` loops\n",
    "<hr style=\"border:2px solid black\"> </hr>"
   ]
  },
  {
   "cell_type": "markdown",
   "metadata": {},
   "source": [
    "\n",
    "- `while` loop iterates until some condition is met.\n",
    "\n",
""   ]
  },
  {
   "cell_type": "code",
   "execution_count": 3,
   "metadata": {
    "ExecuteTime": {
     "end_time": "2022-04-04T18:39:59.724534Z",
     "start_time": "2022-04-04T18:39:59.721064Z"
    }
   },
   "outputs": [
    {
     "name": "stdout",
     "output_type": "stream",
     "text": [
      "0 1 2 3 4 5 6 7 8 9 "
     ]
    }
   ],
   "source": [
    "i = 0\n",
    "while i < 10:\n",
    "    print(i, end=' ')\n",
    "    i += 1"
   ]
  },
  {
   "cell_type": "markdown",
   "metadata": {},
   "source": [
    "# `Continue`\n",
    "<hr style=\"border:2px solid black\"> </hr>"
   ]
  },
  {
   "cell_type": "markdown",
   "metadata": {},
   "source": [
    "\n",
    "- The `continue` statement continues with the next iteration of the loop\n",
    "\n",
""   ]
  },
  {
   "cell_type": "code",
   "execution_count": 4,
   "metadata": {
    "ExecuteTime": {
     "end_time": "2022-04-04T18:39:59.731166Z",
     "start_time": "2022-04-04T18:39:59.726819Z"
    }
   },
   "outputs": [
    {
     "name": "stdout",
     "output_type": "stream",
     "text": [
      "Found an even number 2\n",
      "Not even number 3\n",
      "Found an even number 4\n",
      "Not even number 5\n",
      "Found an even number 6\n",
      "Not even number 7\n",
      "Found an even number 8\n",
      "Not even number 9\n"
     ]
    }
   ],
   "source": [
    "\"\"\"\n",
    "Find odd number given a range\n",
    "An odd number is a number divisable by 2\n",
    "\"\"\"\n",
    "\n",
    "for num in range(2,10):\n",
    "    if num % 2 == 0:\n",
    "        print(\"Found an even number\", num)\n",
    "        continue\n",
    "    print(\"Not even number\", num)"
   ]
  },
  {
   "cell_type": "code",
   "execution_count": 5,
   "metadata": {
    "ExecuteTime": {
     "end_time": "2022-04-04T18:39:59.738153Z",
     "start_time": "2022-04-04T18:39:59.733919Z"
    }
   },
   "outputs": [
    {
     "name": "stdout",
     "output_type": "stream",
     "text": [
      "Found an even number 2\n",
      "Not even number 3\n",
      "Found an even number 4\n",
      "Not even number 5\n",
      "Found an even number 6\n",
      "Not even number 7\n",
      "Found an even number 8\n",
      "Not even number 9\n"
     ]
    }
   ],
   "source": [
    "\"\"\"\n",
    "You can still use if and else but continue seems to be more convenient\n",
    "\"\"\"\n",
    "for n in range(2,10):\n",
    "    # if the remainder of n / 2 is 0, skip the rest of the loop\n",
    "    if n % 2 == 0:\n",
    "        print(\"Found an even number\", n)        \n",
    "    else:        \n",
    "        print(\"Not even number\", n)"
   ]
  },
  {
   "cell_type": "code",
   "execution_count": 6,
   "metadata": {
    "ExecuteTime": {
     "end_time": "2022-04-04T18:39:59.745495Z",
     "start_time": "2022-04-04T18:39:59.740335Z"
    }
   },
   "outputs": [
    {
     "name": "stdout",
     "output_type": "stream",
     "text": [
      "Found an even number 2\n",
      "Not even number 2\n",
      "Not even number 3\n",
      "Found an even number 4\n",
      "Not even number 4\n",
      "Not even number 5\n",
      "Found an even number 6\n",
      "Not even number 6\n",
      "Not even number 7\n",
      "Found an even number 8\n",
      "Not even number 8\n",
      "Not even number 9\n"
     ]
    }
   ],
   "source": [
    "\"\"\"\n",
    "This is what happens if you do not use continue\n",
    "\"\"\"\n",
    "for num in range(2,10):\n",
    "    if num % 2 == 0:\n",
    "        print(\"Found an even number\", num)\n",
    "        #continue\n",
    "    print(\"Not even number\", num)"
   ]
  },
  {
   "cell_type": "markdown",
   "metadata": {},
   "source": [
    "# `break` and `continue`\n",
    "<hr style=\"border:2px solid black\"> </hr>"
   ]
  },
  {
   "cell_type": "markdown",
   "metadata": {},
   "source": [
    "\n",
    "- There are used to **fine-tune** how they workflow is controlled:\n",
    "\n",
    "    - The `break` statement breaks-out of the loop entirely\n",
    "    - The `continue` statement **skips the remainder of the current loop**, and goes to the next iteration\n",
    "\n",
""   ]
  },
  {
   "cell_type": "code",
   "execution_count": 7,
   "metadata": {
    "ExecuteTime": {
     "end_time": "2022-04-04T18:39:59.752554Z",
     "start_time": "2022-04-04T18:39:59.747957Z"
    }
   },
   "outputs": [
    {
     "name": "stdout",
     "output_type": "stream",
     "text": [
      "[1, 1, 2, 3, 5, 8, 13, 21, 34, 55, 89]\n"
     ]
    }
   ],
   "source": [
    "\"\"\"\n",
    "This loop will fill a list with all Fibonacci numbers up to a certain value.\n",
    "Notice that we use a while True loop, which will loop forever unless we have a break statement!\n",
    "\"\"\"\n",
    "a, b = 0, 1\n",
    "amax = 100\n",
    "L = []\n",
    "\n",
    "while True:\n",
    "    (a, b) = (b, a + b)\n",
    "    if a > amax:\n",
    "        break\n",
    "    L.append(a)\n",
    "\n",
    "print(L)"
   ]
  },
  {
   "cell_type": "markdown",
   "metadata": {},
   "source": [
    "# Loops with an else Block not if-else\n",
    "<hr style=\"border:2px solid black\"> </hr>"
   ]
  },
  {
   "cell_type": "markdown",
   "metadata": {},
   "source": [
    "\n",
    "- One rarely used pattern available in Python is the ``else`` statement as part of a ``for`` or ``while`` loop.\n",
    "\n",
    "- We discussed the ``else`` block earlier: it executes if all the ``if`` and ``elif`` statements evaluate to ``False``.\n",
    "- The loop-``else`` is perhaps one of the more confusingly-named statements in Python; I prefer to think of it as a ``nobreak`` statement: that is, the ``else`` block is executed only if the loop ends naturally, without encountering a ``break`` statement.\n",
    "\n",
""   ]
  },
  {
   "cell_type": "code",
   "execution_count": 8,
   "metadata": {
    "ExecuteTime": {
     "end_time": "2022-04-04T18:39:59.759442Z",
     "start_time": "2022-04-04T18:39:59.755268Z"
    }
   },
   "outputs": [
    {
     "name": "stdout",
     "output_type": "stream",
     "text": [
      "[2, 3, 5, 7, 11, 13, 17, 19, 23, 29]\n"
     ]
    }
   ],
   "source": [
    "\"\"\"\n",
    "Find all the prime number given a max number.\n",
    "\"\"\"\n",
    "L = []\n",
    "nmax = 30\n",
    "\n",
    "for n in range(2, nmax):\n",
    "    for factor in L:\n",
    "        if n % factor == 0:\n",
    "            break            \n",
    "    else: \n",
    "        \"\"\"\n",
    "        The else statement only executes if none of the factors \n",
    "        divide the given number. The else statement works similarly\n",
    "        with the while loop.\n",
    "        \"\"\"\n",
    "        L.append(n)\n",
    "print(L)"
   ]
  },
  {
   "cell_type": "code",
   "execution_count": 9,
   "metadata": {
    "ExecuteTime": {
     "end_time": "2022-04-04T18:39:59.772440Z",
     "start_time": "2022-04-04T18:39:59.766404Z"
    },
    "scrolled": false
   },
   "outputs": [
    {
     "name": "stdout",
     "output_type": "stream",
     "text": [
      "  2 is a prime number\n",
      "  3 is a prime number\n",
      "4 equals 2 *0 2.0\n",
      "  5 is a prime number\n",
      "6 equals 2 *0 3.0\n",
      "  7 is a prime number\n",
      "8 equals 2 *0 4.0\n",
      "9 equals 3 *0 3.0\n",
      "10 equals 2 *0 5.0\n",
      "  11 is a prime number\n",
      "12 equals 2 *0 6.0\n",
      "  13 is a prime number\n",
      "14 equals 2 *0 7.0\n",
      "15 equals 3 *0 5.0\n",
      "16 equals 2 *0 8.0\n",
      "  17 is a prime number\n",
      "18 equals 2 *0 9.0\n",
      "  19 is a prime number\n",
      "20 equals 2 *0 10.0\n",
      "21 equals 3 *0 7.0\n",
      "22 equals 2 *0 11.0\n",
      "  23 is a prime number\n",
      "24 equals 2 *0 12.0\n",
      "25 equals 5 *0 5.0\n",
      "26 equals 2 *0 13.0\n",
      "27 equals 3 *0 9.0\n",
      "28 equals 2 *0 14.0\n",
      "  29 is a prime number\n"
     ]
    }
   ],
   "source": [
    "# A slightly different version of it is\n",
    "for n in range(2, nmax):\n",
    "    for x in range(2, n):\n",
    "        if n % x == 0:\n",
    "            print(n, \"equals\", x, \"*0\", n/x)\n",
    "            break\n",
    "    else:\n",
    "        \"\"\"\n",
    "        Loop falls through withouth finding a factor\n",
    "        Essentialy if the break is not hit by the end of the main loop\n",
    "        \"\"\"\n",
    "        print(\" \", n, \"is a prime number\")\n"
   ]
  },
  {
   "cell_type": "markdown",
   "metadata": {},
   "source": [
    "# References\n",
    "<hr style=\"border:2px solid black\"> </hr>"
   ]
  },
  {
   "cell_type": "markdown",
   "metadata": {},
   "source": [
    "\n",
    "- [Whirlwind Tour of Python](http://www.oreilly.com/programming/free/a-whirlwind-tour-of-python.csp)\n",
    "\n",
""   ]
  }
 ],
 "metadata": {
  "anaconda-cloud": {},
  "kernelspec": {
   "display_name": "Python 3 (ipykernel)",
   "language": "python",
   "name": "python3"
  },
  "language_info": {
   "codemirror_mode": {
    "name": "ipython",
    "version": 3
   },
   "file_extension": ".py",
   "mimetype": "text/x-python",
   "name": "python",
   "nbconvert_exporter": "python",
   "pygments_lexer": "ipython3",
   "version": "3.9.7"
  },
  "toc": {
   "base_numbering": 1,
   "nav_menu": {},
   "number_sections": true,
   "sideBar": true,
   "skip_h1_title": false,
   "title_cell": "Table of Contents",
   "title_sidebar": "Contents",
   "toc_cell": true,
   "toc_position": {
    "height": "calc(100% - 180px)",
    "left": "10px",
    "top": "150px",
    "width": "244.333px"
   },
   "toc_section_display": true,
   "toc_window_display": true
  },
  "varInspector": {
   "cols": {
    "lenName": 16,
    "lenType": 16,
    "lenVar": 40
   },
   "kernels_config": {
    "python": {
     "delete_cmd_postfix": "",
     "delete_cmd_prefix": "del ",
     "library": "var_list.py",
     "varRefreshCmd": "print(var_dic_list())"
    },
    "r": {
     "delete_cmd_postfix": ") ",
     "delete_cmd_prefix": "rm(",
     "library": "var_list.r",
     "varRefreshCmd": "cat(var_dic_list()) "
    }
   },
   "types_to_exclude": [
    "module",
    "function",
    "builtin_function_or_method",
    "instance",
    "_Feature"
   ],
   "window_display": false
  }
 },
 "nbformat": 4,
 "nbformat_minor": 1
}
