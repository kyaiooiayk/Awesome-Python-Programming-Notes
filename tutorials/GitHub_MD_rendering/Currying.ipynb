{
 "cells": [
  {
   "cell_type": "markdown",
   "metadata": {
    "toc": true
   },
   "source": [
    "<h1>Table of Contents<span class=\"tocSkip\"></span></h1>\n",
""   ]
  },
  {
   "cell_type": "markdown",
   "metadata": {},
   "source": [
    "# Introduction\n",
    "<hr style = \"border:2px solid black\" ></hr>"
   ]
  },
  {
   "cell_type": "markdown",
   "metadata": {},
   "source": [
    "\n",
    "**What?** Currying\n",
    "\n",
""   ]
  },
  {
   "cell_type": "markdown",
   "metadata": {},
   "source": [
    "# What is currying?\n",
    "<hr style = \"border:2px solid black\" ></hr>"
   ]
  },
  {
   "cell_type": "markdown",
   "metadata": {},
   "source": [
    "\n",
    "- In mathematics and computer science, currying is the technique of breaking down the evaluation of a function that takes multiple arguments into evaluating a sequence of single-argument functions. \n",
    "- Currying is also used in theoretical computer science, because it is often easier to transform multiple argument models into single argument models.\n",
    "\n",
""   ]
  },
  {
   "cell_type": "markdown",
   "metadata": {},
   "source": [
    "# Composition of functions\n",
    "<hr style = \"border:2px solid black\" ></hr>"
   ]
  },
  {
   "cell_type": "markdown",
   "metadata": {},
   "source": [
    "\n",
    "- The composition of two functions is a chaining process in which the output of the inner function becomes the input of the outer function.\n",
    "- We will use our compose function in the next example. Let's assume, we have a thermometer, which is not working accurately. The correct temperature can be calculated by applying the function readjust to the temperature values. Let us further assume that we have to convert our temperature values from Celsius to Fahrenheit. We can do this by applying compose to both functions:\n",
    "- The composition of two functions **is generally not commutative**, i.e. `compose(celsius2fahrenheit, readjust)` is different from `compose(readjust, celsius2fahrenheit)`.\n",
""   ]
  },
  {
   "cell_type": "code",
   "execution_count": 1,
   "metadata": {
    "ExecuteTime": {
     "end_time": "2022-10-14T15:51:12.728620Z",
     "start_time": "2022-10-14T15:51:12.725348Z"
    }
   },
   "outputs": [],
   "source": [
    "def compose(g, f):\n",
    "    def h(x):\n",
    "        return g(f(x))\n",
    "    return h"
   ]
  },
  {
   "cell_type": "code",
   "execution_count": 2,
   "metadata": {
    "ExecuteTime": {
     "end_time": "2022-10-14T15:51:20.384879Z",
     "start_time": "2022-10-14T15:51:20.381407Z"
    }
   },
   "outputs": [
    {
     "name": "stdout",
     "output_type": "stream",
     "text": [
      "44.5 50.0\n"
     ]
    }
   ],
   "source": [
    "def celsius2fahrenheit(t):\n",
    "    return 1.8 * t + 32\n",
    "def readjust(t):\n",
    "    return 0.9 * t - 0.5\n",
    "convert = compose(readjust, celsius2fahrenheit)\n",
    "print(convert(10), celsius2fahrenheit(10))"
   ]
  },
  {
   "cell_type": "code",
   "execution_count": 3,
   "metadata": {
    "ExecuteTime": {
     "end_time": "2022-10-14T15:51:33.758053Z",
     "start_time": "2022-10-14T15:51:33.754551Z"
    }
   },
   "outputs": [
    {
     "name": "stdout",
     "output_type": "stream",
     "text": [
      "47.3 50.0\n"
     ]
    }
   ],
   "source": [
    "# Incorrect use\n",
    "convert2 = compose(celsius2fahrenheit, readjust)\n",
    "print(convert2(10), celsius2fahrenheit(10))"
   ]
  },
  {
   "cell_type": "markdown",
   "metadata": {},
   "source": [
    "# Compose with Arbitrary Arguments\n",
    "<hr style = \"border:2px solid black\" ></hr>"
   ]
  },
  {
   "cell_type": "code",
   "execution_count": 4,
   "metadata": {
    "ExecuteTime": {
     "end_time": "2022-10-14T15:55:14.928615Z",
     "start_time": "2022-10-14T15:55:14.925418Z"
    }
   },
   "outputs": [],
   "source": [
    "def compose(g, f):\n",
    "    def h(*args, **kwargs):\n",
    "        return g(f(*args, **kwargs))\n",
    "    return h"
   ]
  },
  {
   "cell_type": "code",
   "execution_count": 5,
   "metadata": {
    "ExecuteTime": {
     "end_time": "2022-10-14T15:55:36.041747Z",
     "start_time": "2022-10-14T15:55:24.848267Z"
    }
   },
   "outputs": [
    {
     "name": "stdout",
     "output_type": "stream",
     "text": [
      "weight (kg) 33\n",
      "height (m) 1\n",
      "Obese Class I (Moderately obese)\n",
      "Another run? (y/n)n\n"
     ]
    }
   ],
   "source": [
    "def BMI(weight, height):\n",
    "    return weight / height**2\n",
    "def evaluate_BMI(bmi):\n",
    "    if bmi < 15:\n",
    "        return \"Very severely underweight\"\n",
    "    elif bmi < 16:\n",
    "        return \"Severely underweight\"\n",
    "    elif bmi < 18.5:\n",
    "        return \"Underweight\"\n",
    "    elif bmi < 25:\n",
    "        return \"Normal (healthy weight)\"\n",
    "    elif bmi < 30:\n",
    "        return \"Overweight\"\n",
    "    elif bmi < 35:\n",
    "        return \"Obese Class I (Moderately obese)\"\n",
    "    elif bmi < 40:\n",
    "        return \"Obese Class II (Severely obese)\"\n",
    "    else:\n",
    "        return \"Obese Class III (Very severely obese)\"\n",
    "f = compose(evaluate_BMI, BMI)\n",
    "again = \"y\"\n",
    "while again == \"y\":\n",
    "    weight = float(input(\"weight (kg) \"))\n",
    "    height = float(input(\"height (m) \"))\n",
    "    print(f(weight, height))\n",
    "    again = input(\"Another run? (y/n)\")"
   ]
  },
  {
   "cell_type": "markdown",
   "metadata": {},
   "source": [
    "# References\n",
    "<hr style = \"border:2px solid black\" ></hr>"
   ]
  },
  {
   "cell_type": "markdown",
   "metadata": {},
   "source": [
    "\n",
    "- https://python-course.eu/advanced-python/currying-in-python.php\n",
    "    \n",
""   ]
  },
  {
   "cell_type": "code",
   "execution_count": null,
   "metadata": {},
   "outputs": [],
   "source": []
  }
 ],
 "metadata": {
  "kernelspec": {
   "display_name": "Python 3 (ipykernel)",
   "language": "python",
   "name": "python3"
  },
  "language_info": {
   "codemirror_mode": {
    "name": "ipython",
    "version": 3
   },
   "file_extension": ".py",
   "mimetype": "text/x-python",
   "name": "python",
   "nbconvert_exporter": "python",
   "pygments_lexer": "ipython3",
   "version": "3.9.7"
  },
  "toc": {
   "base_numbering": 1,
   "nav_menu": {
    "height": "169px",
    "width": "252px"
   },
   "number_sections": true,
   "sideBar": true,
   "skip_h1_title": false,
   "title_cell": "Table of Contents",
   "title_sidebar": "Contents",
   "toc_cell": true,
   "toc_position": {
    "height": "calc(100% - 180px)",
    "left": "10px",
    "top": "150px",
    "width": "253px"
   },
   "toc_section_display": "block",
   "toc_window_display": true
  },
  "varInspector": {
   "cols": {
    "lenName": 16,
    "lenType": 16,
    "lenVar": 40
   },
   "kernels_config": {
    "python": {
     "delete_cmd_postfix": "",
     "delete_cmd_prefix": "del ",
     "library": "var_list.py",
     "varRefreshCmd": "print(var_dic_list())"
    },
    "r": {
     "delete_cmd_postfix": ") ",
     "delete_cmd_prefix": "rm(",
     "library": "var_list.r",
     "varRefreshCmd": "cat(var_dic_list()) "
    }
   },
   "types_to_exclude": [
    "module",
    "function",
    "builtin_function_or_method",
    "instance",
    "_Feature"
   ],
   "window_display": false
  }
 },
 "nbformat": 4,
 "nbformat_minor": 1
}
