{
 "cells": [
  {
   "cell_type": "markdown",
   "id": "13c47866",
   "metadata": {},
   "source": [
    "# Introduction\n",
    "<hr style = \"border:2px solid black\" ></hr>"
   ]
  },
  {
   "cell_type": "markdown",
   "id": "e28c5357",
   "metadata": {},
   "source": [
    "<div class=\"alert alert-warning\">\n",
    "<font color=black>\n",
    "\n",
    "**What?** Match - case statement\n",
    "\n",
    "</font>\n",
    "</div>"
   ]
  },
  {
   "cell_type": "markdown",
   "id": "bdb92703",
   "metadata": {},
   "source": [
    "# Motivation\n",
    "<hr style = \"border:2px solid black\" ></hr>"
   ]
  },
  {
   "cell_type": "markdown",
   "id": "f4425075",
   "metadata": {},
   "source": [
    "<div class=\"alert alert-info\">\n",
    "<font color=black>\n",
    "\n",
    "- This feature is available from `python 3.10` onward only.\n",
    "- The `match - case` syntax is similar to **switch statements** in other Object-oriented languages, and it is meant to make matching a structure to a case easier\n",
    "\n",
    "</font>\n",
    "</div>"
   ]
  },
  {
   "cell_type": "markdown",
   "id": "cdee43ea",
   "metadata": {},
   "source": [
    "# Example\n",
    "<hr style = \"border:2px solid black\" ></hr>"
   ]
  },
  {
   "cell_type": "code",
   "execution_count": null,
   "id": "0270d88f",
   "metadata": {
    "ExecuteTime": {
     "end_time": "2022-08-16T15:59:48.953866Z",
     "start_time": "2022-08-16T15:59:48.949512Z"
    }
   },
   "outputs": [],
   "source": [
    "def greeting(message):\n",
    "    match message.split():\n",
    "        case[\"hello\"]:\n",
    "            print(\"this message says hello\")\n",
    "        case[\"hello\", name]:\n",
    "            print(\"This message is a personal greeting to {name}\")\n",
    "        case _:\n",
    "            print(\"The message didn’t match with anything\")"
   ]
  },
  {
   "cell_type": "code",
   "execution_count": null,
   "id": "53c055f5",
   "metadata": {
    "ExecuteTime": {
     "end_time": "2022-08-16T16:02:28.098420Z",
     "start_time": "2022-08-16T16:02:27.991507Z"
    }
   },
   "outputs": [],
   "source": [
    "greeting(\"hello\")"
   ]
  },
  {
   "cell_type": "code",
   "execution_count": null,
   "id": "6932f9f3",
   "metadata": {},
   "outputs": [],
   "source": [
    "greeting(\"hello George\")"
   ]
  },
  {
   "cell_type": "code",
   "execution_count": null,
   "id": "bac55505",
   "metadata": {},
   "outputs": [],
   "source": [
    "greeting(\"hello George Johnson\")"
   ]
  },
  {
   "cell_type": "markdown",
   "id": "b6b45b33",
   "metadata": {},
   "source": [
    "# Conclusions\n",
    "<hr style = \"border:2px solid black\" ></hr>"
   ]
  },
  {
   "cell_type": "markdown",
   "id": "3c658ba7",
   "metadata": {},
   "source": [
    "<div class=\"alert alert-danger\">\n",
    "<font color=black>\n",
    "\n",
    "- It does not mean the match statement will be the best alternative always and, in particular, the match statement is generally being misused if you use it as a **simple switch**.\n",
    "- short and basic match statements could be vanilla if statements.\n",
    "    \n",
    "</font>\n",
    "</div>"
   ]
  },
  {
   "cell_type": "markdown",
   "id": "968cf0c4",
   "metadata": {},
   "source": [
    "# References\n",
    "<hr style = \"border:2px solid black\" ></hr>"
   ]
  },
  {
   "cell_type": "markdown",
   "id": "b685b809",
   "metadata": {},
   "source": [
    "<div class=\"alert alert-warning\">\n",
    "<font color=black>\n",
    "\n",
    "- https://blog.teclado.com/python-match-case/\n",
    "\n",
    "</font>\n",
    "</div>"
   ]
  },
  {
   "cell_type": "code",
   "execution_count": null,
   "id": "112e1ede",
   "metadata": {},
   "outputs": [],
   "source": []
  }
 ],
 "metadata": {
  "kernelspec": {
   "display_name": "trainingAI",
   "language": "python",
   "name": "trainingai"
  },
  "language_info": {
   "codemirror_mode": {
    "name": "ipython",
    "version": 3
   },
   "file_extension": ".py",
   "mimetype": "text/x-python",
   "name": "python",
   "nbconvert_exporter": "python",
   "pygments_lexer": "ipython3",
   "version": "3.9.7"
  },
  "toc": {
   "base_numbering": 1,
   "nav_menu": {},
   "number_sections": true,
   "sideBar": true,
   "skip_h1_title": false,
   "title_cell": "Table of Contents",
   "title_sidebar": "Contents",
   "toc_cell": false,
   "toc_position": {
    "height": "calc(100% - 180px)",
    "left": "10px",
    "top": "150px",
    "width": "165px"
   },
   "toc_section_display": true,
   "toc_window_display": true
  },
  "varInspector": {
   "cols": {
    "lenName": 16,
    "lenType": 16,
    "lenVar": 40
   },
   "kernels_config": {
    "python": {
     "delete_cmd_postfix": "",
     "delete_cmd_prefix": "del ",
     "library": "var_list.py",
     "varRefreshCmd": "print(var_dic_list())"
    },
    "r": {
     "delete_cmd_postfix": ") ",
     "delete_cmd_prefix": "rm(",
     "library": "var_list.r",
     "varRefreshCmd": "cat(var_dic_list()) "
    }
   },
   "types_to_exclude": [
    "module",
    "function",
    "builtin_function_or_method",
    "instance",
    "_Feature"
   ],
   "window_display": false
  }
 },
 "nbformat": 4,
 "nbformat_minor": 5
}
