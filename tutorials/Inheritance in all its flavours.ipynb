{
 "cells": [
  {
   "cell_type": "markdown",
   "metadata": {
    "toc": true
   },
   "source": [
    "<h1>Table of Contents<span class=\"tocSkip\"></span></h1>\n",
    "<div class=\"toc\"><ul class=\"toc-item\"><li><span><a href=\"#Introduction\" data-toc-modified-id=\"Introduction-1\"><span class=\"toc-item-num\">1&nbsp;&nbsp;</span>Introduction</a></span></li><li><span><a href=\"#Technical-aspects-of-OOP\" data-toc-modified-id=\"Technical-aspects-of-OOP-2\"><span class=\"toc-item-num\">2&nbsp;&nbsp;</span>Technical aspects of OOP</a></span></li><li><span><a href=\"#What-is-inheritance?\" data-toc-modified-id=\"What-is-inheritance?-3\"><span class=\"toc-item-num\">3&nbsp;&nbsp;</span>What is inheritance?</a></span></li><li><span><a href=\"#super()-and-__mro__\" data-toc-modified-id=\"super()-and-__mro__-4\"><span class=\"toc-item-num\">4&nbsp;&nbsp;</span><code>super()</code> and <code>__mro__</code></a></span></li><li><span><a href=\"#C3-class-resolution-vs.-MRO\" data-toc-modified-id=\"C3-class-resolution-vs.-MRO-5\"><span class=\"toc-item-num\">5&nbsp;&nbsp;</span>C3 class resolution vs. MRO</a></span></li><li><span><a href=\"#Example-#0\" data-toc-modified-id=\"Example-#0-6\"><span class=\"toc-item-num\">6&nbsp;&nbsp;</span>Example #0</a></span></li><li><span><a href=\"#Example-#1\" data-toc-modified-id=\"Example-#1-7\"><span class=\"toc-item-num\">7&nbsp;&nbsp;</span>Example #1</a></span></li><li><span><a href=\"#Example-#2\" data-toc-modified-id=\"Example-#2-8\"><span class=\"toc-item-num\">8&nbsp;&nbsp;</span>Example #2</a></span></li><li><span><a href=\"#Example-#3\" data-toc-modified-id=\"Example-#3-9\"><span class=\"toc-item-num\">9&nbsp;&nbsp;</span>Example #3</a></span></li><li><span><a href=\"#Example-#4\" data-toc-modified-id=\"Example-#4-10\"><span class=\"toc-item-num\">10&nbsp;&nbsp;</span>Example #4</a></span></li><li><span><a href=\"#Example-#5\" data-toc-modified-id=\"Example-#5-11\"><span class=\"toc-item-num\">11&nbsp;&nbsp;</span>Example #5</a></span></li><li><span><a href=\"#Example-#6\" data-toc-modified-id=\"Example-#6-12\"><span class=\"toc-item-num\">12&nbsp;&nbsp;</span>Example #6</a></span></li><li><span><a href=\"#Example-#7\" data-toc-modified-id=\"Example-#7-13\"><span class=\"toc-item-num\">13&nbsp;&nbsp;</span>Example #7</a></span></li><li><span><a href=\"#Example-#8\" data-toc-modified-id=\"Example-#8-14\"><span class=\"toc-item-num\">14&nbsp;&nbsp;</span>Example #8</a></span></li><li><span><a href=\"#Example-#9\" data-toc-modified-id=\"Example-#9-15\"><span class=\"toc-item-num\">15&nbsp;&nbsp;</span>Example #9</a></span></li><li><span><a href=\"#Example-#10\" data-toc-modified-id=\"Example-#10-16\"><span class=\"toc-item-num\">16&nbsp;&nbsp;</span>Example #10</a></span></li><li><span><a href=\"#Example-#11\" data-toc-modified-id=\"Example-#11-17\"><span class=\"toc-item-num\">17&nbsp;&nbsp;</span>Example #11</a></span></li><li><span><a href=\"#Inheritance-of-object-attributes\" data-toc-modified-id=\"Inheritance-of-object-attributes-18\"><span class=\"toc-item-num\">18&nbsp;&nbsp;</span>Inheritance of object attributes</a></span></li><li><span><a href=\"#Instantiating-a-base-class-in-multiple-inheritance\" data-toc-modified-id=\"Instantiating-a-base-class-in-multiple-inheritance-19\"><span class=\"toc-item-num\">19&nbsp;&nbsp;</span>Instantiating a base class in multiple inheritance</a></span></li><li><span><a href=\"#References\" data-toc-modified-id=\"References-20\"><span class=\"toc-item-num\">20&nbsp;&nbsp;</span>References</a></span></li></ul></div>"
   ]
  },
  {
   "cell_type": "markdown",
   "metadata": {},
   "source": [
    "# Introduction\n",
    "<hr style=\"border:2px solid black\"> </hr>"
   ]
  },
  {
   "cell_type": "markdown",
   "metadata": {},
   "source": [
    "<div class=\"alert alert-warning\">\n",
    "<font color=black>\n",
    "\n",
    "**What?** Inheritance in all its flavours\n",
    "\n",
    "</font>\n",
    "</div>"
   ]
  },
  {
   "cell_type": "markdown",
   "metadata": {
    "ExecuteTime": {
     "end_time": "2023-03-11T17:00:09.938240Z",
     "start_time": "2023-03-11T17:00:09.934227Z"
    }
   },
   "source": [
    "# Technical aspects of OOP\n",
    "<hr style = \"border:2px solid black\" ></hr>"
   ]
  },
  {
   "cell_type": "markdown",
   "metadata": {
    "ExecuteTime": {
     "end_time": "2023-03-11T16:59:47.485577Z",
     "start_time": "2023-03-11T16:59:47.478390Z"
    }
   },
   "source": [
    "<div class=\"alert alert-info\">\n",
    "<font color=black>\n",
    "\n",
    "- [ ] **Abstraction**: the use of attributes and methods allows building abstract, flexible models of objects, with a focus on what is relevant and neglecting what is not needed.\n",
    "- [ ] **Modularity** implies the possibility of breaking code down into multiple modules which are then linked to form the complete codebase. \n",
    "- [x] **Inheritance** refers to the concept that one class can inherit attributes and meth‐ ods from another class.\n",
    "- [ ] **Aggregation** refers to the case in which an object is at least partly made up of multiple other objects that might exist independently.  \n",
    "- [ ] **Composition** is similar to aggregation, but here the single objects cannot exist independently of each other.\n",
    "- [ ] **Polymorphism** can take on multiple forms. Of particular importance in a Python context is what is called duck typing. This refers to the fact that standard operations can be implemented on many different classes and their instances without knowing exactly what object one is dealing with.\n",
    "- [ ] **Encapsulation** refers to the approach of making data within a class accessible only via public methods. This approach might avoid unintended effects by sim‐ ply working with and possibly changing attribute values.\n",
    "    \n",
    "</font>\n",
    "</div>"
   ]
  },
  {
   "cell_type": "markdown",
   "metadata": {},
   "source": [
    "# What is inheritance?\n",
    "<hr style=\"border:2px solid black\"> </hr>"
   ]
  },
  {
   "cell_type": "markdown",
   "metadata": {},
   "source": [
    "<div class=\"alert alert-info\">\n",
    "<font color=black>\n",
    "\n",
    "- Inheritance was invented in 1969 for Simula.\n",
    "- Inheritance allows programmers to create classes that are built upon existing classes, and this enables a class created through inheritance to inherit the attributes and methods of the parent class. This means that inheritance supports code reusability. The methods or generally speaking the software inherited by a subclass is considered to be reused in the subclass. The relationships of objects or classes through inheritance give rise to a **directed graph**.\n",
    "- The class from which a class inherits is called the parent or **superclass**. A class which inherits from a superclass is called a **subclass** or **child class**.\n",
    "    \n",
    "</font>\n",
    "</div>"
   ]
  },
  {
   "cell_type": "markdown",
   "metadata": {},
   "source": [
    "# `super()` and `__mro__`\n",
    "<hr style=\"border:2px solid black\"> </hr>"
   ]
  },
  {
   "cell_type": "markdown",
   "metadata": {},
   "source": [
    "<div class=\"alert alert-info\">\n",
    "<font color=black>\n",
    "\n",
    "- **First tool**: everything descent from `object`\n",
    "- **Second rule**: Python computes a method resolution order (MRO) based on your class inheritance tree. \n",
    "- The MRO satisfies 3 properties:\n",
    "    - Children of a class come before their parents\n",
    "    - Left parents come before right parents\n",
    "    - A class only appears once in the MRO\n",
    "<br><br>\n",
    "- When a method is called, the first occurrence of that method in the MRO is the one that is called. \n",
    "- Any class that doesn't implement that method is skipped. Any call to super within that method will call the next occurrence of that method in the MRO. \n",
    "- Consequently, it matters both what order you place classes in inheritance, **AND** where you put the calls to super in the methods.\n",
    "<br><br>\n",
    "- **Cons**: It can be argued that using `super` here makes the code less explicit. Making code less explicit violates The Zen of Python, which states, \"Explicit is better than implicit.\"\n",
    "- **Pros**: There is a maintainability argument that can be made for `super` even in single inheritance. If for whatever reason your child class changes its inheritance pattern (i.e., parent class changes or there's a shift to multiple inheritance) then there's no need find and replace all the lingering references to `ParentClass.method_name()`; the use of `super` will allow all the changes to flow through with the change in the class statement.\n",
    "\n",
    "</font>\n",
    "</div>"
   ]
  },
  {
   "cell_type": "markdown",
   "metadata": {},
   "source": [
    "# C3 class resolution vs. MRO\n",
    "<hr style=\"border:2px solid black\"> </hr>"
   ]
  },
  {
   "cell_type": "markdown",
   "metadata": {},
   "source": [
    "<div class=\"alert alert-info\">\n",
    "<font color=black>\n",
    "\n",
    "- If we are dealing with multiple inheritance, according to the C3 class resolution algorithm, the following applies.\n",
    "- **Aassuming that child class C inherits from two parent classes A and B, \"class A should be checked before class B\"**.\n",
    "- Method Resolution Order (MRO) is a order in which methods should be inherited in the case of multiple iheritance. C3 linearization algorithm is how MRO works under the hood.\n",
    "    \n",
    "</font>\n",
    "</div>"
   ]
  },
  {
   "cell_type": "code",
   "execution_count": 2,
   "metadata": {
    "ExecuteTime": {
     "end_time": "2023-01-28T09:28:20.116686Z",
     "start_time": "2023-01-28T09:28:20.112140Z"
    }
   },
   "outputs": [
    {
     "name": "stdout",
     "output_type": "stream",
     "text": [
      "class A\n"
     ]
    }
   ],
   "source": [
    "class A():\n",
    "    def foo(self):\n",
    "        print(\"class A\")\n",
    "\n",
    "\n",
    "class B():\n",
    "    def foo(self):\n",
    "        print(\"class B\")\n",
    "\n",
    "\n",
    "class C(A, B):\n",
    "    pass\n",
    "\n",
    "# Will print what? A or B?\n",
    "C().foo()"
   ]
  },
  {
   "cell_type": "code",
   "execution_count": 3,
   "metadata": {
    "ExecuteTime": {
     "end_time": "2023-01-28T09:30:08.409116Z",
     "start_time": "2023-01-28T09:30:08.404812Z"
    }
   },
   "outputs": [
    {
     "name": "stdout",
     "output_type": "stream",
     "text": [
      "class C\n"
     ]
    }
   ],
   "source": [
    "class A(object):\n",
    "    def foo(self):\n",
    "        print(\"class A\")\n",
    "\n",
    "\n",
    "class B(A):\n",
    "    pass\n",
    "\n",
    "\n",
    "class C(A):\n",
    "    def foo(self):\n",
    "        print(\"class C\")\n",
    "\n",
    "\n",
    "class D(B, C):\n",
    "    pass\n",
    "\n",
    "\n",
    "# Will print what? A, B or C?\n",
    "D().foo()"
   ]
  },
  {
   "cell_type": "markdown",
   "metadata": {},
   "source": [
    "# Example #0\n",
    "<hr style=\"border:2px solid black\"> </hr>"
   ]
  },
  {
   "cell_type": "markdown",
   "metadata": {
    "ExecuteTime": {
     "end_time": "2023-03-11T16:57:58.365887Z",
     "start_time": "2023-03-11T16:57:58.361283Z"
    }
   },
   "source": [
    "<div class=\"alert alert-info\">\n",
    "<font color=black>\n",
    "\n",
    "- In its simplest form inheritance establishes a relationship btw two classes: a parent and a child.\n",
    "- A child class:\n",
    "    - keeps the attributes and methods of its parent\n",
    "    - Add new attributes or methods of its own\n",
    "    - Overrides the existig methods of its parent\n",
    "\n",
    "</font>\n",
    "</div>"
   ]
  },
  {
   "attachments": {
    "image.png": {
     "image/png": "[encoded data removed]"
    }
   },
   "cell_type": "markdown",
   "metadata": {},
   "source": [
    "![image.png](attachment:image.png)"
   ]
  },
  {
   "cell_type": "markdown",
   "metadata": {},
   "source": [
    "# Example #1\n",
    "<hr style=\"border:2px solid black\"> </hr>"
   ]
  },
  {
   "cell_type": "markdown",
   "metadata": {},
   "source": [
    "<div class=\"alert alert-info\">\n",
    "<font color=black>\n",
    "\n",
    "- Accessing parent class object attribues from child class.\n",
    "\n",
    "</font>\n",
    "</div>"
   ]
  },
  {
   "cell_type": "code",
   "execution_count": 1,
   "metadata": {
    "ExecuteTime": {
     "end_time": "2022-09-09T18:31:24.694172Z",
     "start_time": "2022-09-09T18:31:24.690187Z"
    }
   },
   "outputs": [],
   "source": [
    "class Parent():\n",
    "    def __init__(self):\n",
    "        self.ParentObjectAttribute = 1\n",
    "\n",
    "class Child(Parent):\n",
    "    def __init__(self):\n",
    "        self.ChildObjectAttribute = 2\n",
    "        Parent.__init__(self)\n",
    "\n",
    "        # here you can access myvar like below.\n",
    "        print(\"Calling from inside __init__\", self.ParentObjectAttribute)"
   ]
  },
  {
   "cell_type": "code",
   "execution_count": 2,
   "metadata": {
    "ExecuteTime": {
     "end_time": "2022-09-09T18:31:24.699541Z",
     "start_time": "2022-09-09T18:31:24.696455Z"
    }
   },
   "outputs": [
    {
     "name": "stdout",
     "output_type": "stream",
     "text": [
      "Calling from inside __init__ 1\n",
      "2\n",
      "1\n"
     ]
    }
   ],
   "source": [
    "child = Child()\n",
    "print(child.ChildObjectAttribute)\n",
    "print(child.ParentObjectAttribute)"
   ]
  },
  {
   "cell_type": "code",
   "execution_count": 3,
   "metadata": {
    "ExecuteTime": {
     "end_time": "2022-09-09T18:31:24.707432Z",
     "start_time": "2022-09-09T18:31:24.702719Z"
    }
   },
   "outputs": [
    {
     "name": "stdout",
     "output_type": "stream",
     "text": [
      "Calling from inside __init__ 1\n",
      "2\n",
      "1\n"
     ]
    }
   ],
   "source": [
    "class Parent():\n",
    "    def __init__(self):\n",
    "        self.ParentObjectAttribute = 1\n",
    "\n",
    "class Child(Parent):\n",
    "    def __init__(self):\n",
    "        self.ChildObjectAttribute = 2\n",
    "        super().__init__()\n",
    "\n",
    "        # here you can access myvar like below.\n",
    "        print(\"Calling from inside __init__\", self.ParentObjectAttribute)\n",
    "\n",
    "child = Child()\n",
    "print(child.ChildObjectAttribute)\n",
    "print(child.ParentObjectAttribute)"
   ]
  },
  {
   "cell_type": "markdown",
   "metadata": {},
   "source": [
    "# Example #2\n",
    "<hr style=\"border:2px solid black\"> </hr>"
   ]
  },
  {
   "cell_type": "markdown",
   "metadata": {},
   "source": [
    "<div class=\"alert alert-info\">\n",
    "<font color=black>\n",
    "\n",
    "- There is also a way to directly call each inherited class.\n",
    "\n",
    "</font>\n",
    "</div>"
   ]
  },
  {
   "cell_type": "code",
   "execution_count": 4,
   "metadata": {
    "ExecuteTime": {
     "end_time": "2022-09-09T18:31:24.715021Z",
     "start_time": "2022-09-09T18:31:24.709507Z"
    }
   },
   "outputs": [
    {
     "name": "stdout",
     "output_type": "stream",
     "text": [
      "Calling from __init__\n",
      "3\n",
      "1\n",
      "2\n",
      "Calling from object\n",
      "3\n",
      "1\n",
      "2\n"
     ]
    }
   ],
   "source": [
    "class Parent1():\n",
    "    def __init__(self):\n",
    "        self.Parent1ObjectAttribute = 1\n",
    "\n",
    "class Parent2():\n",
    "    def __init__(self):\n",
    "        self.Parent2ObjectAttribute = 2\n",
    "        \n",
    "class Child(Parent1, Parent2):\n",
    "    def __init__(self):\n",
    "        self.ChildObjectAttribute = 3\n",
    "        Parent2.__init__(self)\n",
    "        Parent1.__init__(self)\n",
    "\n",
    "        print(\"Calling from __init__\")\n",
    "        print(self.ChildObjectAttribute)\n",
    "        print(self.Parent1ObjectAttribute)\n",
    "        print(self.Parent2ObjectAttribute)\n",
    "\n",
    "child = Child()\n",
    "print(\"Calling from object\")\n",
    "print(child.ChildObjectAttribute)\n",
    "print(child.Parent1ObjectAttribute)\n",
    "print(child.Parent2ObjectAttribute)"
   ]
  },
  {
   "cell_type": "code",
   "execution_count": 5,
   "metadata": {
    "ExecuteTime": {
     "end_time": "2022-09-09T18:31:24.726902Z",
     "start_time": "2022-09-09T18:31:24.717140Z"
    }
   },
   "outputs": [
    {
     "data": {
      "text/plain": [
       "(__main__.Child, __main__.Parent1, __main__.Parent2, object)"
      ]
     },
     "execution_count": 5,
     "metadata": {},
     "output_type": "execute_result"
    }
   ],
   "source": [
    "Child.__mro__"
   ]
  },
  {
   "cell_type": "code",
   "execution_count": 6,
   "metadata": {
    "ExecuteTime": {
     "end_time": "2022-09-09T18:31:24.732836Z",
     "start_time": "2022-09-09T18:31:24.729062Z"
    }
   },
   "outputs": [
    {
     "data": {
      "text/plain": [
       "{'ChildObjectAttribute': 3,\n",
       " 'Parent2ObjectAttribute': 2,\n",
       " 'Parent1ObjectAttribute': 1}"
      ]
     },
     "execution_count": 6,
     "metadata": {},
     "output_type": "execute_result"
    }
   ],
   "source": [
    "child.__dict__"
   ]
  },
  {
   "cell_type": "markdown",
   "metadata": {},
   "source": [
    "<div class=\"alert alert-info\">\n",
    "<font color=black>\n",
    "\n",
    "- Super is **about** following the chain of inheritance, not getting to a specific class's method.\n",
    "- Multiple inheritance is the **ONLY** case where super() is of any use. \n",
    "- I would not recommend using it with classes using linear inheritance, where it's just **useless** overhead. \n",
    "- But this argument can be challenged and you'll find many developer not using it.s\n",
    "\n",
    "</font>\n",
    "</div>"
   ]
  },
  {
   "cell_type": "code",
   "execution_count": 7,
   "metadata": {
    "ExecuteTime": {
     "end_time": "2022-09-09T18:31:24.742314Z",
     "start_time": "2022-09-09T18:31:24.734932Z"
    }
   },
   "outputs": [
    {
     "name": "stdout",
     "output_type": "stream",
     "text": [
      "calling Parent1\n",
      "calling Parent2\n",
      "Calling from __init__\n",
      "3\n",
      "1\n",
      "2\n",
      "Calling from object\n",
      "3\n",
      "1\n",
      "2\n"
     ]
    }
   ],
   "source": [
    "\"\"\"\n",
    "Can we achieve the same with super()?\n",
    "\"\"\"\n",
    "class Parent1():\n",
    "    def __init__(self):\n",
    "        print(\"calling Parent1\")\n",
    "        super(Parent1, self).__init__()\n",
    "        self.Parent1ObjectAttribute = 1\n",
    "\n",
    "class Parent2():\n",
    "    def __init__(self):\n",
    "        print(\"calling Parent2\")\n",
    "        super(Parent2, self).__init__()\n",
    "        self.Parent2ObjectAttribute = 2\n",
    "        \n",
    "class Child(Parent1, Parent2):\n",
    "    def __init__(self):\n",
    "        super(Child, self).__init__()\n",
    "        self.ChildObjectAttribute = 3        \n",
    "\n",
    "        print(\"Calling from __init__\")\n",
    "        print(self.ChildObjectAttribute)\n",
    "        print(self.Parent1ObjectAttribute)\n",
    "        print(self.Parent2ObjectAttribute)\n",
    "\n",
    "child = Child()\n",
    "print(\"Calling from object\")\n",
    "print(child.ChildObjectAttribute)\n",
    "print(child.Parent1ObjectAttribute)\n",
    "print(child.Parent2ObjectAttribute)"
   ]
  },
  {
   "cell_type": "code",
   "execution_count": 8,
   "metadata": {
    "ExecuteTime": {
     "end_time": "2022-09-09T18:31:24.751466Z",
     "start_time": "2022-09-09T18:31:24.747869Z"
    }
   },
   "outputs": [
    {
     "data": {
      "text/plain": [
       "{'Parent2ObjectAttribute': 2,\n",
       " 'Parent1ObjectAttribute': 1,\n",
       " 'ChildObjectAttribute': 3}"
      ]
     },
     "execution_count": 8,
     "metadata": {},
     "output_type": "execute_result"
    }
   ],
   "source": [
    "child.__dict__"
   ]
  },
  {
   "cell_type": "code",
   "execution_count": 9,
   "metadata": {
    "ExecuteTime": {
     "end_time": "2022-09-09T18:31:24.756920Z",
     "start_time": "2022-09-09T18:31:24.753448Z"
    }
   },
   "outputs": [
    {
     "data": {
      "text/plain": [
       "(__main__.Child, __main__.Parent1, __main__.Parent2, object)"
      ]
     },
     "execution_count": 9,
     "metadata": {},
     "output_type": "execute_result"
    }
   ],
   "source": [
    "Child.__mro__"
   ]
  },
  {
   "cell_type": "markdown",
   "metadata": {},
   "source": [
    "# Example #3\n",
    "<hr style=\"border:2px solid black\"> </hr>"
   ]
  },
  {
   "cell_type": "code",
   "execution_count": 10,
   "metadata": {
    "ExecuteTime": {
     "end_time": "2022-09-09T18:31:24.763251Z",
     "start_time": "2022-09-09T18:31:24.758696Z"
    }
   },
   "outputs": [],
   "source": [
    "class Parent():\n",
    "    def __init__(self):\n",
    "        super(Parent, self).__init__()\n",
    "        print(\"parent\")\n",
    "\n",
    "class Left(Parent):\n",
    "    def __init__(self):\n",
    "        super(Left, self).__init__()\n",
    "        print(\"left\")\n",
    "\n",
    "class Right(Parent):\n",
    "    def __init__(self):\n",
    "        super(Right, self).__init__()\n",
    "        print(\"right\")\n",
    "\n",
    "class Child(Left, Right):\n",
    "    def __init__(self):\n",
    "        super(Child, self).__init__()\n",
    "        print(\"child\")"
   ]
  },
  {
   "cell_type": "code",
   "execution_count": 11,
   "metadata": {
    "ExecuteTime": {
     "end_time": "2022-09-09T18:31:24.769289Z",
     "start_time": "2022-09-09T18:31:24.765386Z"
    }
   },
   "outputs": [
    {
     "name": "stdout",
     "output_type": "stream",
     "text": [
      "parent\n",
      "right\n",
      "left\n",
      "child\n"
     ]
    },
    {
     "data": {
      "text/plain": [
       "<__main__.Child at 0x7fae50723dc0>"
      ]
     },
     "execution_count": 11,
     "metadata": {},
     "output_type": "execute_result"
    }
   ],
   "source": [
    "Child()"
   ]
  },
  {
   "cell_type": "code",
   "execution_count": 12,
   "metadata": {
    "ExecuteTime": {
     "end_time": "2022-09-09T18:31:24.776611Z",
     "start_time": "2022-09-09T18:31:24.771494Z"
    }
   },
   "outputs": [],
   "source": [
    "\"\"\"\n",
    "With super last in each method.\n",
    "So it impportant where this is placed under \n",
    "__init__\n",
    "\"\"\"\n",
    "class Parent():\n",
    "    def __init__(self):\n",
    "        print(\"parent\")\n",
    "        super(Parent, self).__init__()\n",
    "\n",
    "class Left(Parent):\n",
    "    def __init__(self):\n",
    "        print(\"left\")\n",
    "        super(Left, self).__init__()\n",
    "\n",
    "class Right(Parent):\n",
    "    def __init__(self):\n",
    "        print(\"right\")\n",
    "        super(Right, self).__init__()\n",
    "\n",
    "class Child(Left, Right):\n",
    "    def __init__(self):\n",
    "        print(\"child\")\n",
    "        super(Child, self).__init__()"
   ]
  },
  {
   "cell_type": "code",
   "execution_count": 13,
   "metadata": {
    "ExecuteTime": {
     "end_time": "2022-09-09T18:31:24.782600Z",
     "start_time": "2022-09-09T18:31:24.778676Z"
    }
   },
   "outputs": [
    {
     "name": "stdout",
     "output_type": "stream",
     "text": [
      "child\n",
      "left\n",
      "right\n",
      "parent\n"
     ]
    },
    {
     "data": {
      "text/plain": [
       "<__main__.Child at 0x7fae50727250>"
      ]
     },
     "execution_count": 13,
     "metadata": {},
     "output_type": "execute_result"
    }
   ],
   "source": [
    "Child()"
   ]
  },
  {
   "cell_type": "code",
   "execution_count": 14,
   "metadata": {
    "ExecuteTime": {
     "end_time": "2022-09-09T18:31:24.788170Z",
     "start_time": "2022-09-09T18:31:24.784655Z"
    }
   },
   "outputs": [
    {
     "data": {
      "text/plain": [
       "(__main__.Child, __main__.Left, __main__.Right, __main__.Parent, object)"
      ]
     },
     "execution_count": 14,
     "metadata": {},
     "output_type": "execute_result"
    }
   ],
   "source": [
    "Child.__mro__"
   ]
  },
  {
   "cell_type": "code",
   "execution_count": 15,
   "metadata": {
    "ExecuteTime": {
     "end_time": "2022-09-09T18:31:24.794993Z",
     "start_time": "2022-09-09T18:31:24.790277Z"
    }
   },
   "outputs": [],
   "source": [
    "class Parent():\n",
    "    def __init__(self):\n",
    "        super(Parent, self).__init__()\n",
    "\n",
    "class Left(Parent):\n",
    "    def __init__(self):\n",
    "        super(Left, self).__init__()\n",
    "\n",
    "class Right(Parent):\n",
    "    def __init__(self):\n",
    "        super(Right, self).__init__()\n",
    "        print(\"rigt\")\n",
    "\n",
    "class Child(Left, Right):\n",
    "    def __init__(self):\n",
    "        super(Child, self).__init__()"
   ]
  },
  {
   "cell_type": "code",
   "execution_count": 16,
   "metadata": {
    "ExecuteTime": {
     "end_time": "2022-09-09T18:31:24.800647Z",
     "start_time": "2022-09-09T18:31:24.797102Z"
    }
   },
   "outputs": [
    {
     "data": {
      "text/plain": [
       "(__main__.Child, __main__.Left, __main__.Right, __main__.Parent, object)"
      ]
     },
     "execution_count": 16,
     "metadata": {},
     "output_type": "execute_result"
    }
   ],
   "source": [
    "Child.__mro__"
   ]
  },
  {
   "cell_type": "markdown",
   "metadata": {},
   "source": [
    "# Example #4\n",
    "<hr style=\"border:2px solid black\"> </hr>"
   ]
  },
  {
   "cell_type": "code",
   "execution_count": 17,
   "metadata": {
    "ExecuteTime": {
     "end_time": "2022-09-09T18:31:24.807023Z",
     "start_time": "2022-09-09T18:31:24.802726Z"
    }
   },
   "outputs": [],
   "source": [
    "class Person:  \n",
    "    \"\"\"\n",
    "    Base class or parent class\n",
    "    \"\"\"\n",
    "    def __init__(self, name):\n",
    "        \"\"\"\n",
    "        Constructor\n",
    "        \"\"\"\n",
    "        self.name = name\n",
    "\n",
    "    def get_name(self):\n",
    "        return self.name\n",
    "\n",
    "\n",
    "class Employee(Person):\n",
    "    \"\"\"\n",
    "    Derived class or subclass\n",
    "    that uses the base class constructor\n",
    "    \"\"\"\n",
    "    def is_employee_pythonist(self):\n",
    "        if any([i.lower() == \"pythonista\" for i in self.name.split(\" \")]):\n",
    "            return True\n",
    "        else:\n",
    "            return False"
   ]
  },
  {
   "cell_type": "code",
   "execution_count": 18,
   "metadata": {
    "ExecuteTime": {
     "end_time": "2022-09-09T18:31:24.811921Z",
     "start_time": "2022-09-09T18:31:24.808948Z"
    }
   },
   "outputs": [
    {
     "name": "stdout",
     "output_type": "stream",
     "text": [
      "Pythonista\n"
     ]
    }
   ],
   "source": [
    "\"\"\"\n",
    "Let's start with object creation/instantiation\n",
    "for the base clas\n",
    "\"\"\"\n",
    "person = Person(\"Pythonista\")  \n",
    "print(person.get_name())"
   ]
  },
  {
   "cell_type": "code",
   "execution_count": 19,
   "metadata": {
    "ExecuteTime": {
     "end_time": "2022-09-09T18:31:24.817610Z",
     "start_time": "2022-09-09T18:31:24.813946Z"
    }
   },
   "outputs": [
    {
     "name": "stdout",
     "output_type": "stream",
     "text": [
      "Employee Pythonista\n",
      "True\n"
     ]
    }
   ],
   "source": [
    "\"\"\"\n",
    "Let's create an object from the children class.\n",
    "Pay attention that this particular case uses the\n",
    "base class constructor\n",
    "\"\"\"\n",
    "employee = Employee(\"Employee Pythonista\")\n",
    "print(employee.get_name())\n",
    "print(employee.is_employee_pythonist())"
   ]
  },
  {
   "cell_type": "markdown",
   "metadata": {},
   "source": [
    "# Example #5\n",
    "<hr style=\"border:2px solid black\"> </hr>"
   ]
  },
  {
   "cell_type": "markdown",
   "metadata": {},
   "source": [
    "<div class=\"alert alert-info\">\n",
    "<font color=black>\n",
    "\n",
    "- Inheritance is **transitive** in nature.\n",
    "- This means that if class B inherits from another class A, then all the subclasses of B would automatically inherit from class A.\n",
    "\n",
    "</font>\n",
    "</div>"
   ]
  },
  {
   "cell_type": "code",
   "execution_count": 20,
   "metadata": {
    "ExecuteTime": {
     "end_time": "2022-09-09T18:31:24.823418Z",
     "start_time": "2022-09-09T18:31:24.819769Z"
    }
   },
   "outputs": [],
   "source": [
    "class A:\n",
    "    def method_from_class_a(self):\n",
    "        print(\"Hi from class A\")\n",
    "\n",
    "\n",
    "class B(A):\n",
    "    def method_from_class_b(self):\n",
    "        print(\"Hi from class B\")\n",
    "\n",
    "\n",
    "class C(B):\n",
    "    def method_from_class_c(self):\n",
    "        print(\"Hi from class C\")"
   ]
  },
  {
   "cell_type": "code",
   "execution_count": 21,
   "metadata": {
    "ExecuteTime": {
     "end_time": "2022-09-09T18:31:24.834877Z",
     "start_time": "2022-09-09T18:31:24.831742Z"
    }
   },
   "outputs": [
    {
     "name": "stdout",
     "output_type": "stream",
     "text": [
      "Hi from class C\n",
      "Hi from class B\n",
      "Hi from class A\n"
     ]
    }
   ],
   "source": [
    "c = C()\n",
    "c.method_from_class_c()\n",
    "c.method_from_class_b()\n",
    "c.method_from_class_a()"
   ]
  },
  {
   "cell_type": "markdown",
   "metadata": {},
   "source": [
    "# Example #6\n",
    "<hr style=\"border:2px solid black\"> </hr>"
   ]
  },
  {
   "cell_type": "code",
   "execution_count": 22,
   "metadata": {
    "ExecuteTime": {
     "end_time": "2022-09-09T18:31:24.839956Z",
     "start_time": "2022-09-09T18:31:24.836843Z"
    }
   },
   "outputs": [],
   "source": [
    "class A:\n",
    "    def speak(self):\n",
    "        print(\"class A speaking\")\n",
    "\n",
    "\n",
    "class B:\n",
    "    def scream(self):\n",
    "        print(\"class B screaming\")\n",
    "\n",
    "\n",
    "class C(A, B):\n",
    "    pass"
   ]
  },
  {
   "cell_type": "code",
   "execution_count": 23,
   "metadata": {
    "ExecuteTime": {
     "end_time": "2022-09-09T18:31:24.844979Z",
     "start_time": "2022-09-09T18:31:24.842126Z"
    }
   },
   "outputs": [
    {
     "name": "stdout",
     "output_type": "stream",
     "text": [
      "class A speaking\n",
      "class B screaming\n"
     ]
    }
   ],
   "source": [
    "c = C()\n",
    "c.speak()\n",
    "c.scream()"
   ]
  },
  {
   "cell_type": "markdown",
   "metadata": {},
   "source": [
    "# Example #7\n",
    "<hr style=\"border:2px solid black\"> </hr>"
   ]
  },
  {
   "cell_type": "markdown",
   "metadata": {},
   "source": [
    "<div class=\"alert alert-info\">\n",
    "<font color=black>\n",
    "\n",
    "- For a class hierarchy, Python needs to determine which class to use when attempting to access an attribute by name. To do this, Python considers the ordering of base classes. \n",
    "\n",
    "</font>\n",
    "</div>"
   ]
  },
  {
   "cell_type": "code",
   "execution_count": 24,
   "metadata": {
    "ExecuteTime": {
     "end_time": "2022-09-09T18:31:24.850670Z",
     "start_time": "2022-09-09T18:31:24.846892Z"
    }
   },
   "outputs": [
    {
     "name": "stdout",
     "output_type": "stream",
     "text": [
      "class A speaking\n"
     ]
    }
   ],
   "source": [
    "class A:\n",
    "    def speak(self):\n",
    "        print(\"class A speaking\")\n",
    "\n",
    "\n",
    "class B:\n",
    "    def speak(self):\n",
    "        print(\"class B speaking\")\n",
    "\n",
    "\n",
    "class C(A, B):\n",
    "    pass\n",
    "\n",
    "c = C()\n",
    "c.speak()"
   ]
  },
  {
   "cell_type": "code",
   "execution_count": 25,
   "metadata": {
    "ExecuteTime": {
     "end_time": "2022-09-09T18:31:24.856525Z",
     "start_time": "2022-09-09T18:31:24.852568Z"
    }
   },
   "outputs": [
    {
     "name": "stdout",
     "output_type": "stream",
     "text": [
      "class B speaking\n"
     ]
    }
   ],
   "source": [
    "class A:\n",
    "    def speak(self):\n",
    "        print(\"class A speaking\")\n",
    "\n",
    "\n",
    "class B:\n",
    "    def speak(self):\n",
    "        print(\"class B speaking\")\n",
    "\n",
    "\n",
    "class C(B, A):\n",
    "    pass\n",
    "\n",
    "c = C()\n",
    "c.speak()"
   ]
  },
  {
   "cell_type": "code",
   "execution_count": 26,
   "metadata": {
    "ExecuteTime": {
     "end_time": "2022-09-09T18:31:24.863102Z",
     "start_time": "2022-09-09T18:31:24.858568Z"
    }
   },
   "outputs": [
    {
     "name": "stdout",
     "output_type": "stream",
     "text": [
      "class C speaking\n"
     ]
    }
   ],
   "source": [
    "class A:\n",
    "    def speak(self):\n",
    "        print(\"class A speaking\")\n",
    "\n",
    "\n",
    "class B:\n",
    "    def speak(self):\n",
    "        print(\"class B speaking\")\n",
    "\n",
    "\n",
    "class C(B, A):\n",
    "    \"\"\"\n",
    "    Speak method of class C will override previous speak methods. \n",
    "    \"\"\"\n",
    "    def speak(self):\n",
    "        print(\"class C speaking\")\n",
    "\n",
    "c = C()\n",
    "c.speak()"
   ]
  },
  {
   "cell_type": "markdown",
   "metadata": {},
   "source": [
    "# Example #8\n",
    "<hr style=\"border:2px solid black\"> </hr>"
   ]
  },
  {
   "cell_type": "markdown",
   "metadata": {},
   "source": [
    "<div class=\"alert alert-info\">\n",
    "<font color=black>\n",
    "\n",
    "- Sometimes we need to call methods of parent class to a overridden method of child class. \n",
    "- We can achieve this using super function.We can directly use methods of super class or modify them(this is very common). \n",
    "\n",
    "</font>\n",
    "</div>"
   ]
  },
  {
   "cell_type": "code",
   "execution_count": 27,
   "metadata": {
    "ExecuteTime": {
     "end_time": "2022-09-09T18:31:24.868973Z",
     "start_time": "2022-09-09T18:31:24.865195Z"
    }
   },
   "outputs": [
    {
     "name": "stdout",
     "output_type": "stream",
     "text": [
      "BA\n"
     ]
    }
   ],
   "source": [
    "class A:\n",
    "    def test(self):\n",
    "        return 'A'\n",
    "\n",
    "\n",
    "class B(A):\n",
    "    # override test method\n",
    "    def test(self):  \n",
    "        # access method of parent class to overridden child class\n",
    "        return \"B\" + super().test()  \n",
    "\n",
    "\n",
    "print(B().test())"
   ]
  },
  {
   "cell_type": "markdown",
   "metadata": {},
   "source": [
    "<div class=\"alert alert-info\">\n",
    "<font color=black>\n",
    "\n",
    "- There is another **equivalent way** of achieving what we did above \n",
    "- Python 3 encourages using `super()`, instead of using `super(className, self)`, both have the same effect. \n",
    "- Python 2, only supports the super(className,self) syntax. Since, Python 2 is widely used so Python 3 also has support for this type of super calling.\n",
    "\n",
    "</font>\n",
    "</div>"
   ]
  },
  {
   "cell_type": "code",
   "execution_count": 28,
   "metadata": {
    "ExecuteTime": {
     "end_time": "2022-09-09T18:31:24.874296Z",
     "start_time": "2022-09-09T18:31:24.871328Z"
    }
   },
   "outputs": [],
   "source": [
    "class B(A):\n",
    "    def test(self):\n",
    "        return \"B\" + super(B, self).test() \n",
    "        #super(className,object)"
   ]
  },
  {
   "cell_type": "code",
   "execution_count": 29,
   "metadata": {
    "ExecuteTime": {
     "end_time": "2022-09-09T18:31:24.879851Z",
     "start_time": "2022-09-09T18:31:24.876837Z"
    }
   },
   "outputs": [
    {
     "name": "stdout",
     "output_type": "stream",
     "text": [
      "BA\n"
     ]
    }
   ],
   "source": [
    "print(B().test())"
   ]
  },
  {
   "cell_type": "markdown",
   "metadata": {},
   "source": [
    "# Example #9\n",
    "<hr style=\"border:2px solid black\"> </hr>"
   ]
  },
  {
   "cell_type": "markdown",
   "metadata": {},
   "source": [
    "<div class=\"alert alert-info\">\n",
    "<font color=black>\n",
    "\n",
    "- Python supports different types of inheritance so sometimes it needs to be introspected cleanly.\n",
    "- `isinstance()` takes two arguments: an object and a class and returns `True` if the given class is anywhere in the inheritance chain of the object’s class. \n",
    "\n",
    "</font>\n",
    "</div>"
   ]
  },
  {
   "cell_type": "code",
   "execution_count": 30,
   "metadata": {
    "ExecuteTime": {
     "end_time": "2022-09-09T18:31:24.885731Z",
     "start_time": "2022-09-09T18:31:24.881958Z"
    }
   },
   "outputs": [
    {
     "name": "stdout",
     "output_type": "stream",
     "text": [
      "True\n",
      "True\n"
     ]
    }
   ],
   "source": [
    "class A:\n",
    "    def test(self):\n",
    "        return 'A'\n",
    "\n",
    "\n",
    "class B(A):\n",
    "    def test(self):\n",
    "        return \"B\" + super(B, self).test()\n",
    "\n",
    "\n",
    "print(isinstance(A(), A))\n",
    "print(isinstance(B(), A))"
   ]
  },
  {
   "cell_type": "code",
   "execution_count": 31,
   "metadata": {
    "ExecuteTime": {
     "end_time": "2022-09-09T18:31:24.891657Z",
     "start_time": "2022-09-09T18:31:24.887697Z"
    }
   },
   "outputs": [
    {
     "name": "stdout",
     "output_type": "stream",
     "text": [
      "True\n",
      "True\n",
      "False\n",
      "True\n"
     ]
    }
   ],
   "source": [
    "print(issubclass(A, A))\n",
    "print(issubclass(B, A))\n",
    "print(issubclass(A, B))\n",
    "print(issubclass(B, B))"
   ]
  },
  {
   "cell_type": "markdown",
   "metadata": {},
   "source": [
    "<div class=\"alert alert-info\">\n",
    "<font color=black>\n",
    "\n",
    "- Is there anything that can help us sout in understanding this?\n",
    "- `__bases__()` provides a tuple of immediate base classes of a class.\n",
    "\n",
    "</font>\n",
    "</div>"
   ]
  },
  {
   "cell_type": "code",
   "execution_count": 32,
   "metadata": {
    "ExecuteTime": {
     "end_time": "2022-09-09T18:31:24.897048Z",
     "start_time": "2022-09-09T18:31:24.894374Z"
    }
   },
   "outputs": [
    {
     "name": "stdout",
     "output_type": "stream",
     "text": [
      "(<class 'object'>,)\n",
      "(<class '__main__.A'>,)\n"
     ]
    }
   ],
   "source": [
    "print(A.__bases__)\n",
    "print(B.__bases__)"
   ]
  },
  {
   "cell_type": "markdown",
   "metadata": {},
   "source": [
    "<div class=\"alert alert-info\">\n",
    "<font color=black>\n",
    "\n",
    "- **By default**, every Python class is the subclass of built-in object class.\n",
    "- `__subclasses__()`returns a list of all\n",
    "    the subclasses a class. \n",
    "- As per the case where we ued `__bases__()`, `__subclasses__` only goes **one level deep** from the class we’re working on. \n",
    "\n",
    "</font>\n",
    "</div>"
   ]
  },
  {
   "cell_type": "code",
   "execution_count": 33,
   "metadata": {
    "ExecuteTime": {
     "end_time": "2022-09-09T18:31:24.901663Z",
     "start_time": "2022-09-09T18:31:24.898972Z"
    }
   },
   "outputs": [
    {
     "name": "stdout",
     "output_type": "stream",
     "text": [
      "[<class '__main__.B'>]\n",
      "[]\n"
     ]
    }
   ],
   "source": [
    "print(A.__subclasses__())\n",
    "print(B.__subclasses__())"
   ]
  },
  {
   "cell_type": "markdown",
   "metadata": {},
   "source": [
    "# Example #10\n",
    "<hr style=\"border:2px solid black\"> </hr>"
   ]
  },
  {
   "cell_type": "code",
   "execution_count": 34,
   "metadata": {
    "ExecuteTime": {
     "end_time": "2022-09-09T18:31:24.908314Z",
     "start_time": "2022-09-09T18:31:24.903612Z"
    }
   },
   "outputs": [
    {
     "name": "stdout",
     "output_type": "stream",
     "text": [
      "I am a child\n",
      "I am a parent\n",
      "Back in my day...\n"
     ]
    }
   ],
   "source": [
    "class Parent:\n",
    "    def __init__(self):\n",
    "        self.parent_attribute = 'I am a parent'\n",
    "\n",
    "    def parent_method(self):\n",
    "        print('Back in my day...')\n",
    "\n",
    "class Child(Parent):\n",
    "    \"\"\"\n",
    "    A child class that inherits from Parent\n",
    "    \"\"\"\n",
    "    def __init__(self):\n",
    "        Parent.__init__(self)\n",
    "        self.child_attribute = 'I am a child'\n",
    "\n",
    "\n",
    "# Create an instance of child\n",
    "child = Child()\n",
    "\n",
    "# Show attributes and methods of child class\n",
    "print(child.child_attribute)\n",
    "print(child.parent_attribute)\n",
    "child.parent_method()"
   ]
  },
  {
   "cell_type": "markdown",
   "metadata": {},
   "source": [
    "# Example #11\n",
    "<hr style = \"border:2px solid black\" ></hr>"
   ]
  },
  {
   "cell_type": "code",
   "execution_count": 2,
   "metadata": {
    "ExecuteTime": {
     "end_time": "2022-10-11T05:49:45.439764Z",
     "start_time": "2022-10-11T05:49:45.436335Z"
    }
   },
   "outputs": [],
   "source": [
    "class Dog_v2:\n",
    "    species = \"Canis familiaris\"\n",
    "\n",
    "    def __init__(self, name, age):\n",
    "        self.name = name\n",
    "        self.age = age\n",
    "\n",
    "    def __str__(self):\n",
    "        return f\"{self.name} is {self.age} years old\"\n",
    "\n",
    "    def speak(self, sound):\n",
    "        return f\"{self.name} says {sound}\""
   ]
  },
  {
   "cell_type": "code",
   "execution_count": 3,
   "metadata": {
    "ExecuteTime": {
     "end_time": "2022-10-11T05:49:45.819043Z",
     "start_time": "2022-10-11T05:49:45.815881Z"
    }
   },
   "outputs": [],
   "source": [
    "class JackRussellTerrier(Dog_v2):\n",
    "    pass\n",
    "\n",
    "class Dachshund(Dog_v2):\n",
    "    pass\n",
    "\n",
    "class Bulldog(Dog_v2):\n",
    "    pass\n"
   ]
  },
  {
   "cell_type": "code",
   "execution_count": 4,
   "metadata": {
    "ExecuteTime": {
     "end_time": "2022-10-11T05:49:46.165606Z",
     "start_time": "2022-10-11T05:49:46.162522Z"
    }
   },
   "outputs": [],
   "source": [
    "miles = JackRussellTerrier(\"Miles\", 4)\n",
    "buddy = Dachshund(\"Buddy\", 9)\n",
    "jack = Bulldog(\"Jack\", 3)\n",
    "jim = Bulldog(\"Jim\", 5)"
   ]
  },
  {
   "cell_type": "code",
   "execution_count": 5,
   "metadata": {
    "ExecuteTime": {
     "end_time": "2022-10-11T05:49:46.448302Z",
     "start_time": "2022-10-11T05:49:46.436777Z"
    }
   },
   "outputs": [
    {
     "data": {
      "text/plain": [
       "'Jim says Woof'"
      ]
     },
     "execution_count": 5,
     "metadata": {},
     "output_type": "execute_result"
    }
   ],
   "source": [
    "jim.speak(\"Woof\")"
   ]
  },
  {
   "cell_type": "markdown",
   "metadata": {},
   "source": [
    "<div class=\"alert alert-block alert-info\">\n",
    "<font color=black>\n",
    "\n",
    "- To determine which class a given object belongs to, you can use the built-in `type()`\n",
    "\n",
    "</font>\n",
    "</div>"
   ]
  },
  {
   "cell_type": "code",
   "execution_count": 6,
   "metadata": {
    "ExecuteTime": {
     "end_time": "2022-10-11T05:49:47.270998Z",
     "start_time": "2022-10-11T05:49:47.267220Z"
    }
   },
   "outputs": [
    {
     "data": {
      "text/plain": [
       "__main__.Bulldog"
      ]
     },
     "execution_count": 6,
     "metadata": {},
     "output_type": "execute_result"
    }
   ],
   "source": [
    "type(jim)"
   ]
  },
  {
   "cell_type": "markdown",
   "metadata": {},
   "source": [
    "<div class=\"alert alert-block alert-info\">\n",
    "<font color=black>\n",
    "\n",
    "- What if you want to determine if jim is an instance of the Dog_v2 class? You can do this with the built-in isinstance()?\n",
    "- `isinstance()` takes two arguments, an object and a class. \n",
    "\n",
    "</font>\n",
    "</div>"
   ]
  },
  {
   "cell_type": "code",
   "execution_count": 7,
   "metadata": {
    "ExecuteTime": {
     "end_time": "2022-10-11T05:49:48.218767Z",
     "start_time": "2022-10-11T05:49:48.215064Z"
    }
   },
   "outputs": [
    {
     "data": {
      "text/plain": [
       "True"
      ]
     },
     "execution_count": 7,
     "metadata": {},
     "output_type": "execute_result"
    }
   ],
   "source": [
    "isinstance(jim, Dog_v2)"
   ]
  },
  {
   "cell_type": "code",
   "execution_count": 8,
   "metadata": {
    "ExecuteTime": {
     "end_time": "2022-10-11T05:50:05.727600Z",
     "start_time": "2022-10-11T05:50:05.723627Z"
    }
   },
   "outputs": [
    {
     "data": {
      "text/plain": [
       "True"
      ]
     },
     "execution_count": 8,
     "metadata": {},
     "output_type": "execute_result"
    }
   ],
   "source": [
    "isinstance(jim, Bulldog)"
   ]
  },
  {
   "cell_type": "markdown",
   "metadata": {},
   "source": [
    "<div class=\"alert alert-block alert-info\">\n",
    "<font color=black>\n",
    "\n",
    "- To override a method defined on the parent class, you define a method with the same name on the child class.\n",
    "\n",
    "</font>\n",
    "</div>"
   ]
  },
  {
   "cell_type": "code",
   "execution_count": 9,
   "metadata": {
    "ExecuteTime": {
     "end_time": "2022-10-11T05:50:25.501148Z",
     "start_time": "2022-10-11T05:50:25.497564Z"
    }
   },
   "outputs": [
    {
     "data": {
      "text/plain": [
       "'Jim says Woof'"
      ]
     },
     "execution_count": 9,
     "metadata": {},
     "output_type": "execute_result"
    }
   ],
   "source": [
    "# Before we have\n",
    "jim.speak(\"Woof\")"
   ]
  },
  {
   "cell_type": "code",
   "execution_count": 10,
   "metadata": {
    "ExecuteTime": {
     "end_time": "2022-10-11T05:50:31.894245Z",
     "start_time": "2022-10-11T05:50:31.891376Z"
    }
   },
   "outputs": [],
   "source": [
    "class Bulldog(Dog_v2):\n",
    "    def speak(self, sound=\"Arf\"):\n",
    "        return f\"{self.name} says {sound}\"\n"
   ]
  },
  {
   "cell_type": "code",
   "execution_count": 11,
   "metadata": {
    "ExecuteTime": {
     "end_time": "2022-10-11T05:50:40.149100Z",
     "start_time": "2022-10-11T05:50:40.144906Z"
    }
   },
   "outputs": [
    {
     "data": {
      "text/plain": [
       "'Jim says Arf'"
      ]
     },
     "execution_count": 11,
     "metadata": {},
     "output_type": "execute_result"
    }
   ],
   "source": [
    "# Before we have\n",
    "jim = Bulldog(\"Jim\", 5)\n",
    "jim.speak()"
   ]
  },
  {
   "cell_type": "markdown",
   "metadata": {},
   "source": [
    "# Inheritance of object attributes\n",
    "<hr style = \"border:2px solid black\" ></hr>"
   ]
  },
  {
   "cell_type": "markdown",
   "metadata": {},
   "source": [
    "<div class=\"alert alert-info\">\n",
    "<font color=black>\n",
    "\n",
    "- Let say we want to do multiple base class inheritance.\n",
    "- Each base class has methods and object attributes (not clas attributes). Object attributes are those related to the object, in shorts those inside the `__init__` construct.\n",
    "- We'd like to use the `.` dot notation and have access to the base classes object attributes.\n",
    "- To achieve this you need have `super.__init__()` in each base class otherwise the second base class object attributes would not be inheritated.\n",
    "- ** This is becase** calling `super().__init__()` calls `__init__` calls only the first base `__init__` method. \n",
    "\n",
    "</font>\n",
    "</div>"
   ]
  },
  {
   "cell_type": "code",
   "execution_count": 35,
   "metadata": {
    "ExecuteTime": {
     "end_time": "2022-09-09T18:31:24.913455Z",
     "start_time": "2022-09-09T18:31:24.910563Z"
    },
    "cell_style": "split"
   },
   "outputs": [],
   "source": [
    "class BASEA:\n",
    "    def __init__(self, a=1):\n",
    "        self.a=a\n",
    "        super().__init__(self.a)\n",
    "    def return_a(self, a):\n",
    "        return a"
   ]
  },
  {
   "cell_type": "code",
   "execution_count": 36,
   "metadata": {
    "ExecuteTime": {
     "end_time": "2022-09-09T18:31:24.918462Z",
     "start_time": "2022-09-09T18:31:24.915706Z"
    },
    "cell_style": "split"
   },
   "outputs": [],
   "source": [
    "class BASEB:\n",
    "    def __init__(self, b=1):\n",
    "        self.b=b\n",
    "    def return_b(self, b):\n",
    "        return b"
   ]
  },
  {
   "cell_type": "code",
   "execution_count": 37,
   "metadata": {
    "ExecuteTime": {
     "end_time": "2022-09-09T18:31:24.923546Z",
     "start_time": "2022-09-09T18:31:24.920505Z"
    }
   },
   "outputs": [],
   "source": [
    "class C(BASEA, BASEB):\n",
    "    def __init__(self, c=1):\n",
    "        self.c = c\n",
    "        super().__init__(self.c)\n",
    "\n",
    "    def return_c(self, c):\n",
    "        return c"
   ]
  },
  {
   "cell_type": "code",
   "execution_count": 38,
   "metadata": {
    "ExecuteTime": {
     "end_time": "2022-09-09T18:31:24.928361Z",
     "start_time": "2022-09-09T18:31:24.925720Z"
    },
    "cell_style": "center"
   },
   "outputs": [],
   "source": [
    "# instantiate derived class C\n",
    "c = C(2)"
   ]
  },
  {
   "cell_type": "code",
   "execution_count": 39,
   "metadata": {
    "ExecuteTime": {
     "end_time": "2022-09-09T18:31:24.934345Z",
     "start_time": "2022-09-09T18:31:24.930416Z"
    },
    "scrolled": true
   },
   "outputs": [
    {
     "data": {
      "text/plain": [
       "['__class__',\n",
       " '__delattr__',\n",
       " '__dict__',\n",
       " '__dir__',\n",
       " '__doc__',\n",
       " '__eq__',\n",
       " '__format__',\n",
       " '__ge__',\n",
       " '__getattribute__',\n",
       " '__gt__',\n",
       " '__hash__',\n",
       " '__init__',\n",
       " '__init_subclass__',\n",
       " '__le__',\n",
       " '__lt__',\n",
       " '__module__',\n",
       " '__ne__',\n",
       " '__new__',\n",
       " '__reduce__',\n",
       " '__reduce_ex__',\n",
       " '__repr__',\n",
       " '__setattr__',\n",
       " '__sizeof__',\n",
       " '__str__',\n",
       " '__subclasshook__',\n",
       " '__weakref__',\n",
       " 'a',\n",
       " 'b',\n",
       " 'c',\n",
       " 'return_a',\n",
       " 'return_b',\n",
       " 'return_c']"
      ]
     },
     "execution_count": 39,
     "metadata": {},
     "output_type": "execute_result"
    }
   ],
   "source": [
    "# check which method are available\n",
    "dir(c)"
   ]
  },
  {
   "cell_type": "code",
   "execution_count": 40,
   "metadata": {
    "ExecuteTime": {
     "end_time": "2022-09-09T18:31:24.940326Z",
     "start_time": "2022-09-09T18:31:24.936477Z"
    }
   },
   "outputs": [
    {
     "data": {
      "text/plain": [
       "{'c': 2, 'a': 2, 'b': 2}"
      ]
     },
     "execution_count": 40,
     "metadata": {},
     "output_type": "execute_result"
    }
   ],
   "source": [
    "c.__dict__"
   ]
  },
  {
   "cell_type": "markdown",
   "metadata": {},
   "source": [
    "<div class=\"alert alert-info\">\n",
    "<font color=black>\n",
    "\n",
    "- If you forget to ass `super.__init__()` under the first base class `__init__` you will nto inheritate the second base class object attributes.\n",
    "- Here is an example.\n",
    "\n",
    "</font>\n",
    "</div>"
   ]
  },
  {
   "cell_type": "code",
   "execution_count": 41,
   "metadata": {
    "ExecuteTime": {
     "end_time": "2022-09-09T18:31:24.945530Z",
     "start_time": "2022-09-09T18:31:24.942251Z"
    },
    "cell_style": "split"
   },
   "outputs": [],
   "source": [
    "class BASEA:\n",
    "    def __init__(self, a=1):\n",
    "        self.a=a\n",
    "        #super().__init__()\n",
    "    def return_a(self, a):\n",
    "        return a"
   ]
  },
  {
   "cell_type": "code",
   "execution_count": 42,
   "metadata": {
    "ExecuteTime": {
     "end_time": "2022-09-09T18:31:24.950239Z",
     "start_time": "2022-09-09T18:31:24.947636Z"
    },
    "cell_style": "split"
   },
   "outputs": [],
   "source": [
    "class BASEB:\n",
    "    def __init__(self, b=1):\n",
    "        self.b=b\n",
    "    def return_b(self, b):\n",
    "        return b"
   ]
  },
  {
   "cell_type": "code",
   "execution_count": 43,
   "metadata": {
    "ExecuteTime": {
     "end_time": "2022-09-09T18:31:24.955287Z",
     "start_time": "2022-09-09T18:31:24.952331Z"
    }
   },
   "outputs": [],
   "source": [
    "class C(BASEA,BASEB):\n",
    "    def __init__(self, c=1):\n",
    "        self.c=c\n",
    "        super().__init__()\n",
    "    def return_c(self, c):\n",
    "        return c"
   ]
  },
  {
   "cell_type": "code",
   "execution_count": 44,
   "metadata": {
    "ExecuteTime": {
     "end_time": "2022-09-09T18:31:24.967820Z",
     "start_time": "2022-09-09T18:31:24.965103Z"
    }
   },
   "outputs": [],
   "source": [
    "b=BASEB(b=1)"
   ]
  },
  {
   "cell_type": "code",
   "execution_count": 45,
   "metadata": {
    "ExecuteTime": {
     "end_time": "2022-09-09T18:31:24.972056Z",
     "start_time": "2022-09-09T18:31:24.969633Z"
    }
   },
   "outputs": [],
   "source": [
    "c=C(1)"
   ]
  },
  {
   "cell_type": "code",
   "execution_count": 46,
   "metadata": {
    "ExecuteTime": {
     "end_time": "2022-09-09T18:31:24.977417Z",
     "start_time": "2022-09-09T18:31:24.974046Z"
    }
   },
   "outputs": [
    {
     "data": {
      "text/plain": [
       "dict_keys(['c', 'a'])"
      ]
     },
     "execution_count": 46,
     "metadata": {},
     "output_type": "execute_result"
    }
   ],
   "source": [
    "# As you can see object attribute b is NOT listed!\n",
    "c.__dict__.keys()"
   ]
  },
  {
   "cell_type": "markdown",
   "metadata": {},
   "source": [
    "# Instantiating a base class in multiple inheritance\n",
    "<hr style = \"border:2px solid black\" ></hr>"
   ]
  },
  {
   "cell_type": "markdown",
   "metadata": {},
   "source": [
    "<div class=\"alert alert-info\">\n",
    "<font color=black>\n",
    "\n",
    "- The case is similar to the case above, but an error is thrown if we try to instatiate one of the base class.\n",
    "- We'll first replicate the problem and then, we'll suggestion a solution.\n",
    "\n",
    "</font>\n",
    "</div>"
   ]
  },
  {
   "cell_type": "code",
   "execution_count": 47,
   "metadata": {
    "ExecuteTime": {
     "end_time": "2022-09-09T18:31:24.982783Z",
     "start_time": "2022-09-09T18:31:24.979434Z"
    },
    "cell_style": "split"
   },
   "outputs": [],
   "source": [
    "class BASEA:\n",
    "    def __init__(self, a=1):\n",
    "        self.a=a\n",
    "        super(self).__init__(self.a)\n",
    "    def return_a(self, a):\n",
    "        return a"
   ]
  },
  {
   "cell_type": "code",
   "execution_count": 48,
   "metadata": {
    "ExecuteTime": {
     "end_time": "2022-09-09T18:31:24.987678Z",
     "start_time": "2022-09-09T18:31:24.984775Z"
    },
    "cell_style": "split"
   },
   "outputs": [],
   "source": [
    "class BASEB:\n",
    "    def __init__(self, b=1):\n",
    "        self.b=b\n",
    "    def return_b(self, b):\n",
    "        return b"
   ]
  },
  {
   "cell_type": "code",
   "execution_count": 49,
   "metadata": {
    "ExecuteTime": {
     "end_time": "2022-09-09T18:31:24.992492Z",
     "start_time": "2022-09-09T18:31:24.989535Z"
    }
   },
   "outputs": [],
   "source": [
    "class C(BASEA, BASEB):\n",
    "    def __init__(self, c=1):\n",
    "        self.c = c\n",
    "        super().__init__(self.c)\n",
    "\n",
    "    def return_c(self, c):\n",
    "        return c"
   ]
  },
  {
   "cell_type": "code",
   "execution_count": 50,
   "metadata": {
    "ExecuteTime": {
     "end_time": "2022-09-09T18:31:25.102172Z",
     "start_time": "2022-09-09T18:31:24.994439Z"
    }
   },
   "outputs": [
    {
     "ename": "TypeError",
     "evalue": "super() argument 1 must be type, not BASEA",
     "output_type": "error",
     "traceback": [
      "\u001b[0;31m---------------------------------------------------------------------------\u001b[0m",
      "\u001b[0;31mTypeError\u001b[0m                                 Traceback (most recent call last)",
      "\u001b[0;32m/var/folders/5x/lyqr8wv507n43bnwpsz4dq_c0000gn/T/ipykernel_89938/1763243571.py\u001b[0m in \u001b[0;36m<module>\u001b[0;34m\u001b[0m\n\u001b[1;32m      1\u001b[0m \u001b[0;31m# Replicating the error\u001b[0m\u001b[0;34m\u001b[0m\u001b[0;34m\u001b[0m\u001b[0m\n\u001b[0;32m----> 2\u001b[0;31m \u001b[0mA\u001b[0m\u001b[0;34m=\u001b[0m\u001b[0mBASEA\u001b[0m\u001b[0;34m(\u001b[0m\u001b[0;36m1\u001b[0m\u001b[0;34m)\u001b[0m\u001b[0;34m\u001b[0m\u001b[0;34m\u001b[0m\u001b[0m\n\u001b[0m",
      "\u001b[0;32m/var/folders/5x/lyqr8wv507n43bnwpsz4dq_c0000gn/T/ipykernel_89938/2625010282.py\u001b[0m in \u001b[0;36m__init__\u001b[0;34m(self, a)\u001b[0m\n\u001b[1;32m      2\u001b[0m     \u001b[0;32mdef\u001b[0m \u001b[0m__init__\u001b[0m\u001b[0;34m(\u001b[0m\u001b[0mself\u001b[0m\u001b[0;34m,\u001b[0m \u001b[0ma\u001b[0m\u001b[0;34m=\u001b[0m\u001b[0;36m1\u001b[0m\u001b[0;34m)\u001b[0m\u001b[0;34m:\u001b[0m\u001b[0;34m\u001b[0m\u001b[0;34m\u001b[0m\u001b[0m\n\u001b[1;32m      3\u001b[0m         \u001b[0mself\u001b[0m\u001b[0;34m.\u001b[0m\u001b[0ma\u001b[0m\u001b[0;34m=\u001b[0m\u001b[0ma\u001b[0m\u001b[0;34m\u001b[0m\u001b[0;34m\u001b[0m\u001b[0m\n\u001b[0;32m----> 4\u001b[0;31m         \u001b[0msuper\u001b[0m\u001b[0;34m(\u001b[0m\u001b[0mself\u001b[0m\u001b[0;34m)\u001b[0m\u001b[0;34m.\u001b[0m\u001b[0m__init__\u001b[0m\u001b[0;34m(\u001b[0m\u001b[0mself\u001b[0m\u001b[0;34m.\u001b[0m\u001b[0ma\u001b[0m\u001b[0;34m)\u001b[0m\u001b[0;34m\u001b[0m\u001b[0;34m\u001b[0m\u001b[0m\n\u001b[0m\u001b[1;32m      5\u001b[0m     \u001b[0;32mdef\u001b[0m \u001b[0mreturn_a\u001b[0m\u001b[0;34m(\u001b[0m\u001b[0mself\u001b[0m\u001b[0;34m,\u001b[0m \u001b[0ma\u001b[0m\u001b[0;34m)\u001b[0m\u001b[0;34m:\u001b[0m\u001b[0;34m\u001b[0m\u001b[0;34m\u001b[0m\u001b[0m\n\u001b[1;32m      6\u001b[0m         \u001b[0;32mreturn\u001b[0m \u001b[0ma\u001b[0m\u001b[0;34m\u001b[0m\u001b[0;34m\u001b[0m\u001b[0m\n",
      "\u001b[0;31mTypeError\u001b[0m: super() argument 1 must be type, not BASEA"
     ]
    }
   ],
   "source": [
    "# Replicating the error\n",
    "A=BASEA(1)"
   ]
  },
  {
   "cell_type": "code",
   "execution_count": 51,
   "metadata": {
    "ExecuteTime": {
     "end_time": "2022-09-09T18:31:31.182934Z",
     "start_time": "2022-09-09T18:31:31.179525Z"
    }
   },
   "outputs": [],
   "source": [
    "class BASEA:\n",
    "    def __init__(self, a=1):\n",
    "        self.a=a\n",
    "        #super(self).__init__(self.a)\n",
    "    def return_a(self, a):\n",
    "        return a"
   ]
  },
  {
   "cell_type": "code",
   "execution_count": 52,
   "metadata": {
    "ExecuteTime": {
     "end_time": "2022-09-09T18:31:31.578117Z",
     "start_time": "2022-09-09T18:31:31.574355Z"
    }
   },
   "outputs": [],
   "source": [
    "class C(BASEA, BASEB):\n",
    "    def __init__(self, c=1):\n",
    "        self.c = c\n",
    "        # super().__init__(self.c)\n",
    "        BASEA.__init__(self, self.c)\n",
    "        BASEB.__init__(self, self.c)\n",
    "\n",
    "    def return_c(self, c):\n",
    "        return c"
   ]
  },
  {
   "cell_type": "code",
   "execution_count": 53,
   "metadata": {
    "ExecuteTime": {
     "end_time": "2022-09-09T18:31:31.837659Z",
     "start_time": "2022-09-09T18:31:31.835230Z"
    }
   },
   "outputs": [],
   "source": [
    "#  The issue is solved\n",
    "A = BASEA(1)"
   ]
  },
  {
   "cell_type": "markdown",
   "metadata": {},
   "source": [
    "# References\n",
    "<hr style=\"border:2px solid black\"> </hr>"
   ]
  },
  {
   "cell_type": "markdown",
   "metadata": {},
   "source": [
    "<div class=\"alert alert-warning\">\n",
    "<font color=black>\n",
    "\n",
    "- https://stackoverflow.com/questions/10909032/access-parent-class-instance-attribute-from-child-class-instance\n",
    "- https://stackoverflow.com/questions/3277367/how-does-pythons-super-work-with-multiple-inheritance\n",
    "- https://www.datacamp.com/community/tutorials/super-multiple-inheritance-diamond-problem\n",
    "- https://medium.com/@taohidulii/playing-with-inheritance-in-python-73ea4f3b669e\n",
    "- https://stackoverflow.com/questions/52959041/multiple-inheritance-the-derived-class-gets-attributes-from-one-base-class-only\n",
    "- https://stackoverflow.com/questions/9575409/calling-parent-class-init-with-multiple-inheritance-whats-the-right-way\n",
    "- https://www.python-course.eu/python3_inheritance.php \n",
    "- http://python-history.blogspot.ru/2010/06/method-resolution-order.html\n",
    "- http://gistroll.com/rolls/21/horizontal_assessments/new](http://gistroll.com/rolls/21/horizontal_assessments/new\n",
    "- https://nbviewer.org/github/rasbt/python_reference/blob/master/tutorials/not_so_obvious_python_stuff.ipynb?create=1\n",
    "- https://blog.pilosus.org/posts/2019/05/02/python-mro/\n",
    "    \n",
    "</font>\n",
    "</div>"
   ]
  },
  {
   "cell_type": "code",
   "execution_count": null,
   "metadata": {},
   "outputs": [],
   "source": []
  }
 ],
 "metadata": {
  "kernelspec": {
   "display_name": "trainingAI",
   "language": "python",
   "name": "trainingai"
  },
  "language_info": {
   "codemirror_mode": {
    "name": "ipython",
    "version": 3
   },
   "file_extension": ".py",
   "mimetype": "text/x-python",
   "name": "python",
   "nbconvert_exporter": "python",
   "pygments_lexer": "ipython3",
   "version": "3.9.7"
  },
  "toc": {
   "base_numbering": 1,
   "nav_menu": {},
   "number_sections": true,
   "sideBar": true,
   "skip_h1_title": false,
   "title_cell": "Table of Contents",
   "title_sidebar": "Contents",
   "toc_cell": true,
   "toc_position": {
    "height": "calc(100% - 180px)",
    "left": "10px",
    "top": "150px",
    "width": "292px"
   },
   "toc_section_display": true,
   "toc_window_display": true
  },
  "varInspector": {
   "cols": {
    "lenName": 16,
    "lenType": 16,
    "lenVar": 40
   },
   "kernels_config": {
    "python": {
     "delete_cmd_postfix": "",
     "delete_cmd_prefix": "del ",
     "library": "var_list.py",
     "varRefreshCmd": "print(var_dic_list())"
    },
    "r": {
     "delete_cmd_postfix": ") ",
     "delete_cmd_prefix": "rm(",
     "library": "var_list.r",
     "varRefreshCmd": "cat(var_dic_list()) "
    }
   },
   "types_to_exclude": [
    "module",
    "function",
    "builtin_function_or_method",
    "instance",
    "_Feature"
   ],
   "window_display": false
  }
 },
 "nbformat": 4,
 "nbformat_minor": 2
}
