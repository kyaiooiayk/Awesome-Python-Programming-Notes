{
 "cells": [
  {
   "cell_type": "markdown",
   "metadata": {
    "toc": true
   },
   "source": [
    "<h1>Table of Contents<span class=\"tocSkip\"></span></h1>\n",
    "<div class=\"toc\"><ul class=\"toc-item\"><li><span><a href=\"#Introduction\" data-toc-modified-id=\"Introduction-1\"><span class=\"toc-item-num\">1&nbsp;&nbsp;</span>Introduction</a></span></li><li><span><a href=\"#super()-and-mro\" data-toc-modified-id=\"super()-and-mro-2\"><span class=\"toc-item-num\">2&nbsp;&nbsp;</span><code>super()</code> and <strong>mro</strong></a></span></li><li><span><a href=\"#Example-#1\" data-toc-modified-id=\"Example-#1-3\"><span class=\"toc-item-num\">3&nbsp;&nbsp;</span>Example #1</a></span></li><li><span><a href=\"#Example-#2\" data-toc-modified-id=\"Example-#2-4\"><span class=\"toc-item-num\">4&nbsp;&nbsp;</span>Example #2</a></span></li><li><span><a href=\"#Example-#3\" data-toc-modified-id=\"Example-#3-5\"><span class=\"toc-item-num\">5&nbsp;&nbsp;</span>Example #3</a></span></li><li><span><a href=\"#Example-#4\" data-toc-modified-id=\"Example-#4-6\"><span class=\"toc-item-num\">6&nbsp;&nbsp;</span>Example #4</a></span></li><li><span><a href=\"#Example-#5\" data-toc-modified-id=\"Example-#5-7\"><span class=\"toc-item-num\">7&nbsp;&nbsp;</span>Example #5</a></span></li><li><span><a href=\"#Example-#6\" data-toc-modified-id=\"Example-#6-8\"><span class=\"toc-item-num\">8&nbsp;&nbsp;</span>Example #6</a></span></li><li><span><a href=\"#Example-#7\" data-toc-modified-id=\"Example-#7-9\"><span class=\"toc-item-num\">9&nbsp;&nbsp;</span>Example #7</a></span></li><li><span><a href=\"#Example-#8\" data-toc-modified-id=\"Example-#8-10\"><span class=\"toc-item-num\">10&nbsp;&nbsp;</span>Example #8</a></span></li><li><span><a href=\"#Example-#9\" data-toc-modified-id=\"Example-#9-11\"><span class=\"toc-item-num\">11&nbsp;&nbsp;</span>Example #9</a></span></li><li><span><a href=\"#Example-#10\" data-toc-modified-id=\"Example-#10-12\"><span class=\"toc-item-num\">12&nbsp;&nbsp;</span>Example #10</a></span></li><li><span><a href=\"#Inheritance-of-object-attributes\" data-toc-modified-id=\"Inheritance-of-object-attributes-13\"><span class=\"toc-item-num\">13&nbsp;&nbsp;</span>Inheritance of object attributes</a></span></li><li><span><a href=\"#References\" data-toc-modified-id=\"References-14\"><span class=\"toc-item-num\">14&nbsp;&nbsp;</span>References</a></span></li></ul></div>"
   ]
  },
  {
   "cell_type": "markdown",
   "metadata": {},
   "source": [
    "# Introduction\n",
    "<hr style=\"border:2px solid black\"> </hr>"
   ]
  },
  {
   "cell_type": "markdown",
   "metadata": {},
   "source": [
    "\n",
    "**What?** Inheritance in all its flavours\n",
    "\n"
   ]
  },
  {
   "cell_type": "markdown",
   "metadata": {},
   "source": [
    "# `super()` and __mro__"
   ]
  },
  {
   "cell_type": "markdown",
   "metadata": {},
   "source": [
    "\n",
    "- **First tool**: everything descent from `object`\n",
    "- **Second rule**: Python computes a method resolution order (MRO) based on your class inheritance tree. \n",
    "- The MRO satisfies 3 properties:\n",
    "    - Children of a class come before their parents\n",
    "    - Left parents come before right parents\n",
    "    - A class only appears once in the MRO\n",
    "<br><br>\n",
    "- When a method is called, the first occurrence of that method in the MRO is the one that is called. \n",
    "- Any class that doesn't implement that method is skipped. Any call to super within that method will call the next occurrence of that method in the MRO. \n",
    "- Consequently, it matters both what order you place classes in inheritance, **AND** where you put the calls to super in the methods.\n",
    "<br><br>\n",
    "- **Cons**: It can be argued that using `super` here makes the code less explicit. Making code less explicit violates The Zen of Python, which states, \"Explicit is better than implicit.\"\n",
    "- **Pros**: There is a maintainability argument that can be made for `super` even in single inheritance. If for whatever reason your child class changes its inheritance pattern (i.e., parent class changes or there's a shift to multiple inheritance) then there's no need find and replace all the lingering references to `ParentClass.method_name()`; the use of `super` will allow all the changes to flow through with the change in the class statement.\n",
    "\n"
   ]
  },
  {
   "cell_type": "markdown",
   "metadata": {},
   "source": [
    "# Example #1\n",
    "<hr style=\"border:2px solid black\"> </hr>"
   ]
  },
  {
   "cell_type": "markdown",
   "metadata": {},
   "source": [
    "\n",
    "- Accessing parent class object attribues from child class.\n",
    "\n"
   ]
  },
  {
   "cell_type": "code",
   "execution_count": 70,
   "metadata": {},
   "outputs": [],
   "source": [
    "class Parent():\n",
    "    def __init__(self):\n",
    "        self.ParentObjectAttribute = 1\n",
    "\n",
    "class Child(Parent):\n",
    "    def __init__(self):\n",
    "        self.ChildObjectAttribute = 2\n",
    "        Parent.__init__(self)\n",
    "\n",
    "        # here you can access myvar like below.\n",
    "        print(\"Calling from inside __init__\", self.ParentObjectAttribute)"
   ]
  },
  {
   "cell_type": "code",
   "execution_count": 71,
   "metadata": {},
   "outputs": [
    {
     "name": "stdout",
     "output_type": "stream",
     "text": [
      "Calling from inside __init__ 1\n",
      "2\n",
      "1\n"
     ]
    }
   ],
   "source": [
    "child = Child()\n",
    "print(child.ChildObjectAttribute)\n",
    "print(child.ParentObjectAttribute)"
   ]
  },
  {
   "cell_type": "code",
   "execution_count": 72,
   "metadata": {},
   "outputs": [
    {
     "name": "stdout",
     "output_type": "stream",
     "text": [
      "Calling from inside __init__ 1\n",
      "2\n",
      "1\n"
     ]
    }
   ],
   "source": [
    "class Parent():\n",
    "    def __init__(self):\n",
    "        self.ParentObjectAttribute = 1\n",
    "\n",
    "class Child(Parent):\n",
    "    def __init__(self):\n",
    "        self.ChildObjectAttribute = 2\n",
    "        super().__init__()\n",
    "\n",
    "        # here you can access myvar like below.\n",
    "        print(\"Calling from inside __init__\", self.ParentObjectAttribute)\n",
    "\n",
    "child = Child()\n",
    "print(child.ChildObjectAttribute)\n",
    "print(child.ParentObjectAttribute)"
   ]
  },
  {
   "cell_type": "markdown",
   "metadata": {},
   "source": [
    "# Example #2\n",
    "<hr style=\"border:2px solid black\"> </hr>"
   ]
  },
  {
   "cell_type": "markdown",
   "metadata": {},
   "source": [
    "\n",
    "- There is also a way to directly call each inherited class.\n",
    "\n"
   ]
  },
  {
   "cell_type": "code",
   "execution_count": 84,
   "metadata": {},
   "outputs": [
    {
     "name": "stdout",
     "output_type": "stream",
     "text": [
      "Calling from __init__\n",
      "3\n",
      "1\n",
      "2\n",
      "Calling from object\n",
      "3\n",
      "1\n",
      "2\n"
     ]
    }
   ],
   "source": [
    "class Parent1():\n",
    "    def __init__(self):\n",
    "        self.Parent1ObjectAttribute = 1\n",
    "\n",
    "class Parent2():\n",
    "    def __init__(self):\n",
    "        self.Parent2ObjectAttribute = 2\n",
    "        \n",
    "class Child(Parent1, Parent2):\n",
    "    def __init__(self):\n",
    "        self.ChildObjectAttribute = 3\n",
    "        Parent2.__init__(self)\n",
    "        Parent1.__init__(self)\n",
    "\n",
    "        print(\"Calling from __init__\")\n",
    "        print(self.ChildObjectAttribute)\n",
    "        print(self.Parent1ObjectAttribute)\n",
    "        print(self.Parent2ObjectAttribute)\n",
    "\n",
    "child = Child()\n",
    "print(\"Calling from object\")\n",
    "print(child.ChildObjectAttribute)\n",
    "print(child.Parent1ObjectAttribute)\n",
    "print(child.Parent2ObjectAttribute)"
   ]
  },
  {
   "cell_type": "code",
   "execution_count": 85,
   "metadata": {},
   "outputs": [
    {
     "data": {
      "text/plain": [
       "(__main__.Child, __main__.Parent1, __main__.Parent2, object)"
      ]
     },
     "execution_count": 85,
     "metadata": {},
     "output_type": "execute_result"
    }
   ],
   "source": [
    "Child.__mro__"
   ]
  },
  {
   "cell_type": "code",
   "execution_count": 86,
   "metadata": {},
   "outputs": [
    {
     "data": {
      "text/plain": [
       "{'ChildObjectAttribute': 3,\n",
       " 'Parent2ObjectAttribute': 2,\n",
       " 'Parent1ObjectAttribute': 1}"
      ]
     },
     "execution_count": 86,
     "metadata": {},
     "output_type": "execute_result"
    }
   ],
   "source": [
    "child.__dict__"
   ]
  },
  {
   "cell_type": "markdown",
   "metadata": {},
   "source": [
    "\n",
    "- Super is **about** following the chain of inheritance, not getting to a specific class's method.\n",
    "- Multiple inheritance is the **ONLY** case where super() is of any use. \n",
    "- I would not recommend using it with classes using linear inheritance, where it's just **useless** overhead. \n",
    "- But this argument can be challenged and you'll find many developer not using it.s\n",
    "\n"
   ]
  },
  {
   "cell_type": "code",
   "execution_count": 209,
   "metadata": {},
   "outputs": [
    {
     "name": "stdout",
     "output_type": "stream",
     "text": [
      "calling Parent1\n",
      "calling Parent2\n",
      "Calling from __init__\n",
      "3\n",
      "1\n",
      "2\n",
      "Calling from object\n",
      "3\n",
      "1\n",
      "2\n"
     ]
    }
   ],
   "source": [
    "\"\"\"\n",
    "Can we achieve the same with super()?\n",
    "\"\"\"\n",
    "class Parent1():\n",
    "    def __init__(self):\n",
    "        print(\"calling Parent1\")\n",
    "        super(Parent1, self).__init__()\n",
    "        self.Parent1ObjectAttribute = 1\n",
    "\n",
    "class Parent2():\n",
    "    def __init__(self):\n",
    "        print(\"calling Parent2\")\n",
    "        super(Parent2, self).__init__()\n",
    "        self.Parent2ObjectAttribute = 2\n",
    "        \n",
    "class Child(Parent1, Parent2):\n",
    "    def __init__(self):\n",
    "        super(Child, self).__init__()\n",
    "        self.ChildObjectAttribute = 3        \n",
    "\n",
    "        print(\"Calling from __init__\")\n",
    "        print(self.ChildObjectAttribute)\n",
    "        print(self.Parent1ObjectAttribute)\n",
    "        print(self.Parent2ObjectAttribute)\n",
    "\n",
    "child = Child()\n",
    "print(\"Calling from object\")\n",
    "print(child.ChildObjectAttribute)\n",
    "print(child.Parent1ObjectAttribute)\n",
    "print(child.Parent2ObjectAttribute)"
   ]
  },
  {
   "cell_type": "code",
   "execution_count": 171,
   "metadata": {},
   "outputs": [
    {
     "data": {
      "text/plain": [
       "{'Parent2ObjectAttribute': 2,\n",
       " 'Parent1ObjectAttribute': 1,\n",
       " 'ChildObjectAttribute': 3}"
      ]
     },
     "execution_count": 171,
     "metadata": {},
     "output_type": "execute_result"
    }
   ],
   "source": [
    "child.__dict__"
   ]
  },
  {
   "cell_type": "code",
   "execution_count": 173,
   "metadata": {},
   "outputs": [
    {
     "data": {
      "text/plain": [
       "(__main__.Child, __main__.Parent1, __main__.Parent2, object)"
      ]
     },
     "execution_count": 173,
     "metadata": {},
     "output_type": "execute_result"
    }
   ],
   "source": [
    "Child.__mro__"
   ]
  },
  {
   "cell_type": "markdown",
   "metadata": {},
   "source": [
    "# Example #3\n",
    "<hr style=\"border:2px solid black\"> </hr>"
   ]
  },
  {
   "cell_type": "code",
   "execution_count": 188,
   "metadata": {},
   "outputs": [],
   "source": [
    "class Parent():\n",
    "    def __init__(self):\n",
    "        super(Parent, self).__init__()\n",
    "        print(\"parent\")\n",
    "\n",
    "class Left(Parent):\n",
    "    def __init__(self):\n",
    "        super(Left, self).__init__()\n",
    "        print(\"left\")\n",
    "\n",
    "class Right(Parent):\n",
    "    def __init__(self):\n",
    "        super(Right, self).__init__()\n",
    "        print(\"right\")\n",
    "\n",
    "class Child(Left, Right):\n",
    "    def __init__(self):\n",
    "        super(Child, self).__init__()\n",
    "        print(\"child\")"
   ]
  },
  {
   "cell_type": "code",
   "execution_count": 189,
   "metadata": {},
   "outputs": [
    {
     "name": "stdout",
     "output_type": "stream",
     "text": [
      "parent\n",
      "right\n",
      "left\n",
      "child\n"
     ]
    },
    {
     "data": {
      "text/plain": [
       "<__main__.Child at 0x1128bd610>"
      ]
     },
     "execution_count": 189,
     "metadata": {},
     "output_type": "execute_result"
    }
   ],
   "source": [
    "Child()"
   ]
  },
  {
   "cell_type": "code",
   "execution_count": 203,
   "metadata": {},
   "outputs": [],
   "source": [
    "\"\"\"\n",
    "With super last in each method.\n",
    "So it impportant where this is placed under \n",
    "__init__\n",
    "\"\"\"\n",
    "class Parent():\n",
    "    def __init__(self):\n",
    "        print(\"parent\")\n",
    "        super(Parent, self).__init__()\n",
    "\n",
    "class Left(Parent):\n",
    "    def __init__(self):\n",
    "        print(\"left\")\n",
    "        super(Left, self).__init__()\n",
    "\n",
    "class Right(Parent):\n",
    "    def __init__(self):\n",
    "        print(\"right\")\n",
    "        super(Right, self).__init__()\n",
    "\n",
    "class Child(Left, Right):\n",
    "    def __init__(self):\n",
    "        print(\"child\")\n",
    "        super(Child, self).__init__()"
   ]
  },
  {
   "cell_type": "code",
   "execution_count": 204,
   "metadata": {},
   "outputs": [
    {
     "name": "stdout",
     "output_type": "stream",
     "text": [
      "child\n",
      "left\n",
      "right\n",
      "parent\n"
     ]
    },
    {
     "data": {
      "text/plain": [
       "<__main__.Child at 0x112832220>"
      ]
     },
     "execution_count": 204,
     "metadata": {},
     "output_type": "execute_result"
    }
   ],
   "source": [
    "Child()"
   ]
  },
  {
   "cell_type": "code",
   "execution_count": 205,
   "metadata": {},
   "outputs": [
    {
     "data": {
      "text/plain": [
       "(__main__.Child, __main__.Left, __main__.Right, __main__.Parent, object)"
      ]
     },
     "execution_count": 205,
     "metadata": {},
     "output_type": "execute_result"
    }
   ],
   "source": [
    "Child.__mro__"
   ]
  },
  {
   "cell_type": "code",
   "execution_count": 206,
   "metadata": {},
   "outputs": [],
   "source": [
    "class Parent():\n",
    "    def __init__(self):\n",
    "        super(Parent, self).__init__()\n",
    "\n",
    "class Left(Parent):\n",
    "    def __init__(self):\n",
    "        super(Left, self).__init__()\n",
    "\n",
    "class Right(Parent):\n",
    "    def __init__(self):\n",
    "        super(Right, self).__init__()\n",
    "        print(\"rigt\")\n",
    "\n",
    "class Child(Left, Right):\n",
    "    def __init__(self):\n",
    "        super(Child, self).__init__()"
   ]
  },
  {
   "cell_type": "code",
   "execution_count": 208,
   "metadata": {},
   "outputs": [
    {
     "data": {
      "text/plain": [
       "(__main__.Child, __main__.Left, __main__.Right, __main__.Parent, object)"
      ]
     },
     "execution_count": 208,
     "metadata": {},
     "output_type": "execute_result"
    }
   ],
   "source": [
    "Child.__mro__"
   ]
  },
  {
   "cell_type": "markdown",
   "metadata": {},
   "source": [
    "# Example #4\n",
    "<hr style=\"border:2px solid black\"> </hr>"
   ]
  },
  {
   "cell_type": "code",
   "execution_count": 238,
   "metadata": {},
   "outputs": [],
   "source": [
    "class Person:  \n",
    "    \"\"\"\n",
    "    Base class or parent class\n",
    "    \"\"\"\n",
    "    def __init__(self, name):\n",
    "        \"\"\"\n",
    "        Constructor\n",
    "        \"\"\"\n",
    "        self.name = name\n",
    "\n",
    "    def get_name(self):\n",
    "        return self.name\n",
    "\n",
    "\n",
    "class Employee(Person):\n",
    "    \"\"\"\n",
    "    Derived class or subclass\n",
    "    that uses the base class constructor\n",
    "    \"\"\"\n",
    "    def is_employee_pythonist(self):\n",
    "        if any([i.lower() == \"pythonista\" for i in self.name.split(\" \")]):\n",
    "            return True\n",
    "        else:\n",
    "            return False"
   ]
  },
  {
   "cell_type": "code",
   "execution_count": 239,
   "metadata": {},
   "outputs": [
    {
     "name": "stdout",
     "output_type": "stream",
     "text": [
      "Pythonista\n"
     ]
    }
   ],
   "source": [
    "\"\"\"\n",
    "Let's start with object creation/instantiation\n",
    "for the base clas\n",
    "\"\"\"\n",
    "person = Person(\"Pythonista\")  \n",
    "print(person.get_name())"
   ]
  },
  {
   "cell_type": "code",
   "execution_count": 240,
   "metadata": {},
   "outputs": [
    {
     "name": "stdout",
     "output_type": "stream",
     "text": [
      "Employee Pythonista\n",
      "True\n"
     ]
    }
   ],
   "source": [
    "\"\"\"\n",
    "Let's create an object from the children class.\n",
    "Pay attention that this particular case uses the\n",
    "base class constructor\n",
    "\"\"\"\n",
    "employee = Employee(\"Employee Pythonista\")\n",
    "print(employee.get_name())\n",
    "print(employee.is_employee_pythonist())"
   ]
  },
  {
   "cell_type": "markdown",
   "metadata": {},
   "source": [
    "# Example #5\n",
    "<hr style=\"border:2px solid black\"> </hr>"
   ]
  },
  {
   "cell_type": "markdown",
   "metadata": {},
   "source": [
    "\n",
    "- Inheritance is **transitive** in nature.\n",
    "- This means that if class B inherits from another class A, then all the subclasses of B would automatically inherit from class A.\n",
    "\n"
   ]
  },
  {
   "cell_type": "code",
   "execution_count": 255,
   "metadata": {},
   "outputs": [],
   "source": [
    "class A:\n",
    "    def method_from_class_a(self):\n",
    "        print(\"Hi from class A\")\n",
    "\n",
    "\n",
    "class B(A):\n",
    "    def method_from_class_b(self):\n",
    "        print(\"Hi from class B\")\n",
    "\n",
    "\n",
    "class C(B):\n",
    "    def method_from_class_c(self):\n",
    "        print(\"Hi from class C\")"
   ]
  },
  {
   "cell_type": "code",
   "execution_count": 258,
   "metadata": {},
   "outputs": [
    {
     "name": "stdout",
     "output_type": "stream",
     "text": [
      "Hi from class C\n",
      "Hi from class B\n",
      "Hi from class A\n"
     ]
    }
   ],
   "source": [
    "c = C()\n",
    "c.method_from_class_c()\n",
    "c.method_from_class_b()\n",
    "c.method_from_class_a()"
   ]
  },
  {
   "cell_type": "markdown",
   "metadata": {},
   "source": [
    "# Example #6\n",
    "<hr style=\"border:2px solid black\"> </hr>"
   ]
  },
  {
   "cell_type": "code",
   "execution_count": 260,
   "metadata": {},
   "outputs": [],
   "source": [
    "class A:\n",
    "    def speak(self):\n",
    "        print(\"class A speaking\")\n",
    "\n",
    "\n",
    "class B:\n",
    "    def scream(self):\n",
    "        print(\"class B screaming\")\n",
    "\n",
    "\n",
    "class C(A, B):\n",
    "    pass"
   ]
  },
  {
   "cell_type": "code",
   "execution_count": 261,
   "metadata": {},
   "outputs": [
    {
     "name": "stdout",
     "output_type": "stream",
     "text": [
      "class A speaking\n",
      "class B screaming\n"
     ]
    }
   ],
   "source": [
    "c = C()\n",
    "c.speak()\n",
    "c.scream()"
   ]
  },
  {
   "cell_type": "markdown",
   "metadata": {},
   "source": [
    "# Example #7\n",
    "<hr style=\"border:2px solid black\"> </hr>"
   ]
  },
  {
   "cell_type": "markdown",
   "metadata": {},
   "source": [
    "\n",
    "- For a class hierarchy, Python needs to determine which class to use when attempting to access an attribute by name. To do this, Python considers the ordering of base classes. \n",
    "\n"
   ]
  },
  {
   "cell_type": "code",
   "execution_count": 263,
   "metadata": {},
   "outputs": [
    {
     "name": "stdout",
     "output_type": "stream",
     "text": [
      "class A speaking\n"
     ]
    }
   ],
   "source": [
    "class A:\n",
    "    def speak(self):\n",
    "        print(\"class A speaking\")\n",
    "\n",
    "\n",
    "class B:\n",
    "    def speak(self):\n",
    "        print(\"class B speaking\")\n",
    "\n",
    "\n",
    "class C(A, B):\n",
    "    pass\n",
    "\n",
    "c = C()\n",
    "c.speak()"
   ]
  },
  {
   "cell_type": "code",
   "execution_count": 264,
   "metadata": {},
   "outputs": [
    {
     "name": "stdout",
     "output_type": "stream",
     "text": [
      "class B speaking\n"
     ]
    }
   ],
   "source": [
    "class A:\n",
    "    def speak(self):\n",
    "        print(\"class A speaking\")\n",
    "\n",
    "\n",
    "class B:\n",
    "    def speak(self):\n",
    "        print(\"class B speaking\")\n",
    "\n",
    "\n",
    "class C(B, A):\n",
    "    pass\n",
    "\n",
    "c = C()\n",
    "c.speak()"
   ]
  },
  {
   "cell_type": "code",
   "execution_count": 265,
   "metadata": {},
   "outputs": [
    {
     "name": "stdout",
     "output_type": "stream",
     "text": [
      "class C speaking\n"
     ]
    }
   ],
   "source": [
    "class A:\n",
    "    def speak(self):\n",
    "        print(\"class A speaking\")\n",
    "\n",
    "\n",
    "class B:\n",
    "    def speak(self):\n",
    "        print(\"class B speaking\")\n",
    "\n",
    "\n",
    "class C(B, A):\n",
    "    \"\"\"\n",
    "    Speak method of class C will override previous speak methods. \n",
    "    \"\"\"\n",
    "    def speak(self):\n",
    "        print(\"class C speaking\")\n",
    "\n",
    "c = C()\n",
    "c.speak()"
   ]
  },
  {
   "cell_type": "markdown",
   "metadata": {},
   "source": [
    "# Example #8\n",
    "<hr style=\"border:2px solid black\"> </hr>"
   ]
  },
  {
   "cell_type": "markdown",
   "metadata": {},
   "source": [
    "\n",
    "- Sometimes we need to call methods of parent class to a overridden method of child class. \n",
    "- We can achieve this using super function.We can directly use methods of super class or modify them(this is very common). \n",
    "\n"
   ]
  },
  {
   "cell_type": "code",
   "execution_count": 266,
   "metadata": {},
   "outputs": [
    {
     "name": "stdout",
     "output_type": "stream",
     "text": [
      "BA\n"
     ]
    }
   ],
   "source": [
    "class A:\n",
    "    def test(self):\n",
    "        return 'A'\n",
    "\n",
    "\n",
    "class B(A):\n",
    "    # override test method\n",
    "    def test(self):  \n",
    "        # access method of parent class to overridden child class\n",
    "        return \"B\" + super().test()  \n",
    "\n",
    "\n",
    "print(B().test())"
   ]
  },
  {
   "cell_type": "markdown",
   "metadata": {},
   "source": [
    "\n",
    "- There is another **equivalent way** of achieving what we did above \n",
    "- Python 3 encourages using `super()`, instead of using `super(className, self)`, both have the same effect. \n",
    "- Python 2, only supports the super(className,self) syntax. Since, Python 2 is widely used so Python 3 also has support for this type of super calling.\n",
    "\n"
   ]
  },
  {
   "cell_type": "code",
   "execution_count": 267,
   "metadata": {},
   "outputs": [],
   "source": [
    "class B(A):\n",
    "    def test(self):\n",
    "        return \"B\" + super(B, self).test() \n",
    "        #super(className,object)"
   ]
  },
  {
   "cell_type": "code",
   "execution_count": 268,
   "metadata": {},
   "outputs": [
    {
     "name": "stdout",
     "output_type": "stream",
     "text": [
      "BA\n"
     ]
    }
   ],
   "source": [
    "print(B().test())"
   ]
  },
  {
   "cell_type": "markdown",
   "metadata": {},
   "source": [
    "# Example #9\n",
    "<hr style=\"border:2px solid black\"> </hr>"
   ]
  },
  {
   "cell_type": "markdown",
   "metadata": {},
   "source": [
    "\n",
    "- Python supports different types of inheritance so sometimes it needs to be introspected cleanly.\n",
    "- `isinstance()` takes two arguments: an object and a class and returns `True` if the given class is anywhere in the inheritance chain of the object’s class. \n",
    "\n"
   ]
  },
  {
   "cell_type": "code",
   "execution_count": 274,
   "metadata": {},
   "outputs": [
    {
     "name": "stdout",
     "output_type": "stream",
     "text": [
      "True\n",
      "True\n"
     ]
    }
   ],
   "source": [
    "class A:\n",
    "    def test(self):\n",
    "        return 'A'\n",
    "\n",
    "\n",
    "class B(A):\n",
    "    def test(self):\n",
    "        return \"B\" + super(B, self).test()\n",
    "\n",
    "\n",
    "print(isinstance(A(), A))\n",
    "print(isinstance(B(), A))"
   ]
  },
  {
   "cell_type": "code",
   "execution_count": 276,
   "metadata": {},
   "outputs": [
    {
     "name": "stdout",
     "output_type": "stream",
     "text": [
      "True\n",
      "True\n",
      "False\n",
      "True\n"
     ]
    }
   ],
   "source": [
    "print(issubclass(A, A))\n",
    "print(issubclass(B, A))\n",
    "print(issubclass(A, B))\n",
    "print(issubclass(B, B))"
   ]
  },
  {
   "cell_type": "markdown",
   "metadata": {},
   "source": [
    "\n",
    "- Is there anything that can help us sout in understanding this?\n",
    "- `__bases__()` provides a tuple of immediate base classes of a class.\n",
    "\n"
   ]
  },
  {
   "cell_type": "code",
   "execution_count": 273,
   "metadata": {},
   "outputs": [
    {
     "name": "stdout",
     "output_type": "stream",
     "text": [
      "(<class 'object'>,)\n",
      "(<class '__main__.A'>,)\n"
     ]
    }
   ],
   "source": [
    "print(A.__bases__)\n",
    "print(B.__bases__)"
   ]
  },
  {
   "cell_type": "markdown",
   "metadata": {},
   "source": [
    "\n",
    "- **By default**, every Python class is the subclass of built-in object class.\n",
    "- `__subclasses__()`returns a list of all\n",
    "    the subclasses a class. \n",
    "- As per the case where we ued `__bases__()`, `__subclasses__` only goes **one level deep** from the class we’re working on. \n",
    "\n"
   ]
  },
  {
   "cell_type": "code",
   "execution_count": 279,
   "metadata": {},
   "outputs": [
    {
     "name": "stdout",
     "output_type": "stream",
     "text": [
      "[<class '__main__.B'>]\n",
      "[]\n"
     ]
    }
   ],
   "source": [
    "print(A.__subclasses__())\n",
    "print(B.__subclasses__())"
   ]
  },
  {
   "cell_type": "markdown",
   "metadata": {},
   "source": [
    "# Example #10\n",
    "<hr style=\"border:2px solid black\"> </hr>"
   ]
  },
  {
   "cell_type": "code",
   "execution_count": 1,
   "metadata": {},
   "outputs": [
    {
     "name": "stdout",
     "output_type": "stream",
     "text": [
      "I am a child\n",
      "I am a parent\n",
      "Back in my day...\n"
     ]
    }
   ],
   "source": [
    "class Parent:\n",
    "    def __init__(self):\n",
    "        self.parent_attribute = 'I am a parent'\n",
    "\n",
    "    def parent_method(self):\n",
    "        print('Back in my day...')\n",
    "\n",
    "class Child(Parent):\n",
    "    \"\"\"\n",
    "    A child class that inherits from Parent\n",
    "    \"\"\"\n",
    "    def __init__(self):\n",
    "        Parent.__init__(self)\n",
    "        self.child_attribute = 'I am a child'\n",
    "\n",
    "\n",
    "# Create an instance of child\n",
    "child = Child()\n",
    "\n",
    "# Show attributes and methods of child class\n",
    "print(child.child_attribute)\n",
    "print(child.parent_attribute)\n",
    "child.parent_method()"
   ]
  },
  {
   "cell_type": "markdown",
   "metadata": {},
   "source": [
    "# Inheritance of object attributes\n",
    "<hr style = \"border:2px solid black\" ></hr>"
   ]
  },
  {
   "cell_type": "markdown",
   "metadata": {},
   "source": [
    "\n",
    "- Let say we want to do multiple base class inheritance.\n",
    "- Each base class has methods and object attributes (not clas attributes). Object attributes are those related to the object, in shorts those inside the `__init__` construct.\n",
    "- We'd like to use the `.` dot notation and have access to the base classes object attributes.\n",
    "- To achieve this you need have `super.__init__()` in each base class otherwise the second base class object attributes would not be inheritated.\n",
    "- ** This is becase** calling `super().__init__()` calls `__init__` calls only the first base `__init__` method. \n",
    "\n"
   ]
  },
  {
   "cell_type": "code",
   "execution_count": 23,
   "metadata": {
    "ExecuteTime": {
     "end_time": "2022-09-08T06:46:17.591372Z",
     "start_time": "2022-09-08T06:46:17.588312Z"
    },
    "cell_style": "split"
   },
   "outputs": [],
   "source": [
    "class BASEA:\n",
    "    def __init__(self, a=1):\n",
    "        self.a=a\n",
    "        super().__init__()\n",
    "    def return_a(self, a):\n",
    "        return a"
   ]
  },
  {
   "cell_type": "code",
   "execution_count": 24,
   "metadata": {
    "ExecuteTime": {
     "end_time": "2022-09-08T06:46:17.961908Z",
     "start_time": "2022-09-08T06:46:17.958859Z"
    },
    "cell_style": "split"
   },
   "outputs": [],
   "source": [
    "class BASEB:\n",
    "    def __init__(self, b=1):\n",
    "        self.b=b\n",
    "    def return_b(self, b):\n",
    "        return b"
   ]
  },
  {
   "cell_type": "code",
   "execution_count": 25,
   "metadata": {
    "ExecuteTime": {
     "end_time": "2022-09-08T06:46:18.310190Z",
     "start_time": "2022-09-08T06:46:18.307049Z"
    }
   },
   "outputs": [],
   "source": [
    "class C(BASEA,BASEB):\n",
    "    def __init__(self, c=1):\n",
    "        self.c=c\n",
    "        super().__init__()\n",
    "    def return_c(self, c):\n",
    "        return c"
   ]
  },
  {
   "cell_type": "code",
   "execution_count": 26,
   "metadata": {
    "ExecuteTime": {
     "end_time": "2022-09-08T06:46:18.630970Z",
     "start_time": "2022-09-08T06:46:18.628401Z"
    }
   },
   "outputs": [],
   "source": [
    "# instantiate derived class C\n",
    "c =C(1)"
   ]
  },
  {
   "cell_type": "code",
   "execution_count": 27,
   "metadata": {
    "ExecuteTime": {
     "end_time": "2022-09-08T06:46:19.032925Z",
     "start_time": "2022-09-08T06:46:19.028186Z"
    },
    "scrolled": true
   },
   "outputs": [
    {
     "data": {
      "text/plain": [
       "['__class__',\n",
       " '__delattr__',\n",
       " '__dict__',\n",
       " '__dir__',\n",
       " '__doc__',\n",
       " '__eq__',\n",
       " '__format__',\n",
       " '__ge__',\n",
       " '__getattribute__',\n",
       " '__gt__',\n",
       " '__hash__',\n",
       " '__init__',\n",
       " '__init_subclass__',\n",
       " '__le__',\n",
       " '__lt__',\n",
       " '__module__',\n",
       " '__ne__',\n",
       " '__new__',\n",
       " '__reduce__',\n",
       " '__reduce_ex__',\n",
       " '__repr__',\n",
       " '__setattr__',\n",
       " '__sizeof__',\n",
       " '__str__',\n",
       " '__subclasshook__',\n",
       " '__weakref__',\n",
       " 'a',\n",
       " 'b',\n",
       " 'c',\n",
       " 'return_a',\n",
       " 'return_b',\n",
       " 'return_c']"
      ]
     },
     "execution_count": 27,
     "metadata": {},
     "output_type": "execute_result"
    }
   ],
   "source": [
    "# check which method are available\n",
    "dir(c)"
   ]
  },
  {
   "cell_type": "code",
   "execution_count": 28,
   "metadata": {
    "ExecuteTime": {
     "end_time": "2022-09-08T06:46:21.953970Z",
     "start_time": "2022-09-08T06:46:21.950121Z"
    }
   },
   "outputs": [
    {
     "data": {
      "text/plain": [
       "{'c': 1, 'a': 1, 'b': 1}"
      ]
     },
     "execution_count": 28,
     "metadata": {},
     "output_type": "execute_result"
    }
   ],
   "source": [
    "c.__dict__"
   ]
  },
  {
   "cell_type": "markdown",
   "metadata": {},
   "source": [
    "\n",
    "- If you forget to ass `super.__init__()` under the first base class `__init__` you will nto inheritate the second base class object attributes.\n",
    "- Here is an example.\n",
    "\n"
   ]
  },
  {
   "cell_type": "code",
   "execution_count": 29,
   "metadata": {
    "ExecuteTime": {
     "end_time": "2022-09-08T06:48:50.790360Z",
     "start_time": "2022-09-08T06:48:50.787044Z"
    },
    "cell_style": "split"
   },
   "outputs": [],
   "source": [
    "class BASEA:\n",
    "    def __init__(self, a=1):\n",
    "        self.a=a\n",
    "        #super().__init__()\n",
    "    def return_a(self, a):\n",
    "        return a"
   ]
  },
  {
   "cell_type": "code",
   "execution_count": 30,
   "metadata": {
    "ExecuteTime": {
     "end_time": "2022-09-08T06:48:51.183991Z",
     "start_time": "2022-09-08T06:48:51.180786Z"
    },
    "cell_style": "split"
   },
   "outputs": [],
   "source": [
    "class BASEB:\n",
    "    def __init__(self, b=1):\n",
    "        self.b=b\n",
    "    def return_b(self, b):\n",
    "        return b"
   ]
  },
  {
   "cell_type": "code",
   "execution_count": 31,
   "metadata": {
    "ExecuteTime": {
     "end_time": "2022-09-08T06:49:04.512484Z",
     "start_time": "2022-09-08T06:49:04.509299Z"
    }
   },
   "outputs": [],
   "source": [
    "class C(BASEA,BASEB):\n",
    "    def __init__(self, c=1):\n",
    "        self.c=c\n",
    "        super().__init__()\n",
    "    def return_c(self, c):\n",
    "        return c"
   ]
  },
  {
   "cell_type": "code",
   "execution_count": 32,
   "metadata": {
    "ExecuteTime": {
     "end_time": "2022-09-08T06:49:10.605556Z",
     "start_time": "2022-09-08T06:49:10.602983Z"
    }
   },
   "outputs": [],
   "source": [
    "c=C(1)"
   ]
  },
  {
   "cell_type": "code",
   "execution_count": 33,
   "metadata": {
    "ExecuteTime": {
     "end_time": "2022-09-08T06:49:18.184238Z",
     "start_time": "2022-09-08T06:49:18.180142Z"
    }
   },
   "outputs": [
    {
     "data": {
      "text/plain": [
       "dict_keys(['c', 'a'])"
      ]
     },
     "execution_count": 33,
     "metadata": {},
     "output_type": "execute_result"
    }
   ],
   "source": [
    "# As you can see object attribute b is NOT listed!\n",
    "c.__dict__.keys()"
   ]
  },
  {
   "cell_type": "markdown",
   "metadata": {},
   "source": [
    "# References\n",
    "<hr style=\"border:2px solid black\"> </hr>"
   ]
  },
  {
   "cell_type": "markdown",
   "metadata": {},
   "source": [
    "\n",
    "- https://stackoverflow.com/questions/10909032/access-parent-class-instance-attribute-from-child-class-instance\n",
    "- https://stackoverflow.com/questions/3277367/how-does-pythons-super-work-with-multiple-inheritance\n",
    "- https://www.datacamp.com/community/tutorials/super-multiple-inheritance-diamond-problem\n",
    "- https://medium.com/@taohidulii/playing-with-inheritance-in-python-73ea4f3b669e\n",
    "- https://stackoverflow.com/questions/52959041/multiple-inheritance-the-derived-class-gets-attributes-from-one-base-class-only\n",
    "    \n"
   ]
  }
 ],
 "metadata": {
  "kernelspec": {
   "display_name": "trainingAI",
   "language": "python",
   "name": "trainingai"
  },
  "language_info": {
   "codemirror_mode": {
    "name": "ipython",
    "version": 3
   },
   "file_extension": ".py",
   "mimetype": "text/x-python",
   "name": "python",
   "nbconvert_exporter": "python",
   "pygments_lexer": "ipython3",
   "version": "3.9.7"
  },
  "toc": {
   "base_numbering": 1,
   "nav_menu": {},
   "number_sections": true,
   "sideBar": true,
   "skip_h1_title": false,
   "title_cell": "Table of Contents",
   "title_sidebar": "Contents",
   "toc_cell": true,
   "toc_position": {},
   "toc_section_display": true,
   "toc_window_display": true
  },
  "varInspector": {
   "cols": {
    "lenName": 16,
    "lenType": 16,
    "lenVar": 40
   },
   "kernels_config": {
    "python": {
     "delete_cmd_postfix": "",
     "delete_cmd_prefix": "del ",
     "library": "var_list.py",
     "varRefreshCmd": "print(var_dic_list())"
    },
    "r": {
     "delete_cmd_postfix": ") ",
     "delete_cmd_prefix": "rm(",
     "library": "var_list.r",
     "varRefreshCmd": "cat(var_dic_list()) "
    }
   },
   "types_to_exclude": [
    "module",
    "function",
    "builtin_function_or_method",
    "instance",
    "_Feature"
   ],
   "window_display": false
  }
 },
 "nbformat": 4,
 "nbformat_minor": 2
}
