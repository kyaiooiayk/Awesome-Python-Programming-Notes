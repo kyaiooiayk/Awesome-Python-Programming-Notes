{
 "cells": [
  {
   "cell_type": "markdown",
   "metadata": {
    "toc": true
   },
   "source": [
    "<h1>Table of Contents<span class=\"tocSkip\"></span></h1>\n",
    "<div class=\"toc\"><ul class=\"toc-item\"><li><span><a href=\"#Introduction\" data-toc-modified-id=\"Introduction-1\"><span class=\"toc-item-num\">1&nbsp;&nbsp;</span>Introduction</a></span></li><li><span><a href=\"#Definitions\" data-toc-modified-id=\"Definitions-2\"><span class=\"toc-item-num\">2&nbsp;&nbsp;</span>Definitions</a></span></li><li><span><a href=\"#Positional-arguments\" data-toc-modified-id=\"Positional-arguments-3\"><span class=\"toc-item-num\">3&nbsp;&nbsp;</span>Positional arguments</a></span><ul class=\"toc-item\"><li><span><a href=\"#Exaxmple-#1\" data-toc-modified-id=\"Exaxmple-#1-3.1\"><span class=\"toc-item-num\">3.1&nbsp;&nbsp;</span>Exaxmple #1</a></span></li><li><span><a href=\"#Example-#2\" data-toc-modified-id=\"Example-#2-3.2\"><span class=\"toc-item-num\">3.2&nbsp;&nbsp;</span>Example #2</a></span></li></ul></li><li><span><a href=\"#Keyword-arguments\" data-toc-modified-id=\"Keyword-arguments-4\"><span class=\"toc-item-num\">4&nbsp;&nbsp;</span>Keyword arguments</a></span><ul class=\"toc-item\"><li><span><a href=\"#Example-#1\" data-toc-modified-id=\"Example-#1-4.1\"><span class=\"toc-item-num\">4.1&nbsp;&nbsp;</span>Example #1</a></span></li><li><span><a href=\"#Example-#2\" data-toc-modified-id=\"Example-#2-4.2\"><span class=\"toc-item-num\">4.2&nbsp;&nbsp;</span>Example #2</a></span></li></ul></li><li><span><a href=\"#Partial-unpacking\" data-toc-modified-id=\"Partial-unpacking-5\"><span class=\"toc-item-num\">5&nbsp;&nbsp;</span>Partial unpacking</a></span></li><li><span><a href=\"#References\" data-toc-modified-id=\"References-6\"><span class=\"toc-item-num\">6&nbsp;&nbsp;</span>References</a></span></li></ul></div>"
   ]
  },
  {
   "cell_type": "markdown",
   "metadata": {},
   "source": [
    "# Introduction\n",
    "<hr style=\"border:2px solid black\"> </hr>"
   ]
  },
  {
   "cell_type": "markdown",
   "metadata": {},
   "source": [
    "<div class=\"alert alert-block alert-warning\">\n",
    "<font color=black>\n",
    "\n",
    "**What?** args and kwargs\n",
    "\n",
    "</font>\n",
    "</div>"
   ]
  },
  {
   "cell_type": "markdown",
   "metadata": {},
   "source": [
    "# Definitions\n",
    "<hr style=\"border:2px solid black\"> </hr>"
   ]
  },
  {
   "cell_type": "markdown",
   "metadata": {},
   "source": [
    "<div class=\"alert alert-info\">\n",
    "<font color=black>\n",
    "\n",
    "- Python has a very convenient \"keyword argument unpacking syntax\" (often referred to as **\"splat\"-operators**). This is particularly useful, if we want to define a function that can take a arbitrary number of input arguments.\n",
    "- There are two of them:    \n",
    "    - `*args`   is used for specifying an unknown number of *positional* arguments.\n",
    "    - `**kwargs` is used for specifying an unknown number of *keyword*    arguments. Double star allows us to pass through keyword arguments (and any number of them)\n",
    "\n",
    "</font>\n",
    "</div>"
   ]
  },
  {
   "cell_type": "markdown",
   "metadata": {},
   "source": [
    "# Positional arguments\n",
    "<hr style=\"border:2px solid black\"> </hr>"
   ]
  },
  {
   "cell_type": "markdown",
   "metadata": {},
   "source": [
    "## Exaxmple #1"
   ]
  },
  {
   "cell_type": "code",
   "execution_count": 2,
   "metadata": {},
   "outputs": [],
   "source": [
    "def example_args(*dummy):\n",
    "    for a in dummy:\n",
    "        print(a)"
   ]
  },
  {
   "cell_type": "code",
   "execution_count": 3,
   "metadata": {},
   "outputs": [
    {
     "name": "stdout",
     "output_type": "stream",
     "text": [
      "[1, 2, 3, 4]\n"
     ]
    }
   ],
   "source": [
    "example_args([1,2,3,4])"
   ]
  },
  {
   "cell_type": "code",
   "execution_count": 4,
   "metadata": {},
   "outputs": [
    {
     "name": "stdout",
     "output_type": "stream",
     "text": [
      "[1, 2, 3, 4, 5]\n",
      "[1, 2]\n"
     ]
    }
   ],
   "source": [
    "example_args([1,2,3,4,5], [1,2])"
   ]
  },
  {
   "cell_type": "markdown",
   "metadata": {},
   "source": [
    "## Example #2"
   ]
  },
  {
   "cell_type": "code",
   "execution_count": 1,
   "metadata": {
    "ExecuteTime": {
     "end_time": "2023-01-28T07:37:56.757101Z",
     "start_time": "2023-01-28T07:37:56.752778Z"
    }
   },
   "outputs": [
    {
     "name": "stdout",
     "output_type": "stream",
     "text": [
      "type of args: <class 'tuple'>\n",
      "args contents: (0, 1, 'a', 'b', 'c')\n",
      "1st argument: 0\n"
     ]
    }
   ],
   "source": [
    "def a_func(*args):\n",
    "    print('type of args:', type(args))\n",
    "    print('args contents:', args)\n",
    "    print('1st argument:', args[0])\n",
    "\n",
    "a_func(0, 1, 'a', 'b', 'c')"
   ]
  },
  {
   "cell_type": "markdown",
   "metadata": {},
   "source": [
    "# Keyword arguments\n",
    "<hr style=\"border:2px solid black\"> </hr>"
   ]
  },
  {
   "cell_type": "markdown",
   "metadata": {},
   "source": [
    "## Example #1"
   ]
  },
  {
   "cell_type": "code",
   "execution_count": 24,
   "metadata": {},
   "outputs": [],
   "source": [
    "def example_kargs(**dummy):\n",
    "       for key, values in dummy.items():\n",
    "            print(key, values)"
   ]
  },
  {
   "cell_type": "code",
   "execution_count": 26,
   "metadata": {},
   "outputs": [
    {
     "name": "stdout",
     "output_type": "stream",
     "text": [
      "a 3\n",
      "b 1\n"
     ]
    }
   ],
   "source": [
    "example_kargs(a = 3, b = 1 )"
   ]
  },
  {
   "cell_type": "code",
   "execution_count": 27,
   "metadata": {},
   "outputs": [
    {
     "name": "stdout",
     "output_type": "stream",
     "text": [
      "a 3\n",
      "b 1\n",
      "c 3\n"
     ]
    }
   ],
   "source": [
    "example_kargs(a = 3, b = 1, c = 3)"
   ]
  },
  {
   "cell_type": "markdown",
   "metadata": {},
   "source": [
    "## Example #2"
   ]
  },
  {
   "cell_type": "code",
   "execution_count": 2,
   "metadata": {
    "ExecuteTime": {
     "end_time": "2023-01-28T07:38:50.480872Z",
     "start_time": "2023-01-28T07:38:50.476942Z"
    }
   },
   "outputs": [
    {
     "name": "stdout",
     "output_type": "stream",
     "text": [
      "type of kwargs: <class 'dict'>\n",
      "kwargs contents:  {'a': 1, 'b': 2, 'c': 3, 'd': 4}\n",
      "value of argument a: 1\n"
     ]
    }
   ],
   "source": [
    "def b_func(**kwargs):\n",
    "    print('type of kwargs:', type(kwargs))\n",
    "    print('kwargs contents: ', kwargs)\n",
    "    print('value of argument a:', kwargs['a'])\n",
    "\n",
    "\n",
    "b_func(a=1, b=2, c=3, d=4)"
   ]
  },
  {
   "cell_type": "markdown",
   "metadata": {},
   "source": [
    "# Partial unpacking\n",
    "<hr style=\"border:2px solid black\"> </hr>"
   ]
  },
  {
   "cell_type": "code",
   "execution_count": 3,
   "metadata": {
    "ExecuteTime": {
     "end_time": "2023-01-28T07:39:44.256819Z",
     "start_time": "2023-01-28T07:39:44.252972Z"
    }
   },
   "outputs": [
    {
     "name": "stdout",
     "output_type": "stream",
     "text": [
      "val1: 1\n",
      "vals: [2, 3, 4, 5]\n"
     ]
    }
   ],
   "source": [
    "val1, *vals = [1, 2, 3, 4, 5]\n",
    "print('val1:', val1)\n",
    "print('vals:', vals)"
   ]
  },
  {
   "cell_type": "markdown",
   "metadata": {},
   "source": [
    "# References\n",
    "<hr style=\"border:2px solid black\"> </hr>"
   ]
  },
  {
   "cell_type": "markdown",
   "metadata": {},
   "source": [
    "<div class=\"alert alert-warning\">\n",
    "<font color=black>\n",
    "\n",
    "- https://www.kdnuggets.com/2021/08/data-scientist-guide-efficient-coding-python.html\n",
    "- https://nbviewer.org/github/rasbt/python_reference/blob/master/tutorials/not_so_obvious_python_stuff.ipynb?create=1\n",
    "\n",
    "</font>\n",
    "</div>"
   ]
  }
 ],
 "metadata": {
  "kernelspec": {
   "display_name": "trainingAI",
   "language": "python",
   "name": "trainingai"
  },
  "language_info": {
   "codemirror_mode": {
    "name": "ipython",
    "version": 3
   },
   "file_extension": ".py",
   "mimetype": "text/x-python",
   "name": "python",
   "nbconvert_exporter": "python",
   "pygments_lexer": "ipython3",
   "version": "3.9.7"
  },
  "toc": {
   "base_numbering": 1,
   "nav_menu": {},
   "number_sections": true,
   "sideBar": true,
   "skip_h1_title": false,
   "title_cell": "Table of Contents",
   "title_sidebar": "Contents",
   "toc_cell": true,
   "toc_position": {
    "height": "calc(100% - 180px)",
    "left": "10px",
    "top": "150px",
    "width": "178.333px"
   },
   "toc_section_display": true,
   "toc_window_display": true
  },
  "varInspector": {
   "cols": {
    "lenName": 16,
    "lenType": 16,
    "lenVar": 40
   },
   "kernels_config": {
    "python": {
     "delete_cmd_postfix": "",
     "delete_cmd_prefix": "del ",
     "library": "var_list.py",
     "varRefreshCmd": "print(var_dic_list())"
    },
    "r": {
     "delete_cmd_postfix": ") ",
     "delete_cmd_prefix": "rm(",
     "library": "var_list.r",
     "varRefreshCmd": "cat(var_dic_list()) "
    }
   },
   "types_to_exclude": [
    "module",
    "function",
    "builtin_function_or_method",
    "instance",
    "_Feature"
   ],
   "window_display": false
  }
 },
 "nbformat": 4,
 "nbformat_minor": 2
}
