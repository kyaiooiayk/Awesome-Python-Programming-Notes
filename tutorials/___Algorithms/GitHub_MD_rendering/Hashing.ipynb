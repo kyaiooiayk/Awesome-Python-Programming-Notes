{
 "cells": [
  {
   "cell_type": "markdown",
   "metadata": {},
   "source": [
    "# Introduction\n",
    "<hr style=\"border:2px solid black\"> </hr>"
   ]
  },
  {
   "cell_type": "markdown",
   "metadata": {},
   "source": [
    "\n",
    "**What?** Hashing\n",
    "\n",
""   ]
  },
  {
   "cell_type": "markdown",
   "metadata": {},
   "source": [
    "# Hashing"
   ]
  },
  {
   "cell_type": "markdown",
   "metadata": {},
   "source": [
    "\n",
    "- Hash table are also known as python dictionary.\n",
    "\n",
""   ]
  },
  {
   "cell_type": "code",
   "execution_count": 3,
   "metadata": {},
   "outputs": [],
   "source": [
    "class HashTable:\n",
    "    \"\"\"\n",
    "    a.k.a python's dictionary\n",
    "    the initial size of the table has been chosen to be 11, \n",
    "    although this number is arbitrary, it's important\n",
    "    for it to be a prime number so that collision resolution \n",
    "    will be efficient; this implementation does not handle\n",
    "    resizing the hashtable when it runs out of the original size\n",
    "    \"\"\"\n",
    "\n",
    "    def __init__(self):\n",
    "        # slot will hold the key and data will hold the value\n",
    "        self.size = 11\n",
    "        self.slot = [None] * self.size\n",
    "        self.data = [None] * self.size\n",
    "\n",
    "    def _put(self, key, value):\n",
    "        hash_value = self._hash(key)\n",
    "        if self.slot[hash_value] == None:\n",
    "            self.slot[hash_value] = key\n",
    "            self.data[hash_value] = value\n",
    "        elif self.slot[hash_value] == key:\n",
    "            # replace the original key value\n",
    "            self.data[hash_value] = value\n",
    "        else:\n",
    "            # rehash to get the next location possible\n",
    "            # if a collision is to occurr\n",
    "            next_slot = self._rehash(hash_value)\n",
    "            slot_value = self.slot[next_slot]\n",
    "            while slot_value != None and slot_value != key:\n",
    "                next_slot = self._rehash(next_slot)\n",
    "                slot_value = self.slot[next_slot]\n",
    "\n",
    "            if self.slot[next_slot] == None:\n",
    "                self.slot[next_slot] = key\n",
    "                self.data[next_slot] = value\n",
    "            else:\n",
    "                self.data[next_slot] = value\n",
    "\n",
    "    def _get(self, key):\n",
    "        data = None\n",
    "        stop = False\n",
    "        found = False\n",
    "        start_slot = self._hash(key)\n",
    "        next_slot = start_slot\n",
    "        while self.slot[next_slot] != None and not found and not stop:\n",
    "            if self.slot[next_slot] == key:\n",
    "                data = self.data[next_slot]\n",
    "                found = True\n",
    "            else:\n",
    "                # if we rehash to the starting value\n",
    "                # then it means the data is not here\n",
    "                next_slot = self._rehash(next_slot)\n",
    "                if next_slot == start_slot:\n",
    "                    stop = True\n",
    "        return data\n",
    "\n",
    "    def _hash(self, key):\n",
    "        return key % self.size\n",
    "\n",
    "    def _rehash(self, oldhash):\n",
    "        \"\"\"\n",
    "        a simple plus 1 rehash, where we add 1 to\n",
    "        the original value and hash it again to \n",
    "        see if the slot it empty (None)\n",
    "        \"\"\"\n",
    "        return (oldhash + 1) % self.size\n",
    "\n",
    "    def __getitem__(self, key):\n",
    "        # allow access using``[]`` syntax\n",
    "        return self._get(key)\n",
    "\n",
    "    def __setitem__(self, key, value):\n",
    "        self._put(key, value)"
   ]
  },
  {
   "cell_type": "code",
   "execution_count": 4,
   "metadata": {},
   "outputs": [
    {
     "name": "stdout",
     "output_type": "stream",
     "text": [
      "[77, 44, 55, None, 26, 93, 17, None, None, None, 54]\n",
      "['bird', 'goat', 'pig', None, 'dog', 'lion', 'tiger', None, None, None, 'cat']\n"
     ]
    }
   ],
   "source": [
    "H = HashTable()\n",
    "H[54] = 'cat'\n",
    "H[26] = 'dog'\n",
    "H[93] = 'lion'\n",
    "H[17] = 'tiger'\n",
    "H[77] = 'bird'\n",
    "H[44] = 'goat'\n",
    "H[55] = 'pig'\n",
    "print(H.slot)\n",
    "print(H.data)"
   ]
  },
  {
   "cell_type": "code",
   "execution_count": 5,
   "metadata": {},
   "outputs": [
    {
     "name": "stdout",
     "output_type": "stream",
     "text": [
      "pig\n",
      "None\n"
     ]
    }
   ],
   "source": [
    "print(H[55])\n",
    "print(H[20])"
   ]
  },
  {
   "cell_type": "markdown",
   "metadata": {},
   "source": [
    "# References\n",
    "<hr style=\"border:2px solid black\"> </hr>"
   ]
  },
  {
   "cell_type": "markdown",
   "metadata": {},
   "source": [
    "\n",
    "- [Problem Solving with Algorithms and Data Structures](http://interactivepython.org/runestone/static/pythonds/index.html). \n",
    "- https://runestone.academy/runestone/books/published/pythonds/SortSearch/TheMergeSort.html\n",
    "\n",
""   ]
  },
  {
   "cell_type": "code",
   "execution_count": null,
   "metadata": {},
   "outputs": [],
   "source": []
  }
 ],
 "metadata": {
  "anaconda-cloud": {},
  "hide_input": false,
  "kernelspec": {
   "display_name": "Python 3",
   "language": "python",
   "name": "python3"
  },
  "language_info": {
   "codemirror_mode": {
    "name": "ipython",
    "version": 3
   },
   "file_extension": ".py",
   "mimetype": "text/x-python",
   "name": "python",
   "nbconvert_exporter": "python",
   "pygments_lexer": "ipython3",
   "version": "3.8.5"
  },
  "toc": {
   "colors": {
    "hover_highlight": "#DAA520",
    "running_highlight": "#FF0000",
    "selected_highlight": "#FFD700"
   },
   "moveMenuLeft": true,
   "nav_menu": {
    "height": "70px",
    "width": "254px"
   },
   "navigate_menu": true,
   "number_sections": true,
   "sideBar": true,
   "threshold": 4,
   "toc_cell": false,
   "toc_section_display": "block",
   "toc_window_display": true
  }
 },
 "nbformat": 4,
 "nbformat_minor": 1
}
