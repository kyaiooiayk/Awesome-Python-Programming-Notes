{
 "cells": [
  {
   "cell_type": "markdown",
   "metadata": {
    "toc": true
   },
   "source": [
    "<h1>Table of Contents<span class=\"tocSkip\"></span></h1>\n",
    "<div class=\"toc\"><ul class=\"toc-item\"><li><span><a href=\"#Introduction\" data-toc-modified-id=\"Introduction-1\"><span class=\"toc-item-num\">1&nbsp;&nbsp;</span>Introduction</a></span><ul class=\"toc-item\"><li><span><a href=\"#Don't-use-mutable-objects-as-default-arguments-for-functions!\" data-toc-modified-id=\"Don't-use-mutable-objects-as-default-arguments-for-functions!-1.1\"><span class=\"toc-item-num\">1.1&nbsp;&nbsp;</span>Don't use mutable objects as default arguments for functions!</a></span></li><li><span><a href=\"#When-mutable-contents-of-immutable-tuples-aren't-so-mutable\" data-toc-modified-id=\"When-mutable-contents-of-immutable-tuples-aren't-so-mutable-1.2\"><span class=\"toc-item-num\">1.2&nbsp;&nbsp;</span>When mutable contents of immutable tuples aren't so mutable</a></span><ul class=\"toc-item\"><li><span><a href=\"#But-what-if-we-put-a-mutable-object-into-the-immutable-tuple?-Well,-modification-works,-but-we-also-get-a-TypeError-at-the-same-time.\" data-toc-modified-id=\"But-what-if-we-put-a-mutable-object-into-the-immutable-tuple?-Well,-modification-works,-but-we-also-get-a-TypeError-at-the-same-time.-1.2.1\"><span class=\"toc-item-num\">1.2.1&nbsp;&nbsp;</span>But what if we put a mutable object into the immutable tuple? Well, modification works, but we <strong>also</strong> get a <code>TypeError</code> at the same time.</a></span></li><li><span><a href=\"#Explanation\" data-toc-modified-id=\"Explanation-1.2.2\"><span class=\"toc-item-num\">1.2.2&nbsp;&nbsp;</span>Explanation</a></span></li><li><span><a href=\"#One-more-note-about-the-immutable-status-of-tuples.-Tuples-are-famous-for-being-immutable.-However,-how-comes-that-this-code-works?\" data-toc-modified-id=\"One-more-note-about-the-immutable-status-of-tuples.-Tuples-are-famous-for-being-immutable.-However,-how-comes-that-this-code-works?-1.2.3\"><span class=\"toc-item-num\">1.2.3&nbsp;&nbsp;</span>One more note about the <code>immutable</code> status of tuples. Tuples are famous for being immutable. However, how comes that this code works?</a></span></li></ul></li><li><span><a href=\"#Interning-of-compile-time-constants-vs.-run-time-expressions\" data-toc-modified-id=\"Interning-of-compile-time-constants-vs.-run-time-expressions-1.3\"><span class=\"toc-item-num\">1.3&nbsp;&nbsp;</span>Interning of compile-time constants vs. run-time expressions</a></span></li></ul></li><li><span><a href=\"#References\" data-toc-modified-id=\"References-2\"><span class=\"toc-item-num\">2&nbsp;&nbsp;</span>References</a></span></li></ul></div>"
   ]
  },
  {
   "cell_type": "markdown",
   "metadata": {},
   "source": [
    "# Introduction\n",
    "<hr style = \"border:2px solid black\" ></hr>"
   ]
  },
  {
   "cell_type": "markdown",
   "metadata": {},
   "source": [
    "<div class=\"alert alert-warning\">\n",
    "<font color=black>\n",
    "\n",
    "**What?** A collection of not-so-obvious Python stuff\n",
    "\n",
    "</font>\n",
    "</div>"
   ]
  },
  {
   "cell_type": "markdown",
   "metadata": {},
   "source": [
    "## Don't use mutable objects as default arguments for functions!"
   ]
  },
  {
   "cell_type": "markdown",
   "metadata": {},
   "source": [
    "Don't use mutable objects (e.g., dictionaries, lists, sets, etc.) as default arguments for functions! You might expect that a new list is created every time when we call the function without providing an argument for the default parameter, but this is not the case: **Python will create the mutable object (default parameter) the first time the function is defined - not when it is called**, see the following code:\n",
    "\n",
    "(Original source: [http://docs.python-guide.org/en/latest/writing/gotchas/](http://docs.python-guide.org/en/latest/writing/gotchas/)"
   ]
  },
  {
   "cell_type": "code",
   "execution_count": 15,
   "metadata": {},
   "outputs": [
    {
     "name": "stdout",
     "output_type": "stream",
     "text": [
      "[1]\n",
      "[1, 2]\n"
     ]
    }
   ],
   "source": [
    "def append_to_list(value, def_list=[]):\n",
    "    def_list.append(value)\n",
    "    return def_list\n",
    "\n",
    "my_list = append_to_list(1)\n",
    "print(my_list)\n",
    "\n",
    "my_other_list = append_to_list(2)\n",
    "print(my_other_list)"
   ]
  },
  {
   "cell_type": "markdown",
   "metadata": {},
   "source": [
    "Another good example showing that demonstrates that default arguments are created when the function is created (**and not when it is called!**):"
   ]
  },
  {
   "cell_type": "code",
   "execution_count": 16,
   "metadata": {},
   "outputs": [
    {
     "name": "stdout",
     "output_type": "stream",
     "text": [
      "1528560045.3962939\n",
      "1528560045.3962939\n"
     ]
    }
   ],
   "source": [
    "import time\n",
    "def report_arg(my_default=time.time()):\n",
    "    print(my_default)\n",
    "\n",
    "report_arg()\n",
    "\n",
    "time.sleep(5)\n",
    "\n",
    "report_arg()"
   ]
  },
  {
   "cell_type": "markdown",
   "metadata": {},
   "source": [
    "## When mutable contents of immutable tuples aren't so mutable"
   ]
  },
  {
   "cell_type": "markdown",
   "metadata": {},
   "source": [
    "As we all know, tuples are immutable objects in Python, right!? But what happens if they contain mutable objects? \n",
    "\n",
    "First, let us have a look at the expected behavior: a `TypeError` is raised if we try to modify immutable types in a tuple: "
   ]
  },
  {
   "cell_type": "code",
   "execution_count": 27,
   "metadata": {},
   "outputs": [
    {
     "ename": "TypeError",
     "evalue": "'tuple' object does not support item assignment",
     "output_type": "error",
     "traceback": [
      "\u001b[0;31m---------------------------------------------------------------------------\u001b[0m",
      "\u001b[0;31mTypeError\u001b[0m                                 Traceback (most recent call last)",
      "\u001b[0;32m<ipython-input-27-ddf241f0ac4f>\u001b[0m in \u001b[0;36m<module>\u001b[0;34m()\u001b[0m\n\u001b[1;32m      1\u001b[0m \u001b[0mtup\u001b[0m \u001b[0;34m=\u001b[0m \u001b[0;34m(\u001b[0m\u001b[0;36m1\u001b[0m\u001b[0;34m,\u001b[0m\u001b[0;34m)\u001b[0m\u001b[0;34m\u001b[0m\u001b[0m\n\u001b[0;32m----> 2\u001b[0;31m \u001b[0mtup\u001b[0m\u001b[0;34m[\u001b[0m\u001b[0;36m0\u001b[0m\u001b[0;34m]\u001b[0m \u001b[0;34m+=\u001b[0m \u001b[0;36m1\u001b[0m\u001b[0;34m\u001b[0m\u001b[0m\n\u001b[0m",
      "\u001b[0;31mTypeError\u001b[0m: 'tuple' object does not support item assignment"
     ]
    }
   ],
   "source": [
    "tup = (1,)\n",
    "tup[0] += 1"
   ]
  },
  {
   "cell_type": "markdown",
   "metadata": {},
   "source": [
    "### But what if we put a mutable object into the immutable tuple? Well, modification works, but we **also** get a `TypeError` at the same time."
   ]
  },
  {
   "cell_type": "code",
   "execution_count": 28,
   "metadata": {},
   "outputs": [
    {
     "name": "stdout",
     "output_type": "stream",
     "text": [
      "tup before:  ([],)\n"
     ]
    },
    {
     "ename": "TypeError",
     "evalue": "'tuple' object does not support item assignment",
     "output_type": "error",
     "traceback": [
      "\u001b[0;31m---------------------------------------------------------------------------\u001b[0m",
      "\u001b[0;31mTypeError\u001b[0m                                 Traceback (most recent call last)",
      "\u001b[0;32m<ipython-input-28-8baa7ba7b4d3>\u001b[0m in \u001b[0;36m<module>\u001b[0;34m()\u001b[0m\n\u001b[1;32m      1\u001b[0m \u001b[0mtup\u001b[0m \u001b[0;34m=\u001b[0m \u001b[0;34m(\u001b[0m\u001b[0;34m[\u001b[0m\u001b[0;34m]\u001b[0m\u001b[0;34m,\u001b[0m\u001b[0;34m)\u001b[0m\u001b[0;34m\u001b[0m\u001b[0m\n\u001b[1;32m      2\u001b[0m \u001b[0mprint\u001b[0m\u001b[0;34m(\u001b[0m\u001b[0;34m'tup before: '\u001b[0m\u001b[0;34m,\u001b[0m \u001b[0mtup\u001b[0m\u001b[0;34m)\u001b[0m\u001b[0;34m\u001b[0m\u001b[0m\n\u001b[0;32m----> 3\u001b[0;31m \u001b[0mtup\u001b[0m\u001b[0;34m[\u001b[0m\u001b[0;36m0\u001b[0m\u001b[0;34m]\u001b[0m \u001b[0;34m+=\u001b[0m \u001b[0;34m[\u001b[0m\u001b[0;36m1\u001b[0m\u001b[0;34m]\u001b[0m\u001b[0;34m\u001b[0m\u001b[0m\n\u001b[0m",
      "\u001b[0;31mTypeError\u001b[0m: 'tuple' object does not support item assignment"
     ]
    }
   ],
   "source": [
    "tup = ([],)\n",
    "print('tup before: ', tup)\n",
    "tup[0] += [1]"
   ]
  },
  {
   "cell_type": "code",
   "execution_count": null,
   "metadata": {},
   "outputs": [],
   "source": [
    "print('tup after: ', tup)"
   ]
  },
  {
   "cell_type": "markdown",
   "metadata": {},
   "source": [
    "<br>\n",
    "<br>\n",
    "However, **there are ways** to modify the mutable contents of the tuple without raising the `TypeError`, the solution is the `.extend()` method, or alternatively `.append()` (for lists):"
   ]
  },
  {
   "cell_type": "code",
   "execution_count": 29,
   "metadata": {},
   "outputs": [
    {
     "name": "stdout",
     "output_type": "stream",
     "text": [
      "tup before:  ([],)\n",
      "tup after:  ([1],)\n"
     ]
    }
   ],
   "source": [
    "tup = ([],)\n",
    "print('tup before: ', tup)\n",
    "tup[0].extend([1])\n",
    "print('tup after: ', tup)"
   ]
  },
  {
   "cell_type": "code",
   "execution_count": 30,
   "metadata": {},
   "outputs": [
    {
     "name": "stdout",
     "output_type": "stream",
     "text": [
      "tup before:  ([],)\n",
      "tup after:  ([1],)\n"
     ]
    }
   ],
   "source": [
    "tup = ([],)\n",
    "print('tup before: ', tup)\n",
    "tup[0].append(1)\n",
    "print('tup after: ', tup)"
   ]
  },
  {
   "cell_type": "markdown",
   "metadata": {},
   "source": [
    "### Explanation\n",
    "\n",
    "**A. Jesse Jiryu Davis** has a nice explanation for this phenomenon (Original source: [http://emptysqua.re/blog/python-increment-is-weird-part-ii/](http://emptysqua.re/blog/python-increment-is-weird-part-ii/))\n",
    "\n",
    "If we try to extend the list via `+=` *\"then the statement executes `STORE_SUBSCR`, which calls the C function `PyObject_SetItem`, which checks if the object supports item assignment. In our case the object is a tuple, so `PyObject_SetItem` throws the `TypeError`. Mystery solved.\"*"
   ]
  },
  {
   "cell_type": "markdown",
   "metadata": {},
   "source": [
    "### One more note about the `immutable` status of tuples. Tuples are famous for being immutable. However, how comes that this code works?"
   ]
  },
  {
   "cell_type": "code",
   "execution_count": 31,
   "metadata": {},
   "outputs": [
    {
     "name": "stdout",
     "output_type": "stream",
     "text": [
      "(1, 4, 5)\n"
     ]
    }
   ],
   "source": [
    "my_tup = (1,)\n",
    "my_tup += (4,)\n",
    "my_tup = my_tup + (5,)\n",
    "print(my_tup)"
   ]
  },
  {
   "cell_type": "markdown",
   "metadata": {},
   "source": [
    "What happens \"behind\" the curtains is that the tuple is not modified, but a new object is generated every time, which will inherit the old \"name tag\":"
   ]
  },
  {
   "cell_type": "code",
   "execution_count": 32,
   "metadata": {},
   "outputs": [
    {
     "name": "stdout",
     "output_type": "stream",
     "text": [
      "4486707912\n",
      "4485211784\n",
      "4486955152\n"
     ]
    }
   ],
   "source": [
    "my_tup = (1,)\n",
    "print(id(my_tup))\n",
    "my_tup += (4,)\n",
    "print(id(my_tup))\n",
    "my_tup = my_tup + (5,)\n",
    "print(id(my_tup))"
   ]
  },
  {
   "cell_type": "markdown",
   "metadata": {},
   "source": [
    "## Interning of compile-time constants vs. run-time expressions"
   ]
  },
  {
   "cell_type": "markdown",
   "metadata": {},
   "source": [
    "This might not be particularly useful, but it is nonetheless interesting: Python's interpreter is interning compile-time constants but not run-time expressions (note that this is implementation-specific).\n",
    "\n",
    "(Original source: [Stackoverflow](http://stackoverflow.com/questions/15541404/python-string-interning))"
   ]
  },
  {
   "cell_type": "markdown",
   "metadata": {},
   "source": [
    "Let us have a look at the simple example below. Here we are creating 3 variables and assign the value \"Hello\" to them in different ways before we test them for identity."
   ]
  },
  {
   "cell_type": "code",
   "execution_count": 42,
   "metadata": {},
   "outputs": [
    {
     "name": "stdout",
     "output_type": "stream",
     "text": [
      "hello1 is hello2: True\n",
      "hello1 is hello3: False\n"
     ]
    }
   ],
   "source": [
    "hello1 = 'Hello'\n",
    "\n",
    "hello2 = 'Hell' + 'o'\n",
    "\n",
    "hello3 = 'Hell'\n",
    "hello3 = hello3 + 'o'\n",
    "\n",
    "print('hello1 is hello2:', hello1 is hello2)\n",
    "print('hello1 is hello3:', hello1 is hello3)"
   ]
  },
  {
   "cell_type": "markdown",
   "metadata": {},
   "source": [
    "Now, how does it come that the first expression evaluates to true, but the second does not?  To answer this question, we need to take a closer look at the underlying byte codes:"
   ]
  },
  {
   "cell_type": "code",
   "execution_count": 43,
   "metadata": {},
   "outputs": [
    {
     "name": "stdout",
     "output_type": "stream",
     "text": [
      "  3           0 LOAD_CONST               1 ('Hello')\n",
      "              2 STORE_FAST               0 (s)\n",
      "\n",
      "  4           4 LOAD_FAST                0 (s)\n",
      "              6 RETURN_VALUE\n"
     ]
    }
   ],
   "source": [
    "import dis\n",
    "def hello1_func():\n",
    "    s = 'Hello'\n",
    "    return s\n",
    "dis.dis(hello1_func)"
   ]
  },
  {
   "cell_type": "code",
   "execution_count": 44,
   "metadata": {},
   "outputs": [
    {
     "name": "stdout",
     "output_type": "stream",
     "text": [
      "  2           0 LOAD_CONST               3 ('Hello')\n",
      "              2 STORE_FAST               0 (s)\n",
      "\n",
      "  3           4 LOAD_FAST                0 (s)\n",
      "              6 RETURN_VALUE\n"
     ]
    }
   ],
   "source": [
    "def hello2_func():\n",
    "    s = 'Hell' + 'o'\n",
    "    return s\n",
    "dis.dis(hello2_func)"
   ]
  },
  {
   "cell_type": "code",
   "execution_count": 45,
   "metadata": {},
   "outputs": [
    {
     "name": "stdout",
     "output_type": "stream",
     "text": [
      "  2           0 LOAD_CONST               1 ('Hell')\n",
      "              2 STORE_FAST               0 (s)\n",
      "\n",
      "  3           4 LOAD_FAST                0 (s)\n",
      "              6 LOAD_CONST               2 ('o')\n",
      "              8 BINARY_ADD\n",
      "             10 STORE_FAST               0 (s)\n",
      "\n",
      "  4          12 LOAD_FAST                0 (s)\n",
      "             14 RETURN_VALUE\n"
     ]
    }
   ],
   "source": [
    "def hello3_func():\n",
    "    s = 'Hell'\n",
    "    s = s + 'o'\n",
    "    return s\n",
    "dis.dis(hello3_func)"
   ]
  },
  {
   "cell_type": "markdown",
   "metadata": {},
   "source": [
    "<br>\n",
    "It looks like that `'Hello'` and `'Hell'` + `'o'` are both evaluated and stored as `'Hello'` at compile-time, whereas the third version   \n",
    "`s = 'Hell'`  \n",
    "`s = s + 'o'` seems to not be interned.  Let us quickly confirm the behavior with the following code:"
   ]
  },
  {
   "cell_type": "code",
   "execution_count": 46,
   "metadata": {},
   "outputs": [
    {
     "name": "stdout",
     "output_type": "stream",
     "text": [
      "True\n",
      "False\n"
     ]
    }
   ],
   "source": [
    "print(hello1_func() is hello2_func())\n",
    "print(hello1_func() is hello3_func())"
   ]
  },
  {
   "cell_type": "markdown",
   "metadata": {},
   "source": [
    "Finally, to show that this hypothesis is the answer to this rather unexpected observation, let us `intern` the value manually:"
   ]
  },
  {
   "cell_type": "code",
   "execution_count": 47,
   "metadata": {},
   "outputs": [
    {
     "name": "stdout",
     "output_type": "stream",
     "text": [
      "True\n"
     ]
    }
   ],
   "source": [
    "import sys\n",
    "\n",
    "print(hello1_func() is sys.intern(hello3_func()))"
   ]
  },
  {
   "cell_type": "markdown",
   "metadata": {},
   "source": [
    "# References\n",
    "<hr style = \"border:2px solid black\" ></hr>"
   ]
  },
  {
   "cell_type": "markdown",
   "metadata": {},
   "source": [
    "<div class=\"alert alert-warning\">\n",
    "<font color=black>\n",
    "\n",
    "- https://nbviewer.org/github/rasbt/python_reference/blob/master/tutorials/not_so_obvious_python_stuff.ipynb?create=1\n",
    "\n",
    "</font>\n",
    "</div>"
   ]
  },
  {
   "cell_type": "code",
   "execution_count": null,
   "metadata": {},
   "outputs": [],
   "source": []
  }
 ],
 "metadata": {
  "kernelspec": {
   "display_name": "trainingAI",
   "language": "python",
   "name": "trainingai"
  },
  "language_info": {
   "codemirror_mode": {
    "name": "ipython",
    "version": 3
   },
   "file_extension": ".py",
   "mimetype": "text/x-python",
   "name": "python",
   "nbconvert_exporter": "python",
   "pygments_lexer": "ipython3",
   "version": "3.9.7"
  },
  "latex_envs": {
   "LaTeX_envs_menu_present": true,
   "autoclose": false,
   "autocomplete": true,
   "bibliofile": "biblio.bib",
   "cite_by": "apalike",
   "current_citInitial": 1,
   "eqLabelWithNumbers": true,
   "eqNumInitial": 1,
   "hotkeys": {
    "equation": "Ctrl-E",
    "itemize": "Ctrl-I"
   },
   "labels_anchors": false,
   "latex_user_defs": false,
   "report_style_numbering": false,
   "user_envs_cfg": false
  },
  "toc": {
   "base_numbering": 1,
   "nav_menu": {},
   "number_sections": true,
   "sideBar": true,
   "skip_h1_title": false,
   "title_cell": "Table of Contents",
   "title_sidebar": "Contents",
   "toc_cell": true,
   "toc_position": {
    "height": "calc(100% - 180px)",
    "left": "10px",
    "top": "150px",
    "width": "336.333px"
   },
   "toc_section_display": true,
   "toc_window_display": true
  },
  "varInspector": {
   "cols": {
    "lenName": 16,
    "lenType": 16,
    "lenVar": 40
   },
   "kernels_config": {
    "python": {
     "delete_cmd_postfix": "",
     "delete_cmd_prefix": "del ",
     "library": "var_list.py",
     "varRefreshCmd": "print(var_dic_list())"
    },
    "r": {
     "delete_cmd_postfix": ") ",
     "delete_cmd_prefix": "rm(",
     "library": "var_list.r",
     "varRefreshCmd": "cat(var_dic_list()) "
    }
   },
   "types_to_exclude": [
    "module",
    "function",
    "builtin_function_or_method",
    "instance",
    "_Feature"
   ],
   "window_display": false
  }
 },
 "nbformat": 4,
 "nbformat_minor": 1
}
