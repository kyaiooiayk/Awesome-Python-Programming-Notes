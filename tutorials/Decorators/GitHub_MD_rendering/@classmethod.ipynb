{
 "cells": [
  {
   "cell_type": "markdown",
   "metadata": {},
   "source": [
    "# Introduction"
   ]
  },
  {
   "cell_type": "markdown",
   "metadata": {},
   "source": [
    "\n",
    "**What?** @classmethod\n",
    "\n",
""   ]
  },
  {
   "cell_type": "markdown",
   "metadata": {},
   "source": [
    "# Class decorators"
   ]
  },
  {
   "cell_type": "markdown",
   "metadata": {},
   "source": [
    "\n",
    "- `@property` The Pythonic way to introduce attributes is to make them public, and not introduce getters and setters to retrieve or change them.\n",
    "- `@classmethod` To add additional constructor to the class.\n",
    "- `@staticmethod` To attach functions to classes so people won't misuse them in wrong places.\n",
    "\n",
""   ]
  },
  {
   "cell_type": "markdown",
   "metadata": {},
   "source": [
    "# @classmethod"
   ]
  },
  {
   "cell_type": "markdown",
   "metadata": {},
   "source": [
    "\n",
    "- `@classmethod` is bound to a class rather than an object.\n",
    "- Class methods can be called by both class and object. \n",
    "- These methods can be called with a class **or** with an object. \n",
    "\n",
""   ]
  },
  {
   "cell_type": "markdown",
   "metadata": {},
   "source": [
    "# Example"
   ]
  },
  {
   "cell_type": "code",
   "execution_count": 10,
   "metadata": {},
   "outputs": [],
   "source": [
    "from datetime import date\n",
    "  \n",
    "class Person:\n",
    "    def __init__(self, name, age):\n",
    "        \"\"\"\n",
    "        This will create the object by name and age\n",
    "        \"\"\"\n",
    "        self.name = name\n",
    "        self.age = age\n",
    "  \n",
    "    \"\"\"\n",
    "    This will create the object by name and year\n",
    "    \"\"\"\n",
    "    @classmethod\n",
    "    def fromBirthYear(cls, name, year):\n",
    "        return cls(name, date.today().year - year)\n",
    "  \n",
    "    def display(self):\n",
    "        print(\"Name : \", self.name, \"Age : \", self.age)"
   ]
  },
  {
   "cell_type": "code",
   "execution_count": 12,
   "metadata": {},
   "outputs": [
    {
     "name": "stdout",
     "output_type": "stream",
     "text": [
      "Name :  mayank Age :  21\n"
     ]
    }
   ],
   "source": [
    "person = Person('mayank', 21)\n",
    "person.display()"
   ]
  },
  {
   "cell_type": "code",
   "execution_count": 13,
   "metadata": {},
   "outputs": [
    {
     "name": "stdout",
     "output_type": "stream",
     "text": [
      "Name :  mayank Age :  21\n"
     ]
    }
   ],
   "source": [
    "person1 = Person.fromBirthYear('mayank', 2000)\n",
    "person1.display()"
   ]
  },
  {
   "cell_type": "code",
   "execution_count": 15,
   "metadata": {},
   "outputs": [
    {
     "name": "stdout",
     "output_type": "stream",
     "text": [
      "Name :  mayank Age :  21\n"
     ]
    }
   ],
   "source": [
    "# called by the class\n",
    "person1 = Person('just something', 1000)\n",
    "# called by the object\n",
    "person2 = person1.fromBirthYear('mayank', 2000)\n",
    "person2.display()"
   ]
  },
  {
   "cell_type": "markdown",
   "metadata": {},
   "source": [
    "# References"
   ]
  },
  {
   "cell_type": "markdown",
   "metadata": {},
   "source": [
    "\n",
    "- https://www.geeksforgeeks.org/classmethod-in-python/\n",
    "\n",
""   ]
  },
  {
   "cell_type": "code",
   "execution_count": null,
   "metadata": {},
   "outputs": [],
   "source": []
  }
 ],
 "metadata": {
  "kernelspec": {
   "display_name": "trainingAI",
   "language": "python",
   "name": "trainingai"
  },
  "language_info": {
   "codemirror_mode": {
    "name": "ipython",
    "version": 3
   },
   "file_extension": ".py",
   "mimetype": "text/x-python",
   "name": "python",
   "nbconvert_exporter": "python",
   "pygments_lexer": "ipython3",
   "version": "3.8.5"
  }
 },
 "nbformat": 4,
 "nbformat_minor": 2
}
