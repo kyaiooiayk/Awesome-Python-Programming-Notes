{
 "cells": [
  {
   "cell_type": "markdown",
   "id": "07ae13f0",
   "metadata": {
    "toc": true
   },
   "source": [
    "<h1>Table of Contents<span class=\"tocSkip\"></span></h1>\n",
    "<div class=\"toc\"><ul class=\"toc-item\"><li><span><a href=\"#Introduction\" data-toc-modified-id=\"Introduction-1\"><span class=\"toc-item-num\">1&nbsp;&nbsp;</span>Introduction</a></span></li><li><span><a href=\"#Imports\" data-toc-modified-id=\"Imports-2\"><span class=\"toc-item-num\">2&nbsp;&nbsp;</span>Imports</a></span></li><li><span><a href=\"#Explanation\" data-toc-modified-id=\"Explanation-3\"><span class=\"toc-item-num\">3&nbsp;&nbsp;</span>Explanation</a></span></li><li><span><a href=\"#Example\" data-toc-modified-id=\"Example-4\"><span class=\"toc-item-num\">4&nbsp;&nbsp;</span>Example</a></span><ul class=\"toc-item\"><li><span><a href=\"#Using-normal-dictionary\" data-toc-modified-id=\"Using-normal-dictionary-4.1\"><span class=\"toc-item-num\">4.1&nbsp;&nbsp;</span>Using normal dictionary</a></span></li><li><span><a href=\"#Using-defaultdict\" data-toc-modified-id=\"Using-defaultdict-4.2\"><span class=\"toc-item-num\">4.2&nbsp;&nbsp;</span>Using <code>defaultdict</code></a></span></li></ul></li><li><span><a href=\"#References\" data-toc-modified-id=\"References-5\"><span class=\"toc-item-num\">5&nbsp;&nbsp;</span>References</a></span></li></ul></div>"
   ]
  },
  {
   "cell_type": "markdown",
   "id": "52951695",
   "metadata": {},
   "source": [
    "# Introduction\n",
    "<hr style = \"border:2px solid black\" ></hr>"
   ]
  },
  {
   "cell_type": "markdown",
   "id": "4301ed66",
   "metadata": {},
   "source": [
    "<div class=\"alert alert-warning\">\n",
    "<font color=black>\n",
    "\n",
    "**What?** Default dictionary\n",
    "\n",
    "</font>\n",
    "</div>"
   ]
  },
  {
   "cell_type": "markdown",
   "id": "f34b5a63",
   "metadata": {},
   "source": [
    "# Imports\n",
    "<hr style = \"border:2px solid black\" ></hr>"
   ]
  },
  {
   "cell_type": "code",
   "execution_count": 1,
   "id": "7707c0cb",
   "metadata": {
    "ExecuteTime": {
     "end_time": "2023-01-25T16:12:58.950185Z",
     "start_time": "2023-01-25T16:12:58.947377Z"
    }
   },
   "outputs": [],
   "source": [
    "from collections import defaultdict"
   ]
  },
  {
   "cell_type": "markdown",
   "id": "bb3748fb",
   "metadata": {},
   "source": [
    "# Explanation\n",
    "<hr style = \"border:2px solid black\" ></hr>"
   ]
  },
  {
   "cell_type": "markdown",
   "id": "0fd1c294",
   "metadata": {},
   "source": [
    "<div class=\"alert alert-info\">\n",
    "<font color=black>\n",
    "\n",
    "- Usually, a Python dictionary throws a `KeyError` if you try to get an item with a key that is not currently in the dictionary.\n",
    "\n",
    "- The defaultdict in contrast will simply create any items that you try to access (provided of course they do not exist yet).\n",
    "\n",
    "- To create such a \"default\" item, it calls the function object that you pass to the constructor (more precisely, it's an arbitrary \"callable\" object, which includes function and type objects).\n",
    "\n",
    "- For instance:\n",
    "    - `a = defaultdict(int)` default items are created using `int()` which will return the integer object 0.\n",
    "    - `b = defaultdict(list)` default items are created using `list()` which returns a new empty list object.\n",
    "\n",
    "</font>\n",
    "</div>"
   ]
  },
  {
   "cell_type": "markdown",
   "id": "01bfc904",
   "metadata": {},
   "source": [
    "# Example\n",
    "<hr style = \"border:2px solid black\" ></hr>"
   ]
  },
  {
   "cell_type": "markdown",
   "id": "cda656bc",
   "metadata": {},
   "source": [
    "<div class=\"alert alert-info\">\n",
    "<font color=black>\n",
    "\n",
    "- Implement a group_by_owners function that: Accepts a dictionary containing the file owner name for each file name. \n",
    "- Returns a dictionary containing a list of file names for each owner name, in any order. \n",
    "- For example, for dictionary {'Input.txt': 'Randy', 'Code.py': 'Stan', 'Output.txt': 'Randy'} the group_by_owners function should return {'Randy': ['Input.txt', 'Output.txt'], 'Stan': ['Code.py']}.\n",
    "\n",
    "</font>\n",
    "</div>"
   ]
  },
  {
   "cell_type": "markdown",
   "id": "05e950e7",
   "metadata": {},
   "source": [
    "## Using normal dictionary"
   ]
  },
  {
   "cell_type": "code",
   "execution_count": 2,
   "id": "7818066e",
   "metadata": {
    "ExecuteTime": {
     "end_time": "2023-01-25T16:12:59.056001Z",
     "start_time": "2023-01-25T16:12:58.952757Z"
    }
   },
   "outputs": [
    {
     "name": "stdout",
     "output_type": "stream",
     "text": [
      "Input.txt Randy\n"
     ]
    },
    {
     "ename": "KeyError",
     "evalue": "'Randy'",
     "output_type": "error",
     "traceback": [
      "\u001b[0;31m---------------------------------------------------------------------------\u001b[0m",
      "\u001b[0;31mKeyError\u001b[0m                                  Traceback (most recent call last)",
      "\u001b[0;32m/var/folders/5x/lyqr8wv507n43bnwpsz4dq_c0000gn/T/ipykernel_26891/410595259.py\u001b[0m in \u001b[0;36m<module>\u001b[0;34m\u001b[0m\n\u001b[1;32m     18\u001b[0m     \u001b[0;34m'Output.txt'\u001b[0m\u001b[0;34m:\u001b[0m \u001b[0;34m'Randy'\u001b[0m\u001b[0;34m\u001b[0m\u001b[0;34m\u001b[0m\u001b[0m\n\u001b[1;32m     19\u001b[0m }\n\u001b[0;32m---> 20\u001b[0;31m \u001b[0mprint\u001b[0m\u001b[0;34m(\u001b[0m\u001b[0mgroup_by_owners\u001b[0m\u001b[0;34m(\u001b[0m\u001b[0mfiles\u001b[0m\u001b[0;34m)\u001b[0m\u001b[0;34m)\u001b[0m\u001b[0;34m\u001b[0m\u001b[0;34m\u001b[0m\u001b[0m\n\u001b[0m",
      "\u001b[0;32m/var/folders/5x/lyqr8wv507n43bnwpsz4dq_c0000gn/T/ipykernel_26891/410595259.py\u001b[0m in \u001b[0;36mgroup_by_owners\u001b[0;34m(files)\u001b[0m\n\u001b[1;32m      7\u001b[0m         \u001b[0mprint\u001b[0m\u001b[0;34m(\u001b[0m\u001b[0mowned\u001b[0m\u001b[0;34m,\u001b[0m \u001b[0mowner\u001b[0m\u001b[0;34m)\u001b[0m\u001b[0;34m\u001b[0m\u001b[0;34m\u001b[0m\u001b[0m\n\u001b[1;32m      8\u001b[0m         \u001b[0;31m# Whilw trying to append will throw an error\u001b[0m\u001b[0;34m\u001b[0m\u001b[0;34m\u001b[0m\u001b[0m\n\u001b[0;32m----> 9\u001b[0;31m         \u001b[0mowners\u001b[0m\u001b[0;34m[\u001b[0m\u001b[0mowner\u001b[0m\u001b[0;34m]\u001b[0m\u001b[0;34m.\u001b[0m\u001b[0mappend\u001b[0m\u001b[0;34m(\u001b[0m\u001b[0mowned\u001b[0m\u001b[0;34m)\u001b[0m\u001b[0;34m\u001b[0m\u001b[0;34m\u001b[0m\u001b[0m\n\u001b[0m\u001b[1;32m     10\u001b[0m \u001b[0;34m\u001b[0m\u001b[0m\n\u001b[1;32m     11\u001b[0m     \u001b[0;32mreturn\u001b[0m \u001b[0mdict\u001b[0m\u001b[0;34m(\u001b[0m\u001b[0mowners\u001b[0m\u001b[0;34m)\u001b[0m\u001b[0;34m\u001b[0m\u001b[0;34m\u001b[0m\u001b[0m\n",
      "\u001b[0;31mKeyError\u001b[0m: 'Randy'"
     ]
    }
   ],
   "source": [
    "def group_by_owners(files):\n",
    "    \n",
    "    # Using a simple dictionary\n",
    "    owners = {}\n",
    "\n",
    "    for owned, owner in files.items():\n",
    "        print(owned, owner)\n",
    "        # Whilw trying to append will throw an error\n",
    "        owners[owner].append(owned)\n",
    "\n",
    "    return dict(owners)\n",
    "    # return owners\n",
    "\n",
    "\n",
    "files = {\n",
    "    'Input.txt': 'Randy',\n",
    "    'Code.py': 'Stan',\n",
    "    'Output.txt': 'Randy'\n",
    "}\n",
    "print(group_by_owners(files))"
   ]
  },
  {
   "cell_type": "markdown",
   "id": "01922ae3",
   "metadata": {
    "ExecuteTime": {
     "end_time": "2023-01-25T16:12:43.572380Z",
     "start_time": "2023-01-25T16:12:43.569779Z"
    }
   },
   "source": [
    "## Using `defaultdict`"
   ]
  },
  {
   "cell_type": "code",
   "execution_count": null,
   "id": "cbe17273",
   "metadata": {
    "ExecuteTime": {
     "end_time": "2023-01-25T16:12:59.058676Z",
     "start_time": "2023-01-25T16:12:59.058660Z"
    }
   },
   "outputs": [],
   "source": [
    "def group_by_owners(files):\n",
    "\n",
    "    owners = defaultdict(list)\n",
    "\n",
    "    for owned, owner in files.items():\n",
    "        print(owned, owner)\n",
    "        owners[owner].append(owned)\n",
    "\n",
    "    return dict(owners)\n",
    "    # return owners\n",
    "\n",
    "\n",
    "files = {\n",
    "    'Input.txt': 'Randy',\n",
    "    'Code.py': 'Stan',\n",
    "    'Output.txt': 'Randy'\n",
    "}\n",
    "print(group_by_owners(files))"
   ]
  },
  {
   "cell_type": "markdown",
   "id": "21a7f45e",
   "metadata": {},
   "source": [
    "# References\n",
    "<hr style = \"border:2px solid black\" ></hr>"
   ]
  },
  {
   "cell_type": "markdown",
   "id": "a497b883",
   "metadata": {},
   "source": [
    "<div class=\"alert alert-warning\">\n",
    "<font color=black>\n",
    "\n",
    "- [TestDome home page](https://www.testdome.com/tests/python-online-test/45)\n",
    "- [elegant solution](https://github.com/jozo/testdome-python-solutions/blob/master/01_file_owners.py)\n",
    "- [python `defaultdict`](https://stackoverflow.com/questions/5900578/how-does-collections-defaultdict-work)\n",
    "\n",
    "</font>\n",
    "</div>"
   ]
  }
 ],
 "metadata": {
  "kernelspec": {
   "display_name": "trainingAI",
   "language": "python",
   "name": "trainingai"
  },
  "language_info": {
   "codemirror_mode": {
    "name": "ipython",
    "version": 3
   },
   "file_extension": ".py",
   "mimetype": "text/x-python",
   "name": "python",
   "nbconvert_exporter": "python",
   "pygments_lexer": "ipython3",
   "version": "3.9.7"
  },
  "toc": {
   "base_numbering": 1,
   "nav_menu": {},
   "number_sections": true,
   "sideBar": true,
   "skip_h1_title": false,
   "title_cell": "Table of Contents",
   "title_sidebar": "Contents",
   "toc_cell": true,
   "toc_position": {
    "height": "calc(100% - 180px)",
    "left": "10px",
    "top": "150px",
    "width": "213.233px"
   },
   "toc_section_display": true,
   "toc_window_display": true
  },
  "varInspector": {
   "cols": {
    "lenName": 16,
    "lenType": 16,
    "lenVar": 40
   },
   "kernels_config": {
    "python": {
     "delete_cmd_postfix": "",
     "delete_cmd_prefix": "del ",
     "library": "var_list.py",
     "varRefreshCmd": "print(var_dic_list())"
    },
    "r": {
     "delete_cmd_postfix": ") ",
     "delete_cmd_prefix": "rm(",
     "library": "var_list.r",
     "varRefreshCmd": "cat(var_dic_list()) "
    }
   },
   "types_to_exclude": [
    "module",
    "function",
    "builtin_function_or_method",
    "instance",
    "_Feature"
   ],
   "window_display": false
  }
 },
 "nbformat": 4,
 "nbformat_minor": 5
}
