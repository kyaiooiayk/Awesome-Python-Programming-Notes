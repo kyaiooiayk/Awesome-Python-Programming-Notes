{
 "cells": [
  {
   "cell_type": "markdown",
   "id": "4cb22ddf",
   "metadata": {},
   "source": [
    "# Instruction\n",
    "<hr style = \"border:2px solid black\" ></hr>"
   ]
  },
  {
   "cell_type": "markdown",
   "id": "6871dbdd",
   "metadata": {},
   "source": [
    "<div class=\"alert alert-warning\">\n",
    "<font color=black>\n",
    "\n",
    "- A playlist is considered a repeating playlist if any of the songs contain a reference to a previous song in the playlist. Otherwise, the playlist will end with the last song which points to None.\n",
    "    \n",
    "- Implement a function is_repeating_playlist that, efficiently with respect to time used, returns true if a playlist is repeating or false if it is not.\n",
    "\n",
    "</font>\n",
    "</div>"
   ]
  },
  {
   "cell_type": "markdown",
   "id": "20fc8f5c",
   "metadata": {},
   "source": [
    "# Start-up code\n",
    "<hr style = \"border:2px solid black\" ></hr>"
   ]
  },
  {
   "cell_type": "code",
   "execution_count": 3,
   "id": "f49b1c53",
   "metadata": {
    "ExecuteTime": {
     "end_time": "2022-03-11T09:06:46.141710Z",
     "start_time": "2022-03-11T09:06:46.137549Z"
    }
   },
   "outputs": [
    {
     "name": "stdout",
     "output_type": "stream",
     "text": [
      "None\n"
     ]
    }
   ],
   "source": [
    "#For example, the following code prints \"True\" as both songs point to each other. why?\n",
    "class Song:\n",
    "    def __init__(self, name):\n",
    "        self.name = name\n",
    "        self.next = None\n",
    "    \n",
    "    def next_song(self, song):\n",
    "        self.next = song\n",
    "    \n",
    "    def is_repeating_playlist(self):\n",
    "        return None\n",
    "    \n",
    "first = Song(\"Hello\")\n",
    "second = Song(\"Eye of the tiger\")\n",
    "first.next_song(second);\n",
    "second.next_song(first);\n",
    "print(first.is_repeating_playlist())"
   ]
  },
  {
   "cell_type": "markdown",
   "id": "f163751a",
   "metadata": {},
   "source": [
    "# Solution #1\n",
    "<hr style = \"border:2px solid black\" ></hr>"
   ]
  },
  {
   "cell_type": "code",
   "execution_count": 4,
   "id": "091dc21e",
   "metadata": {
    "ExecuteTime": {
     "end_time": "2022-03-11T09:09:09.272728Z",
     "start_time": "2022-03-11T09:09:09.267814Z"
    }
   },
   "outputs": [
    {
     "name": "stdout",
     "output_type": "stream",
     "text": [
      "True\n"
     ]
    }
   ],
   "source": [
    "class Song:\n",
    "    def __init__(self, name):\n",
    "        self.name = name\n",
    "        self.next = None\n",
    "\n",
    "    def next_song(self, song):\n",
    "        self.next = song\n",
    "\n",
    "    def is_repeating_playlist(self):\n",
    "        \"\"\"\n",
    "        :returns: (bool) True if the playlist is repeating, False if not.\n",
    "        \"\"\"\n",
    "        playlist = {self}\n",
    "        song = self.next\n",
    "        while song:\n",
    "            if song in playlist:\n",
    "                return True\n",
    "            else:\n",
    "                playlist.add(song)\n",
    "                song = song.next\n",
    "        return False\n",
    "\n",
    "\n",
    "first = Song(\"Hello\")\n",
    "second = Song(\"Eye of the tiger\")\n",
    "\n",
    "first.next_song(second)\n",
    "second.next_song(first)\n",
    "\n",
    "print(first.is_repeating_playlist())"
   ]
  },
  {
   "cell_type": "markdown",
   "id": "364120bc",
   "metadata": {},
   "source": [
    "# References\n",
    "<hr style = \"border:2px solid black\" ></hr>"
   ]
  },
  {
   "cell_type": "markdown",
   "id": "52c4d6a8",
   "metadata": {},
   "source": [
    "<div class=\"alert alert-warning\">\n",
    "<font color=black>\n",
    "\n",
    "- [TestDome home page](https://www.testdome.com/tests/python-online-test/45)\n",
    "- [Solution #1](https://github.com/jozo/testdome-python-solutions/blob/master/06_song.py)\n",
    "\n",
    "</font>\n",
    "</div>"
   ]
  },
  {
   "cell_type": "code",
   "execution_count": null,
   "id": "88e08bbd",
   "metadata": {},
   "outputs": [],
   "source": []
  }
 ],
 "metadata": {
  "kernelspec": {
   "display_name": "trainingAI",
   "language": "python",
   "name": "trainingai"
  },
  "language_info": {
   "codemirror_mode": {
    "name": "ipython",
    "version": 3
   },
   "file_extension": ".py",
   "mimetype": "text/x-python",
   "name": "python",
   "nbconvert_exporter": "python",
   "pygments_lexer": "ipython3",
   "version": "3.9.7"
  },
  "toc": {
   "base_numbering": 1,
   "nav_menu": {},
   "number_sections": true,
   "sideBar": true,
   "skip_h1_title": false,
   "title_cell": "Table of Contents",
   "title_sidebar": "Contents",
   "toc_cell": false,
   "toc_position": {},
   "toc_section_display": true,
   "toc_window_display": true
  },
  "varInspector": {
   "cols": {
    "lenName": 16,
    "lenType": 16,
    "lenVar": 40
   },
   "kernels_config": {
    "python": {
     "delete_cmd_postfix": "",
     "delete_cmd_prefix": "del ",
     "library": "var_list.py",
     "varRefreshCmd": "print(var_dic_list())"
    },
    "r": {
     "delete_cmd_postfix": ") ",
     "delete_cmd_prefix": "rm(",
     "library": "var_list.r",
     "varRefreshCmd": "cat(var_dic_list()) "
    }
   },
   "types_to_exclude": [
    "module",
    "function",
    "builtin_function_or_method",
    "instance",
    "_Feature"
   ],
   "window_display": false
  }
 },
 "nbformat": 4,
 "nbformat_minor": 5
}
