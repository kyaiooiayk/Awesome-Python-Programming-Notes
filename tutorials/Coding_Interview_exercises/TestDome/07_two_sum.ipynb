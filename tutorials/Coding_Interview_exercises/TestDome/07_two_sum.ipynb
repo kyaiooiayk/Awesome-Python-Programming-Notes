{
 "cells": [
  {
   "cell_type": "markdown",
   "id": "4cb22ddf",
   "metadata": {},
   "source": [
    "# Instruction\n",
    "<hr style = \"border:2px solid black\" ></hr>"
   ]
  },
  {
   "cell_type": "markdown",
   "id": "f56f4347",
   "metadata": {},
   "source": [
    "<div class=\"alert alert-warning\">\n",
    "<font color=black>\n",
    "\n",
    "- To be completed in **30 min**\n",
    "\n",
    "- Write a function that, when passed a list and a target sum, returns, efficiently with respect to time used, two distinct zero-based indices of any two of the numbers, whose sum is equal to the target sum. \n",
    "\n",
    "- If there are no two numbers, the function should return None.\n",
    "\n",
    "- For example, find_two_sum([3, 1, 5, 7, 5, 9], 10) should return a single tuple containing any of the following pairs of indices:\n",
    "\n",
    "```\n",
    "* 0 and 3 (or 3 and 0) as 3 + 7 = 10\n",
    "* 1 and 5 (or 5 and 1) as 1 + 9 = 10\n",
    "* 2 and 4 (or 4 and 2) as 5 + 5 = 10\n",
    "```\n",
    "\n",
    "</font>\n",
    "</div>"
   ]
  },
  {
   "cell_type": "markdown",
   "id": "20fc8f5c",
   "metadata": {},
   "source": [
    "# Start-up code\n",
    "<hr style = \"border:2px solid black\" ></hr>"
   ]
  },
  {
   "cell_type": "code",
   "execution_count": null,
   "id": "cf0c5e3e",
   "metadata": {},
   "outputs": [],
   "source": [
    "def find_two_sum(numbers, target_sum):\n",
    "    # :param numbers: (list of ints) The list of numbers.\n",
    "    # :param target_sum: (int) The required target sum.\n",
    "    # :returns: (a tuple of 2 ints) The indices of the two elements whose sum is equal to target_sum\n",
    "    return None\n",
    "print(find_two_sum([3, 1, 5, 7, 5, 9], 10))"
   ]
  },
  {
   "cell_type": "markdown",
   "id": "f163751a",
   "metadata": {},
   "source": [
    "# Solution #1\n",
    "<hr style = \"border:2px solid black\" ></hr>"
   ]
  },
  {
   "cell_type": "code",
   "execution_count": 17,
   "id": "f49b1c53",
   "metadata": {
    "ExecuteTime": {
     "end_time": "2022-03-11T09:21:53.652873Z",
     "start_time": "2022-03-11T09:21:53.648815Z"
    }
   },
   "outputs": [
    {
     "name": "stdout",
     "output_type": "stream",
     "text": [
      "(0, 3)\n"
     ]
    }
   ],
   "source": [
    "from itertools import combinations\n",
    "\n",
    "def find_two_sum(numbers, target_sum):\n",
    "    # :param numbers: (list of ints) The list of numbers.\n",
    "    # :param target_sum: (int) The required target sum.\n",
    "    # :returns: (a tuple of 2 ints) The indices of the two elements whose sum is equal to target_sum\n",
    "    \n",
    "    \n",
    "    #print(list(combinations(numbers,2)))\n",
    "    for duo in list(combinations(numbers,2)):\n",
    "        if sum(duo) == target_sum:\n",
    "            #print(duo, duo[0], duo[1], numbers.index(duo[0]), numbers.index(duo[1]))\n",
    "            # the task said any, so I will return the first one I find!\n",
    "            return (numbers.index(duo[0]), numbers.index(duo[1]))\n",
    "\n",
    "\n",
    "print(find_two_sum([3, 1, 5, 7, 5, 9], 10))"
   ]
  },
  {
   "cell_type": "markdown",
   "id": "b0870f89",
   "metadata": {},
   "source": [
    "# Solution #2\n",
    "<hr style = \"border:2px solid black\" ></hr>"
   ]
  },
  {
   "cell_type": "code",
   "execution_count": 19,
   "id": "091dc21e",
   "metadata": {
    "ExecuteTime": {
     "end_time": "2022-03-11T09:22:23.804634Z",
     "start_time": "2022-03-11T09:22:23.800451Z"
    }
   },
   "outputs": [
    {
     "name": "stdout",
     "output_type": "stream",
     "text": [
      "(3, 0)\n"
     ]
    }
   ],
   "source": [
    "def find_two_sum(numbers, target_sum):\n",
    "    \"\"\"\n",
    "    :param numbers: (list of ints) The list of numbers.\n",
    "    :param target_sum: (int) The required target sum.\n",
    "    :returns: (a tuple of 2 ints) The indices of the two elements whose sum is equal to target_sum\n",
    "    \"\"\"\n",
    "    taken = {}\n",
    "    for i, num in enumerate(numbers):\n",
    "        diff = target_sum - num\n",
    "        if diff in taken:\n",
    "            return i, taken[diff]\n",
    "        taken[num] = i\n",
    "    return None\n",
    "\n",
    "print(find_two_sum([3, 1, 5, 7, 5, 9], 10))"
   ]
  },
  {
   "cell_type": "markdown",
   "id": "364120bc",
   "metadata": {},
   "source": [
    "# References\n",
    "<hr style = \"border:2px solid black\" ></hr>"
   ]
  },
  {
   "cell_type": "markdown",
   "id": "5a739f65",
   "metadata": {},
   "source": [
    "<div class=\"alert alert-warning\">\n",
    "<font color=black>\n",
    "\n",
    "- [TestDome home page](https://www.testdome.com/tests/python-online-test/45)\n",
    "- [Solution #2](https://github.com/jozo/testdome-python-solutions/blob/master/07_two_sum.py)\n",
    "\n",
    "</font>\n",
    "</div>"
   ]
  },
  {
   "cell_type": "code",
   "execution_count": null,
   "id": "88e08bbd",
   "metadata": {},
   "outputs": [],
   "source": []
  }
 ],
 "metadata": {
  "kernelspec": {
   "display_name": "trainingAI",
   "language": "python",
   "name": "trainingai"
  },
  "language_info": {
   "codemirror_mode": {
    "name": "ipython",
    "version": 3
   },
   "file_extension": ".py",
   "mimetype": "text/x-python",
   "name": "python",
   "nbconvert_exporter": "python",
   "pygments_lexer": "ipython3",
   "version": "3.9.7"
  },
  "toc": {
   "base_numbering": 1,
   "nav_menu": {},
   "number_sections": true,
   "sideBar": true,
   "skip_h1_title": false,
   "title_cell": "Table of Contents",
   "title_sidebar": "Contents",
   "toc_cell": false,
   "toc_position": {},
   "toc_section_display": true,
   "toc_window_display": true
  },
  "varInspector": {
   "cols": {
    "lenName": 16,
    "lenType": 16,
    "lenVar": 40
   },
   "kernels_config": {
    "python": {
     "delete_cmd_postfix": "",
     "delete_cmd_prefix": "del ",
     "library": "var_list.py",
     "varRefreshCmd": "print(var_dic_list())"
    },
    "r": {
     "delete_cmd_postfix": ") ",
     "delete_cmd_prefix": "rm(",
     "library": "var_list.r",
     "varRefreshCmd": "cat(var_dic_list()) "
    }
   },
   "types_to_exclude": [
    "module",
    "function",
    "builtin_function_or_method",
    "instance",
    "_Feature"
   ],
   "window_display": false
  }
 },
 "nbformat": 4,
 "nbformat_minor": 5
}
