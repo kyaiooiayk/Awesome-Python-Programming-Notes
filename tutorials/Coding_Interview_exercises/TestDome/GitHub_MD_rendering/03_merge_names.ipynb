{
 "cells": [
  {
   "cell_type": "markdown",
   "id": "4cb22ddf",
   "metadata": {},
   "source": [
    "# Instruction\n",
    "<hr style = \"border:2px solid black\" ></hr>"
   ]
  },
  {
   "cell_type": "markdown",
   "id": "7cce0e0d",
   "metadata": {},
   "source": [
    "\n",
    "- To be completed in **10 min** \n",
    "\n",
    "- Implement the unique_names method. When passed two arrays of names, it will return an array containing the names that appear in either or both arrays.\n",
    "- The returned array should have no duplicates.\n",
    "- For example, `calling unique_names(['Ava', 'Emma', 'Olivia'], ['Olivia', 'Sophia', 'Emma'])` should return an array containing Ava, Emma, Olivia, and Sophia in any order.\n",
    "\n",
""   ]
  },
  {
   "cell_type": "markdown",
   "id": "20fc8f5c",
   "metadata": {},
   "source": [
    "# Start-up code\n",
    "<hr style = \"border:2px solid black\" ></hr>"
   ]
  },
  {
   "cell_type": "code",
   "execution_count": null,
   "id": "f49b1c53",
   "metadata": {},
   "outputs": [],
   "source": [
    "def unique_names(names1, names2):\n",
    "    return None\n",
    "\n",
    "\n",
    "names1 = [\"Ava\", \"Emma\", \"Olivia\"]\n",
    "names2 = [\"Olivia\", \"Sophia\", \"Emma\"]\n",
    "print(unique_names(names1, names2))  # should print Ava, Emma, Olivia, Sophia"
   ]
  },
  {
   "cell_type": "markdown",
   "id": "bb79330c",
   "metadata": {},
   "source": [
    "# Dirty solution\n",
    "<hr style = \"border:2px solid black\" ></hr>"
   ]
  },
  {
   "cell_type": "code",
   "execution_count": 15,
   "id": "b26438ec",
   "metadata": {
    "ExecuteTime": {
     "end_time": "2022-03-11T07:25:20.333601Z",
     "start_time": "2022-03-11T07:25:20.329665Z"
    }
   },
   "outputs": [
    {
     "name": "stdout",
     "output_type": "stream",
     "text": [
      "['Ava', 'Emma', 'Olivia', 'Sophia']\n"
     ]
    }
   ],
   "source": [
    "def unique_names(names1, names2):\n",
    "    return sorted(list(set(names1+names2)))\n",
    "\n",
    "names1 = [\"Ava\", \"Emma\", \"Olivia\"]\n",
    "names2 = [\"Olivia\", \"Sophia\", \"Emma\"]\n",
    "print(unique_names(names1, names2))  # should print Ava, Emma, Olivia, Sophia"
   ]
  },
  {
   "cell_type": "markdown",
   "id": "0e66829c",
   "metadata": {},
   "source": [
    "# Elegant solution\n",
    "<hr style = \"border:2px solid black\" ></hr>"
   ]
  },
  {
   "cell_type": "markdown",
   "id": "361a2e85",
   "metadata": {},
   "source": [
    "\n",
    "- `itertools ` is a module implements a number of iterator building blocks inspired by constructs from APL, Haskell, and SML. Each has been recast in a form suitable for Python.\n",
    "\n",
    "- The module standardizes a core set of fast, memory efficient tools that are useful by themselves or in combination. Together, they form an “iterator algebra” making it possible to construct specialized tools succinctly and efficiently in pure Python.\n",
    "\n",
""   ]
  },
  {
   "cell_type": "code",
   "execution_count": 16,
   "id": "c3df225d",
   "metadata": {
    "ExecuteTime": {
     "end_time": "2022-03-11T07:26:10.626958Z",
     "start_time": "2022-03-11T07:26:10.623507Z"
    }
   },
   "outputs": [
    {
     "name": "stdout",
     "output_type": "stream",
     "text": [
      "['Emma', 'Ava', 'Olivia', 'Sophia']\n"
     ]
    }
   ],
   "source": [
    "from itertools import chain\n",
    "\n",
    "def unique_names(names1, names2):\n",
    "    return list(set(chain(names1, names2)))\n",
    "\n",
    "names1 = [\"Ava\", \"Emma\", \"Olivia\"]\n",
    "names2 = [\"Olivia\", \"Sophia\", \"Emma\"]\n",
    "print(unique_names(names1, names2))  # should print Ava, Emma, Olivia, Sophia"
   ]
  },
  {
   "cell_type": "markdown",
   "id": "364120bc",
   "metadata": {},
   "source": [
    "# References\n",
    "<hr style = \"border:2px solid black\" ></hr>"
   ]
  },
  {
   "cell_type": "markdown",
   "id": "a6889e40",
   "metadata": {},
   "source": [
    "\n",
    "- [TestDome home page](https://www.testdome.com/tests/python-online-test/45)\n",
    "- [elegant solution](https://github.com/jozo/testdome-python-solutions/blob/master/03_merge_names.py)\n",
    "- [`itertools`](https://docs.python.org/3/library/itertools.html)\n",
    "\n",
""   ]
  },
  {
   "cell_type": "code",
   "execution_count": null,
   "id": "88e08bbd",
   "metadata": {},
   "outputs": [],
   "source": []
  }
 ],
 "metadata": {
  "kernelspec": {
   "display_name": "trainingAI",
   "language": "python",
   "name": "trainingai"
  },
  "language_info": {
   "codemirror_mode": {
    "name": "ipython",
    "version": 3
   },
   "file_extension": ".py",
   "mimetype": "text/x-python",
   "name": "python",
   "nbconvert_exporter": "python",
   "pygments_lexer": "ipython3",
   "version": "3.9.7"
  },
  "toc": {
   "base_numbering": 1,
   "nav_menu": {},
   "number_sections": true,
   "sideBar": true,
   "skip_h1_title": false,
   "title_cell": "Table of Contents",
   "title_sidebar": "Contents",
   "toc_cell": false,
   "toc_position": {},
   "toc_section_display": true,
   "toc_window_display": true
  },
  "varInspector": {
   "cols": {
    "lenName": 16,
    "lenType": 16,
    "lenVar": 40
   },
   "kernels_config": {
    "python": {
     "delete_cmd_postfix": "",
     "delete_cmd_prefix": "del ",
     "library": "var_list.py",
     "varRefreshCmd": "print(var_dic_list())"
    },
    "r": {
     "delete_cmd_postfix": ") ",
     "delete_cmd_prefix": "rm(",
     "library": "var_list.r",
     "varRefreshCmd": "cat(var_dic_list()) "
    }
   },
   "types_to_exclude": [
    "module",
    "function",
    "builtin_function_or_method",
    "instance",
    "_Feature"
   ],
   "window_display": false
  }
 },
 "nbformat": 4,
 "nbformat_minor": 5
}
