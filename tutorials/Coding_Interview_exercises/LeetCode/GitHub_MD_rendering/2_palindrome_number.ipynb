{
 "cells": [
  {
   "cell_type": "markdown",
   "id": "2459ed2a",
   "metadata": {
    "toc": true
   },
   "source": [
    "<h1>Table of Contents<span class=\"tocSkip\"></span></h1>\n",
""   ]
  },
  {
   "cell_type": "markdown",
   "id": "4cb22ddf",
   "metadata": {},
   "source": [
    "# Instruction\n",
    "<hr style = \"border:2px solid black\" ></hr>"
   ]
  },
  {
   "cell_type": "markdown",
   "id": "d633d289",
   "metadata": {},
   "source": [
    "\n",
    "- Given an integer x, return true if x is a palindrome, and false otherwise.\n",
    "\n",
    " \n",
    "```\n",
    "Example 1:\n",
    "Input: x = 121\n",
    "Output: true\n",
    "Explanation: 121 reads as 121 from left to right and from right to left.\n",
    "\n",
    "Example 2:\n",
    "Input: x = -121\n",
    "Output: false\n",
    "Explanation: From left to right, it reads -121. From right to left, it becomes 121-. Therefore it is not a palindrome.\n",
    "\n",
    "Example 3:\n",
    "Input: x = 10\n",
    "Output: false\n",
    "Explanation: Reads 01 from right to left. Therefore it is not a palindrome.\n",
    "```\n",
    "\n",
""   ]
  },
  {
   "cell_type": "markdown",
   "id": "f1daac75",
   "metadata": {},
   "source": [
    "# Start-up code\n",
    "<hr style = \"border:2px solid black\" ></hr>"
   ]
  },
  {
   "cell_type": "code",
   "execution_count": 4,
   "id": "cf0c5e3e",
   "metadata": {
    "ExecuteTime": {
     "end_time": "2022-11-30T07:20:13.799906Z",
     "start_time": "2022-11-30T07:20:13.795700Z"
    }
   },
   "outputs": [
    {
     "name": "stdout",
     "output_type": "stream",
     "text": [
      "None Expected: True\n",
      "None Expected: False\n",
      "None Expected: False\n"
     ]
    }
   ],
   "source": [
    "def isPalindrome(x: int) -> bool:\n",
    "    return None\n",
    "\n",
    "\n",
    "print(isPalindrome([121]), \"Expected: True\")\n",
    "print(isPalindrome([-121]), \"Expected: False\")\n",
    "print(isPalindrome([10]), \"Expected: False\")"
   ]
  },
  {
   "cell_type": "markdown",
   "id": "9c423446",
   "metadata": {},
   "source": [
    "# Comment - think before coding!\n",
    "<hr style = \"border:2px solid black\" ></hr>"
   ]
  },
  {
   "cell_type": "markdown",
   "id": "26ba4c67",
   "metadata": {},
   "source": [
    "\n",
    "- **negative number** will never be a polindrome, so exclude them from the beginnning.\n",
    "- **0 is an edge case** and it should not be discarde!?\n",
    "- **given an integer**, so no need to check for non integer entries.\n",
    "\n",
""   ]
  },
  {
   "cell_type": "markdown",
   "id": "f163751a",
   "metadata": {},
   "source": [
    "# Solution #1\n",
    "<hr style = \"border:2px solid black\" ></hr>"
   ]
  },
  {
   "cell_type": "markdown",
   "id": "6ea727c3",
   "metadata": {},
   "source": [
    "- [x] Passed leetcode autograder!"
   ]
  },
  {
   "cell_type": "code",
   "execution_count": 11,
   "id": "f49b1c53",
   "metadata": {
    "ExecuteTime": {
     "end_time": "2022-11-30T07:37:33.896251Z",
     "start_time": "2022-11-30T07:37:33.891072Z"
    }
   },
   "outputs": [
    {
     "name": "stdout",
     "output_type": "stream",
     "text": [
      "True Expected: True\n",
      "False Expected: False\n",
      "False Expected: False\n",
      "True Expected: True\n"
     ]
    }
   ],
   "source": [
    "def isPalindrome(x: int) -> bool:\n",
    "    \n",
    "    if x < 0:\n",
    "        return False\n",
    "    else:\n",
    "        #print(str(x), str(x)[::-1])\n",
    "        if str(x) == str(x)[::-1]:\n",
    "            return True\n",
    "        else:\n",
    "            return False\n",
    "\n",
    "\n",
    "print(isPalindrome(121), \"Expected: True\")\n",
    "print(isPalindrome(-121), \"Expected: False\")\n",
    "print(isPalindrome(10), \"Expected: False\")\n",
    "print(isPalindrome(0), \"Expected: True\")"
   ]
  },
  {
   "cell_type": "markdown",
   "id": "d53e1360",
   "metadata": {},
   "source": [
    "# Solution #2\n",
    "<hr style = \"border:2px solid black\" ></hr>"
   ]
  },
  {
   "cell_type": "markdown",
   "id": "8c4f05a6",
   "metadata": {},
   "source": [
    "- [x] Passed Leetcode autograder!"
   ]
  },
  {
   "cell_type": "code",
   "execution_count": 18,
   "id": "d600b52d",
   "metadata": {
    "ExecuteTime": {
     "end_time": "2022-11-30T08:01:50.332167Z",
     "start_time": "2022-11-30T08:01:50.328028Z"
    }
   },
   "outputs": [
    {
     "name": "stdout",
     "output_type": "stream",
     "text": [
      "True Expected: True\n",
      "False Expected: False\n",
      "False Expected: False\n",
      "True Expected: True\n"
     ]
    }
   ],
   "source": [
    "def isPalindrome(x: int) -> bool:\n",
    "    return str(x)[::-1] == str(x)\n",
    "\n",
    "print(isPalindrome(121), \"Expected: True\")\n",
    "print(isPalindrome(-121), \"Expected: False\")\n",
    "print(isPalindrome(10), \"Expected: False\")\n",
    "print(isPalindrome(0), \"Expected: True\")"
   ]
  },
  {
   "cell_type": "markdown",
   "id": "2f94adeb",
   "metadata": {},
   "source": [
    "# Solution #3\n",
    "<hr style = \"border:2px solid black\" ></hr>"
   ]
  },
  {
   "cell_type": "markdown",
   "id": "35dab00f",
   "metadata": {},
   "source": [
    "- [x] Passed Leetcode autograder!"
   ]
  },
  {
   "cell_type": "code",
   "execution_count": 34,
   "id": "83bb1467",
   "metadata": {
    "ExecuteTime": {
     "end_time": "2022-11-30T08:06:16.794005Z",
     "start_time": "2022-11-30T08:06:16.789557Z"
    },
    "code_folding": []
   },
   "outputs": [
    {
     "name": "stdout",
     "output_type": "stream",
     "text": [
      "True Expected: True\n",
      "False Expected: False\n",
      "False Expected: False\n",
      "True Expected: True\n"
     ]
    }
   ],
   "source": [
    "def isPalindrome(x: int) -> bool:          \n",
    "    return str(x) == \"\".join(reversed(str(x)))\n",
    "\n",
    "print(isPalindrome(121), \"Expected: True\")\n",
    "print(isPalindrome(-121), \"Expected: False\")\n",
    "print(isPalindrome(10), \"Expected: False\")\n",
    "print(isPalindrome(0), \"Expected: True\")"
   ]
  },
  {
   "cell_type": "markdown",
   "id": "f3f86a27",
   "metadata": {},
   "source": [
    "# Solution #4\n",
    "<hr style = \"border:2px solid black\" ></hr>"
   ]
  },
  {
   "cell_type": "markdown",
   "id": "c7dfc108",
   "metadata": {},
   "source": [
    "    \n",
    "- Could you solve this **without** converting to a string?\n",
    "- The idea here is to find a way to collect the last digit using some mathematical function.\n",
    "- Python has a modulo operator `%` which return the remainder. Because we are workingin base 10, this means we could divide by 10 over and over and always get the last digit!\n",
    "- With an example:\n",
    "    - `121%10 =1` -> 121/10 = 12.1\n",
    "    - `12%10=2` -> 12/10 = 1.2\n",
    "    - `1%10=1` -> 1/10 = 0.1\n",
    "\n",
""   ]
  },
  {
   "cell_type": "markdown",
   "id": "fb16372d",
   "metadata": {},
   "source": [
    "- [x] passed leetcode autograder"
   ]
  },
  {
   "cell_type": "code",
   "execution_count": 65,
   "id": "091dc21e",
   "metadata": {
    "ExecuteTime": {
     "end_time": "2022-11-30T08:42:03.153633Z",
     "start_time": "2022-11-30T08:42:03.148781Z"
    }
   },
   "outputs": [
    {
     "name": "stdout",
     "output_type": "stream",
     "text": [
      "True Expected: True\n",
      "False Expected: False\n",
      "False Expected: False\n",
      "True Expected: True\n"
     ]
    }
   ],
   "source": [
    "def isPalindrome(x: int) -> bool:\n",
    "\n",
    "    # Assign the temp value to original value\n",
    "    x_temp = x\n",
    "    # Assign 0 to the backward reconstructed digit\n",
    "    x_temp_back = 0\n",
    "\n",
    "    while x_temp > 0:\n",
    "        x_temp_back = (x_temp_back * 10) + (x_temp % 10)\n",
    "        # print(x_temp_back)\n",
    "        x_temp = x_temp // 10\n",
    "        # print(x)\n",
    "    return x == x_temp_back\n",
    "\n",
    "\n",
    "print(isPalindrome(121), \"Expected: True\")\n",
    "print(isPalindrome(-121), \"Expected: False\")\n",
    "print(isPalindrome(10), \"Expected: False\")\n",
    "print(isPalindrome(0), \"Expected: True\")"
   ]
  },
  {
   "cell_type": "code",
   "execution_count": 14,
   "id": "eca949a7",
   "metadata": {
    "ExecuteTime": {
     "end_time": "2022-11-30T07:56:18.898315Z",
     "start_time": "2022-11-30T07:56:18.894497Z"
    }
   },
   "outputs": [
    {
     "data": {
      "text/plain": [
       "3"
      ]
     },
     "execution_count": 14,
     "metadata": {},
     "output_type": "execute_result"
    }
   ],
   "source": [
    "123%10"
   ]
  },
  {
   "cell_type": "code",
   "execution_count": 16,
   "id": "28421b81",
   "metadata": {
    "ExecuteTime": {
     "end_time": "2022-11-30T07:57:02.074352Z",
     "start_time": "2022-11-30T07:57:02.070813Z"
    }
   },
   "outputs": [
    {
     "data": {
      "text/plain": [
       "12"
      ]
     },
     "execution_count": 16,
     "metadata": {},
     "output_type": "execute_result"
    }
   ],
   "source": [
    "123//10"
   ]
  },
  {
   "cell_type": "markdown",
   "id": "364120bc",
   "metadata": {},
   "source": [
    "# References\n",
    "<hr style = \"border:2px solid black\" ></hr>"
   ]
  },
  {
   "cell_type": "markdown",
   "id": "c159b587",
   "metadata": {},
   "source": [
    "\n",
    "- https://www.edureka.co/blog/python-program-to-check-palindrome/\n",
    "\n",
""   ]
  },
  {
   "cell_type": "code",
   "execution_count": null,
   "id": "35b285fb",
   "metadata": {},
   "outputs": [],
   "source": []
  }
 ],
 "metadata": {
  "kernelspec": {
   "display_name": "trainingAI",
   "language": "python",
   "name": "trainingai"
  },
  "language_info": {
   "codemirror_mode": {
    "name": "ipython",
    "version": 3
   },
   "file_extension": ".py",
   "mimetype": "text/x-python",
   "name": "python",
   "nbconvert_exporter": "python",
   "pygments_lexer": "ipython3",
   "version": "3.9.7"
  },
  "toc": {
   "base_numbering": 1,
   "nav_menu": {},
   "number_sections": true,
   "sideBar": true,
   "skip_h1_title": false,
   "title_cell": "Table of Contents",
   "title_sidebar": "Contents",
   "toc_cell": true,
   "toc_position": {},
   "toc_section_display": true,
   "toc_window_display": true
  },
  "varInspector": {
   "cols": {
    "lenName": 16,
    "lenType": 16,
    "lenVar": 40
   },
   "kernels_config": {
    "python": {
     "delete_cmd_postfix": "",
     "delete_cmd_prefix": "del ",
     "library": "var_list.py",
     "varRefreshCmd": "print(var_dic_list())"
    },
    "r": {
     "delete_cmd_postfix": ") ",
     "delete_cmd_prefix": "rm(",
     "library": "var_list.r",
     "varRefreshCmd": "cat(var_dic_list()) "
    }
   },
   "types_to_exclude": [
    "module",
    "function",
    "builtin_function_or_method",
    "instance",
    "_Feature"
   ],
   "window_display": false
  }
 },
 "nbformat": 4,
 "nbformat_minor": 5
}
