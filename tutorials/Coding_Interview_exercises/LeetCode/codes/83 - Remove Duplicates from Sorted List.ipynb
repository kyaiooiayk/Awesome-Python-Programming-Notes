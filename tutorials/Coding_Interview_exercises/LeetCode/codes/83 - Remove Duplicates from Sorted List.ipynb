{
 "cells": [
  {
   "cell_type": "markdown",
   "id": "2459ed2a",
   "metadata": {
    "toc": true
   },
   "source": [
    "<h1>Table of Contents<span class=\"tocSkip\"></span></h1>\n",
    "<div class=\"toc\"><ul class=\"toc-item\"><li><span><a href=\"#Description\" data-toc-modified-id=\"Description-1\"><span class=\"toc-item-num\">1&nbsp;&nbsp;</span>Description</a></span></li><li><span><a href=\"#Start-up-code\" data-toc-modified-id=\"Start-up-code-2\"><span class=\"toc-item-num\">2&nbsp;&nbsp;</span>Start-up code</a></span></li><li><span><a href=\"#Comment---think-before-coding!\" data-toc-modified-id=\"Comment---think-before-coding!-3\"><span class=\"toc-item-num\">3&nbsp;&nbsp;</span>Comment - think before coding!</a></span></li><li><span><a href=\"#Create-singly-linked-lists\" data-toc-modified-id=\"Create-singly-linked-lists-4\"><span class=\"toc-item-num\">4&nbsp;&nbsp;</span>Create singly linked lists</a></span></li><li><span><a href=\"#Solution-#1\" data-toc-modified-id=\"Solution-#1-5\"><span class=\"toc-item-num\">5&nbsp;&nbsp;</span>Solution #1</a></span></li><li><span><a href=\"#Solution-#2\" data-toc-modified-id=\"Solution-#2-6\"><span class=\"toc-item-num\">6&nbsp;&nbsp;</span>Solution #2</a></span></li><li><span><a href=\"#References\" data-toc-modified-id=\"References-7\"><span class=\"toc-item-num\">7&nbsp;&nbsp;</span>References</a></span></li></ul></div>"
   ]
  },
  {
   "cell_type": "markdown",
   "id": "40965ce3",
   "metadata": {},
   "source": [
    "# Description\n",
    "<hr style = \"border:2px solid black\" ></hr>"
   ]
  },
  {
   "cell_type": "markdown",
   "id": "ae430cad",
   "metadata": {},
   "source": [
    "<div class=\"alert alert-warning\">\n",
    "<font color=black>\n",
    "\n",
    "- Given the head of a sorted linked list, delete all duplicates such that each element appears only once.\n",
    "- Return the linked list sorted as well.\n",
    "\n",
    "```\n",
    "Example 1:\n",
    "Input: head = [1,1,2]\n",
    "Output: [1,2]\n",
    "\n",
    "Example 2:\n",
    "Input: head = [1,1,2,3,3]\n",
    "Output: [1,2,3]\n",
    "```\n",
    "    \n",
    "</font>\n",
    "</div>"
   ]
  },
  {
   "cell_type": "markdown",
   "id": "f1daac75",
   "metadata": {},
   "source": [
    "# Start-up code\n",
    "<hr style = \"border:2px solid black\" ></hr>"
   ]
  },
  {
   "cell_type": "code",
   "execution_count": 8,
   "id": "cf0c5e3e",
   "metadata": {
    "ExecuteTime": {
     "end_time": "2022-12-01T07:57:51.058148Z",
     "start_time": "2022-12-01T07:57:51.053518Z"
    }
   },
   "outputs": [
    {
     "name": "stdout",
     "output_type": "stream",
     "text": [
      "None Expected=: [1,1,2,3,4,4]\n",
      "None Expected=: []\n",
      "None Expected=: [0]\n"
     ]
    }
   ],
   "source": [
    "def mergeTwoLists(list1: list[int], list2: list[int]) -> list[int]:\n",
    "    return None\n",
    "\n",
    "print(mergeTwoLists(list1 = [1,2,4], list2 = [1,3,4]), \"Expected=: [1,1,2,3,4,4]\")\n",
    "print(mergeTwoLists(list1 = [], list2 = []), \"Expected=: []\")\n",
    "print(mergeTwoLists(list1 = [], list2 = [0]), \"Expected=: [0]\")"
   ]
  },
  {
   "cell_type": "markdown",
   "id": "9c423446",
   "metadata": {},
   "source": [
    "# Comment - think before coding!\n",
    "<hr style = \"border:2px solid black\" ></hr>"
   ]
  },
  {
   "cell_type": "markdown",
   "id": "7fb38232",
   "metadata": {},
   "source": [
    "<div class=\"alert alert-info\">\n",
    "<font color=black>\n",
    "\n",
    "- **two sorted list give** hence no need to sort the inputs.\n",
    "- **Duplicated are allowed** do not use `set`.\n",
    "- Because we are considering two numbers at the same time and because they are sorted, **recursion** could be used.\n",
    "\n",
    "</font>\n",
    "</div>"
   ]
  },
  {
   "cell_type": "markdown",
   "id": "fc19a11e",
   "metadata": {},
   "source": [
    "# Create singly linked lists\n",
    "<hr style = \"border:2px solid black\" ></hr>"
   ]
  },
  {
   "cell_type": "markdown",
   "id": "01159369",
   "metadata": {},
   "source": [
    "- [x] Passed Leetcode autograder!"
   ]
  },
  {
   "cell_type": "code",
   "execution_count": 1,
   "id": "af5bef57",
   "metadata": {
    "ExecuteTime": {
     "end_time": "2022-12-09T19:01:25.407077Z",
     "start_time": "2022-12-09T19:01:25.403137Z"
    }
   },
   "outputs": [],
   "source": [
    "class ListNode:\n",
    "    def __init__(self, val=0, next=None):\n",
    "        self.val = val\n",
    "        self.next = next"
   ]
  },
  {
   "cell_type": "code",
   "execution_count": 391,
   "id": "f2a04fc9",
   "metadata": {
    "ExecuteTime": {
     "end_time": "2022-12-10T08:24:29.304234Z",
     "start_time": "2022-12-10T08:24:29.300906Z"
    }
   },
   "outputs": [],
   "source": [
    "def print_list(list_in):\n",
    "    list_ = []\n",
    "\n",
    "    while list_in:\n",
    "        list_.append(list_in.val)\n",
    "        list_in = list_in.next\n",
    "    return list_"
   ]
  },
  {
   "cell_type": "code",
   "execution_count": 392,
   "id": "42a8f4cd",
   "metadata": {
    "ExecuteTime": {
     "end_time": "2022-12-10T08:24:30.054038Z",
     "start_time": "2022-12-10T08:24:30.051055Z"
    }
   },
   "outputs": [],
   "source": [
    "# Create list\n",
    "list1 = ListNode(1, ListNode(1, ListNode(2)))\n",
    "list2 = ListNode(1, ListNode(1, ListNode(2, ListNode(3, ListNode(3)))))"
   ]
  },
  {
   "cell_type": "code",
   "execution_count": 393,
   "id": "0e9a3725",
   "metadata": {
    "ExecuteTime": {
     "end_time": "2022-12-10T08:24:30.721007Z",
     "start_time": "2022-12-10T08:24:30.718203Z"
    }
   },
   "outputs": [
    {
     "name": "stdout",
     "output_type": "stream",
     "text": [
      "[1, 1, 2]\n",
      "[1, 1, 2, 3, 3]\n"
     ]
    }
   ],
   "source": [
    "print(print_list(list1))\n",
    "print(print_list(list2))"
   ]
  },
  {
   "cell_type": "markdown",
   "id": "fac0521e",
   "metadata": {},
   "source": [
    "# Solution #1\n",
    "<hr style = \"border:2px solid black\" ></hr>"
   ]
  },
  {
   "cell_type": "markdown",
   "id": "868ba2e8",
   "metadata": {
    "ExecuteTime": {
     "end_time": "2022-12-09T19:37:17.415805Z",
     "start_time": "2022-12-09T19:37:17.410894Z"
    }
   },
   "source": [
    "<div class=\"alert alert-info\">\n",
    "<font color=black>\n",
    "    \n",
    "- Because is already ordered we do not need to order it and we can simply limit ourself to check two consecutive ones.\n",
    "- If the two current consecutive nodes are equal we pass the only the next\n",
    "- If the two current consecutive nodes are not equal, we pass to the next consecutive nodes.\n",
    "\n",
    "</font>\n",
    "</div>"
   ]
  },
  {
   "cell_type": "code",
   "execution_count": 382,
   "id": "abb8b8d8",
   "metadata": {
    "ExecuteTime": {
     "end_time": "2022-12-10T08:24:05.161962Z",
     "start_time": "2022-12-10T08:24:05.158237Z"
    }
   },
   "outputs": [],
   "source": [
    "def deleteDuplicates(head: list) -> list:\n",
    "    \n",
    "    print(\"Checking current value\", head.val)\n",
    "    \n",
    "    # return if None or reach the end of list\n",
    "    if not head or not head.next:\n",
    "        return head\n",
    "    \n",
    "    if head.val == head.next.val:\n",
    "        return deleteDuplicates(head.next)\n",
    "    else:\n",
    "        head.next = deleteDuplicates(head.next)\n",
    "        return head\n",
    "            "
   ]
  },
  {
   "cell_type": "code",
   "execution_count": 383,
   "id": "3632f686",
   "metadata": {
    "ExecuteTime": {
     "end_time": "2022-12-10T08:24:05.456708Z",
     "start_time": "2022-12-10T08:24:05.452719Z"
    }
   },
   "outputs": [
    {
     "name": "stdout",
     "output_type": "stream",
     "text": [
      "Checking current value 1\n",
      "Checking current value 1\n",
      "Checking current value 2\n",
      "[1, 2] Expected: [1,2]]\n",
      "Checking current value 1\n",
      "Checking current value 1\n",
      "Checking current value 2\n",
      "Checking current value 3\n",
      "Checking current value 3\n",
      "[1, 2, 3] Expected: [1,2,3]]\n"
     ]
    }
   ],
   "source": [
    "print(print_list(deleteDuplicates(list1)), \"Expected: [1,2]]\")\n",
    "print(print_list(deleteDuplicates(list2)), \"Expected: [1,2,3]]\")"
   ]
  },
  {
   "cell_type": "markdown",
   "id": "69372cec",
   "metadata": {},
   "source": [
    "# Solution #2\n",
    "<hr style = \"border:2px solid black\" ></hr>"
   ]
  },
  {
   "cell_type": "code",
   "execution_count": 443,
   "id": "c52c7d3d",
   "metadata": {
    "ExecuteTime": {
     "end_time": "2022-12-10T08:36:45.841964Z",
     "start_time": "2022-12-10T08:36:45.836933Z"
    }
   },
   "outputs": [],
   "source": [
    "def deleteDuplicates(head: list) -> list:\n",
    "\n",
    "    print(\"Checking current value\", head.val)\n",
    "\n",
    "    # return if None or reach the end of list\n",
    "    print(bool(head), bool(head.next))\n",
    "    \n",
    "    # That would not work\n",
    "    #import copy\n",
    "    #temp = copy.deepcopy(head)\n",
    "    \n",
    "    # Maintain the link to object\n",
    "    temp=head\n",
    "\n",
    "    i=0\n",
    "    while head and temp.next:\n",
    "        i+=1\n",
    "        print(\"Iter No.\", i, \"list current values:\", print_list(head))\n",
    "        \n",
    "        # if equal add +1, meaning skip one value\n",
    "        if temp.val == temp.next.val:\n",
    "            temp.next = temp.next.next\n",
    "        else:\n",
    "            temp = temp.next\n",
    "    return head"
   ]
  },
  {
   "cell_type": "code",
   "execution_count": 444,
   "id": "6035d44f",
   "metadata": {
    "ExecuteTime": {
     "end_time": "2022-12-10T08:36:47.874571Z",
     "start_time": "2022-12-10T08:36:47.869999Z"
    }
   },
   "outputs": [
    {
     "name": "stdout",
     "output_type": "stream",
     "text": [
      "[1, 1, 2]\n",
      "[1, 1, 2, 3, 3]\n"
     ]
    }
   ],
   "source": [
    "# Create list\n",
    "list1 = ListNode(1, ListNode(1, ListNode(2)))\n",
    "list2 = ListNode(1, ListNode(1, ListNode(2, ListNode(3, ListNode(3)))))\n",
    "\n",
    "print(print_list(list1))\n",
    "print(print_list(list2))"
   ]
  },
  {
   "cell_type": "code",
   "execution_count": 445,
   "id": "1c58b632",
   "metadata": {
    "ExecuteTime": {
     "end_time": "2022-12-10T08:36:50.792040Z",
     "start_time": "2022-12-10T08:36:50.787013Z"
    }
   },
   "outputs": [
    {
     "name": "stdout",
     "output_type": "stream",
     "text": [
      "Checking current value 1\n",
      "True True\n",
      "Iter No. 1 list current values: [1, 1, 2]\n",
      "Iter No. 2 list current values: [1, 2]\n",
      "[1, 2] Expected: [1,2]]\n",
      "Checking current value 1\n",
      "True True\n",
      "Iter No. 1 list current values: [1, 1, 2, 3, 3]\n",
      "Iter No. 2 list current values: [1, 2, 3, 3]\n",
      "Iter No. 3 list current values: [1, 2, 3, 3]\n",
      "Iter No. 4 list current values: [1, 2, 3, 3]\n",
      "[1, 2, 3] Expected: [1,2,3]]\n"
     ]
    }
   ],
   "source": [
    "print(print_list(deleteDuplicates(list1)), \"Expected: [1,2]]\")\n",
    "print(print_list(deleteDuplicates(list2)), \"Expected: [1,2,3]]\")"
   ]
  },
  {
   "cell_type": "markdown",
   "id": "2c286f67",
   "metadata": {},
   "source": [
    "# References\n",
    "<hr style = \"border:2px solid black\" ></hr>"
   ]
  },
  {
   "cell_type": "markdown",
   "id": "0c4b14b8",
   "metadata": {},
   "source": [
    "<div class=\"alert alert-warning\">\n",
    "<font color=black>\n",
    "\n",
    "- https://redquark.org/leetcode/0021-merge-two-sorted-lists/\n",
    "\n",
    "</font>\n",
    "</div>"
   ]
  }
 ],
 "metadata": {
  "kernelspec": {
   "display_name": "trainingAI",
   "language": "python",
   "name": "trainingai"
  },
  "language_info": {
   "codemirror_mode": {
    "name": "ipython",
    "version": 3
   },
   "file_extension": ".py",
   "mimetype": "text/x-python",
   "name": "python",
   "nbconvert_exporter": "python",
   "pygments_lexer": "ipython3",
   "version": "3.9.7"
  },
  "toc": {
   "base_numbering": 1,
   "nav_menu": {},
   "number_sections": true,
   "sideBar": true,
   "skip_h1_title": false,
   "title_cell": "Table of Contents",
   "title_sidebar": "Contents",
   "toc_cell": true,
   "toc_position": {
    "height": "calc(100% - 180px)",
    "left": "10px",
    "top": "150px",
    "width": "222px"
   },
   "toc_section_display": true,
   "toc_window_display": true
  },
  "varInspector": {
   "cols": {
    "lenName": 16,
    "lenType": 16,
    "lenVar": 40
   },
   "kernels_config": {
    "python": {
     "delete_cmd_postfix": "",
     "delete_cmd_prefix": "del ",
     "library": "var_list.py",
     "varRefreshCmd": "print(var_dic_list())"
    },
    "r": {
     "delete_cmd_postfix": ") ",
     "delete_cmd_prefix": "rm(",
     "library": "var_list.r",
     "varRefreshCmd": "cat(var_dic_list()) "
    }
   },
   "types_to_exclude": [
    "module",
    "function",
    "builtin_function_or_method",
    "instance",
    "_Feature"
   ],
   "window_display": false
  }
 },
 "nbformat": 4,
 "nbformat_minor": 5
}
