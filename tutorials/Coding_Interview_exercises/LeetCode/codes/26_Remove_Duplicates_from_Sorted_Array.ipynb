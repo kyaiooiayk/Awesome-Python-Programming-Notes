{
 "cells": [
  {
   "cell_type": "markdown",
   "id": "2459ed2a",
   "metadata": {
    "toc": true
   },
   "source": [
    "<h1>Table of Contents<span class=\"tocSkip\"></span></h1>\n",
    "<div class=\"toc\"><ul class=\"toc-item\"><li><span><a href=\"#Description\" data-toc-modified-id=\"Description-1\"><span class=\"toc-item-num\">1&nbsp;&nbsp;</span>Description</a></span></li><li><span><a href=\"#Start-up-code\" data-toc-modified-id=\"Start-up-code-2\"><span class=\"toc-item-num\">2&nbsp;&nbsp;</span>Start-up code</a></span></li><li><span><a href=\"#Comment---think-before-coding!\" data-toc-modified-id=\"Comment---think-before-coding!-3\"><span class=\"toc-item-num\">3&nbsp;&nbsp;</span>Comment - think before coding!</a></span></li><li><span><a href=\"#Solution-#1\" data-toc-modified-id=\"Solution-#1-4\"><span class=\"toc-item-num\">4&nbsp;&nbsp;</span>Solution #1</a></span></li><li><span><a href=\"#References\" data-toc-modified-id=\"References-5\"><span class=\"toc-item-num\">5&nbsp;&nbsp;</span>References</a></span></li></ul></div>"
   ]
  },
  {
   "cell_type": "markdown",
   "id": "40965ce3",
   "metadata": {},
   "source": [
    "# Description\n",
    "<hr style = \"border:2px solid black\" ></hr>"
   ]
  },
  {
   "cell_type": "markdown",
   "id": "1bb147e5",
   "metadata": {},
   "source": [
    "<div class=\"alert alert-warning\">\n",
    "<font color=black>\n",
    "\n",
    "- Given an integer array nums sorted in non-decreasing order, remove the duplicates in-place such that each unique element appears only once. The relative order of the elements should be kept the same.\n",
    "- Return k after placing the final result in the first k slots of nums.\n",
    "- Do not allocate extra space for another array. You must do this by modifying the input array in-place with O(1) extra memory.\n",
    "    \n",
    "```\n",
    "Example 1:\n",
    "Input: nums = [1,1,2]\n",
    "Output: 2, nums = [1,2,_]\n",
    "Explanation: Your function should return k = 2, with the first two elements of nums being 1 and 2 respectively.\n",
    "It does not matter what you leave beyond the returned k (hence they are underscores).\n",
    "\n",
    "Example 2:\n",
    "Input: nums = [0,0,1,1,1,2,2,3,3,4]\n",
    "Output: 5, nums = [0,1,2,3,4,_,_,_,_,_]\n",
    "Explanation: Your function should return k = 5, with the first five elements of nums being 0, 1, 2, 3, and 4 respectively.\n",
    "It does not matter what you leave beyond the returned k (hence they are underscores).\n",
    "```\n",
    "    \n",
    "</font>\n",
    "</div>"
   ]
  },
  {
   "cell_type": "markdown",
   "id": "f1daac75",
   "metadata": {},
   "source": [
    "# Start-up code\n",
    "<hr style = \"border:2px solid black\" ></hr>"
   ]
  },
  {
   "cell_type": "code",
   "execution_count": 10,
   "id": "cf0c5e3e",
   "metadata": {
    "ExecuteTime": {
     "end_time": "2022-12-04T10:19:42.909856Z",
     "start_time": "2022-12-04T10:19:42.905893Z"
    }
   },
   "outputs": [
    {
     "name": "stdout",
     "output_type": "stream",
     "text": [
      "None Expected=: 2, [1,2]\n",
      "None Expected=: 4, [0, 1,2,3,4]\n"
     ]
    }
   ],
   "source": [
    "def removeDuplicates(nums: list[int]) -> int:\n",
    "    return None\n",
    "\n",
    "print(removeDuplicates([1,12]), \"Expected=: 2, [1,2]\")\n",
    "print(removeDuplicates([0,0,1,1,1,2,2,3,3,4]), \"Expected=: 4, [0,1,2,3,4]\")"
   ]
  },
  {
   "cell_type": "markdown",
   "id": "9c423446",
   "metadata": {},
   "source": [
    "# Comment - think before coding!\n",
    "<hr style = \"border:2px solid black\" ></hr>"
   ]
  },
  {
   "cell_type": "markdown",
   "id": "81b3cb60",
   "metadata": {},
   "source": [
    "<div class=\"alert alert-info\">\n",
    "<font color=black>\n",
    "\n",
    "- **sorted in non-decreasing order** hence alwasy from small to large number\n",
    "- **Do not allocate extra space for another array** hence, do not create a new array/list and always work with in-place substitution.\n",
    "\n",
    "</font>\n",
    "</div>"
   ]
  },
  {
   "cell_type": "markdown",
   "id": "f163751a",
   "metadata": {},
   "source": [
    "# Solution #1\n",
    "<hr style = \"border:2px solid black\" ></hr>"
   ]
  },
  {
   "cell_type": "markdown",
   "id": "f2da74b7",
   "metadata": {},
   "source": [
    "- [x] Passed LeetCode autograder."
   ]
  },
  {
   "cell_type": "code",
   "execution_count": 11,
   "id": "06e3d39b",
   "metadata": {
    "ExecuteTime": {
     "end_time": "2022-12-04T10:19:46.392319Z",
     "start_time": "2022-12-04T10:19:46.388317Z"
    }
   },
   "outputs": [],
   "source": [
    "def removeDuplicates(nums: list[int]) -> [int, list]:\n",
    "    \"\"\"\n",
    "    Code slightly modified to run on notebook\n",
    "    Slighly modified to return the actualy value of nums\n",
    "    \"\"\"\n",
    "\n",
    "    # Find unique value while maintaing the order\n",
    "    seen = sorted(list(set(nums)))\n",
    "\n",
    "    # In place substitution, do not make copy, autograder would not accept this!\n",
    "    for i, value in enumerate(seen):\n",
    "        nums[i] = value\n",
    "\n",
    "    # Instruction not clear!\n",
    "    nums = nums[:len(seen)]\n",
    "\n",
    "    # super fast better thab len(nums)\n",
    "    return len(list(set(nums))), nums"
   ]
  },
  {
   "cell_type": "code",
   "execution_count": 9,
   "id": "064033a7",
   "metadata": {
    "ExecuteTime": {
     "end_time": "2022-12-04T10:19:37.546180Z",
     "start_time": "2022-12-04T10:19:37.542061Z"
    }
   },
   "outputs": [
    {
     "name": "stdout",
     "output_type": "stream",
     "text": [
      "(2, [1, 12]) Expected=: 2, [1,2]\n",
      "(5, [0, 1, 2, 3, 4]) Expected=: 4, [0, 1,2,3,4]\n"
     ]
    }
   ],
   "source": [
    "print(removeDuplicates([1,12]), \"Expected=: 2, [1,2]\")\n",
    "print(removeDuplicates([0,0,1,1,1,2,2,3,3,4]), \"Expected=: 4, [0, 1,2,3,4]\")"
   ]
  },
  {
   "cell_type": "markdown",
   "id": "2c286f67",
   "metadata": {},
   "source": [
    "# References\n",
    "<hr style = \"border:2px solid black\" ></hr>"
   ]
  },
  {
   "cell_type": "markdown",
   "id": "7f92b782",
   "metadata": {},
   "source": [
    "<div class=\"alert alert-warning\">\n",
    "<font color=black>\n",
    "\n",
    "- LeetCode website, challenge No 26\n",
    "\n",
    "</font>\n",
    "</div>"
   ]
  },
  {
   "cell_type": "code",
   "execution_count": null,
   "id": "59ee41dd",
   "metadata": {},
   "outputs": [],
   "source": []
  }
 ],
 "metadata": {
  "kernelspec": {
   "display_name": "trainingAI",
   "language": "python",
   "name": "trainingai"
  },
  "language_info": {
   "codemirror_mode": {
    "name": "ipython",
    "version": 3
   },
   "file_extension": ".py",
   "mimetype": "text/x-python",
   "name": "python",
   "nbconvert_exporter": "python",
   "pygments_lexer": "ipython3",
   "version": "3.9.7"
  },
  "toc": {
   "base_numbering": 1,
   "nav_menu": {},
   "number_sections": true,
   "sideBar": true,
   "skip_h1_title": false,
   "title_cell": "Table of Contents",
   "title_sidebar": "Contents",
   "toc_cell": true,
   "toc_position": {},
   "toc_section_display": true,
   "toc_window_display": true
  },
  "varInspector": {
   "cols": {
    "lenName": 16,
    "lenType": 16,
    "lenVar": 40
   },
   "kernels_config": {
    "python": {
     "delete_cmd_postfix": "",
     "delete_cmd_prefix": "del ",
     "library": "var_list.py",
     "varRefreshCmd": "print(var_dic_list())"
    },
    "r": {
     "delete_cmd_postfix": ") ",
     "delete_cmd_prefix": "rm(",
     "library": "var_list.r",
     "varRefreshCmd": "cat(var_dic_list()) "
    }
   },
   "types_to_exclude": [
    "module",
    "function",
    "builtin_function_or_method",
    "instance",
    "_Feature"
   ],
   "window_display": false
  }
 },
 "nbformat": 4,
 "nbformat_minor": 5
}
