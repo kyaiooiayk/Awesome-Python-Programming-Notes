{
 "cells": [
  {
   "cell_type": "markdown",
   "id": "2459ed2a",
   "metadata": {
    "toc": true
   },
   "source": [
    "<h1>Table of Contents<span class=\"tocSkip\"></span></h1>\n",
""   ]
  },
  {
   "cell_type": "markdown",
   "id": "40965ce3",
   "metadata": {},
   "source": [
    "# Description\n",
    "<hr style = \"border:2px solid black\" ></hr>"
   ]
  },
  {
   "cell_type": "markdown",
   "id": "c52ec99e",
   "metadata": {},
   "source": [
    "\n",
    "- Given the roots of two binary trees p and q, write a function to check if they are the same or not.\n",
    "- Two binary trees are considered the same if they are structurally identical, and the nodes have the same value.\n",
    "  \n",
    "```\n",
    "Example #1\n",
    "Input: p = [1,2,3], q = [1,2,3]\n",
    "Output: true\n",
    "    \n",
    "Example #2\n",
    "Input: p = [1,2], q = [1,null,2]\n",
    "Output: false\n",
    "    \n",
    "Example #3\n",
    "Input: p = [1,2,1], q = [1,1,2]\n",
    "Output: false\n",
    "```\n",
""   ]
  },
  {
   "cell_type": "markdown",
   "id": "f1daac75",
   "metadata": {},
   "source": [
    "# Start-up code\n",
    "<hr style = \"border:2px solid black\" ></hr>"
   ]
  },
  {
   "cell_type": "code",
   "execution_count": 188,
   "id": "cf0c5e3e",
   "metadata": {
    "ExecuteTime": {
     "end_time": "2022-12-11T13:26:55.066887Z",
     "start_time": "2022-12-11T13:26:55.063697Z"
    }
   },
   "outputs": [],
   "source": [
    "def isSameTree(p, q):\n",
    "\n",
    "    return None"
   ]
  },
  {
   "cell_type": "markdown",
   "id": "9c423446",
   "metadata": {},
   "source": [
    "# Comment - think before coding!\n",
    "<hr style = \"border:2px solid black\" ></hr>"
   ]
  },
  {
   "cell_type": "markdown",
   "id": "93b006a5",
   "metadata": {},
   "source": [
    "\n",
    "- Consider the edge cases:\n",
    "    - `[]` and `[]`\n",
    "    - `[0]` and `[0]`\n",
    "    - `[0]` and `[]`\n",
    "\n",
""   ]
  },
  {
   "cell_type": "markdown",
   "id": "65949908",
   "metadata": {},
   "source": [
    "# Create a tree node\n",
    "<hr style = \"border:2px solid black\" ></hr>"
   ]
  },
  {
   "cell_type": "markdown",
   "id": "88af055a",
   "metadata": {},
   "source": [
    "    \n",
    "- A Tree is a Data structure in which data items are connected using references in a hierarchical manner. Each Tree consists of a root node from which we can access each element of the tree. Starting from the root node, each node contains zero or more nodes connected to it as children. A simple binary tree can be depicted as seen in the following figure.\n",
    "- A binary tree is a tree which has **at most** two children only, generally referred to as left and right. This means it can also have a single child.\n",
    "\n",
""   ]
  },
  {
   "attachments": {
    "image.png": {
     "image/png": "[encoded data removed]"
    }
   },
   "cell_type": "markdown",
   "id": "a3ef82e8",
   "metadata": {},
   "source": [
    "![image.png](attachment:image.png)"
   ]
  },
  {
   "cell_type": "code",
   "execution_count": 3,
   "id": "af5bef57",
   "metadata": {
    "ExecuteTime": {
     "end_time": "2022-12-11T12:02:55.291268Z",
     "start_time": "2022-12-11T12:02:55.288414Z"
    }
   },
   "outputs": [],
   "source": [
    "# Definition for a binary tree node.\n",
    "class TreeNode:\n",
    "    def __init__(self, val=0, left=None, right=None):\n",
    "        self.val = val\n",
    "        self.left = left\n",
    "        self.right = right"
   ]
  },
  {
   "cell_type": "code",
   "execution_count": 66,
   "id": "f2a04fc9",
   "metadata": {
    "ExecuteTime": {
     "end_time": "2022-12-11T12:22:18.795826Z",
     "start_time": "2022-12-11T12:22:18.792362Z"
    }
   },
   "outputs": [],
   "source": [
    "def print_tree(tree_in):\n",
    "    print(\"Root\", tree_in.val)\n",
    "    if tree_in.left:\n",
    "        print(\"Left\", tree_in.left.val)\n",
    "    else:\n",
    "        print(\"Left=None\")\n",
    "    if tree_in.right:\n",
    "        print(\"Right\", tree_in.right.val)\n",
    "    else:\n",
    "        print(\"Right=None\")"
   ]
  },
  {
   "cell_type": "code",
   "execution_count": 76,
   "id": "42a8f4cd",
   "metadata": {
    "ExecuteTime": {
     "end_time": "2022-12-11T12:25:00.411931Z",
     "start_time": "2022-12-11T12:25:00.407811Z"
    }
   },
   "outputs": [],
   "source": [
    "# Create list\n",
    "tree1 = TreeNode(1,TreeNode(2),TreeNode(3)) \n",
    "tree11 = TreeNode(1,TreeNode(2),TreeNode(3)) \n",
    "\n",
    "tree2 = TreeNode(1,TreeNode(2)) \n",
    "tree22 = TreeNode(1,right=TreeNode(2))\n",
    "\n",
    "tree3 = TreeNode(1,TreeNode(2),TreeNode(1)) \n",
    "tree33 = TreeNode(1,TreeNode(1),TreeNode(2)) "
   ]
  },
  {
   "cell_type": "code",
   "execution_count": 148,
   "id": "0e9a3725",
   "metadata": {
    "ExecuteTime": {
     "end_time": "2022-12-11T13:00:41.233842Z",
     "start_time": "2022-12-11T13:00:41.230768Z"
    }
   },
   "outputs": [
    {
     "name": "stdout",
     "output_type": "stream",
     "text": [
      "Root 1\n",
      "Left=None\n",
      "Right 2\n"
     ]
    }
   ],
   "source": [
    "print_tree(tree22)"
   ]
  },
  {
   "cell_type": "markdown",
   "id": "fac0521e",
   "metadata": {},
   "source": [
    "# Solution #1\n",
    "<hr style = \"border:2px solid black\" ></hr>"
   ]
  },
  {
   "cell_type": "markdown",
   "id": "530ecd17",
   "metadata": {
    "ExecuteTime": {
     "end_time": "2022-12-09T19:37:17.415805Z",
     "start_time": "2022-12-09T19:37:17.410894Z"
    }
   },
   "source": [
    "    \n",
    "- Use recursive function.\n",
    "\n",
""   ]
  },
  {
   "cell_type": "code",
   "execution_count": 192,
   "id": "abb8b8d8",
   "metadata": {
    "ExecuteTime": {
     "end_time": "2022-12-11T13:33:52.318561Z",
     "start_time": "2022-12-11T13:33:52.314293Z"
    }
   },
   "outputs": [],
   "source": [
    "def isSameTree(p, q):\n",
    "\n",
    "    # Edge case #1 - both empty nodes\n",
    "    if p is None and q is None:\n",
    "        return True\n",
    "\n",
    "    # Edge case #2 -  at least one empty\n",
    "    if p is None or q is None:\n",
    "        return False\n",
    "\n",
    "    # Anything else check - we are sure that both left and right exhist\n",
    "    cond1 = p.val == q.val\n",
    "    cond2 = isSameTree(p.left, q.left)\n",
    "    cond3 = isSameTree(p.right, q.right)\n",
    "\n",
    "    combined = cond1 and cond2 and cond3\n",
    "\n",
    "    return combined"
   ]
  },
  {
   "cell_type": "code",
   "execution_count": 193,
   "id": "3632f686",
   "metadata": {
    "ExecuteTime": {
     "end_time": "2022-12-11T13:33:52.570231Z",
     "start_time": "2022-12-11T13:33:52.565124Z"
    }
   },
   "outputs": [
    {
     "name": "stdout",
     "output_type": "stream",
     "text": [
      "True =? True\n",
      "False =? False\n",
      "False =? False\n",
      "True =? True\n",
      "True =? True\n",
      "False =? False\n",
      "False =? False\n"
     ]
    }
   ],
   "source": [
    "print(isSameTree(tree1, tree11), \"=? True\")\n",
    "print(isSameTree(tree2, tree22), \"=? False\")\n",
    "print(isSameTree(tree3, tree33), \"=? False\")\n",
    "print(isSameTree(TreeNode(), TreeNode()), \"=? True\")\n",
    "print(isSameTree(TreeNode([]), TreeNode([])), \"=? True\")\n",
    "print(isSameTree(TreeNode([]), TreeNode(0)), \"=? False\")\n",
    "print(isSameTree(TreeNode(0), TreeNode([])), \"=? False\")"
   ]
  },
  {
   "cell_type": "markdown",
   "id": "2c286f67",
   "metadata": {},
   "source": [
    "# References\n",
    "<hr style = \"border:2px solid black\" ></hr>"
   ]
  },
  {
   "cell_type": "markdown",
   "id": "d299aabb",
   "metadata": {},
   "source": [
    "\n",
    "- [Tree Data Structure in Python](https://www.pythonforbeginners.com/data-structures/tree-data-structure-in-python)\n",
    "\n",
""   ]
  },
  {
   "cell_type": "code",
   "execution_count": null,
   "id": "af46b094",
   "metadata": {},
   "outputs": [],
   "source": []
  }
 ],
 "metadata": {
  "kernelspec": {
   "display_name": "trainingAI",
   "language": "python",
   "name": "trainingai"
  },
  "language_info": {
   "codemirror_mode": {
    "name": "ipython",
    "version": 3
   },
   "file_extension": ".py",
   "mimetype": "text/x-python",
   "name": "python",
   "nbconvert_exporter": "python",
   "pygments_lexer": "ipython3",
   "version": "3.9.7"
  },
  "toc": {
   "base_numbering": 1,
   "nav_menu": {},
   "number_sections": true,
   "sideBar": true,
   "skip_h1_title": false,
   "title_cell": "Table of Contents",
   "title_sidebar": "Contents",
   "toc_cell": true,
   "toc_position": {
    "height": "calc(100% - 180px)",
    "left": "10px",
    "top": "150px",
    "width": "222px"
   },
   "toc_section_display": true,
   "toc_window_display": true
  },
  "varInspector": {
   "cols": {
    "lenName": 16,
    "lenType": 16,
    "lenVar": 40
   },
   "kernels_config": {
    "python": {
     "delete_cmd_postfix": "",
     "delete_cmd_prefix": "del ",
     "library": "var_list.py",
     "varRefreshCmd": "print(var_dic_list())"
    },
    "r": {
     "delete_cmd_postfix": ") ",
     "delete_cmd_prefix": "rm(",
     "library": "var_list.r",
     "varRefreshCmd": "cat(var_dic_list()) "
    }
   },
   "types_to_exclude": [
    "module",
    "function",
    "builtin_function_or_method",
    "instance",
    "_Feature"
   ],
   "window_display": false
  }
 },
 "nbformat": 4,
 "nbformat_minor": 5
}
