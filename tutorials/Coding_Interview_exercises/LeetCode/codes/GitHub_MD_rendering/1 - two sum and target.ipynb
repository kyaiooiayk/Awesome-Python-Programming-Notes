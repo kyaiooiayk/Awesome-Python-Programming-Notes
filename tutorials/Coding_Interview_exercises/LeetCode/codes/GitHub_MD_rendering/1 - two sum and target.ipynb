{
 "cells": [
  {
   "cell_type": "markdown",
   "id": "2459ed2a",
   "metadata": {
    "toc": true
   },
   "source": [
    "<h1>Table of Contents<span class=\"tocSkip\"></span></h1>\n",
""   ]
  },
  {
   "cell_type": "markdown",
   "id": "4cb22ddf",
   "metadata": {},
   "source": [
    "# Instruction\n",
    "<hr style = \"border:2px solid black\" ></hr>"
   ]
  },
  {
   "cell_type": "markdown",
   "id": "bef298f5",
   "metadata": {},
   "source": [
    "\n",
    "- Given an array of integers nums and an integer target, return indices of the two numbers such that they add up to target.\n",
    "- You may assume that each input would have exactly one solution, and you may not use the same element twice.\n",
    "- You can return the answer in any order.\n",
    "\n",
    "```\n",
    "Example 1:\n",
    "Input: nums = [2,7,11,15], target = 9\n",
    "Output: [0,1]\n",
    "Explanation: Because nums[0] + nums[1] == 9, we return [0, 1].\n",
    "\n",
    "Example 2:\n",
    "Input: nums = [3,2,4], target = 6\n",
    "Output: [1,2]\n",
    "\n",
    "Example 3:\n",
    "Input: nums = [3,3], target = 6\n",
    "Output: [0,1]\n",
    "```\n",
    "\n",
""   ]
  },
  {
   "cell_type": "markdown",
   "id": "f1daac75",
   "metadata": {},
   "source": [
    "# Start-up code\n",
    "<hr style = \"border:2px solid black\" ></hr>"
   ]
  },
  {
   "cell_type": "code",
   "execution_count": 73,
   "id": "cf0c5e3e",
   "metadata": {
    "ExecuteTime": {
     "end_time": "2022-11-29T08:26:03.410713Z",
     "start_time": "2022-11-29T08:26:03.406026Z"
    }
   },
   "outputs": [
    {
     "name": "stdout",
     "output_type": "stream",
     "text": [
      "None\n",
      "None\n",
      "None\n",
      "None\n",
      "None\n"
     ]
    }
   ],
   "source": [
    "def twoSum(numbers: list[int], target_sum: int) -> list[int]:\n",
    "    dummy = 1\n",
    "\n",
    "    return None\n",
    "\n",
    "\n",
    "print(twoSum([0,2,7,11,15], 9))\n",
    "print(twoSum([1, 3,1,3,2,4], 6))\n",
    "print(twoSum([3,3], 6))\n",
    "print(twoSum([-6,12], 6))\n",
    "print(twoSum([1,-9,3], -6))"
   ]
  },
  {
   "cell_type": "markdown",
   "id": "9c423446",
   "metadata": {},
   "source": [
    "# Comment - think before coding!\n",
    "<hr style = \"border:2px solid black\" ></hr>"
   ]
  },
  {
   "cell_type": "markdown",
   "id": "a71709d2",
   "metadata": {},
   "source": [
    "\n",
    "- **any 2 numbers** -> use `itertools.combinations` (no repetitions) and not `itertools.permutations` (with repetitions).\n",
    "- **they add up to target** -> use `np.sum()` to quickly get all the sums.\n",
    "- **one solution** -> pay attention to duplicates.\n",
    "- **one solution** -> no need for edge case as in what if there is no combination summing to target value.\n",
    "- **may not use the same element twice** -> do not use duplicated indices.\n",
    "- **return the answer in any order** -> not need to use `set()`.\n",
    "\n",
""   ]
  },
  {
   "cell_type": "markdown",
   "id": "f163751a",
   "metadata": {},
   "source": [
    "# Solution #1\n",
    "<hr style = \"border:2px solid black\" ></hr>"
   ]
  },
  {
   "cell_type": "markdown",
   "id": "9df9339a",
   "metadata": {},
   "source": [
    "- [ ] Did NOT passed leetcode autograder!"
   ]
  },
  {
   "cell_type": "code",
   "execution_count": 136,
   "id": "f49b1c53",
   "metadata": {
    "ExecuteTime": {
     "end_time": "2022-11-29T14:57:01.067546Z",
     "start_time": "2022-11-29T14:57:01.059835Z"
    }
   },
   "outputs": [
    {
     "name": "stdout",
     "output_type": "stream",
     "text": [
      "[0, 1]\n",
      "[2, 3]\n",
      "[2, 4]\n",
      "[1, 3]\n",
      "[0, 1]\n",
      "[1, 2]\n"
     ]
    }
   ],
   "source": [
    "from itertools import combinations\n",
    "\n",
    "def twoSum(numbers: list[int], target_sum: int) -> list[int]:\n",
    "    \n",
    "    #print(list(combinations(numbers,2)))\n",
    "    for duo in list(combinations(numbers,2)):\n",
    "        if sum(duo) == target_sum:\n",
    "            #print(duo)\n",
    "            seen = []\n",
    "            \n",
    "            #print(\"---\", duo, np.where(np.array(numbers) == duo[0])[0])\n",
    "            for i in np.where(np.array(numbers) == duo[0])[0]:\n",
    "                seen.append(i)\n",
    "            \n",
    "\n",
    "            if len(seen) ==2:\n",
    "                return seen\n",
    "            \n",
    "            for i in np.where(np.array(numbers) == duo[1])[0]:\n",
    "                if i not in seen:\n",
    "                    seen.append(i)\n",
    "            \n",
    "            if len(seen) ==2:\n",
    "                return seen\n",
    "\n",
    "\n",
    "print(twoSum([3,3], 6))\n",
    "print(twoSum([0,1,2,7,11,15], 9))\n",
    "print(twoSum([0,1,2,7,2,7,11,15], 9))\n",
    "print(twoSum([1, 3,1,3,2,4], 6))\n",
    "print(twoSum([-6,12], 6))\n",
    "print(twoSum([1,-9,3], -6))"
   ]
  },
  {
   "cell_type": "markdown",
   "id": "b0870f89",
   "metadata": {},
   "source": [
    "# Solution #2\n",
    "<hr style = \"border:2px solid black\" ></hr>"
   ]
  },
  {
   "cell_type": "markdown",
   "id": "fb465b30",
   "metadata": {},
   "source": [
    "    \n",
    "- We will use the hashmap approach to solve this. Hash maps are indexed data structures.  \n",
    "- The aim is to store the indices of the elements that have previously been viewed in a hashmap. \n",
    "- The number in the supplied input array is the hashmap’s “key” (You add this to the hashmap as you visit each element). The index of the integer in the array represented by the hashmap key is the “value” of the hashmap.\n",
    "- At every step, we will check that key is present in seen variable or not. If it is present then we simplly get the index of that key.\n",
    "\n",
""   ]
  },
  {
   "cell_type": "markdown",
   "id": "fb16372d",
   "metadata": {},
   "source": [
    "- [x] passed leetcode autograder"
   ]
  },
  {
   "cell_type": "code",
   "execution_count": 111,
   "id": "091dc21e",
   "metadata": {
    "ExecuteTime": {
     "end_time": "2022-11-29T14:47:33.502092Z",
     "start_time": "2022-11-29T14:47:33.495675Z"
    }
   },
   "outputs": [
    {
     "name": "stdout",
     "output_type": "stream",
     "text": [
      "[3, 2]\n",
      "[3, 2]\n",
      "[3, 1]\n",
      "[1, 0]\n",
      "[1, 0]\n",
      "[2, 1]\n"
     ]
    }
   ],
   "source": [
    "def twoSum(numbers: list[int], target_sum: int) -> list[int]:\n",
    "\n",
    "    # Crate dictionary that will contatin num and its index\n",
    "    processed = {}\n",
    "    for index_temp, num_temp in enumerate(numbers):\n",
    "        #print(\"intake in loop\", index_temp, num_temp)\n",
    "        \n",
    "        \n",
    "        \"\"\"\n",
    "        a+b=c\n",
    "        a = c-b\n",
    "        The trick here is to don't throw away any already processed info\n",
    "        \"\"\"\n",
    "        diff = target_sum - num_temp\n",
    "        \n",
    "        #print(\"diff\", diff)\n",
    "        \n",
    "        #Equivalent to if diff in taken.keys():\n",
    "        if diff in processed:\n",
    "            #print(\"processed\", processed)\n",
    "            # Will return as soon as found + stop loop -> save time (mostly) and memory\n",
    "            return [index_temp, processed[diff]]\n",
    "        processed[num_temp] = index_temp\n",
    "        #print(\"dict\", taken)\n",
    "\n",
    "\n",
    "print(twoSum([0,1,2,7,11,15], 9))\n",
    "print(twoSum([0,1,2,7,2,7,11,15], 9))\n",
    "print(twoSum([1, 3,1,3,2,4], 6))\n",
    "print(twoSum([3,3], 6))\n",
    "print(twoSum([-6,12], 6))\n",
    "print(twoSum([1,-9,3], -6))"
   ]
  },
  {
   "cell_type": "code",
   "execution_count": 90,
   "id": "751ba414",
   "metadata": {
    "ExecuteTime": {
     "end_time": "2022-11-29T14:00:28.072699Z",
     "start_time": "2022-11-29T14:00:28.069087Z"
    }
   },
   "outputs": [
    {
     "data": {
      "text/plain": [
       "{3: 4}"
      ]
     },
     "execution_count": 90,
     "metadata": {},
     "output_type": "execute_result"
    }
   ],
   "source": [
    "taken={}\n",
    "taken[3] =4\n",
    "taken"
   ]
  },
  {
   "cell_type": "code",
   "execution_count": 93,
   "id": "816288f5",
   "metadata": {
    "ExecuteTime": {
     "end_time": "2022-11-29T14:00:54.114524Z",
     "start_time": "2022-11-29T14:00:54.110962Z"
    }
   },
   "outputs": [
    {
     "data": {
      "text/plain": [
       "dict_keys([3])"
      ]
     },
     "execution_count": 93,
     "metadata": {},
     "output_type": "execute_result"
    }
   ],
   "source": [
    "taken.keys()"
   ]
  },
  {
   "cell_type": "code",
   "execution_count": 92,
   "id": "9e9163f4",
   "metadata": {
    "ExecuteTime": {
     "end_time": "2022-11-29T14:00:38.047350Z",
     "start_time": "2022-11-29T14:00:38.043571Z"
    }
   },
   "outputs": [
    {
     "data": {
      "text/plain": [
       "False"
      ]
     },
     "execution_count": 92,
     "metadata": {},
     "output_type": "execute_result"
    }
   ],
   "source": [
    "4 in taken"
   ]
  },
  {
   "cell_type": "markdown",
   "id": "364120bc",
   "metadata": {},
   "source": [
    "# References\n",
    "<hr style = \"border:2px solid black\" ></hr>"
   ]
  },
  {
   "cell_type": "markdown",
   "id": "79460adc",
   "metadata": {},
   "source": [
    "\n",
    "- [TestDome home page](https://www.testdome.com/tests/python-online-test/45)\n",
    "- [Solution #2](https://github.com/jozo/testdome-python-solutions/blob/master/07_two_sum.py)\n",
    "- [Two sum leet code explained!](https://siteinvokers.com/two-sum-leet-code/)\n",
    "- [Hash map](https://www.geeksforgeeks.org/hash-map-in-python/)\n",
    "   \n",
""   ]
  },
  {
   "cell_type": "code",
   "execution_count": null,
   "id": "35b285fb",
   "metadata": {},
   "outputs": [],
   "source": []
  }
 ],
 "metadata": {
  "kernelspec": {
   "display_name": "trainingAI",
   "language": "python",
   "name": "trainingai"
  },
  "language_info": {
   "codemirror_mode": {
    "name": "ipython",
    "version": 3
   },
   "file_extension": ".py",
   "mimetype": "text/x-python",
   "name": "python",
   "nbconvert_exporter": "python",
   "pygments_lexer": "ipython3",
   "version": "3.9.7"
  },
  "toc": {
   "base_numbering": 1,
   "nav_menu": {},
   "number_sections": true,
   "sideBar": true,
   "skip_h1_title": false,
   "title_cell": "Table of Contents",
   "title_sidebar": "Contents",
   "toc_cell": true,
   "toc_position": {},
   "toc_section_display": true,
   "toc_window_display": true
  },
  "varInspector": {
   "cols": {
    "lenName": 16,
    "lenType": 16,
    "lenVar": 40
   },
   "kernels_config": {
    "python": {
     "delete_cmd_postfix": "",
     "delete_cmd_prefix": "del ",
     "library": "var_list.py",
     "varRefreshCmd": "print(var_dic_list())"
    },
    "r": {
     "delete_cmd_postfix": ") ",
     "delete_cmd_prefix": "rm(",
     "library": "var_list.r",
     "varRefreshCmd": "cat(var_dic_list()) "
    }
   },
   "types_to_exclude": [
    "module",
    "function",
    "builtin_function_or_method",
    "instance",
    "_Feature"
   ],
   "window_display": false
  }
 },
 "nbformat": 4,
 "nbformat_minor": 5
}
