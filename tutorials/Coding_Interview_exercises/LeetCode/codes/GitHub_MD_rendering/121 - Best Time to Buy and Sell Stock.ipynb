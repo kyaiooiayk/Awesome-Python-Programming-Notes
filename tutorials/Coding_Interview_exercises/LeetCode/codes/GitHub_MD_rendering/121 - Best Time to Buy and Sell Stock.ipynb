{
 "cells": [
  {
   "cell_type": "markdown",
   "id": "2459ed2a",
   "metadata": {
    "toc": true
   },
   "source": [
    "<h1>Table of Contents<span class=\"tocSkip\"></span></h1>\n",
""   ]
  },
  {
   "cell_type": "markdown",
   "id": "40965ce3",
   "metadata": {},
   "source": [
    "# Description\n",
    "<hr style = \"border:2px solid black\" ></hr>"
   ]
  },
  {
   "cell_type": "markdown",
   "id": "3bb11076",
   "metadata": {},
   "source": [
    "\n",
    "- You are given an array prices where prices[i] is the price of a given stock on the ith day.\n",
    "- You want to maximize your profit by choosing a single day to buy one stock and choosing a different day in the future to sell that stock.\n",
    "- Return the maximum profit you can achieve from this transaction. If you cannot achieve any profit, return 0.\n",
    "\n",
    "```\n",
    "Example 1:\n",
    "Input: prices = [7,1,5,3,6,4]\n",
    "Output: 5\n",
    "Explanation: Buy on day 2 (price = 1) and sell on day 5 (price = 6), profit = 6-1 = 5.\n",
    "Note that buying on day 2 and selling on day 1 is not allowed because you must buy before you sell.\n",
    "\n",
    "Example 2:\n",
    "Input: prices = [7,6,4,3,1]\n",
    "Output: 0\n",
    "Explanation: In this case, no transactions are done and the max profit = 0.\n",
    " \n",
    "```\n",
""   ]
  },
  {
   "cell_type": "markdown",
   "id": "f1daac75",
   "metadata": {},
   "source": [
    "# Start-up code\n",
    "<hr style = \"border:2px solid black\" ></hr>"
   ]
  },
  {
   "cell_type": "code",
   "execution_count": 2,
   "id": "cf0c5e3e",
   "metadata": {
    "ExecuteTime": {
     "end_time": "2022-12-12T17:33:57.753587Z",
     "start_time": "2022-12-12T17:33:57.750053Z"
    }
   },
   "outputs": [
    {
     "name": "stdout",
     "output_type": "stream",
     "text": [
      "None =? 5\n",
      "None =? 0\n"
     ]
    }
   ],
   "source": [
    "def maxProfit(prices: list[int]) -> int:\n",
    "    return None\n",
    "\n",
    "print(maxProfit([7,1,5,3,6,4]), \"=? 5\")\n",
    "print(maxProfit([7,6,4,3,1]), \"=? 0\")"
   ]
  },
  {
   "cell_type": "markdown",
   "id": "9c423446",
   "metadata": {},
   "source": [
    "# Comment - think before coding!\n",
    "<hr style = \"border:2px solid black\" ></hr>"
   ]
  },
  {
   "cell_type": "markdown",
   "id": "70c62079",
   "metadata": {},
   "source": [
    "\n",
    "- **you must buy before you sell** so do not change the order of the list.\n",
    "- **Max profit of 0 happens** when the list has the same values or if it is always decreasing. Could we treat this as an edge case.\n",
    "\n",
""   ]
  },
  {
   "cell_type": "markdown",
   "id": "fac0521e",
   "metadata": {},
   "source": [
    "# Solution #1\n",
    "<hr style = \"border:2px solid black\" ></hr>"
   ]
  },
  {
   "cell_type": "markdown",
   "id": "0d5b2761",
   "metadata": {
    "ExecuteTime": {
     "end_time": "2022-12-09T19:37:17.415805Z",
     "start_time": "2022-12-09T19:37:17.410894Z"
    }
   },
   "source": [
    "    \n",
    "- This solution, although elegant did not pass the litcode autograder because it ran out of memory.\n",
    "\n",
""   ]
  },
  {
   "cell_type": "code",
   "execution_count": 126,
   "id": "06484cab",
   "metadata": {
    "ExecuteTime": {
     "end_time": "2022-12-13T07:13:55.405475Z",
     "start_time": "2022-12-13T07:13:55.397918Z"
    },
    "code_folding": []
   },
   "outputs": [
    {
     "name": "stdout",
     "output_type": "stream",
     "text": [
      "5 =? 5\n",
      "0 =? 0\n",
      "6 =? 6\n",
      "2 =? 2\n",
      "1 =? 1\n",
      "2 =? 2\n",
      "4 =?4\n"
     ]
    }
   ],
   "source": [
    "from itertools import combinations, permutations\n",
    "\n",
    "def maxProfit(prices: list[int]) -> int:\n",
    "    \n",
    "    # check if it is monotonically decreasig\n",
    "    if prices == sorted(prices)[::-1]:\n",
    "        return 0\n",
    "    \n",
    "    # check if it is monotonically increasing\n",
    "    elif prices == sorted(prices):\n",
    "        return prices[-1] - prices[0]\n",
    "\n",
    "    # any other cases\n",
    "    else:\n",
    "        combs = list(combinations(prices,2))\n",
    "        #print(list(combinations(prices,2)))\n",
    "        \n",
    "        diffs = [i[0]-i[1] for i in combs]\n",
    "        #print(diffs)\n",
    "        #print(diffs.index(min(diffs)))\n",
    "        #print(combs[diffs.index(min(diffs))])\n",
    "        \n",
    "        return - min(diffs)\n",
    "    \n",
    "\n",
    "print(maxProfit([7,1,5,3,6,4]), \"=? 5\")\n",
    "print(maxProfit([7,6,4,3,1]), \"=? 0\")\n",
    "print(maxProfit([1,3,4,6,7]), \"=? 6\")\n",
    "print(maxProfit([2,4,1]), \"=? 2\")\n",
    "print(maxProfit([2, 1, 2, 0, 1]), \"=? 1\")\n",
    "print(maxProfit([2,1,2,1,0,1,2]), \"=? 2\")\n",
    "print(maxProfit([3,2,6,5,0,3]), \"=?4\")"
   ]
  },
  {
   "cell_type": "markdown",
   "id": "f8d0cec8",
   "metadata": {},
   "source": [
    "# Solution #2\n",
    "<hr style = \"border:2px solid black\" ></hr>"
   ]
  },
  {
   "cell_type": "code",
   "execution_count": 144,
   "id": "01fa1b76",
   "metadata": {
    "ExecuteTime": {
     "end_time": "2022-12-13T07:19:48.133047Z",
     "start_time": "2022-12-13T07:19:48.125791Z"
    }
   },
   "outputs": [
    {
     "name": "stdout",
     "output_type": "stream",
     "text": [
      "5 =? 5\n",
      "0 =? 0\n",
      "6 =? 6\n",
      "2 =? 2\n",
      "1 =? 1\n",
      "2 =? 2\n",
      "4 =?4\n"
     ]
    }
   ],
   "source": [
    "from itertools import combinations, permutations\n",
    "\n",
    "def maxProfit(prices: list[int]) -> int:\n",
    "\n",
    "    combs = list(combinations(prices,2))\n",
    "    #print(list(combinations(prices,2)))\n",
    "\n",
    "    diffs = [i[0]-i[1] for i in combs]\n",
    "    #print(diffs)\n",
    "    #print(diffs.index(min(diffs)))\n",
    "    #print(combs[diffs.index(min(diffs))])\n",
    "    \n",
    "    if -min(diffs) <0:\n",
    "        return 0\n",
    "    else:\n",
    "        return - min(diffs)\n",
    "    \n",
    "\n",
    "print(maxProfit([7,1,5,3,6,4]), \"=? 5\")\n",
    "print(maxProfit([7,6,4,3,1]), \"=? 0\")\n",
    "print(maxProfit([1,3,4,6,7]), \"=? 6\")\n",
    "print(maxProfit([2,4,1]), \"=? 2\")\n",
    "print(maxProfit([2, 1, 2, 0, 1]), \"=? 1\")\n",
    "print(maxProfit([2,1,2,1,0,1,2]), \"=? 2\")\n",
    "print(maxProfit([3,2,6,5,0,3]), \"=?4\")"
   ]
  },
  {
   "cell_type": "markdown",
   "id": "d3ee6a04",
   "metadata": {},
   "source": [
    "# Solution #3\n",
    "<hr style = \"border:2px solid black\" ></hr>"
   ]
  },
  {
   "cell_type": "code",
   "execution_count": 147,
   "id": "a0e38386",
   "metadata": {
    "ExecuteTime": {
     "end_time": "2022-12-13T07:22:51.914598Z",
     "start_time": "2022-12-13T07:22:51.908039Z"
    }
   },
   "outputs": [
    {
     "name": "stdout",
     "output_type": "stream",
     "text": [
      "5 =? 5\n",
      "0 =? 0\n",
      "6 =? 6\n",
      "2 =? 2\n",
      "1 =?1\n",
      "2 =?2\n",
      "4 =?4\n"
     ]
    }
   ],
   "source": [
    "def maxProfit(prices: list[int]) -> int:\n",
    "\n",
    "    # assign to large value, larger thant the max expected\n",
    "    buy_min_price = 10000000000\n",
    "    # assuign to zero to prevent losses\n",
    "    profit = 0\n",
    "    \n",
    "    for price_temp in prices:\n",
    "\n",
    "        buy_min_price = min(buy_min_price, price_temp)\n",
    "\n",
    "        profit = max(profit, price_temp - buy_min_price)\n",
    "\n",
    "    return profit\n",
    "\n",
    "\n",
    "print(maxProfit([7,1,5,3,6,4]), \"=? 5\")\n",
    "print(maxProfit([7,6,4,3,1]), \"=? 0\")\n",
    "print(maxProfit([1,3,4,6,7]), \"=? 6\")\n",
    "print(maxProfit([2,4,1]), \"=? 2\")\n",
    "print(maxProfit([2, 1, 2, 0, 1]), \"=?1\")\n",
    "print(maxProfit([2,1,2,1,0,1,2]), \"=?2\")\n",
    "print(maxProfit([3,2,6,5,0,3]), \"=?4\")"
   ]
  },
  {
   "cell_type": "markdown",
   "id": "576c0b99",
   "metadata": {},
   "source": [
    "# Solution #4\n",
    "<hr style = \"border:2px solid black\" ></hr>"
   ]
  },
  {
   "cell_type": "code",
   "execution_count": 149,
   "id": "52dd9bb3",
   "metadata": {
    "ExecuteTime": {
     "end_time": "2022-12-13T07:25:19.303612Z",
     "start_time": "2022-12-13T07:25:19.296877Z"
    }
   },
   "outputs": [
    {
     "name": "stdout",
     "output_type": "stream",
     "text": [
      "5 =? 5\n",
      "0 =? 0\n",
      "6 =? 6\n",
      "2 =? 2\n",
      "1 =?1\n",
      "2 =?2\n",
      "4 =?4\n"
     ]
    }
   ],
   "source": [
    "def maxProfit(prices: list[int]) -> int:\n",
    "    minPrice, highest = float('inf'), 0\n",
    "\n",
    "    for price in prices:\n",
    "        if price < minPrice:\n",
    "            minPrice = price\n",
    "        if price - minPrice > highest:\n",
    "            highest = price - minPrice\n",
    "\n",
    "    return highest\n",
    "\n",
    "print(maxProfit([7,1,5,3,6,4]), \"=? 5\")\n",
    "print(maxProfit([7,6,4,3,1]), \"=? 0\")\n",
    "print(maxProfit([1,3,4,6,7]), \"=? 6\")\n",
    "print(maxProfit([2,4,1]), \"=? 2\")\n",
    "print(maxProfit([2, 1, 2, 0, 1]), \"=?1\")\n",
    "print(maxProfit([2,1,2,1,0,1,2]), \"=?2\")\n",
    "print(maxProfit([3,2,6,5,0,3]), \"=?4\")"
   ]
  },
  {
   "cell_type": "markdown",
   "id": "2ea62efa",
   "metadata": {},
   "source": [
    "# References\n",
    "<hr style = \"border:2px solid black\" ></hr>"
   ]
  },
  {
   "cell_type": "markdown",
   "id": "2f24d2e3",
   "metadata": {},
   "source": [
    "\n",
    "- https://leetcode.com\n",
    "\n",
""   ]
  },
  {
   "cell_type": "code",
   "execution_count": null,
   "id": "8aa1cb32",
   "metadata": {},
   "outputs": [],
   "source": []
  }
 ],
 "metadata": {
  "kernelspec": {
   "display_name": "trainingAI",
   "language": "python",
   "name": "trainingai"
  },
  "language_info": {
   "codemirror_mode": {
    "name": "ipython",
    "version": 3
   },
   "file_extension": ".py",
   "mimetype": "text/x-python",
   "name": "python",
   "nbconvert_exporter": "python",
   "pygments_lexer": "ipython3",
   "version": "3.9.7"
  },
  "toc": {
   "base_numbering": 1,
   "nav_menu": {},
   "number_sections": true,
   "sideBar": true,
   "skip_h1_title": false,
   "title_cell": "Table of Contents",
   "title_sidebar": "Contents",
   "toc_cell": true,
   "toc_position": {
    "height": "calc(100% - 180px)",
    "left": "10px",
    "top": "150px",
    "width": "222px"
   },
   "toc_section_display": true,
   "toc_window_display": true
  },
  "varInspector": {
   "cols": {
    "lenName": 16,
    "lenType": 16,
    "lenVar": 40
   },
   "kernels_config": {
    "python": {
     "delete_cmd_postfix": "",
     "delete_cmd_prefix": "del ",
     "library": "var_list.py",
     "varRefreshCmd": "print(var_dic_list())"
    },
    "r": {
     "delete_cmd_postfix": ") ",
     "delete_cmd_prefix": "rm(",
     "library": "var_list.r",
     "varRefreshCmd": "cat(var_dic_list()) "
    }
   },
   "types_to_exclude": [
    "module",
    "function",
    "builtin_function_or_method",
    "instance",
    "_Feature"
   ],
   "window_display": false
  }
 },
 "nbformat": 4,
 "nbformat_minor": 5
}
