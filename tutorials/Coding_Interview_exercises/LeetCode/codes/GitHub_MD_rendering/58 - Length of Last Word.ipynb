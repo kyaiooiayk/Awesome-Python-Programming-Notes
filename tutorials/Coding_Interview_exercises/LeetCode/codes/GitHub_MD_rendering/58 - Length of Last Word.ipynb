{
 "cells": [
  {
   "cell_type": "markdown",
   "id": "2459ed2a",
   "metadata": {
    "toc": true
   },
   "source": [
    "<h1>Table of Contents<span class=\"tocSkip\"></span></h1>\n",
""   ]
  },
  {
   "cell_type": "markdown",
   "id": "4cb22ddf",
   "metadata": {},
   "source": [
    "# Instruction\n",
    "<hr style = \"border:2px solid black\" ></hr>"
   ]
  },
  {
   "cell_type": "markdown",
   "id": "63cbf326",
   "metadata": {},
   "source": [
    "\n",
    "- Given a string s consisting of words and spaces, return the length of the last word in the string.\n",
    "- A word is a maximal substring consisting of non-space characters only.\n",
    "\n",
    "```\n",
    "Example 1:\n",
    "Input: s = \"Hello World\"\n",
    "Output: 5\n",
    "Explanation: The last word is \"World\" with length 5.\n",
    "\n",
    "Example 2:\n",
    "Input: s = \"   fly me   to   the moon  \"\n",
    "Output: 4\n",
    "Explanation: The last word is \"moon\" with length 4.\n",
    "\n",
    "Example 3:\n",
    "Input: s = \"luffy is still joyboy\"\n",
    "Output: 6\n",
    "Explanation: The last word is \"joyboy\" with length 6.\n",
    "```\n",
    "\n",
""   ]
  },
  {
   "cell_type": "markdown",
   "id": "f1daac75",
   "metadata": {},
   "source": [
    "# Start-up code\n",
    "<hr style = \"border:2px solid black\" ></hr>"
   ]
  },
  {
   "cell_type": "code",
   "execution_count": 3,
   "id": "cf0c5e3e",
   "metadata": {
    "ExecuteTime": {
     "end_time": "2022-12-10T14:21:36.700777Z",
     "start_time": "2022-12-10T14:21:36.696811Z"
    }
   },
   "outputs": [
    {
     "name": "stdout",
     "output_type": "stream",
     "text": [
      "None =5\n",
      "None =4\n",
      "None =6\n"
     ]
    }
   ],
   "source": [
    "def lengthOfLastWord(s: str) -> int:\n",
    "    return None\n",
    "\n",
    "\n",
    "print(lengthOfLastWord(\"Hello World\"), \"=5\")\n",
    "print(lengthOfLastWord(\"   fly me   to   the moon  \"), \"=4\")\n",
    "print(lengthOfLastWord(\"luffy is still joyboy\"), \"=6\")"
   ]
  },
  {
   "cell_type": "markdown",
   "id": "9c423446",
   "metadata": {},
   "source": [
    "# Comment - think before coding!\n",
    "<hr style = \"border:2px solid black\" ></hr>"
   ]
  },
  {
   "cell_type": "markdown",
   "id": "005be668",
   "metadata": {},
   "source": [
    "\n",
    "- **non-space characters** -> find a way to get rid of the empty leading and trailing empty space.\n",
    "\n",
""   ]
  },
  {
   "cell_type": "markdown",
   "id": "f163751a",
   "metadata": {},
   "source": [
    "# Solution #1\n",
    "<hr style = \"border:2px solid black\" ></hr>"
   ]
  },
  {
   "cell_type": "code",
   "execution_count": 26,
   "id": "f49b1c53",
   "metadata": {
    "ExecuteTime": {
     "end_time": "2022-12-10T14:31:24.050728Z",
     "start_time": "2022-12-10T14:31:24.046862Z"
    }
   },
   "outputs": [
    {
     "name": "stdout",
     "output_type": "stream",
     "text": [
      "5 =5\n",
      "4 =4\n",
      "6 =6\n"
     ]
    }
   ],
   "source": [
    "def lengthOfLastWord(s: str) -> int:    \n",
    "    return len(s.strip().split(\" \")[-1])\n",
    "\n",
    "\n",
    "print(lengthOfLastWord(\"Hello World\"), \"=5\")\n",
    "print(lengthOfLastWord(\"   fly me   to   the moon  \"), \"=4\")\n",
    "print(lengthOfLastWord(\"luffy is still joyboy\"), \"=6\")"
   ]
  },
  {
   "cell_type": "markdown",
   "id": "364120bc",
   "metadata": {},
   "source": [
    "# References\n",
    "<hr style = \"border:2px solid black\" ></hr>"
   ]
  },
  {
   "cell_type": "markdown",
   "id": "ac805492",
   "metadata": {},
   "source": [
    "\n",
    "- [Python String strip() Method](https://www.w3schools.com/python/ref_string_strip.asp)\n",
    "   \n",
""   ]
  },
  {
   "cell_type": "code",
   "execution_count": null,
   "id": "35b285fb",
   "metadata": {},
   "outputs": [],
   "source": []
  }
 ],
 "metadata": {
  "kernelspec": {
   "display_name": "trainingAI",
   "language": "python",
   "name": "trainingai"
  },
  "language_info": {
   "codemirror_mode": {
    "name": "ipython",
    "version": 3
   },
   "file_extension": ".py",
   "mimetype": "text/x-python",
   "name": "python",
   "nbconvert_exporter": "python",
   "pygments_lexer": "ipython3",
   "version": "3.9.7"
  },
  "toc": {
   "base_numbering": 1,
   "nav_menu": {},
   "number_sections": true,
   "sideBar": true,
   "skip_h1_title": false,
   "title_cell": "Table of Contents",
   "title_sidebar": "Contents",
   "toc_cell": true,
   "toc_position": {},
   "toc_section_display": true,
   "toc_window_display": true
  },
  "varInspector": {
   "cols": {
    "lenName": 16,
    "lenType": 16,
    "lenVar": 40
   },
   "kernels_config": {
    "python": {
     "delete_cmd_postfix": "",
     "delete_cmd_prefix": "del ",
     "library": "var_list.py",
     "varRefreshCmd": "print(var_dic_list())"
    },
    "r": {
     "delete_cmd_postfix": ") ",
     "delete_cmd_prefix": "rm(",
     "library": "var_list.r",
     "varRefreshCmd": "cat(var_dic_list()) "
    }
   },
   "types_to_exclude": [
    "module",
    "function",
    "builtin_function_or_method",
    "instance",
    "_Feature"
   ],
   "window_display": false
  }
 },
 "nbformat": 4,
 "nbformat_minor": 5
}
