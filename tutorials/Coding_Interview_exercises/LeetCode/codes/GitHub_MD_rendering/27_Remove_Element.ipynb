{
 "cells": [
  {
   "cell_type": "markdown",
   "id": "2459ed2a",
   "metadata": {
    "toc": true
   },
   "source": [
    "<h1>Table of Contents<span class=\"tocSkip\"></span></h1>\n",
""   ]
  },
  {
   "cell_type": "markdown",
   "id": "4cb22ddf",
   "metadata": {},
   "source": [
    "# Instruction\n",
    "<hr style = \"border:2px solid black\" ></hr>"
   ]
  },
  {
   "cell_type": "markdown",
   "id": "a0ffb028",
   "metadata": {},
   "source": [
    "\n",
    "- Given an integer array nums and an integer val, remove all occurrences of val in nums in-place. \n",
    "- The relative order of the elements may be changed.\n",
    "- Since it is impossible to change the length of the array in some languages, you must instead have the result be placed in the first part of the array nums. More formally, if there are k elements after removing the duplicates, then the first k elements of nums should hold the final result. It does not matter what you leave beyond the first k elements.\n",
    "- Return k after placing the final result in the first k slots of nums.\n",
    "- Do not allocate extra space for another array. You must do this by modifying the input array in-place with O(1) extra memory.\n",
    "    \n",
    "```\n",
    "Example 1:\n",
    "Input: nums = [3,2,2,3], val = 3\n",
    "Output: 2, nums = [2,2,_,_]\n",
    "Explanation: Your function should return k = 2, with the first two elements of nums being 2.\n",
    "It does not matter what you leave beyond the returned k (hence they are underscores).\n",
    "\n",
    "Example 2:\n",
    "Input: nums = [0,1,2,2,3,0,4,2], val = 2\n",
    "Output: 5, nums = [0,1,4,0,3,_,_,_]\n",
    "Explanation: Your function should return k = 5, with the first five elements of nums containing 0, 0, 1, 3, and 4.\n",
    "Note that the five elements can be returned in any order.\n",
    "It does not matter what you leave beyond the returned k (hence they are underscores).\n",
    "```\n",
    "\n",
""   ]
  },
  {
   "cell_type": "markdown",
   "id": "f1daac75",
   "metadata": {},
   "source": [
    "# Start-up code\n",
    "<hr style = \"border:2px solid black\" ></hr>"
   ]
  },
  {
   "cell_type": "code",
   "execution_count": 28,
   "id": "cf0c5e3e",
   "metadata": {
    "ExecuteTime": {
     "end_time": "2022-12-08T14:04:51.396948Z",
     "start_time": "2022-12-08T14:04:51.392353Z"
    }
   },
   "outputs": [
    {
     "name": "stdout",
     "output_type": "stream",
     "text": [
      "None =?2 for [2,2]\n",
      "None =?5 for [0,1,3,0,4]\n",
      "None =?0 for []\n"
     ]
    }
   ],
   "source": [
    "def removeElement(nums: list[int], val: int) -> int:\n",
    "    return None\n",
    "\n",
    "print(removeElement([3,2,2,3], 3), \"=?2 for [2,2]\")\n",
    "print(removeElement([0,1,2,2,3,0,4,2], 2),\"=?5 for [0,1,3,0,4]\")\n",
    "print(removeElement([], 0),\"=?0 for []\")"
   ]
  },
  {
   "cell_type": "markdown",
   "id": "9c423446",
   "metadata": {},
   "source": [
    "# Comment - think before coding!\n",
    "<hr style = \"border:2px solid black\" ></hr>"
   ]
  },
  {
   "cell_type": "code",
   "execution_count": null,
   "id": "4ceaeab4",
   "metadata": {},
   "outputs": [],
   "source": [
    "\n",
    "- **in place** hence do not create a new list, you must use the inputted one.\n",
    "\n",
""   ]
  },
  {
   "cell_type": "markdown",
   "id": "972e20e2",
   "metadata": {},
   "source": [
    "# Solution #1\n",
    "<hr style = \"border:2px solid black\" ></hr>"
   ]
  },
  {
   "cell_type": "code",
   "execution_count": null,
   "id": "09d1b139",
   "metadata": {},
   "outputs": [],
   "source": [
    "\n",
    "\n",
""   ]
  },
  {
   "cell_type": "code",
   "execution_count": 27,
   "id": "f49b1c53",
   "metadata": {
    "ExecuteTime": {
     "end_time": "2022-12-08T13:31:53.823893Z",
     "start_time": "2022-12-08T13:31:53.817019Z"
    }
   },
   "outputs": [
    {
     "name": "stdout",
     "output_type": "stream",
     "text": [
      "2 =?2 for [2,2]\n",
      "5 =?5 for [0,1,3,0,4]\n",
      "0 =?0 for []\n"
     ]
    }
   ],
   "source": [
    "def removeElement(nums: list[int], val: int) -> int:\n",
    "    \n",
    "    if nums == []:\n",
    "        return 0\n",
    "\n",
    "    stop = True\n",
    "    i = 0    \n",
    "    while stop:\n",
    "        if nums[i] == val:\n",
    "            nums.pop(i)\n",
    "            i =i\n",
    "        else:\n",
    "            i += 1\n",
    "\n",
    "        if val not in nums:\n",
    "            return len(nums)\n",
    "        \n",
    "\n",
    "\n",
    "print(removeElement([3,2,2,3], 3), \"=?2 for [2,2]\")\n",
    "print(removeElement([0,1,2,2,3,0,4,2], 2),\"=?5 for [0,1,3,0,4]\")\n",
    "print(removeElement([], 0),\"=?0 for []\")\n"
   ]
  },
  {
   "cell_type": "markdown",
   "id": "001fc01d",
   "metadata": {},
   "source": [
    "# Solution #2\n",
    "<hr style = \"border:2px solid black\" ></hr>"
   ]
  },
  {
   "cell_type": "code",
   "execution_count": 29,
   "id": "a9df3920",
   "metadata": {
    "ExecuteTime": {
     "end_time": "2022-12-08T14:14:55.701574Z",
     "start_time": "2022-12-08T14:14:55.696868Z"
    },
    "code_folding": []
   },
   "outputs": [
    {
     "name": "stdout",
     "output_type": "stream",
     "text": [
      "2 =?2 for [2,2]\n",
      "5 =?5 for [0,1,3,0,4]\n",
      "0 =?0 for []\n"
     ]
    }
   ],
   "source": [
    "def removeElement(nums: list[int], val: int) -> int:\n",
    "\n",
    "    # Keep loop until val is not in numbs\n",
    "    while val in nums:\n",
    "        nums.remove(val)\n",
    "    return len(nums)\n",
    "\n",
    "\n",
    "print(removeElement([3, 2, 2, 3], 3), \"=?2 for [2,2]\")\n",
    "print(removeElement([0, 1, 2, 2, 3, 0, 4, 2], 2), \"=?5 for [0,1,3,0,4]\")\n",
    "print(removeElement([], 0), \"=?0 for []\")"
   ]
  },
  {
   "cell_type": "markdown",
   "id": "3fd86389",
   "metadata": {},
   "source": [
    "# References\n",
    "<hr style = \"border:2px solid black\" ></hr>"
   ]
  },
  {
   "cell_type": "markdown",
   "id": "d18a4645",
   "metadata": {},
   "source": [
    "\n",
    "- https://www.edureka.co/blog/python-program-to-check-palindrome/\n",
    "- [Newton's method](https://en.wikipedia.org/wiki/Newton%27s_method)\n",
    "\n",
""   ]
  }
 ],
 "metadata": {
  "kernelspec": {
   "display_name": "trainingAI",
   "language": "python",
   "name": "trainingai"
  },
  "language_info": {
   "codemirror_mode": {
    "name": "ipython",
    "version": 3
   },
   "file_extension": ".py",
   "mimetype": "text/x-python",
   "name": "python",
   "nbconvert_exporter": "python",
   "pygments_lexer": "ipython3",
   "version": "3.9.7"
  },
  "toc": {
   "base_numbering": 1,
   "nav_menu": {},
   "number_sections": true,
   "sideBar": true,
   "skip_h1_title": false,
   "title_cell": "Table of Contents",
   "title_sidebar": "Contents",
   "toc_cell": true,
   "toc_position": {},
   "toc_section_display": true,
   "toc_window_display": true
  },
  "varInspector": {
   "cols": {
    "lenName": 16,
    "lenType": 16,
    "lenVar": 40
   },
   "kernels_config": {
    "python": {
     "delete_cmd_postfix": "",
     "delete_cmd_prefix": "del ",
     "library": "var_list.py",
     "varRefreshCmd": "print(var_dic_list())"
    },
    "r": {
     "delete_cmd_postfix": ") ",
     "delete_cmd_prefix": "rm(",
     "library": "var_list.r",
     "varRefreshCmd": "cat(var_dic_list()) "
    }
   },
   "types_to_exclude": [
    "module",
    "function",
    "builtin_function_or_method",
    "instance",
    "_Feature"
   ],
   "window_display": false
  }
 },
 "nbformat": 4,
 "nbformat_minor": 5
}
