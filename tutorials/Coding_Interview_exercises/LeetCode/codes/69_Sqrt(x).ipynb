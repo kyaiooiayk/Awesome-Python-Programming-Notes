{
 "cells": [
  {
   "cell_type": "markdown",
   "id": "2459ed2a",
   "metadata": {
    "toc": true
   },
   "source": [
    "<h1>Table of Contents<span class=\"tocSkip\"></span></h1>\n",
    "<div class=\"toc\"><ul class=\"toc-item\"><li><span><a href=\"#Instruction\" data-toc-modified-id=\"Instruction-1\"><span class=\"toc-item-num\">1&nbsp;&nbsp;</span>Instruction</a></span></li><li><span><a href=\"#Start-up-code\" data-toc-modified-id=\"Start-up-code-2\"><span class=\"toc-item-num\">2&nbsp;&nbsp;</span>Start-up code</a></span></li><li><span><a href=\"#Comment---think-before-coding!\" data-toc-modified-id=\"Comment---think-before-coding!-3\"><span class=\"toc-item-num\">3&nbsp;&nbsp;</span>Comment - think before coding!</a></span></li><li><span><a href=\"#Solution-#1\" data-toc-modified-id=\"Solution-#1-4\"><span class=\"toc-item-num\">4&nbsp;&nbsp;</span>Solution #1</a></span></li><li><span><a href=\"#Solution-#2\" data-toc-modified-id=\"Solution-#2-5\"><span class=\"toc-item-num\">5&nbsp;&nbsp;</span>Solution #2</a></span></li><li><span><a href=\"#References\" data-toc-modified-id=\"References-6\"><span class=\"toc-item-num\">6&nbsp;&nbsp;</span>References</a></span></li></ul></div>"
   ]
  },
  {
   "cell_type": "markdown",
   "id": "4cb22ddf",
   "metadata": {},
   "source": [
    "# Instruction\n",
    "<hr style = \"border:2px solid black\" ></hr>"
   ]
  },
  {
   "cell_type": "markdown",
   "id": "80ed27ee",
   "metadata": {},
   "source": [
    "<div class=\"alert alert-warning\">\n",
    "<font color=black>\n",
    "\n",
    "- Given a non-negative integer x, return the square root of x rounded down to the nearest integer. The returned integer should be non-negative as well.\n",
    "- You must not use any built-in exponent function or operator.\n",
    "- For example, do not use pow(x, 0.5) in c++ or x ** 0.5 in python.\n",
    "\n",
    "```\n",
    "Example 1:\n",
    "Input: x = 4\n",
    "Output: 2\n",
    "Explanation: The square root of 4 is 2, so we return 2.\n",
    "\n",
    "Example 2:\n",
    "Input: x = 8\n",
    "Output: 2\n",
    "Explanation: The square root of 8 is 2.82842..., and since we round it down to the nearest integer, 2 is returned.\n",
    "```\n",
    "\n",
    "</font>\n",
    "</div>"
   ]
  },
  {
   "cell_type": "markdown",
   "id": "f1daac75",
   "metadata": {},
   "source": [
    "# Start-up code\n",
    "<hr style = \"border:2px solid black\" ></hr>"
   ]
  },
  {
   "cell_type": "code",
   "execution_count": 31,
   "id": "cf0c5e3e",
   "metadata": {
    "ExecuteTime": {
     "end_time": "2022-12-06T08:08:39.625844Z",
     "start_time": "2022-12-06T08:08:39.621667Z"
    }
   },
   "outputs": [
    {
     "name": "stdout",
     "output_type": "stream",
     "text": [
      "None =2\n",
      "None =4\n",
      "None =2\n"
     ]
    }
   ],
   "source": [
    "def mySqrt(x: int) -> int:\n",
    "\n",
    "    return None\n",
    "\n",
    "print(mySqrt(4), \"=2\")\n",
    "print(mySqrt(16), \"=4\")\n",
    "print(mySqrt(8), \"=2\")"
   ]
  },
  {
   "cell_type": "markdown",
   "id": "9c423446",
   "metadata": {},
   "source": [
    "# Comment - think before coding!\n",
    "<hr style = \"border:2px solid black\" ></hr>"
   ]
  },
  {
   "cell_type": "markdown",
   "id": "90eebf5b",
   "metadata": {},
   "source": [
    "<div class=\"alert alert-info\">\n",
    "<font color=black>\n",
    "\n",
    "- **do not use built-in function** gotta come up with some clever way of doing it!\n",
    "- **As the division operator is involved** maybe the `%` and `//` could be useful here,\n",
    "\n",
    "</font>\n",
    "</div>"
   ]
  },
  {
   "cell_type": "markdown",
   "id": "f163751a",
   "metadata": {},
   "source": [
    "# Solution #1\n",
    "<hr style = \"border:2px solid black\" ></hr>"
   ]
  },
  {
   "cell_type": "markdown",
   "id": "1c1d1858",
   "metadata": {},
   "source": [
    "<div class=\"alert alert-info\">\n",
    "<font color=black>\n",
    "\n",
    "- Algorithm takes a number and proceed with the following two cases.\n",
    "- Case where % return !=0\n",
    "    - 4/1 = 4 -> 4*4=16 >8 keep looping\n",
    "    - 2/2 = 2 -> 2*2=4 =4 -> return 2\n",
    "- Case where % return !=0\n",
    "    - 8/1 = 8 -> 8*8=64 >8 keep looping\n",
    "    - 8/2 = 4 -> 4*4=16 >8 keep looping\n",
    "    - 8/3 = 2.6... -> 2*2=4 < 8 -> return 2\n",
    "\n",
    "</font>\n",
    "</div>"
   ]
  },
  {
   "cell_type": "markdown",
   "id": "ef993626",
   "metadata": {},
   "source": [
    "- [x] Passed leetcode autograder!"
   ]
  },
  {
   "cell_type": "code",
   "execution_count": 32,
   "id": "f49b1c53",
   "metadata": {
    "ExecuteTime": {
     "end_time": "2022-12-06T08:12:10.490557Z",
     "start_time": "2022-12-06T08:12:10.484747Z"
    }
   },
   "outputs": [
    {
     "name": "stdout",
     "output_type": "stream",
     "text": [
      "2 =2\n",
      "4 =4\n",
      "2 =2\n"
     ]
    }
   ],
   "source": [
    "def mySqrt(x: int) -> int:\n",
    "\n",
    "    found = True\n",
    "    divisor= 1\n",
    "    while found: \n",
    "        \n",
    "        # Get integer and float part\n",
    "        float_ = x%divisor\n",
    "        int_ = x//divisor\n",
    "\n",
    "        # Get out of the loop as soon as you get a clean root\n",
    "        if int_* int_ == x:\n",
    "            return int(int_)\n",
    "         \n",
    "        # As soon as it drops below target return int_\n",
    "        elif int_* int_ < x:\n",
    "            return int_\n",
    "        divisor +=1\n",
    "\n",
    "print(mySqrt(4), \"=2\")\n",
    "print(mySqrt(16), \"=4\")\n",
    "print(mySqrt(8), \"=2\")"
   ]
  },
  {
   "cell_type": "markdown",
   "id": "ba013501",
   "metadata": {},
   "source": [
    "# Solution #2\n",
    "<hr style = \"border:2px solid black\" ></hr>"
   ]
  },
  {
   "cell_type": "markdown",
   "id": "00bd88cd",
   "metadata": {},
   "source": [
    "<div class=\"alert alert-info\">\n",
    "<font color=black>\n",
    "\n",
    "- Newton's method finds the root of a function `f(x) = 0`. \n",
    "- In this case the trick to to reformulate the problem as find x such that `f(x) = x - k^2 = 0` with `k > 0`.\n",
    "\n",
    "</font>\n",
    "</div>"
   ]
  },
  {
   "cell_type": "code",
   "execution_count": 39,
   "id": "715da34d",
   "metadata": {
    "ExecuteTime": {
     "end_time": "2022-12-06T14:38:25.386962Z",
     "start_time": "2022-12-06T14:38:25.383774Z"
    }
   },
   "outputs": [],
   "source": [
    "def mySqrt(k):\n",
    "\n",
    "    # the sqrt of x should be less than (x+1)/2.0\n",
    "    x = (k + 1)/4.0\n",
    "    x2 = x * x\n",
    "\n",
    "    diff = x2 - k\n",
    "    e = 0.5\n",
    "\n",
    "    while diff < -e or diff > e:\n",
    "        x = x + (k - x2) / (2 * x)\n",
    "        x2 = x * x\n",
    "        diff = x2 - k\n",
    "\n",
    "    return int(x)"
   ]
  },
  {
   "cell_type": "code",
   "execution_count": 40,
   "id": "7e9bbb20",
   "metadata": {
    "ExecuteTime": {
     "end_time": "2022-12-06T14:38:25.754790Z",
     "start_time": "2022-12-06T14:38:25.751736Z"
    }
   },
   "outputs": [
    {
     "name": "stdout",
     "output_type": "stream",
     "text": [
      "2 =2\n",
      "4 =4\n",
      "2 =2\n"
     ]
    }
   ],
   "source": [
    "print(mySqrt(4), \"=2\")\n",
    "print(mySqrt(16), \"=4\")\n",
    "print(mySqrt(8), \"=2\")"
   ]
  },
  {
   "cell_type": "markdown",
   "id": "3fd86389",
   "metadata": {},
   "source": [
    "# References\n",
    "<hr style = \"border:2px solid black\" ></hr>"
   ]
  },
  {
   "cell_type": "markdown",
   "id": "d18a4645",
   "metadata": {},
   "source": [
    "<div class=\"alert alert-warning\">\n",
    "<font color=black>\n",
    "\n",
    "- https://www.edureka.co/blog/python-program-to-check-palindrome/\n",
    "- [Newton's method](https://en.wikipedia.org/wiki/Newton%27s_method)\n",
    "\n",
    "</font>\n",
    "</div>"
   ]
  },
  {
   "cell_type": "code",
   "execution_count": null,
   "id": "59ee41dd",
   "metadata": {},
   "outputs": [],
   "source": []
  }
 ],
 "metadata": {
  "kernelspec": {
   "display_name": "trainingAI",
   "language": "python",
   "name": "trainingai"
  },
  "language_info": {
   "codemirror_mode": {
    "name": "ipython",
    "version": 3
   },
   "file_extension": ".py",
   "mimetype": "text/x-python",
   "name": "python",
   "nbconvert_exporter": "python",
   "pygments_lexer": "ipython3",
   "version": "3.9.7"
  },
  "toc": {
   "base_numbering": 1,
   "nav_menu": {},
   "number_sections": true,
   "sideBar": true,
   "skip_h1_title": false,
   "title_cell": "Table of Contents",
   "title_sidebar": "Contents",
   "toc_cell": true,
   "toc_position": {},
   "toc_section_display": true,
   "toc_window_display": true
  },
  "varInspector": {
   "cols": {
    "lenName": 16,
    "lenType": 16,
    "lenVar": 40
   },
   "kernels_config": {
    "python": {
     "delete_cmd_postfix": "",
     "delete_cmd_prefix": "del ",
     "library": "var_list.py",
     "varRefreshCmd": "print(var_dic_list())"
    },
    "r": {
     "delete_cmd_postfix": ") ",
     "delete_cmd_prefix": "rm(",
     "library": "var_list.r",
     "varRefreshCmd": "cat(var_dic_list()) "
    }
   },
   "types_to_exclude": [
    "module",
    "function",
    "builtin_function_or_method",
    "instance",
    "_Feature"
   ],
   "window_display": false
  }
 },
 "nbformat": 4,
 "nbformat_minor": 5
}
