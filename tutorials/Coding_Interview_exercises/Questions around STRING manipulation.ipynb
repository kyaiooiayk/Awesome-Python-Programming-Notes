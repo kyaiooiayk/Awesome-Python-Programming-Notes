{
 "cells": [
  {
   "cell_type": "markdown",
   "metadata": {},
   "source": [
    "# Introduction"
   ]
  },
  {
   "cell_type": "markdown",
   "metadata": {},
   "source": [
    "<div class=\"alert alert-warning\">\n",
    "<font color=black>\n",
    "\n",
    "**What?** Questions around STRING manipulation\n",
    "\n",
    "</font>\n",
    "</div>"
   ]
  },
  {
   "cell_type": "markdown",
   "metadata": {},
   "source": [
    "**Reverse integer**"
   ]
  },
  {
   "cell_type": "markdown",
   "metadata": {},
   "source": [
    "<div class=\"alert alert-info\">\n",
    "<font color=black>\n",
    "\n",
    "- Given an integer, return the integer with reversed digits.\n",
    "- Note: The integer could be either positive or negative.\n",
    "\n",
    "</font>\n",
    "</div>"
   ]
  },
  {
   "cell_type": "code",
   "execution_count": 12,
   "metadata": {},
   "outputs": [
    {
     "name": "stdout",
     "output_type": "stream",
     "text": [
      "-132\n",
      "543\n"
     ]
    }
   ],
   "source": [
    "def solution(x):\n",
    "    string = str(x)\n",
    "    \n",
    "    if string[0] == '-':\n",
    "        return int('-' + string[1:][::-1])\n",
    "    else:\n",
    "        return int(string[::-1])\n",
    "    \n",
    "print(solution(-231))\n",
    "print(solution(345))"
   ]
  },
  {
   "cell_type": "markdown",
   "metadata": {},
   "source": [
    "**Average words length**"
   ]
  },
  {
   "cell_type": "markdown",
   "metadata": {},
   "source": [
    "<div class=\"alert alert-info\">\n",
    "<font color=black>\n",
    "\n",
    "- For a given sentence, return the average word length. \n",
    "- Note: Remember to remove punctuation first.\n",
    "\n",
    "</font>\n",
    "</div>"
   ]
  },
  {
   "cell_type": "code",
   "execution_count": 36,
   "metadata": {},
   "outputs": [
    {
     "name": "stdout",
     "output_type": "stream",
     "text": [
      "5.0\n",
      "4.08\n"
     ]
    }
   ],
   "source": [
    "def solution(stc):\n",
    "    dummy = stc\n",
    "    notWanted = \"!?',;.\"\n",
    "    for p in notWanted:\n",
    "        dummy = dummy.replace(p, '')\n",
    "    dummySplit = dummy.split(\" \")\n",
    "    sum_=0\n",
    "    average = sum([len(i) for i in dummySplit])/len(dummySplit)\n",
    "    \n",
    "    return round(average, 2)\n",
    "    \n",
    "str1 = \"Ciao, come andiamo?\"\n",
    "str2 = \"I need to work very hard to learn more about algorithms in Python!\"\n",
    "print(solution(str1))\n",
    "print(solution(str2))"
   ]
  },
  {
   "cell_type": "markdown",
   "metadata": {},
   "source": [
    "**Add strings**"
   ]
  },
  {
   "cell_type": "markdown",
   "metadata": {},
   "source": [
    "<div class=\"alert alert-info\">\n",
    "<font color=black>\n",
    "\n",
    "- Given two non-negative integers num1 and num2 represented as string, return the sum of num1 and num2.\n",
    "- Both num1 and num2 contains only digits 0-9.\n",
    "- Both num1 and num2 does not contain any leading zero.\n",
    "\n",
    "</font>\n",
    "</div>"
   ]
  },
  {
   "cell_type": "code",
   "execution_count": 51,
   "metadata": {},
   "outputs": [
    {
     "name": "stdout",
     "output_type": "stream",
     "text": [
      "2200\n",
      "2200\n",
      "2200\n"
     ]
    }
   ],
   "source": [
    "num1 = '364'\n",
    "num2 = '1836'\n",
    "\n",
    "# Approach 1\n",
    "def solution(num1,num2):\n",
    "    \"\"\"\n",
    "    eval() method to dynamically evaluate string-based inputs\n",
    "    \"\"\"\n",
    "    return eval(num1) + eval(num2)\n",
    "            \n",
    "print(solution(num1,num2))\n",
    "\n",
    "\n",
    "# Approach 2\n",
    "def solution(num1,num2):\n",
    "    \n",
    "    return int(float(num1) + float(num2))\n",
    "            \n",
    "print(solution(num1,num2))\n",
    "\n",
    "\n",
    "# Approach 3\n",
    "def solution(num1, num2):\n",
    "    \"\"\"\n",
    "    ord( ) function to re-build the two strings as actual numbers trough \n",
    "    the Unicode code points of their characters.\n",
    "    \"\"\"\n",
    "    n1, n2 = 0, 0\n",
    "    m1, m2 = 10**(len(num1)-1), 10**(len(num2)-1)\n",
    "\n",
    "    for i in num1:\n",
    "        n1 += (ord(i) - ord(\"0\")) * m1 \n",
    "        m1 = m1//10        \n",
    "\n",
    "    for i in num2:\n",
    "        n2 += (ord(i) - ord(\"0\")) * m2\n",
    "        m2 = m2//10\n",
    "\n",
    "    return n1 + n2\n",
    "print(solution(num1, num2))"
   ]
  },
  {
   "cell_type": "markdown",
   "metadata": {},
   "source": [
    "**First Unique Character**"
   ]
  },
  {
   "cell_type": "markdown",
   "metadata": {},
   "source": [
    "<div class=\"alert alert-info\">\n",
    "<font color=black>\n",
    "\n",
    "- Given a string, find the **first** AND **non-repeating** character in it and return its index. \n",
    "- If it doesn't exist, return -1. # Note: all the input strings are already lowercase.\n",
    " \n",
    "</font>\n",
    "</div>"
   ]
  },
  {
   "cell_type": "code",
   "execution_count": 61,
   "metadata": {},
   "outputs": [
    {
     "name": "stdout",
     "output_type": "stream",
     "text": [
      "First and non repeating charactert:  l  with index:  1\n",
      "None\n",
      "First and non repeating charactert:  r  with index:  2\n",
      "None\n",
      "First and non repeating charactert:  r  with index:  1\n",
      "None\n"
     ]
    }
   ],
   "source": [
    "# Approach 1\n",
    "def solution(s):\n",
    "    frequency = {}\n",
    "    for i in s:\n",
    "        if i not in frequency:\n",
    "            frequency[i] = 1\n",
    "        else:\n",
    "            frequency[i] +=1\n",
    "    for i in range(len(s)):\n",
    "        if frequency[s[i]] == 1:\n",
    "            return print(\"First and non repeating charactert: \", s[i], \" with index: \", i)\n",
    "    return -1\n",
    "\n",
    "print(solution('alphabet'))\n",
    "print(solution('barbados'))\n",
    "print(solution('crunchy'))"
   ]
  },
  {
   "cell_type": "code",
   "execution_count": 69,
   "metadata": {},
   "outputs": [
    {
     "name": "stdout",
     "output_type": "stream",
     "text": [
      "Counter({'a': 2, 'l': 1, 'p': 1, 'h': 1, 'b': 1, 'e': 1, 't': 1})\n",
      "1\n",
      "Counter({'b': 2, 'a': 2, 'r': 1, 'd': 1, 'o': 1, 's': 1})\n",
      "2\n",
      "Counter({'c': 2, 'r': 1, 'u': 1, 'n': 1, 'h': 1, 'y': 1})\n",
      "1\n"
     ]
    }
   ],
   "source": [
    "# Approach 2\n",
    "import collections\n",
    "\n",
    "def solution(s):\n",
    "    # build hash map : character and how often it appears\n",
    "    # gives back a dictionary with words occurrence count \n",
    "    #Counter({'l': 1, 'e': 3, 't': 1, 'c': 1, 'o': 1, 'd': 1})\n",
    "    count = collections.Counter(s) \n",
    "    # print(count)\n",
    "    # find the index\n",
    "    for idx, ch in enumerate(s):\n",
    "        if count[ch] == 1:\n",
    "            return idx     \n",
    "    return -1\n",
    "\n",
    "print(solution('alphabet'))\n",
    "print(solution('barbados'))\n",
    "print(solution('crunchy'))"
   ]
  },
  {
   "cell_type": "markdown",
   "metadata": {},
   "source": [
    "**Valid palindrome**"
   ]
  },
  {
   "cell_type": "markdown",
   "metadata": {},
   "source": [
    "<div class=\"alert alert-info\">\n",
    "<font color=black>\n",
    "\n",
    "-  The “Valid Palindrome” problem is a real classic the task is to check weather by removing **at most one** character, the string matches with its reversed counterpart. \n",
    "- When s = ‘radkar’ the function returns Trueas by excluding the ‘k’ we obtain the word ‘radar’ that is a palindrome.\n",
    "\n",
    "</font>\n",
    "</div>"
   ]
  },
  {
   "cell_type": "code",
   "execution_count": 64,
   "metadata": {},
   "outputs": [],
   "source": [
    "def solution(s):\n",
    "    for i in range(len(s)):\n",
    "        t = s[:i] + s[i+1:]\n",
    "        if t == t[::-1]: return True\n",
    "\n",
    "    return s == s[::-1]"
   ]
  },
  {
   "cell_type": "code",
   "execution_count": 65,
   "metadata": {},
   "outputs": [
    {
     "data": {
      "text/plain": [
       "True"
      ]
     },
     "execution_count": 65,
     "metadata": {},
     "output_type": "execute_result"
    }
   ],
   "source": [
    "s = 'radkar'  \n",
    "solution(s)"
   ]
  },
  {
   "cell_type": "code",
   "execution_count": 67,
   "metadata": {},
   "outputs": [
    {
     "data": {
      "text/plain": [
       "False"
      ]
     },
     "execution_count": 67,
     "metadata": {},
     "output_type": "execute_result"
    }
   ],
   "source": [
    "# At most one character which means the same caharcter can be repeated\n",
    "s = 'radkkar'  \n",
    "solution(s)"
   ]
  },
  {
   "cell_type": "code",
   "execution_count": 68,
   "metadata": {},
   "outputs": [
    {
     "data": {
      "text/plain": [
       "False"
      ]
     },
     "execution_count": 68,
     "metadata": {},
     "output_type": "execute_result"
    }
   ],
   "source": [
    "s = 'radkpar'  \n",
    "solution(s)"
   ]
  },
  {
   "cell_type": "markdown",
   "metadata": {},
   "source": [
    "**Pull the number from a string**"
   ]
  },
  {
   "cell_type": "markdown",
   "metadata": {},
   "source": [
    "<div class=\"alert alert-info\">\n",
    "<font color=black>\n",
    "\n",
    "- Pull the number out of a mixed word-number string.\n",
    "- https://stackoverflow.com/questions/4289331/how-to-extract-numbers-from-a-string-in-python\n",
    "    \n",
    "</font>\n",
    "</div>"
   ]
  },
  {
   "cell_type": "code",
   "execution_count": 4,
   "metadata": {},
   "outputs": [
    {
     "name": "stdout",
     "output_type": "stream",
     "text": [
      "123\n"
     ]
    }
   ],
   "source": [
    "# solution\n",
    "def solution(txt):\n",
    "    for i in txt_.split(\"_\"):    \n",
    "        try:\n",
    "            print(eval(i))\n",
    "        except:\n",
    "            pass\n",
    "        \n",
    "solution(\"Dense_123\")"
   ]
  },
  {
   "cell_type": "code",
   "execution_count": 9,
   "metadata": {},
   "outputs": [
    {
     "name": "stdout",
     "output_type": "stream",
     "text": [
      "[23, 11, 2]\n",
      "[]\n"
     ]
    }
   ],
   "source": [
    "txt = \"h3110 23 cat 444.4 rabbit 11 2 dog\"\n",
    "def solution(txt):\n",
    "    print([int(s) for s in txt.split() if s.isdigit()])\n",
    "solution(txt)\n",
    "solution(\"Dense_123\")"
   ]
  },
  {
   "cell_type": "markdown",
   "metadata": {},
   "source": [
    "# References"
   ]
  },
  {
   "cell_type": "markdown",
   "metadata": {},
   "source": [
    "<div class=\"alert alert-warning\">\n",
    "<font color=black>\n",
    "\n",
    "- https://towardsdatascience.com/10-algorithms-to-solve-before-your-python-coding-interview-feb74fb9bc27\n",
    "\n",
    "</font>\n",
    "</div>"
   ]
  },
  {
   "cell_type": "code",
   "execution_count": null,
   "metadata": {},
   "outputs": [],
   "source": []
  }
 ],
 "metadata": {
  "kernelspec": {
   "display_name": "trainingAI",
   "language": "python",
   "name": "trainingai"
  },
  "language_info": {
   "codemirror_mode": {
    "name": "ipython",
    "version": 3
   },
   "file_extension": ".py",
   "mimetype": "text/x-python",
   "name": "python",
   "nbconvert_exporter": "python",
   "pygments_lexer": "ipython3",
   "version": "3.9.7"
  },
  "toc": {
   "base_numbering": 1,
   "nav_menu": {},
   "number_sections": true,
   "sideBar": true,
   "skip_h1_title": false,
   "title_cell": "Table of Contents",
   "title_sidebar": "Contents",
   "toc_cell": false,
   "toc_position": {},
   "toc_section_display": true,
   "toc_window_display": true
  },
  "varInspector": {
   "cols": {
    "lenName": 16,
    "lenType": 16,
    "lenVar": 40
   },
   "kernels_config": {
    "python": {
     "delete_cmd_postfix": "",
     "delete_cmd_prefix": "del ",
     "library": "var_list.py",
     "varRefreshCmd": "print(var_dic_list())"
    },
    "r": {
     "delete_cmd_postfix": ") ",
     "delete_cmd_prefix": "rm(",
     "library": "var_list.r",
     "varRefreshCmd": "cat(var_dic_list()) "
    }
   },
   "types_to_exclude": [
    "module",
    "function",
    "builtin_function_or_method",
    "instance",
    "_Feature"
   ],
   "window_display": false
  }
 },
 "nbformat": 4,
 "nbformat_minor": 2
}
