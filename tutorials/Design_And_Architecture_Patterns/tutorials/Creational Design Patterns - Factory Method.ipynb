{
 "cells": [
  {
   "cell_type": "markdown",
   "metadata": {
    "toc": true
   },
   "source": [
    "<h1>Table of Contents<span class=\"tocSkip\"></span></h1>\n",
    "<div class=\"toc\"><ul class=\"toc-item\"><li><span><a href=\"#Introduction\" data-toc-modified-id=\"Introduction-1\"><span class=\"toc-item-num\">1&nbsp;&nbsp;</span>Introduction</a></span></li><li><span><a href=\"#Creational-Design-Patterns\" data-toc-modified-id=\"Creational-Design-Patterns-2\"><span class=\"toc-item-num\">2&nbsp;&nbsp;</span>Creational Design Patterns</a></span></li><li><span><a href=\"#Factory-Method\" data-toc-modified-id=\"Factory-Method-3\"><span class=\"toc-item-num\">3&nbsp;&nbsp;</span>Factory Method</a></span></li><li><span><a href=\"#Example\" data-toc-modified-id=\"Example-4\"><span class=\"toc-item-num\">4&nbsp;&nbsp;</span>Example</a></span></li><li><span><a href=\"#Without-factory-method\" data-toc-modified-id=\"Without-factory-method-5\"><span class=\"toc-item-num\">5&nbsp;&nbsp;</span>Without factory method</a></span></li><li><span><a href=\"#With-factory-method\" data-toc-modified-id=\"With-factory-method-6\"><span class=\"toc-item-num\">6&nbsp;&nbsp;</span>With factory method</a></span></li><li><span><a href=\"#Another-simple-example\" data-toc-modified-id=\"Another-simple-example-7\"><span class=\"toc-item-num\">7&nbsp;&nbsp;</span>Another simple example</a></span></li><li><span><a href=\"#Conclusions\" data-toc-modified-id=\"Conclusions-8\"><span class=\"toc-item-num\">8&nbsp;&nbsp;</span>Conclusions</a></span></li><li><span><a href=\"#References\" data-toc-modified-id=\"References-9\"><span class=\"toc-item-num\">9&nbsp;&nbsp;</span>References</a></span></li><li><span><a href=\"#Requirements\" data-toc-modified-id=\"Requirements-10\"><span class=\"toc-item-num\">10&nbsp;&nbsp;</span>Requirements</a></span></li></ul></div>"
   ]
  },
  {
   "cell_type": "markdown",
   "metadata": {},
   "source": [
    "# Introduction\n",
    "<hr style = \"border:2px solid black\" ></hr>"
   ]
  },
  {
   "cell_type": "markdown",
   "metadata": {},
   "source": [
    "<div class=\"alert alert-block alert-warning\">\n",
    "<font color=black>\n",
    "\n",
    "**What?** Design Patterns - Factory Method\n",
    "\n",
    "</font>\n",
    "</div>"
   ]
  },
  {
   "cell_type": "markdown",
   "metadata": {},
   "source": [
    "# Creational Design Patterns\n",
    "<hr style = \"border:2px solid black\" ></hr>"
   ]
  },
  {
   "cell_type": "markdown",
   "metadata": {},
   "source": [
    "<div class=\"alert alert-block alert-info\">\n",
    "<font color=black>\n",
    "\n",
    "- **Creational Design Patterns** are about class instantiation or the object instantiation. \n",
    "    - [x] Factory Method\n",
    "    - [ ] Abstract Factory Method\n",
    "    - [ ] Builder Method\n",
    "    - [ ] Prototype Method\n",
    "    - [ ] Singleton Method\n",
    "\n",
    "</font>\n",
    "</div>"
   ]
  },
  {
   "cell_type": "markdown",
   "metadata": {},
   "source": [
    "# Factory Method\n",
    "<hr style = \"border:2px solid black\" ></hr>"
   ]
  },
  {
   "cell_type": "markdown",
   "metadata": {},
   "source": [
    "<div class=\"alert alert-block alert-info\">\n",
    "<font color=black>\n",
    "\n",
    "- **Factory method is a creational design pattern which solves the problem of creating product objects without specifying their concrete classes.**\n",
    "- Factory Method is a Creational Design Pattern that allows an interface or a class to create an object, but lets subclasses decide which class or object to instantiate.\n",
    "- Using the Factory method, we have the best ways to create an object. Here, objects are created without exposing the logic to the client, and for creating the new type of object, the client uses the same common interface. \n",
    "\n",
    "</font>\n",
    "</div>"
   ]
  },
  {
   "cell_type": "markdown",
   "metadata": {},
   "source": [
    "# Example\n",
    "<hr style = \"border:2px solid black\" ></hr>"
   ]
  },
  {
   "cell_type": "markdown",
   "metadata": {},
   "source": [
    "<div class=\"alert alert-block alert-info\">\n",
    "<font color=black>\n",
    "\n",
    "- Suppose we have created an app whose main purpose is to translate one language into another and currently our app works with 10 languages only. Now our app has become widely popular among people but the demand has grown suddenly to include 5 more languages. \n",
    "-It’s a piece of great news! only for the owner not for the developers. They have to change the whole code because now most part of the code is coupled with the existing languages only and that’s why developers have to make changes to the entire codebase which is really a difficult task to do.\n",
    "    \n",
    "</font>\n",
    "</div>"
   ]
  },
  {
   "cell_type": "markdown",
   "metadata": {},
   "source": [
    "# Without factory method\n",
    "<hr style = \"border:2px solid black\" ></hr>"
   ]
  },
  {
   "cell_type": "code",
   "execution_count": 2,
   "metadata": {
    "ExecuteTime": {
     "end_time": "2023-03-03T13:24:51.328796Z",
     "start_time": "2023-03-03T13:24:51.323141Z"
    }
   },
   "outputs": [],
   "source": [
    "# Python Code for Object Oriented Concepts without using Factory method\n",
    "\n",
    "class FrenchLocalizer:\n",
    "\n",
    "    \"\"\" it simply returns the french version \"\"\"\n",
    "\n",
    "    def __init__(self):\n",
    "        self.translations = {\"car\": \"voiture\", \"bike\": \"bicyclette\",\n",
    "                             \"cycle\": \"cyclette\"}\n",
    "\n",
    "    def localize(self, msg):\n",
    "        \"\"\"change the message using translations\"\"\"\n",
    "        return self.translations.get(msg, msg)\n",
    "\n",
    "\n",
    "class SpanishLocalizer:\n",
    "    \"\"\"it simply returns the spanish version\"\"\"\n",
    "\n",
    "    def __init__(self):\n",
    "        self.translations = {\"car\": \"coche\", \"bike\": \"bicicleta\",\n",
    "                             \"cycle\": \"ciclo\"}\n",
    "\n",
    "    def localize(self, msg):\n",
    "        \"\"\"change the message using translations\"\"\"\n",
    "        return self.translations.get(msg, msg)\n",
    "\n",
    "\n",
    "class EnglishLocalizer:\n",
    "    \"\"\"Simply return the same message\"\"\"\n",
    "\n",
    "    def localize(self, msg):\n",
    "        return msg"
   ]
  },
  {
   "cell_type": "code",
   "execution_count": 3,
   "metadata": {
    "ExecuteTime": {
     "end_time": "2023-03-03T13:24:51.336107Z",
     "start_time": "2023-03-03T13:24:51.331844Z"
    }
   },
   "outputs": [
    {
     "name": "stdout",
     "output_type": "stream",
     "text": [
      "voiture\n",
      "car\n",
      "coche\n",
      "bicyclette\n",
      "bike\n",
      "bicicleta\n",
      "cyclette\n",
      "cycle\n",
      "ciclo\n"
     ]
    }
   ],
   "source": [
    "# main method to call others\n",
    "f = FrenchLocalizer()\n",
    "e = EnglishLocalizer()\n",
    "s = SpanishLocalizer()\n",
    "\n",
    "# list of strings\n",
    "message = [\"car\", \"bike\", \"cycle\"]\n",
    "\n",
    "for msg in message:\n",
    "    print(f.localize(msg))\n",
    "    print(e.localize(msg))\n",
    "    print(s.localize(msg))"
   ]
  },
  {
   "cell_type": "markdown",
   "metadata": {
    "ExecuteTime": {
     "end_time": "2023-03-03T13:17:00.147957Z",
     "start_time": "2023-03-03T13:17:00.144197Z"
    }
   },
   "source": [
    "# With factory method\n",
    "<hr style = \"border:2px solid black\" ></hr>"
   ]
  },
  {
   "cell_type": "markdown",
   "metadata": {},
   "source": [
    "<div class=\"alert alert-block alert-info\">\n",
    "<font color=black>\n",
    "    \n",
    "- Its solution is to replace the straightforward object construction calls with calls to the special factory method.\n",
    "- Actually, there will be no difference in the object creation but they are being called within the factory method.\n",
    "    \n",
    "</font>\n",
    "</div>"
   ]
  },
  {
   "attachments": {
    "image.png": {
     "image/png": "[encoded data removed]"
    }
   },
   "cell_type": "markdown",
   "metadata": {},
   "source": [
    "![image.png](attachment:image.png)"
   ]
  },
  {
   "cell_type": "code",
   "execution_count": 4,
   "metadata": {
    "ExecuteTime": {
     "end_time": "2023-03-03T13:24:51.341331Z",
     "start_time": "2023-03-03T13:24:51.338221Z"
    }
   },
   "outputs": [],
   "source": [
    "# Python Code for factory method it comes under the creational Design Pattern\n",
    "def Factory(language=\"English\"):\n",
    "    \"\"\"Factory Method\"\"\"\n",
    "    \n",
    "    # Create a dictionary\n",
    "    localizers = {\n",
    "        \"French\": FrenchLocalizer,\n",
    "        \"English\": EnglishLocalizer,\n",
    "        \"Spanish\": SpanishLocalizer,\n",
    "    }\n",
    "    \n",
    "    # Use the key to retrieve info from dic and return\n",
    "    return localizers[language]()"
   ]
  },
  {
   "cell_type": "code",
   "execution_count": 5,
   "metadata": {
    "ExecuteTime": {
     "end_time": "2023-03-03T13:24:51.347234Z",
     "start_time": "2023-03-03T13:24:51.343141Z"
    }
   },
   "outputs": [
    {
     "name": "stdout",
     "output_type": "stream",
     "text": [
      "voiture\n",
      "car\n",
      "coche\n",
      "bicyclette\n",
      "bike\n",
      "bicicleta\n",
      "cyclette\n",
      "cycle\n",
      "ciclo\n"
     ]
    }
   ],
   "source": [
    "f = Factory(\"French\")\n",
    "e = Factory(\"English\")\n",
    "s = Factory(\"Spanish\")\n",
    "\n",
    "message = [\"car\", \"bike\", \"cycle\"]\n",
    "\n",
    "for msg in message:\n",
    "    print(f.localize(msg))\n",
    "    print(e.localize(msg))\n",
    "    print(s.localize(msg))"
   ]
  },
  {
   "cell_type": "markdown",
   "metadata": {},
   "source": [
    "# Another simple example\n",
    "<hr style = \"border:2px solid black\" ></hr>"
   ]
  },
  {
   "cell_type": "markdown",
   "metadata": {},
   "source": [
    "<div class=\"alert alert-block alert-info\">\n",
    "<font color=black>\n",
    "\n",
    "- Factory encapsulates object creation. **It is an object specialising in creating other objects**. Factory solves the following problem:\n",
    "    - When its uncertain what type of objects we are going to use at runtime.\n",
    "    - When the application needs to decide what classes to be used at runtime.\n",
    "- Let's suppose our pet shop sells dogs currently. Now we need to add a new pet i.e, a cat, here is how we can solve this by using the factory  method.\n",
    "    \n",
    "</font>\n",
    "</div>"
   ]
  },
  {
   "cell_type": "code",
   "execution_count": 2,
   "metadata": {
    "ExecuteTime": {
     "end_time": "2023-03-12T08:35:11.209061Z",
     "start_time": "2023-03-12T08:35:11.205640Z"
    }
   },
   "outputs": [],
   "source": [
    "class Dog:\n",
    "    \"\"\"A simple dog class\"\"\"\n",
    "\n",
    "    def __init__(self, name):\n",
    "        self.name = name\n",
    "\n",
    "    def speak(self):\n",
    "        return \"woof!\"\n",
    "\n",
    "\n",
    "class Cat:\n",
    "    \"\"\"A simple cat class\"\"\"\n",
    "\n",
    "    def __init__(self, name):\n",
    "        self.name = name\n",
    "\n",
    "    def speak(self):\n",
    "        return \"meow!\""
   ]
  },
  {
   "cell_type": "code",
   "execution_count": 3,
   "metadata": {
    "ExecuteTime": {
     "end_time": "2023-03-12T08:35:11.482122Z",
     "start_time": "2023-03-12T08:35:11.478978Z"
    }
   },
   "outputs": [],
   "source": [
    "def get_pet(pet=\"dog\"):\n",
    "    \"\"\"The Factory Method\"\"\"\n",
    "\n",
    "    pets = dict(dog=Dog('Sheru'), cat=Cat('Kitty'))\n",
    "    return pets[pet]"
   ]
  },
  {
   "cell_type": "code",
   "execution_count": 4,
   "metadata": {
    "ExecuteTime": {
     "end_time": "2023-03-12T08:35:16.793236Z",
     "start_time": "2023-03-12T08:35:16.790469Z"
    }
   },
   "outputs": [
    {
     "name": "stdout",
     "output_type": "stream",
     "text": [
      "woof!\n",
      "meow!\n"
     ]
    }
   ],
   "source": [
    "print(get_pet(\"dog\").speak())\n",
    "print(get_pet(\"cat\").speak())"
   ]
  },
  {
   "cell_type": "markdown",
   "metadata": {},
   "source": [
    "# Conclusions\n",
    "<hr style = \"border:2px solid black\" ></hr>"
   ]
  },
  {
   "cell_type": "markdown",
   "metadata": {
    "ExecuteTime": {
     "end_time": "2023-03-03T13:28:31.690665Z",
     "start_time": "2023-03-03T13:28:31.685824Z"
    }
   },
   "source": [
    "<div class=\"alert alert-block alert-danger\">\n",
    "<font color=black>\n",
    "\n",
    "- **Advantages**:\n",
    "    - You avoid tight coupling between the creator and the concrete products.\n",
    "    - Single Responsibility Principle. You can move the product creation code into one place in the program, making the code easier to support.\n",
    "    - Open/Closed Principle. You can introduce new types of products into the program without breaking existing client code.\n",
    "- **Disadvantages**:\n",
    "    - The code may become more complicated since you need to introduce a lot of new subclasses to implement the pattern. \n",
    "    \n",
    "</font>\n",
    "</div>"
   ]
  },
  {
   "cell_type": "markdown",
   "metadata": {},
   "source": [
    "# References\n",
    "<hr style = \"border:2px solid black\" ></hr>"
   ]
  },
  {
   "cell_type": "markdown",
   "metadata": {},
   "source": [
    "<div class=\"alert alert-block alert-warning\">\n",
    "<font color=black>\n",
    "\n",
    "- [Factory Method](https://www.geeksforgeeks.org/factory-method-python-design-patterns/)\n",
    "- [Factory Method in Python](https://refactoring.guru/design-patterns/factory-method/python/example#example-0)\n",
    "- [The Factory Method Pattern and Its Implementation in Python](https://realpython.com/factory-method-python/)\n",
    "- https://github.com/pyGuru123/Python-design-Patterns/tree/main/Creational%20Pattern\n",
    "    \n",
    "</font>\n",
    "</div>"
   ]
  },
  {
   "cell_type": "markdown",
   "metadata": {
    "ExecuteTime": {
     "end_time": "2023-03-12T09:04:34.449140Z",
     "start_time": "2023-03-12T09:04:34.445310Z"
    }
   },
   "source": [
    "# Requirements\n",
    "<hr style=\"border:2px solid black\"> </hr>"
   ]
  },
  {
   "cell_type": "code",
   "execution_count": 6,
   "metadata": {
    "ExecuteTime": {
     "end_time": "2023-03-12T09:04:44.168313Z",
     "start_time": "2023-03-12T09:04:44.128104Z"
    }
   },
   "outputs": [
    {
     "name": "stdout",
     "output_type": "stream",
     "text": [
      "Python implementation: CPython\n",
      "Python version       : 3.9.7\n",
      "IPython version      : 7.29.0\n",
      "\n",
      "Compiler    : Clang 10.0.0 \n",
      "OS          : Darwin\n",
      "Release     : 22.3.0\n",
      "Machine     : x86_64\n",
      "Processor   : i386\n",
      "CPU cores   : 12\n",
      "Architecture: 64bit\n",
      "\n",
      "autopep8: 1.6.0\n",
      "numpy   : 1.21.6\n",
      "json    : 2.0.9\n",
      "\n"
     ]
    }
   ],
   "source": [
    "%load_ext watermark\n",
    "%watermark -v -iv -m"
   ]
  },
  {
   "cell_type": "code",
   "execution_count": null,
   "metadata": {},
   "outputs": [],
   "source": []
  }
 ],
 "metadata": {
  "kernelspec": {
   "display_name": "trainingAI",
   "language": "python",
   "name": "trainingai"
  },
  "language_info": {
   "codemirror_mode": {
    "name": "ipython",
    "version": 3
   },
   "file_extension": ".py",
   "mimetype": "text/x-python",
   "name": "python",
   "nbconvert_exporter": "python",
   "pygments_lexer": "ipython3",
   "version": "3.9.7"
  },
  "toc": {
   "base_numbering": 1,
   "nav_menu": {},
   "number_sections": true,
   "sideBar": true,
   "skip_h1_title": false,
   "title_cell": "Table of Contents",
   "title_sidebar": "Contents",
   "toc_cell": true,
   "toc_position": {
    "height": "calc(100% - 180px)",
    "left": "10px",
    "top": "150px",
    "width": "252.75px"
   },
   "toc_section_display": true,
   "toc_window_display": true
  },
  "varInspector": {
   "cols": {
    "lenName": 16,
    "lenType": 16,
    "lenVar": 40
   },
   "kernels_config": {
    "python": {
     "delete_cmd_postfix": "",
     "delete_cmd_prefix": "del ",
     "library": "var_list.py",
     "varRefreshCmd": "print(var_dic_list())"
    },
    "r": {
     "delete_cmd_postfix": ") ",
     "delete_cmd_prefix": "rm(",
     "library": "var_list.r",
     "varRefreshCmd": "cat(var_dic_list()) "
    }
   },
   "types_to_exclude": [
    "module",
    "function",
    "builtin_function_or_method",
    "instance",
    "_Feature"
   ],
   "window_display": false
  }
 },
 "nbformat": 4,
 "nbformat_minor": 2
}
