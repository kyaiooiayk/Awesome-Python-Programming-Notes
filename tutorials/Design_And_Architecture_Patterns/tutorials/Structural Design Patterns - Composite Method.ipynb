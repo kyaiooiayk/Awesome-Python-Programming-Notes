{
 "cells": [
  {
   "cell_type": "markdown",
   "metadata": {
    "toc": true
   },
   "source": [
    "<h1>Table of Contents<span class=\"tocSkip\"></span></h1>\n",
    "<div class=\"toc\"><ul class=\"toc-item\"><li><span><a href=\"#Introduction\" data-toc-modified-id=\"Introduction-1\"><span class=\"toc-item-num\">1&nbsp;&nbsp;</span>Introduction</a></span></li><li><span><a href=\"#Structural-Design-Patterns\" data-toc-modified-id=\"Structural-Design-Patterns-2\"><span class=\"toc-item-num\">2&nbsp;&nbsp;</span>Structural Design Patterns</a></span></li><li><span><a href=\"#Composite-Method\" data-toc-modified-id=\"Composite-Method-3\"><span class=\"toc-item-num\">3&nbsp;&nbsp;</span>Composite Method</a></span></li><li><span><a href=\"#Example\" data-toc-modified-id=\"Example-4\"><span class=\"toc-item-num\">4&nbsp;&nbsp;</span>Example</a></span></li><li><span><a href=\"#Conclusions\" data-toc-modified-id=\"Conclusions-5\"><span class=\"toc-item-num\">5&nbsp;&nbsp;</span>Conclusions</a></span></li><li><span><a href=\"#References\" data-toc-modified-id=\"References-6\"><span class=\"toc-item-num\">6&nbsp;&nbsp;</span>References</a></span></li><li><span><a href=\"#Requirements\" data-toc-modified-id=\"Requirements-7\"><span class=\"toc-item-num\">7&nbsp;&nbsp;</span>Requirements</a></span></li></ul></div>"
   ]
  },
  {
   "cell_type": "markdown",
   "metadata": {},
   "source": [
    "# Introduction\n",
    "<hr style = \"border:2px solid black\" ></hr>"
   ]
  },
  {
   "cell_type": "markdown",
   "metadata": {},
   "source": [
    "<div class=\"alert alert-block alert-warning\">\n",
    "<font color=black>\n",
    "\n",
    "**What?** Structural Design Patterns - Composite Method\n",
    "\n",
    "</font>\n",
    "</div>"
   ]
  },
  {
   "cell_type": "markdown",
   "metadata": {},
   "source": [
    "# Structural Design Patterns\n",
    "<hr style = \"border:2px solid black\" ></hr>"
   ]
  },
  {
   "cell_type": "markdown",
   "metadata": {},
   "source": [
    "<div class=\"alert alert-block alert-info\">\n",
    "<font color=black>\n",
    "\n",
    "- **Structural Design Patterns** are used to establish relation between software components in particular settings.\n",
    "    - [ ] Adapter Method\n",
    "    - [ ] Bridge Method\n",
    "    - [x] Composite Method\n",
    "    - [ ] Decorator Method\n",
    "    - [ ] Facade Method\n",
    "    - [ ] Proxy Method\n",
    "    - [ ] FlyWeight Method\n",
    "\n",
    "</font>\n",
    "</div>"
   ]
  },
  {
   "cell_type": "markdown",
   "metadata": {},
   "source": [
    "# Composite Method\n",
    "<hr style = \"border:2px solid black\" ></hr>"
   ]
  },
  {
   "cell_type": "markdown",
   "metadata": {},
   "source": [
    "<div class=\"alert alert-block alert-info\">\n",
    "<font color=black>\n",
    "\n",
    "- **Lets you compose objects into tree structures and then work with these structures as if they were individual objects.**\n",
    "- A composite design pattern maintains a tree data structure.\n",
    "- The problem here is to build a recursive tree data structure so that an element of the tree can have subelements.\n",
    "    \n",
    "</font>\n",
    "</div>"
   ]
  },
  {
   "cell_type": "markdown",
   "metadata": {},
   "source": [
    "# Example\n",
    "<hr style = \"border:2px solid black\" ></hr>"
   ]
  },
  {
   "cell_type": "markdown",
   "metadata": {},
   "source": [
    "<div class=\"alert alert-block alert-info\">\n",
    "<font color=black>\n",
    "\n",
    "- Here the scenerio is creating menu and submenu items, which can have further submenu items.\n",
    "- The solution consists of 3 major elements\n",
    "- `Component`: An abstract class\n",
    "- `Child`: A concrete class inherits from the component\n",
    "- `Composite`: A concrete class which also inherits from component. The composite class maintains child objects by ading and removing them to a tree data structure.\n",
    "    \n",
    "</font>\n",
    "</div>"
   ]
  },
  {
   "cell_type": "code",
   "execution_count": 1,
   "metadata": {
    "ExecuteTime": {
     "end_time": "2023-03-18T20:12:40.080091Z",
     "start_time": "2023-03-18T20:12:40.077095Z"
    }
   },
   "outputs": [],
   "source": [
    "class Component:\n",
    "    \"\"\"Abstract class\"\"\"\n",
    "\n",
    "    def __init__(self, *args, **kwargs):\n",
    "        pass\n",
    "\n",
    "    def component_function(self):\n",
    "        pass"
   ]
  },
  {
   "cell_type": "code",
   "execution_count": 2,
   "metadata": {
    "ExecuteTime": {
     "end_time": "2023-03-18T20:12:40.086365Z",
     "start_time": "2023-03-18T20:12:40.082087Z"
    }
   },
   "outputs": [],
   "source": [
    "class Child(Component):\n",
    "    \"\"\"Concrete class\"\"\"\n",
    "\n",
    "    def __init__(self, *args, **kwargs):\n",
    "        Component.__init__(self, *args, **kwargs)\n",
    "\n",
    "        # This is where we are going to store the name of the child item\n",
    "        self.name = args[0]\n",
    "\n",
    "    def component_function(self):\n",
    "        # Print the name of the child item here\n",
    "        print('{}'.format(self.name))"
   ]
  },
  {
   "cell_type": "code",
   "execution_count": 3,
   "metadata": {
    "ExecuteTime": {
     "end_time": "2023-03-18T20:12:40.094663Z",
     "start_time": "2023-03-18T20:12:40.089602Z"
    }
   },
   "outputs": [],
   "source": [
    "class Composite(Component):\n",
    "    \"\"\"Concrete class\"\"\"\n",
    "\n",
    "    def __init__(self, *args, **kwargs):\n",
    "        Component.__init__(self, *args, **kwargs)\n",
    "\n",
    "        # This is where we store name of the composite object\n",
    "        self.name = args[0]\n",
    "\n",
    "        # This is where we keep our child items\n",
    "        self.children = []\n",
    "\n",
    "    def append_child(self, child):\n",
    "        \"\"\"Method to add a new child item\"\"\"\n",
    "        self.children.append(child)\n",
    "\n",
    "    def remove_child(self, child):\n",
    "        \"\"\"Method to remove a child item\"\"\"\n",
    "        self.children.remove(child)\n",
    "\n",
    "    def component_function(self):\n",
    "        # Print the name of the composite object\n",
    "        print('{}'.format(self.name))\n",
    "\n",
    "        # Iterate through the child objects and initiate their component\n",
    "        for child in self.children:\n",
    "            child.component_function()"
   ]
  },
  {
   "cell_type": "code",
   "execution_count": 4,
   "metadata": {
    "ExecuteTime": {
     "end_time": "2023-03-18T20:12:40.099908Z",
     "start_time": "2023-03-18T20:12:40.096697Z"
    }
   },
   "outputs": [],
   "source": [
    "# Build a composite submenu 1\n",
    "sub1 = Composite(\"submenu1\")\n",
    "\n",
    "# Create new child submenu 11\n",
    "sub11 = Child(\"submenu 11\")\n",
    "# Create new child submenu 12\n",
    "sub12 = Child(\"submenu 12\")"
   ]
  },
  {
   "cell_type": "code",
   "execution_count": 5,
   "metadata": {
    "ExecuteTime": {
     "end_time": "2023-03-18T20:12:40.104480Z",
     "start_time": "2023-03-18T20:12:40.102252Z"
    }
   },
   "outputs": [],
   "source": [
    "# Add the submenu 11 to submenu 1\n",
    "sub1.append_child(sub11)\n",
    "\n",
    "# Add the submenu 12 to submenu 1\n",
    "sub1.append_child(sub12)"
   ]
  },
  {
   "cell_type": "code",
   "execution_count": 6,
   "metadata": {
    "ExecuteTime": {
     "end_time": "2023-03-18T20:12:40.110343Z",
     "start_time": "2023-03-18T20:12:40.106508Z"
    }
   },
   "outputs": [
    {
     "name": "stdout",
     "output_type": "stream",
     "text": [
      "topmenu\n",
      "submenu1\n",
      "submenu 11\n",
      "submenu 12\n",
      "submenu 2\n"
     ]
    }
   ],
   "source": [
    "# Build a top level composite menu\n",
    "top = Composite(\"topmenu\")\n",
    "\n",
    "# build a submenu 2 that is not a composite\n",
    "sub2 = Child(\"submenu 2\")\n",
    "\n",
    "# Add submenu 1 and submenu 2 to top menu\n",
    "top.append_child(sub1)\n",
    "top.append_child(sub2)\n",
    "\n",
    "# Testing top menu\n",
    "top.component_function()"
   ]
  },
  {
   "cell_type": "markdown",
   "metadata": {},
   "source": [
    "# Conclusions\n",
    "<hr style = \"border:2px solid black\" ></hr>"
   ]
  },
  {
   "cell_type": "markdown",
   "metadata": {
    "ExecuteTime": {
     "end_time": "2023-03-03T13:28:31.690665Z",
     "start_time": "2023-03-03T13:28:31.685824Z"
    }
   },
   "source": [
    "<div class=\"alert alert-block alert-danger\">\n",
    "<font color=black>\n",
    "\n",
    "- **Advantages**:\n",
    "    - You can work with complex tree structures more conveniently: use polymorphism and recursion to your advantage.\n",
    "    - Open/Closed Principle. You can introduce new element types into the app without breaking the existing code, which now works with the object tree.\n",
    "- **Disadvantages**:\n",
    "    - It might be difficult to provide a common interface for classes whose functionality differs too much. In certain scenarios, you’d need to overgeneralize the component interface, making it harder to comprehend.\n",
    "    \n",
    "</font>\n",
    "</div>"
   ]
  },
  {
   "cell_type": "markdown",
   "metadata": {},
   "source": [
    "# References\n",
    "<hr style = \"border:2px solid black\" ></hr>"
   ]
  },
  {
   "cell_type": "markdown",
   "metadata": {},
   "source": [
    "<div class=\"alert alert-block alert-warning\">\n",
    "<font color=black>\n",
    "\n",
    "- [Composite method](https://www.geeksforgeeks.org/composite-method-python-design-patterns/)\n",
    "- [Composite in Python](https://refactoring.guru/design-patterns/composite)\n",
    "- https://github.com/pyGuru123/Python-design-Patterns/blob/main/Structural%20Pattern/composite.py\n",
    "    \n",
    "</font>\n",
    "</div>"
   ]
  },
  {
   "cell_type": "markdown",
   "metadata": {},
   "source": [
    "# Requirements\n",
    "<hr style=\"border:2px solid black\"> </hr>"
   ]
  },
  {
   "cell_type": "code",
   "execution_count": 7,
   "metadata": {
    "ExecuteTime": {
     "end_time": "2023-03-18T20:12:40.152037Z",
     "start_time": "2023-03-18T20:12:40.112437Z"
    }
   },
   "outputs": [
    {
     "name": "stdout",
     "output_type": "stream",
     "text": [
      "Python implementation: CPython\n",
      "Python version       : 3.9.7\n",
      "IPython version      : 7.29.0\n",
      "\n",
      "Compiler    : Clang 10.0.0 \n",
      "OS          : Darwin\n",
      "Release     : 22.3.0\n",
      "Machine     : x86_64\n",
      "Processor   : i386\n",
      "CPU cores   : 12\n",
      "Architecture: 64bit\n",
      "\n",
      "json    : 2.0.9\n",
      "autopep8: 1.6.0\n",
      "\n"
     ]
    }
   ],
   "source": [
    "%load_ext watermark\n",
    "%watermark -v -iv -m"
   ]
  },
  {
   "cell_type": "code",
   "execution_count": null,
   "metadata": {},
   "outputs": [],
   "source": []
  }
 ],
 "metadata": {
  "kernelspec": {
   "display_name": "trainingAI",
   "language": "python",
   "name": "trainingai"
  },
  "language_info": {
   "codemirror_mode": {
    "name": "ipython",
    "version": 3
   },
   "file_extension": ".py",
   "mimetype": "text/x-python",
   "name": "python",
   "nbconvert_exporter": "python",
   "pygments_lexer": "ipython3",
   "version": "3.9.7"
  },
  "toc": {
   "base_numbering": 1,
   "nav_menu": {},
   "number_sections": true,
   "sideBar": true,
   "skip_h1_title": false,
   "title_cell": "Table of Contents",
   "title_sidebar": "Contents",
   "toc_cell": true,
   "toc_position": {
    "height": "calc(100% - 180px)",
    "left": "10px",
    "top": "150px",
    "width": "194.75px"
   },
   "toc_section_display": true,
   "toc_window_display": true
  },
  "varInspector": {
   "cols": {
    "lenName": 16,
    "lenType": 16,
    "lenVar": 40
   },
   "kernels_config": {
    "python": {
     "delete_cmd_postfix": "",
     "delete_cmd_prefix": "del ",
     "library": "var_list.py",
     "varRefreshCmd": "print(var_dic_list())"
    },
    "r": {
     "delete_cmd_postfix": ") ",
     "delete_cmd_prefix": "rm(",
     "library": "var_list.r",
     "varRefreshCmd": "cat(var_dic_list()) "
    }
   },
   "types_to_exclude": [
    "module",
    "function",
    "builtin_function_or_method",
    "instance",
    "_Feature"
   ],
   "window_display": false
  }
 },
 "nbformat": 4,
 "nbformat_minor": 2
}
