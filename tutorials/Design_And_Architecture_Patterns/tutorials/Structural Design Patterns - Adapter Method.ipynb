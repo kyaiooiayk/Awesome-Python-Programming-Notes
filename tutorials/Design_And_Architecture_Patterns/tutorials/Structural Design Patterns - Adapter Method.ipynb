{
 "cells": [
  {
   "cell_type": "markdown",
   "metadata": {
    "toc": true
   },
   "source": [
    "<h1>Table of Contents<span class=\"tocSkip\"></span></h1>\n",
    "<div class=\"toc\"><ul class=\"toc-item\"><li><span><a href=\"#Introduction\" data-toc-modified-id=\"Introduction-1\"><span class=\"toc-item-num\">1&nbsp;&nbsp;</span>Introduction</a></span></li><li><span><a href=\"#Structural-Design-Patterns\" data-toc-modified-id=\"Structural-Design-Patterns-2\"><span class=\"toc-item-num\">2&nbsp;&nbsp;</span>Structural Design Patterns</a></span></li><li><span><a href=\"#Adapter-Method\" data-toc-modified-id=\"Adapter-Method-3\"><span class=\"toc-item-num\">3&nbsp;&nbsp;</span>Adapter Method</a></span></li><li><span><a href=\"#Example\" data-toc-modified-id=\"Example-4\"><span class=\"toc-item-num\">4&nbsp;&nbsp;</span>Example</a></span></li><li><span><a href=\"#Conclusions\" data-toc-modified-id=\"Conclusions-5\"><span class=\"toc-item-num\">5&nbsp;&nbsp;</span>Conclusions</a></span></li><li><span><a href=\"#References\" data-toc-modified-id=\"References-6\"><span class=\"toc-item-num\">6&nbsp;&nbsp;</span>References</a></span></li><li><span><a href=\"#Requirements\" data-toc-modified-id=\"Requirements-7\"><span class=\"toc-item-num\">7&nbsp;&nbsp;</span>Requirements</a></span></li></ul></div>"
   ]
  },
  {
   "cell_type": "markdown",
   "metadata": {},
   "source": [
    "# Introduction\n",
    "<hr style = \"border:2px solid black\" ></hr>"
   ]
  },
  {
   "cell_type": "markdown",
   "metadata": {},
   "source": [
    "<div class=\"alert alert-block alert-warning\">\n",
    "<font color=black>\n",
    "\n",
    "**What?** Structural Design Patterns - Adapter Method\n",
    "\n",
    "</font>\n",
    "</div>"
   ]
  },
  {
   "cell_type": "markdown",
   "metadata": {},
   "source": [
    "# Structural Design Patterns\n",
    "<hr style = \"border:2px solid black\" ></hr>"
   ]
  },
  {
   "cell_type": "markdown",
   "metadata": {},
   "source": [
    "<div class=\"alert alert-block alert-info\">\n",
    "<font color=black>\n",
    "\n",
    "- **Structural Design Patterns** are used to establish relation between software components in particular settings.\n",
    "    - [x] Adapter Method\n",
    "    - [ ] Bridge Method\n",
    "    - [ ] Composite Method\n",
    "    - [ ] Decorator Method\n",
    "    - [ ] Facade Method\n",
    "    - [ ] Proxy Method\n",
    "    - [ ] FlyWeight Method\n",
    "\n",
    "</font>\n",
    "</div>"
   ]
  },
  {
   "cell_type": "markdown",
   "metadata": {},
   "source": [
    "# Adapter Method\n",
    "<hr style = \"border:2px solid black\" ></hr>"
   ]
  },
  {
   "cell_type": "markdown",
   "metadata": {},
   "source": [
    "<div class=\"alert alert-block alert-info\">\n",
    "<font color=black>\n",
    "\n",
    "- The Adapter pattern converts interface of a class to another the client is expecting.\n",
    "- The problem  we are trying to solve here is when that interfaces are incompatible between the client and the server.\n",
    "    \n",
    "</font>\n",
    "</div>"
   ]
  },
  {
   "cell_type": "markdown",
   "metadata": {},
   "source": [
    "# Example\n",
    "<hr style = \"border:2px solid black\" ></hr>"
   ]
  },
  {
   "cell_type": "markdown",
   "metadata": {},
   "source": [
    "<div class=\"alert alert-block alert-info\">\n",
    "<font color=black>\n",
    "\n",
    "- The scenario here is that we have two methods speak_korean() for korean and speak_english() for english. The client expects to use a single method speak() for both.\n",
    "- The solution is to use the Adapter pattern which translates between the two methods for the client.\n",
    "    \n",
    "</font>\n",
    "</div>"
   ]
  },
  {
   "cell_type": "code",
   "execution_count": 1,
   "metadata": {
    "ExecuteTime": {
     "end_time": "2023-03-12T14:50:13.860487Z",
     "start_time": "2023-03-12T14:50:13.856830Z"
    }
   },
   "outputs": [],
   "source": [
    "class Korean:\n",
    "    \"\"\"Korean Speaker\"\"\"\n",
    "\n",
    "    def __init__(self):\n",
    "        self.name = \"korean\"\n",
    "\n",
    "    def speak_korean(self):\n",
    "        return \"An-neyong!\"\n",
    "\n",
    "\n",
    "class British:\n",
    "    \"\"\"English Speaker\"\"\"\n",
    "\n",
    "    def __init__(self):\n",
    "        self.name = \"British\"\n",
    "\n",
    "    def speak_english(self):\n",
    "        return \"Hello!\""
   ]
  },
  {
   "cell_type": "code",
   "execution_count": 2,
   "metadata": {
    "ExecuteTime": {
     "end_time": "2023-03-12T14:50:14.440399Z",
     "start_time": "2023-03-12T14:50:14.435872Z"
    }
   },
   "outputs": [],
   "source": [
    "class Adapter:\n",
    "    \"\"\"This changes the generic method name to individualized method names\"\"\"\n",
    "\n",
    "    def __init__(self, object, **adapted_method):\n",
    "        self._object = object\n",
    "\n",
    "        # Add a new dictionary which eastablishes the mapping between\n",
    "        # generic method and individual methods.\n",
    "        self.__dict__.update(adapted_method)\n",
    "\n",
    "    def __getattr__(self, attr):\n",
    "        \"\"\"Simply returns the rest of the attributes\"\"\"\n",
    "        return getattr(self._object, attr)"
   ]
  },
  {
   "cell_type": "code",
   "execution_count": 3,
   "metadata": {
    "ExecuteTime": {
     "end_time": "2023-03-12T14:50:15.832240Z",
     "start_time": "2023-03-12T14:50:15.827696Z"
    }
   },
   "outputs": [
    {
     "name": "stdout",
     "output_type": "stream",
     "text": [
      "korean says An-neyong!\n",
      "British says Hello!\n"
     ]
    }
   ],
   "source": [
    "# List to store speaker objects\n",
    "objects = []\n",
    "\n",
    "# Korean Speaker Object\n",
    "korean = Korean()\n",
    "\n",
    "# English Speaker Object\n",
    "british = British()\n",
    "\n",
    "# Append the objects to objects list\n",
    "objects.append(Adapter(korean, speak=korean.speak_korean))\n",
    "objects.append(Adapter(british, speak=british.speak_english))\n",
    "\n",
    "for obj in objects:\n",
    "    print(\"{} says {}\".format(obj.name, obj.speak()))"
   ]
  },
  {
   "cell_type": "markdown",
   "metadata": {},
   "source": [
    "# Conclusions\n",
    "<hr style = \"border:2px solid black\" ></hr>"
   ]
  },
  {
   "cell_type": "markdown",
   "metadata": {
    "ExecuteTime": {
     "end_time": "2023-03-03T13:28:31.690665Z",
     "start_time": "2023-03-03T13:28:31.685824Z"
    }
   },
   "source": [
    "<div class=\"alert alert-block alert-danger\">\n",
    "<font color=black>\n",
    "\n",
    "- **Advantages**:\n",
    "    - Single Responsibility Principle. You can separate the interface or data conversion code from the primary business logic of the program.\n",
    "    - Open/Closed Principle. You can introduce new types of adapters into the program without breaking the existing client code, as long as they work with the adapters through the client interface.\n",
    "- **Disadvantages**:\n",
    "    - The overall complexity of the code increases because you need to introduce a set of new interfaces and classes. Sometimes it’s simpler just to change the service class so that it matches the rest of your code.\n",
    "\n",
    "</font>\n",
    "</div>"
   ]
  },
  {
   "cell_type": "markdown",
   "metadata": {},
   "source": [
    "# References\n",
    "<hr style = \"border:2px solid black\" ></hr>"
   ]
  },
  {
   "cell_type": "markdown",
   "metadata": {},
   "source": [
    "<div class=\"alert alert-block alert-warning\">\n",
    "<font color=black>\n",
    "\n",
    "- [Adapter method](https://www.geeksforgeeks.org/adapter-method-python-design-patterns/)\n",
    "- [Adapter in Python](https://refactoring.guru/design-patterns/adapter/python/example#example-1)\n",
    "- https://github.com/pyGuru123/Python-design-Patterns/tree/main/Structural%20Pattern\n",
    "    \n",
    "</font>\n",
    "</div>"
   ]
  },
  {
   "cell_type": "markdown",
   "metadata": {},
   "source": [
    "# Requirements\n",
    "<hr style=\"border:2px solid black\"> </hr>"
   ]
  },
  {
   "cell_type": "code",
   "execution_count": 1,
   "metadata": {
    "ExecuteTime": {
     "end_time": "2023-03-12T09:05:01.815141Z",
     "start_time": "2023-03-12T09:05:01.782718Z"
    }
   },
   "outputs": [
    {
     "name": "stdout",
     "output_type": "stream",
     "text": [
      "Python implementation: CPython\n",
      "Python version       : 3.9.7\n",
      "IPython version      : 7.29.0\n",
      "\n",
      "Compiler    : Clang 10.0.0 \n",
      "OS          : Darwin\n",
      "Release     : 22.3.0\n",
      "Machine     : x86_64\n",
      "Processor   : i386\n",
      "CPU cores   : 12\n",
      "Architecture: 64bit\n",
      "\n",
      "numpy   : 1.21.6\n",
      "autopep8: 1.6.0\n",
      "json    : 2.0.9\n",
      "\n"
     ]
    }
   ],
   "source": [
    "%load_ext watermark\n",
    "%watermark -v -iv -m"
   ]
  },
  {
   "cell_type": "code",
   "execution_count": null,
   "metadata": {},
   "outputs": [],
   "source": []
  }
 ],
 "metadata": {
  "kernelspec": {
   "display_name": "trainingAI",
   "language": "python",
   "name": "trainingai"
  },
  "language_info": {
   "codemirror_mode": {
    "name": "ipython",
    "version": 3
   },
   "file_extension": ".py",
   "mimetype": "text/x-python",
   "name": "python",
   "nbconvert_exporter": "python",
   "pygments_lexer": "ipython3",
   "version": "3.9.7"
  },
  "toc": {
   "base_numbering": 1,
   "nav_menu": {},
   "number_sections": true,
   "sideBar": true,
   "skip_h1_title": false,
   "title_cell": "Table of Contents",
   "title_sidebar": "Contents",
   "toc_cell": true,
   "toc_position": {
    "height": "calc(100% - 180px)",
    "left": "10px",
    "top": "150px",
    "width": "194.75px"
   },
   "toc_section_display": true,
   "toc_window_display": true
  },
  "varInspector": {
   "cols": {
    "lenName": 16,
    "lenType": 16,
    "lenVar": 40
   },
   "kernels_config": {
    "python": {
     "delete_cmd_postfix": "",
     "delete_cmd_prefix": "del ",
     "library": "var_list.py",
     "varRefreshCmd": "print(var_dic_list())"
    },
    "r": {
     "delete_cmd_postfix": ") ",
     "delete_cmd_prefix": "rm(",
     "library": "var_list.r",
     "varRefreshCmd": "cat(var_dic_list()) "
    }
   },
   "types_to_exclude": [
    "module",
    "function",
    "builtin_function_or_method",
    "instance",
    "_Feature"
   ],
   "window_display": false
  }
 },
 "nbformat": 4,
 "nbformat_minor": 2
}
