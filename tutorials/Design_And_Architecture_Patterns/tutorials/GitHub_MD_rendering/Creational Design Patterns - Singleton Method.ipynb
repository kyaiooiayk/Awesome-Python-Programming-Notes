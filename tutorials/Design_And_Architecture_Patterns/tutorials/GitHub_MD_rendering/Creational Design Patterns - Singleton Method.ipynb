{
 "cells": [
  {
   "cell_type": "markdown",
   "metadata": {
    "toc": true
   },
   "source": [
    "<h1>Table of Contents<span class=\"tocSkip\"></span></h1>\n",
""   ]
  },
  {
   "cell_type": "markdown",
   "metadata": {},
   "source": [
    "# Introduction\n",
    "<hr style = \"border:2px solid black\" ></hr>"
   ]
  },
  {
   "cell_type": "markdown",
   "metadata": {},
   "source": [
    "\n",
    "**What?** Creational Design Patterns - Singleton Method\n",
    "\n",
""   ]
  },
  {
   "cell_type": "markdown",
   "metadata": {},
   "source": [
    "# Creational Design Patterns\n",
    "<hr style = \"border:2px solid black\" ></hr>"
   ]
  },
  {
   "cell_type": "markdown",
   "metadata": {},
   "source": [
    "\n",
    "- **Creational Design Patterns** are about class instantiation or the object instantiation. \n",
    "    - [ ] Factory Method\n",
    "    - [ ] Abstract Factory Method\n",
    "    - [ ] Builder Method\n",
    "    - [ ] Prototype Method\n",
    "    - [x] Singleton Method\n",
    "\n",
""   ]
  },
  {
   "cell_type": "markdown",
   "metadata": {},
   "source": [
    "# Singleton Method\n",
    "<hr style = \"border:2px solid black\" ></hr>"
   ]
  },
  {
   "cell_type": "markdown",
   "metadata": {},
   "source": [
    "\n",
    "- **Singleton is a creational design pattern that lets you ensure that a class has only one instance, while providing a global access point to this instance.**\n",
    "- The singleton pattern is a design pattern that restricts the instantiation of a class to one object.\n",
    "- A lot of developers consider the Singleton pattern an **antipattern**. That’s why its usage is on the decline in Python code.\n",
    "    \n",
""   ]
  },
  {
   "cell_type": "markdown",
   "metadata": {},
   "source": [
    "# Naive singleton implementation\n",
    "<hr style = \"border:2px solid black\" ></hr>"
   ]
  },
  {
   "cell_type": "markdown",
   "metadata": {},
   "source": [
    "\n",
    "- It’s pretty easy to implement a sloppy Singleton. You just need to hide the constructor and implement a static creation method.\n",
    "- The same class behaves incorrectly in a multithreaded environment. Multiple threads can call the creation method simultaneously and get several instances of Singleton class.\n",
    "- See file named `singleton_naive.py`\n",
    "    \n",
""   ]
  },
  {
   "cell_type": "code",
   "execution_count": 17,
   "metadata": {
    "ExecuteTime": {
     "end_time": "2023-03-10T12:40:22.489205Z",
     "start_time": "2023-03-10T12:40:22.317259Z"
    }
   },
   "outputs": [
    {
     "name": "stdout",
     "output_type": "stream",
     "text": [
      "Singleton works, both variables contain the same instance.\r\n"
     ]
    }
   ],
   "source": [
    "!python singleton_naive_implementation.py"
   ]
  },
  {
   "cell_type": "markdown",
   "metadata": {
    "ExecuteTime": {
     "end_time": "2023-03-03T13:17:00.147957Z",
     "start_time": "2023-03-03T13:17:00.144197Z"
    }
   },
   "source": [
    "# Thread-safe implementation\n",
    "<hr style = \"border:2px solid black\" ></hr>"
   ]
  },
  {
   "cell_type": "markdown",
   "metadata": {
    "ExecuteTime": {
     "end_time": "2023-03-10T12:38:36.229567Z",
     "start_time": "2023-03-10T12:38:36.225434Z"
    }
   },
   "source": [
    "\n",
    "- To fix the problem, you have to synchronize threads during the first creation of the Singleton object.\n",
    "- See file named `thread_safe_singleton_implementation.py`\n",
    "\n",
""   ]
  },
  {
   "cell_type": "code",
   "execution_count": 19,
   "metadata": {
    "ExecuteTime": {
     "end_time": "2023-03-10T12:40:29.471146Z",
     "start_time": "2023-03-10T12:40:29.302462Z"
    }
   },
   "outputs": [
    {
     "name": "stdout",
     "output_type": "stream",
     "text": [
      "If you see the same value, then singleton was reused (yay!)\r\n",
      "If you see different values, then 2 singletons were created (booo!!)\r\n",
      "\r\n",
      "RESULT:\r\n",
      "\r\n",
      "FOO\r\n",
      "FOO\r\n"
     ]
    }
   ],
   "source": [
    "!python thread_safe_singleton_implementation.py"
   ]
  },
  {
   "cell_type": "markdown",
   "metadata": {},
   "source": [
    "# Conclusions\n",
    "<hr style = \"border:2px solid black\" ></hr>"
   ]
  },
  {
   "cell_type": "markdown",
   "metadata": {
    "ExecuteTime": {
     "end_time": "2023-03-03T13:28:31.690665Z",
     "start_time": "2023-03-03T13:28:31.685824Z"
    }
   },
   "source": [
    "\n",
    "- **Advantages**:\n",
    "    - Initializations: An object created by the Singleton method is initialized only when it is requested for the first time.\n",
    "    - Access to the object: We got global access to the instance of the object.\n",
    "    - Count of instances: In singleton, method classes can’t have more than one instance\n",
    "- **Disadvantages**:\n",
    "    - Multithread Environment: It’s not easy to use the singleton method in a multithread environment, because we have to take care that the multithread wouldn’t create a singleton object several times.\n",
    "    - Single responsibility principle: As the Singleton method is solving two problems at a single time, it doesn’t follow the single responsibility principle.\n",
    "    - Unit testing process: As they introduce the global state to the application, it makes the unit testing very hard.\n",
    "    \n",
""   ]
  },
  {
   "cell_type": "markdown",
   "metadata": {},
   "source": [
    "# References\n",
    "<hr style = \"border:2px solid black\" ></hr>"
   ]
  },
  {
   "cell_type": "markdown",
   "metadata": {},
   "source": [
    "\n",
    "- [Singleton Method](https://www.geeksforgeeks.org/singleton-method-python-design-patterns/)\n",
    "- [Singleton in Python](https://refactoring.guru/design-patterns/singleton/python/example#example-1)\n",
    "    \n",
""   ]
  },
  {
   "cell_type": "code",
   "execution_count": null,
   "metadata": {},
   "outputs": [],
   "source": []
  }
 ],
 "metadata": {
  "kernelspec": {
   "display_name": "trainingAI",
   "language": "python",
   "name": "trainingai"
  },
  "language_info": {
   "codemirror_mode": {
    "name": "ipython",
    "version": 3
   },
   "file_extension": ".py",
   "mimetype": "text/x-python",
   "name": "python",
   "nbconvert_exporter": "python",
   "pygments_lexer": "ipython3",
   "version": "3.9.7"
  },
  "toc": {
   "base_numbering": 1,
   "nav_menu": {},
   "number_sections": true,
   "sideBar": true,
   "skip_h1_title": false,
   "title_cell": "Table of Contents",
   "title_sidebar": "Contents",
   "toc_cell": true,
   "toc_position": {
    "height": "calc(100% - 180px)",
    "left": "10px",
    "top": "150px",
    "width": "194.75px"
   },
   "toc_section_display": true,
   "toc_window_display": true
  },
  "varInspector": {
   "cols": {
    "lenName": 16,
    "lenType": 16,
    "lenVar": 40
   },
   "kernels_config": {
    "python": {
     "delete_cmd_postfix": "",
     "delete_cmd_prefix": "del ",
     "library": "var_list.py",
     "varRefreshCmd": "print(var_dic_list())"
    },
    "r": {
     "delete_cmd_postfix": ") ",
     "delete_cmd_prefix": "rm(",
     "library": "var_list.r",
     "varRefreshCmd": "cat(var_dic_list()) "
    }
   },
   "types_to_exclude": [
    "module",
    "function",
    "builtin_function_or_method",
    "instance",
    "_Feature"
   ],
   "window_display": false
  }
 },
 "nbformat": 4,
 "nbformat_minor": 2
}
