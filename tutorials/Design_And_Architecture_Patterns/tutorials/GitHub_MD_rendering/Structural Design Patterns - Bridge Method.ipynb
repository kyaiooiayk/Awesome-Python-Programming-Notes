{
 "cells": [
  {
   "cell_type": "markdown",
   "metadata": {
    "toc": true
   },
   "source": [
    "<h1>Table of Contents<span class=\"tocSkip\"></span></h1>\n",
""   ]
  },
  {
   "cell_type": "markdown",
   "metadata": {},
   "source": [
    "# Introduction\n",
    "<hr style = \"border:2px solid black\" ></hr>"
   ]
  },
  {
   "cell_type": "markdown",
   "metadata": {},
   "source": [
    "\n",
    "**What?** Structural Design Patterns - Bridge Method\n",
    "\n",
""   ]
  },
  {
   "cell_type": "markdown",
   "metadata": {},
   "source": [
    "# Structural Design Patterns\n",
    "<hr style = \"border:2px solid black\" ></hr>"
   ]
  },
  {
   "cell_type": "markdown",
   "metadata": {},
   "source": [
    "\n",
    "- **Structural Design Patterns** are used to establish relation between software components in particular settings.\n",
    "    - [ ] Adapter Method\n",
    "    - [x] Bridge Method\n",
    "    - [ ] Composite Method\n",
    "    - [ ] Decorator Method\n",
    "    - [ ] Facade Method\n",
    "    - [ ] Proxy Method\n",
    "    - [ ] FlyWeight Method\n",
    "\n",
""   ]
  },
  {
   "cell_type": "markdown",
   "metadata": {},
   "source": [
    "# Bridge Method\n",
    "<hr style = \"border:2px solid black\" ></hr>"
   ]
  },
  {
   "cell_type": "markdown",
   "metadata": {},
   "source": [
    "\n",
    "- **Lets you split a large class or a set of closely related classes into two separate hierarchies—abstraction and implementation—which can be developed independently of each other.**\n",
    "- Bridge patten helps untangle a complicated class hierarchy\n",
    "- The problem here is that there are two unrelated, parallel abstractions. One is implementation specific and other is implementation independent.\n",
    "    \n",
""   ]
  },
  {
   "cell_type": "markdown",
   "metadata": {},
   "source": [
    "# Example\n",
    "<hr style = \"border:2px solid black\" ></hr>"
   ]
  },
  {
   "cell_type": "markdown",
   "metadata": {},
   "source": [
    "\n",
    "- The scenario involves implementation-independent circle abstraction and implementation-dependent circle abstraction.\n",
    "- The second abstraction involves how to draw a circle, while the first one involves defining the properties of the circle and scaling it.\n",
    "- The solution tries to separate the abstraction into two different class hierarchies.\n",
    "    \n",
""   ]
  },
  {
   "cell_type": "code",
   "execution_count": 1,
   "metadata": {
    "ExecuteTime": {
     "end_time": "2023-03-12T15:08:33.216328Z",
     "start_time": "2023-03-12T15:08:33.212338Z"
    }
   },
   "outputs": [],
   "source": [
    "class DrawingAPIOne:\n",
    "    \"\"\"Implementation-specific abstraction : concrete class 1\"\"\"\n",
    "\n",
    "    def draw_circle(self, x, y, radius):\n",
    "        print(\"API 1 drawing a curcle at ({}, {}) with radius {}\".format(x, y, radius))\n",
    "\n",
    "\n",
    "class DrawingAPITwo:\n",
    "    \"\"\"Implementation-specific abstraction : concrete class 2\"\"\"\n",
    "\n",
    "    def draw_circle(self, x, y, radius):\n",
    "        print(\"API 2 drawing a curcle at ({}, {}) with radius {}\".format(x, y, radius))"
   ]
  },
  {
   "cell_type": "code",
   "execution_count": 2,
   "metadata": {
    "ExecuteTime": {
     "end_time": "2023-03-12T15:08:39.732237Z",
     "start_time": "2023-03-12T15:08:39.728069Z"
    }
   },
   "outputs": [],
   "source": [
    "class Circle:\n",
    "    \"\"\"Implementation-independent abstraction\"\"\"\n",
    "\n",
    "    def __init__(self, x, y, radius, drawing_api):\n",
    "        \"\"\"Initialize the necessary attributes\"\"\"\n",
    "        self._x = x\n",
    "        self._y = y\n",
    "        self._radius = radius\n",
    "        self._drawing_api = drawing_api\n",
    "\n",
    "    def draw(self):\n",
    "        \"\"\"Implementation specific absratction taken crae of by another\"\"\"\n",
    "        self._drawing_api.draw_circle(self._x, self._y, self._radius)\n",
    "\n",
    "    def scale(self, percent):\n",
    "        \"\"\"Implementation-independent\"\"\"\n",
    "        self._radius *= percent"
   ]
  },
  {
   "cell_type": "code",
   "execution_count": 3,
   "metadata": {
    "ExecuteTime": {
     "end_time": "2023-03-12T15:08:45.182048Z",
     "start_time": "2023-03-12T15:08:45.178232Z"
    }
   },
   "outputs": [
    {
     "name": "stdout",
     "output_type": "stream",
     "text": [
      "API 1 drawing a curcle at (1, 2) with radius 3\n",
      "API 2 drawing a curcle at (1, 2) with radius 3\n"
     ]
    }
   ],
   "source": [
    "circle1 = Circle(1, 2, 3, DrawingAPIOne())\n",
    "circle1.draw()\n",
    "\n",
    "circle2 = Circle(1, 2, 3, DrawingAPITwo())\n",
    "circle2.draw()"
   ]
  },
  {
   "cell_type": "markdown",
   "metadata": {},
   "source": [
    "# Conclusions\n",
    "<hr style = \"border:2px solid black\" ></hr>"
   ]
  },
  {
   "cell_type": "markdown",
   "metadata": {
    "ExecuteTime": {
     "end_time": "2023-03-03T13:28:31.690665Z",
     "start_time": "2023-03-03T13:28:31.685824Z"
    }
   },
   "source": [
    "\n",
    "- **Advantages**:\n",
    "    - You can create platform-independent classes and apps.\n",
    "    - The client code works with high-level abstractions. It isn’t exposed to the platform details.\n",
    "    - Open/Closed Principle. You can introduce new abstractions and implementations independently from each other.\n",
    "    - Single Responsibility Principle. You can focus on high-level logic in the abstraction and on platform details in the implementation.\n",
    "- **Disadvantages**:\n",
    "    - You might make the code more complicated by applying the pattern to a highly cohesive class.\n",
    "    \n",
""   ]
  },
  {
   "cell_type": "markdown",
   "metadata": {},
   "source": [
    "# References\n",
    "<hr style = \"border:2px solid black\" ></hr>"
   ]
  },
  {
   "cell_type": "markdown",
   "metadata": {},
   "source": [
    "\n",
    "- [Bridge method](https://www.geeksforgeeks.org/bridge-method-python-design-patterns/)\n",
    "- [Bridge in Python](https://refactoring.guru/design-patterns/bridge)\n",
    "- https://github.com/pyGuru123/Python-design-Patterns/tree/main/Structural%20Pattern\n",
    "    \n",
""   ]
  },
  {
   "cell_type": "markdown",
   "metadata": {},
   "source": [
    "# Requirements\n",
    "<hr style=\"border:2px solid black\"> </hr>"
   ]
  },
  {
   "cell_type": "code",
   "execution_count": 1,
   "metadata": {
    "ExecuteTime": {
     "end_time": "2023-03-12T09:05:01.815141Z",
     "start_time": "2023-03-12T09:05:01.782718Z"
    }
   },
   "outputs": [
    {
     "name": "stdout",
     "output_type": "stream",
     "text": [
      "Python implementation: CPython\n",
      "Python version       : 3.9.7\n",
      "IPython version      : 7.29.0\n",
      "\n",
      "Compiler    : Clang 10.0.0 \n",
      "OS          : Darwin\n",
      "Release     : 22.3.0\n",
      "Machine     : x86_64\n",
      "Processor   : i386\n",
      "CPU cores   : 12\n",
      "Architecture: 64bit\n",
      "\n",
      "numpy   : 1.21.6\n",
      "autopep8: 1.6.0\n",
      "json    : 2.0.9\n",
      "\n"
     ]
    }
   ],
   "source": [
    "%load_ext watermark\n",
    "%watermark -v -iv -m"
   ]
  },
  {
   "cell_type": "code",
   "execution_count": null,
   "metadata": {},
   "outputs": [],
   "source": []
  }
 ],
 "metadata": {
  "kernelspec": {
   "display_name": "trainingAI",
   "language": "python",
   "name": "trainingai"
  },
  "language_info": {
   "codemirror_mode": {
    "name": "ipython",
    "version": 3
   },
   "file_extension": ".py",
   "mimetype": "text/x-python",
   "name": "python",
   "nbconvert_exporter": "python",
   "pygments_lexer": "ipython3",
   "version": "3.9.7"
  },
  "toc": {
   "base_numbering": 1,
   "nav_menu": {},
   "number_sections": true,
   "sideBar": true,
   "skip_h1_title": false,
   "title_cell": "Table of Contents",
   "title_sidebar": "Contents",
   "toc_cell": true,
   "toc_position": {
    "height": "calc(100% - 180px)",
    "left": "10px",
    "top": "150px",
    "width": "194.75px"
   },
   "toc_section_display": true,
   "toc_window_display": true
  },
  "varInspector": {
   "cols": {
    "lenName": 16,
    "lenType": 16,
    "lenVar": 40
   },
   "kernels_config": {
    "python": {
     "delete_cmd_postfix": "",
     "delete_cmd_prefix": "del ",
     "library": "var_list.py",
     "varRefreshCmd": "print(var_dic_list())"
    },
    "r": {
     "delete_cmd_postfix": ") ",
     "delete_cmd_prefix": "rm(",
     "library": "var_list.r",
     "varRefreshCmd": "cat(var_dic_list()) "
    }
   },
   "types_to_exclude": [
    "module",
    "function",
    "builtin_function_or_method",
    "instance",
    "_Feature"
   ],
   "window_display": false
  }
 },
 "nbformat": 4,
 "nbformat_minor": 2
}
