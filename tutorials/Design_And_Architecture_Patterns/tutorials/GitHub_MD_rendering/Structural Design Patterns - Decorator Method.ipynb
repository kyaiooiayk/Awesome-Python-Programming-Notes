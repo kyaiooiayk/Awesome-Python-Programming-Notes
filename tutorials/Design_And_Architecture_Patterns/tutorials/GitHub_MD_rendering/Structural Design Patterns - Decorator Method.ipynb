{
 "cells": [
  {
   "cell_type": "markdown",
   "metadata": {
    "toc": true
   },
   "source": [
    "<h1>Table of Contents<span class=\"tocSkip\"></span></h1>\n",
""   ]
  },
  {
   "cell_type": "markdown",
   "metadata": {},
   "source": [
    "# Introduction\n",
    "<hr style = \"border:2px solid black\" ></hr>"
   ]
  },
  {
   "cell_type": "markdown",
   "metadata": {},
   "source": [
    "\n",
    "**What?** Structural Design Patterns - Decorator Method\n",
    "\n",
""   ]
  },
  {
   "cell_type": "markdown",
   "metadata": {},
   "source": [
    "# Structural Design Patterns\n",
    "<hr style = \"border:2px solid black\" ></hr>"
   ]
  },
  {
   "cell_type": "markdown",
   "metadata": {},
   "source": [
    "\n",
    "- **Structural Design Patterns** are used to establish relation between software components in particular settings.\n",
    "    - [ ] Adapter Method\n",
    "    - [ ] Bridge Method\n",
    "    - [ ] Composite Method\n",
    "    - [x] Decorator Method\n",
    "    - [ ] Facade Method\n",
    "    - [ ] Proxy Method\n",
    "    - [ ] FlyWeight Method\n",
    "\n",
""   ]
  },
  {
   "cell_type": "markdown",
   "metadata": {},
   "source": [
    "# Decorator Method\n",
    "<hr style = \"border:2px solid black\" ></hr>"
   ]
  },
  {
   "cell_type": "markdown",
   "metadata": {},
   "source": [
    "\n",
    "- **Lets you attach new behaviors to objects by placing these objects inside special wrapper objects that contain the behaviors.**\n",
    "- Decorator pattern allows adding new features to an object without changing their structures.\n",
    "- Here the problem is to add new features to the object without subclassing.\n",
    "- In python we can additional features to a function using the inbuilt decorator\n",
    "    \n",
""   ]
  },
  {
   "cell_type": "markdown",
   "metadata": {},
   "source": [
    "# Example\n",
    "<hr style = \"border:2px solid black\" ></hr>"
   ]
  },
  {
   "cell_type": "code",
   "execution_count": 20,
   "metadata": {
    "ExecuteTime": {
     "end_time": "2023-03-19T11:24:37.340768Z",
     "start_time": "2023-03-19T11:24:37.338127Z"
    }
   },
   "outputs": [],
   "source": [
    "def hello_world_original():\n",
    "    \"\"\"The original function not decorated\"\"\"\n",
    "    return \"Hello World!\""
   ]
  },
  {
   "cell_type": "code",
   "execution_count": 21,
   "metadata": {
    "ExecuteTime": {
     "end_time": "2023-03-19T11:24:37.601291Z",
     "start_time": "2023-03-19T11:24:37.598005Z"
    }
   },
   "outputs": [
    {
     "data": {
      "text/plain": [
       "'Hello World!'"
      ]
     },
     "execution_count": 21,
     "metadata": {},
     "output_type": "execute_result"
    }
   ],
   "source": [
    "hello_world_original()"
   ]
  },
  {
   "cell_type": "code",
   "execution_count": 22,
   "metadata": {
    "ExecuteTime": {
     "end_time": "2023-03-19T11:24:37.827807Z",
     "start_time": "2023-03-19T11:24:37.824513Z"
    }
   },
   "outputs": [
    {
     "data": {
      "text/plain": [
       "'hello_world_original'"
      ]
     },
     "execution_count": 22,
     "metadata": {},
     "output_type": "execute_result"
    }
   ],
   "source": [
    "hello_world_original.__name__"
   ]
  },
  {
   "cell_type": "code",
   "execution_count": 23,
   "metadata": {
    "ExecuteTime": {
     "end_time": "2023-03-19T11:24:38.044798Z",
     "start_time": "2023-03-19T11:24:38.041563Z"
    }
   },
   "outputs": [
    {
     "data": {
      "text/plain": [
       "'The original function not decorated'"
      ]
     },
     "execution_count": 23,
     "metadata": {},
     "output_type": "execute_result"
    }
   ],
   "source": [
    "hello_world_original.__doc__"
   ]
  },
  {
   "cell_type": "code",
   "execution_count": 28,
   "metadata": {
    "ExecuteTime": {
     "end_time": "2023-03-19T11:24:49.916938Z",
     "start_time": "2023-03-19T11:24:49.913392Z"
    }
   },
   "outputs": [],
   "source": [
    "from functools import wraps\n",
    "\n",
    "\n",
    "def make_blink(function):\n",
    "    \"\"\"Defines the decorator\"\"\"\n",
    "\n",
    "    # This makes the decorator transparent in terms of its name and doctstring\n",
    "\n",
    "    @wraps(function)\n",
    "    # Define the inner function\n",
    "    def decorator():\n",
    "        # Grab the return value of the function being decorated\n",
    "        ret = function()\n",
    "\n",
    "        # Add new functionality to the function being decorated.\n",
    "        return \"<blink>\" + ret + \"</blink>\"\n",
    "\n",
    "    return decorator\n",
    "\n",
    "\n",
    "@make_blink\n",
    "def hello_world():\n",
    "    \"\"\"The original function decorated\"\"\"\n",
    "    return \"Hello World!\""
   ]
  },
  {
   "cell_type": "code",
   "execution_count": 29,
   "metadata": {
    "ExecuteTime": {
     "end_time": "2023-03-19T11:24:50.227626Z",
     "start_time": "2023-03-19T11:24:50.224217Z"
    }
   },
   "outputs": [
    {
     "data": {
      "text/plain": [
       "'<blink>Hello World!</blink>'"
      ]
     },
     "execution_count": 29,
     "metadata": {},
     "output_type": "execute_result"
    }
   ],
   "source": [
    "hello_world()"
   ]
  },
  {
   "cell_type": "code",
   "execution_count": 30,
   "metadata": {
    "ExecuteTime": {
     "end_time": "2023-03-19T11:24:50.435439Z",
     "start_time": "2023-03-19T11:24:50.431959Z"
    }
   },
   "outputs": [
    {
     "data": {
      "text/plain": [
       "'hello_world'"
      ]
     },
     "execution_count": 30,
     "metadata": {},
     "output_type": "execute_result"
    }
   ],
   "source": [
    "hello_world.__name__"
   ]
  },
  {
   "cell_type": "code",
   "execution_count": 31,
   "metadata": {
    "ExecuteTime": {
     "end_time": "2023-03-19T11:24:50.601771Z",
     "start_time": "2023-03-19T11:24:50.598148Z"
    }
   },
   "outputs": [
    {
     "data": {
      "text/plain": [
       "'The original function decorated'"
      ]
     },
     "execution_count": 31,
     "metadata": {},
     "output_type": "execute_result"
    }
   ],
   "source": [
    "hello_world.__doc__"
   ]
  },
  {
   "cell_type": "markdown",
   "metadata": {},
   "source": [
    "# Conclusions\n",
    "<hr style = \"border:2px solid black\" ></hr>"
   ]
  },
  {
   "cell_type": "markdown",
   "metadata": {
    "ExecuteTime": {
     "end_time": "2023-03-03T13:28:31.690665Z",
     "start_time": "2023-03-03T13:28:31.685824Z"
    }
   },
   "source": [
    "\n",
    "- **Advantages**:\n",
    "    - You can extend an object’s behaviour without making a new subclass.\n",
    "    - You can add or remove responsibilities from an object at runtime.\n",
    "    - You can combine several behaviors by wrapping an object into multiple decorators.\n",
    "    - Single Responsibility Principle. You can divide a monolithic class that implements many possible variants of behavior into several smaller classes.\n",
    "- **Disadvantages**:\n",
    "    - It’s hard to remove a specific wrapper from the wrappers stack.\n",
    "    - It’s hard to implement a decorator in such a way that its behavior doesn’t depend on the order in the decorators stack.\n",
    "    - The initial configuration code of layers might look pretty ugly.\n",
    "\n",
""   ]
  },
  {
   "cell_type": "markdown",
   "metadata": {},
   "source": [
    "# References\n",
    "<hr style = \"border:2px solid black\" ></hr>"
   ]
  },
  {
   "cell_type": "markdown",
   "metadata": {},
   "source": [
    "\n",
    "- [Decorator method](https://www.geeksforgeeks.org/decorator-method-python-design-patterns/)\n",
    "- [Decorator in Python](https://refactoring.guru/design-patterns/decorator)\n",
    "- https://github.com/pyGuru123/Python-design-Patterns/blob/main/Structural%20Pattern/decorator.py\n",
    "- [Function decoration notes](https://github.com/kyaiooiayk/Awesome-Python-Programming-Notes/blob/main/tutorials/Decorations/Function%20decorators.ipynb)\n",
    "    \n",
""   ]
  },
  {
   "cell_type": "markdown",
   "metadata": {},
   "source": [
    "# Requirements\n",
    "<hr style=\"border:2px solid black\"> </hr>"
   ]
  },
  {
   "cell_type": "code",
   "execution_count": 7,
   "metadata": {
    "ExecuteTime": {
     "end_time": "2023-03-18T20:12:40.152037Z",
     "start_time": "2023-03-18T20:12:40.112437Z"
    }
   },
   "outputs": [
    {
     "name": "stdout",
     "output_type": "stream",
     "text": [
      "Python implementation: CPython\n",
      "Python version       : 3.9.7\n",
      "IPython version      : 7.29.0\n",
      "\n",
      "Compiler    : Clang 10.0.0 \n",
      "OS          : Darwin\n",
      "Release     : 22.3.0\n",
      "Machine     : x86_64\n",
      "Processor   : i386\n",
      "CPU cores   : 12\n",
      "Architecture: 64bit\n",
      "\n",
      "json    : 2.0.9\n",
      "autopep8: 1.6.0\n",
      "\n"
     ]
    }
   ],
   "source": [
    "%load_ext watermark\n",
    "%watermark -v -iv -m"
   ]
  },
  {
   "cell_type": "code",
   "execution_count": null,
   "metadata": {},
   "outputs": [],
   "source": []
  }
 ],
 "metadata": {
  "kernelspec": {
   "display_name": "trainingAI",
   "language": "python",
   "name": "trainingai"
  },
  "language_info": {
   "codemirror_mode": {
    "name": "ipython",
    "version": 3
   },
   "file_extension": ".py",
   "mimetype": "text/x-python",
   "name": "python",
   "nbconvert_exporter": "python",
   "pygments_lexer": "ipython3",
   "version": "3.9.7"
  },
  "toc": {
   "base_numbering": 1,
   "nav_menu": {},
   "number_sections": true,
   "sideBar": true,
   "skip_h1_title": false,
   "title_cell": "Table of Contents",
   "title_sidebar": "Contents",
   "toc_cell": true,
   "toc_position": {
    "height": "calc(100% - 180px)",
    "left": "10px",
    "top": "150px",
    "width": "194.75px"
   },
   "toc_section_display": true,
   "toc_window_display": true
  },
  "varInspector": {
   "cols": {
    "lenName": 16,
    "lenType": 16,
    "lenVar": 40
   },
   "kernels_config": {
    "python": {
     "delete_cmd_postfix": "",
     "delete_cmd_prefix": "del ",
     "library": "var_list.py",
     "varRefreshCmd": "print(var_dic_list())"
    },
    "r": {
     "delete_cmd_postfix": ") ",
     "delete_cmd_prefix": "rm(",
     "library": "var_list.r",
     "varRefreshCmd": "cat(var_dic_list()) "
    }
   },
   "types_to_exclude": [
    "module",
    "function",
    "builtin_function_or_method",
    "instance",
    "_Feature"
   ],
   "window_display": false
  }
 },
 "nbformat": 4,
 "nbformat_minor": 2
}
