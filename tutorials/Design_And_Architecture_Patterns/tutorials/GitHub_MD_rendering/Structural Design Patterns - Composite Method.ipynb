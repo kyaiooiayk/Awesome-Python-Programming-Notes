{
 "cells": [
  {
   "cell_type": "markdown",
   "metadata": {
    "toc": true
   },
   "source": [
    "<h1>Table of Contents<span class=\"tocSkip\"></span></h1>\n",
""   ]
  },
  {
   "cell_type": "markdown",
   "metadata": {},
   "source": [
    "# Introduction\n",
    "<hr style = \"border:2px solid black\" ></hr>"
   ]
  },
  {
   "cell_type": "markdown",
   "metadata": {},
   "source": [
    "\n",
    "**What?** Structural Design Patterns - Composite Method\n",
    "\n",
""   ]
  },
  {
   "cell_type": "markdown",
   "metadata": {},
   "source": [
    "# Structural Design Patterns\n",
    "<hr style = \"border:2px solid black\" ></hr>"
   ]
  },
  {
   "cell_type": "markdown",
   "metadata": {},
   "source": [
    "\n",
    "- **Structural Design Patterns** are used to establish relation between software components in particular settings.\n",
    "    - [ ] Adapter Method\n",
    "    - [ ] Bridge Method\n",
    "    - [x] Composite Method\n",
    "    - [ ] Decorator Method\n",
    "    - [ ] Facade Method\n",
    "    - [ ] Proxy Method\n",
    "    - [ ] FlyWeight Method\n",
    "\n",
""   ]
  },
  {
   "cell_type": "markdown",
   "metadata": {},
   "source": [
    "# Composite Method\n",
    "<hr style = \"border:2px solid black\" ></hr>"
   ]
  },
  {
   "cell_type": "markdown",
   "metadata": {},
   "source": [
    "\n",
    "- **Lets you compose objects into tree structures and then work with these structures as if they were individual objects.**\n",
    "- A composite design pattern maintains a tree data structure.\n",
    "- The problem here is to build a recursive tree data structure so that an element of the tree can have subelements.\n",
    "    \n",
""   ]
  },
  {
   "cell_type": "markdown",
   "metadata": {},
   "source": [
    "# Example\n",
    "<hr style = \"border:2px solid black\" ></hr>"
   ]
  },
  {
   "cell_type": "markdown",
   "metadata": {},
   "source": [
    "\n",
    "- Here the scenerio is creating menu and submenu items, which can have further submenu items.\n",
    "- The solution consists of 3 major elements\n",
    "- `Component`: An abstract class\n",
    "- `Child`: A concrete class inherits from the component\n",
    "- `Composite`: A concrete class which also inherits from component. The composite class maintains child objects by ading and removing them to a tree data structure.\n",
    "    \n",
""   ]
  },
  {
   "cell_type": "code",
   "execution_count": 1,
   "metadata": {
    "ExecuteTime": {
     "end_time": "2023-03-18T20:04:53.443272Z",
     "start_time": "2023-03-18T20:04:53.440408Z"
    }
   },
   "outputs": [],
   "source": [
    "class Component:\n",
    "    \"\"\"Abstract class\"\"\"\n",
    "\n",
    "    def __init__(self, *args, **kwargs):\n",
    "        pass\n",
    "\n",
    "    def component_function(self):\n",
    "        pass"
   ]
  },
  {
   "cell_type": "code",
   "execution_count": 2,
   "metadata": {
    "ExecuteTime": {
     "end_time": "2023-03-18T20:05:00.090104Z",
     "start_time": "2023-03-18T20:05:00.086841Z"
    }
   },
   "outputs": [],
   "source": [
    "class Child(Component):\n",
    "    \"\"\"Concrete class\"\"\"\n",
    "\n",
    "    def __init__(self, *args, **kwargs):\n",
    "        Component.__init__(self, *args, **kwargs)\n",
    "\n",
    "        # This is where we are going to store the name of the child item\n",
    "        self.name = args[0]\n",
    "\n",
    "    def component_function(self):\n",
    "        # Print the name of the child item here\n",
    "        print('{}'.format(self.name))"
   ]
  },
  {
   "cell_type": "code",
   "execution_count": 3,
   "metadata": {
    "ExecuteTime": {
     "end_time": "2023-03-18T20:05:08.356046Z",
     "start_time": "2023-03-18T20:05:08.351366Z"
    }
   },
   "outputs": [],
   "source": [
    "class Composite(Component):\n",
    "    \"\"\"Concrete class\"\"\"\n",
    "\n",
    "    def __init__(self, *args, **kwargs):\n",
    "        Component.__init__(self, *args, **kwargs)\n",
    "\n",
    "        # This is where we store name of the composite object\n",
    "        self.name = args[0]\n",
    "\n",
    "        # This is where we keep our child items\n",
    "        self.children = []\n",
    "\n",
    "    def append_child(self, child):\n",
    "        \"\"\"Method to add a new child item\"\"\"\n",
    "        self.children.append(child)\n",
    "\n",
    "    def remove_child(self, child):\n",
    "        \"\"\"Method to remove a child item\"\"\"\n",
    "        self.children.remove(child)\n",
    "\n",
    "    def component_function(self):\n",
    "        # Print the name of the composite object\n",
    "        print('{}'.format(self.name))\n",
    "\n",
    "        # Iterate through the child objects and initiate their component\n",
    "        for child in self.children:\n",
    "            child.component_function()"
   ]
  },
  {
   "cell_type": "code",
   "execution_count": 6,
   "metadata": {
    "ExecuteTime": {
     "end_time": "2023-03-18T20:05:42.199965Z",
     "start_time": "2023-03-18T20:05:42.197618Z"
    }
   },
   "outputs": [],
   "source": [
    "# Build a composite submenu 1\n",
    "sub1 = Composite(\"submenu1\")\n",
    "\n",
    "# Create new child submenu 11\n",
    "sub11 = Child(\"submenu 11\")\n",
    "# Create new child submenu 12\n",
    "sub12 = Child(\"submenu 12\")"
   ]
  },
  {
   "cell_type": "code",
   "execution_count": 9,
   "metadata": {
    "ExecuteTime": {
     "end_time": "2023-03-18T20:06:00.830817Z",
     "start_time": "2023-03-18T20:06:00.828416Z"
    }
   },
   "outputs": [],
   "source": [
    "# Add the submenu 11 to submenu 1\n",
    "sub1.append_child(sub11)\n",
    "\n",
    "# Add the submenu 12 to submenu 1\n",
    "sub1.append_child(sub12)"
   ]
  },
  {
   "cell_type": "code",
   "execution_count": 11,
   "metadata": {
    "ExecuteTime": {
     "end_time": "2023-03-18T20:06:11.656495Z",
     "start_time": "2023-03-18T20:06:11.653168Z"
    }
   },
   "outputs": [
    {
     "name": "stdout",
     "output_type": "stream",
     "text": [
      "topmenu\n",
      "submenu1\n",
      "submenu 11\n",
      "submenu 12\n",
      "submenu 11\n",
      "submenu 11\n",
      "submenu 12\n",
      "submenu 2\n"
     ]
    }
   ],
   "source": [
    "# Build a top level composite menu\n",
    "top = Composite(\"topmenu\")\n",
    "\n",
    "# build a submenu 2 that is not a composite\n",
    "sub2 = Child(\"submenu 2\")\n",
    "\n",
    "# Add submenu 1 and submenu 2 to top menu\n",
    "top.append_child(sub1)\n",
    "top.append_child(sub2)\n",
    "\n",
    "# Testing top menu\n",
    "top.component_function()"
   ]
  },
  {
   "cell_type": "markdown",
   "metadata": {},
   "source": [
    "# Conclusions\n",
    "<hr style = \"border:2px solid black\" ></hr>"
   ]
  },
  {
   "cell_type": "markdown",
   "metadata": {
    "ExecuteTime": {
     "end_time": "2023-03-03T13:28:31.690665Z",
     "start_time": "2023-03-03T13:28:31.685824Z"
    }
   },
   "source": [
    "\n",
    "- **Advantages**:\n",
    "    - You can work with complex tree structures more conveniently: use polymorphism and recursion to your advantage.\n",
    "    - Open/Closed Principle. You can introduce new element types into the app without breaking the existing code, which now works with the object tree.\n",
    "- **Disadvantages**:\n",
    "    - It might be difficult to provide a common interface for classes whose functionality differs too much. In certain scenarios, you’d need to overgeneralize the component interface, making it harder to comprehend.\n",
    "    \n",
""   ]
  },
  {
   "cell_type": "markdown",
   "metadata": {},
   "source": [
    "# References\n",
    "<hr style = \"border:2px solid black\" ></hr>"
   ]
  },
  {
   "cell_type": "markdown",
   "metadata": {},
   "source": [
    "\n",
    "- [Composite method](https://www.geeksforgeeks.org/composite-method-python-design-patterns/)\n",
    "- [Composite in Python](https://refactoring.guru/design-patterns/composite)\n",
    "- https://github.com/pyGuru123/Python-design-Patterns/blob/main/Structural%20Pattern/composite.py\n",
    "    \n",
""   ]
  },
  {
   "cell_type": "markdown",
   "metadata": {},
   "source": [
    "# Requirements\n",
    "<hr style=\"border:2px solid black\"> </hr>"
   ]
  },
  {
   "cell_type": "code",
   "execution_count": 1,
   "metadata": {
    "ExecuteTime": {
     "end_time": "2023-03-12T09:05:01.815141Z",
     "start_time": "2023-03-12T09:05:01.782718Z"
    }
   },
   "outputs": [
    {
     "name": "stdout",
     "output_type": "stream",
     "text": [
      "Python implementation: CPython\n",
      "Python version       : 3.9.7\n",
      "IPython version      : 7.29.0\n",
      "\n",
      "Compiler    : Clang 10.0.0 \n",
      "OS          : Darwin\n",
      "Release     : 22.3.0\n",
      "Machine     : x86_64\n",
      "Processor   : i386\n",
      "CPU cores   : 12\n",
      "Architecture: 64bit\n",
      "\n",
      "numpy   : 1.21.6\n",
      "autopep8: 1.6.0\n",
      "json    : 2.0.9\n",
      "\n"
     ]
    }
   ],
   "source": [
    "%load_ext watermark\n",
    "%watermark -v -iv -m"
   ]
  },
  {
   "cell_type": "code",
   "execution_count": null,
   "metadata": {},
   "outputs": [],
   "source": []
  }
 ],
 "metadata": {
  "kernelspec": {
   "display_name": "trainingAI",
   "language": "python",
   "name": "trainingai"
  },
  "language_info": {
   "codemirror_mode": {
    "name": "ipython",
    "version": 3
   },
   "file_extension": ".py",
   "mimetype": "text/x-python",
   "name": "python",
   "nbconvert_exporter": "python",
   "pygments_lexer": "ipython3",
   "version": "3.9.7"
  },
  "toc": {
   "base_numbering": 1,
   "nav_menu": {},
   "number_sections": true,
   "sideBar": true,
   "skip_h1_title": false,
   "title_cell": "Table of Contents",
   "title_sidebar": "Contents",
   "toc_cell": true,
   "toc_position": {
    "height": "calc(100% - 180px)",
    "left": "10px",
    "top": "150px",
    "width": "194.75px"
   },
   "toc_section_display": true,
   "toc_window_display": true
  },
  "varInspector": {
   "cols": {
    "lenName": 16,
    "lenType": 16,
    "lenVar": 40
   },
   "kernels_config": {
    "python": {
     "delete_cmd_postfix": "",
     "delete_cmd_prefix": "del ",
     "library": "var_list.py",
     "varRefreshCmd": "print(var_dic_list())"
    },
    "r": {
     "delete_cmd_postfix": ") ",
     "delete_cmd_prefix": "rm(",
     "library": "var_list.r",
     "varRefreshCmd": "cat(var_dic_list()) "
    }
   },
   "types_to_exclude": [
    "module",
    "function",
    "builtin_function_or_method",
    "instance",
    "_Feature"
   ],
   "window_display": false
  }
 },
 "nbformat": 4,
 "nbformat_minor": 2
}
