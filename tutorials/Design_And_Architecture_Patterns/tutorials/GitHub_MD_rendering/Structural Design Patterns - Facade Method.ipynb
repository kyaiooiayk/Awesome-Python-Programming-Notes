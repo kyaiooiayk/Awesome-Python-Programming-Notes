{
 "cells": [
  {
   "cell_type": "markdown",
   "metadata": {
    "toc": true
   },
   "source": [
    "<h1>Table of Contents<span class=\"tocSkip\"></span></h1>\n",
""   ]
  },
  {
   "cell_type": "markdown",
   "metadata": {},
   "source": [
    "# Introduction\n",
    "<hr style = \"border:2px solid black\" ></hr>"
   ]
  },
  {
   "cell_type": "markdown",
   "metadata": {},
   "source": [
    "\n",
    "**What?** Structural Design Patterns - Facade Method\n",
    "\n",
""   ]
  },
  {
   "cell_type": "markdown",
   "metadata": {},
   "source": [
    "# Structural Design Patterns\n",
    "<hr style = \"border:2px solid black\" ></hr>"
   ]
  },
  {
   "cell_type": "markdown",
   "metadata": {},
   "source": [
    "\n",
    "- **Structural Design Patterns** are used to establish relation between software components in particular settings.\n",
    "    - [ ] Adapter Method\n",
    "    - [ ] Bridge Method\n",
    "    - [ ] Composite Method\n",
    "    - [ ] Decorator Method\n",
    "    - [x] Facade Method\n",
    "    - [ ] Proxy Method\n",
    "    - [ ] FlyWeight Method\n",
    "\n",
""   ]
  },
  {
   "cell_type": "markdown",
   "metadata": {},
   "source": [
    "# Facade Method\n",
    "<hr style = \"border:2px solid black\" ></hr>"
   ]
  },
  {
   "cell_type": "markdown",
   "metadata": {},
   "source": [
    "\n",
    "- **Provides a simplified interface to a library, a framework, or any other complex set of classes.**\n",
    "- **Real-world analogy** When you call a shop to place a phone order, an operator is your facade to all services and departments of the shop. The operator provides you with a simple voice interface to the ordering system, payment gateways, and various delivery services.\n",
    "    \n",
""   ]
  },
  {
   "cell_type": "markdown",
   "metadata": {},
   "source": [
    "# Example\n",
    "<hr style = \"border:2px solid black\" ></hr>"
   ]
  },
  {
   "cell_type": "code",
   "execution_count": 1,
   "metadata": {
    "ExecuteTime": {
     "end_time": "2023-03-20T09:44:24.267650Z",
     "start_time": "2023-03-20T09:44:24.263187Z"
    }
   },
   "outputs": [],
   "source": [
    "class Subsystem1:\n",
    "    \"\"\"\n",
    "    The Subsystem can accept requests either from the facade or client directly.\n",
    "    In any case, to the Subsystem, the Facade is yet another client, and it's\n",
    "    not a part of the Subsystem.\n",
    "    \"\"\"\n",
    "\n",
    "    def operation1(self) -> str:\n",
    "        return \"Subsystem1: Ready!\"\n",
    "\n",
    "    # ...\n",
    "\n",
    "    def operation_n(self) -> str:\n",
    "        return \"Subsystem1: Go!\"\n",
    "\n",
    "\n",
    "class Subsystem2:\n",
    "    \"\"\"\n",
    "    Some facades can work with multiple subsystems at the same time.\n",
    "    \"\"\"\n",
    "\n",
    "    def operation1(self) -> str:\n",
    "        return \"Subsystem2: Get ready!\"\n",
    "\n",
    "    # ...\n",
    "\n",
    "    def operation_z(self) -> str:\n",
    "        return \"Subsystem2: Fire!\""
   ]
  },
  {
   "cell_type": "code",
   "execution_count": 2,
   "metadata": {
    "ExecuteTime": {
     "end_time": "2023-03-20T09:44:24.274790Z",
     "start_time": "2023-03-20T09:44:24.270160Z"
    }
   },
   "outputs": [],
   "source": [
    "class Facade:\n",
    "    \"\"\"\n",
    "    The Facade class provides a simple interface to the complex logic of one or\n",
    "    several subsystems. The Facade delegates the client requests to the\n",
    "    appropriate objects within the subsystem. The Facade is also responsible for\n",
    "    managing their lifecycle. All of this shields the client from the undesired\n",
    "    complexity of the subsystem.\n",
    "    \"\"\"\n",
    "\n",
    "    def __init__(self, subsystem1: Subsystem1, subsystem2: Subsystem2) -> None:\n",
    "        \"\"\"\n",
    "        Depending on your application's needs, you can provide the Facade with\n",
    "        existing subsystem objects or force the Facade to create them on its\n",
    "        own.\n",
    "        \"\"\"\n",
    "\n",
    "        self._subsystem1 = subsystem1 or Subsystem1()\n",
    "        self._subsystem2 = subsystem2 or Subsystem2()\n",
    "\n",
    "    def operation(self) -> str:\n",
    "        \"\"\"\n",
    "        The Facade's methods are convenient shortcuts to the sophisticated\n",
    "        functionality of the subsystems. However, clients get only to a fraction\n",
    "        of a subsystem's capabilities.\n",
    "        \"\"\"\n",
    "\n",
    "        results = []\n",
    "        results.append(\"Facade initializes subsystems:\")\n",
    "        results.append(self._subsystem1.operation1())\n",
    "        results.append(self._subsystem2.operation1())\n",
    "        results.append(\"Facade orders subsystems to perform the action:\")\n",
    "        results.append(self._subsystem1.operation_n())\n",
    "        results.append(self._subsystem2.operation_z())\n",
    "        return \"\\n\".join(results)"
   ]
  },
  {
   "cell_type": "code",
   "execution_count": 3,
   "metadata": {
    "ExecuteTime": {
     "end_time": "2023-03-20T09:44:24.279256Z",
     "start_time": "2023-03-20T09:44:24.276755Z"
    }
   },
   "outputs": [],
   "source": [
    "def client_code(facade: Facade) -> None:\n",
    "    \"\"\"\n",
    "    The client code works with complex subsystems through a simple interface\n",
    "    provided by the Facade. When a facade manages the lifecycle of the\n",
    "    subsystem, the client might not even know about the existence of the\n",
    "    subsystem. This approach lets you keep the complexity under control.\n",
    "    \"\"\"\n",
    "\n",
    "    print(facade.operation(), end=\"\")"
   ]
  },
  {
   "cell_type": "code",
   "execution_count": 4,
   "metadata": {
    "ExecuteTime": {
     "end_time": "2023-03-20T09:44:24.285433Z",
     "start_time": "2023-03-20T09:44:24.281787Z"
    }
   },
   "outputs": [
    {
     "name": "stdout",
     "output_type": "stream",
     "text": [
      "Facade initializes subsystems:\n",
      "Subsystem1: Ready!\n",
      "Subsystem2: Get ready!\n",
      "Facade orders subsystems to perform the action:\n",
      "Subsystem1: Go!\n",
      "Subsystem2: Fire!"
     ]
    }
   ],
   "source": [
    "#if __name__ == \"__main__\":\n",
    "# The client code may have some of the subsystem's objects already created.\n",
    "# In this case, it might be worthwhile to initialize the Facade with these\n",
    "# objects instead of letting the Facade create new instances.\n",
    "subsystem1 = Subsystem1()\n",
    "subsystem2 = Subsystem2()\n",
    "facade = Facade(subsystem1, subsystem2)\n",
    "client_code(facade)"
   ]
  },
  {
   "cell_type": "markdown",
   "metadata": {},
   "source": [
    "# Conclusions\n",
    "<hr style = \"border:2px solid black\" ></hr>"
   ]
  },
  {
   "cell_type": "markdown",
   "metadata": {
    "ExecuteTime": {
     "end_time": "2023-03-03T13:28:31.690665Z",
     "start_time": "2023-03-03T13:28:31.685824Z"
    }
   },
   "source": [
    "\n",
    "- **Advantages**:\n",
    "    -  You can isolate your code from the complexity of a subsystem.\n",
    "- **Disadvantages**:\n",
    "    - A facade can become a god object coupled to all classes of an app.\n",
    "\n",
""   ]
  },
  {
   "cell_type": "markdown",
   "metadata": {},
   "source": [
    "# References\n",
    "<hr style = \"border:2px solid black\" ></hr>"
   ]
  },
  {
   "cell_type": "markdown",
   "metadata": {},
   "source": [
    "\n",
    "- [Facade method](https://www.geeksforgeeks.org/facade-method-python-design-patterns/)\n",
    "- [Facade in Python](https://refactoring.guru/design-patterns/facade)\n",
    "    \n",
""   ]
  },
  {
   "cell_type": "markdown",
   "metadata": {},
   "source": [
    "# Requirements\n",
    "<hr style=\"border:2px solid black\"> </hr>"
   ]
  },
  {
   "cell_type": "code",
   "execution_count": 5,
   "metadata": {
    "ExecuteTime": {
     "end_time": "2023-03-20T09:44:24.326324Z",
     "start_time": "2023-03-20T09:44:24.287741Z"
    }
   },
   "outputs": [
    {
     "name": "stdout",
     "output_type": "stream",
     "text": [
      "Python implementation: CPython\n",
      "Python version       : 3.9.7\n",
      "IPython version      : 7.29.0\n",
      "\n",
      "Compiler    : Clang 10.0.0 \n",
      "OS          : Darwin\n",
      "Release     : 22.3.0\n",
      "Machine     : x86_64\n",
      "Processor   : i386\n",
      "CPU cores   : 12\n",
      "Architecture: 64bit\n",
      "\n",
      "json    : 2.0.9\n",
      "autopep8: 1.6.0\n",
      "\n"
     ]
    }
   ],
   "source": [
    "%load_ext watermark\n",
    "%watermark -v -iv -m"
   ]
  },
  {
   "cell_type": "code",
   "execution_count": null,
   "metadata": {},
   "outputs": [],
   "source": []
  }
 ],
 "metadata": {
  "kernelspec": {
   "display_name": "trainingAI",
   "language": "python",
   "name": "trainingai"
  },
  "language_info": {
   "codemirror_mode": {
    "name": "ipython",
    "version": 3
   },
   "file_extension": ".py",
   "mimetype": "text/x-python",
   "name": "python",
   "nbconvert_exporter": "python",
   "pygments_lexer": "ipython3",
   "version": "3.9.7"
  },
  "toc": {
   "base_numbering": 1,
   "nav_menu": {},
   "number_sections": true,
   "sideBar": true,
   "skip_h1_title": false,
   "title_cell": "Table of Contents",
   "title_sidebar": "Contents",
   "toc_cell": true,
   "toc_position": {
    "height": "calc(100% - 180px)",
    "left": "10px",
    "top": "150px",
    "width": "194.75px"
   },
   "toc_section_display": true,
   "toc_window_display": true
  },
  "varInspector": {
   "cols": {
    "lenName": 16,
    "lenType": 16,
    "lenVar": 40
   },
   "kernels_config": {
    "python": {
     "delete_cmd_postfix": "",
     "delete_cmd_prefix": "del ",
     "library": "var_list.py",
     "varRefreshCmd": "print(var_dic_list())"
    },
    "r": {
     "delete_cmd_postfix": ") ",
     "delete_cmd_prefix": "rm(",
     "library": "var_list.r",
     "varRefreshCmd": "cat(var_dic_list()) "
    }
   },
   "types_to_exclude": [
    "module",
    "function",
    "builtin_function_or_method",
    "instance",
    "_Feature"
   ],
   "window_display": false
  }
 },
 "nbformat": 4,
 "nbformat_minor": 2
}
