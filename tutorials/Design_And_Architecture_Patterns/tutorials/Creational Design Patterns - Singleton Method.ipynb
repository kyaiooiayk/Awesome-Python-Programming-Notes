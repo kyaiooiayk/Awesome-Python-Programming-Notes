{
 "cells": [
  {
   "cell_type": "markdown",
   "metadata": {
    "toc": true
   },
   "source": [
    "<h1>Table of Contents<span class=\"tocSkip\"></span></h1>\n",
    "<div class=\"toc\"><ul class=\"toc-item\"><li><span><a href=\"#Introduction\" data-toc-modified-id=\"Introduction-1\"><span class=\"toc-item-num\">1&nbsp;&nbsp;</span>Introduction</a></span></li><li><span><a href=\"#Creational-Design-Patterns\" data-toc-modified-id=\"Creational-Design-Patterns-2\"><span class=\"toc-item-num\">2&nbsp;&nbsp;</span>Creational Design Patterns</a></span></li><li><span><a href=\"#Singleton-Method\" data-toc-modified-id=\"Singleton-Method-3\"><span class=\"toc-item-num\">3&nbsp;&nbsp;</span>Singleton Method</a></span></li><li><span><a href=\"#Naive-singleton-implementation\" data-toc-modified-id=\"Naive-singleton-implementation-4\"><span class=\"toc-item-num\">4&nbsp;&nbsp;</span>Naive singleton implementation</a></span></li><li><span><a href=\"#Thread-safe-implementation\" data-toc-modified-id=\"Thread-safe-implementation-5\"><span class=\"toc-item-num\">5&nbsp;&nbsp;</span>Thread-safe implementation</a></span></li><li><span><a href=\"#Another-simple-example\" data-toc-modified-id=\"Another-simple-example-6\"><span class=\"toc-item-num\">6&nbsp;&nbsp;</span>Another simple example</a></span></li><li><span><a href=\"#Conclusions\" data-toc-modified-id=\"Conclusions-7\"><span class=\"toc-item-num\">7&nbsp;&nbsp;</span>Conclusions</a></span></li><li><span><a href=\"#References\" data-toc-modified-id=\"References-8\"><span class=\"toc-item-num\">8&nbsp;&nbsp;</span>References</a></span></li><li><span><a href=\"#Requirements\" data-toc-modified-id=\"Requirements-9\"><span class=\"toc-item-num\">9&nbsp;&nbsp;</span>Requirements</a></span></li></ul></div>"
   ]
  },
  {
   "cell_type": "markdown",
   "metadata": {},
   "source": [
    "# Introduction\n",
    "<hr style = \"border:2px solid black\" ></hr>"
   ]
  },
  {
   "cell_type": "markdown",
   "metadata": {},
   "source": [
    "<div class=\"alert alert-block alert-warning\">\n",
    "<font color=black>\n",
    "\n",
    "**What?** Creational Design Patterns - Singleton Method\n",
    "\n",
    "</font>\n",
    "</div>"
   ]
  },
  {
   "cell_type": "markdown",
   "metadata": {},
   "source": [
    "# Creational Design Patterns\n",
    "<hr style = \"border:2px solid black\" ></hr>"
   ]
  },
  {
   "cell_type": "markdown",
   "metadata": {},
   "source": [
    "<div class=\"alert alert-block alert-info\">\n",
    "<font color=black>\n",
    "\n",
    "- **Creational Design Patterns** are about class instantiation or the object instantiation. \n",
    "    - [ ] Factory Method\n",
    "    - [ ] Abstract Factory Method\n",
    "    - [ ] Builder Method\n",
    "    - [ ] Prototype Method\n",
    "    - [x] Singleton Method\n",
    "\n",
    "</font>\n",
    "</div>"
   ]
  },
  {
   "cell_type": "markdown",
   "metadata": {},
   "source": [
    "# Singleton Method\n",
    "<hr style = \"border:2px solid black\" ></hr>"
   ]
  },
  {
   "cell_type": "markdown",
   "metadata": {},
   "source": [
    "<div class=\"alert alert-block alert-info\">\n",
    "<font color=black>\n",
    "\n",
    "- **Singleton is a creational design pattern that lets you ensure that a class has only one instance, while providing a global access point to this instance.**\n",
    "- The singleton pattern is a design pattern that restricts the instantiation of a class to one object.\n",
    "- A lot of developers consider the Singleton pattern an **antipattern**. That’s why its usage is on the decline in Python code.\n",
    "    \n",
    "</font>\n",
    "</div>"
   ]
  },
  {
   "cell_type": "markdown",
   "metadata": {},
   "source": [
    "# Naive singleton implementation\n",
    "<hr style = \"border:2px solid black\" ></hr>"
   ]
  },
  {
   "cell_type": "markdown",
   "metadata": {},
   "source": [
    "<div class=\"alert alert-block alert-info\">\n",
    "<font color=black>\n",
    "\n",
    "- It’s pretty easy to implement a sloppy Singleton. You just need to hide the constructor and implement a static creation method.\n",
    "- The same class behaves incorrectly in a multithreaded environment. Multiple threads can call the creation method simultaneously and get several instances of Singleton class.\n",
    "- See file named `singleton_naive.py`\n",
    "    \n",
    "</font>\n",
    "</div>"
   ]
  },
  {
   "cell_type": "code",
   "execution_count": 17,
   "metadata": {
    "ExecuteTime": {
     "end_time": "2023-03-10T12:40:22.489205Z",
     "start_time": "2023-03-10T12:40:22.317259Z"
    }
   },
   "outputs": [
    {
     "name": "stdout",
     "output_type": "stream",
     "text": [
      "Singleton works, both variables contain the same instance.\r\n"
     ]
    }
   ],
   "source": [
    "!python singleton_naive_implementation.py"
   ]
  },
  {
   "cell_type": "markdown",
   "metadata": {
    "ExecuteTime": {
     "end_time": "2023-03-03T13:17:00.147957Z",
     "start_time": "2023-03-03T13:17:00.144197Z"
    }
   },
   "source": [
    "# Thread-safe implementation\n",
    "<hr style = \"border:2px solid black\" ></hr>"
   ]
  },
  {
   "cell_type": "markdown",
   "metadata": {
    "ExecuteTime": {
     "end_time": "2023-03-10T12:38:36.229567Z",
     "start_time": "2023-03-10T12:38:36.225434Z"
    }
   },
   "source": [
    "<div class=\"alert alert-block alert-info\">\n",
    "<font color=black>\n",
    "\n",
    "- To fix the problem, you have to synchronize threads during the first creation of the Singleton object.\n",
    "- See file named `thread_safe_singleton_implementation.py`\n",
    "\n",
    "</font>\n",
    "</div>"
   ]
  },
  {
   "cell_type": "code",
   "execution_count": 19,
   "metadata": {
    "ExecuteTime": {
     "end_time": "2023-03-10T12:40:29.471146Z",
     "start_time": "2023-03-10T12:40:29.302462Z"
    },
    "scrolled": true
   },
   "outputs": [
    {
     "name": "stdout",
     "output_type": "stream",
     "text": [
      "If you see the same value, then singleton was reused (yay!)\r\n",
      "If you see different values, then 2 singletons were created (booo!!)\r\n",
      "\r\n",
      "RESULT:\r\n",
      "\r\n",
      "FOO\r\n",
      "FOO\r\n"
     ]
    }
   ],
   "source": [
    "!python thread_safe_singleton_implementation.py"
   ]
  },
  {
   "cell_type": "markdown",
   "metadata": {
    "ExecuteTime": {
     "end_time": "2023-03-12T09:21:18.843251Z",
     "start_time": "2023-03-12T09:21:18.839726Z"
    }
   },
   "source": [
    "# Another simple example\n",
    "<hr style = \"border:2px solid black\" ></hr>"
   ]
  },
  {
   "cell_type": "markdown",
   "metadata": {},
   "source": [
    "<div class=\"alert alert-block alert-info\">\n",
    "<font color=black>\n",
    "\n",
    "- Singleton is used when you want to allow *only one object* to be created from a class. Its an object oriented way of providing global variables.\n",
    "- In python community, a **borg** is a term which allows creation of multiple instances but they all share same state, unlike singleton.\n",
    "- Lets say there's a need of keeping cache of information shared by multiple objects, it can be done either keeping the information in a singleton or sharing it under borg object.\n",
    "\n",
    "</font>\n",
    "</div>"
   ]
  },
  {
   "cell_type": "code",
   "execution_count": 3,
   "metadata": {
    "ExecuteTime": {
     "end_time": "2023-03-12T09:23:12.443028Z",
     "start_time": "2023-03-12T09:23:12.438980Z"
    }
   },
   "outputs": [],
   "source": [
    "class Borg:\n",
    "    \"\"\"The Borg design pattern\"\"\"\n",
    "\n",
    "    _shared_data = {}  # Attribute dictionary\n",
    "\n",
    "    def __init__(self):\n",
    "        # All the objects of the borg will share\n",
    "        # the same dict thus making it act like a\n",
    "        # global variable.\n",
    "        self.__dict__ = self._shared_data\n",
    "\n",
    "\n",
    "class Singleton(Borg):\n",
    "    \"\"\"The Singleton design pattern class\"\"\"\n",
    "\n",
    "    def __init__(self, **kwargs):\n",
    "        super(Borg, self).__init__()\n",
    "        self._shared_data.update(kwargs)\n",
    "\n",
    "    def __str__(self):\n",
    "        return str(self._shared_data)"
   ]
  },
  {
   "cell_type": "code",
   "execution_count": 4,
   "metadata": {
    "ExecuteTime": {
     "end_time": "2023-03-12T09:23:24.567283Z",
     "start_time": "2023-03-12T09:23:24.563760Z"
    }
   },
   "outputs": [
    {
     "name": "stdout",
     "output_type": "stream",
     "text": [
      "{'HTTP': 'Hyper Text Transfer Protocol'}\n",
      "{'HTTP': 'Hyper Text Transfer Protocol', 'SMTP': 'Simple Mail Transfer Protocol'}\n"
     ]
    }
   ],
   "source": [
    "# Create a singleton object and add our first acronym\n",
    "s1 = Singleton(HTTP=\"Hyper Text Transfer Protocol\")\n",
    "print(s1)\n",
    "\n",
    "# Create anothe singleton object and add ANOTHER acronym\n",
    "s2 = Singleton(SMTP=\"Simple Mail Transfer Protocol\")\n",
    "print(s2)"
   ]
  },
  {
   "cell_type": "markdown",
   "metadata": {},
   "source": [
    "# Conclusions\n",
    "<hr style = \"border:2px solid black\" ></hr>"
   ]
  },
  {
   "cell_type": "markdown",
   "metadata": {
    "ExecuteTime": {
     "end_time": "2023-03-03T13:28:31.690665Z",
     "start_time": "2023-03-03T13:28:31.685824Z"
    }
   },
   "source": [
    "<div class=\"alert alert-block alert-danger\">\n",
    "<font color=black>\n",
    "\n",
    "- **Advantages**:\n",
    "    - Initializations: An object created by the Singleton method is initialized only when it is requested for the first time.\n",
    "    - Access to the object: We got global access to the instance of the object.\n",
    "    - Count of instances: In singleton, method classes can’t have more than one instance\n",
    "- **Disadvantages**:\n",
    "    - Multithread Environment: It’s not easy to use the singleton method in a multithread environment, because we have to take care that the multithread wouldn’t create a singleton object several times.\n",
    "    - Single responsibility principle: As the Singleton method is solving two problems at a single time, it doesn’t follow the single responsibility principle.\n",
    "    - Unit testing process: As they introduce the global state to the application, it makes the unit testing very hard.\n",
    "    \n",
    "</font>\n",
    "</div>"
   ]
  },
  {
   "cell_type": "markdown",
   "metadata": {},
   "source": [
    "# References\n",
    "<hr style = \"border:2px solid black\" ></hr>"
   ]
  },
  {
   "cell_type": "markdown",
   "metadata": {},
   "source": [
    "<div class=\"alert alert-block alert-warning\">\n",
    "<font color=black>\n",
    "\n",
    "- [Singleton Method](https://www.geeksforgeeks.org/singleton-method-python-design-patterns/)\n",
    "- [Singleton in Python](https://refactoring.guru/design-patterns/singleton/python/example#example-1)\n",
    "- https://github.com/pyGuru123/Python-design-Patterns/tree/main/Creational%20Pattern\n",
    "    \n",
    "</font>\n",
    "</div>"
   ]
  },
  {
   "cell_type": "markdown",
   "metadata": {},
   "source": [
    "# Requirements\n",
    "<hr style=\"border:2px solid black\"> </hr>"
   ]
  },
  {
   "cell_type": "code",
   "execution_count": 1,
   "metadata": {
    "ExecuteTime": {
     "end_time": "2023-03-12T09:21:02.751429Z",
     "start_time": "2023-03-12T09:21:02.717945Z"
    }
   },
   "outputs": [
    {
     "name": "stdout",
     "output_type": "stream",
     "text": [
      "Python implementation: CPython\n",
      "Python version       : 3.9.7\n",
      "IPython version      : 7.29.0\n",
      "\n",
      "Compiler    : Clang 10.0.0 \n",
      "OS          : Darwin\n",
      "Release     : 22.3.0\n",
      "Machine     : x86_64\n",
      "Processor   : i386\n",
      "CPU cores   : 12\n",
      "Architecture: 64bit\n",
      "\n",
      "autopep8: 1.6.0\n",
      "json    : 2.0.9\n",
      "numpy   : 1.21.6\n",
      "\n"
     ]
    }
   ],
   "source": [
    "%load_ext watermark\n",
    "%watermark -v -iv -m"
   ]
  },
  {
   "cell_type": "code",
   "execution_count": null,
   "metadata": {},
   "outputs": [],
   "source": []
  }
 ],
 "metadata": {
  "kernelspec": {
   "display_name": "trainingAI",
   "language": "python",
   "name": "trainingai"
  },
  "language_info": {
   "codemirror_mode": {
    "name": "ipython",
    "version": 3
   },
   "file_extension": ".py",
   "mimetype": "text/x-python",
   "name": "python",
   "nbconvert_exporter": "python",
   "pygments_lexer": "ipython3",
   "version": "3.9.7"
  },
  "toc": {
   "base_numbering": 1,
   "nav_menu": {},
   "number_sections": true,
   "sideBar": true,
   "skip_h1_title": false,
   "title_cell": "Table of Contents",
   "title_sidebar": "Contents",
   "toc_cell": true,
   "toc_position": {
    "height": "calc(100% - 180px)",
    "left": "10px",
    "top": "150px",
    "width": "194.75px"
   },
   "toc_section_display": true,
   "toc_window_display": false
  },
  "varInspector": {
   "cols": {
    "lenName": 16,
    "lenType": 16,
    "lenVar": 40
   },
   "kernels_config": {
    "python": {
     "delete_cmd_postfix": "",
     "delete_cmd_prefix": "del ",
     "library": "var_list.py",
     "varRefreshCmd": "print(var_dic_list())"
    },
    "r": {
     "delete_cmd_postfix": ") ",
     "delete_cmd_prefix": "rm(",
     "library": "var_list.r",
     "varRefreshCmd": "cat(var_dic_list()) "
    }
   },
   "types_to_exclude": [
    "module",
    "function",
    "builtin_function_or_method",
    "instance",
    "_Feature"
   ],
   "window_display": false
  }
 },
 "nbformat": 4,
 "nbformat_minor": 2
}
