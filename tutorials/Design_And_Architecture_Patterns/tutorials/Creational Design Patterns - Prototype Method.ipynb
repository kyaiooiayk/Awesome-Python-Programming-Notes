{
 "cells": [
  {
   "cell_type": "markdown",
   "metadata": {
    "toc": true
   },
   "source": [
    "<h1>Table of Contents<span class=\"tocSkip\"></span></h1>\n",
    "<div class=\"toc\"><ul class=\"toc-item\"><li><span><a href=\"#Introduction\" data-toc-modified-id=\"Introduction-1\"><span class=\"toc-item-num\">1&nbsp;&nbsp;</span>Introduction</a></span></li><li><span><a href=\"#Creational-Design-Patterns\" data-toc-modified-id=\"Creational-Design-Patterns-2\"><span class=\"toc-item-num\">2&nbsp;&nbsp;</span>Creational Design Patterns</a></span></li><li><span><a href=\"#Prototype-Method\" data-toc-modified-id=\"Prototype-Method-3\"><span class=\"toc-item-num\">3&nbsp;&nbsp;</span>Prototype Method</a></span></li><li><span><a href=\"#Example\" data-toc-modified-id=\"Example-4\"><span class=\"toc-item-num\">4&nbsp;&nbsp;</span>Example</a></span></li><li><span><a href=\"#Without-prototype-method\" data-toc-modified-id=\"Without-prototype-method-5\"><span class=\"toc-item-num\">5&nbsp;&nbsp;</span>Without prototype method</a></span></li><li><span><a href=\"#With-prototype-method\" data-toc-modified-id=\"With-prototype-method-6\"><span class=\"toc-item-num\">6&nbsp;&nbsp;</span>With prototype method</a></span></li><li><span><a href=\"#Conclusions\" data-toc-modified-id=\"Conclusions-7\"><span class=\"toc-item-num\">7&nbsp;&nbsp;</span>Conclusions</a></span></li><li><span><a href=\"#References\" data-toc-modified-id=\"References-8\"><span class=\"toc-item-num\">8&nbsp;&nbsp;</span>References</a></span></li></ul></div>"
   ]
  },
  {
   "cell_type": "markdown",
   "metadata": {},
   "source": [
    "# Introduction\n",
    "<hr style = \"border:2px solid black\" ></hr>"
   ]
  },
  {
   "cell_type": "markdown",
   "metadata": {},
   "source": [
    "<div class=\"alert alert-block alert-warning\">\n",
    "<font color=black>\n",
    "\n",
    "**What?** Creational Design Patterns - Prototype Method\n",
    "\n",
    "</font>\n",
    "</div>"
   ]
  },
  {
   "cell_type": "markdown",
   "metadata": {},
   "source": [
    "# Creational Design Patterns\n",
    "<hr style = \"border:2px solid black\" ></hr>"
   ]
  },
  {
   "cell_type": "markdown",
   "metadata": {},
   "source": [
    "<div class=\"alert alert-block alert-info\">\n",
    "<font color=black>\n",
    "\n",
    "- **Creational Design Patterns** are about class instantiation or the object instantiation. \n",
    "    - [ ] Factory Method\n",
    "    - [ ] Abstract Factory Method\n",
    "    - [ ] Builder Method\n",
    "    - [x] Prototype Method\n",
    "    - [ ] Singleton Method\n",
    "\n",
    "</font>\n",
    "</div>"
   ]
  },
  {
   "cell_type": "markdown",
   "metadata": {},
   "source": [
    "# Prototype Method\n",
    "<hr style = \"border:2px solid black\" ></hr>"
   ]
  },
  {
   "cell_type": "markdown",
   "metadata": {},
   "source": [
    "<div class=\"alert alert-block alert-info\">\n",
    "<font color=black>\n",
    "\n",
    "- **Prototype is a creational design pattern that lets you copy existing objects without making your code dependent on their classes.**\n",
    "- Prototype Method is a Creational Design Pattern which aims to reduce the number of classes used for an application. It allows you to copy existing objects independent of the concrete implementation of their classes. Generally, here the object is created by copying a prototypical instance during run-time. \n",
    "    \n",
    "</font>\n",
    "</div>"
   ]
  },
  {
   "cell_type": "markdown",
   "metadata": {},
   "source": [
    "# Example\n",
    "<hr style = \"border:2px solid black\" ></hr>"
   ]
  },
  {
   "cell_type": "markdown",
   "metadata": {},
   "source": [
    "<div class=\"alert alert-block alert-info\">\n",
    "<font color=black>\n",
    "\n",
    "- Let's assume that there is an institution which provides courses like SDE, DSA, STL, etc.\n",
    "- Creating objects for similar courses, again and again, is not a good task to utilize the resources in a better way.\n",
    "    \n",
    "</font>\n",
    "</div>"
   ]
  },
  {
   "attachments": {
    "image.png": {
     "image/png": "[encoded data removed]"
    }
   },
   "cell_type": "markdown",
   "metadata": {},
   "source": [
    "![image.png](attachment:image.png)"
   ]
  },
  {
   "cell_type": "markdown",
   "metadata": {},
   "source": [
    "# Without prototype method\n",
    "<hr style = \"border:2px solid black\" ></hr>"
   ]
  },
  {
   "cell_type": "code",
   "execution_count": 1,
   "metadata": {
    "ExecuteTime": {
     "end_time": "2023-03-08T14:44:55.585536Z",
     "start_time": "2023-03-08T14:44:55.581497Z"
    }
   },
   "outputs": [],
   "source": [
    "# concrete course\n",
    "class DSA():\n",
    "    \"\"\"Class for Data Structures and Algorithms\"\"\"\n",
    "\n",
    "    def Type(self):\n",
    "        return \"Data Structures and Algorithms\"\n",
    "\n",
    "    def __str__(self):\n",
    "        return \"DSA\"\n",
    "\n",
    "\n",
    "# concrete course\n",
    "class SDE():\n",
    "    \"\"\"Class for Software development Engineer\"\"\"\n",
    "\n",
    "    def Type(self):\n",
    "        return \"Software Development Engineer\"\n",
    "\n",
    "    def __str__(self):\n",
    "        return \"SDE\"\n",
    "\n",
    "\n",
    "# concrete course\n",
    "class STL():\n",
    "    \"\"\"class for Standard Template Library of C++\"\"\"\n",
    "\n",
    "    def Type(self):\n",
    "        return \"Standard Template Library\"\n",
    "\n",
    "    def __str__(self):\n",
    "        return \"STL\""
   ]
  },
  {
   "cell_type": "code",
   "execution_count": 2,
   "metadata": {
    "ExecuteTime": {
     "end_time": "2023-03-08T14:44:58.995123Z",
     "start_time": "2023-03-08T14:44:58.991605Z"
    }
   },
   "outputs": [
    {
     "name": "stdout",
     "output_type": "stream",
     "text": [
      "Name of Course: SDE and its type: Software Development Engineer\n",
      "Name of Course: STL and its type: Standard Template Library\n",
      "Name of Course: DSA and its type: Data Structures and Algorithms\n"
     ]
    }
   ],
   "source": [
    "sde = SDE() # object for SDE\n",
    "dsa = DSA() # object for DSA\n",
    "stl = STL() # object for STL\n",
    "\n",
    "print(f'Name of Course: {sde} and its type: {sde.Type()}')\n",
    "print(f'Name of Course: {stl} and its type: {stl.Type()}')\n",
    "print(f'Name of Course: {dsa} and its type: {dsa.Type()}')"
   ]
  },
  {
   "cell_type": "markdown",
   "metadata": {
    "ExecuteTime": {
     "end_time": "2023-03-03T13:17:00.147957Z",
     "start_time": "2023-03-03T13:17:00.144197Z"
    }
   },
   "source": [
    "# With prototype method\n",
    "<hr style = \"border:2px solid black\" ></hr>"
   ]
  },
  {
   "cell_type": "markdown",
   "metadata": {},
   "source": [
    "<div class=\"alert alert-block alert-info\">\n",
    "<font color=black>\n",
    "\n",
    "- We would create separate classes for Courses_At_GFG and Course_At_GFG_Cache which will help us in creating the exact copy of already existing object with the same field properties.\n",
    "- This method delegates the cloning process to the actual objects that are being cloned.\n",
    "- Here we declare a common interface or class which supports object cloning which allows us to clone the object without coupling our code to the class of that method. \n",
    "- `@staticmethod` is a class decorator without access to `self`; it provides a mechanism to attached method to class (hence improving the findability) and it allows to protect the method usage.\n",
    "- `@abstarctmethod` is a class decorator which is used to define an abstract method. This is a method that is declared, but contains no implementation. \n",
    "    \n",
    "</font>\n",
    "</div>"
   ]
  },
  {
   "attachments": {
    "image.png": {
     "image/png": "[encoded data removed]"
    }
   },
   "cell_type": "markdown",
   "metadata": {},
   "source": [
    "![image.png](attachment:image.png)"
   ]
  },
  {
   "cell_type": "code",
   "execution_count": 4,
   "metadata": {
    "ExecuteTime": {
     "end_time": "2023-03-08T14:55:42.589008Z",
     "start_time": "2023-03-08T14:55:42.580457Z"
    }
   },
   "outputs": [],
   "source": [
    "# import the required modules\n",
    "from abc import ABCMeta, abstractmethod\n",
    "import copy\n",
    "\n",
    "\n",
    "# class - Courses at GeeksforGeeks\n",
    "class Courses_At_GFG(metaclass=ABCMeta):\n",
    "\n",
    "    # constructor\n",
    "    def __init__(self):\n",
    "        self.id = None\n",
    "        self.type = None\n",
    "\n",
    "    @abstractmethod\n",
    "    def course(self):\n",
    "        pass\n",
    "\n",
    "    def get_type(self):\n",
    "        return self.type\n",
    "\n",
    "    def get_id(self):\n",
    "        return self.id\n",
    "\n",
    "    def set_id(self, sid):\n",
    "        self.id = sid\n",
    "\n",
    "    def clone(self):\n",
    "        return copy.copy(self)\n",
    "\n",
    "# class - DSA course\n",
    "class DSA(Courses_At_GFG):\n",
    "    def __init__(self):\n",
    "        super().__init__()\n",
    "        self.type = \"Data Structures and Algorithms\"\n",
    "\n",
    "    def course(self):\n",
    "        print(\"Inside DSA::course() method\")\n",
    "\n",
    "# class - SDE Course\n",
    "class SDE(Courses_At_GFG):\n",
    "    def __init__(self):\n",
    "        super().__init__()\n",
    "        self.type = \"Software Development Engineer\"\n",
    "\n",
    "    def course(self):\n",
    "        print(\"Inside SDE::course() method.\")\n",
    "\n",
    "# class - STL Course\n",
    "\n",
    "\n",
    "class STL(Courses_At_GFG):\n",
    "    def __init__(self):\n",
    "        super().__init__()\n",
    "        self.type = \"Standard Template Library\"\n",
    "\n",
    "    def course(self):\n",
    "        print(\"Inside STL::course() method.\")\n",
    "\n",
    "# class - Courses At GeeksforGeeks Cache\n",
    "\n",
    "\n",
    "class Courses_At_GFG_Cache:\n",
    "\n",
    "    # cache to store useful information\n",
    "    cache = {}\n",
    "\n",
    "    @staticmethod\n",
    "    def get_course(sid):\n",
    "        COURSE = Courses_At_GFG_Cache.cache.get(sid, None)\n",
    "        return COURSE.clone()\n",
    "\n",
    "    @staticmethod\n",
    "    def load():\n",
    "        sde = SDE()\n",
    "        sde.set_id(\"1\")\n",
    "        Courses_At_GFG_Cache.cache[sde.get_id()] = sde\n",
    "\n",
    "        dsa = DSA()\n",
    "        dsa.set_id(\"2\")\n",
    "        Courses_At_GFG_Cache.cache[dsa.get_id()] = dsa\n",
    "\n",
    "        stl = STL()\n",
    "        stl.set_id(\"3\")\n",
    "        Courses_At_GFG_Cache.cache[stl.get_id()] = stl"
   ]
  },
  {
   "cell_type": "code",
   "execution_count": 5,
   "metadata": {
    "ExecuteTime": {
     "end_time": "2023-03-08T14:55:42.898364Z",
     "start_time": "2023-03-08T14:55:42.894960Z"
    }
   },
   "outputs": [
    {
     "name": "stdout",
     "output_type": "stream",
     "text": [
      "Software Development Engineer\n",
      "Data Structures and Algorithms\n",
      "Standard Template Library\n"
     ]
    }
   ],
   "source": [
    "Courses_At_GFG_Cache.load()\n",
    "\n",
    "sde = Courses_At_GFG_Cache.get_course(\"1\")\n",
    "print(sde.get_type())\n",
    "\n",
    "dsa = Courses_At_GFG_Cache.get_course(\"2\")\n",
    "print(dsa.get_type())\n",
    "\n",
    "stl = Courses_At_GFG_Cache.get_course(\"3\")\n",
    "print(stl.get_type())"
   ]
  },
  {
   "cell_type": "markdown",
   "metadata": {},
   "source": [
    "# Conclusions\n",
    "<hr style = \"border:2px solid black\" ></hr>"
   ]
  },
  {
   "cell_type": "markdown",
   "metadata": {
    "ExecuteTime": {
     "end_time": "2023-03-03T13:28:31.690665Z",
     "start_time": "2023-03-03T13:28:31.685824Z"
    }
   },
   "source": [
    "<div class=\"alert alert-block alert-danger\">\n",
    "<font color=black>\n",
    "\n",
    "- **Advantages**:\n",
    "    - You can clone objects without coupling to their concrete classes.\n",
    "    - You can get rid of repeated initialization code in favor of cloning pre-built prototypes.\n",
    "    - You can produce complex objects more conveniently.\n",
    "    - You get an alternative to inheritance when dealing with configuration presets for complex objects.\n",
    "- **Disadvantages**:\n",
    "    - Cloning complex objects that have circular references might be very tricky.\n",
    "    - Waste of resources at lower level: It might be proved as the overkill of resources for a project that uses very few objects.\n",
    "    \n",
    "</font>\n",
    "</div>"
   ]
  },
  {
   "cell_type": "markdown",
   "metadata": {},
   "source": [
    "# References\n",
    "<hr style = \"border:2px solid black\" ></hr>"
   ]
  },
  {
   "cell_type": "markdown",
   "metadata": {},
   "source": [
    "<div class=\"alert alert-block alert-warning\">\n",
    "<font color=black>\n",
    "\n",
    "- [Prototype](https://refactoring.guru/design-patterns/prototype)\n",
    "- [`@staticmethod`](https://github.com/kyaiooiayk/Awesome-Python-Programming-Notes/blob/main/tutorials/Built-in%20Decorators/%40staticmethod.ipynb)\n",
    "- [`@abstractmethod`](https://github.com/kyaiooiayk/Awesome-Python-Programming-Notes/blob/main/tutorials/Abstract%20and%20virtual%20abstract%20class.ipynb)\n",
    "\n",
    "</font>\n",
    "</div>"
   ]
  },
  {
   "cell_type": "code",
   "execution_count": null,
   "metadata": {},
   "outputs": [],
   "source": []
  }
 ],
 "metadata": {
  "kernelspec": {
   "display_name": "trainingAI",
   "language": "python",
   "name": "trainingai"
  },
  "language_info": {
   "codemirror_mode": {
    "name": "ipython",
    "version": 3
   },
   "file_extension": ".py",
   "mimetype": "text/x-python",
   "name": "python",
   "nbconvert_exporter": "python",
   "pygments_lexer": "ipython3",
   "version": "3.9.7"
  },
  "toc": {
   "base_numbering": 1,
   "nav_menu": {},
   "number_sections": true,
   "sideBar": true,
   "skip_h1_title": false,
   "title_cell": "Table of Contents",
   "title_sidebar": "Contents",
   "toc_cell": true,
   "toc_position": {
    "height": "calc(100% - 180px)",
    "left": "10px",
    "top": "150px",
    "width": "194.75px"
   },
   "toc_section_display": true,
   "toc_window_display": true
  },
  "varInspector": {
   "cols": {
    "lenName": 16,
    "lenType": 16,
    "lenVar": 40
   },
   "kernels_config": {
    "python": {
     "delete_cmd_postfix": "",
     "delete_cmd_prefix": "del ",
     "library": "var_list.py",
     "varRefreshCmd": "print(var_dic_list())"
    },
    "r": {
     "delete_cmd_postfix": ") ",
     "delete_cmd_prefix": "rm(",
     "library": "var_list.r",
     "varRefreshCmd": "cat(var_dic_list()) "
    }
   },
   "types_to_exclude": [
    "module",
    "function",
    "builtin_function_or_method",
    "instance",
    "_Feature"
   ],
   "window_display": false
  }
 },
 "nbformat": 4,
 "nbformat_minor": 2
}
