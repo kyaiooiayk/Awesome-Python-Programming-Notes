{
 "cells": [
  {
   "cell_type": "markdown",
   "metadata": {
    "toc": true
   },
   "source": [
    "<h1>Table of Contents<span class=\"tocSkip\"></span></h1>\n",
    "<div class=\"toc\"><ul class=\"toc-item\"><li><span><a href=\"#Introduction\" data-toc-modified-id=\"Introduction-1\"><span class=\"toc-item-num\">1&nbsp;&nbsp;</span>Introduction</a></span></li><li><span><a href=\"#Creational-Design-Patterns\" data-toc-modified-id=\"Creational-Design-Patterns-2\"><span class=\"toc-item-num\">2&nbsp;&nbsp;</span>Creational Design Patterns</a></span></li><li><span><a href=\"#Abstract-Method\" data-toc-modified-id=\"Abstract-Method-3\"><span class=\"toc-item-num\">3&nbsp;&nbsp;</span>Abstract Method</a></span></li><li><span><a href=\"#Example\" data-toc-modified-id=\"Example-4\"><span class=\"toc-item-num\">4&nbsp;&nbsp;</span>Example</a></span></li><li><span><a href=\"#Without-abstract-method\" data-toc-modified-id=\"Without-abstract-method-5\"><span class=\"toc-item-num\">5&nbsp;&nbsp;</span>Without abstract method</a></span></li><li><span><a href=\"#With-abstract-method\" data-toc-modified-id=\"With-abstract-method-6\"><span class=\"toc-item-num\">6&nbsp;&nbsp;</span>With abstract method</a></span></li><li><span><a href=\"#Another-simple-example\" data-toc-modified-id=\"Another-simple-example-7\"><span class=\"toc-item-num\">7&nbsp;&nbsp;</span>Another simple example</a></span></li><li><span><a href=\"#Conclusions\" data-toc-modified-id=\"Conclusions-8\"><span class=\"toc-item-num\">8&nbsp;&nbsp;</span>Conclusions</a></span></li><li><span><a href=\"#References\" data-toc-modified-id=\"References-9\"><span class=\"toc-item-num\">9&nbsp;&nbsp;</span>References</a></span></li><li><span><a href=\"#Requirements\" data-toc-modified-id=\"Requirements-10\"><span class=\"toc-item-num\">10&nbsp;&nbsp;</span>Requirements</a></span></li></ul></div>"
   ]
  },
  {
   "cell_type": "markdown",
   "metadata": {},
   "source": [
    "# Introduction\n",
    "<hr style = \"border:2px solid black\" ></hr>"
   ]
  },
  {
   "cell_type": "markdown",
   "metadata": {},
   "source": [
    "<div class=\"alert alert-block alert-warning\">\n",
    "<font color=black>\n",
    "\n",
    "**What?** Design Patterns - Abstarct Method\n",
    "\n",
    "</font>\n",
    "</div>"
   ]
  },
  {
   "cell_type": "markdown",
   "metadata": {},
   "source": [
    "# Creational Design Patterns\n",
    "<hr style = \"border:2px solid black\" ></hr>"
   ]
  },
  {
   "cell_type": "markdown",
   "metadata": {},
   "source": [
    "<div class=\"alert alert-block alert-info\">\n",
    "<font color=black>\n",
    "\n",
    "- **Creational Design Patterns** are about class instantiation or the object instantiation. \n",
    "    - [ ] Factory Method\n",
    "    - [x] Abstract Factory Method\n",
    "    - [ ] Builder Method\n",
    "    - [ ] Prototype Method\n",
    "    - [ ] Singleton Method\n",
    "\n",
    "</font>\n",
    "</div>"
   ]
  },
  {
   "cell_type": "markdown",
   "metadata": {},
   "source": [
    "# Abstract Method\n",
    "<hr style = \"border:2px solid black\" ></hr>"
   ]
  },
  {
   "cell_type": "markdown",
   "metadata": {},
   "source": [
    "<div class=\"alert alert-block alert-info\">\n",
    "<font color=black>\n",
    "\n",
    "- **Abstract factory method is a creational design pattern that allows you to produce the families of related objects without specifying their concrete classes.**\n",
    "- Using the abstract factory method, we have the easiest ways to produce a similar type of many objects. \n",
    "- It provides a way to encapsulate a group of individual factories. Basically, here we try to abstract the creation of the objects depending on the logic, business, platform choice, etc.\n",
    "    \n",
    "</font>\n",
    "</div>"
   ]
  },
  {
   "cell_type": "markdown",
   "metadata": {},
   "source": [
    "# Example\n",
    "<hr style = \"border:2px solid black\" ></hr>"
   ]
  },
  {
   "cell_type": "markdown",
   "metadata": {},
   "source": [
    "<div class=\"alert alert-block alert-info\">\n",
    "<font color=black>\n",
    "\n",
    "- Suppose you have to create a program that return all the Courses available, their Fee structure, their timings, and other important things. They will simply look at their system and will give you all the information you required. Looks simple? Think about the developers how they make the system so organized and how their website is so lubricative.\n",
    "- Developers will make unique classes for each course which will contain its properties like Fee structure, timings, and other things. But how they will call them and how will they instantiate their objects?\n",
    "- Here arises the problem, suppose initially there are only 3-4 courses available at GeeksforGeeks, but later they added 5 new courses. So, we have to manually instantiate their objects which is not a good thing according to the developer’s side. \n",
    "    \n",
    "</font>\n",
    "</div>"
   ]
  },
  {
   "cell_type": "markdown",
   "metadata": {},
   "source": [
    "# Without abstract method\n",
    "<hr style = \"border:2px solid black\" ></hr>"
   ]
  },
  {
   "attachments": {
    "image.png": {
     "image/png": "[encoded data removed]"
    }
   },
   "cell_type": "markdown",
   "metadata": {},
   "source": [
    "![image.png](attachment:image.png)"
   ]
  },
  {
   "cell_type": "code",
   "execution_count": 2,
   "metadata": {
    "ExecuteTime": {
     "end_time": "2023-03-05T13:02:27.956374Z",
     "start_time": "2023-03-05T13:02:27.950439Z"
    }
   },
   "outputs": [],
   "source": [
    "class DSA:\n",
    "\n",
    "    \"\"\" Class for Data Structure and Algorithms \"\"\"\n",
    "\n",
    "    def price(self):\n",
    "        return 11000\n",
    "\n",
    "    def __str__(self):\n",
    "        return \"DSA\"\n",
    "\n",
    "\n",
    "class STL:\n",
    "\n",
    "    \"\"\"Class for Standard Template Library\"\"\"\n",
    "\n",
    "    def price(self):\n",
    "        return 8000\n",
    "\n",
    "    def __str__(self):\n",
    "        return \"STL\"\n",
    "\n",
    "\n",
    "class SDE:\n",
    "\n",
    "    \"\"\"Class for Software Development Engineer\"\"\"\n",
    "\n",
    "    def price(self):\n",
    "        return 15000\n",
    "\n",
    "    def __str__(self):\n",
    "        return 'SDE'"
   ]
  },
  {
   "cell_type": "code",
   "execution_count": 3,
   "metadata": {
    "ExecuteTime": {
     "end_time": "2023-03-05T13:02:27.964365Z",
     "start_time": "2023-03-05T13:02:27.960128Z"
    }
   },
   "outputs": [
    {
     "name": "stdout",
     "output_type": "stream",
     "text": [
      "Name of the course is SDE and its price is 15000\n",
      "Name of the course is DSA and its price is 11000\n",
      "Name of the course is STL and its price is 8000\n"
     ]
    }
   ],
   "source": [
    "sde = SDE()  # object for SDE class\n",
    "dsa = DSA()  # object for DSA class\n",
    "stl = STL()  # object for STL class\n",
    "\n",
    "print(f'Name of the course is {sde} and its price is {sde.price()}')\n",
    "print(f'Name of the course is {dsa} and its price is {dsa.price()}')\n",
    "print(f'Name of the course is {stl} and its price is {stl.price()}')"
   ]
  },
  {
   "cell_type": "markdown",
   "metadata": {
    "ExecuteTime": {
     "end_time": "2023-03-03T13:17:00.147957Z",
     "start_time": "2023-03-03T13:17:00.144197Z"
    }
   },
   "source": [
    "# With abstract method\n",
    "<hr style = \"border:2px solid black\" ></hr>"
   ]
  },
  {
   "cell_type": "markdown",
   "metadata": {},
   "source": [
    "<div class=\"alert alert-block alert-info\">\n",
    "<font color=black>\n",
    "    \n",
    "- Its solution is to replace the straightforward object construction calls with calls to the special abstract factory method.\n",
    "- Please note that, there will be **no difference** in the object creation but they are being called within the factory method. \n",
    "- Now we will create a unique class whose name is Course_At_GFG which will handle all the object instantiation automatically. Now, we don’t have to worry about how many courses we are adding after some time.\n",
    "    \n",
    "</font>\n",
    "</div>"
   ]
  },
  {
   "attachments": {
    "image.png": {
     "image/png": "[encoded data removed]"
    }
   },
   "cell_type": "markdown",
   "metadata": {},
   "source": [
    "![image.png](attachment:image.png)"
   ]
  },
  {
   "cell_type": "code",
   "execution_count": 4,
   "metadata": {
    "ExecuteTime": {
     "end_time": "2023-03-05T13:02:27.970366Z",
     "start_time": "2023-03-05T13:02:27.966649Z"
    }
   },
   "outputs": [],
   "source": [
    "import random\n",
    "\n",
    "\n",
    "class Course_At_GFG:\n",
    "\n",
    "    \"\"\" GeeksforGeeks portal for courses \"\"\"\n",
    "\n",
    "    def __init__(self, courses_factory=None):\n",
    "        \"\"\"course factory is out abstract factory\"\"\"\n",
    "\n",
    "        self.course_factory = courses_factory\n",
    "\n",
    "    def show_course(self):\n",
    "        \"\"\"creates and shows courses using the abstract factory\"\"\"\n",
    "\n",
    "        course = self.course_factory()\n",
    "\n",
    "        print(f'We have a course named {course}')\n",
    "        print(f'its price is {course.price()}')"
   ]
  },
  {
   "cell_type": "code",
   "execution_count": 9,
   "metadata": {
    "ExecuteTime": {
     "end_time": "2023-03-05T13:02:41.384122Z",
     "start_time": "2023-03-05T13:02:41.381204Z"
    }
   },
   "outputs": [],
   "source": [
    "def random_course():\n",
    "    \"\"\"A random class for choosing the course\"\"\"\n",
    "\n",
    "    return random.choice([SDE, STL, DSA])()"
   ]
  },
  {
   "cell_type": "code",
   "execution_count": 10,
   "metadata": {
    "ExecuteTime": {
     "end_time": "2023-03-05T13:02:41.789885Z",
     "start_time": "2023-03-05T13:02:41.786311Z"
    },
    "scrolled": true
   },
   "outputs": [
    {
     "name": "stdout",
     "output_type": "stream",
     "text": [
      "We have a course named SDE\n",
      "its price is 15000\n",
      "We have a course named SDE\n",
      "its price is 15000\n",
      "We have a course named SDE\n",
      "its price is 15000\n",
      "We have a course named STL\n",
      "its price is 8000\n",
      "We have a course named DSA\n",
      "its price is 11000\n"
     ]
    }
   ],
   "source": [
    "course = Course_At_GFG(random_course)\n",
    "\n",
    "for i in range(5):\n",
    "    course.show_course()"
   ]
  },
  {
   "cell_type": "markdown",
   "metadata": {},
   "source": [
    "# Another simple example\n",
    "<hr style = \"border:2px solid black\" ></hr>"
   ]
  },
  {
   "cell_type": "markdown",
   "metadata": {},
   "source": [
    "<div class=\"alert alert-block alert-info\">\n",
    "<font color=black>\n",
    "\n",
    "- Abstract factory builds on the factory pattern. Abstract factory is useful when the user expects to receive a family of multiple related objects but doesn't have to know what fammily it is until runtime.\n",
    "- A factory returns a single object whereas a abstract factory return two or multiple related objects, like dog and dog food in our example\n",
    "- Abstract factory creates objects while concrete factories are often singletons.\n",
    "\n",
    "</font>\n",
    "</div>"
   ]
  },
  {
   "cell_type": "code",
   "execution_count": 2,
   "metadata": {
    "ExecuteTime": {
     "end_time": "2023-03-12T09:11:41.736255Z",
     "start_time": "2023-03-12T09:11:41.731375Z"
    }
   },
   "outputs": [],
   "source": [
    "# Abstract Factory : pet factory\n",
    "# Concrete Factory : dog factory and cat factory\n",
    "# Concrete Product : Dog and dog food, Cat and cat food\n",
    "\n",
    "class Dog:\n",
    "    \"\"\"One of the objects to be returned\"\"\"\n",
    "\n",
    "    def speak(self):\n",
    "        return \"woof!\"\n",
    "\n",
    "    def __str__(self):\n",
    "        return \"Dog\"\n",
    "\n",
    "\n",
    "class DogFactory:\n",
    "    \"\"\"Concrete Factory\"\"\"\n",
    "\n",
    "    def get_pet(self):\n",
    "        \"Returns a Dog object\"\n",
    "        return Dog()\n",
    "\n",
    "    def get_food(self):\n",
    "        \"Returns a Dog food object\"\n",
    "        return \"Dog Food\"\n",
    "\n",
    "\n",
    "class Cat:\n",
    "    \"\"\"One of the objects to be returned\"\"\"\n",
    "\n",
    "    def speak(self):\n",
    "        return \"meow!\"\n",
    "\n",
    "    def __str__(self):\n",
    "        return \"Cat\"\n",
    "\n",
    "\n",
    "class CatFactory:\n",
    "    \"\"\"Concrete Factory\"\"\"\n",
    "\n",
    "    def get_pet(self):\n",
    "        \"Returns a Cat object\"\n",
    "        return Cat()\n",
    "\n",
    "    def get_food(self):\n",
    "        \"Returns a Cat food object\"\n",
    "        return \"Cat Food\""
   ]
  },
  {
   "cell_type": "code",
   "execution_count": 3,
   "metadata": {
    "ExecuteTime": {
     "end_time": "2023-03-12T09:11:45.685606Z",
     "start_time": "2023-03-12T09:11:45.681487Z"
    }
   },
   "outputs": [],
   "source": [
    "class PetStore:\n",
    "    \"\"\"PetStore houses our abstract factory\"\"\"\n",
    "\n",
    "    def __init__(self, pet_factory=None):\n",
    "        \"\"\"pet_factory is our abstract factory\"\"\"\n",
    "        self._pet_factory = pet_factory\n",
    "\n",
    "    def show_pet(self):\n",
    "        \"\"\"Utility method to display the details of the objects returned\"\"\"\n",
    "\n",
    "        pet = self._pet_factory.get_pet()\n",
    "        pet_food = self._pet_factory.get_food()\n",
    "\n",
    "        print(\"Our pet is {}\".format(pet))\n",
    "        print(\"Our pet says {}\".format(pet.speak()))\n",
    "        print(\"Its food is {}\".format(pet_food))"
   ]
  },
  {
   "cell_type": "code",
   "execution_count": 4,
   "metadata": {
    "ExecuteTime": {
     "end_time": "2023-03-12T09:11:59.951314Z",
     "start_time": "2023-03-12T09:11:59.947734Z"
    }
   },
   "outputs": [
    {
     "name": "stdout",
     "output_type": "stream",
     "text": [
      "Our pet is Dog\n",
      "Our pet says woof!\n",
      "Its food is Dog Food\n"
     ]
    }
   ],
   "source": [
    "# Create a concrete factory\n",
    "factory1 = DogFactory()\n",
    "factory2 = CatFactory()\n",
    "\n",
    "# Create a pet store  housinf our abstract factory\n",
    "shop = PetStore(factory1)\n",
    "\n",
    "# Invoke the utility method to show the details of our method\n",
    "shop.show_pet()"
   ]
  },
  {
   "cell_type": "markdown",
   "metadata": {},
   "source": [
    "# Conclusions\n",
    "<hr style = \"border:2px solid black\" ></hr>"
   ]
  },
  {
   "cell_type": "markdown",
   "metadata": {
    "ExecuteTime": {
     "end_time": "2023-03-03T13:28:31.690665Z",
     "start_time": "2023-03-03T13:28:31.685824Z"
    }
   },
   "source": [
    "<div class=\"alert alert-block alert-danger\">\n",
    "<font color=black>\n",
    "\n",
    "- **Advantages**:\n",
    "    - This pattern is particularly useful when the client doesn’t know exactly what type to create. \n",
    "    - It is easy to introduce new variants of the products without breaking the existing client code.\n",
    "    - Products which we are getting from the factory are surely compatible with each other.\n",
    "- **Disadvantages**:\n",
    "    - Our simple code may become complicated due to the existence of a lot of classes.\n",
    "    - We end up with a huge number of small files i.e, cluttering of files.\n",
    "\n",
    "</font>\n",
    "</div>"
   ]
  },
  {
   "cell_type": "markdown",
   "metadata": {},
   "source": [
    "# References\n",
    "<hr style = \"border:2px solid black\" ></hr>"
   ]
  },
  {
   "cell_type": "markdown",
   "metadata": {},
   "source": [
    "<div class=\"alert alert-block alert-warning\">\n",
    "<font color=black>\n",
    "\n",
    "- [Abstact Factory Method](https://www.geeksforgeeks.org/abstract-factory-method-python-design-patterns/)\n",
    "- [Abstract Factory in Python](https://refactoring.guru/design-patterns/abstract-factory/python/example#example-0)\n",
    "- [Trying to make sense of abstract factory pattern in Python](https://stackoverflow.com/questions/41949514/trying-to-make-sense-of-abstract-factory-pattern-in-python)\n",
    "    \n",
    "</font>\n",
    "</div>"
   ]
  },
  {
   "cell_type": "markdown",
   "metadata": {},
   "source": [
    "# Requirements\n",
    "<hr style=\"border:2px solid black\"> </hr>"
   ]
  },
  {
   "cell_type": "code",
   "execution_count": 1,
   "metadata": {
    "ExecuteTime": {
     "end_time": "2023-03-12T09:05:01.815141Z",
     "start_time": "2023-03-12T09:05:01.782718Z"
    }
   },
   "outputs": [
    {
     "name": "stdout",
     "output_type": "stream",
     "text": [
      "Python implementation: CPython\n",
      "Python version       : 3.9.7\n",
      "IPython version      : 7.29.0\n",
      "\n",
      "Compiler    : Clang 10.0.0 \n",
      "OS          : Darwin\n",
      "Release     : 22.3.0\n",
      "Machine     : x86_64\n",
      "Processor   : i386\n",
      "CPU cores   : 12\n",
      "Architecture: 64bit\n",
      "\n",
      "numpy   : 1.21.6\n",
      "autopep8: 1.6.0\n",
      "json    : 2.0.9\n",
      "\n"
     ]
    }
   ],
   "source": [
    "%load_ext watermark\n",
    "%watermark -v -iv -m"
   ]
  },
  {
   "cell_type": "code",
   "execution_count": null,
   "metadata": {},
   "outputs": [],
   "source": []
  }
 ],
 "metadata": {
  "kernelspec": {
   "display_name": "trainingAI",
   "language": "python",
   "name": "trainingai"
  },
  "language_info": {
   "codemirror_mode": {
    "name": "ipython",
    "version": 3
   },
   "file_extension": ".py",
   "mimetype": "text/x-python",
   "name": "python",
   "nbconvert_exporter": "python",
   "pygments_lexer": "ipython3",
   "version": "3.9.7"
  },
  "toc": {
   "base_numbering": 1,
   "nav_menu": {},
   "number_sections": true,
   "sideBar": true,
   "skip_h1_title": false,
   "title_cell": "Table of Contents",
   "title_sidebar": "Contents",
   "toc_cell": true,
   "toc_position": {
    "height": "calc(100% - 180px)",
    "left": "10px",
    "top": "150px",
    "width": "194.75px"
   },
   "toc_section_display": true,
   "toc_window_display": true
  },
  "varInspector": {
   "cols": {
    "lenName": 16,
    "lenType": 16,
    "lenVar": 40
   },
   "kernels_config": {
    "python": {
     "delete_cmd_postfix": "",
     "delete_cmd_prefix": "del ",
     "library": "var_list.py",
     "varRefreshCmd": "print(var_dic_list())"
    },
    "r": {
     "delete_cmd_postfix": ") ",
     "delete_cmd_prefix": "rm(",
     "library": "var_list.r",
     "varRefreshCmd": "cat(var_dic_list()) "
    }
   },
   "types_to_exclude": [
    "module",
    "function",
    "builtin_function_or_method",
    "instance",
    "_Feature"
   ],
   "window_display": false
  }
 },
 "nbformat": 4,
 "nbformat_minor": 2
}
