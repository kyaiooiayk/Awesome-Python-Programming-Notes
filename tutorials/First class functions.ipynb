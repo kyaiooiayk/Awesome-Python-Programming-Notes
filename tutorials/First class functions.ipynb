{
 "cells": [
  {
   "cell_type": "markdown",
   "metadata": {
    "toc": true
   },
   "source": [
    "<h1>Table of Contents<span class=\"tocSkip\"></span></h1>\n",
    "<div class=\"toc\"><ul class=\"toc-item\"><li><span><a href=\"#Introduction\" data-toc-modified-id=\"Introduction-1\"><span class=\"toc-item-num\">1&nbsp;&nbsp;</span>Introduction</a></span></li><li><span><a href=\"#Decorators\" data-toc-modified-id=\"Decorators-2\"><span class=\"toc-item-num\">2&nbsp;&nbsp;</span>Decorators</a></span></li><li><span><a href=\"#References\" data-toc-modified-id=\"References-3\"><span class=\"toc-item-num\">3&nbsp;&nbsp;</span>References</a></span></li></ul></div>"
   ]
  },
  {
   "cell_type": "markdown",
   "metadata": {},
   "source": [
    "# Introduction\n",
    "<hr style=\"border:2px solid black\"> </hr>"
   ]
  },
  {
   "cell_type": "markdown",
   "metadata": {},
   "source": [
    "<div class=\"alert alert-warning\">\n",
    "<font color=black>\n",
    "\n",
    "**What?** First class functions\n",
    "\n",
    "</font>\n",
    "</div>"
   ]
  },
  {
   "cell_type": "markdown",
   "metadata": {},
   "source": [
    "# Decorators\n",
    "<hr style=\"border:2px solid black\"> </hr>"
   ]
  },
  {
   "cell_type": "markdown",
   "metadata": {},
   "source": [
    "<div class=\"alert alert-info\">\n",
    "<font color=black>\n",
    "\n",
    "- In python, functions are `First class functions` allow us to treat functions like any other object, so for example: we can pass functions as arguments to another function, return functions and we can assign functions to variables. \n",
    "- `Closures` allows us to take advantage of `First class functions` that returns an inner function that remembers and has access to variables local to the scope in which they were created.\n",
    "\n",
    "</font>\n",
    "</div>"
   ]
  },
  {
   "cell_type": "code",
   "execution_count": 1,
   "metadata": {},
   "outputs": [
    {
     "name": "stdout",
     "output_type": "stream",
     "text": [
      "Hello John\n",
      "Hello John\n",
      "Hello John\n",
      "Hello John\n",
      "Hello John\n"
     ]
    }
   ],
   "source": [
    "# we can assign functions to variables\n",
    "def greet(name):\n",
    "    return 'Hello ' + name\n",
    "\n",
    "\n",
    "greet_someone = greet\n",
    "print(greet_someone('John'))\n",
    "\n",
    "\n",
    "# we can define functions inside other functions\n",
    "def greet(name):\n",
    "    def get_message():\n",
    "        return 'Hello '\n",
    "\n",
    "    result = get_message() + name\n",
    "    return result\n",
    "\n",
    "\n",
    "print(greet('John'))\n",
    "\n",
    "\n",
    "# functions can be passed as parameters to other functions\n",
    "def greet(name):\n",
    "    return 'Hello ' + name\n",
    "\n",
    "\n",
    "def call_func(func):\n",
    "    other_name = 'John'\n",
    "    return func(other_name)\n",
    "\n",
    "\n",
    "print(call_func(greet))\n",
    "\n",
    "\n",
    "# functions can return other functions\n",
    "def compose_greet_func():\n",
    "    def get_message():\n",
    "        return 'Hello John'\n",
    "\n",
    "    return get_message\n",
    "\n",
    "\n",
    "greet = compose_greet_func()\n",
    "print(greet())\n",
    "\n",
    "\n",
    "# scoping, access the inner functions.\n",
    "# note that python only allows read access to the outer scope and not assignment\n",
    "def compose_greet_func(name):\n",
    "    def get_message():\n",
    "        return 'Hello ' + name\n",
    "\n",
    "    return get_message\n",
    "\n",
    "\n",
    "greet = compose_greet_func('John')\n",
    "print(greet())"
   ]
  },
  {
   "cell_type": "markdown",
   "metadata": {},
   "source": [
    "# References\n",
    "<hr style=\"border:2px solid black\"> </hr>"
   ]
  },
  {
   "cell_type": "markdown",
   "metadata": {},
   "source": [
    "<div class=\"alert alert-block alert-warning\">\n",
    "<font color=black>\n",
    "\n",
    "- [Blog: Guide to python function decorators](http://thecodeship.com/patterns/guide-to-python-function-decorators/)\n",
    "- [Youtube: Decorators - Dynamically Alter The Functionality Of Your Functions](https://www.youtube.com/watch?v=FsAPt_9Bf3U)\n",
    "- http://nbviewer.jupyter.org/github/ethen8181/machine-learning/blob/master/python/decorators/decorators.ipynb\n",
    "- [Youtube: Programming Terms: First-Class Functions](https://www.youtube.com/watch?v=kr0mpwqttM0&feature=cards&src_vid=swU3c34d2NQ&annotation_id=98878b78-dceb-4942-8d49-bcbed34e5263).\n",
    "\n",
    "</font>\n",
    "</div>"
   ]
  },
  {
   "cell_type": "code",
   "execution_count": null,
   "metadata": {},
   "outputs": [],
   "source": []
  }
 ],
 "metadata": {
  "anaconda-cloud": {},
  "hide_input": false,
  "kernelspec": {
   "display_name": "Python 3 (ipykernel)",
   "language": "python",
   "name": "python3"
  },
  "language_info": {
   "codemirror_mode": {
    "name": "ipython",
    "version": 3
   },
   "file_extension": ".py",
   "mimetype": "text/x-python",
   "name": "python",
   "nbconvert_exporter": "python",
   "pygments_lexer": "ipython3",
   "version": "3.9.7"
  },
  "toc": {
   "base_numbering": 1,
   "nav_menu": {
    "height": "148px",
    "width": "252px"
   },
   "number_sections": true,
   "sideBar": true,
   "skip_h1_title": false,
   "title_cell": "Table of Contents",
   "title_sidebar": "Contents",
   "toc_cell": true,
   "toc_position": {},
   "toc_section_display": "block",
   "toc_window_display": true
  },
  "varInspector": {
   "cols": {
    "lenName": 16,
    "lenType": 16,
    "lenVar": 40
   },
   "kernels_config": {
    "python": {
     "delete_cmd_postfix": "",
     "delete_cmd_prefix": "del ",
     "library": "var_list.py",
     "varRefreshCmd": "print(var_dic_list())"
    },
    "r": {
     "delete_cmd_postfix": ") ",
     "delete_cmd_prefix": "rm(",
     "library": "var_list.r",
     "varRefreshCmd": "cat(var_dic_list()) "
    }
   },
   "types_to_exclude": [
    "module",
    "function",
    "builtin_function_or_method",
    "instance",
    "_Feature"
   ],
   "window_display": false
  }
 },
 "nbformat": 4,
 "nbformat_minor": 1
}
