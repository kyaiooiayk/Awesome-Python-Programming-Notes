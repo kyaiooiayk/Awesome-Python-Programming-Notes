{
 "cells": [
  {
   "cell_type": "markdown",
   "metadata": {
    "toc": true
   },
   "source": [
    "<h1>Table of Contents<span class=\"tocSkip\"></span></h1>\n",
    "<div class=\"toc\"><ul class=\"toc-item\"><li><span><a href=\"#Introduction\" data-toc-modified-id=\"Introduction-1\"><span class=\"toc-item-num\">1&nbsp;&nbsp;</span>Introduction</a></span></li><li><span><a href=\"#What-an-abstract-class-is?\" data-toc-modified-id=\"What-an-abstract-class-is?-2\"><span class=\"toc-item-num\">2&nbsp;&nbsp;</span>What an abstract class is?</a></span></li><li><span><a href=\"#What-is-a-virtual-abstarct-class?\" data-toc-modified-id=\"What-is-a-virtual-abstarct-class?-3\"><span class=\"toc-item-num\">3&nbsp;&nbsp;</span>What is a virtual abstarct class?</a></span></li><li><span><a href=\"#Example-#1\" data-toc-modified-id=\"Example-#1-4\"><span class=\"toc-item-num\">4&nbsp;&nbsp;</span>Example #1</a></span></li><li><span><a href=\"#Example-#2\" data-toc-modified-id=\"Example-#2-5\"><span class=\"toc-item-num\">5&nbsp;&nbsp;</span>Example #2</a></span></li><li><span><a href=\"#Conclusions\" data-toc-modified-id=\"Conclusions-6\"><span class=\"toc-item-num\">6&nbsp;&nbsp;</span>Conclusions</a></span></li><li><span><a href=\"#References\" data-toc-modified-id=\"References-7\"><span class=\"toc-item-num\">7&nbsp;&nbsp;</span>References</a></span></li><li><span><a href=\"#Requirements\" data-toc-modified-id=\"Requirements-8\"><span class=\"toc-item-num\">8&nbsp;&nbsp;</span>Requirements</a></span></li></ul></div>"
   ]
  },
  {
   "cell_type": "markdown",
   "metadata": {},
   "source": [
    "# Introduction\n",
    "<hr style = \"border:2px solid black\" ></hr>"
   ]
  },
  {
   "cell_type": "markdown",
   "metadata": {},
   "source": [
    "<div class=\"alert alert-warning\">\n",
    "<font color=black>\n",
    "\n",
    "**What?** Abstract and virtual abstarct class\n",
    "\n",
    "</font>\n",
    "</div>"
   ]
  },
  {
   "cell_type": "markdown",
   "metadata": {},
   "source": [
    "# What an abstract class is?\n",
    "<hr style = \"border:2px solid black\" ></hr>"
   ]
  },
  {
   "cell_type": "markdown",
   "metadata": {},
   "source": [
    "<div class=\"alert alert-info\">\n",
    "<font color=black>\n",
    "\n",
    "- A class is called an **abstract class** if it contains some abstract methods.\n",
    "- An **abstract method** is a method that is declared, but contains no implementation. \n",
    "- Abstract classes may not be instantiated, and its abstract methods must be implemented by its subclasses.\n",
    "- **When are they used?** Abstract base classes provide a way to define **interfaces** when other techniques like `hasattr()` would be clumsy or subtly wrong\n",
    "\n",
    "</font>\n",
    "</div>"
   ]
  },
  {
   "cell_type": "markdown",
   "metadata": {},
   "source": [
    "# What is a virtual abstarct class?\n",
    "<hr style = \"border:2px solid black\" ></hr>"
   ]
  },
  {
   "cell_type": "markdown",
   "metadata": {},
   "source": [
    "<div class=\"alert alert-info\">\n",
    "<font color=black>\n",
    "\n",
    "- It is everything that a normal abstract class is but it contains at least one virtual method. \n",
    "\n",
    "</font>\n",
    "</div>"
   ]
  },
  {
   "cell_type": "markdown",
   "metadata": {},
   "source": [
    "# Example #1\n",
    "<hr style = \"border:2px solid black\" ></hr>"
   ]
  },
  {
   "cell_type": "markdown",
   "metadata": {},
   "source": [
    "<div class=\"alert alert-info\">\n",
    "<font color=black>\n",
    "\n",
    "- The abc module defines ABCMeta class which is a metaclass for defining abstract base class. Following example defines Shape class as an abstract base class using ABCMeta. \n",
    "- The shape class has `area()` method decorated by abstractmethod.\n",
    "- A Rectangle class now uses above Shape class as its parent and implementing the abstract `area()` method. Since it is a concrete class, it can be instantiated and an implemented `area()` method can be called. \n",
    "\n",
    "</font>\n",
    "</div>"
   ]
  },
  {
   "cell_type": "code",
   "execution_count": 1,
   "metadata": {
    "ExecuteTime": {
     "end_time": "2023-07-10T14:39:20.821358Z",
     "start_time": "2023-07-10T14:39:20.818512Z"
    }
   },
   "outputs": [],
   "source": [
    "import abc\n",
    "\n",
    "\n",
    "class Shape(metaclass=abc.ABCMeta):\n",
    "    @abc.abstractmethod\n",
    "    def area(self):        \n",
    "        pass"
   ]
  },
  {
   "cell_type": "code",
   "execution_count": 2,
   "metadata": {
    "ExecuteTime": {
     "end_time": "2023-07-10T14:39:20.826510Z",
     "start_time": "2023-07-10T14:39:20.823662Z"
    }
   },
   "outputs": [],
   "source": [
    "class Rectangle(Shape):\n",
    "    def __init__(self, x, y):\n",
    "        self.l = x\n",
    "        self.b = y        \n",
    "\n",
    "    def area(self):\n",
    "        return self.l*self.b"
   ]
  },
  {
   "cell_type": "code",
   "execution_count": 3,
   "metadata": {
    "ExecuteTime": {
     "end_time": "2023-07-10T14:39:20.833198Z",
     "start_time": "2023-07-10T14:39:20.829936Z"
    }
   },
   "outputs": [
    {
     "name": "stdout",
     "output_type": "stream",
     "text": [
      "area:  200\n"
     ]
    }
   ],
   "source": [
    "r = Rectangle(10,20)\n",
    "print ('area: ', r.area())"
   ]
  },
  {
   "cell_type": "markdown",
   "metadata": {},
   "source": [
    "<div class=\"alert alert-info\">\n",
    "<font color=black>\n",
    "\n",
    "- Using this decorator requires that the class’s metaclass is ABCMeta or is derived from it. \n",
    "- A class that has a metaclass derived from ABCMeta cannot be instantiated unless all of its abstract methods and properties are overridden.\n",
    "- The following example shows this error with a concrete example.\n",
    "\n",
    "</font>\n",
    "</div>"
   ]
  },
  {
   "cell_type": "code",
   "execution_count": 4,
   "metadata": {
    "ExecuteTime": {
     "end_time": "2023-07-10T14:39:20.837957Z",
     "start_time": "2023-07-10T14:39:20.835107Z"
    }
   },
   "outputs": [],
   "source": [
    "class Rectangle_error(Shape):\n",
    "    def __init__(self, x, y):\n",
    "        self.l = x\n",
    "        self.b = y        "
   ]
  },
  {
   "cell_type": "code",
   "execution_count": 5,
   "metadata": {
    "ExecuteTime": {
     "end_time": "2023-07-10T14:39:21.225724Z",
     "start_time": "2023-07-10T14:39:20.839960Z"
    }
   },
   "outputs": [
    {
     "ename": "TypeError",
     "evalue": "Can't instantiate abstract class Rectangle_error with abstract methods area",
     "output_type": "error",
     "traceback": [
      "\u001b[0;31m---------------------------------------------------------------------------\u001b[0m",
      "\u001b[0;31mTypeError\u001b[0m                                 Traceback (most recent call last)",
      "Input \u001b[0;32mIn [5]\u001b[0m, in \u001b[0;36m<cell line: 1>\u001b[0;34m()\u001b[0m\n\u001b[0;32m----> 1\u001b[0m r \u001b[38;5;241m=\u001b[39m \u001b[43mRectangle_error\u001b[49m\u001b[43m(\u001b[49m\u001b[38;5;241;43m10\u001b[39;49m\u001b[43m,\u001b[49m\u001b[38;5;241;43m20\u001b[39;49m\u001b[43m)\u001b[49m\n\u001b[1;32m      2\u001b[0m \u001b[38;5;28mprint\u001b[39m (\u001b[38;5;124m'\u001b[39m\u001b[38;5;124marea: \u001b[39m\u001b[38;5;124m'\u001b[39m, r\u001b[38;5;241m.\u001b[39marea())\n",
      "\u001b[0;31mTypeError\u001b[0m: Can't instantiate abstract class Rectangle_error with abstract methods area"
     ]
    }
   ],
   "source": [
    "r = Rectangle_error(10,20)\n",
    "print ('area: ', r.area())"
   ]
  },
  {
   "cell_type": "markdown",
   "metadata": {},
   "source": [
    "# Example #2\n",
    "<hr style = \"border:2px solid black\" ></hr>"
   ]
  },
  {
   "cell_type": "markdown",
   "metadata": {},
   "source": [
    "<div class=\"alert alert-info\">\n",
    "<font color=black>\n",
    "\n",
    "- Let us say we run a dealeship and trade car, truck and motorcycles. If we want to create a sale system how would it look like?\n",
    "- We'll create the final model in following these steps:\n",
    "    - Create separate classes.\n",
    "    - Simplify them via inheritance using an abstarct class.\n",
    "\n",
    "</font>\n",
    "</div>"
   ]
  },
  {
   "cell_type": "code",
   "execution_count": 6,
   "metadata": {
    "ExecuteTime": {
     "end_time": "2023-07-10T14:39:29.458557Z",
     "start_time": "2023-07-10T14:39:29.454483Z"
    }
   },
   "outputs": [],
   "source": [
    "class Car():\n",
    "\n",
    "    def __init__(self, wheels, miles, make, model, year):\n",
    "        self.wheels = wheels\n",
    "        self.make = make\n",
    "        self.model = model\n",
    "        self.miles = miles\n",
    "        self.year = year\n",
    "\n",
    "    def sale_price():\n",
    "        \"\"\"\n",
    "        We charge a flat rate of 5k per wheels\n",
    "        \"\"\"\n",
    "        return 5000.0 * sel.wheels\n",
    "\n",
    "    def purchaise_price(self):\n",
    "        \"\"\"\n",
    "        We buy back according to the miles the car has\n",
    "        \"\"\"\n",
    "        return 8000.0 - (.1 * self.miles)"
   ]
  },
  {
   "cell_type": "code",
   "execution_count": 7,
   "metadata": {
    "ExecuteTime": {
     "end_time": "2023-07-10T14:39:29.960004Z",
     "start_time": "2023-07-10T14:39:29.956078Z"
    }
   },
   "outputs": [],
   "source": [
    "class Truck():\n",
    "\n",
    "    def __init__(self, wheels, miles, make, model, year):\n",
    "        self.wheels = wheels\n",
    "        self.make = make\n",
    "        self.model = model\n",
    "        self.miles = miles\n",
    "        self.year = year\n",
    "\n",
    "    def sale_price():\n",
    "        \"\"\"\n",
    "        We charge a flat rate of 5k per wheels\n",
    "        \"\"\"\n",
    "        return 5000.0 * sel.wheels\n",
    "\n",
    "    def purchaise_price(self):\n",
    "        \"\"\"\n",
    "        We buy back according to the miles the car has\n",
    "        \"\"\"\n",
    "        return 10000.0 - (.1 * self.miles)"
   ]
  },
  {
   "cell_type": "markdown",
   "metadata": {},
   "source": [
    "<div class=\"alert alert-info\">\n",
    "<font color=black>\n",
    "\n",
    "- We create two class, but we ended up repeating a lot of code?\n",
    "- **How can we improve it?** First of all we can look for abstraction material! This means to look for something that is in common and try ti abstarct this away.\n",
    "-  This can be done by noticing that cars and trucks can be considerd as a vehicles. All vechicles have something in common and this can be used to create a more abstract class.\n",
    "\n",
    "</font>\n",
    "</div>"
   ]
  },
  {
   "cell_type": "code",
   "execution_count": 8,
   "metadata": {
    "ExecuteTime": {
     "end_time": "2023-07-10T14:39:30.575695Z",
     "start_time": "2023-07-10T14:39:30.571656Z"
    }
   },
   "outputs": [],
   "source": [
    "class Vehicle():\n",
    "\n",
    "    base_sale_price = 0.0\n",
    "\n",
    "    def __init__(self, wheels, miles, make, model, year):\n",
    "        self.wheels = wheels\n",
    "        self.make = make\n",
    "        self.model = model\n",
    "        self.miles = miles\n",
    "        self.year = year\n",
    "\n",
    "    def sale_price():\n",
    "        \"\"\"\n",
    "        We charge a flat rate of 5k per wheels\n",
    "        \"\"\"\n",
    "        return 5000.0 * sel.wheels\n",
    "\n",
    "    def purchaise_price(self):\n",
    "        \"\"\"\n",
    "        We buy back according to the miles the car has\n",
    "        \"\"\"\n",
    "        return self.base_sale_price - (.1 * self.miles)"
   ]
  },
  {
   "cell_type": "markdown",
   "metadata": {},
   "source": [
    "<div class=\"alert alert-info\">\n",
    "<font color=black>\n",
    "\n",
    "- Look how we have created a class attribute `base_sale_price` to help us distinguish a car from a truck.\n",
    "- Writing `Car(Vehicle)` mean we are creating a class that inherits from the inherited class `Vehicle`.\n",
    "\n",
    "</font>\n",
    "</div>"
   ]
  },
  {
   "cell_type": "code",
   "execution_count": 9,
   "metadata": {
    "ExecuteTime": {
     "end_time": "2023-07-10T14:39:31.008909Z",
     "start_time": "2023-07-10T14:39:31.004716Z"
    }
   },
   "outputs": [],
   "source": [
    "class Car(Vehicle):\n",
    "    def __init(self, wheels, miles, make, model, year):\n",
    "        self.wheels = wheels\n",
    "        self.make = make\n",
    "        self.model = model\n",
    "        self.miles = miles\n",
    "        self.year = year\n",
    "        self.based_sale_price = 8000\n",
    "\n",
    "\n",
    "class Truck(Vehicle):\n",
    "    def __init(self, wheels, miles, make, model, year):\n",
    "        self.wheels = wheels\n",
    "        self.make = make\n",
    "        self.model = model\n",
    "        self.miles = miles\n",
    "        self.year = year\n",
    "        self.based_sale_price = 10000"
   ]
  },
  {
   "cell_type": "markdown",
   "metadata": {},
   "source": [
    "<div class=\"alert alert-info\">\n",
    "<font color=black>\n",
    "\n",
    "- We've cleaned up a bit the code but there are still two things that are not as polished as we'd like them to be.\n",
    "- **Frist** There is still some repeated code.\n",
    "- **Secondly** You can still create an object from the `Vehicle` class. A vehicle should not have a `base_sale_price`, only Car or Truck do.\n",
    "- `Vehicle` should really be an abstract class.\n",
    "\n",
    "</font>\n",
    "</div>"
   ]
  },
  {
   "cell_type": "code",
   "execution_count": 10,
   "metadata": {
    "ExecuteTime": {
     "end_time": "2023-07-10T14:39:31.763805Z",
     "start_time": "2023-07-10T14:39:31.757005Z"
    }
   },
   "outputs": [
    {
     "data": {
      "text/plain": [
       "0.0"
      ]
     },
     "execution_count": 10,
     "metadata": {},
     "output_type": "execute_result"
    }
   ],
   "source": [
    "# You can still do this\n",
    "v = Vehicle(4, 0, \"Honda\", \"Accord\", 2014)\n",
    "# but although we get purchaise price. does it make sense?\n",
    "v.purchaise_price()"
   ]
  },
  {
   "cell_type": "markdown",
   "metadata": {},
   "source": [
    "<div class=\"alert alert-info\">\n",
    "<font color=black>\n",
    "\n",
    "- It makes sense to disallow `Vehicle(4, 0, \"Honda\", \"Accord\", 2014)` as we only wanted to abstract away some common data and behaviour, as we never meant for vehicles to be used directly. \n",
    "    \n",
    "- A class that contains at list one **virtual method** is called metaclass.\n",
    "- A virtual method is one that the abstract class says **must exhist** in child classes, but does not necessarily implement something.\n",
    "\n",
    "</font>\n",
    "</div>"
   ]
  },
  {
   "cell_type": "code",
   "execution_count": 11,
   "metadata": {
    "ExecuteTime": {
     "end_time": "2023-07-10T14:39:32.511229Z",
     "start_time": "2023-07-10T14:39:32.506720Z"
    }
   },
   "outputs": [],
   "source": [
    "import abc\n",
    "\n",
    "\n",
    "class Vehicle(metaclass=abc.ABCMeta):\n",
    "\n",
    "    # These are two class attribute that depends on the type of object\n",
    "    base_sale_price = 0.0\n",
    "    wheels = 0\n",
    "\n",
    "    def __init__(self, miles, make, model, year):        \n",
    "        self.make = make\n",
    "        self.model = model\n",
    "        self.miles = miles\n",
    "        self.year = year\n",
    "\n",
    "    def sale_price(self):\n",
    "        \"\"\"\n",
    "        We charge a flat rate of 5k per wheels\n",
    "        \"\"\"\n",
    "        return 5000.0 * sel.wheels\n",
    "\n",
    "    def purchaise_price(self):\n",
    "        \"\"\"\n",
    "        We buy back according to the miles the car has\n",
    "        \"\"\"\n",
    "        return self.base_sale_price - (.1 * self.miles)\n",
    "\n",
    "    @abc.abstractmethod\n",
    "    def vehicle_type(self):\n",
    "        \"\"\"\n",
    "        Returns a string representing the type of vehicle this is.\n",
    "        This will be defined in the derived class\n",
    "        \"\"\"\n",
    "        pass"
   ]
  },
  {
   "cell_type": "code",
   "execution_count": 12,
   "metadata": {
    "ExecuteTime": {
     "end_time": "2023-07-10T14:39:32.934187Z",
     "start_time": "2023-07-10T14:39:32.918665Z"
    },
    "scrolled": true
   },
   "outputs": [
    {
     "ename": "TypeError",
     "evalue": "Can't instantiate abstract class Vehicle with abstract methods vehicle_type",
     "output_type": "error",
     "traceback": [
      "\u001b[0;31m---------------------------------------------------------------------------\u001b[0m",
      "\u001b[0;31mTypeError\u001b[0m                                 Traceback (most recent call last)",
      "Input \u001b[0;32mIn [12]\u001b[0m, in \u001b[0;36m<cell line: 2>\u001b[0;34m()\u001b[0m\n\u001b[1;32m      1\u001b[0m \u001b[38;5;66;03m# Now you can see how this will throw an error. This ie exactely what we wanted\u001b[39;00m\n\u001b[0;32m----> 2\u001b[0m v \u001b[38;5;241m=\u001b[39m \u001b[43mVehicle\u001b[49m\u001b[43m(\u001b[49m\u001b[38;5;241;43m0\u001b[39;49m\u001b[43m,\u001b[49m\u001b[43m \u001b[49m\u001b[38;5;124;43m\"\u001b[39;49m\u001b[38;5;124;43mHonda\u001b[39;49m\u001b[38;5;124;43m\"\u001b[39;49m\u001b[43m,\u001b[49m\u001b[43m \u001b[49m\u001b[38;5;124;43m\"\u001b[39;49m\u001b[38;5;124;43mAccord\u001b[39;49m\u001b[38;5;124;43m\"\u001b[39;49m\u001b[43m,\u001b[49m\u001b[43m \u001b[49m\u001b[38;5;241;43m2014\u001b[39;49m\u001b[43m)\u001b[49m\n",
      "\u001b[0;31mTypeError\u001b[0m: Can't instantiate abstract class Vehicle with abstract methods vehicle_type"
     ]
    }
   ],
   "source": [
    "# Now you can see how this will throw an error. This ie exactely what we wanted\n",
    "v = Vehicle(0, \"Honda\", \"Accord\", 2014)"
   ]
  },
  {
   "cell_type": "code",
   "execution_count": 13,
   "metadata": {
    "ExecuteTime": {
     "end_time": "2023-07-10T14:39:33.298976Z",
     "start_time": "2023-07-10T14:39:33.294299Z"
    }
   },
   "outputs": [],
   "source": [
    "class Car(Vehicle):\n",
    "\n",
    "    wheels = 4\n",
    "    based_sale_price = 8000\n",
    "\n",
    "    def vehicle_type(self):\n",
    "        \"\"\"\n",
    "        Returns a string representing the type of vehicle this is.\n",
    "        \"\"\"\n",
    "        return \"car\"\n",
    "\n",
    "\n",
    "class Truck(Vehicle):\n",
    "    wheels = 6\n",
    "    based_sale_price = 10000\n",
    "\n",
    "    def vehicle_type(self):\n",
    "        \"\"\"\n",
    "        Returns a string representing the type of vehicle this is.\n",
    "        \"\"\"\n",
    "        return \"truck\"\n",
    "\n",
    "\n",
    "class Motorcycle(Vehicle):\n",
    "    wheels = 2\n",
    "    based_sale_price = 4000\n",
    "\n",
    "    def vehicle_type(self):\n",
    "        \"\"\"\n",
    "        Returns a string representing the type of vehicle this is.\n",
    "        \"\"\"\n",
    "        return \"motorcycle\""
   ]
  },
  {
   "cell_type": "markdown",
   "metadata": {},
   "source": [
    "<div class=\"alert alert-info\">\n",
    "<font color=black>\n",
    "    \n",
    "- This fits perfectly with our intuition.\n",
    "- The only two differences between a car and truck is the base sale price and the no of wheels.\n",
    "- All the other attributes are common hence they can be abstracted way and this is what we did with the abstract class `Vehicle`.\n",
    "    \n",
    "</font>\n",
    "</div>"
   ]
  },
  {
   "cell_type": "code",
   "execution_count": 14,
   "metadata": {
    "ExecuteTime": {
     "end_time": "2023-07-10T14:39:37.016950Z",
     "start_time": "2023-07-10T14:39:37.014396Z"
    }
   },
   "outputs": [],
   "source": [
    "v = Car(1000, \"Honda\", \"Accord\", 2014)"
   ]
  },
  {
   "cell_type": "code",
   "execution_count": 15,
   "metadata": {
    "ExecuteTime": {
     "end_time": "2023-07-10T14:39:37.505264Z",
     "start_time": "2023-07-10T14:39:37.501192Z"
    }
   },
   "outputs": [
    {
     "data": {
      "text/plain": [
       "4"
      ]
     },
     "execution_count": 15,
     "metadata": {},
     "output_type": "execute_result"
    }
   ],
   "source": [
    "v.wheels"
   ]
  },
  {
   "cell_type": "code",
   "execution_count": 16,
   "metadata": {
    "ExecuteTime": {
     "end_time": "2023-07-10T14:39:37.934146Z",
     "start_time": "2023-07-10T14:39:37.929743Z"
    }
   },
   "outputs": [
    {
     "data": {
      "text/plain": [
       "8000"
      ]
     },
     "execution_count": 16,
     "metadata": {},
     "output_type": "execute_result"
    }
   ],
   "source": [
    "v.based_sale_price"
   ]
  },
  {
   "cell_type": "code",
   "execution_count": 17,
   "metadata": {
    "ExecuteTime": {
     "end_time": "2023-07-10T14:39:38.307569Z",
     "start_time": "2023-07-10T14:39:38.303543Z"
    }
   },
   "outputs": [
    {
     "data": {
      "text/plain": [
       "'Honda'"
      ]
     },
     "execution_count": 17,
     "metadata": {},
     "output_type": "execute_result"
    }
   ],
   "source": [
    "v.make"
   ]
  },
  {
   "cell_type": "code",
   "execution_count": 18,
   "metadata": {
    "ExecuteTime": {
     "end_time": "2023-07-10T14:39:38.796727Z",
     "start_time": "2023-07-10T14:39:38.792540Z"
    }
   },
   "outputs": [
    {
     "data": {
      "text/plain": [
       "'Accord'"
      ]
     },
     "execution_count": 18,
     "metadata": {},
     "output_type": "execute_result"
    }
   ],
   "source": [
    "v.model"
   ]
  },
  {
   "cell_type": "code",
   "execution_count": 19,
   "metadata": {
    "ExecuteTime": {
     "end_time": "2023-07-10T14:39:39.343645Z",
     "start_time": "2023-07-10T14:39:39.339610Z"
    }
   },
   "outputs": [
    {
     "data": {
      "text/plain": [
       "'car'"
      ]
     },
     "execution_count": 19,
     "metadata": {},
     "output_type": "execute_result"
    }
   ],
   "source": [
    "v.vehicle_type()"
   ]
  },
  {
   "cell_type": "code",
   "execution_count": 20,
   "metadata": {
    "ExecuteTime": {
     "end_time": "2023-07-10T14:39:39.807605Z",
     "start_time": "2023-07-10T14:39:39.803448Z"
    }
   },
   "outputs": [
    {
     "data": {
      "text/plain": [
       "1000"
      ]
     },
     "execution_count": 20,
     "metadata": {},
     "output_type": "execute_result"
    }
   ],
   "source": [
    "v.miles"
   ]
  },
  {
   "cell_type": "code",
   "execution_count": 21,
   "metadata": {
    "ExecuteTime": {
     "end_time": "2023-07-10T14:39:40.241799Z",
     "start_time": "2023-07-10T14:39:40.237759Z"
    }
   },
   "outputs": [
    {
     "data": {
      "text/plain": [
       "-100.0"
      ]
     },
     "execution_count": 21,
     "metadata": {},
     "output_type": "execute_result"
    }
   ],
   "source": [
    "v.purchaise_price()"
   ]
  },
  {
   "cell_type": "markdown",
   "metadata": {},
   "source": [
    "# Conclusions\n",
    "<hr style = \"border:2px solid black\" ></hr>"
   ]
  },
  {
   "cell_type": "markdown",
   "metadata": {},
   "source": [
    "<div class=\"alert alert-danger\">\n",
    "<font color=black>\n",
    "\n",
    "- Remember that getting rid of duplicates is a side effect of inheritance.\n",
    "- When using inheritance, what we are really doing is providing the proper level of **abstraction**. \n",
    "- Abstract class is **different** from virtual abstract class.\n",
    "\n",
    "</font>\n",
    "</div>"
   ]
  },
  {
   "cell_type": "markdown",
   "metadata": {},
   "source": [
    "# References\n",
    "<hr style = \"border:2px solid black\" ></hr>"
   ]
  },
  {
   "cell_type": "markdown",
   "metadata": {},
   "source": [
    "<div class=\"alert alert-warning\">\n",
    "<font color=black>\n",
    "\n",
    "- https://www.tutorialspoint.com/abstract-base-classes-in-python-abc\n",
    "- [Jeff Knupp, Everything I know about Python](https://jeffknupp.com/blog/2017/03/27/improve-your-python-python-classes-and-object-oriented-programming/)\n",
    "\n",
    "</font>\n",
    "</div>"
   ]
  },
  {
   "cell_type": "markdown",
   "metadata": {},
   "source": [
    "# Requirements\n",
    "<hr style = \"border:2px solid black\" ></hr>"
   ]
  },
  {
   "cell_type": "code",
   "execution_count": null,
   "metadata": {
    "ExecuteTime": {
     "end_time": "2023-07-10T14:39:21.256434Z",
     "start_time": "2023-07-10T14:39:21.256415Z"
    }
   },
   "outputs": [],
   "source": [
    "%load_ext watermark\n",
    "%watermark -v -iv -m"
   ]
  },
  {
   "cell_type": "code",
   "execution_count": null,
   "metadata": {},
   "outputs": [],
   "source": []
  }
 ],
 "metadata": {
  "kernelspec": {
   "display_name": "mlops",
   "language": "python",
   "name": "mlops"
  },
  "language_info": {
   "codemirror_mode": {
    "name": "ipython",
    "version": 3
   },
   "file_extension": ".py",
   "mimetype": "text/x-python",
   "name": "python",
   "nbconvert_exporter": "python",
   "pygments_lexer": "ipython3",
   "version": "3.8.16"
  },
  "toc": {
   "base_numbering": 1,
   "nav_menu": {},
   "number_sections": true,
   "sideBar": true,
   "skip_h1_title": false,
   "title_cell": "Table of Contents",
   "title_sidebar": "Contents",
   "toc_cell": true,
   "toc_position": {
    "height": "calc(100% - 180px)",
    "left": "10px",
    "top": "150px",
    "width": "165px"
   },
   "toc_section_display": true,
   "toc_window_display": true
  },
  "varInspector": {
   "cols": {
    "lenName": 16,
    "lenType": 16,
    "lenVar": 40
   },
   "kernels_config": {
    "python": {
     "delete_cmd_postfix": "",
     "delete_cmd_prefix": "del ",
     "library": "var_list.py",
     "varRefreshCmd": "print(var_dic_list())"
    },
    "r": {
     "delete_cmd_postfix": ") ",
     "delete_cmd_prefix": "rm(",
     "library": "var_list.r",
     "varRefreshCmd": "cat(var_dic_list()) "
    }
   },
   "types_to_exclude": [
    "module",
    "function",
    "builtin_function_or_method",
    "instance",
    "_Feature"
   ],
   "window_display": false
  }
 },
 "nbformat": 4,
 "nbformat_minor": 2
}
