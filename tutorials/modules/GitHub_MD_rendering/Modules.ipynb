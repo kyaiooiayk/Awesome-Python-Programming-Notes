{
 "cells": [
  {
   "cell_type": "markdown",
   "id": "074c8216",
   "metadata": {
    "toc": true
   },
   "source": [
    "<h1>Table of Contents<span class=\"tocSkip\"></span></h1>\n",
""   ]
  },
  {
   "cell_type": "markdown",
   "id": "639a979b",
   "metadata": {},
   "source": [
    "# Introduction\n",
    "<hr style = \"border:2px solid black\" ></hr>"
   ]
  },
  {
   "cell_type": "markdown",
   "id": "2e386acc",
   "metadata": {},
   "source": [
    "\n",
    "**What?** Modules\n",
    "\n",
""   ]
  },
  {
   "cell_type": "markdown",
   "id": "cfa43e6f",
   "metadata": {},
   "source": [
    "# What is a Modules?\n",
    "<hr style = \"border:2px solid black\" ></hr>"
   ]
  },
  {
   "cell_type": "markdown",
   "id": "51cfc47c",
   "metadata": {},
   "source": [
    "\n",
    "- Every file, which has the file extension .py and consists of proper Python code, can be seen or is a module! \n",
    "- There is no special syntax required to make such a file a module. \n",
    "- A module can contain arbitrary objects, for example files, classes or attributes. \n",
    "- All those objects can be accessed after an import. There are different ways to import a modules.\n",
    "\n",
""   ]
  },
  {
   "cell_type": "markdown",
   "id": "2fe159e9",
   "metadata": {},
   "source": [
    "# Designing and Writing Modules\n",
    "<hr style = \"border:2px solid black\" ></hr>"
   ]
  },
  {
   "cell_type": "markdown",
   "id": "20047386",
   "metadata": {},
   "source": [
    "\n",
    "- A module in Python is just a file containing Python definitions and statements. The module name is moulded out of the file name by removing the suffix `.py`. \n",
    "- For example, if the file name is `fibonacci.py`, the module name is `fibonacci`.\n",
    "\n",
""   ]
  },
  {
   "cell_type": "code",
   "execution_count": 2,
   "id": "13eefdbf",
   "metadata": {
    "ExecuteTime": {
     "end_time": "2022-10-08T20:05:12.263622Z",
     "start_time": "2022-10-08T20:05:12.259733Z"
    }
   },
   "outputs": [
    {
     "data": {
      "text/plain": [
       "13"
      ]
     },
     "execution_count": 2,
     "metadata": {},
     "output_type": "execute_result"
    }
   ],
   "source": [
    "import fibonacci\n",
    "fibonacci.fib(7)"
   ]
  },
  {
   "cell_type": "markdown",
   "id": "ed8ed40e",
   "metadata": {},
   "source": [
    "# Module used as a script\n",
    "<hr style = \"border:2px solid black\" ></hr>"
   ]
  },
  {
   "cell_type": "markdown",
   "id": "84c3bf86",
   "metadata": {},
   "source": [
    "\n",
    "- `__name__` is a variable defined for each script that defines whether the script is being run as the main module or it is being run as an imported module.\n",
    "\n",
    "- So it's possible to program different behaviour into a module for the two cases:\n",
    "    - As a module or\n",
    "    - As a script.\n",
    " \n",
""   ]
  },
  {
   "cell_type": "code",
   "execution_count": 4,
   "id": "aa9411bb",
   "metadata": {
    "ExecuteTime": {
     "end_time": "2022-10-08T20:06:08.184684Z",
     "start_time": "2022-10-08T20:06:08.182171Z"
    }
   },
   "outputs": [],
   "source": [
    "# If it is imported, the code in the if block will not be executed:\n",
    "from fibonacci import fib"
   ]
  },
  {
   "cell_type": "code",
   "execution_count": 7,
   "id": "46313131",
   "metadata": {
    "ExecuteTime": {
     "end_time": "2022-10-08T20:07:23.358853Z",
     "start_time": "2022-10-08T20:07:23.186552Z"
    }
   },
   "outputs": [
    {
     "name": "stdout",
     "output_type": "stream",
     "text": [
      "2\r\n"
     ]
    }
   ],
   "source": [
    "# If it is run as a script, we get the following output:\n",
    "!python fibonacci.py 3"
   ]
  },
  {
   "cell_type": "markdown",
   "id": "21741fb7",
   "metadata": {},
   "source": [
    "# Kinds of Modules\n",
    "<hr style = \"border:2px solid black\" ></hr>"
   ]
  },
  {
   "cell_type": "markdown",
   "id": "ad289003",
   "metadata": {},
   "source": [
    "\n",
    "- There are different kind of modules:\n",
    "    - Those written in Python\n",
    "    - They have the suffix: .py\n",
    "    - Dynamically linked C modules\n",
    "    - Suffixes are: .dll, .pyd, .so, .sl, ...\n",
    "    - C-Modules linked with the Interpreter\n",
    "- It's possible to get a complete list of these modules with `sys.builtin_module_names`\n",
    "\n",
    "\n",
""   ]
  },
  {
   "cell_type": "code",
   "execution_count": 8,
   "id": "10cdcd74",
   "metadata": {
    "ExecuteTime": {
     "end_time": "2022-10-09T06:03:41.177633Z",
     "start_time": "2022-10-09T06:03:41.146816Z"
    },
    "scrolled": true
   },
   "outputs": [
    {
     "data": {
      "text/plain": [
       "('_abc',\n",
       " '_ast',\n",
       " '_codecs',\n",
       " '_collections',\n",
       " '_functools',\n",
       " '_imp',\n",
       " '_io',\n",
       " '_locale',\n",
       " '_operator',\n",
       " '_peg_parser',\n",
       " '_signal',\n",
       " '_sre',\n",
       " '_stat',\n",
       " '_string',\n",
       " '_symtable',\n",
       " '_thread',\n",
       " '_tracemalloc',\n",
       " '_warnings',\n",
       " '_weakref',\n",
       " 'atexit',\n",
       " 'builtins',\n",
       " 'errno',\n",
       " 'faulthandler',\n",
       " 'gc',\n",
       " 'itertools',\n",
       " 'marshal',\n",
       " 'posix',\n",
       " 'pwd',\n",
       " 'sys',\n",
       " 'time',\n",
       " 'xxsubtype')"
      ]
     },
     "execution_count": 8,
     "metadata": {},
     "output_type": "execute_result"
    }
   ],
   "source": [
    "import sys\n",
    "sys.builtin_module_names"
   ]
  },
  {
   "cell_type": "markdown",
   "id": "968c74ec",
   "metadata": {},
   "source": [
    "# Module Search Path\n",
    "<hr style = \"border:2px solid black\" ></hr>"
   ]
  },
  {
   "cell_type": "markdown",
   "id": "3fab3aaa",
   "metadata": {},
   "source": [
    "\n",
    "- If you import a module, let's say \"import xyz\", the interpreter searches for this module in the following locations and in the order given:\n",
    "\n",
    "    - The directory of the top-level file, i.e. the file being executed.\n",
    "    - The directories of PYTHONPATH, if this global environment variable of your operating system is set.\n",
    "    - standard installation path Linux/Unix e.g. in /usr/lib/python3.5. \n",
    "\n",
    "- It's possible to find out where a module is located after it has been imported append `.file` or using dunder method `__file__`.\n",
    "- The `file` attribute doesn't always exist. This is the case with modules which are statically linked C libraries.\n",
    "    \n",
    "    \n",
""   ]
  },
  {
   "cell_type": "code",
   "execution_count": 18,
   "id": "83bf0c76",
   "metadata": {
    "ExecuteTime": {
     "end_time": "2022-10-09T06:18:00.376162Z",
     "start_time": "2022-10-09T06:18:00.372513Z"
    }
   },
   "outputs": [
    {
     "data": {
      "text/plain": [
       "'/Users/gm_main/Desktop/DataScienceFolder/GitHub/Python-Programming/tutorials/modules/fibonacci.py'"
      ]
     },
     "execution_count": 18,
     "metadata": {},
     "output_type": "execute_result"
    }
   ],
   "source": [
    "import fibonacci\n",
    "fibonacci.__file__"
   ]
  },
  {
   "cell_type": "code",
   "execution_count": 11,
   "id": "231623ef",
   "metadata": {
    "ExecuteTime": {
     "end_time": "2022-10-09T06:15:30.556502Z",
     "start_time": "2022-10-09T06:15:30.552572Z"
    }
   },
   "outputs": [
    {
     "data": {
      "text/plain": [
       "'/opt/anaconda3/envs/trainingAI/lib/python3.9/site-packages/numpy/__init__.py'"
      ]
     },
     "execution_count": 11,
     "metadata": {},
     "output_type": "execute_result"
    }
   ],
   "source": [
    "import numpy\n",
    "numpy.__file__"
   ]
  },
  {
   "cell_type": "code",
   "execution_count": 12,
   "id": "765862f2",
   "metadata": {
    "ExecuteTime": {
     "end_time": "2022-10-09T06:15:54.107360Z",
     "start_time": "2022-10-09T06:15:54.103072Z"
    }
   },
   "outputs": [
    {
     "data": {
      "text/plain": [
       "'/opt/anaconda3/envs/trainingAI/lib/python3.9/lib-dynload/math.cpython-39-darwin.so'"
      ]
     },
     "execution_count": 12,
     "metadata": {},
     "output_type": "execute_result"
    }
   ],
   "source": [
    "import math\n",
    "math.__file__"
   ]
  },
  {
   "cell_type": "markdown",
   "id": "bd7a1745",
   "metadata": {},
   "source": [
    "# Content of a Module\n",
    "<hr style = \"border:2px solid black\" ></hr>"
   ]
  },
  {
   "cell_type": "markdown",
   "id": "c3cf71f8",
   "metadata": {},
   "source": [
    "\n",
    "- With the built-in function `dir()` and the name of the module as an argument, you can list all valid attributes and methods for that module.\n",
    "- Calling `dir()` without an argument, a list with the names in the current **local scope** is returned.\n",
    "- It's possible to get a list of the Built-in functions, exceptions, and other objects by importing the `builtins` module.\n",
    "\n",
""   ]
  },
  {
   "cell_type": "code",
   "execution_count": 19,
   "id": "7c23a4a4",
   "metadata": {
    "ExecuteTime": {
     "end_time": "2022-10-09T06:22:00.447331Z",
     "start_time": "2022-10-09T06:22:00.442663Z"
    },
    "scrolled": true
   },
   "outputs": [
    {
     "data": {
      "text/plain": [
       "['__doc__',\n",
       " '__file__',\n",
       " '__loader__',\n",
       " '__name__',\n",
       " '__package__',\n",
       " '__spec__',\n",
       " 'acos',\n",
       " 'acosh',\n",
       " 'asin',\n",
       " 'asinh',\n",
       " 'atan',\n",
       " 'atan2',\n",
       " 'atanh',\n",
       " 'ceil',\n",
       " 'comb',\n",
       " 'copysign',\n",
       " 'cos',\n",
       " 'cosh',\n",
       " 'degrees',\n",
       " 'dist',\n",
       " 'e',\n",
       " 'erf',\n",
       " 'erfc',\n",
       " 'exp',\n",
       " 'expm1',\n",
       " 'fabs',\n",
       " 'factorial',\n",
       " 'floor',\n",
       " 'fmod',\n",
       " 'frexp',\n",
       " 'fsum',\n",
       " 'gamma',\n",
       " 'gcd',\n",
       " 'hypot',\n",
       " 'inf',\n",
       " 'isclose',\n",
       " 'isfinite',\n",
       " 'isinf',\n",
       " 'isnan',\n",
       " 'isqrt',\n",
       " 'lcm',\n",
       " 'ldexp',\n",
       " 'lgamma',\n",
       " 'log',\n",
       " 'log10',\n",
       " 'log1p',\n",
       " 'log2',\n",
       " 'modf',\n",
       " 'nan',\n",
       " 'nextafter',\n",
       " 'perm',\n",
       " 'pi',\n",
       " 'pow',\n",
       " 'prod',\n",
       " 'radians',\n",
       " 'remainder',\n",
       " 'sin',\n",
       " 'sinh',\n",
       " 'sqrt',\n",
       " 'tan',\n",
       " 'tanh',\n",
       " 'tau',\n",
       " 'trunc',\n",
       " 'ulp']"
      ]
     },
     "execution_count": 19,
     "metadata": {},
     "output_type": "execute_result"
    }
   ],
   "source": [
    "import math\n",
    "dir(math)"
   ]
  },
  {
   "cell_type": "code",
   "execution_count": 20,
   "id": "3382b1bb",
   "metadata": {
    "ExecuteTime": {
     "end_time": "2022-10-09T06:22:29.633171Z",
     "start_time": "2022-10-09T06:22:29.627762Z"
    },
    "scrolled": true
   },
   "outputs": [
    {
     "data": {
      "text/plain": [
       "['In',\n",
       " 'NamespaceMagics',\n",
       " 'Out',\n",
       " '_',\n",
       " '_1',\n",
       " '_11',\n",
       " '_12',\n",
       " '_18',\n",
       " '_19',\n",
       " '_2',\n",
       " '_8',\n",
       " '_Jupyter',\n",
       " '__',\n",
       " '___',\n",
       " '__builtin__',\n",
       " '__builtins__',\n",
       " '__doc__',\n",
       " '__loader__',\n",
       " '__name__',\n",
       " '__package__',\n",
       " '__spec__',\n",
       " '_dh',\n",
       " '_exit_code',\n",
       " '_getshapeof',\n",
       " '_getsizeof',\n",
       " '_i',\n",
       " '_i1',\n",
       " '_i10',\n",
       " '_i11',\n",
       " '_i12',\n",
       " '_i13',\n",
       " '_i14',\n",
       " '_i15',\n",
       " '_i16',\n",
       " '_i17',\n",
       " '_i18',\n",
       " '_i19',\n",
       " '_i2',\n",
       " '_i20',\n",
       " '_i3',\n",
       " '_i4',\n",
       " '_i5',\n",
       " '_i6',\n",
       " '_i7',\n",
       " '_i8',\n",
       " '_i9',\n",
       " '_ih',\n",
       " '_ii',\n",
       " '_iii',\n",
       " '_nms',\n",
       " '_oh',\n",
       " 'autopep8',\n",
       " 'cities',\n",
       " 'exit',\n",
       " 'fib',\n",
       " 'fibonacci',\n",
       " 'get_ipython',\n",
       " 'getsizeof',\n",
       " 'json',\n",
       " 'math',\n",
       " 'np',\n",
       " 'numpy',\n",
       " 'quit',\n",
       " 'scipy',\n",
       " 'stats',\n",
       " 'sys',\n",
       " 'var_dic_list']"
      ]
     },
     "execution_count": 20,
     "metadata": {},
     "output_type": "execute_result"
    }
   ],
   "source": [
    "import math\n",
    "cities = [\"New York\", \"Toronto\", \"Berlin\", \"Washington\", \"Amsterdam\", \"Hamburg\"]\n",
    "dir()"
   ]
  },
  {
   "cell_type": "code",
   "execution_count": 21,
   "id": "cd6f37be",
   "metadata": {
    "ExecuteTime": {
     "end_time": "2022-10-09T06:23:50.515250Z",
     "start_time": "2022-10-09T06:23:50.508532Z"
    },
    "scrolled": false
   },
   "outputs": [
    {
     "data": {
      "text/plain": [
       "['ArithmeticError',\n",
       " 'AssertionError',\n",
       " 'AttributeError',\n",
       " 'BaseException',\n",
       " 'BlockingIOError',\n",
       " 'BrokenPipeError',\n",
       " 'BufferError',\n",
       " 'BytesWarning',\n",
       " 'ChildProcessError',\n",
       " 'ConnectionAbortedError',\n",
       " 'ConnectionError',\n",
       " 'ConnectionRefusedError',\n",
       " 'ConnectionResetError',\n",
       " 'DeprecationWarning',\n",
       " 'EOFError',\n",
       " 'Ellipsis',\n",
       " 'EnvironmentError',\n",
       " 'Exception',\n",
       " 'False',\n",
       " 'FileExistsError',\n",
       " 'FileNotFoundError',\n",
       " 'FloatingPointError',\n",
       " 'FutureWarning',\n",
       " 'GeneratorExit',\n",
       " 'IOError',\n",
       " 'ImportError',\n",
       " 'ImportWarning',\n",
       " 'IndentationError',\n",
       " 'IndexError',\n",
       " 'InterruptedError',\n",
       " 'IsADirectoryError',\n",
       " 'KeyError',\n",
       " 'KeyboardInterrupt',\n",
       " 'LookupError',\n",
       " 'MemoryError',\n",
       " 'ModuleNotFoundError',\n",
       " 'NameError',\n",
       " 'None',\n",
       " 'NotADirectoryError',\n",
       " 'NotImplemented',\n",
       " 'NotImplementedError',\n",
       " 'OSError',\n",
       " 'OverflowError',\n",
       " 'PendingDeprecationWarning',\n",
       " 'PermissionError',\n",
       " 'ProcessLookupError',\n",
       " 'RecursionError',\n",
       " 'ReferenceError',\n",
       " 'ResourceWarning',\n",
       " 'RuntimeError',\n",
       " 'RuntimeWarning',\n",
       " 'StopAsyncIteration',\n",
       " 'StopIteration',\n",
       " 'SyntaxError',\n",
       " 'SyntaxWarning',\n",
       " 'SystemError',\n",
       " 'SystemExit',\n",
       " 'TabError',\n",
       " 'TimeoutError',\n",
       " 'True',\n",
       " 'TypeError',\n",
       " 'UnboundLocalError',\n",
       " 'UnicodeDecodeError',\n",
       " 'UnicodeEncodeError',\n",
       " 'UnicodeError',\n",
       " 'UnicodeTranslateError',\n",
       " 'UnicodeWarning',\n",
       " 'UserWarning',\n",
       " 'ValueError',\n",
       " 'Warning',\n",
       " 'ZeroDivisionError',\n",
       " '__IPYTHON__',\n",
       " '__build_class__',\n",
       " '__debug__',\n",
       " '__doc__',\n",
       " '__import__',\n",
       " '__loader__',\n",
       " '__name__',\n",
       " '__package__',\n",
       " '__spec__',\n",
       " 'abs',\n",
       " 'all',\n",
       " 'any',\n",
       " 'ascii',\n",
       " 'bin',\n",
       " 'bool',\n",
       " 'breakpoint',\n",
       " 'bytearray',\n",
       " 'bytes',\n",
       " 'callable',\n",
       " 'chr',\n",
       " 'classmethod',\n",
       " 'compile',\n",
       " 'complex',\n",
       " 'copyright',\n",
       " 'credits',\n",
       " 'delattr',\n",
       " 'dict',\n",
       " 'dir',\n",
       " 'display',\n",
       " 'divmod',\n",
       " 'enumerate',\n",
       " 'eval',\n",
       " 'exec',\n",
       " 'execfile',\n",
       " 'filter',\n",
       " 'float',\n",
       " 'format',\n",
       " 'frozenset',\n",
       " 'get_ipython',\n",
       " 'getattr',\n",
       " 'globals',\n",
       " 'hasattr',\n",
       " 'hash',\n",
       " 'help',\n",
       " 'hex',\n",
       " 'id',\n",
       " 'input',\n",
       " 'int',\n",
       " 'isinstance',\n",
       " 'issubclass',\n",
       " 'iter',\n",
       " 'len',\n",
       " 'license',\n",
       " 'list',\n",
       " 'locals',\n",
       " 'map',\n",
       " 'max',\n",
       " 'memoryview',\n",
       " 'min',\n",
       " 'next',\n",
       " 'object',\n",
       " 'oct',\n",
       " 'open',\n",
       " 'ord',\n",
       " 'pow',\n",
       " 'print',\n",
       " 'property',\n",
       " 'range',\n",
       " 'repr',\n",
       " 'reversed',\n",
       " 'round',\n",
       " 'runfile',\n",
       " 'set',\n",
       " 'setattr',\n",
       " 'slice',\n",
       " 'sorted',\n",
       " 'staticmethod',\n",
       " 'str',\n",
       " 'sum',\n",
       " 'super',\n",
       " 'tuple',\n",
       " 'type',\n",
       " 'vars',\n",
       " 'zip']"
      ]
     },
     "execution_count": 21,
     "metadata": {},
     "output_type": "execute_result"
    }
   ],
   "source": [
    "import builtins\n",
    "dir(builtins)"
   ]
  },
  {
   "cell_type": "markdown",
   "id": "87162448",
   "metadata": {},
   "source": [
    "# References\n",
    "<hr style = \"border:2px solid black\" ></hr>"
   ]
  },
  {
   "cell_type": "markdown",
   "id": "c371fefe",
   "metadata": {},
   "source": [
    "\n",
    "- https://python-course.eu/python-tutorial/modules-and-modular-programming.php\n",
    "\n",
""   ]
  },
  {
   "cell_type": "markdown",
   "id": "567609ea",
   "metadata": {},
   "source": [
    "# Requirements\n",
    "<hr style = \"border:2px solid black\" ></hr>"
   ]
  },
  {
   "cell_type": "code",
   "execution_count": 22,
   "id": "947df7ab",
   "metadata": {
    "ExecuteTime": {
     "end_time": "2022-10-09T08:23:10.818888Z",
     "start_time": "2022-10-09T08:23:10.760377Z"
    }
   },
   "outputs": [
    {
     "name": "stdout",
     "output_type": "stream",
     "text": [
      "Python implementation: CPython\n",
      "Python version       : 3.9.7\n",
      "IPython version      : 7.29.0\n",
      "\n",
      "json    : 2.0.9\n",
      "stats   : 0.1.2a0\n",
      "numpy   : 1.22.2\n",
      "scipy   : 1.7.3\n",
      "sys     : 3.9.7 (default, Sep 16 2021, 08:50:36) \n",
      "[Clang 10.0.0 ]\n",
      "autopep8: 1.6.0\n",
      "\n"
     ]
    }
   ],
   "source": [
    "%load_ext watermark\n",
    "%watermark -v -iv"
   ]
  },
  {
   "cell_type": "code",
   "execution_count": null,
   "id": "29222582",
   "metadata": {},
   "outputs": [],
   "source": []
  }
 ],
 "metadata": {
  "kernelspec": {
   "display_name": "trainingAI",
   "language": "python",
   "name": "trainingai"
  },
  "language_info": {
   "codemirror_mode": {
    "name": "ipython",
    "version": 3
   },
   "file_extension": ".py",
   "mimetype": "text/x-python",
   "name": "python",
   "nbconvert_exporter": "python",
   "pygments_lexer": "ipython3",
   "version": "3.9.7"
  },
  "toc": {
   "base_numbering": 1,
   "nav_menu": {},
   "number_sections": true,
   "sideBar": true,
   "skip_h1_title": false,
   "title_cell": "Table of Contents",
   "title_sidebar": "Contents",
   "toc_cell": true,
   "toc_position": {},
   "toc_section_display": true,
   "toc_window_display": true
  },
  "varInspector": {
   "cols": {
    "lenName": 16,
    "lenType": 16,
    "lenVar": 40
   },
   "kernels_config": {
    "python": {
     "delete_cmd_postfix": "",
     "delete_cmd_prefix": "del ",
     "library": "var_list.py",
     "varRefreshCmd": "print(var_dic_list())"
    },
    "r": {
     "delete_cmd_postfix": ") ",
     "delete_cmd_prefix": "rm(",
     "library": "var_list.r",
     "varRefreshCmd": "cat(var_dic_list()) "
    }
   },
   "types_to_exclude": [
    "module",
    "function",
    "builtin_function_or_method",
    "instance",
    "_Feature"
   ],
   "window_display": false
  }
 },
 "nbformat": 4,
 "nbformat_minor": 5
}
