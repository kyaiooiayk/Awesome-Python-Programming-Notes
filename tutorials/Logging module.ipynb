{
 "cells": [
  {
   "cell_type": "markdown",
   "metadata": {},
   "source": [
    "# Introduction"
   ]
  },
  {
   "cell_type": "markdown",
   "metadata": {},
   "source": [
    "<div class=\"alert alert-block alert-warning\">\n",
    "<font color=black>\n",
    "\n",
    "**What?** Logging module\n",
    "\n",
    "</font>\n",
    "</div>"
   ]
  },
  {
   "cell_type": "markdown",
   "metadata": {},
   "source": [
    "# Import modules"
   ]
  },
  {
   "cell_type": "code",
   "execution_count": 1,
   "metadata": {},
   "outputs": [],
   "source": [
    "import logging\n",
    "from imp import reload"
   ]
  },
  {
   "cell_type": "markdown",
   "metadata": {},
   "source": [
    "# Logging"
   ]
  },
  {
   "cell_type": "markdown",
   "metadata": {},
   "source": [
    "Once our application grows beyond a basic project, having good logging as oppose to just print statement is going to allow us to look at behaviors and errors over time and give us a better overall picture of what's going on.\n",
    "\n",
    "There are 5 different kinds of logging levels. Levels allow us to to specify exactly what we want to log by separating them into categories. The description of each of these is as follows:\n",
    "\n",
    "- `DEBUG`: Detailed debug information, typically of interest only when diagnosing problems.\n",
    "- `INFO`: Confirmation that things are working as expected.\n",
    "- `WARNING`: An indication that something unexpected happened, or indicative of some problem in the near future (e.g. disk space low). The software is still working as expected.\n",
    "- `ERROR`: Due to a more serious problem, the software has not been able to perform some function.\n",
    "- `CRITICAL`: A serious error, indicating that the program itself may be unable to continue running.\n",
    "\n",
    "The default level is WARNING, meaning that it will capture anything that is a warning or above, and ignore the DEBUG and INFO level. we can change this behavior using the basicConfig method."
   ]
  },
  {
   "cell_type": "code",
   "execution_count": 3,
   "metadata": {},
   "outputs": [],
   "source": [
    "\n",
    "# jupyter notebook already uses logging, thus we reload the module to make it work in notebooks\n",
    "# http://stackoverflow.com/questions/18786912/get-output-from-the-logging-module-in-ipython-notebook\n",
    "reload(logging)\n",
    "\n",
    "# In the following not only did we change the logging level, but\n",
    "# also specify a logging file to write the log to, and the format.\n",
    "# the format we specified here is simply the time, the level name\n",
    "# and the message that we'll later specify, for more information\n",
    "# about what format we can specify, refer to the following webpage\n",
    "# https://docs.python.org/3/library/logging.html#logrecord-attributes\n",
    "logging.basicConfig(filename='test.log', level=logging.DEBUG,\n",
    "                    format='%(asctime)s:%(levelname)s:%(message)s')\n",
    "\n",
    "def add(x, y):\n",
    "    \"\"\"Add Function\"\"\"\n",
    "    return x + y\n",
    "\n",
    "\n",
    "def subtract(x, y):\n",
    "    \"\"\"Subtract Function\"\"\"\n",
    "    return x - y\n",
    "\n",
    "\n",
    "def multiply(x, y):\n",
    "    \"\"\"Multiply Function\"\"\"\n",
    "    return x * y\n",
    "\n",
    "\n",
    "def divide(x, y):\n",
    "    \"\"\"Divide Function\"\"\"\n",
    "    return x / y"
   ]
  },
  {
   "cell_type": "code",
   "execution_count": 4,
   "metadata": {},
   "outputs": [],
   "source": [
    "num1 = 20\n",
    "num2 = 10\n",
    "\n",
    "# add logging debugrmation instead of print statement \n",
    "# to record what was going on, note that if we were to\n",
    "# run it for multiple \n",
    "add_result = add(num1, num2)\n",
    "logging.debug('Add: {} + {} = {}'.format(num1, num2, add_result))\n",
    "\n",
    "sub_result = subtract(num1, num2)\n",
    "logging.debug('Sub: {} - {} = {}'.format(num1, num2, sub_result))\n",
    "\n",
    "mul_result = multiply(num1, num2)\n",
    "logging.debug('Mul: {} * {} = {}'.format(num1, num2, mul_result))\n",
    "\n",
    "div_result = divide(num1, num2)\n",
    "logging.debug('Div: {} / {} = {}'.format(num1, num2, div_result))"
   ]
  },
  {
   "cell_type": "markdown",
   "metadata": {},
   "source": [
    "After running the code, we should a logging file in the same directory as the notebook. And it should something along the lines of:\n",
    "\n",
    "```\n",
    "2017-03-16 13:55:32,075:DEBUG:Add: 20 + 10 = 30\n",
    "2017-03-16 13:55:32,076:DEBUG:Sub: 20 - 10 = 10\n",
    "2017-03-16 13:55:32,076:DEBUG:Mul: 20 * 10 = 200\n",
    "2017-03-16 13:55:32,076:DEBUG:Div: 20 / 10 = 2.0\n",
    "```\n",
    "\n",
    "The code chunk logs the information in the root logger. If we have multiple scripts that does the logging, they will get logged to the same place, which might not be ideal. Thus we can create a separate logger for each module."
   ]
  },
  {
   "cell_type": "code",
   "execution_count": 5,
   "metadata": {},
   "outputs": [],
   "source": [
    "import logging\n",
    "\n",
    "# then specify the module's logger, the logger's level\n",
    "# and add the handler to the logger\n",
    "logger = logging.getLogger(__name__)\n",
    "logger.setLevel(logging.ERROR)\n",
    "\n",
    "# boiler plate, set the format using Formatter,\n",
    "# and set the file to log to with FileHandler\n",
    "formatter = logging.Formatter('%(asctime)s:%(levelname)s:%(message)s')\n",
    "file_handler = logging.FileHandler('math.log')\n",
    "file_handler.setFormatter(formatter)\n",
    "logger.addHandler(file_handler)\n",
    "\n",
    "# note that we do not need to reload the logging \n",
    "# module this time, as it will not have conflict \n",
    "# with jupyter notebook's logging behavior\n",
    "\n",
    "def add(x, y):\n",
    "    \"\"\"Add Function\"\"\"\n",
    "    return x + y\n",
    "\n",
    "\n",
    "def subtract(x, y):\n",
    "    \"\"\"Subtract Function\"\"\"\n",
    "    return x - y\n",
    "\n",
    "\n",
    "def multiply(x, y):\n",
    "    \"\"\"Multiply Function\"\"\"\n",
    "    return x * y\n",
    "\n",
    "\n",
    "def divide(x, y):\n",
    "    \"\"\"Divide Function\"\"\"\n",
    "    try:\n",
    "        result = x / y\n",
    "    except ZeroDivisionError:\n",
    "        # by calling .exception it will produce the traceback,\n",
    "        # which is helpful for knowing where the bug occurred\n",
    "        logger.exception('Tried to divide by 0')\n",
    "    else:\n",
    "        return result"
   ]
  },
  {
   "cell_type": "code",
   "execution_count": 6,
   "metadata": {},
   "outputs": [],
   "source": [
    "num1 = 20\n",
    "num2 = 0\n",
    "\n",
    "# note that we'll use the logger we explicitly created \n",
    "# to log to message as oppose to logging in the last example\n",
    "add_result = add(num1, num2)\n",
    "logger.info('Add: {} + {} = {}'.format(num1, num2, add_result))\n",
    "\n",
    "sub_result = subtract(num1, num2)\n",
    "logger.info('Sub: {} - {} = {}'.format(num1, num2, sub_result))\n",
    "\n",
    "mul_result = multiply(num1, num2)\n",
    "logger.info('Mul: {} * {} = {}'.format(num1, num2, mul_result))\n",
    "\n",
    "div_result = divide(num1, num2)\n",
    "logger.info('Div: {} / {} = {}'.format(num1, num2, div_result))"
   ]
  },
  {
   "cell_type": "markdown",
   "metadata": {},
   "source": [
    "```\n",
    "2017-03-16 15:02:58,144:ERROR:Tried to divide by 0\n",
    "Traceback (most recent call last):\n",
    "  File \"<ipython-input-7-573995498bac>\", line 37, in divide\n",
    "    result = x / y\n",
    "ZeroDivisionError: division by zero\n",
    "```"
   ]
  },
  {
   "cell_type": "markdown",
   "metadata": {},
   "source": [
    "## Logging Exception"
   ]
  },
  {
   "cell_type": "markdown",
   "metadata": {},
   "source": [
    "In the previous section, we've were logging the exception to the log file. This is actually an important practice and should not be taken lightly.\n",
    "\n",
    "When using try and except to catch exceptions, we should be more diligent in the way we handle the exceptions. In other words, NEVER do the following:"
   ]
  },
  {
   "cell_type": "code",
   "execution_count": 7,
   "metadata": {},
   "outputs": [],
   "source": [
    "num1 = 20\n",
    "num2 = 0\n",
    "\n",
    "result = None\n",
    "try:\n",
    "    result = num1 / num2\n",
    "except: # or except Exception:\n",
    "    pass\n",
    "\n",
    "result"
   ]
  },
  {
   "cell_type": "markdown",
   "metadata": {},
   "source": [
    "It might be quick for us as a developer to simply ignore the exception so that we can move on with our life and not worry about dealing with the exception. But when we do this, it is actually doing a massive disservice as it not only swallows up the various errors that might occur, even the ones we weren't expecting when writing try, expect block, but also throws away the stack trace, which provides useful information to speed up our bugging process when an error occurs.\n",
    "\n",
    "This is not to say that we should not be using try and expect to catch Exception, as this ensures our critical or long-running process doesn't go down due to some unexpected error. It is to enforce the fact that we should not be silently swallowing the error.\n",
    "\n",
    "The solution to this is to use a more specific exception type and log the full stack trace. In the function we've defined, we:\n",
    "\n",
    "- Use the `ZeroDivisionError` to specify what errors we were expecting when writing the try, except block.\n",
    "- We also leverage logging object's exception method."
   ]
  },
  {
   "cell_type": "code",
   "execution_count": 8,
   "metadata": {},
   "outputs": [],
   "source": [
    "def divide(x, y):\n",
    "    \"\"\"Divide Function\"\"\"\n",
    "    try:\n",
    "        result = x / y\n",
    "    except ZeroDivisionError:\n",
    "        # by calling .exception it will produce the traceback,\n",
    "        # which is helpful for knowing where the bug occurred\n",
    "        logger.exception('Tried to divide by 0')\n",
    "    else:\n",
    "        return result"
   ]
  },
  {
   "cell_type": "markdown",
   "metadata": {},
   "source": [
    "If for some reason, our application does logging in some other way, then we can use the trackback module to format the exception's stack trace."
   ]
  },
  {
   "cell_type": "code",
   "execution_count": 9,
   "metadata": {},
   "outputs": [],
   "source": [
    "import traceback\n",
    "\n",
    "def divide(x, y):\n",
    "    \"\"\"Divide Function\"\"\"\n",
    "    try:\n",
    "        result = x / y\n",
    "        output = {'result': result}\n",
    "    except ZeroDivisionError as ex:\n",
    "        error_message = log_traceback(ex)\n",
    "        output = {'result': None, 'error': error_message}\n",
    "\n",
    "    return output\n",
    "\n",
    "\n",
    "def log_traceback(ex):\n",
    "    \"\"\"Format full stack trace into a single string.\"\"\"\n",
    "    traceback_lines = traceback.format_exception(ex.__class__, ex, ex.__traceback__)\n",
    "    traceback_text = ''.join(traceback_lines)\n",
    "    return traceback_text"
   ]
  },
  {
   "cell_type": "code",
   "execution_count": 10,
   "metadata": {},
   "outputs": [
    {
     "data": {
      "text/plain": [
       "{'result': None,\n",
       " 'error': 'Traceback (most recent call last):\\n  File \"<ipython-input-9-b27e677bf7be>\", line 6, in divide\\n    result = x / y\\nZeroDivisionError: division by zero\\n'}"
      ]
     },
     "execution_count": 10,
     "metadata": {},
     "output_type": "execute_result"
    }
   ],
   "source": [
    "output = divide(20, 0)\n",
    "output"
   ]
  },
  {
   "cell_type": "markdown",
   "metadata": {},
   "source": [
    "# References"
   ]
  },
  {
   "cell_type": "markdown",
   "metadata": {},
   "source": [
    "<div class=\"alert alert-block alert-warning\">\n",
    "<font color=black>\n",
    "\n",
    "- http://nbviewer.jupyter.org/github/ethen8181/machine-learning/blob/master/python/logging.ipynb\n",
    "- [Youtube: Python Tutorial: Logging Basics - Logging to Files, Setting Levels, and Formatting](https://www.youtube.com/watch?v=-ARI4Cz-awo)\n",
    "- [Toutube: Python Tutorial: Logging Advanced - Loggers, Handlers, and Formatters](https://www.youtube.com/watch?v=jxmzY9soFXg&feature=youtu.be)\n",
    "- [Blog: The Most Diabolical Python Antipattern](https://realpython.com/the-most-diabolical-python-antipattern/)\n",
    "\n",
    "</font>\n",
    "</div>"
   ]
  },
  {
   "cell_type": "code",
   "execution_count": null,
   "metadata": {},
   "outputs": [],
   "source": []
  }
 ],
 "metadata": {
  "kernelspec": {
   "display_name": "Python 3",
   "language": "python",
   "name": "python3"
  },
  "language_info": {
   "codemirror_mode": {
    "name": "ipython",
    "version": 3
   },
   "file_extension": ".py",
   "mimetype": "text/x-python",
   "name": "python",
   "nbconvert_exporter": "python",
   "pygments_lexer": "ipython3",
   "version": "3.7.3"
  },
  "toc": {
   "nav_menu": {
    "height": "48px",
    "width": "252px"
   },
   "number_sections": true,
   "sideBar": true,
   "skip_h1_title": false,
   "title_cell": "Table of Contents",
   "title_sidebar": "Contents",
   "toc_cell": true,
   "toc_position": {
    "height": "calc(100% - 180px)",
    "left": "10px",
    "top": "150px",
    "width": "278px"
   },
   "toc_section_display": "block",
   "toc_window_display": true
  },
  "varInspector": {
   "cols": {
    "lenName": 16,
    "lenType": 16,
    "lenVar": 40
   },
   "kernels_config": {
    "python": {
     "delete_cmd_postfix": "",
     "delete_cmd_prefix": "del ",
     "library": "var_list.py",
     "varRefreshCmd": "print(var_dic_list())"
    },
    "r": {
     "delete_cmd_postfix": ") ",
     "delete_cmd_prefix": "rm(",
     "library": "var_list.r",
     "varRefreshCmd": "cat(var_dic_list()) "
    }
   },
   "types_to_exclude": [
    "module",
    "function",
    "builtin_function_or_method",
    "instance",
    "_Feature"
   ],
   "window_display": false
  }
 },
 "nbformat": 4,
 "nbformat_minor": 2
}
