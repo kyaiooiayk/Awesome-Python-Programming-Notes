{
 "cells": [
  {
   "cell_type": "markdown",
   "metadata": {
    "toc": true
   },
   "source": [
    "<h1>Table of Contents<span class=\"tocSkip\"></span></h1>\n",
    "<div class=\"toc\"><ul class=\"toc-item\"><li><span><a href=\"#Introduction\" data-toc-modified-id=\"Introduction-1\"><span class=\"toc-item-num\">1&nbsp;&nbsp;</span>Introduction</a></span></li><li><span><a href=\"#Imports\" data-toc-modified-id=\"Imports-2\"><span class=\"toc-item-num\">2&nbsp;&nbsp;</span>Imports</a></span></li><li><span><a href=\"#Logging\" data-toc-modified-id=\"Logging-3\"><span class=\"toc-item-num\">3&nbsp;&nbsp;</span>Logging</a></span></li><li><span><a href=\"#Exercise-#1\" data-toc-modified-id=\"Exercise-#1-4\"><span class=\"toc-item-num\">4&nbsp;&nbsp;</span>Exercise #1</a></span></li><li><span><a href=\"#Exercise-#2\" data-toc-modified-id=\"Exercise-#2-5\"><span class=\"toc-item-num\">5&nbsp;&nbsp;</span>Exercise #2</a></span></li><li><span><a href=\"#Logging-Exception\" data-toc-modified-id=\"Logging-Exception-6\"><span class=\"toc-item-num\">6&nbsp;&nbsp;</span>Logging Exception</a></span></li><li><span><a href=\"#Clean-up\" data-toc-modified-id=\"Clean-up-7\"><span class=\"toc-item-num\">7&nbsp;&nbsp;</span>Clean-up</a></span></li><li><span><a href=\"#References\" data-toc-modified-id=\"References-8\"><span class=\"toc-item-num\">8&nbsp;&nbsp;</span>References</a></span></li></ul></div>"
   ]
  },
  {
   "cell_type": "markdown",
   "metadata": {},
   "source": [
    "# Introduction\n",
    "<hr style=\"border:2px solid black\"> </hr>"
   ]
  },
  {
   "cell_type": "markdown",
   "metadata": {},
   "source": [
    "<div class=\"alert alert-block alert-warning\">\n",
    "<font color=black>\n",
    "\n",
    "**What?** Logging module\n",
    "\n",
    "</font>\n",
    "</div>"
   ]
  },
  {
   "cell_type": "markdown",
   "metadata": {},
   "source": [
    "# Imports\n",
    "<hr style=\"border:2px solid black\"> </hr>"
   ]
  },
  {
   "cell_type": "code",
   "execution_count": 1,
   "metadata": {
    "ExecuteTime": {
     "end_time": "2023-01-26T20:19:06.870834Z",
     "start_time": "2023-01-26T20:19:06.868030Z"
    }
   },
   "outputs": [],
   "source": [
    "import logging\n",
    "import traceback\n",
    "from imp import reload"
   ]
  },
  {
   "cell_type": "markdown",
   "metadata": {},
   "source": [
    "# Logging\n",
    "<hr style=\"border:2px solid black\"> </hr>"
   ]
  },
  {
   "cell_type": "markdown",
   "metadata": {},
   "source": [
    "<div class=\"alert alert-info\">\n",
    "<font color=black>\n",
    "    \n",
    "- Python's logging modules allows us to better control all out print statements. This become more and more important as our application grows in size an away from a quick and dirty code snippet.\n",
    "    \n",
    "- There are 5 different kinds of logging levels. Levels allow us to to specify exactly what we want to log by separating them into categories. The description of each of these is as follows:\n",
    "\n",
    "    - `DEBUG`: Detailed debug information, typically of interest only when diagnosing problems.\n",
    "    - `INFO`: Confirmation that things are working as expected.\n",
    "    - `WARNING`: An indication that something unexpected happened, or indicative of some problem in the near future (e.g. disk space low). The software is still working as expected.\n",
    "    - `ERROR`: Due to a more serious problem, the software has not been able to perform some function.\n",
    "    - `CRITICAL`: A serious error, indicating that the program itself may be unable to continue running.\n",
    "\n",
    "- The default level is WARNING, meaning that it will capture anything that is a warning or above, and ignore the DEBUG and INFO level. we can change this behavior using the basicConfig method.\n",
    "\n",
    "</font>\n",
    "</div>"
   ]
  },
  {
   "cell_type": "markdown",
   "metadata": {},
   "source": [
    "# Exercise #1\n",
    "<hr style=\"border:2px solid black\"> </hr>"
   ]
  },
  {
   "cell_type": "markdown",
   "metadata": {},
   "source": [
    "<div class=\"alert alert-info\">\n",
    "<font color=black>\n",
    "\n",
    "- In the following not only did we change the logging level, but also specify a logging file to write the log to, and the format\n",
    "- The format we specified here is simply the time, the level name and the message that we'll later specify\n",
    "\n",
    "</font>\n",
    "</div>"
   ]
  },
  {
   "cell_type": "code",
   "execution_count": 2,
   "metadata": {
    "ExecuteTime": {
     "end_time": "2023-01-26T20:19:06.879790Z",
     "start_time": "2023-01-26T20:19:06.872918Z"
    }
   },
   "outputs": [],
   "source": [
    "# jupyter notebook already uses logging, thus we reload the module to make it work in notebooks\n",
    "reload(logging)\n",
    "\n",
    "\n",
    "logging.basicConfig(filename='test.log', level=logging.DEBUG,\n",
    "                    format='%(asctime)s:%(levelname)s:%(message)s')\n",
    "\n",
    "\n",
    "def add(x, y):\n",
    "    \"\"\"Add Function\"\"\"\n",
    "    return x + y\n",
    "\n",
    "\n",
    "def subtract(x, y):\n",
    "    \"\"\"Subtract Function\"\"\"\n",
    "    return x - y\n",
    "\n",
    "\n",
    "def multiply(x, y):\n",
    "    \"\"\"Multiply Function\"\"\"\n",
    "    return x * y\n",
    "\n",
    "\n",
    "def divide(x, y):\n",
    "    \"\"\"Divide Function\"\"\"\n",
    "    return x / y"
   ]
  },
  {
   "cell_type": "code",
   "execution_count": 3,
   "metadata": {
    "ExecuteTime": {
     "end_time": "2023-01-26T20:19:06.887913Z",
     "start_time": "2023-01-26T20:19:06.882889Z"
    }
   },
   "outputs": [],
   "source": [
    "num1 = 20\n",
    "num2 = 10\n",
    "\n",
    "# add logging debugrmation instead of print statement\n",
    "# to record what was going on, note that if we were to\n",
    "# run it for multiple\n",
    "add_result = add(num1, num2)\n",
    "logging.debug('Add: {} + {} = {}'.format(num1, num2, add_result))\n",
    "\n",
    "sub_result = subtract(num1, num2)\n",
    "logging.debug('Sub: {} - {} = {}'.format(num1, num2, sub_result))\n",
    "\n",
    "mul_result = multiply(num1, num2)\n",
    "logging.debug('Mul: {} * {} = {}'.format(num1, num2, mul_result))\n",
    "\n",
    "div_result = divide(num1, num2)\n",
    "logging.debug('Div: {} / {} = {}'.format(num1, num2, div_result))"
   ]
  },
  {
   "cell_type": "code",
   "execution_count": 4,
   "metadata": {
    "ExecuteTime": {
     "end_time": "2023-01-26T20:19:07.015984Z",
     "start_time": "2023-01-26T20:19:06.889819Z"
    }
   },
   "outputs": [
    {
     "name": "stdout",
     "output_type": "stream",
     "text": [
      "2023-01-26 20:19:06,885:DEBUG:Add: 20 + 10 = 30\r\n",
      "2023-01-26 20:19:06,885:DEBUG:Sub: 20 - 10 = 10\r\n",
      "2023-01-26 20:19:06,886:DEBUG:Mul: 20 * 10 = 200\r\n",
      "2023-01-26 20:19:06,886:DEBUG:Div: 20 / 10 = 2.0\r\n"
     ]
    }
   ],
   "source": [
    "# Inspecting the file\n",
    "!cat test.log"
   ]
  },
  {
   "cell_type": "markdown",
   "metadata": {},
   "source": [
    "# Exercise #2\n",
    "<hr style=\"border:2px solid black\"> </hr>"
   ]
  },
  {
   "cell_type": "markdown",
   "metadata": {},
   "source": [
    "<div class=\"alert alert-info\">\n",
    "<font color=black>\n",
    "    \n",
    "- The code chunk logs the information in the root logger.\n",
    "- If we have multiple scripts that does the logging, they will get logged to the same place, which might not be ideal.\n",
    "- Thus we can create a separate logger for each module.\n",
    "    \n",
    "</font>\n",
    "</div>   "
   ]
  },
  {
   "cell_type": "code",
   "execution_count": 5,
   "metadata": {
    "ExecuteTime": {
     "end_time": "2023-01-26T20:19:07.025095Z",
     "start_time": "2023-01-26T20:19:07.018650Z"
    }
   },
   "outputs": [],
   "source": [
    "# then specify the module's logger, the logger's level\n",
    "# and add the handler to the logger\n",
    "logger = logging.getLogger(__name__)\n",
    "logger.setLevel(logging.ERROR)\n",
    "\n",
    "# boiler plate, set the format using Formatter,\n",
    "# and set the file to log to with FileHandler\n",
    "formatter = logging.Formatter('%(asctime)s:%(levelname)s:%(message)s')\n",
    "file_handler = logging.FileHandler('math.log')\n",
    "file_handler.setFormatter(formatter)\n",
    "logger.addHandler(file_handler)\n",
    "\n",
    "# note that we do not need to reload the logging\n",
    "# module this time, as it will not have conflict\n",
    "# with jupyter notebook's logging behavior\n",
    "\n",
    "\n",
    "def add(x, y):\n",
    "    \"\"\"Add Function\"\"\"\n",
    "    return x + y\n",
    "\n",
    "\n",
    "def subtract(x, y):\n",
    "    \"\"\"Subtract Function\"\"\"\n",
    "    return x - y\n",
    "\n",
    "\n",
    "def multiply(x, y):\n",
    "    \"\"\"Multiply Function\"\"\"\n",
    "    return x * y\n",
    "\n",
    "\n",
    "def divide(x, y):\n",
    "    \"\"\"Divide Function\"\"\"\n",
    "    try:\n",
    "        result = x / y\n",
    "    except ZeroDivisionError:\n",
    "        # by calling .exception it will produce the traceback,\n",
    "        # which is helpful for knowing where the bug occurred\n",
    "        logger.exception('Tried to divide by 0')\n",
    "    else:\n",
    "        return result"
   ]
  },
  {
   "cell_type": "code",
   "execution_count": 6,
   "metadata": {
    "ExecuteTime": {
     "end_time": "2023-01-26T20:19:07.032227Z",
     "start_time": "2023-01-26T20:19:07.027228Z"
    }
   },
   "outputs": [],
   "source": [
    "num1 = 20\n",
    "num2 = 0\n",
    "\n",
    "# note that we'll use the logger we explicitly created\n",
    "# to log to message as oppose to logging in the last example\n",
    "add_result = add(num1, num2)\n",
    "logger.info('Add: {} + {} = {}'.format(num1, num2, add_result))\n",
    "\n",
    "sub_result = subtract(num1, num2)\n",
    "logger.info('Sub: {} - {} = {}'.format(num1, num2, sub_result))\n",
    "\n",
    "mul_result = multiply(num1, num2)\n",
    "logger.info('Mul: {} * {} = {}'.format(num1, num2, mul_result))\n",
    "\n",
    "div_result = divide(num1, num2)\n",
    "logger.info('Div: {} / {} = {}'.format(num1, num2, div_result))"
   ]
  },
  {
   "cell_type": "code",
   "execution_count": 7,
   "metadata": {
    "ExecuteTime": {
     "end_time": "2023-01-26T20:19:07.158769Z",
     "start_time": "2023-01-26T20:19:07.034507Z"
    }
   },
   "outputs": [
    {
     "name": "stdout",
     "output_type": "stream",
     "text": [
      "2023-01-26 20:19:07,029:ERROR:Tried to divide by 0\r\n",
      "Traceback (most recent call last):\r\n",
      "  File \"/var/folders/5x/lyqr8wv507n43bnwpsz4dq_c0000gn/T/ipykernel_33811/1611680896.py\", line 36, in divide\r\n",
      "    result = x / y\r\n",
      "ZeroDivisionError: division by zero\r\n"
     ]
    }
   ],
   "source": [
    "!cat math.log"
   ]
  },
  {
   "cell_type": "markdown",
   "metadata": {},
   "source": [
    "# Logging Exception\n",
    "<hr style=\"border:2px solid black\"> </hr>"
   ]
  },
  {
   "cell_type": "markdown",
   "metadata": {},
   "source": [
    "<div class=\"alert alert-info\">\n",
    "<font color=black>\n",
    "    \n",
    "- In the previous section, we've were logging the exception to the log file. This is actually an important practice and should not be taken lightly.\n",
    "- When using try and except to catch exceptions, we should be more diligent in the way we handle the exceptions. In other words, NEVER do the following.\n",
    "\n",
    "</font>\n",
    "</div>"
   ]
  },
  {
   "cell_type": "code",
   "execution_count": 8,
   "metadata": {
    "ExecuteTime": {
     "end_time": "2023-01-26T20:19:07.165273Z",
     "start_time": "2023-01-26T20:19:07.161720Z"
    }
   },
   "outputs": [],
   "source": [
    "num1 = 20\n",
    "num2 = 0\n",
    "\n",
    "result = None\n",
    "try:\n",
    "    result = num1 / num2\n",
    "except:  # or except Exception:\n",
    "    pass\n",
    "\n",
    "result"
   ]
  },
  {
   "cell_type": "markdown",
   "metadata": {},
   "source": [
    "<div class=\"alert alert-info\">\n",
    "<font color=black>\n",
    "    \n",
    "- It might be quick for us as a developer to simply ignore the exception so that we can move on with our life and not worry about dealing with the exception. But when we do this, it is actually doing a massive disservice as it not only swallows up the various errors that might occur, even the ones we weren't expecting when writing try, expect block, but also throws away the stack trace, which provides useful information to speed up our bugging process when an error occurs.\n",
    "\n",
    "- This is not to say that we should not be using try and expect to catch Exception, as this ensures our critical or long-running process doesn't go down due to some unexpected error. It is to enforce the fact that we should **not be silently** swallowing the error.\n",
    "\n",
    "- The solution to this is to use a more specific exception type and log the full stack trace. In the function we've defined, we:\n",
    "\n",
    "    - Use the `ZeroDivisionError` to specify what errors we were expecting when writing the try, except block.\n",
    "    - We also leverage logging object's exception method.\n",
    "\n",
    "</font>\n",
    "</div>"
   ]
  },
  {
   "cell_type": "code",
   "execution_count": 9,
   "metadata": {
    "ExecuteTime": {
     "end_time": "2023-01-26T20:19:07.173371Z",
     "start_time": "2023-01-26T20:19:07.170062Z"
    }
   },
   "outputs": [],
   "source": [
    "def divide(x, y):\n",
    "    \"\"\"Divide Function\"\"\"\n",
    "    try:\n",
    "        result = x / y\n",
    "    except ZeroDivisionError:\n",
    "        # by calling .exception it will produce the traceback,\n",
    "        # which is helpful for knowing where the bug occurred\n",
    "        logger.exception('Tried to divide by 0')\n",
    "    else:\n",
    "        return result"
   ]
  },
  {
   "cell_type": "markdown",
   "metadata": {},
   "source": [
    "<div class=\"alert alert-info\">\n",
    "<font color=black>\n",
    "    \n",
    "- If for some reason, our application does logging in some other way, then we can use the trackback module to format the exception's stack trace.\n",
    "\n",
    "</font>\n",
    "</div>  "
   ]
  },
  {
   "cell_type": "code",
   "execution_count": 10,
   "metadata": {
    "ExecuteTime": {
     "end_time": "2023-01-26T20:19:07.179534Z",
     "start_time": "2023-01-26T20:19:07.175316Z"
    }
   },
   "outputs": [],
   "source": [
    "def divide(x, y):\n",
    "    \"\"\"Divide Function\"\"\"\n",
    "    try:\n",
    "        result = x / y\n",
    "        output = {'result': result}\n",
    "    except ZeroDivisionError as ex:\n",
    "        error_message = log_traceback(ex)\n",
    "        output = {'result': None, 'error': error_message}\n",
    "\n",
    "    return output\n",
    "\n",
    "\n",
    "def log_traceback(ex):\n",
    "    \"\"\"Format full stack trace into a single string.\"\"\"\n",
    "    traceback_lines = traceback.format_exception(\n",
    "        ex.__class__, ex, ex.__traceback__)\n",
    "    traceback_text = ''.join(traceback_lines)\n",
    "    return traceback_text"
   ]
  },
  {
   "cell_type": "code",
   "execution_count": 11,
   "metadata": {
    "ExecuteTime": {
     "end_time": "2023-01-26T20:19:07.192658Z",
     "start_time": "2023-01-26T20:19:07.181620Z"
    }
   },
   "outputs": [
    {
     "data": {
      "text/plain": [
       "{'result': None,\n",
       " 'error': 'Traceback (most recent call last):\\n  File \"/var/folders/5x/lyqr8wv507n43bnwpsz4dq_c0000gn/T/ipykernel_33811/409289907.py\", line 4, in divide\\n    result = x / y\\nZeroDivisionError: division by zero\\n'}"
      ]
     },
     "execution_count": 11,
     "metadata": {},
     "output_type": "execute_result"
    }
   ],
   "source": [
    "output = divide(20, 0)\n",
    "output"
   ]
  },
  {
   "cell_type": "markdown",
   "metadata": {},
   "source": [
    "# Clean-up\n",
    "<hr style=\"border:2px solid black\"> </hr>"
   ]
  },
  {
   "cell_type": "code",
   "execution_count": 12,
   "metadata": {
    "ExecuteTime": {
     "end_time": "2023-01-26T20:19:07.317865Z",
     "start_time": "2023-01-26T20:19:07.194647Z"
    }
   },
   "outputs": [],
   "source": [
    "!rm math.log test.log"
   ]
  },
  {
   "cell_type": "markdown",
   "metadata": {},
   "source": [
    "# References\n",
    "<hr style=\"border:2px solid black\"> </hr>"
   ]
  },
  {
   "cell_type": "markdown",
   "metadata": {},
   "source": [
    "<div class=\"alert alert-block alert-warning\">\n",
    "<font color=black>\n",
    "\n",
    "- http://nbviewer.jupyter.org/github/ethen8181/machine-learning/blob/master/python/logging.ipynb\n",
    "- [Youtube: Python Tutorial: Logging Basics - Logging to Files, Setting Levels, and Formatting](https://www.youtube.com/watch?v=-ARI4Cz-awo)\n",
    "- [Toutube: Python Tutorial: Logging Advanced - Loggers, Handlers, and Formatters](https://www.youtube.com/watch?v=jxmzY9soFXg&feature=youtu.be)\n",
    "- [Blog: The Most Diabolical Python Antipattern](https://realpython.com/the-most-diabolical-python-antipattern/)\n",
    "- https://docs.python.org/3/library/logging.html#logrecord-attributes\n",
    "- http://stackoverflow.com/questions/18786912/get-output-from-the-logging-module-in-ipython-notebook\n",
    "- [How to use logging module for you DL project](https://theaisummer.com/logging-debugging/)\n",
    "    \n",
    "</font>\n",
    "</div>"
   ]
  },
  {
   "cell_type": "code",
   "execution_count": null,
   "metadata": {},
   "outputs": [],
   "source": []
  }
 ],
 "metadata": {
  "kernelspec": {
   "display_name": "Python 3 (ipykernel)",
   "language": "python",
   "name": "python3"
  },
  "language_info": {
   "codemirror_mode": {
    "name": "ipython",
    "version": 3
   },
   "file_extension": ".py",
   "mimetype": "text/x-python",
   "name": "python",
   "nbconvert_exporter": "python",
   "pygments_lexer": "ipython3",
   "version": "3.8.16"
  },
  "toc": {
   "base_numbering": 1,
   "nav_menu": {
    "height": "48px",
    "width": "252px"
   },
   "number_sections": true,
   "sideBar": true,
   "skip_h1_title": false,
   "title_cell": "Table of Contents",
   "title_sidebar": "Contents",
   "toc_cell": true,
   "toc_position": {
    "height": "calc(100% - 180px)",
    "left": "10px",
    "top": "150px",
    "width": "278px"
   },
   "toc_section_display": "block",
   "toc_window_display": true
  },
  "varInspector": {
   "cols": {
    "lenName": 16,
    "lenType": 16,
    "lenVar": 40
   },
   "kernels_config": {
    "python": {
     "delete_cmd_postfix": "",
     "delete_cmd_prefix": "del ",
     "library": "var_list.py",
     "varRefreshCmd": "print(var_dic_list())"
    },
    "r": {
     "delete_cmd_postfix": ") ",
     "delete_cmd_prefix": "rm(",
     "library": "var_list.r",
     "varRefreshCmd": "cat(var_dic_list()) "
    }
   },
   "types_to_exclude": [
    "module",
    "function",
    "builtin_function_or_method",
    "instance",
    "_Feature"
   ],
   "window_display": false
  }
 },
 "nbformat": 4,
 "nbformat_minor": 2
}
