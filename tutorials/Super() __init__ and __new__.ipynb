{
 "cells": [
  {
   "cell_type": "markdown",
   "metadata": {
    "toc": true
   },
   "source": [
    "<h1>Table of Contents<span class=\"tocSkip\"></span></h1>\n",
    "<div class=\"toc\"><ul class=\"toc-item\"><li><span><a href=\"#Introduction\" data-toc-modified-id=\"Introduction-1\"><span class=\"toc-item-num\">1&nbsp;&nbsp;</span>Introduction</a></span></li><li><span><a href=\"#What-is-__new__?\" data-toc-modified-id=\"What-is-__new__?-2\"><span class=\"toc-item-num\">2&nbsp;&nbsp;</span>What is <code>__new__</code>?</a></span></li><li><span><a href=\"#Example-#1\" data-toc-modified-id=\"Example-#1-3\"><span class=\"toc-item-num\">3&nbsp;&nbsp;</span>Example #1</a></span></li><li><span><a href=\"#Example-#2\" data-toc-modified-id=\"Example-#2-4\"><span class=\"toc-item-num\">4&nbsp;&nbsp;</span>Example #2</a></span></li><li><span><a href=\"#References\" data-toc-modified-id=\"References-5\"><span class=\"toc-item-num\">5&nbsp;&nbsp;</span>References</a></span></li></ul></div>"
   ]
  },
  {
   "cell_type": "markdown",
   "metadata": {},
   "source": [
    "# Introduction\n",
    "<hr style=\"border:2px solid black\"> </hr>"
   ]
  },
  {
   "cell_type": "markdown",
   "metadata": {},
   "source": [
    "<div class=\"alert alert-block alert-warning\">\n",
    "<font color=black>\n",
    "\n",
    "**What?** `Super()` `__init__` and `__new__`\n",
    "\n",
    "</font>\n",
    "</div>"
   ]
  },
  {
   "cell_type": "markdown",
   "metadata": {},
   "source": [
    "# What is `__new__`?\n",
    "<hr style=\"border:2px solid black\"> </hr>"
   ]
  },
  {
   "cell_type": "markdown",
   "metadata": {},
   "source": [
    "<div class=\"alert alert-info\">\n",
    "<font color=black>\n",
    "\n",
    "- Transforming from class to an object is called instantiation. \n",
    "- `__init__` is used to objects initialization and provide a class with a contructor.\n",
    " - During object creation `__init__` method doesn’t get executed first, the method which gets executed first is `__new__` \n",
    " - `__new__()` method gets most of the same arguments at `__init__` and it is responsible for actually creating the new object (prior to initializing object).\n",
    "- We can use `__new__` when we need to control the creation of a new instance.\n",
    "\n",
    "</font>\n",
    "</div>"
   ]
  },
  {
   "cell_type": "markdown",
   "metadata": {},
   "source": [
    "# Example #1\n",
    "<hr style=\"border:2px solid black\"> </hr>"
   ]
  },
  {
   "cell_type": "markdown",
   "metadata": {},
   "source": [
    "<div class=\"alert alert-info\">\n",
    "<font color=black>\n",
    "\n",
    "- Let's say we have a 3 classes, File ,TextFile(File) and ImageFile(File). We need instantiate TextFile for Text files, ImageFile for image file, and File for other type of files. We can obtain this by instantiating them directly.\n",
    "\n",
    "- But what if we could instantiate them only using the parent class (File) depending the file content? Yes, we want to instantiate child classes using parent class! \n",
    "\n",
    "</font>\n",
    "</div>"
   ]
  },
  {
   "cell_type": "code",
   "execution_count": 3,
   "metadata": {},
   "outputs": [],
   "source": [
    "class File:\n",
    "    def __new__(cls, *args, **kwargs):\n",
    "        file_type = kwargs.get(\"file_name\").split(\".\")[-1]\n",
    "\n",
    "        if file_type == \"txt\":\n",
    "            for i in cls.__subclasses__():\n",
    "                if i.__name__ == \"TextFile\":\n",
    "                    return super().__new__(i)\n",
    "        elif file_type in [\"jpg\", \"png\", \"jpeg\"]:\n",
    "            for i in cls.__subclasses__():\n",
    "                if i.__name__ == \"ImageFile\":\n",
    "                    return super().__new__(i)\n",
    "        else:\n",
    "            return super().__new__(File)\n",
    "\n",
    "    def __init__(self, file_name=\"\"):\n",
    "        self.file_name = file_name\n",
    "\n",
    "\n",
    "class ImageFile(File):\n",
    "    def __init__(self, *args, **kwargs):\n",
    "        self.height = kwargs.get(\"height\")\n",
    "        self.width = kwargs.get(\"width\")\n",
    "\n",
    "\n",
    "class TextFile(File):\n",
    "    def __init__(self, *args, **kwargs):\n",
    "        self.file_size = kwargs.get(\"file_size\")"
   ]
  },
  {
   "cell_type": "code",
   "execution_count": 5,
   "metadata": {},
   "outputs": [],
   "source": [
    "\"\"\"\n",
    "Here, we are instantiating the TextFile, ImageFile and File classes using the File (parent)\n",
    "class depending on content of file (file_type). \n",
    "\"\"\"\n",
    "text_file = File(file_name=\"testfile.txt\", height=100, width=100)\n",
    "image_file = File(file_name=\"imagefile.png\", file_size=500)\n",
    "other_file = File(file_name=\"video_file.mp4\")"
   ]
  },
  {
   "cell_type": "code",
   "execution_count": 6,
   "metadata": {},
   "outputs": [
    {
     "name": "stdout",
     "output_type": "stream",
     "text": [
      "<__main__.TextFile object at 0x106091bb0>\n",
      "<__main__.ImageFile object at 0x106091df0>\n",
      "<__main__.File object at 0x1060917f0>\n"
     ]
    }
   ],
   "source": [
    "print(text_file)\n",
    "print(image_file)\n",
    "print(other_file)"
   ]
  },
  {
   "cell_type": "markdown",
   "metadata": {},
   "source": [
    "# References\n",
    "<hr style=\"border:2px solid black\"> </hr>"
   ]
  },
  {
   "cell_type": "markdown",
   "metadata": {},
   "source": [
    "<div class=\"alert alert-block alert-warning\">\n",
    "<font color=black>\n",
    "\n",
    "- https://medium.com/@taohidulii/playing-with-inheritance-in-python-73ea4f3b669e\n",
    "- https://www.python.org/download/releases/2.2/descrintro/#__new__\n",
    "- https://nbviewer.org/github/rasbt/python_reference/blob/master/tutorials/not_so_obvious_python_stuff.ipynb?create=1\n",
    "    \n",
    "</font>\n",
    "</div>"
   ]
  },
  {
   "cell_type": "code",
   "execution_count": null,
   "metadata": {},
   "outputs": [],
   "source": []
  }
 ],
 "metadata": {
  "kernelspec": {
   "display_name": "trainingAI",
   "language": "python",
   "name": "trainingai"
  },
  "language_info": {
   "codemirror_mode": {
    "name": "ipython",
    "version": 3
   },
   "file_extension": ".py",
   "mimetype": "text/x-python",
   "name": "python",
   "nbconvert_exporter": "python",
   "pygments_lexer": "ipython3",
   "version": "3.9.7"
  },
  "toc": {
   "base_numbering": 1,
   "nav_menu": {},
   "number_sections": true,
   "sideBar": true,
   "skip_h1_title": false,
   "title_cell": "Table of Contents",
   "title_sidebar": "Contents",
   "toc_cell": true,
   "toc_position": {
    "height": "calc(100% - 180px)",
    "left": "10px",
    "top": "150px",
    "width": "205.333px"
   },
   "toc_section_display": true,
   "toc_window_display": true
  },
  "varInspector": {
   "cols": {
    "lenName": 16,
    "lenType": 16,
    "lenVar": 40
   },
   "kernels_config": {
    "python": {
     "delete_cmd_postfix": "",
     "delete_cmd_prefix": "del ",
     "library": "var_list.py",
     "varRefreshCmd": "print(var_dic_list())"
    },
    "r": {
     "delete_cmd_postfix": ") ",
     "delete_cmd_prefix": "rm(",
     "library": "var_list.r",
     "varRefreshCmd": "cat(var_dic_list()) "
    }
   },
   "types_to_exclude": [
    "module",
    "function",
    "builtin_function_or_method",
    "instance",
    "_Feature"
   ],
   "window_display": false
  }
 },
 "nbformat": 4,
 "nbformat_minor": 2
}
