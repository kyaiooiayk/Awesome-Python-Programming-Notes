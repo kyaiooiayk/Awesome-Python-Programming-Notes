{
 "cells": [
  {
   "cell_type": "markdown",
   "metadata": {
    "toc": true
   },
   "source": [
    "<h1>Table of Contents<span class=\"tocSkip\"></span></h1>\n",
    "<div class=\"toc\"><ul class=\"toc-item\"><li><span><a href=\"#Introduction\" data-toc-modified-id=\"Introduction-1\"><span class=\"toc-item-num\">1&nbsp;&nbsp;</span>Introduction</a></span></li><li><span><a href=\"#Minimal-class-design\" data-toc-modified-id=\"Minimal-class-design-2\"><span class=\"toc-item-num\">2&nbsp;&nbsp;</span>Minimal class design</a></span></li><li><span><a href=\"#Defining-a-class\" data-toc-modified-id=\"Defining-a-class-3\"><span class=\"toc-item-num\">3&nbsp;&nbsp;</span>Defining a class</a></span></li><li><span><a href=\"#Dynamic-attributes\" data-toc-modified-id=\"Dynamic-attributes-4\"><span class=\"toc-item-num\">4&nbsp;&nbsp;</span>Dynamic attributes</a></span></li><li><span><a href=\"#References\" data-toc-modified-id=\"References-5\"><span class=\"toc-item-num\">5&nbsp;&nbsp;</span>References</a></span></li><li><span><a href=\"#Requirements\" data-toc-modified-id=\"Requirements-6\"><span class=\"toc-item-num\">6&nbsp;&nbsp;</span>Requirements</a></span></li></ul></div>"
   ]
  },
  {
   "cell_type": "markdown",
   "metadata": {},
   "source": [
    "# Introduction\n",
    "<hr style = \"border:2px solid black\" ></hr>"
   ]
  },
  {
   "cell_type": "markdown",
   "metadata": {},
   "source": [
    "<div class=\"alert alert-block alert-warning\">\n",
    "<font color=black>\n",
    "\n",
    "**What?** Class construction\n",
    "\n",
    "</font>\n",
    "</div>"
   ]
  },
  {
   "cell_type": "markdown",
   "metadata": {},
   "source": [
    "# Minimal class design\n",
    "<hr style = \"border:2px solid black\" ></hr>"
   ]
  },
  {
   "cell_type": "code",
   "execution_count": 1,
   "metadata": {
    "ExecuteTime": {
     "end_time": "2022-10-11T06:04:03.609659Z",
     "start_time": "2022-10-11T06:04:03.605846Z"
    }
   },
   "outputs": [
    {
     "name": "stdout",
     "output_type": "stream",
     "text": [
      "True\n",
      "False\n"
     ]
    }
   ],
   "source": [
    "class Robot:\n",
    "    pass\n",
    "\n",
    "\n",
    "x = Robot()\n",
    "y = Robot()\n",
    "y2 = y\n",
    "print(y == y2)\n",
    "print(y == x)"
   ]
  },
  {
   "cell_type": "markdown",
   "metadata": {},
   "source": [
    "# Defining a class\n",
    "<hr style = \"border:2px solid black\" ></hr>"
   ]
  },
  {
   "cell_type": "markdown",
   "metadata": {},
   "source": [
    "<div class=\"alert alert-block alert-info\">\n",
    "<font color=black>\n",
    "\n",
    "- A class is like a **blueprint** for creating an object.\n",
    "- By creating a class you render your code more manageable and more maintainable.\n",
    "- While the class is the blueprint, an **instance** is an object that is built from a class and **contains real data**.\n",
    "- Put another way, a class is like a form or questionnaire. An instance is like a form that has been filled out with information.\n",
    "\n",
    "\n",
    "- You can give `.__init__()` any number of parameters, but the first parameter will always be a variable called self. \n",
    "- When a new class instance is created, the instance is automatically passed to the `self` parameter in .__init__() so that new attributes can be defined on the object.\n",
    "\n",
    "\n",
    "- Attributes created in .__init__() are called **instance attributes**.\n",
    "- Attributes created outside .__init__() are called **class attributes**.\n",
    "- Use class attributes to define properties that should have the same value for every class instance. Use instance attributes for properties that vary from one instance to another.\n",
    "\n",
    "</font>\n",
    "</div>"
   ]
  },
  {
   "cell_type": "code",
   "execution_count": 1,
   "metadata": {
    "ExecuteTime": {
     "end_time": "2022-09-27T12:40:53.646059Z",
     "start_time": "2022-09-27T12:40:53.642249Z"
    }
   },
   "outputs": [],
   "source": [
    "class Dog:\n",
    "    # Class attribute\n",
    "    species = \"Canis familiaris\"\n",
    "\n",
    "    def __init__(self, name, age):\n",
    "        # Creates an instance attribute called name and assigns to it the value of the name parameter.\n",
    "        self.name = name\n",
    "        # Creates an instance attribute called age and assigns to it the value of the age parameter.\n",
    "        self.age = age\n",
    "\n",
    "    # Instance method\n",
    "    def __str__(self):\n",
    "        return f\"{self.name} is {self.age} years old\""
   ]
  },
  {
   "cell_type": "markdown",
   "metadata": {},
   "source": [
    "<div class=\"alert alert-block alert-info\">\n",
    "<font color=black>\n",
    "\n",
    "- Creating a new object from a class is called **instantiating** an object.\n",
    "- This funny-looking string of letters and numbers is a memory address that indicates where the Dog object is stored in your computer’s memory\n",
    "\n",
    "</font>\n",
    "</div>"
   ]
  },
  {
   "cell_type": "code",
   "execution_count": 2,
   "metadata": {
    "ExecuteTime": {
     "end_time": "2022-09-27T12:40:53.659347Z",
     "start_time": "2022-09-27T12:40:53.648247Z"
    }
   },
   "outputs": [
    {
     "data": {
      "text/plain": [
       "<__main__.Dog at 0x7f7cf7aef0d0>"
      ]
     },
     "execution_count": 2,
     "metadata": {},
     "output_type": "execute_result"
    }
   ],
   "source": [
    "Dog(\"Pingo\", 3)"
   ]
  },
  {
   "cell_type": "code",
   "execution_count": 3,
   "metadata": {
    "ExecuteTime": {
     "end_time": "2022-09-27T12:40:53.666417Z",
     "start_time": "2022-09-27T12:40:53.662620Z"
    }
   },
   "outputs": [
    {
     "data": {
      "text/plain": [
       "False"
      ]
     },
     "execution_count": 3,
     "metadata": {},
     "output_type": "execute_result"
    }
   ],
   "source": [
    "a = Dog(\"Pingo\", 3)\n",
    "b = Dog(\"Pingo\", 3)\n",
    "# This returns falso because the two object are different meaning stored at two difference place even if we\n",
    "# instantiated them with the same parameters.\n",
    "a == b"
   ]
  },
  {
   "cell_type": "code",
   "execution_count": 4,
   "metadata": {
    "ExecuteTime": {
     "end_time": "2022-09-27T12:40:53.670833Z",
     "start_time": "2022-09-27T12:40:53.668217Z"
    }
   },
   "outputs": [],
   "source": [
    "Pingo = Dog(\"Pingo\", 3)"
   ]
  },
  {
   "cell_type": "code",
   "execution_count": 5,
   "metadata": {
    "ExecuteTime": {
     "end_time": "2022-09-27T12:40:53.676858Z",
     "start_time": "2022-09-27T12:40:53.672945Z"
    },
    "scrolled": true
   },
   "outputs": [
    {
     "data": {
      "text/plain": [
       "['__class__',\n",
       " '__delattr__',\n",
       " '__dict__',\n",
       " '__dir__',\n",
       " '__doc__',\n",
       " '__eq__',\n",
       " '__format__',\n",
       " '__ge__',\n",
       " '__getattribute__',\n",
       " '__gt__',\n",
       " '__hash__',\n",
       " '__init__',\n",
       " '__init_subclass__',\n",
       " '__le__',\n",
       " '__lt__',\n",
       " '__module__',\n",
       " '__ne__',\n",
       " '__new__',\n",
       " '__reduce__',\n",
       " '__reduce_ex__',\n",
       " '__repr__',\n",
       " '__setattr__',\n",
       " '__sizeof__',\n",
       " '__str__',\n",
       " '__subclasshook__',\n",
       " '__weakref__',\n",
       " 'age',\n",
       " 'name',\n",
       " 'species']"
      ]
     },
     "execution_count": 5,
     "metadata": {},
     "output_type": "execute_result"
    }
   ],
   "source": [
    "dir(Pingo)"
   ]
  },
  {
   "cell_type": "code",
   "execution_count": 6,
   "metadata": {
    "ExecuteTime": {
     "end_time": "2022-09-27T12:40:53.681962Z",
     "start_time": "2022-09-27T12:40:53.678862Z"
    }
   },
   "outputs": [
    {
     "name": "stdout",
     "output_type": "stream",
     "text": [
      "Pingo\n",
      "3\n",
      "Canis familiaris\n"
     ]
    }
   ],
   "source": [
    "print(Pingo.name)\n",
    "print(Pingo.age)\n",
    "print(Pingo.species)"
   ]
  },
  {
   "cell_type": "markdown",
   "metadata": {},
   "source": [
    "<div class=\"alert alert-block alert-info\">\n",
    "<font color=black>\n",
    "\n",
    "- Although the attributes are guaranteed to exist, their values can be changed **dynamically**.\n",
    "\n",
    "</font>\n",
    "</div>"
   ]
  },
  {
   "cell_type": "code",
   "execution_count": 7,
   "metadata": {
    "ExecuteTime": {
     "end_time": "2022-09-27T12:40:53.687029Z",
     "start_time": "2022-09-27T12:40:53.684163Z"
    }
   },
   "outputs": [
    {
     "name": "stdout",
     "output_type": "stream",
     "text": [
      "8\n"
     ]
    }
   ],
   "source": [
    "Pingo.age = 8\n",
    "print(Pingo.age)"
   ]
  },
  {
   "cell_type": "markdown",
   "metadata": {},
   "source": [
    "<div class=\"alert alert-block alert-info\">\n",
    "<font color=black>\n",
    "\n",
    "- You can decided what gets printed by defining a special instance method called `.__str__()`. \n",
    "- This message is called directly by the function `print`.\n",
    "- So instead of getting a strangle looking memory address we get a nice string.\n",
    "- **Dunder** methods because they begin and end with double underscores. There are many dunder methods that you can use to customize classes in Python. \n",
    "\n",
    "</font>\n",
    "</div>"
   ]
  },
  {
   "cell_type": "code",
   "execution_count": 8,
   "metadata": {
    "ExecuteTime": {
     "end_time": "2022-09-27T12:40:53.692067Z",
     "start_time": "2022-09-27T12:40:53.689190Z"
    }
   },
   "outputs": [
    {
     "name": "stdout",
     "output_type": "stream",
     "text": [
      "<bound method Dog.__str__ of <__main__.Dog object at 0x7f7cf7aef2b0>>\n",
      "Pingo is 8 years old\n"
     ]
    }
   ],
   "source": [
    "# Look what happens if we do not use paranthesis\n",
    "print(Pingo.__str__)\n",
    "print(Pingo.__str__())"
   ]
  },
  {
   "cell_type": "code",
   "execution_count": 9,
   "metadata": {
    "ExecuteTime": {
     "end_time": "2022-09-27T12:40:53.701066Z",
     "start_time": "2022-09-27T12:40:53.697933Z"
    }
   },
   "outputs": [
    {
     "name": "stdout",
     "output_type": "stream",
     "text": [
      "Pingo is 8 years old\n"
     ]
    }
   ],
   "source": [
    "print(Pingo)"
   ]
  },
  {
   "cell_type": "markdown",
   "metadata": {},
   "source": [
    "# Dynamic attributes\n",
    "<hr style = \"border:2px solid black\" ></hr>"
   ]
  },
  {
   "cell_type": "markdown",
   "metadata": {},
   "source": [
    "<div class=\"alert alert-info\">\n",
    "<font color=black>\n",
    "\n",
    "- As you'll learn in python many things are possible but generally there is only one best pythonic way  of doing it. This is also true for attributes.\n",
    "- Attributes can be created in two ways:\n",
    "    \n",
    "    - Attributes are created inside a class definition via dunder method `__init__` and this is the pythonic way of doing it. This will also take the name object attribute as they come from a formal object created via a class instantiation.\n",
    "    - However, attribute can also be created dynamically for existing instances of a class. We do this by joining an arbitrary name to the instance name, separated by a dot `.`. This is not the way to properly create instance. Hence, it is possible to assign attributes to most class instances, but this has nothing to do with defining classes.  attributes. \n",
    "    \n",
    "</font>\n",
    "</div>\n"
   ]
  },
  {
   "cell_type": "code",
   "execution_count": 4,
   "metadata": {
    "ExecuteTime": {
     "end_time": "2022-10-11T06:15:56.400806Z",
     "start_time": "2022-10-11T06:15:56.396406Z"
    }
   },
   "outputs": [
    {
     "name": "stdout",
     "output_type": "stream",
     "text": [
      "Pingo\n",
      "{'name': 'Pingo'}\n"
     ]
    }
   ],
   "source": [
    "class Dog:\n",
    "    # Class attribute\n",
    "    species = \"Canis familiaris\"\n",
    "\n",
    "    def __init__(self, name):\n",
    "        # Creates an instance attribute called name and assigns to it the value of the name parameter.\n",
    "        self.name = name\n",
    "\n",
    "# Instantiate class\n",
    "a = Dog(\"Pingo\")\n",
    "# Get object attribute\n",
    "print(a.name)\n",
    "print(a.__dict__)"
   ]
  },
  {
   "cell_type": "code",
   "execution_count": 5,
   "metadata": {
    "ExecuteTime": {
     "end_time": "2022-10-11T06:16:17.830954Z",
     "start_time": "2022-10-11T06:16:17.827241Z"
    }
   },
   "outputs": [
    {
     "name": "stdout",
     "output_type": "stream",
     "text": [
      "Pingo\n",
      "{'name': 'Pingo'}\n"
     ]
    }
   ],
   "source": [
    "class Dog:\n",
    "    pass\n",
    "\n",
    "# Instantiate class\n",
    "a.name = \"Pingo\"\n",
    "# Get object attribute\n",
    "print(a.name)\n",
    "print(a.__dict__)"
   ]
  },
  {
   "cell_type": "markdown",
   "metadata": {},
   "source": [
    "# References\n",
    "<hr style = \"border:2px solid black\" ></hr>"
   ]
  },
  {
   "cell_type": "markdown",
   "metadata": {},
   "source": [
    "<div class=\"alert alert-block alert-warning\">\n",
    "<font color=black>\n",
    "\n",
    "- https://realpython.com/python3-object-oriented-programming/\n",
    "- https://github.com/yhilpisch/py4fi2nd/blob/master/code/ch06/06_object_orientation.ipynb\n",
    "- Hilpisch, Yves. Python for finance: mastering data-driven finance. O'Reilly Media, 2018.\n",
    "- [Object-Oriented Programming in Python](https://python-textbok.readthedocs.io/en/1.0/)\n",
    "\n",
    "</font>\n",
    "</div>"
   ]
  },
  {
   "cell_type": "markdown",
   "metadata": {},
   "source": [
    "# Requirements\n",
    "<hr style = \"border:2px solid black\" ></hr>"
   ]
  },
  {
   "cell_type": "code",
   "execution_count": 20,
   "metadata": {
    "ExecuteTime": {
     "end_time": "2022-09-27T12:40:53.788112Z",
     "start_time": "2022-09-27T12:40:53.759358Z"
    }
   },
   "outputs": [
    {
     "name": "stdout",
     "output_type": "stream",
     "text": [
      "Python implementation: CPython\n",
      "Python version       : 3.9.7\n",
      "IPython version      : 7.29.0\n",
      "\n",
      "autopep8: 1.6.0\n",
      "json    : 2.0.9\n",
      "\n"
     ]
    }
   ],
   "source": [
    "%load_ext watermark\n",
    "%watermark -v -iv"
   ]
  }
 ],
 "metadata": {
  "kernelspec": {
   "display_name": "trainingAI",
   "language": "python",
   "name": "trainingai"
  },
  "language_info": {
   "codemirror_mode": {
    "name": "ipython",
    "version": 3
   },
   "file_extension": ".py",
   "mimetype": "text/x-python",
   "name": "python",
   "nbconvert_exporter": "python",
   "pygments_lexer": "ipython3",
   "version": "3.9.7"
  },
  "toc": {
   "base_numbering": 1,
   "nav_menu": {},
   "number_sections": true,
   "sideBar": true,
   "skip_h1_title": false,
   "title_cell": "Table of Contents",
   "title_sidebar": "Contents",
   "toc_cell": true,
   "toc_position": {},
   "toc_section_display": true,
   "toc_window_display": true
  },
  "varInspector": {
   "cols": {
    "lenName": 16,
    "lenType": 16,
    "lenVar": 40
   },
   "kernels_config": {
    "python": {
     "delete_cmd_postfix": "",
     "delete_cmd_prefix": "del ",
     "library": "var_list.py",
     "varRefreshCmd": "print(var_dic_list())"
    },
    "r": {
     "delete_cmd_postfix": ") ",
     "delete_cmd_prefix": "rm(",
     "library": "var_list.r",
     "varRefreshCmd": "cat(var_dic_list()) "
    }
   },
   "types_to_exclude": [
    "module",
    "function",
    "builtin_function_or_method",
    "instance",
    "_Feature"
   ],
   "window_display": false
  }
 },
 "nbformat": 4,
 "nbformat_minor": 2
}
