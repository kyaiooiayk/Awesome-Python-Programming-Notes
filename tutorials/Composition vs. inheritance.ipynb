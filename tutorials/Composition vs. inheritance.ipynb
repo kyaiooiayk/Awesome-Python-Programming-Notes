{
 "cells": [
  {
   "cell_type": "markdown",
   "metadata": {
    "toc": true
   },
   "source": [
    "<h1>Table of Contents<span class=\"tocSkip\"></span></h1>\n",
    "<div class=\"toc\"><ul class=\"toc-item\"><li><span><a href=\"#Introduction\" data-toc-modified-id=\"Introduction-1\"><span class=\"toc-item-num\">1&nbsp;&nbsp;</span>Introduction</a></span></li><li><span><a href=\"#Composition-vs.-inheritance\" data-toc-modified-id=\"Composition-vs.-inheritance-2\"><span class=\"toc-item-num\">2&nbsp;&nbsp;</span>Composition vs. inheritance</a></span></li><li><span><a href=\"#When-to-use-inheritance\" data-toc-modified-id=\"When-to-use-inheritance-3\"><span class=\"toc-item-num\">3&nbsp;&nbsp;</span>When to use inheritance</a></span></li><li><span><a href=\"#Composition\" data-toc-modified-id=\"Composition-4\"><span class=\"toc-item-num\">4&nbsp;&nbsp;</span>Composition</a></span></li><li><span><a href=\"#Composition-and-investion-of-control\" data-toc-modified-id=\"Composition-and-investion-of-control-5\"><span class=\"toc-item-num\">5&nbsp;&nbsp;</span>Composition and investion of control</a></span></li><li><span><a href=\"#Conclusions\" data-toc-modified-id=\"Conclusions-6\"><span class=\"toc-item-num\">6&nbsp;&nbsp;</span>Conclusions</a></span></li><li><span><a href=\"#References\" data-toc-modified-id=\"References-7\"><span class=\"toc-item-num\">7&nbsp;&nbsp;</span>References</a></span></li></ul></div>"
   ]
  },
  {
   "cell_type": "markdown",
   "metadata": {},
   "source": [
    "# Introduction\n",
    "<hr style = \"border:2px solid black\" ></hr>"
   ]
  },
  {
   "cell_type": "markdown",
   "metadata": {},
   "source": [
    "<div class=\"alert alert-warning\">\n",
    "<font color=black>\n",
    "\n",
    "**What?** Composition vs. inheritance\n",
    "\n",
    "</font>\n",
    "</div>"
   ]
  },
  {
   "cell_type": "markdown",
   "metadata": {},
   "source": [
    "# Composition vs. inheritance\n",
    "<hr style = \"border:2px solid black\" ></hr>"
   ]
  },
  {
   "cell_type": "markdown",
   "metadata": {},
   "source": [
    "<div class=\"alert alert-info\">\n",
    "<font color=black>\n",
    "\n",
    "- Inheritance must be used when you need to **specialise** the behavior of a class, this means that you should not use inheritance **just to reuse** your code. In this paradign, any subclass is a special case of its superclass. Its paradigm follows the **is-an** pattern.\n",
    "- Composition is pretty much everythig else! Here, instead of having an **is-an** relationship we have an **has-a** one.\n",
    "    \n",
    "</font>\n",
    "</div>"
   ]
  },
  {
   "cell_type": "markdown",
   "metadata": {},
   "source": [
    "# When to use inheritance\n",
    "<hr style = \"border:2px solid black\" ></hr>"
   ]
  },
  {
   "cell_type": "markdown",
   "metadata": {},
   "source": [
    "<div class=\"alert alert-info\">\n",
    "<font color=black>\n",
    "    \n",
    "- The key point here is that a Bird (hence a special case) is an Animal and that is the relationship your classes must have in order to use inheritance. Another example could be Person and Employee, Vehicle and Car, etc.\n",
    "\n",
    "- To generalize: when a class B inherits from a class A, we often say B **is-an** A. This means that instances of B are in fact instances of A.\n",
    "\n",
    "</font>\n",
    "</div>"
   ]
  },
  {
   "cell_type": "code",
   "execution_count": 2,
   "metadata": {
    "ExecuteTime": {
     "end_time": "2022-11-19T13:10:21.869712Z",
     "start_time": "2022-11-19T13:10:21.866337Z"
    }
   },
   "outputs": [],
   "source": [
    "class Animal:\n",
    "    \"\"\"This is the class describing an abstraction of \n",
    "    what an animal is and does.\n",
    "\n",
    "    The rationale is that, every that goes is is shared\n",
    "    by the all the animal.\n",
    "    \"\"\"\n",
    "\n",
    "    def eat(self):\n",
    "        print(\"This animal eats!\")\n",
    "\n",
    "    def sleep(self):\n",
    "        print(\"This animal eats\")\n",
    "\n",
    "\n",
    "class Bird(Animal):\n",
    "    \"\"\"This is the class describing a special type of animal.\n",
    "\n",
    "    What is common to animal is inhertated from the Animal class.\n",
    "    Wgat is special to birds is defined here by a method.\n",
    "    \"\"\"\n",
    "\n",
    "    def fly(self):\n",
    "        print(\"This animal is a bird and it can fly!\")\n",
    "\n",
    "    def sing(self):\n",
    "        print(\"This animal is a bid and it can sing!\")"
   ]
  },
  {
   "cell_type": "code",
   "execution_count": 10,
   "metadata": {
    "ExecuteTime": {
     "end_time": "2022-11-19T13:11:27.284976Z",
     "start_time": "2022-11-19T13:11:27.282532Z"
    }
   },
   "outputs": [],
   "source": [
    "bird_one = Bird()"
   ]
  },
  {
   "cell_type": "code",
   "execution_count": 12,
   "metadata": {
    "ExecuteTime": {
     "end_time": "2022-11-19T13:11:30.347831Z",
     "start_time": "2022-11-19T13:11:30.343641Z"
    },
    "scrolled": true
   },
   "outputs": [
    {
     "data": {
      "text/plain": [
       "['__class__',\n",
       " '__delattr__',\n",
       " '__dict__',\n",
       " '__dir__',\n",
       " '__doc__',\n",
       " '__eq__',\n",
       " '__format__',\n",
       " '__ge__',\n",
       " '__getattribute__',\n",
       " '__gt__',\n",
       " '__hash__',\n",
       " '__init__',\n",
       " '__init_subclass__',\n",
       " '__le__',\n",
       " '__lt__',\n",
       " '__module__',\n",
       " '__ne__',\n",
       " '__new__',\n",
       " '__reduce__',\n",
       " '__reduce_ex__',\n",
       " '__repr__',\n",
       " '__setattr__',\n",
       " '__sizeof__',\n",
       " '__str__',\n",
       " '__subclasshook__',\n",
       " '__weakref__',\n",
       " 'eat',\n",
       " 'fly',\n",
       " 'sing',\n",
       " 'sleep']"
      ]
     },
     "execution_count": 12,
     "metadata": {},
     "output_type": "execute_result"
    }
   ],
   "source": [
    "dir(bird_one)"
   ]
  },
  {
   "cell_type": "code",
   "execution_count": 15,
   "metadata": {
    "ExecuteTime": {
     "end_time": "2022-11-19T13:11:54.047379Z",
     "start_time": "2022-11-19T13:11:54.044563Z"
    }
   },
   "outputs": [
    {
     "name": "stdout",
     "output_type": "stream",
     "text": [
      "This animal eats!\n"
     ]
    }
   ],
   "source": [
    "bird_one.eat()"
   ]
  },
  {
   "cell_type": "code",
   "execution_count": 17,
   "metadata": {
    "ExecuteTime": {
     "end_time": "2022-11-19T13:12:04.944237Z",
     "start_time": "2022-11-19T13:12:04.941494Z"
    }
   },
   "outputs": [
    {
     "name": "stdout",
     "output_type": "stream",
     "text": [
      "This animal eats\n"
     ]
    }
   ],
   "source": [
    "bird_one.sleep()"
   ]
  },
  {
   "cell_type": "code",
   "execution_count": 18,
   "metadata": {
    "ExecuteTime": {
     "end_time": "2022-11-19T13:12:15.142934Z",
     "start_time": "2022-11-19T13:12:15.140356Z"
    }
   },
   "outputs": [
    {
     "name": "stdout",
     "output_type": "stream",
     "text": [
      "This animal is a bird and it can fly!\n"
     ]
    }
   ],
   "source": [
    "bird_one.fly()"
   ]
  },
  {
   "cell_type": "code",
   "execution_count": 19,
   "metadata": {
    "ExecuteTime": {
     "end_time": "2022-11-19T13:12:20.884560Z",
     "start_time": "2022-11-19T13:12:20.881660Z"
    }
   },
   "outputs": [
    {
     "name": "stdout",
     "output_type": "stream",
     "text": [
      "This animal is a bid and it can sing!\n"
     ]
    }
   ],
   "source": [
    "bird_one.sing()"
   ]
  },
  {
   "cell_type": "markdown",
   "metadata": {},
   "source": [
    "<div class=\"alert alert-info\">\n",
    "<font color=black>\n",
    "\n",
    "- While using multiple inheritance (not shown here) keep in mind of what is called method resolution order (MRO).\n",
    "-vMRO is based on **C3**, which was the MRO of the Dylan programming language, and it consists of a linearization process. MRO is based on a recursive call over the base classes, looking up each parent class to create a sequence of lists, removing duplicates and conserving the order. Once this sequence of lists is created it computes a left-to-right rule to merge them all.\n",
    "\n",
    "</font>\n",
    "</div>"
   ]
  },
  {
   "cell_type": "code",
   "execution_count": 22,
   "metadata": {
    "ExecuteTime": {
     "end_time": "2022-11-19T13:41:59.992129Z",
     "start_time": "2022-11-19T13:41:59.988672Z"
    }
   },
   "outputs": [
    {
     "data": {
      "text/plain": [
       "(__main__.Bird, __main__.Animal, object)"
      ]
     },
     "execution_count": 22,
     "metadata": {},
     "output_type": "execute_result"
    }
   ],
   "source": [
    "Bird.__mro__"
   ]
  },
  {
   "cell_type": "markdown",
   "metadata": {},
   "source": [
    "# Composition\n",
    "<hr style = \"border:2px solid black\" ></hr>"
   ]
  },
  {
   "cell_type": "markdown",
   "metadata": {},
   "source": [
    "<div class=\"alert alert-info\">\n",
    "<font color=black>\n",
    "\n",
    "- Let’s suppose that we have two classes: Car and Tire.\n",
    "- We can quickly check which one is best btw composition or inheritance by asking the following two questions:\n",
    "    - [x] A car has a tyre -> there is **has-a** relationship, hence use composition.\n",
    "    - [ ] A car is a tyre -> there isn’t any **is-an** relationship, hence do use inheritance\n",
    "\n",
    "</font>\n",
    "</div>"
   ]
  },
  {
   "cell_type": "code",
   "execution_count": 43,
   "metadata": {
    "ExecuteTime": {
     "end_time": "2022-11-19T13:55:50.894830Z",
     "start_time": "2022-11-19T13:55:50.891777Z"
    }
   },
   "outputs": [],
   "source": [
    "class Car:\n",
    "    def __init__(self, tyre_type):\n",
    "        self.wheels_no = 4\n",
    "        self.tyre = Tyre(tyre_type)\n",
    "        \n",
    "class Tyre():\n",
    "    def __init__(self, tyre_type):\n",
    "        self.tyre_type = tyre_type"
   ]
  },
  {
   "cell_type": "code",
   "execution_count": 45,
   "metadata": {
    "ExecuteTime": {
     "end_time": "2022-11-19T13:55:58.717978Z",
     "start_time": "2022-11-19T13:55:58.715470Z"
    }
   },
   "outputs": [],
   "source": [
    "car_1 = Car(\"goodyear\")"
   ]
  },
  {
   "cell_type": "code",
   "execution_count": 47,
   "metadata": {
    "ExecuteTime": {
     "end_time": "2022-11-19T13:56:08.329844Z",
     "start_time": "2022-11-19T13:56:08.326424Z"
    }
   },
   "outputs": [
    {
     "data": {
      "text/plain": [
       "'goodyear'"
      ]
     },
     "execution_count": 47,
     "metadata": {},
     "output_type": "execute_result"
    }
   ],
   "source": [
    "car_1.tyre.tyre_type"
   ]
  },
  {
   "cell_type": "code",
   "execution_count": 48,
   "metadata": {
    "ExecuteTime": {
     "end_time": "2022-11-19T13:56:15.797232Z",
     "start_time": "2022-11-19T13:56:15.793788Z"
    }
   },
   "outputs": [
    {
     "data": {
      "text/plain": [
       "4"
      ]
     },
     "execution_count": 48,
     "metadata": {},
     "output_type": "execute_result"
    }
   ],
   "source": [
    "car_1.wheels_no"
   ]
  },
  {
   "cell_type": "markdown",
   "metadata": {},
   "source": [
    "# Composition and investion of control\n",
    "<hr style = \"border:2px solid black\" ></hr>"
   ]
  },
  {
   "cell_type": "markdown",
   "metadata": {},
   "source": [
    "<div class=\"alert alert-info\">\n",
    "<font color=black>\n",
    "\n",
    "- Let’s suppose that we have two classes: Salary and Employee.\n",
    "- We can quickly check which one is best btw composition or inheritance by asking the following two questions:\n",
    "    - [x] An employee has a salary -> there is **has-a** relationship, hence use composition.\n",
    "    - [ ] An employee is a tyre -> there isn’t any **is-an** relationship, hence do use inheritance\n",
    "\n",
    "</font>\n",
    "</div>"
   ]
  },
  {
   "attachments": {
    "image.png": {
     "image/png": "[encoded data removed]"
    }
   },
   "cell_type": "markdown",
   "metadata": {},
   "source": [
    "![image.png](attachment:image.png)"
   ]
  },
  {
   "cell_type": "code",
   "execution_count": 49,
   "metadata": {
    "ExecuteTime": {
     "end_time": "2022-11-19T14:07:57.895321Z",
     "start_time": "2022-11-19T14:07:57.892142Z"
    }
   },
   "outputs": [],
   "source": [
    "class Salary:\n",
    "    def __init__(self):\n",
    "        self.amount = 100\n",
    "class Employee:\n",
    "    def __init__(self):\n",
    "        self.name = \"Mark\" \n",
    "        self.salary = Salary()"
   ]
  },
  {
   "cell_type": "code",
   "execution_count": 53,
   "metadata": {
    "ExecuteTime": {
     "end_time": "2022-11-19T14:08:48.172801Z",
     "start_time": "2022-11-19T14:08:48.169282Z"
    }
   },
   "outputs": [
    {
     "name": "stdout",
     "output_type": "stream",
     "text": [
      "Mark\n",
      "100\n"
     ]
    }
   ],
   "source": [
    "employee_1 = Employee()\n",
    "print(employee_1.name)\n",
    "print(employee_1.salary.amount)"
   ]
  },
  {
   "cell_type": "markdown",
   "metadata": {},
   "source": [
    "<div class=\"alert alert-info\">\n",
    "<font color=black>\n",
    "\n",
    "- If we pay attention to this implementation we will see some coupling between classes.\n",
    "- In fact, if we would like to replace Salary with another class we will also need to change the Employee class, so a good advice is to combine composition with **inversion of control**.\n",
    "\n",
    "</font>\n",
    "</div>"
   ]
  },
  {
   "cell_type": "code",
   "execution_count": 54,
   "metadata": {
    "ExecuteTime": {
     "end_time": "2022-11-19T14:12:01.671234Z",
     "start_time": "2022-11-19T14:12:01.668142Z"
    }
   },
   "outputs": [],
   "source": [
    "class Salary:\n",
    "    def __init__(self):\n",
    "        self.amount = 100\n",
    "class Employee:\n",
    "    def __init__(self, salary):\n",
    "        self.name = \"Mark\" \n",
    "        self.salary = salary"
   ]
  },
  {
   "cell_type": "code",
   "execution_count": 55,
   "metadata": {
    "ExecuteTime": {
     "end_time": "2022-11-19T14:12:15.453289Z",
     "start_time": "2022-11-19T14:12:15.449947Z"
    }
   },
   "outputs": [
    {
     "name": "stdout",
     "output_type": "stream",
     "text": [
      "Mark\n",
      "100\n"
     ]
    }
   ],
   "source": [
    "employee_1 = Employee(salary=Salary())\n",
    "print(employee_1.name)\n",
    "print(employee_1.salary.amount)"
   ]
  },
  {
   "cell_type": "markdown",
   "metadata": {},
   "source": [
    "# Conclusions\n",
    "<hr style = \"border:2px solid black\" ></hr>"
   ]
  },
  {
   "cell_type": "markdown",
   "metadata": {},
   "source": [
    "<div class=\"alert alert-danger\">\n",
    "<font color=black>\n",
    "\n",
    "- Inheritance and composition are quite different concepts and they respond to different relationship between classes.\n",
    "- If classes have a **is-a relationship** then inheritance is the right choice, if they have a **has-a relationship** then it’s a composition.\n",
    "- Even if inheritance is the right choice you will still be coupling classes together, for that reason composition often produces more flexible designs, and it’s even better when combined with other patterns like inversion of control to decouple the classes.\n",
    "\n",
    "</font>\n",
    "</div>"
   ]
  },
  {
   "cell_type": "markdown",
   "metadata": {},
   "source": [
    "# References\n",
    "<hr style = \"border:2px solid black\" ></hr>"
   ]
  },
  {
   "cell_type": "markdown",
   "metadata": {},
   "source": [
    "<div class=\"alert alert-warning\">\n",
    "<font color=black>\n",
    "\n",
    "- https://python-patterns.guide/gang-of-four/composition-over-inheritance/\n",
    "- https://medium.com/@carbone.nicolas.ariel/inheritance-and-composition-in-python-f84dfeffefb7\n",
    "\n",
    "</font>\n",
    "</div>"
   ]
  },
  {
   "cell_type": "code",
   "execution_count": null,
   "metadata": {},
   "outputs": [],
   "source": []
  }
 ],
 "metadata": {
  "kernelspec": {
   "display_name": "Python 3 (ipykernel)",
   "language": "python",
   "name": "python3"
  },
  "language_info": {
   "codemirror_mode": {
    "name": "ipython",
    "version": 3
   },
   "file_extension": ".py",
   "mimetype": "text/x-python",
   "name": "python",
   "nbconvert_exporter": "python",
   "pygments_lexer": "ipython3",
   "version": "3.9.7"
  },
  "toc": {
   "base_numbering": 1,
   "nav_menu": {
    "height": "169px",
    "width": "252px"
   },
   "number_sections": true,
   "sideBar": true,
   "skip_h1_title": false,
   "title_cell": "Table of Contents",
   "title_sidebar": "Contents",
   "toc_cell": true,
   "toc_position": {
    "height": "calc(100% - 180px)",
    "left": "10px",
    "top": "150px",
    "width": "253px"
   },
   "toc_section_display": "block",
   "toc_window_display": true
  },
  "varInspector": {
   "cols": {
    "lenName": 16,
    "lenType": 16,
    "lenVar": 40
   },
   "kernels_config": {
    "python": {
     "delete_cmd_postfix": "",
     "delete_cmd_prefix": "del ",
     "library": "var_list.py",
     "varRefreshCmd": "print(var_dic_list())"
    },
    "r": {
     "delete_cmd_postfix": ") ",
     "delete_cmd_prefix": "rm(",
     "library": "var_list.r",
     "varRefreshCmd": "cat(var_dic_list()) "
    }
   },
   "types_to_exclude": [
    "module",
    "function",
    "builtin_function_or_method",
    "instance",
    "_Feature"
   ],
   "window_display": false
  }
 },
 "nbformat": 4,
 "nbformat_minor": 1
}
