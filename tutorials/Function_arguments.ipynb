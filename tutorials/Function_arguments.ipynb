{
 "cells": [
  {
   "cell_type": "markdown",
   "id": "e75a2d3e",
   "metadata": {
    "toc": true
   },
   "source": [
    "<h1>Table of Contents<span class=\"tocSkip\"></span></h1>\n",
    "<div class=\"toc\"><ul class=\"toc-item\"><li><span><a href=\"#Introduction\" data-toc-modified-id=\"Introduction-1\"><span class=\"toc-item-num\">1&nbsp;&nbsp;</span>Introduction</a></span></li><li><span><a href=\"#General-rules\" data-toc-modified-id=\"General-rules-2\"><span class=\"toc-item-num\">2&nbsp;&nbsp;</span>General rules</a></span></li><li><span><a href=\"#Four-options\" data-toc-modified-id=\"Four-options-3\"><span class=\"toc-item-num\">3&nbsp;&nbsp;</span>Four options</a></span><ul class=\"toc-item\"><li><span><a href=\"#Positional-arguments\" data-toc-modified-id=\"Positional-arguments-3.1\"><span class=\"toc-item-num\">3.1&nbsp;&nbsp;</span>Positional arguments</a></span></li><li><span><a href=\"#Mix-positional-and-default-arguments\" data-toc-modified-id=\"Mix-positional-and-default-arguments-3.2\"><span class=\"toc-item-num\">3.2&nbsp;&nbsp;</span>Mix positional and default arguments</a></span></li><li><span><a href=\"#Arbitrary-positional-arguments\" data-toc-modified-id=\"Arbitrary-positional-arguments-3.3\"><span class=\"toc-item-num\">3.3&nbsp;&nbsp;</span>Arbitrary positional arguments</a></span></li><li><span><a href=\"#Arbitrary-keyword-arguments\" data-toc-modified-id=\"Arbitrary-keyword-arguments-3.4\"><span class=\"toc-item-num\">3.4&nbsp;&nbsp;</span>Arbitrary keyword arguments</a></span></li></ul></li><li><span><a href=\"#Using-*-between-arguments\" data-toc-modified-id=\"Using-*-between-arguments-4\"><span class=\"toc-item-num\">4&nbsp;&nbsp;</span>Using <code>*</code> between arguments</a></span><ul class=\"toc-item\"><li><span><a href=\"#Positional-only-parameters\" data-toc-modified-id=\"Positional-only-parameters-4.1\"><span class=\"toc-item-num\">4.1&nbsp;&nbsp;</span>Positional only parameters</a></span></li><li><span><a href=\"#Keyword-only-arguments\" data-toc-modified-id=\"Keyword-only-arguments-4.2\"><span class=\"toc-item-num\">4.2&nbsp;&nbsp;</span>Keyword only arguments</a></span></li><li><span><a href=\"#Mix\" data-toc-modified-id=\"Mix-4.3\"><span class=\"toc-item-num\">4.3&nbsp;&nbsp;</span>Mix</a></span></li></ul></li><li><span><a href=\"#Conclusions\" data-toc-modified-id=\"Conclusions-5\"><span class=\"toc-item-num\">5&nbsp;&nbsp;</span>Conclusions</a></span></li><li><span><a href=\"#References\" data-toc-modified-id=\"References-6\"><span class=\"toc-item-num\">6&nbsp;&nbsp;</span>References</a></span></li></ul></div>"
   ]
  },
  {
   "cell_type": "markdown",
   "id": "50274032",
   "metadata": {},
   "source": [
    "# Introduction\n",
    "<hr style = \"border:2px solid black\" ></hr>"
   ]
  },
  {
   "cell_type": "markdown",
   "id": "30669e98",
   "metadata": {},
   "source": [
    "<div class=\"alert alert-warning\">\n",
    "<font color=black>\n",
    "\n",
    "**What?** Function arguments and all the available options\n",
    "\n",
    "</font>\n",
    "</div>"
   ]
  },
  {
   "cell_type": "markdown",
   "id": "eb78bdef",
   "metadata": {},
   "source": [
    "# General rules\n",
    "<hr style = \"border:2px solid black\" ></hr>"
   ]
  },
  {
   "cell_type": "markdown",
   "id": "f0dd4a53",
   "metadata": {},
   "source": [
    "<div class=\"alert alert-info\">\n",
    "<font color=black>\n",
    "\n",
    "- Default arguments shoudl follow non-default arguments.\n",
    "- Keyword arguments should follow positional arguments.\n",
    "- All the keyword arguments passed must match one of the argumetns accepted by the function and their order is not important.\n",
    "- No argument should receive a value more than once.\n",
    "- Default arguments are optional arguments.\n",
    "    \n",
    "</font>\n",
    "</div>"
   ]
  },
  {
   "cell_type": "markdown",
   "id": "1d5acf5d",
   "metadata": {},
   "source": [
    "# Four options\n",
    "<hr style = \"border:2px solid black\" ></hr>"
   ]
  },
  {
   "cell_type": "markdown",
   "id": "cef85fda",
   "metadata": {},
   "source": [
    "## Positional arguments"
   ]
  },
  {
   "cell_type": "markdown",
   "id": "e97519e6",
   "metadata": {},
   "source": [
    "- With and withouth lambda function"
   ]
  },
  {
   "cell_type": "code",
   "execution_count": 1,
   "id": "69e90a4b",
   "metadata": {
    "ExecuteTime": {
     "end_time": "2022-04-20T14:05:50.375467Z",
     "start_time": "2022-04-20T14:05:50.365820Z"
    },
    "cell_style": "split"
   },
   "outputs": [
    {
     "data": {
      "text/plain": [
       "6"
      ]
     },
     "execution_count": 1,
     "metadata": {},
     "output_type": "execute_result"
    }
   ],
   "source": [
    "(lambda x, y, z: x + y + z)(1, 2, 3)"
   ]
  },
  {
   "cell_type": "code",
   "execution_count": 9,
   "id": "8a160199",
   "metadata": {
    "ExecuteTime": {
     "end_time": "2022-04-20T14:06:51.869819Z",
     "start_time": "2022-04-20T14:06:51.866818Z"
    },
    "cell_style": "split"
   },
   "outputs": [
    {
     "name": "stdout",
     "output_type": "stream",
     "text": [
      "6\n"
     ]
    }
   ],
   "source": [
    "def fun_1(x, y, z):\n",
    "    print(x+y+z)\n",
    "\n",
    "\n",
    "fun_1(1, 2, 3)"
   ]
  },
  {
   "cell_type": "markdown",
   "id": "08feb016",
   "metadata": {},
   "source": [
    "## Mix positional and default arguments"
   ]
  },
  {
   "cell_type": "code",
   "execution_count": 10,
   "id": "620bc3df",
   "metadata": {
    "ExecuteTime": {
     "end_time": "2022-04-20T14:15:47.275954Z",
     "start_time": "2022-04-20T14:15:47.272037Z"
    },
    "cell_style": "split"
   },
   "outputs": [
    {
     "data": {
      "text/plain": [
       "6"
      ]
     },
     "execution_count": 10,
     "metadata": {},
     "output_type": "execute_result"
    }
   ],
   "source": [
    "(lambda x, y, z=3: x + y + z)(1, 2)"
   ]
  },
  {
   "cell_type": "code",
   "execution_count": 12,
   "id": "3b841d77",
   "metadata": {
    "ExecuteTime": {
     "end_time": "2022-04-20T14:16:07.247471Z",
     "start_time": "2022-04-20T14:16:07.244020Z"
    },
    "cell_style": "split"
   },
   "outputs": [
    {
     "name": "stdout",
     "output_type": "stream",
     "text": [
      "6\n",
      "6\n"
     ]
    }
   ],
   "source": [
    "def fun_1(x, y, z=3):\n",
    "    print(x+y+z)\n",
    "\n",
    "\n",
    "fun_1(1, 2, 3)\n",
    "fun_1(1, 2)"
   ]
  },
  {
   "cell_type": "code",
   "execution_count": 3,
   "id": "0a9d028d",
   "metadata": {
    "ExecuteTime": {
     "end_time": "2022-04-20T14:05:51.102281Z",
     "start_time": "2022-04-20T14:05:51.098367Z"
    },
    "cell_style": "split"
   },
   "outputs": [
    {
     "data": {
      "text/plain": [
       "6"
      ]
     },
     "execution_count": 3,
     "metadata": {},
     "output_type": "execute_result"
    }
   ],
   "source": [
    "(lambda x, y, z=3: x + y + z)(1, y=2)"
   ]
  },
  {
   "cell_type": "code",
   "execution_count": 14,
   "id": "a132c29d",
   "metadata": {
    "ExecuteTime": {
     "end_time": "2022-04-20T14:16:51.275956Z",
     "start_time": "2022-04-20T14:16:51.272817Z"
    },
    "cell_style": "split"
   },
   "outputs": [
    {
     "name": "stdout",
     "output_type": "stream",
     "text": [
      "6\n"
     ]
    }
   ],
   "source": [
    "def fun_1(x, y, z=3):\n",
    "    print(x+y+z)\n",
    "\n",
    "\n",
    "fun_1(1, y=2)"
   ]
  },
  {
   "cell_type": "markdown",
   "id": "59409a7a",
   "metadata": {},
   "source": [
    "## Arbitrary positional arguments"
   ]
  },
  {
   "cell_type": "code",
   "execution_count": 4,
   "id": "975d0d4f",
   "metadata": {
    "ExecuteTime": {
     "end_time": "2022-04-20T14:05:51.449887Z",
     "start_time": "2022-04-20T14:05:51.446149Z"
    },
    "cell_style": "split"
   },
   "outputs": [
    {
     "data": {
      "text/plain": [
       "6"
      ]
     },
     "execution_count": 4,
     "metadata": {},
     "output_type": "execute_result"
    }
   ],
   "source": [
    "(lambda *args: sum(args))(1,2,3)"
   ]
  },
  {
   "cell_type": "code",
   "execution_count": 25,
   "id": "af5bc3a3",
   "metadata": {
    "ExecuteTime": {
     "end_time": "2022-04-20T14:19:21.820333Z",
     "start_time": "2022-04-20T14:19:21.817157Z"
    },
    "cell_style": "split"
   },
   "outputs": [
    {
     "name": "stdout",
     "output_type": "stream",
     "text": [
      "6\n"
     ]
    }
   ],
   "source": [
    "def fun_1(*args):\n",
    "    x, y, z = args\n",
    "    print(x+y+z)\n",
    "\n",
    "\n",
    "fun_1(1, 2, 3)"
   ]
  },
  {
   "cell_type": "markdown",
   "id": "80aa4b3d",
   "metadata": {},
   "source": [
    "## Arbitrary keyword arguments"
   ]
  },
  {
   "cell_type": "code",
   "execution_count": 26,
   "id": "8ea44ce2",
   "metadata": {
    "ExecuteTime": {
     "end_time": "2022-04-20T14:19:22.720858Z",
     "start_time": "2022-04-20T14:19:22.716521Z"
    },
    "cell_style": "split"
   },
   "outputs": [
    {
     "data": {
      "text/plain": [
       "6"
      ]
     },
     "execution_count": 26,
     "metadata": {},
     "output_type": "execute_result"
    }
   ],
   "source": [
    "(lambda **kwargs: sum(kwargs.values()))(one=1, two=2, three=3)"
   ]
  },
  {
   "cell_type": "code",
   "execution_count": 45,
   "id": "014ba93f",
   "metadata": {
    "ExecuteTime": {
     "end_time": "2022-04-20T14:31:32.846812Z",
     "start_time": "2022-04-20T14:31:32.843161Z"
    },
    "cell_style": "split"
   },
   "outputs": [
    {
     "name": "stdout",
     "output_type": "stream",
     "text": [
      "6\n",
      "6\n"
     ]
    }
   ],
   "source": [
    "def fun_1(*kwarg):\n",
    "    x, y, z = kwarg\n",
    "    print(x+y+z)\n",
    "\n",
    "\n",
    "fun_1(1, 2, 3)\n",
    "\n",
    "def fun_1(*dummy):\n",
    "    x, y, z = dummy\n",
    "    print(x+y+z)\n",
    "\n",
    "\n",
    "fun_1(1, 2, 3)"
   ]
  },
  {
   "cell_type": "markdown",
   "id": "f79626a2",
   "metadata": {},
   "source": [
    "# Using `*` between arguments\n",
    "<hr style = \"border:2px solid black\" ></hr>"
   ]
  },
  {
   "cell_type": "markdown",
   "id": "c695ce51",
   "metadata": {},
   "source": [
    "<div class=\"alert alert-info\">\n",
    "<font color=black>\n",
    "\n",
    "- By default, arguments may be passed to a Python function either by position or explicitly by keyword. For **readability** and performance, it makes sense to restrict the way arguments can be passed so that a developer need only look at the function definition to determine if items are passed by position, by position or keyword, or by keyword.\n",
    "    \n",
    "- To do so python allows you to use `/` and `*` which are optional. If used, these symbols indicate the kind of parameter by how the arguments may be passed to the function: \n",
    "    - positional-only\n",
    "    - positional-or-keyword\n",
    "    - keyword-only\n",
    "\n",
    "</font>\n",
    "</div>"
   ]
  },
  {
   "cell_type": "markdown",
   "id": "2d7a95f3",
   "metadata": {},
   "source": [
    "## Positional only parameters"
   ]
  },
  {
   "cell_type": "markdown",
   "id": "e84d068e",
   "metadata": {},
   "source": [
    "<div class=\"alert alert-info\">\n",
    "<font color=black>\n",
    "\n",
    "- Positional-only parameters are placed before a `/` (forward-slash) in the function definition. \n",
    "- The `/` is used to logically separate the positional-only parameters from the rest of the parameters. \n",
    "- Parameters following the `/` may be positional-or-keyword or keyword-only.\n",
    "\n",
    "</font>\n",
    "</div>"
   ]
  },
  {
   "cell_type": "code",
   "execution_count": 3,
   "id": "9f6fe23b",
   "metadata": {
    "ExecuteTime": {
     "end_time": "2022-04-22T09:54:26.284873Z",
     "start_time": "2022-04-22T09:54:26.282068Z"
    }
   },
   "outputs": [],
   "source": [
    "def add(a,b,/,c,d):\n",
    "    return a+b+c+d"
   ]
  },
  {
   "cell_type": "code",
   "execution_count": 4,
   "id": "78f1005c",
   "metadata": {
    "ExecuteTime": {
     "end_time": "2022-04-22T09:54:26.702937Z",
     "start_time": "2022-04-22T09:54:26.699658Z"
    }
   },
   "outputs": [
    {
     "name": "stdout",
     "output_type": "stream",
     "text": [
      "18\n"
     ]
    }
   ],
   "source": [
    "print (add(3,4,5,6))"
   ]
  },
  {
   "cell_type": "code",
   "execution_count": 5,
   "id": "5407f4cb",
   "metadata": {
    "ExecuteTime": {
     "end_time": "2022-04-22T09:54:27.233059Z",
     "start_time": "2022-04-22T09:54:27.230002Z"
    }
   },
   "outputs": [
    {
     "name": "stdout",
     "output_type": "stream",
     "text": [
      "10\n"
     ]
    }
   ],
   "source": [
    "print (add(3,4,c=1,d=2))"
   ]
  },
  {
   "cell_type": "code",
   "execution_count": 6,
   "id": "e06adb70",
   "metadata": {
    "ExecuteTime": {
     "end_time": "2022-04-22T09:54:39.013619Z",
     "start_time": "2022-04-22T09:54:38.907144Z"
    }
   },
   "outputs": [
    {
     "ename": "TypeError",
     "evalue": "add() got some positional-only arguments passed as keyword arguments: 'b'",
     "output_type": "error",
     "traceback": [
      "\u001b[0;31m---------------------------------------------------------------------------\u001b[0m",
      "\u001b[0;31mTypeError\u001b[0m                                 Traceback (most recent call last)",
      "\u001b[0;32m/var/folders/5x/lyqr8wv507n43bnwpsz4dq_c0000gn/T/ipykernel_11210/2061620828.py\u001b[0m in \u001b[0;36m<module>\u001b[0;34m\u001b[0m\n\u001b[0;32m----> 1\u001b[0;31m \u001b[0mprint\u001b[0m \u001b[0;34m(\u001b[0m\u001b[0madd\u001b[0m\u001b[0;34m(\u001b[0m\u001b[0;36m3\u001b[0m\u001b[0;34m,\u001b[0m\u001b[0mb\u001b[0m\u001b[0;34m=\u001b[0m\u001b[0;36m4\u001b[0m\u001b[0;34m,\u001b[0m\u001b[0mc\u001b[0m\u001b[0;34m=\u001b[0m\u001b[0;36m1\u001b[0m\u001b[0;34m,\u001b[0m\u001b[0md\u001b[0m\u001b[0;34m=\u001b[0m\u001b[0;36m2\u001b[0m\u001b[0;34m)\u001b[0m\u001b[0;34m)\u001b[0m\u001b[0;34m\u001b[0m\u001b[0;34m\u001b[0m\u001b[0m\n\u001b[0m",
      "\u001b[0;31mTypeError\u001b[0m: add() got some positional-only arguments passed as keyword arguments: 'b'"
     ]
    }
   ],
   "source": [
    "# This will throw you an eror!\n",
    "print (add(3,b=4,c=1,d=2))"
   ]
  },
  {
   "cell_type": "markdown",
   "id": "9dc378a5",
   "metadata": {},
   "source": [
    "## Keyword only arguments"
   ]
  },
  {
   "cell_type": "markdown",
   "id": "a605d411",
   "metadata": {},
   "source": [
    "<div class=\"alert alert-info\">\n",
    "<font color=black>\n",
    "\n",
    "- To mark parameters as keyword-only, place an `*` in the arguments list just before the first keyword-only parameter.\n",
    "\n",
    "</font>\n",
    "</div>"
   ]
  },
  {
   "cell_type": "code",
   "execution_count": 7,
   "id": "27baa47e",
   "metadata": {
    "ExecuteTime": {
     "end_time": "2022-04-22T09:56:04.768848Z",
     "start_time": "2022-04-22T09:56:04.765971Z"
    }
   },
   "outputs": [],
   "source": [
    "def add(a,b,*,c,d):\n",
    "    return a+b+c+d"
   ]
  },
  {
   "cell_type": "code",
   "execution_count": 8,
   "id": "4bd759e1",
   "metadata": {
    "ExecuteTime": {
     "end_time": "2022-04-22T09:56:08.886896Z",
     "start_time": "2022-04-22T09:56:08.883838Z"
    }
   },
   "outputs": [
    {
     "name": "stdout",
     "output_type": "stream",
     "text": [
      "10\n"
     ]
    }
   ],
   "source": [
    "print (add(3,4,c=1,d=2))"
   ]
  },
  {
   "cell_type": "code",
   "execution_count": 10,
   "id": "d48618e7",
   "metadata": {
    "ExecuteTime": {
     "end_time": "2022-04-22T09:56:33.589484Z",
     "start_time": "2022-04-22T09:56:33.583150Z"
    }
   },
   "outputs": [
    {
     "ename": "TypeError",
     "evalue": "add() takes 2 positional arguments but 3 positional arguments (and 1 keyword-only argument) were given",
     "output_type": "error",
     "traceback": [
      "\u001b[0;31m---------------------------------------------------------------------------\u001b[0m",
      "\u001b[0;31mTypeError\u001b[0m                                 Traceback (most recent call last)",
      "\u001b[0;32m/var/folders/5x/lyqr8wv507n43bnwpsz4dq_c0000gn/T/ipykernel_11210/2875094502.py\u001b[0m in \u001b[0;36m<module>\u001b[0;34m\u001b[0m\n\u001b[1;32m      1\u001b[0m \u001b[0;31m# This will throw you an eror!\u001b[0m\u001b[0;34m\u001b[0m\u001b[0;34m\u001b[0m\u001b[0m\n\u001b[0;32m----> 2\u001b[0;31m \u001b[0mprint\u001b[0m \u001b[0;34m(\u001b[0m\u001b[0madd\u001b[0m\u001b[0;34m(\u001b[0m\u001b[0;36m3\u001b[0m\u001b[0;34m,\u001b[0m\u001b[0;36m4\u001b[0m\u001b[0;34m,\u001b[0m\u001b[0;36m1\u001b[0m\u001b[0;34m,\u001b[0m\u001b[0md\u001b[0m\u001b[0;34m=\u001b[0m\u001b[0;36m2\u001b[0m\u001b[0;34m)\u001b[0m\u001b[0;34m)\u001b[0m\u001b[0;34m\u001b[0m\u001b[0;34m\u001b[0m\u001b[0m\n\u001b[0m",
      "\u001b[0;31mTypeError\u001b[0m: add() takes 2 positional arguments but 3 positional arguments (and 1 keyword-only argument) were given"
     ]
    }
   ],
   "source": [
    "# This will throw you an eror!\n",
    "print (add(3,4,1,d=2))"
   ]
  },
  {
   "cell_type": "markdown",
   "id": "94154870",
   "metadata": {},
   "source": [
    "## Mix"
   ]
  },
  {
   "cell_type": "markdown",
   "id": "03af5c1f",
   "metadata": {},
   "source": [
    "<div class=\"alert alert-info\">\n",
    "<font color=black>\n",
    "\n",
    "- In the below-given example, the function add has all three arguments\n",
    "    - `a,b` positional only arguments\n",
    "    - `c` positional or keyword arguments\n",
    "    - `d` keyword-only arguments\n",
    "\n",
    "</font>\n",
    "</div>"
   ]
  },
  {
   "cell_type": "code",
   "execution_count": 11,
   "id": "cb072188",
   "metadata": {
    "ExecuteTime": {
     "end_time": "2022-04-22T09:58:18.453504Z",
     "start_time": "2022-04-22T09:58:18.450893Z"
    }
   },
   "outputs": [],
   "source": [
    "def add(a,b,/,c,*,d):\n",
    "    return a+b+c+d"
   ]
  },
  {
   "cell_type": "code",
   "execution_count": 12,
   "id": "8dce18c7",
   "metadata": {
    "ExecuteTime": {
     "end_time": "2022-04-22T09:58:20.212051Z",
     "start_time": "2022-04-22T09:58:20.208206Z"
    }
   },
   "outputs": [
    {
     "name": "stdout",
     "output_type": "stream",
     "text": [
      "10\n"
     ]
    }
   ],
   "source": [
    "print (add(3,4,1,d=2))"
   ]
  },
  {
   "cell_type": "markdown",
   "id": "ff4a4b23",
   "metadata": {},
   "source": [
    "# Conclusions\n",
    "<hr style = \"border:2px solid black\" ></hr>"
   ]
  },
  {
   "cell_type": "markdown",
   "id": "4f6ccd8f",
   "metadata": {},
   "source": [
    "<div class=\"alert alert-danger\">\n",
    "<font color=black>\n",
    "\n",
    "- Use **positional-only** if you want the name of the parameters to not be available to the user. This is useful when parameter names have no real meaning.\n",
    "- Use **positional-only** if you want to enforce the order of the arguments when the function is called.\n",
    "- Use **keyword-only** when names have meaning and the function definition is more understandable by being explicit with names.\n",
    "- Use **keyword-only** when you want to prevent users from relying on the position of the argument being passed.\n",
    "\n",
    "</font>\n",
    "</div>    "
   ]
  },
  {
   "cell_type": "markdown",
   "id": "2e1d8b93",
   "metadata": {},
   "source": [
    "# References\n",
    "<hr style = \"border:2px solid black\" ></hr>"
   ]
  },
  {
   "cell_type": "markdown",
   "id": "57fd645f",
   "metadata": {},
   "source": [
    "<div class=\"alert alert-warning\">\n",
    "<font color=black>\n",
    "\n",
    "- [*args and **kwargs in Python](https://www.geeksforgeeks.org/args-kwargs-python/)\n",
    "- [`*` and `/` in between function arguments](https://levelup.gitconnected.com/5-types-of-arguments-in-python-function-definition-e0e2a2cafd29)\n",
    "- [5 Types of Arguments in Python Function Definitions](https://levelup.gitconnected.com/5-types-of-arguments-in-python-function-definition-e0e2a2cafd29)\n",
    "\n",
    "</font>\n",
    "</div>"
   ]
  },
  {
   "cell_type": "code",
   "execution_count": null,
   "id": "1be639b7",
   "metadata": {},
   "outputs": [],
   "source": []
  }
 ],
 "metadata": {
  "kernelspec": {
   "display_name": "trainingAI",
   "language": "python",
   "name": "trainingai"
  },
  "language_info": {
   "codemirror_mode": {
    "name": "ipython",
    "version": 3
   },
   "file_extension": ".py",
   "mimetype": "text/x-python",
   "name": "python",
   "nbconvert_exporter": "python",
   "pygments_lexer": "ipython3",
   "version": "3.9.7"
  },
  "toc": {
   "base_numbering": 1,
   "nav_menu": {},
   "number_sections": true,
   "sideBar": true,
   "skip_h1_title": false,
   "title_cell": "Table of Contents",
   "title_sidebar": "Contents",
   "toc_cell": true,
   "toc_position": {},
   "toc_section_display": true,
   "toc_window_display": true
  },
  "varInspector": {
   "cols": {
    "lenName": 16,
    "lenType": 16,
    "lenVar": 40
   },
   "kernels_config": {
    "python": {
     "delete_cmd_postfix": "",
     "delete_cmd_prefix": "del ",
     "library": "var_list.py",
     "varRefreshCmd": "print(var_dic_list())"
    },
    "r": {
     "delete_cmd_postfix": ") ",
     "delete_cmd_prefix": "rm(",
     "library": "var_list.r",
     "varRefreshCmd": "cat(var_dic_list()) "
    }
   },
   "types_to_exclude": [
    "module",
    "function",
    "builtin_function_or_method",
    "instance",
    "_Feature"
   ],
   "window_display": false
  }
 },
 "nbformat": 4,
 "nbformat_minor": 5
}
