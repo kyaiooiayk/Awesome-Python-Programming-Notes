{
 "cells": [
  {
   "cell_type": "markdown",
   "id": "c440bce4",
   "metadata": {
    "toc": true
   },
   "source": [
    "<h1>Table of Contents<span class=\"tocSkip\"></span></h1>\n",
    "<div class=\"toc\"><ul class=\"toc-item\"><li><span><a href=\"#Introduction\" data-toc-modified-id=\"Introduction-1\"><span class=\"toc-item-num\">1&nbsp;&nbsp;</span>Introduction</a></span></li><li><span><a href=\"#EAFP\" data-toc-modified-id=\"EAFP-2\"><span class=\"toc-item-num\">2&nbsp;&nbsp;</span>EAFP</a></span></li><li><span><a href=\"#LBYL\" data-toc-modified-id=\"LBYL-3\"><span class=\"toc-item-num\">3&nbsp;&nbsp;</span>LBYL</a></span></li><li><span><a href=\"#Conclusions\" data-toc-modified-id=\"Conclusions-4\"><span class=\"toc-item-num\">4&nbsp;&nbsp;</span>Conclusions</a></span></li><li><span><a href=\"#References\" data-toc-modified-id=\"References-5\"><span class=\"toc-item-num\">5&nbsp;&nbsp;</span>References</a></span></li></ul></div>"
   ]
  },
  {
   "cell_type": "markdown",
   "id": "efec4e5a",
   "metadata": {},
   "source": [
    "# Introduction\n",
    "<hr style = \"border:2px solid black\" ></hr>"
   ]
  },
  {
   "cell_type": "markdown",
   "id": "0d9c492e",
   "metadata": {},
   "source": [
    "<div class=\"alert alert-warning\">\n",
    "<font color=black>\n",
    "\n",
    "**What?** EAFP and LBYL coding styles\n",
    "\n",
    "</font>\n",
    "</div>"
   ]
  },
  {
   "cell_type": "markdown",
   "id": "9d0e4a7f",
   "metadata": {},
   "source": [
    "# EAFP\n",
    "<hr style = \"border:2px solid black\" ></hr>"
   ]
  },
  {
   "cell_type": "markdown",
   "id": "9f07f4bb",
   "metadata": {},
   "source": [
    "<div class=\"alert alert-info\">\n",
    "<font color=black>\n",
    "\n",
    "- EAFP Stands for “Easier to Ask for Forgiveness than Permission”.\n",
    "- A coding practice that is more or less the opposite of the LBYL.\n",
    "- For example, if you want to ask the user for a number whose default value will be 1, you can use the code:\n",
    "    \n",
    "</font>\n",
    "</div>"
   ]
  },
  {
   "cell_type": "code",
   "execution_count": 11,
   "id": "21e20bb0",
   "metadata": {
    "ExecuteTime": {
     "end_time": "2022-08-16T12:43:29.357279Z",
     "start_time": "2022-08-16T12:43:26.745289Z"
    }
   },
   "outputs": [
    {
     "name": "stdout",
     "output_type": "stream",
     "text": [
      "Type a positive integer (defaults to 1):\n",
      " >> 21.1\n",
      "Given value: 21.1\n",
      "1\n"
     ]
    }
   ],
   "source": [
    "print(\"Type a positive integer (defaults to 1):\")\n",
    "s = input(\" >> \")\n",
    "print(\"Given value:\", s)\n",
    "if s.isnumeric():\n",
    "    n = int(s)\n",
    "else:\n",
    "    n = 1\n",
    "print(n)"
   ]
  },
  {
   "cell_type": "code",
   "execution_count": 8,
   "id": "53685a5e",
   "metadata": {
    "ExecuteTime": {
     "end_time": "2022-08-16T12:42:36.270632Z",
     "start_time": "2022-08-16T12:42:36.260752Z"
    }
   },
   "outputs": [
    {
     "data": {
      "text/plain": [
       "'Return True if the string is a numeric string, False otherwise.\\n\\nA string is numeric if all characters in the string are numeric and there is at\\nleast one character in the string.'"
      ]
     },
     "execution_count": 8,
     "metadata": {},
     "output_type": "execute_result"
    }
   ],
   "source": [
    "str.isnumeric.__doc__"
   ]
  },
  {
   "cell_type": "markdown",
   "id": "e1cb8697",
   "metadata": {},
   "source": [
    "<div class=\"alert alert-info\">\n",
    "<font color=black>\n",
    "\n",
    "- If failing is expected to happen not very often, then EAFP is faster: you just run a piece of code (your operation) instead of two (the “look” and the “leap”).\n",
    "    \n",
    "</font>\n",
    "</div>"
   ]
  },
  {
   "cell_type": "markdown",
   "id": "2d597615",
   "metadata": {},
   "source": [
    "# LBYL\n",
    "<hr style = \"border:2px solid black\" ></hr>"
   ]
  },
  {
   "cell_type": "markdown",
   "id": "6fcf91a9",
   "metadata": {},
   "source": [
    "<div class=\"alert alert-info\">\n",
    "<font color=black>\n",
    "\n",
    "- LBYL stands for “Look Before You Leap”.\n",
    "- LBYL means you first check if a given operation can be made successfully, and then proceed to do it. \n",
    "- For example, if you want to ask the user for a number whose default value will be 1, you can use the code:\n",
    "\n",
    "</font>\n",
    "</div>"
   ]
  },
  {
   "cell_type": "code",
   "execution_count": 16,
   "id": "57dfa253",
   "metadata": {
    "ExecuteTime": {
     "end_time": "2022-08-16T12:46:39.979393Z",
     "start_time": "2022-08-16T12:46:36.324543Z"
    }
   },
   "outputs": [
    {
     "name": "stdout",
     "output_type": "stream",
     "text": [
      "Type a positive integer (defaults to 1):\n",
      " >> 3.4\n",
      "1\n"
     ]
    }
   ],
   "source": [
    "print(\"Type a positive integer (defaults to 1):\") \n",
    "s = input(\" >> \")\n",
    "try:\n",
    "    n = int(s)\n",
    "except ValueError:\n",
    "    n = 1\n",
    "print(n)"
   ]
  },
  {
   "cell_type": "markdown",
   "id": "04f87ef5",
   "metadata": {},
   "source": [
    "<div class=\"alert alert-info\">\n",
    "<font color=black>\n",
    "\n",
    "- With EAFP, you first try to perform whatever operation it is you want to do, and then use a try block to capture an eventual exception that your operation might throw in case it is not successful. \n",
    "- We simply try to convert s into an integer and in case a `ValueError` exception is raised, we set the default value.\n",
    "- LBYL may still fail. When interacting with the environment, for example with the Internet or with the OS, in between the time it takes for you to do your safety check and then perform the operation, circumstances may change and your operation may no longer be viable.\n",
    "- If you are trying to perform a complex operation that might fail in several ways, it might be easier to just enumerate the exceptions that might be raised instead of writing a really, really long if statement that performs all the necessary checks in advance.\n",
    "\n",
    "</font>\n",
    "</div>"
   ]
  },
  {
   "cell_type": "markdown",
   "id": "a4ab803a",
   "metadata": {},
   "source": [
    "# Conclusions\n",
    "<hr style = \"border:2px solid black\" ></hr>"
   ]
  },
  {
   "cell_type": "markdown",
   "id": "a2c4271c",
   "metadata": {},
   "source": [
    "<div class=\"alert alert-danger\">\n",
    "<font color=black>\n",
    "\n",
    "- EAFP **is NOT** the absolute best way to go in every single situation, but EAFP code can be very readable and performant!\n",
    "\n",
    "</font>\n",
    "</div>"
   ]
  },
  {
   "cell_type": "markdown",
   "id": "af2882b2",
   "metadata": {},
   "source": [
    "# References\n",
    "<hr style = \"border:2px solid black\" ></hr>"
   ]
  },
  {
   "cell_type": "markdown",
   "id": "fedd4956",
   "metadata": {},
   "source": [
    "<div class=\"alert alert-warning\">\n",
    "<font color=black>\n",
    "\n",
    "- https://mathspp.com/blog/pydonts\n",
    "\n",
    "</font>\n",
    "</div>"
   ]
  },
  {
   "cell_type": "code",
   "execution_count": null,
   "id": "7ddfef08",
   "metadata": {},
   "outputs": [],
   "source": []
  }
 ],
 "metadata": {
  "kernelspec": {
   "display_name": "trainingAI",
   "language": "python",
   "name": "trainingai"
  },
  "language_info": {
   "codemirror_mode": {
    "name": "ipython",
    "version": 3
   },
   "file_extension": ".py",
   "mimetype": "text/x-python",
   "name": "python",
   "nbconvert_exporter": "python",
   "pygments_lexer": "ipython3",
   "version": "3.9.7"
  },
  "toc": {
   "base_numbering": 1,
   "nav_menu": {},
   "number_sections": true,
   "sideBar": true,
   "skip_h1_title": false,
   "title_cell": "Table of Contents",
   "title_sidebar": "Contents",
   "toc_cell": true,
   "toc_position": {
    "height": "calc(100% - 180px)",
    "left": "10px",
    "top": "150px",
    "width": "259.75px"
   },
   "toc_section_display": true,
   "toc_window_display": true
  },
  "varInspector": {
   "cols": {
    "lenName": 16,
    "lenType": 16,
    "lenVar": 40
   },
   "kernels_config": {
    "python": {
     "delete_cmd_postfix": "",
     "delete_cmd_prefix": "del ",
     "library": "var_list.py",
     "varRefreshCmd": "print(var_dic_list())"
    },
    "r": {
     "delete_cmd_postfix": ") ",
     "delete_cmd_prefix": "rm(",
     "library": "var_list.r",
     "varRefreshCmd": "cat(var_dic_list()) "
    }
   },
   "types_to_exclude": [
    "module",
    "function",
    "builtin_function_or_method",
    "instance",
    "_Feature"
   ],
   "window_display": false
  }
 },
 "nbformat": 4,
 "nbformat_minor": 5
}
