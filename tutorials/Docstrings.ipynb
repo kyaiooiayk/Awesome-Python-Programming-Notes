{
 "cells": [
  {
   "cell_type": "markdown",
   "metadata": {
    "toc": true
   },
   "source": [
    "<h1>Table of Contents<span class=\"tocSkip\"></span></h1>\n",
    "<div class=\"toc\"><ul class=\"toc-item\"><li><span><a href=\"#Introduction\" data-toc-modified-id=\"Introduction-1\"><span class=\"toc-item-num\">1&nbsp;&nbsp;</span>Introduction</a></span></li><li><span><a href=\"#What-is-a-docstring?\" data-toc-modified-id=\"What-is-a-docstring?-2\"><span class=\"toc-item-num\">2&nbsp;&nbsp;</span>What is a docstring?</a></span></li><li><span><a href=\"#Quick-demo\" data-toc-modified-id=\"Quick-demo-3\"><span class=\"toc-item-num\">3&nbsp;&nbsp;</span>Quick demo</a></span></li><li><span><a href=\"#Docstrings-vs.-Commenting\" data-toc-modified-id=\"Docstrings-vs.-Commenting-4\"><span class=\"toc-item-num\">4&nbsp;&nbsp;</span>Docstrings vs. Commenting</a></span></li><li><span><a href=\"#Docstring-format\" data-toc-modified-id=\"Docstring-format-5\"><span class=\"toc-item-num\">5&nbsp;&nbsp;</span>Docstring format</a></span><ul class=\"toc-item\"><li><span><a href=\"#Sphinx-Style\" data-toc-modified-id=\"Sphinx-Style-5.1\"><span class=\"toc-item-num\">5.1&nbsp;&nbsp;</span>Sphinx Style</a></span></li><li><span><a href=\"#Google-Style\" data-toc-modified-id=\"Google-Style-5.2\"><span class=\"toc-item-num\">5.2&nbsp;&nbsp;</span>Google Style</a></span></li><li><span><a href=\"#Numpy-Style\" data-toc-modified-id=\"Numpy-Style-5.3\"><span class=\"toc-item-num\">5.3&nbsp;&nbsp;</span>Numpy Style</a></span></li></ul></li><li><span><a href=\"#PyDoc\" data-toc-modified-id=\"PyDoc-6\"><span class=\"toc-item-num\">6&nbsp;&nbsp;</span>PyDoc</a></span></li><li><span><a href=\"#References\" data-toc-modified-id=\"References-7\"><span class=\"toc-item-num\">7&nbsp;&nbsp;</span>References</a></span></li></ul></div>"
   ]
  },
  {
   "cell_type": "markdown",
   "metadata": {},
   "source": [
    "# Introduction\n",
    "<hr style=\"border:2px solid black\"> </hr>"
   ]
  },
  {
   "cell_type": "markdown",
   "metadata": {},
   "source": [
    "<div class=\"alert alert-warning\">\n",
    "<font color=black>\n",
    "\n",
    "**What?** Docstrings\n",
    "\n",
    "</font>\n",
    "</div>"
   ]
  },
  {
   "cell_type": "markdown",
   "metadata": {},
   "source": [
    "# What is a docstring?\n",
    "<hr style=\"border:2px solid black\"> </hr>"
   ]
  },
  {
   "cell_type": "markdown",
   "metadata": {},
   "source": [
    "<div class=\"alert alert-info\">\n",
    "<font color=black>\n",
    "\n",
    "- Python documentation string or commonly known as docstring, is a string literal, and it is used in the class, module, function, or method definition. \n",
    "- Docstrings are accessible from the doc attribute `__doc__` for any of the Python objects and also with the built-in `help()` function.\n",
    "\n",
    "</font>\n",
    "</div>"
   ]
  },
  {
   "cell_type": "markdown",
   "metadata": {},
   "source": [
    "# Quick demo\n",
    "<hr style=\"border:2px solid black\"> </hr>"
   ]
  },
  {
   "cell_type": "markdown",
   "metadata": {},
   "source": [
    "<div class=\"alert alert-info\">\n",
    "<font color=black>\n",
    "\n",
    "- For example, let's say you installed the scikit-learn library and you would like to know all about the `sklearn` package like description, package modules, etc., you could simply use the help function to get all the information.\n",
    "- You would notice that the output of the `help` function is more verbose than the `__doc__` attribute.\n",
    "\n",
    "</font>\n",
    "</div>"
   ]
  },
  {
   "cell_type": "code",
   "execution_count": 1,
   "metadata": {},
   "outputs": [],
   "source": [
    "import sklearn"
   ]
  },
  {
   "cell_type": "code",
   "execution_count": null,
   "metadata": {},
   "outputs": [],
   "source": [
    "help(sklearn)"
   ]
  },
  {
   "cell_type": "code",
   "execution_count": 19,
   "metadata": {},
   "outputs": [
    {
     "name": "stdout",
     "output_type": "stream",
     "text": [
      "\n",
      "Machine learning module for Python\n",
      "==================================\n",
      "\n",
      "sklearn is a Python module integrating classical machine\n",
      "learning algorithms in the tightly-knit world of scientific Python\n",
      "packages (numpy, scipy, matplotlib).\n",
      "\n",
      "It aims to provide simple and efficient solutions to learning problems\n",
      "that are accessible to everybody and reusable in various contexts:\n",
      "machine-learning as a versatile tool for science and engineering.\n",
      "\n",
      "See http://scikit-learn.org for complete documentation.\n",
      "\n"
     ]
    }
   ],
   "source": [
    "print(sklearn.__doc__)"
   ]
  },
  {
   "cell_type": "markdown",
   "metadata": {},
   "source": [
    "# Docstrings vs. Commenting\n",
    "<hr style=\"border:2px solid black\"> </hr>"
   ]
  },
  {
   "cell_type": "markdown",
   "metadata": {},
   "source": [
    "<div class=\"alert alert-info\">\n",
    "<font color=black>\n",
    "\n",
    "- **Docstrings** act as documentation for the class, module, and packages. They are similar to comments, but they are enhanced, more logical, and useful version of commenting. They generally start with a triple quotes and can be access by `doc` or `help` python method.\n",
    "\n",
    "- **Comments** are mainly used to explain non-obvious portions of the code and can be useful for comments on Fixing bugs and tasks that are needed to be done. They generally start with `#` and cannot be access neither by `doc` not `help` python method.\n",
    "\n",
    "</font>\n",
    "</div>"
   ]
  },
  {
   "cell_type": "code",
   "execution_count": 14,
   "metadata": {},
   "outputs": [],
   "source": [
    "def square(a):\n",
    "    \"\"\"Returned argument a is squared.\n",
    "\n",
    "    Parameters\n",
    "    ----------\n",
    "    a : float\n",
    "        input\n",
    "\n",
    "    Returns\n",
    "    -------\n",
    "    b : float\n",
    "        Returning value\n",
    "    \"\"\"\n",
    "\n",
    "    # b is defined as a to the second power\n",
    "    b = a**2\n",
    "    return b"
   ]
  },
  {
   "cell_type": "code",
   "execution_count": 18,
   "metadata": {},
   "outputs": [
    {
     "data": {
      "text/plain": [
       "'Returned argument a is squared.\\n    \\n    Parameters:\\n    -----------\\n    a - float\\n        input\\n\\n    Returns:\\n    --------\\n    b - float\\n        Returning value\\n    '"
      ]
     },
     "execution_count": 18,
     "metadata": {},
     "output_type": "execute_result"
    }
   ],
   "source": [
    "square.__doc__"
   ]
  },
  {
   "cell_type": "code",
   "execution_count": 17,
   "metadata": {},
   "outputs": [
    {
     "name": "stdout",
     "output_type": "stream",
     "text": [
      "Returned argument a is squared.\n",
      "    \n",
      "    Parameters:\n",
      "    -----------\n",
      "    a - float\n",
      "        input\n",
      "\n",
      "    Returns:\n",
      "    --------\n",
      "    b - float\n",
      "        Returning value\n",
      "    \n"
     ]
    }
   ],
   "source": [
    "print(square.__doc__)"
   ]
  },
  {
   "cell_type": "code",
   "execution_count": 16,
   "metadata": {},
   "outputs": [
    {
     "name": "stdout",
     "output_type": "stream",
     "text": [
      "Help on function square in module __main__:\n",
      "\n",
      "square(a)\n",
      "    Returned argument a is squared.\n",
      "    \n",
      "    Parameters:\n",
      "    -----------\n",
      "    a - float\n",
      "        input\n",
      "    \n",
      "    Returns:\n",
      "    --------\n",
      "    b - float\n",
      "        Returning value\n",
      "\n"
     ]
    }
   ],
   "source": [
    "help(square)"
   ]
  },
  {
   "cell_type": "markdown",
   "metadata": {},
   "source": [
    "# Docstring format\n",
    "<hr style=\"border:2px solid black\"> </hr>"
   ]
  },
  {
   "cell_type": "markdown",
   "metadata": {},
   "source": [
    "<div class=\"alert alert-info\">\n",
    "<font color=black>\n",
    "\n",
    "- The most common formats used are listed below:\n",
    "    - [NumPy/SciPy docstrings](https://numpydoc.readthedocs.io/en/latest/format.html) Combination of reStructured and GoogleDocstrings and supported by Sphinx    \n",
    "    - [EpyDoc](http://epydoc.sourceforge.net/) Render Epytext as series of HTML documents and a tool for generating API documentation for Python modules based on their Docstrings\n",
    "    - [Google Docstrings](https://sphinxcontrib-napoleon.readthedocs.io/en/latest/example_google.html) Google's Style\n",
    "- [PyDoc](https://docs.python.org/3.10/library/pydoc.html) Standard documentation module for Python and supported by Sphinx    \n",
    "- The formats of all the Documentation strings are nearly similar. The patterns are similar, but there are only nitty-gritty changes in each format.\n",
    "\n",
    "</font>\n",
    "</div>"
   ]
  },
  {
   "cell_type": "markdown",
   "metadata": {},
   "source": [
    "## Sphinx Style"
   ]
  },
  {
   "cell_type": "markdown",
   "metadata": {},
   "source": [
    "<div class=\"alert alert-info\">\n",
    "<font color=black>\n",
    "\n",
    "- Sphinx is the easy and traditional style, verbose, and was initially created specifically for the Python Documentation. Sphinx uses a reStructured Text, which is similar in usage to Markdown.\n",
    "- Sphinx uses the keyword(reserved word); most of the programming language does. But it is explicitly called role in Sphinx. In the above code, Sphinx has the param as a role, and type is a role, which is the Sphinx data type for param. type role is optional, but param is mandatory. The return roles document the returned object. It is different from the param role. The return role is not dependent on the rtype and vice-versa. The rtype is the type of object returned from the given function\n",
    "\n",
    "</font>\n",
    "</div>"
   ]
  },
  {
   "cell_type": "code",
   "execution_count": null,
   "metadata": {},
   "outputs": [],
   "source": [
    "class Vehicle(object):\n",
    "    '''\n",
    "    The Vehicle object contains lots of vehicles\n",
    "    :param arg: The arg is used for ...\n",
    "    :type arg: str\n",
    "    :param `*args`: The variable arguments are used for ...\n",
    "    :param `**kwargs`: The keyword arguments are used for ...\n",
    "    :ivar arg: This is where we store arg\n",
    "    :vartype arg: str\n",
    "    '''\n",
    "\n",
    "    def __init__(self, arg, *args, **kwargs):\n",
    "        self.arg = arg\n",
    "\n",
    "    def cars(self, distance, destination):\n",
    "        '''We can't travel a certain distance in vehicles without fuels, so here's the fuels\n",
    "\n",
    "        :param distance: The amount of distance traveled\n",
    "        :type amount: int\n",
    "        :param bool destinationReached: Should the fuels be refilled to cover required distance?\n",
    "        :raises: :class:`RuntimeError`: Out of fuel\n",
    "\n",
    "        :returns: A Car mileage\n",
    "        :rtype: Cars\n",
    "        '''\n",
    "        pass"
   ]
  },
  {
   "cell_type": "markdown",
   "metadata": {},
   "source": [
    "## Google Style"
   ]
  },
  {
   "cell_type": "markdown",
   "metadata": {},
   "source": [
    "<div class=\"alert alert-info\">\n",
    "<font color=black>\n",
    "\n",
    "- Google Style is easier and more intuitive to use. It can be used for the shorter form of documentation. A configuration of python file needs to be done to get started, so you need to add either sphinx.ext.napoleon or sphinxcontrib.napoleon to the extensions list in conf.py.\n",
    "- The Google Style is better than the Sphinx style. It also has an inconvenient feature, i.e., in the above code, the multi-line description of the distance would look **messy**.\n",
    "\n",
    "</font>\n",
    "</div>"
   ]
  },
  {
   "cell_type": "code",
   "execution_count": null,
   "metadata": {},
   "outputs": [],
   "source": [
    "class Vehicles(object):\n",
    "    '''\n",
    "    The Vehicle object contains a lot of vehicles\n",
    "\n",
    "    Args:\n",
    "        arg (str): The arg is used for...\n",
    "        *args: The variable arguments are used for...\n",
    "        **kwargs: The keyword arguments are used for...\n",
    "\n",
    "    Attributes:\n",
    "        arg (str): This is where we store arg,\n",
    "    '''\n",
    "\n",
    "    def __init__(self, arg, *args, **kwargs):\n",
    "        self.arg = arg\n",
    "\n",
    "    def cars(self, distance, destination):\n",
    "        '''We can't travel distance in vehicles without fuels, so here is the fuels\n",
    "\n",
    "        Args:\n",
    "            distance (int): The amount of distance traveled\n",
    "            destination (bool): Should the fuels refilled to cover the distance?\n",
    "\n",
    "        Raises:\n",
    "            RuntimeError: Out of fuel\n",
    "\n",
    "        Returns:\n",
    "            cars: A car mileage\n",
    "        '''\n",
    "        pass"
   ]
  },
  {
   "cell_type": "markdown",
   "metadata": {},
   "source": [
    "## Numpy Style"
   ]
  },
  {
   "cell_type": "markdown",
   "metadata": {},
   "source": [
    "<div class=\"alert alert-info\">\n",
    "<font color=black>\n",
    "\n",
    "- Numpy style has a lot of details in the documentation. It is more verbose than other documentation, but it is an excellent choice if you want to do detailed documentation, i.e., extensive documentation of all the functions and parameters.\n",
    "- The above example is more verbose than any other documentation. It is more lengthy and could only be used for the long and detailed documentation.\n",
    "\n",
    "</font>\n",
    "</div>"
   ]
  },
  {
   "cell_type": "code",
   "execution_count": null,
   "metadata": {},
   "outputs": [],
   "source": [
    "class Vehicles(object):\n",
    "    '''\n",
    "    The Vehicles object contains lots of vehicles\n",
    "\n",
    "    Parameters\n",
    "    ----------\n",
    "    arg : str\n",
    "        The arg is used for ...\n",
    "    *args\n",
    "        The variable arguments are used for ...\n",
    "    **kwargs\n",
    "        The keyword arguments are used for ...\n",
    "\n",
    "    Attributes\n",
    "    ----------\n",
    "    arg : str\n",
    "        This is where we store arg,\n",
    "    '''\n",
    "\n",
    "    def __init__(self, arg, *args, **kwargs):\n",
    "        self.arg = arg\n",
    "\n",
    "    def cars(self, distance, destination):\n",
    "        '''We can't travel distance in vehicles without fuels, so here is the fuels\n",
    "\n",
    "        Parameters\n",
    "        ----------\n",
    "        distance : int\n",
    "            The amount of distance traveled\n",
    "        destination : bool\n",
    "            Should the fuels refilled to cover the distance?\n",
    "\n",
    "        Raises\n",
    "        ------\n",
    "        RuntimeError\n",
    "            Out of fuel\n",
    "\n",
    "        Returns\n",
    "        -------\n",
    "        cars\n",
    "            A car mileage\n",
    "        '''\n",
    "        pass"
   ]
  },
  {
   "cell_type": "markdown",
   "metadata": {},
   "source": [
    "# PyDoc\n",
    "<hr style=\"border:2px solid black\"> </hr>"
   ]
  },
  {
   "cell_type": "markdown",
   "metadata": {},
   "source": [
    "<div class=\"alert alert-info\">\n",
    "<font color=black>\n",
    "\n",
    "- As you learned that docstrings are accessible through the built-in Python __doc__ attribute and the help() function. You could also make use of the built-in module known as Pydoc, which is very different in terms of the features & functionalities it possesses when compared to the doc attribute and the help function.\n",
    "- Pydoc is a tool that would come handy when you want to share the code with your colleagues or make it open-source, in which case you would be targeting a much wider audience. It could generate web pages from your Python documentation and can also launch a web server.\n",
    "\n",
    "</font>\n",
    "</div>"
   ]
  },
  {
   "cell_type": "markdown",
   "metadata": {},
   "source": [
    "# References\n",
    "<hr style=\"border:2px solid black\"> </hr>"
   ]
  },
  {
   "cell_type": "markdown",
   "metadata": {},
   "source": [
    "<div class=\"alert alert-warning\">\n",
    "<font color=black>\n",
    "\n",
    "- https://www.datacamp.com/community/tutorials/docstrings-python\n",
    "- [Nice and coincise example for different docstring standards](https://github.com/NilsJPWerner/autoDocstring/tree/f7bc9f427d5ebcd87e6f5839077a87ecd1cbb404/docs)\n",
    "    \n",
    "</font>\n",
    "</div>"
   ]
  },
  {
   "cell_type": "code",
   "execution_count": null,
   "metadata": {},
   "outputs": [],
   "source": []
  }
 ],
 "metadata": {
  "hide_input": false,
  "kernelspec": {
   "display_name": "mlops",
   "language": "python",
   "name": "mlops"
  },
  "language_info": {
   "codemirror_mode": {
    "name": "ipython",
    "version": 3
   },
   "file_extension": ".py",
   "mimetype": "text/x-python",
   "name": "python",
   "nbconvert_exporter": "python",
   "pygments_lexer": "ipython3",
   "version": "3.8.16"
  },
  "toc": {
   "base_numbering": 1,
   "nav_menu": {},
   "number_sections": true,
   "sideBar": true,
   "skip_h1_title": false,
   "title_cell": "Table of Contents",
   "title_sidebar": "Contents",
   "toc_cell": true,
   "toc_position": {},
   "toc_section_display": true,
   "toc_window_display": true
  },
  "varInspector": {
   "cols": {
    "lenName": 16,
    "lenType": 16,
    "lenVar": 40
   },
   "kernels_config": {
    "python": {
     "delete_cmd_postfix": "",
     "delete_cmd_prefix": "del ",
     "library": "var_list.py",
     "varRefreshCmd": "print(var_dic_list())"
    },
    "r": {
     "delete_cmd_postfix": ") ",
     "delete_cmd_prefix": "rm(",
     "library": "var_list.r",
     "varRefreshCmd": "cat(var_dic_list()) "
    }
   },
   "types_to_exclude": [
    "module",
    "function",
    "builtin_function_or_method",
    "instance",
    "_Feature"
   ],
   "window_display": false
  }
 },
 "nbformat": 4,
 "nbformat_minor": 2
}
