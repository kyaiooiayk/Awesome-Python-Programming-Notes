{
 "cells": [
  {
   "cell_type": "markdown",
   "id": "c440bce4",
   "metadata": {
    "toc": true
   },
   "source": [
    "<h1>Table of Contents<span class=\"tocSkip\"></span></h1>\n",
    "<div class=\"toc\"><ul class=\"toc-item\"><li><span><a href=\"#Introduction\" data-toc-modified-id=\"Introduction-1\"><span class=\"toc-item-num\">1&nbsp;&nbsp;</span>Introduction</a></span></li><li><span><a href=\"#What-is-it?\" data-toc-modified-id=\"What-is-it?-2\"><span class=\"toc-item-num\">2&nbsp;&nbsp;</span>What is it?</a></span></li><li><span><a href=\"#with\" data-toc-modified-id=\"with-3\"><span class=\"toc-item-num\">3&nbsp;&nbsp;</span><code>with</code></a></span></li><li><span><a href=\"#Implementing-a-Context-Manager-as-a-Class\" data-toc-modified-id=\"Implementing-a-Context-Manager-as-a-Class-4\"><span class=\"toc-item-num\">4&nbsp;&nbsp;</span>Implementing a Context Manager as a Class</a></span></li><li><span><a href=\"#Implementing-a-Context-Manager-as-a-Generator\" data-toc-modified-id=\"Implementing-a-Context-Manager-as-a-Generator-5\"><span class=\"toc-item-num\">5&nbsp;&nbsp;</span>Implementing a Context Manager as a Generator</a></span></li><li><span><a href=\"#Folder-clean-up\" data-toc-modified-id=\"Folder-clean-up-6\"><span class=\"toc-item-num\">6&nbsp;&nbsp;</span>Folder clean-up</a></span></li><li><span><a href=\"#References\" data-toc-modified-id=\"References-7\"><span class=\"toc-item-num\">7&nbsp;&nbsp;</span>References</a></span></li></ul></div>"
   ]
  },
  {
   "cell_type": "markdown",
   "id": "efec4e5a",
   "metadata": {},
   "source": [
    "# Introduction\n",
    "<hr style = \"border:2px solid black\" ></hr>"
   ]
  },
  {
   "cell_type": "markdown",
   "id": "0d9c492e",
   "metadata": {},
   "source": [
    "<div class=\"alert alert-warning\">\n",
    "<font color=black>\n",
    "\n",
    "**What?** Context managers\n",
    "\n",
    "</font>\n",
    "</div>"
   ]
  },
  {
   "cell_type": "markdown",
   "id": "9d0e4a7f",
   "metadata": {},
   "source": [
    "# What is it?\n",
    "<hr style = \"border:2px solid black\" ></hr>"
   ]
  },
  {
   "cell_type": "markdown",
   "id": "9f07f4bb",
   "metadata": {},
   "source": [
    "<div class=\"alert alert-info\">\n",
    "<font color=black>\n",
    "\n",
    "- Context managers allow you to allocate and release resources precisely when you want to. \n",
    "- Suppose you have two related operations which you’d like to execute as a pair, with a block of code in between. Context managers allow you to do specifically that.\n",
    "    \n",
    "</font>\n",
    "</div>"
   ]
  },
  {
   "cell_type": "markdown",
   "id": "30d76cfc",
   "metadata": {},
   "source": [
    "# `with`\n",
    "<hr style = \"border:2px solid black\" ></hr>"
   ]
  },
  {
   "cell_type": "markdown",
   "id": "ae0c5f03",
   "metadata": {},
   "source": [
    "<div class=\"alert alert-info\">\n",
    "<font color=black>\n",
    "\n",
    "- The above code opens the file, writes some data to it and then closes it. \n",
    "- **If an error occurs** while writing the data to the file, it tries to close it. \n",
    "- What follows is an example that tries to explain how `with` simplifies the code and make it safer.\n",
    "- While comparing it to the first example, we can see that a lot of boilerplate code is eliminated just by using `with`.\n",
    "- The main advantage of using a `with` statement is that it makes sure our file is closed **without paying attention to how the nested block exits**. In fact, as you may recall, `finally` is executed regardless of how the `try` statement exits, with or without an error.\n",
    "    \n",
    "</font>\n",
    "</div>"
   ]
  },
  {
   "cell_type": "code",
   "execution_count": 2,
   "id": "96674225",
   "metadata": {
    "ExecuteTime": {
     "end_time": "2023-02-15T09:14:12.425064Z",
     "start_time": "2023-02-15T09:14:12.422208Z"
    },
    "cell_style": "center"
   },
   "outputs": [],
   "source": [
    "with open('some_file.txt', 'w') as opened_file:\n",
    "    opened_file.write('Hello!')"
   ]
  },
  {
   "cell_type": "code",
   "execution_count": 3,
   "id": "a9e5dbaf",
   "metadata": {
    "ExecuteTime": {
     "end_time": "2023-02-15T09:14:56.725094Z",
     "start_time": "2023-02-15T09:14:56.721442Z"
    },
    "cell_style": "center"
   },
   "outputs": [],
   "source": [
    "# This equivalent to the following boiler plate code\n",
    "file = open('some_file.txt', 'w')\n",
    "try:\n",
    "    file.write('Hello!')\n",
    "finally:\n",
    "    file.close()"
   ]
  },
  {
   "cell_type": "markdown",
   "id": "0c9777fd",
   "metadata": {},
   "source": [
    "# Implementing a Context Manager as a Class\n",
    "<hr style = \"border:2px solid black\" ></hr>"
   ]
  },
  {
   "cell_type": "markdown",
   "id": "8e1ffef2",
   "metadata": {
    "ExecuteTime": {
     "end_time": "2023-02-15T09:37:02.771048Z",
     "start_time": "2023-02-15T09:37:02.766464Z"
    }
   },
   "source": [
    "<div class=\"alert alert-info\">\n",
    "<font color=black>\n",
    "\n",
    "- At the very least a context manager has an `__enter__` and `__exit__` method defined.\n",
    "- Just by defining these two dunder methods we can use our new class in a `with` statement. \n",
    "\n",
    "</font>\n",
    "</div>"
   ]
  },
  {
   "cell_type": "code",
   "execution_count": 7,
   "id": "d16dda75",
   "metadata": {
    "ExecuteTime": {
     "end_time": "2023-02-15T09:23:41.705709Z",
     "start_time": "2023-02-15T09:23:41.702155Z"
    }
   },
   "outputs": [],
   "source": [
    "class MyFile(object):\n",
    "    def __init__(self, file_name, method):\n",
    "        self.file_obj = open(file_name, method)\n",
    "\n",
    "    def __enter__(self):\n",
    "        return self.file_obj\n",
    "\n",
    "    def __exit__(self, type, value, traceback):\n",
    "        self.file_obj.close()"
   ]
  },
  {
   "cell_type": "code",
   "execution_count": 8,
   "id": "f4332f8e",
   "metadata": {
    "ExecuteTime": {
     "end_time": "2023-02-15T09:23:42.024108Z",
     "start_time": "2023-02-15T09:23:42.020928Z"
    }
   },
   "outputs": [],
   "source": [
    "with MyFile('demo.txt', 'w') as opened_file:\n",
    "    opened_file.write('Hello kyaiooiayk!')"
   ]
  },
  {
   "cell_type": "markdown",
   "id": "5348187f",
   "metadata": {},
   "source": [
    "# Implementing a Context Manager as a Generator\n",
    "<hr style = \"border:2px solid black\" ></hr>"
   ]
  },
  {
   "cell_type": "markdown",
   "id": "27430589",
   "metadata": {},
   "source": [
    "<div class=\"alert alert-info\">\n",
    "<font color=black>\n",
    "    \n",
    "- We can also implement Context Managers using decorators and generators.\n",
    "- Python has a contextlib module for this very purpose. Instead of a class, we can implement a Context Manager using a generator function. \n",
    "\n",
    "</font>\n",
    "</div>"
   ]
  },
  {
   "cell_type": "code",
   "execution_count": 13,
   "id": "f846c82c",
   "metadata": {
    "ExecuteTime": {
     "end_time": "2023-02-15T09:39:04.071568Z",
     "start_time": "2023-02-15T09:39:04.068657Z"
    }
   },
   "outputs": [],
   "source": [
    "from contextlib import contextmanager\n",
    "\n",
    "\n",
    "@contextmanager\n",
    "def open_file(name):\n",
    "    f = open(name, 'w')\n",
    "    try:\n",
    "        yield f\n",
    "    finally:\n",
    "        f.close()"
   ]
  },
  {
   "cell_type": "code",
   "execution_count": 14,
   "id": "4375d451",
   "metadata": {
    "ExecuteTime": {
     "end_time": "2023-02-15T09:39:04.550902Z",
     "start_time": "2023-02-15T09:39:04.547817Z"
    }
   },
   "outputs": [],
   "source": [
    "with open_file('some_file.txt') as f:\n",
    "    f.write('hello kyaiooiayk!')"
   ]
  },
  {
   "cell_type": "markdown",
   "id": "d2344658",
   "metadata": {},
   "source": [
    "# Folder clean-up\n",
    "<hr style = \"border:2px solid black\" ></hr>"
   ]
  },
  {
   "cell_type": "code",
   "execution_count": 15,
   "id": "abbcfb3d",
   "metadata": {
    "ExecuteTime": {
     "end_time": "2023-02-15T09:39:13.771791Z",
     "start_time": "2023-02-15T09:39:13.515578Z"
    }
   },
   "outputs": [
    {
     "name": "stdout",
     "output_type": "stream",
     "text": [
      "rm: demo.txt: No such file or directory\r\n"
     ]
    }
   ],
   "source": [
    "!rm some_file.txt\n",
    "!rm demo.txt"
   ]
  },
  {
   "cell_type": "markdown",
   "id": "af2882b2",
   "metadata": {},
   "source": [
    "# References\n",
    "<hr style = \"border:2px solid black\" ></hr>"
   ]
  },
  {
   "cell_type": "markdown",
   "id": "fedd4956",
   "metadata": {},
   "source": [
    "<div class=\"alert alert-warning\">\n",
    "<font color=black>\n",
    "\n",
    "- https://book.pythontips.com/en/latest/context_managers.html\n",
    "\n",
    "</font>\n",
    "</div>"
   ]
  },
  {
   "cell_type": "code",
   "execution_count": null,
   "id": "7ddfef08",
   "metadata": {},
   "outputs": [],
   "source": []
  }
 ],
 "metadata": {
  "kernelspec": {
   "display_name": "trainingAI",
   "language": "python",
   "name": "trainingai"
  },
  "language_info": {
   "codemirror_mode": {
    "name": "ipython",
    "version": 3
   },
   "file_extension": ".py",
   "mimetype": "text/x-python",
   "name": "python",
   "nbconvert_exporter": "python",
   "pygments_lexer": "ipython3",
   "version": "3.9.7"
  },
  "toc": {
   "base_numbering": 1,
   "nav_menu": {},
   "number_sections": true,
   "sideBar": true,
   "skip_h1_title": false,
   "title_cell": "Table of Contents",
   "title_sidebar": "Contents",
   "toc_cell": true,
   "toc_position": {
    "height": "calc(100% - 180px)",
    "left": "10px",
    "top": "150px",
    "width": "193.95px"
   },
   "toc_section_display": true,
   "toc_window_display": true
  },
  "varInspector": {
   "cols": {
    "lenName": 16,
    "lenType": 16,
    "lenVar": 40
   },
   "kernels_config": {
    "python": {
     "delete_cmd_postfix": "",
     "delete_cmd_prefix": "del ",
     "library": "var_list.py",
     "varRefreshCmd": "print(var_dic_list())"
    },
    "r": {
     "delete_cmd_postfix": ") ",
     "delete_cmd_prefix": "rm(",
     "library": "var_list.r",
     "varRefreshCmd": "cat(var_dic_list()) "
    }
   },
   "types_to_exclude": [
    "module",
    "function",
    "builtin_function_or_method",
    "instance",
    "_Feature"
   ],
   "window_display": false
  }
 },
 "nbformat": 4,
 "nbformat_minor": 5
}
