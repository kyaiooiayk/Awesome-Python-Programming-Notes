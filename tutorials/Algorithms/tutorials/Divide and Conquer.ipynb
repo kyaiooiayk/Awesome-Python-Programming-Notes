{
 "cells": [
  {
   "cell_type": "markdown",
   "metadata": {
    "toc": true
   },
   "source": [
    "<h1>Table of Contents<span class=\"tocSkip\"></span></h1>\n",
    "<div class=\"toc\"><ul class=\"toc-item\"><li><span><a href=\"#Introduction\" data-toc-modified-id=\"Introduction-1\"><span class=\"toc-item-num\">1&nbsp;&nbsp;</span>Introduction</a></span></li><li><span><a href=\"#What-is-Divide-and-Conquer?\" data-toc-modified-id=\"What-is-Divide-and-Conquer?-2\"><span class=\"toc-item-num\">2&nbsp;&nbsp;</span>What is Divide and Conquer?</a></span></li><li><span><a href=\"#Divide-and-Conquer-vs.-Dynamic-Programming\" data-toc-modified-id=\"Divide-and-Conquer-vs.-Dynamic-Programming-3\"><span class=\"toc-item-num\">3&nbsp;&nbsp;</span>Divide and Conquer vs. Dynamic Programming</a></span></li><li><span><a href=\"#Example-#1\" data-toc-modified-id=\"Example-#1-4\"><span class=\"toc-item-num\">4&nbsp;&nbsp;</span>Example #1</a></span></li><li><span><a href=\"#Conclusions\" data-toc-modified-id=\"Conclusions-5\"><span class=\"toc-item-num\">5&nbsp;&nbsp;</span>Conclusions</a></span></li><li><span><a href=\"#References\" data-toc-modified-id=\"References-6\"><span class=\"toc-item-num\">6&nbsp;&nbsp;</span>References</a></span></li></ul></div>"
   ]
  },
  {
   "cell_type": "markdown",
   "metadata": {},
   "source": [
    "# Introduction\n",
    "<hr style=\"border:2px solid black\"> </hr>"
   ]
  },
  {
   "cell_type": "markdown",
   "metadata": {},
   "source": [
    "<div class=\"alert alert-warning\">\n",
    "<font color=black>\n",
    "\n",
    "**What?** Divide and Conquer\n",
    "\n",
    "</font>\n",
    "</div>"
   ]
  },
  {
   "cell_type": "markdown",
   "metadata": {},
   "source": [
    "# What is Divide and Conquer?\n",
    "<hr style=\"border:2px solid black\"> </hr>"
   ]
  },
  {
   "cell_type": "markdown",
   "metadata": {},
   "source": [
    "<div class=\"alert alert-block alert-info\">\n",
    "<font color=black>\n",
    "\n",
    "- Divide and Conquer is an algorithmic paradigm in which the problem is solved using the following 3 steps:\n",
    "    1. Divide: This involves dividing the problem into smaller sub-problems.\n",
    "    2. Conquer: Solve sub-problems by calling recursively until solved.\n",
    "    3. Combine: Combine the sub-problems to get the final solution of the whole problem.\n",
    "    \n",
    "The following are some standard algorithms that follow Divide and Conquer algorithm: Quicksort and Merge Sort.\n",
    "    \n",
    "</font>\n",
    "</div>"
   ]
  },
  {
   "cell_type": "markdown",
   "metadata": {},
   "source": [
    "# Divide and Conquer vs. Dynamic Programming\n",
    "<hr style=\"border:2px solid black\"> </hr>"
   ]
  },
  {
   "cell_type": "markdown",
   "metadata": {},
   "source": [
    "<div class=\"alert alert-block alert-info\">\n",
    "<font color=black>\n",
    "\n",
    "- Both paradigm divide the given problem into subproblems and solve subproblems. \n",
    "- Divide and Conquer should be used when the same subproblems are not evaluated many times. Otherwise Dynamic Programming or Memoization should be used. \n",
    "- For example, Quicksort is a Divide and Conquer algorithm, we never evaluate the same subproblems again. On the other hand, for calculating the nth Fibonacci number, Dynamic Programming should be preferred (See this for details).\n",
    "    \n",
    "</font>\n",
    "</div>"
   ]
  },
  {
   "cell_type": "markdown",
   "metadata": {
    "ExecuteTime": {
     "end_time": "2023-01-12T20:17:31.397933Z",
     "start_time": "2023-01-12T20:17:31.393550Z"
    }
   },
   "source": [
    "# Example #1\n",
    "<hr style=\"border:2px solid black\"> </hr>"
   ]
  },
  {
   "cell_type": "markdown",
   "metadata": {},
   "source": [
    "<div class=\"alert alert-block alert-info\">\n",
    "<font color=black>\n",
    "    \n",
    "- To find the maximum and minimum element from a given array is an application for divide and conquer. \n",
    "\n",
    "</font>\n",
    "</div>"
   ]
  },
  {
   "cell_type": "code",
   "execution_count": 3,
   "metadata": {
    "ExecuteTime": {
     "end_time": "2023-01-12T20:20:53.182182Z",
     "start_time": "2023-01-12T20:20:53.176743Z"
    }
   },
   "outputs": [],
   "source": [
    "def DAC_Max(a, index, l):\n",
    "    \"\"\"\n",
    "    Function to find the maximum no in a given array.\n",
    "    Demonstrate Divide and Conquer Algorithm     \n",
    "    \"\"\"\n",
    "    max = -1\n",
    "    if(l - 1 == 0):\n",
    "        return arr[index]\n",
    "    if (index >= l - 2):\n",
    "        if (a[index] > a[index + 1]):\n",
    "            return a[index]\n",
    "        else:\n",
    "            return a[index + 1]\n",
    "\n",
    "    # Logic to find the Maximum element\n",
    "    # in the given array.\n",
    "    max = DAC_Max(a, index + 1, l)\n",
    "\n",
    "    if (a[index] > max):\n",
    "        return a[index]\n",
    "    else:\n",
    "        return max"
   ]
  },
  {
   "cell_type": "code",
   "execution_count": 4,
   "metadata": {
    "ExecuteTime": {
     "end_time": "2023-01-12T20:21:03.532290Z",
     "start_time": "2023-01-12T20:21:03.527614Z"
    }
   },
   "outputs": [],
   "source": [
    "def DAC_Min(a, index, l):\n",
    "    \"\"\"\n",
    "    Function to find the minimum no in a given array.\n",
    "    Demonstrate Divide and Conquer Algorithm     \n",
    "    \"\"\"\n",
    "    min = 0\n",
    "    if(l - 1 == 0):\n",
    "        return arr[index]\n",
    "    if (index >= l - 2):\n",
    "        if (a[index] < a[index + 1]):\n",
    "            return a[index]\n",
    "        else:\n",
    "            return a[index + 1]\n",
    "\n",
    "    # Logic to find the Minimum element\n",
    "    # in the given array.\n",
    "    min = DAC_Min(a, index + 1, l)\n",
    "\n",
    "    if (a[index] < min):\n",
    "        return a[index]\n",
    "    else:\n",
    "        return min"
   ]
  },
  {
   "cell_type": "code",
   "execution_count": 5,
   "metadata": {
    "ExecuteTime": {
     "end_time": "2023-01-12T20:21:08.963452Z",
     "start_time": "2023-01-12T20:21:08.959132Z"
    }
   },
   "outputs": [
    {
     "name": "stdout",
     "output_type": "stream",
     "text": [
      "The minimum number in a given array is :  12\n",
      "The maximum number in a given array is :  250\n"
     ]
    }
   ],
   "source": [
    "# Defining the variables\n",
    "min, max = 0, -1\n",
    "\n",
    "# Initializing the array\n",
    "a = [70, 250, 50, 80, 140, 12, 14]\n",
    "\n",
    "# Recursion - DAC_Max function called\n",
    "max = DAC_Max(a, 0, 7)\n",
    "\n",
    "# Recursion - DAC_Max function called\n",
    "min = DAC_Min(a, 0, 7)\n",
    "print(\"The minimum number in a given array is : \", min)\n",
    "print(\"The maximum number in a given array is : \", max)"
   ]
  },
  {
   "cell_type": "markdown",
   "metadata": {},
   "source": [
    "# Conclusions\n",
    "<hr style=\"border:2px solid black\"> </hr>"
   ]
  },
  {
   "cell_type": "markdown",
   "metadata": {},
   "source": [
    "<div class=\"alert alert-danger\">\n",
    "<font color=black>\n",
    "\n",
    "- **Advantages** of Divide and Conquer Algorithm:\n",
    "    - The difficult problem can be solved easily.\n",
    "    - It divides the entire problem into subproblems thus it can be solved parallelly ensuring multiprocessing\n",
    "    - Efficiently uses cache memory without occupying much space\n",
    "    - Reduces time complexity of the problem\n",
    "\n",
    "- **Disadvantages** of Divide and Conquer Algorithm:\n",
    "    - It involves recursion which is sometimes slow\n",
    "    - Efficiency depends on the implementation of logic\n",
    "    - It may crash the system if the recursion is performed rigorously\n",
    "\n",
    "</font>\n",
    "</div>"
   ]
  },
  {
   "cell_type": "markdown",
   "metadata": {},
   "source": [
    "# References\n",
    "<hr style=\"border:2px solid black\"> </hr>"
   ]
  },
  {
   "cell_type": "markdown",
   "metadata": {},
   "source": [
    "<div class=\"alert alert-warning\">\n",
    "<font color=black>\n",
    "\n",
    "- https://www.geeksforgeeks.org/introduction-to-divide-and-conquer-algorithm-data-structure-and-algorithm-tutorials/\n",
    "\n",
    "</font>\n",
    "</div>"
   ]
  },
  {
   "cell_type": "code",
   "execution_count": null,
   "metadata": {},
   "outputs": [],
   "source": []
  }
 ],
 "metadata": {
  "kernelspec": {
   "display_name": "trainingAI",
   "language": "python",
   "name": "trainingai"
  },
  "language_info": {
   "codemirror_mode": {
    "name": "ipython",
    "version": 3
   },
   "file_extension": ".py",
   "mimetype": "text/x-python",
   "name": "python",
   "nbconvert_exporter": "python",
   "pygments_lexer": "ipython3",
   "version": "3.9.7"
  },
  "toc": {
   "base_numbering": 1,
   "nav_menu": {},
   "number_sections": true,
   "sideBar": true,
   "skip_h1_title": false,
   "title_cell": "Table of Contents",
   "title_sidebar": "Contents",
   "toc_cell": true,
   "toc_position": {
    "height": "calc(100% - 180px)",
    "left": "10px",
    "top": "150px",
    "width": "251.75px"
   },
   "toc_section_display": true,
   "toc_window_display": true
  },
  "varInspector": {
   "cols": {
    "lenName": 16,
    "lenType": 16,
    "lenVar": 40
   },
   "kernels_config": {
    "python": {
     "delete_cmd_postfix": "",
     "delete_cmd_prefix": "del ",
     "library": "var_list.py",
     "varRefreshCmd": "print(var_dic_list())"
    },
    "r": {
     "delete_cmd_postfix": ") ",
     "delete_cmd_prefix": "rm(",
     "library": "var_list.r",
     "varRefreshCmd": "cat(var_dic_list()) "
    }
   },
   "types_to_exclude": [
    "module",
    "function",
    "builtin_function_or_method",
    "instance",
    "_Feature"
   ],
   "window_display": false
  }
 },
 "nbformat": 4,
 "nbformat_minor": 2
}
