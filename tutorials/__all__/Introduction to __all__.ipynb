{
 "cells": [
  {
   "cell_type": "markdown",
   "id": "a9b68ab8",
   "metadata": {
    "toc": true
   },
   "source": [
    "<h1>Table of Contents<span class=\"tocSkip\"></span></h1>\n",
    "<div class=\"toc\"><ul class=\"toc-item\"><li><span><a href=\"#Introduction\" data-toc-modified-id=\"Introduction-1\"><span class=\"toc-item-num\">1&nbsp;&nbsp;</span>Introduction</a></span></li><li><span><a href=\"#What-does-__all__-do?\" data-toc-modified-id=\"What-does-__all__-do?-2\"><span class=\"toc-item-num\">2&nbsp;&nbsp;</span>What does <code>__all__</code> do?</a></span></li><li><span><a href=\"#No-__all__-in-__init__.py\" data-toc-modified-id=\"No-__all__-in-__init__.py-3\"><span class=\"toc-item-num\">3&nbsp;&nbsp;</span>No <code>__all__</code> in <code>__init__.py</code></a></span></li><li><span><a href=\"#__all__-in-the-__init_all.py\" data-toc-modified-id=\"__all__-in-the-__init_all.py-4\"><span class=\"toc-item-num\">4&nbsp;&nbsp;</span><code>__all__</code> in the <code>__init_all.py</code></a></span></li><li><span><a href=\"#References\" data-toc-modified-id=\"References-5\"><span class=\"toc-item-num\">5&nbsp;&nbsp;</span>References</a></span></li></ul></div>"
   ]
  },
  {
   "cell_type": "markdown",
   "id": "1e616307",
   "metadata": {},
   "source": [
    "# Introduction\n",
    "<hr style=\"border:2px solid black\"> </hr>"
   ]
  },
  {
   "cell_type": "markdown",
   "id": "0769a064",
   "metadata": {
    "ExecuteTime": {
     "end_time": "2023-06-20T17:14:39.104731Z",
     "start_time": "2023-06-20T17:14:39.099598Z"
    }
   },
   "source": [
    "<div class=\"alert alert-warning\">\n",
    "<font color=black>\n",
    "\n",
    "**What?**  What does `__all__`: do?\n",
    "\n",
    "</font>\n",
    "</div>"
   ]
  },
  {
   "cell_type": "markdown",
   "id": "5fbfa7bb",
   "metadata": {},
   "source": [
    "# What does `__all__` do?\n",
    "<hr style=\"border:2px solid black\"> </hr>"
   ]
  },
  {
   "cell_type": "markdown",
   "id": "436077b5",
   "metadata": {},
   "source": [
    "<div class=\"alert alert-info\">\n",
    "<font color=black>\n",
    "\n",
    "- In its simplest case, the `__init__.py` file is an empty file. However, it is also used to set up imports and this can be controlled by the variable `__all__`.\n",
    "- Essentially `__all__` will the interpreter what to import when the wild card `import *` is used.\n",
    "\n",
    "</font>\n",
    "</div>"
   ]
  },
  {
   "cell_type": "markdown",
   "id": "35ea0cc0",
   "metadata": {},
   "source": [
    "# No `__all__` in `__init__.py`\n",
    "<hr style=\"border:2px solid black\"> </hr>"
   ]
  },
  {
   "cell_type": "code",
   "execution_count": 1,
   "id": "37a590d9",
   "metadata": {
    "ExecuteTime": {
     "end_time": "2023-06-20T17:14:54.858795Z",
     "start_time": "2023-06-20T17:14:54.854844Z"
    }
   },
   "outputs": [],
   "source": [
    "from Foo_no_all import *"
   ]
  },
  {
   "cell_type": "code",
   "execution_count": 2,
   "id": "9b698790",
   "metadata": {
    "ExecuteTime": {
     "end_time": "2023-06-20T17:14:55.456682Z",
     "start_time": "2023-06-20T17:14:55.326827Z"
    }
   },
   "outputs": [
    {
     "ename": "NameError",
     "evalue": "name 'foo' is not defined",
     "output_type": "error",
     "traceback": [
      "\u001b[0;31m---------------------------------------------------------------------------\u001b[0m",
      "\u001b[0;31mNameError\u001b[0m                                 Traceback (most recent call last)",
      "\u001b[0;32m/var/folders/5x/lyqr8wv507n43bnwpsz4dq_c0000gn/T/ipykernel_98491/2615815247.py\u001b[0m in \u001b[0;36m<module>\u001b[0;34m\u001b[0m\n\u001b[0;32m----> 1\u001b[0;31m \u001b[0mfoo\u001b[0m\u001b[0;34m.\u001b[0m\u001b[0ma\u001b[0m\u001b[0;34m\u001b[0m\u001b[0;34m\u001b[0m\u001b[0m\n\u001b[0m",
      "\u001b[0;31mNameError\u001b[0m: name 'foo' is not defined"
     ]
    }
   ],
   "source": [
    "# Will trow an error\n",
    "foo.a"
   ]
  },
  {
   "cell_type": "code",
   "execution_count": 5,
   "id": "ce224d04",
   "metadata": {
    "ExecuteTime": {
     "end_time": "2023-06-20T17:15:52.657506Z",
     "start_time": "2023-06-20T17:15:52.655028Z"
    }
   },
   "outputs": [],
   "source": [
    "# To access the file foo we need to import it directly\n",
    "from Foo_no_all import foo"
   ]
  },
  {
   "cell_type": "code",
   "execution_count": 6,
   "id": "d968c693",
   "metadata": {
    "ExecuteTime": {
     "end_time": "2023-06-20T17:15:54.713821Z",
     "start_time": "2023-06-20T17:15:54.710098Z"
    }
   },
   "outputs": [
    {
     "data": {
      "text/plain": [
       "1"
      ]
     },
     "execution_count": 6,
     "metadata": {},
     "output_type": "execute_result"
    }
   ],
   "source": [
    "foo.a"
   ]
  },
  {
   "cell_type": "markdown",
   "id": "562c7807",
   "metadata": {},
   "source": [
    "# `__all__` in the `__init_all.py` \n",
    "<hr style=\"border:2px solid black\"> </hr>"
   ]
  },
  {
   "cell_type": "code",
   "execution_count": 7,
   "id": "f1460c5d",
   "metadata": {
    "ExecuteTime": {
     "end_time": "2023-06-20T17:15:59.750517Z",
     "start_time": "2023-06-20T17:15:59.745179Z"
    }
   },
   "outputs": [],
   "source": [
    "from Foo import *"
   ]
  },
  {
   "cell_type": "code",
   "execution_count": 8,
   "id": "45a954d9",
   "metadata": {
    "ExecuteTime": {
     "end_time": "2023-06-20T17:16:00.940914Z",
     "start_time": "2023-06-20T17:16:00.937640Z"
    }
   },
   "outputs": [
    {
     "data": {
      "text/plain": [
       "1"
      ]
     },
     "execution_count": 8,
     "metadata": {},
     "output_type": "execute_result"
    }
   ],
   "source": [
    "foo.a"
   ]
  },
  {
   "cell_type": "code",
   "execution_count": 9,
   "id": "67b0770a",
   "metadata": {
    "ExecuteTime": {
     "end_time": "2023-06-20T17:16:13.047293Z",
     "start_time": "2023-06-20T17:16:13.043881Z"
    }
   },
   "outputs": [
    {
     "data": {
      "text/plain": [
       "1"
      ]
     },
     "execution_count": 9,
     "metadata": {},
     "output_type": "execute_result"
    }
   ],
   "source": [
    "foo1.a"
   ]
  },
  {
   "cell_type": "code",
   "execution_count": 10,
   "id": "ef1b80e9",
   "metadata": {
    "ExecuteTime": {
     "end_time": "2023-06-20T17:16:16.151272Z",
     "start_time": "2023-06-20T17:16:16.147969Z"
    }
   },
   "outputs": [
    {
     "data": {
      "text/plain": [
       "1"
      ]
     },
     "execution_count": 10,
     "metadata": {},
     "output_type": "execute_result"
    }
   ],
   "source": [
    "foo2.a"
   ]
  },
  {
   "cell_type": "markdown",
   "id": "99d37be3",
   "metadata": {},
   "source": [
    "# References\n",
    "<hr style=\"border:2px solid black\"> </hr>"
   ]
  },
  {
   "cell_type": "markdown",
   "id": "f05cac0b",
   "metadata": {},
   "source": [
    "<div class=\"alert alert-warning\">\n",
    "<font color=black>\n",
    "\n",
    "- [What is __init__.py? : A guide](https://careerkarma.com/blog/what-is-init-py/)\n",
    "- [Why can I import successfully without __init__.py?](https://stackoverflow.com/questions/37974843/why-can-i-import-successfully-without-init-py)\n",
    "    \n",
    "</font>\n",
    "</div>"
   ]
  },
  {
   "cell_type": "code",
   "execution_count": null,
   "id": "32c0d9c4",
   "metadata": {},
   "outputs": [],
   "source": []
  }
 ],
 "metadata": {
  "kernelspec": {
   "display_name": "trainingAI",
   "language": "python",
   "name": "trainingai"
  },
  "language_info": {
   "codemirror_mode": {
    "name": "ipython",
    "version": 3
   },
   "file_extension": ".py",
   "mimetype": "text/x-python",
   "name": "python",
   "nbconvert_exporter": "python",
   "pygments_lexer": "ipython3",
   "version": "3.9.7"
  },
  "toc": {
   "base_numbering": 1,
   "nav_menu": {},
   "number_sections": true,
   "sideBar": true,
   "skip_h1_title": false,
   "title_cell": "Table of Contents",
   "title_sidebar": "Contents",
   "toc_cell": true,
   "toc_position": {},
   "toc_section_display": true,
   "toc_window_display": true
  },
  "varInspector": {
   "cols": {
    "lenName": 16,
    "lenType": 16,
    "lenVar": 40
   },
   "kernels_config": {
    "python": {
     "delete_cmd_postfix": "",
     "delete_cmd_prefix": "del ",
     "library": "var_list.py",
     "varRefreshCmd": "print(var_dic_list())"
    },
    "r": {
     "delete_cmd_postfix": ") ",
     "delete_cmd_prefix": "rm(",
     "library": "var_list.r",
     "varRefreshCmd": "cat(var_dic_list()) "
    }
   },
   "types_to_exclude": [
    "module",
    "function",
    "builtin_function_or_method",
    "instance",
    "_Feature"
   ],
   "window_display": false
  }
 },
 "nbformat": 4,
 "nbformat_minor": 5
}
