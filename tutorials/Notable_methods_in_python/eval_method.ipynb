{
 "cells": [
  {
   "cell_type": "markdown",
   "metadata": {
    "toc": true
   },
   "source": [
    "<h1>Table of Contents<span class=\"tocSkip\"></span></h1>\n",
    "<div class=\"toc\"><ul class=\"toc-item\"><li><span><a href=\"#Introduction\" data-toc-modified-id=\"Introduction-1\"><span class=\"toc-item-num\">1&nbsp;&nbsp;</span>Introduction</a></span></li><li><span><a href=\"#What-is-the-ord-method?\" data-toc-modified-id=\"What-is-the-ord-method?-2\"><span class=\"toc-item-num\">2&nbsp;&nbsp;</span>What is the ord method?</a></span></li><li><span><a href=\"#Example-#1\" data-toc-modified-id=\"Example-#1-3\"><span class=\"toc-item-num\">3&nbsp;&nbsp;</span>Example #1</a></span></li><li><span><a href=\"#Example-#2\" data-toc-modified-id=\"Example-#2-4\"><span class=\"toc-item-num\">4&nbsp;&nbsp;</span>Example #2</a></span></li><li><span><a href=\"#References\" data-toc-modified-id=\"References-5\"><span class=\"toc-item-num\">5&nbsp;&nbsp;</span>References</a></span></li></ul></div>"
   ]
  },
  {
   "cell_type": "markdown",
   "metadata": {},
   "source": [
    "# Introduction"
   ]
  },
  {
   "cell_type": "markdown",
   "metadata": {},
   "source": [
    "<div class=\"alert alert-warning\">\n",
    "<font color=black>\n",
    "\n",
    "**What?** `eval` method\n",
    "\n",
    "</font>\n",
    "</div>"
   ]
  },
  {
   "cell_type": "markdown",
   "metadata": {},
   "source": [
    "# What is the ord method?"
   ]
  },
  {
   "cell_type": "markdown",
   "metadata": {},
   "source": [
    "<div class=\"alert alert-info\">\n",
    "<font color=black>\n",
    "\n",
    "- The `eval()` method parses the expression passed to this method and runs python expression (code) within the program.\n",
    "\n",
    "</font>\n",
    "</div>"
   ]
  },
  {
   "cell_type": "markdown",
   "metadata": {},
   "source": [
    "# Example #1"
   ]
  },
  {
   "cell_type": "code",
   "execution_count": 3,
   "metadata": {},
   "outputs": [
    {
     "name": "stdout",
     "output_type": "stream",
     "text": [
      "81\n",
      "81\n"
     ]
    }
   ],
   "source": [
    "number = 9\n",
    "# eval performs the multiplication passed as argument\n",
    "square_number = eval('number * number')\n",
    "print(square_number)\n",
    "\n",
    "# but you can also pass the a string as well\n",
    "number = \"9\"\n",
    "square_number = eval(number) * eval(number)\n",
    "\n",
    "print(square_number)"
   ]
  },
  {
   "cell_type": "markdown",
   "metadata": {},
   "source": [
    "# Example #2"
   ]
  },
  {
   "cell_type": "code",
   "execution_count": 5,
   "metadata": {},
   "outputs": [
    {
     "name": "stdout",
     "output_type": "stream",
     "text": [
      "Type a function: calculateArea(l)\n",
      "If length is  1 , Area =  1\n",
      "If length is  2 , Area =  4\n",
      "If length is  3 , Area =  9\n",
      "If length is  4 , Area =  16\n"
     ]
    }
   ],
   "source": [
    "# Perimeter of Square\n",
    "def calculatePerimeter(l):\n",
    "    return 4*l\n",
    "\n",
    "# Area of Square\n",
    "def calculateArea(l):\n",
    "    return l*l\n",
    "\n",
    "expression = input(\"Type a function: \")\n",
    "\n",
    "for l in range(1, 5):\n",
    "    if (expression == 'calculatePerimeter(l)'):\n",
    "        print(\"If length is \", l, \", Perimeter = \", eval(expression))\n",
    "\n",
    "    elif (expression == 'calculateArea(l)'):\n",
    "        print(\"If length is \", l, \", Area = \", eval(expression))\n",
    "\n",
    "    else:\n",
    "        print('Wrong Function')\n",
    "        break"
   ]
  },
  {
   "cell_type": "markdown",
   "metadata": {},
   "source": [
    "# References"
   ]
  },
  {
   "cell_type": "markdown",
   "metadata": {},
   "source": [
    "<div class=\"alert alert-warning\">\n",
    "<font color=black>\n",
    "\n",
    "- https://www.programiz.com/python-programming/methods/built-in/eval\n",
    "\n",
    "</font>\n",
    "</div>"
   ]
  },
  {
   "cell_type": "code",
   "execution_count": null,
   "metadata": {},
   "outputs": [],
   "source": []
  }
 ],
 "metadata": {
  "kernelspec": {
   "display_name": "trainingAI",
   "language": "python",
   "name": "trainingai"
  },
  "language_info": {
   "codemirror_mode": {
    "name": "ipython",
    "version": 3
   },
   "file_extension": ".py",
   "mimetype": "text/x-python",
   "name": "python",
   "nbconvert_exporter": "python",
   "pygments_lexer": "ipython3",
   "version": "3.9.7"
  },
  "toc": {
   "base_numbering": 1,
   "nav_menu": {},
   "number_sections": true,
   "sideBar": true,
   "skip_h1_title": false,
   "title_cell": "Table of Contents",
   "title_sidebar": "Contents",
   "toc_cell": true,
   "toc_position": {},
   "toc_section_display": true,
   "toc_window_display": true
  },
  "varInspector": {
   "cols": {
    "lenName": 16,
    "lenType": 16,
    "lenVar": 40
   },
   "kernels_config": {
    "python": {
     "delete_cmd_postfix": "",
     "delete_cmd_prefix": "del ",
     "library": "var_list.py",
     "varRefreshCmd": "print(var_dic_list())"
    },
    "r": {
     "delete_cmd_postfix": ") ",
     "delete_cmd_prefix": "rm(",
     "library": "var_list.r",
     "varRefreshCmd": "cat(var_dic_list()) "
    }
   },
   "types_to_exclude": [
    "module",
    "function",
    "builtin_function_or_method",
    "instance",
    "_Feature"
   ],
   "window_display": false
  }
 },
 "nbformat": 4,
 "nbformat_minor": 2
}
