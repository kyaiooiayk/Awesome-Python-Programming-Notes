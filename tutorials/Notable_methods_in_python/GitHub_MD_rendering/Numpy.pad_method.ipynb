{
 "cells": [
  {
   "cell_type": "markdown",
   "metadata": {
    "toc": true
   },
   "source": [
    "<h1>Table of Contents<span class=\"tocSkip\"></span></h1>\n",
""   ]
  },
  {
   "cell_type": "markdown",
   "metadata": {},
   "source": [
    "# Introduction\n",
    "<hr style=\"border:2px solid black\"> </hr>"
   ]
  },
  {
   "cell_type": "markdown",
   "metadata": {},
   "source": [
    "\n",
    "**What?** `numpy.pad()` method\n",
    "\n",
""   ]
  },
  {
   "cell_type": "markdown",
   "metadata": {},
   "source": [
    "# Motivation\n",
    "<hr style=\"border:2px solid black\"> </hr>"
   ]
  },
  {
   "cell_type": "markdown",
   "metadata": {},
   "source": [
    "\n",
    "- `np.pad` is used to artificially change the shappe of a matrix.\n",
    "- An image can be represented via matrix or a tensor more precisely.\n",
    "- Padding describes the addition of zeros to the *border of matrix*.\n",
    "- Say you have an image of dimension `(28,28,1)` and you'd like to turn it into a `(32,32,1)`, you can do it by adding zeros all around it.\n",
    "\n",
""   ]
  },
  {
   "cell_type": "code",
   "execution_count": 2,
   "metadata": {},
   "outputs": [],
   "source": [
    "import numpy as np"
   ]
  },
  {
   "cell_type": "markdown",
   "metadata": {},
   "source": [
    "# Example #1\n",
    "<hr style=\"border:2px solid black\"> </hr>"
   ]
  },
  {
   "cell_type": "code",
   "execution_count": 5,
   "metadata": {},
   "outputs": [
    {
     "name": "stdout",
     "output_type": "stream",
     "text": [
      "(3, 2, 2)\n",
      "[[[ 0  1]\n",
      "  [ 2  3]]\n",
      "\n",
      " [[ 4  5]\n",
      "  [ 6  7]]\n",
      "\n",
      " [[ 8  9]\n",
      "  [10 11]]]\n"
     ]
    }
   ],
   "source": [
    "# Create a tensor\n",
    "z = np.arange(12).reshape(3,2,2)\n",
    "print(z.shape)\n",
    "print(z)"
   ]
  },
  {
   "cell_type": "markdown",
   "metadata": {},
   "source": [
    "\n",
    "- The pad_width argument to np.pad works like this: ((axis 1 pad before, axis 1 pad after), ...)\n",
    "- So if you want to pad 1 pixel on each side you should do ((0,0), (1,1), (1,1)). \n",
    "\n",
""   ]
  },
  {
   "cell_type": "code",
   "execution_count": 7,
   "metadata": {},
   "outputs": [
    {
     "name": "stdout",
     "output_type": "stream",
     "text": [
      "(3, 6, 6)\n",
      "[[[ 0  0  0  0  0  0]\n",
      "  [ 0  0  0  0  0  0]\n",
      "  [ 0  0  0  1  0  0]\n",
      "  [ 0  0  2  3  0  0]\n",
      "  [ 0  0  0  0  0  0]\n",
      "  [ 0  0  0  0  0  0]]\n",
      "\n",
      " [[ 0  0  0  0  0  0]\n",
      "  [ 0  0  0  0  0  0]\n",
      "  [ 0  0  4  5  0  0]\n",
      "  [ 0  0  6  7  0  0]\n",
      "  [ 0  0  0  0  0  0]\n",
      "  [ 0  0  0  0  0  0]]\n",
      "\n",
      " [[ 0  0  0  0  0  0]\n",
      "  [ 0  0  0  0  0  0]\n",
      "  [ 0  0  8  9  0  0]\n",
      "  [ 0  0 10 11  0  0]\n",
      "  [ 0  0  0  0  0  0]\n",
      "  [ 0  0  0  0  0  0]]]\n"
     ]
    }
   ],
   "source": [
    "z = np.pad(z, ((0,0),(1,1),(1,1)), 'constant')\n",
    "print(z.shape)\n",
    "# (3, 4, 4)\n",
    "print(z)"
   ]
  },
  {
   "cell_type": "code",
   "execution_count": 8,
   "metadata": {},
   "outputs": [
    {
     "name": "stdout",
     "output_type": "stream",
     "text": [
      "[[0 0 0 0 0 0]\n",
      " [0 0 0 0 0 0]\n",
      " [0 0 4 5 0 0]\n",
      " [0 0 6 7 0 0]\n",
      " [0 0 0 0 0 0]\n",
      " [0 0 0 0 0 0]]\n"
     ]
    }
   ],
   "source": [
    "# as an example, take a look at the second \"image\"\n",
    "print(z[1])"
   ]
  },
  {
   "cell_type": "markdown",
   "metadata": {},
   "source": [
    "# References\n",
    "<hr style=\"border:2px solid black\"> </hr>"
   ]
  },
  {
   "cell_type": "markdown",
   "metadata": {},
   "source": [
    "\n",
    "- https://stackoverflow.com/questions/61309432/padding-mnist-images-from-28-28-1-to-32-32-1\n",
    "    \n",
""   ]
  },
  {
   "cell_type": "code",
   "execution_count": null,
   "metadata": {},
   "outputs": [],
   "source": []
  }
 ],
 "metadata": {
  "hide_input": false,
  "kernelspec": {
   "display_name": "trainingAI",
   "language": "python",
   "name": "trainingai"
  },
  "language_info": {
   "codemirror_mode": {
    "name": "ipython",
    "version": 3
   },
   "file_extension": ".py",
   "mimetype": "text/x-python",
   "name": "python",
   "nbconvert_exporter": "python",
   "pygments_lexer": "ipython3",
   "version": "3.9.7"
  },
  "toc": {
   "base_numbering": 1,
   "nav_menu": {},
   "number_sections": true,
   "sideBar": true,
   "skip_h1_title": false,
   "title_cell": "Table of Contents",
   "title_sidebar": "Contents",
   "toc_cell": true,
   "toc_position": {},
   "toc_section_display": true,
   "toc_window_display": true
  },
  "varInspector": {
   "cols": {
    "lenName": 16,
    "lenType": 16,
    "lenVar": 40
   },
   "kernels_config": {
    "python": {
     "delete_cmd_postfix": "",
     "delete_cmd_prefix": "del ",
     "library": "var_list.py",
     "varRefreshCmd": "print(var_dic_list())"
    },
    "r": {
     "delete_cmd_postfix": ") ",
     "delete_cmd_prefix": "rm(",
     "library": "var_list.r",
     "varRefreshCmd": "cat(var_dic_list()) "
    }
   },
   "types_to_exclude": [
    "module",
    "function",
    "builtin_function_or_method",
    "instance",
    "_Feature"
   ],
   "window_display": false
  }
 },
 "nbformat": 4,
 "nbformat_minor": 2
}
