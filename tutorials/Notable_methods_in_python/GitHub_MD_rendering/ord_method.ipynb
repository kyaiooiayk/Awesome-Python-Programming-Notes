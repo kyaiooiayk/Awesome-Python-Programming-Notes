{
 "cells": [
  {
   "cell_type": "markdown",
   "metadata": {},
   "source": [
    "# Introduction"
   ]
  },
  {
   "cell_type": "markdown",
   "metadata": {},
   "source": [
    "\n",
    "**What?** `ord` method\n",
    "\n",
""   ]
  },
  {
   "cell_type": "markdown",
   "metadata": {},
   "source": [
    "# What is the ord method?"
   ]
  },
  {
   "cell_type": "markdown",
   "metadata": {},
   "source": [
    "\n",
    "- The Python `ord()` method converts a character into its Unicode code.\n",
    "- This method returns an integer that represents that character in Unicode. \n",
    "\n",
    "\n",
    "- **An example?** For example, you may be creating a profile update form in Python that needs to check each string for emojis and other special characters. These characters are not allowed to be used in the form.\n",
    "\n",
    "\n",
""   ]
  },
  {
   "cell_type": "markdown",
   "metadata": {},
   "source": [
    "# What is unicode?"
   ]
  },
  {
   "cell_type": "markdown",
   "metadata": {},
   "source": [
    "\n",
    "- Letters that appear on computers are stored by computers as a list of numbers.\n",
    "- This all changed In 1991. In this year, an organization called the Unicode Consortium published a standardized specification for how characters could be represented with computers.\n",
    "\n",
""   ]
  },
  {
   "cell_type": "markdown",
   "metadata": {},
   "source": [
    "**Example #1**"
   ]
  },
  {
   "cell_type": "code",
   "execution_count": 2,
   "metadata": {},
   "outputs": [
    {
     "name": "stdout",
     "output_type": "stream",
     "text": [
      "Unicode representation for  a is 97\n",
      "Unicode representation for  b is 98\n",
      "Unicode representation for  c is 99\n",
      "Unicode representation for  d is 100\n",
      "Unicode representation for  e is 101\n"
     ]
    }
   ],
   "source": [
    "string = [\"a\", \"b\", \"c\", \"d\", \"e\"]\n",
    "for i in string:\n",
    "    print(\"Unicode representation for \", i, \"is\", ord(i))"
   ]
  },
  {
   "cell_type": "markdown",
   "metadata": {},
   "source": [
    "**Example #2**"
   ]
  },
  {
   "cell_type": "markdown",
   "metadata": {},
   "source": [
    "\n",
    "- `ord()` is the opposite of the `chr()` method. Whereas `chr()` returns the character correlated with a Unicode value, `ord()` returns the Unicode value of a particular character. \n",
    "\n",
""   ]
  },
  {
   "cell_type": "code",
   "execution_count": 4,
   "metadata": {},
   "outputs": [
    {
     "name": "stdout",
     "output_type": "stream",
     "text": [
      "Unicode representation for  a is 97 , checking the reverse conversion:  a\n",
      "Unicode representation for  b is 98 , checking the reverse conversion:  b\n",
      "Unicode representation for  c is 99 , checking the reverse conversion:  c\n",
      "Unicode representation for  d is 100 , checking the reverse conversion:  d\n",
      "Unicode representation for  e is 101 , checking the reverse conversion:  e\n"
     ]
    }
   ],
   "source": [
    "for i in string:\n",
    "    print(\"Unicode representation for \", i, \"is\", ord(i), \", checking the reverse conversion: \", chr(ord(i)))"
   ]
  },
  {
   "cell_type": "markdown",
   "metadata": {},
   "source": [
    "# References"
   ]
  },
  {
   "cell_type": "markdown",
   "metadata": {},
   "source": [
    "\n",
    "- https://careerkarma.com/blog/python-ord/\n",
    "\n",
""   ]
  },
  {
   "cell_type": "code",
   "execution_count": null,
   "metadata": {},
   "outputs": [],
   "source": []
  }
 ],
 "metadata": {
  "kernelspec": {
   "display_name": "trainingAI",
   "language": "python",
   "name": "trainingai"
  },
  "language_info": {
   "codemirror_mode": {
    "name": "ipython",
    "version": 3
   },
   "file_extension": ".py",
   "mimetype": "text/x-python",
   "name": "python",
   "nbconvert_exporter": "python",
   "pygments_lexer": "ipython3",
   "version": "3.8.5"
  }
 },
 "nbformat": 4,
 "nbformat_minor": 2
}
