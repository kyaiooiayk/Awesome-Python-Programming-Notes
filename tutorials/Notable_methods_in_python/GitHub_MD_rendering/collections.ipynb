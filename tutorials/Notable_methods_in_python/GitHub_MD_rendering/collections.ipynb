{
 "cells": [
  {
   "cell_type": "markdown",
   "id": "d4686267",
   "metadata": {
    "toc": true
   },
   "source": [
    "<h1>Table of Contents<span class=\"tocSkip\"></span></h1>\n",
""   ]
  },
  {
   "cell_type": "markdown",
   "id": "4d678836",
   "metadata": {},
   "source": [
    "# Introduction\n",
    "<hr style = \"border:2px solid black\" ></hr>"
   ]
  },
  {
   "cell_type": "markdown",
   "id": "3ab82bf9",
   "metadata": {},
   "source": [
    "\n",
    "**What?** collections\n",
    "\n",
""   ]
  },
  {
   "cell_type": "markdown",
   "id": "499081bc",
   "metadata": {},
   "source": [
    "# Imports\n",
    "<hr style = \"border:2px solid black\" ></hr>"
   ]
  },
  {
   "cell_type": "code",
   "execution_count": 1,
   "id": "b2ce0209",
   "metadata": {
    "ExecuteTime": {
     "end_time": "2023-01-16T13:55:02.633690Z",
     "start_time": "2023-01-16T13:55:02.630750Z"
    }
   },
   "outputs": [],
   "source": [
    "from collections import OrderedDict"
   ]
  },
  {
   "cell_type": "markdown",
   "id": "301e4566",
   "metadata": {},
   "source": [
    "# collections\n",
    "<hr style = \"border:2px solid black\" ></hr>"
   ]
  },
  {
   "cell_type": "markdown",
   "id": "d9c691a7",
   "metadata": {},
   "source": [
    "\n",
    "- This module implements specialized container datatypes providing alternatives to Python’s general purpose built-in containers, dict, list, set, and tuple.\n",
    "    \n",
""   ]
  },
  {
   "cell_type": "markdown",
   "id": "f5ced74e",
   "metadata": {},
   "source": [
    "# Example #1\n",
    "<hr style = \"border:2px solid black\" ></hr>"
   ]
  },
  {
   "cell_type": "markdown",
   "id": "de29833f",
   "metadata": {},
   "source": [
    "\n",
    "- Get rid of duplicates in a list of integers.\n",
    "\n",
""   ]
  },
  {
   "cell_type": "code",
   "execution_count": 4,
   "id": "6dea1a7a",
   "metadata": {
    "ExecuteTime": {
     "end_time": "2023-01-16T13:56:18.918878Z",
     "start_time": "2023-01-16T13:56:18.914213Z"
    }
   },
   "outputs": [
    {
     "data": {
      "text/plain": [
       "OrderedDict([(1, None), (2, None), (0, None), (3, None)])"
      ]
     },
     "execution_count": 4,
     "metadata": {},
     "output_type": "execute_result"
    }
   ],
   "source": [
    "items = [1, 2, 0, 1, 3, 2]\n",
    "OrderedDict.fromkeys(items)"
   ]
  },
  {
   "cell_type": "code",
   "execution_count": 5,
   "id": "512148d2",
   "metadata": {
    "ExecuteTime": {
     "end_time": "2023-01-16T13:56:27.438636Z",
     "start_time": "2023-01-16T13:56:27.434670Z"
    }
   },
   "outputs": [
    {
     "data": {
      "text/plain": [
       "collections.OrderedDict"
      ]
     },
     "execution_count": 5,
     "metadata": {},
     "output_type": "execute_result"
    }
   ],
   "source": [
    "type(OrderedDict.fromkeys(items))"
   ]
  },
  {
   "cell_type": "code",
   "execution_count": 6,
   "id": "6913490c",
   "metadata": {
    "ExecuteTime": {
     "end_time": "2023-01-16T13:56:36.565096Z",
     "start_time": "2023-01-16T13:56:36.561196Z"
    }
   },
   "outputs": [
    {
     "data": {
      "text/plain": [
       "[1, 2, 0, 3]"
      ]
     },
     "execution_count": 6,
     "metadata": {},
     "output_type": "execute_result"
    }
   ],
   "source": [
    "list(OrderedDict.fromkeys(items))"
   ]
  },
  {
   "cell_type": "markdown",
   "id": "7317951d",
   "metadata": {
    "ExecuteTime": {
     "end_time": "2023-01-16T13:55:30.738620Z",
     "start_time": "2023-01-16T13:55:30.735205Z"
    }
   },
   "source": [
    "# References\n",
    "<hr style = \"border:2px solid black\" ></hr>"
   ]
  },
  {
   "cell_type": "markdown",
   "id": "8ec25e4b",
   "metadata": {},
   "source": [
    "\n",
    "- [How do I remove duplicates from a list, while preserving order?](https://stackoverflow.com/questions/480214/how-do-i-remove-duplicates-from-a-list-while-preserving-order)\n",
    "\n",
""   ]
  },
  {
   "cell_type": "code",
   "execution_count": null,
   "id": "481e14eb",
   "metadata": {},
   "outputs": [],
   "source": []
  }
 ],
 "metadata": {
  "kernelspec": {
   "display_name": "trainingAI",
   "language": "python",
   "name": "trainingai"
  },
  "language_info": {
   "codemirror_mode": {
    "name": "ipython",
    "version": 3
   },
   "file_extension": ".py",
   "mimetype": "text/x-python",
   "name": "python",
   "nbconvert_exporter": "python",
   "pygments_lexer": "ipython3",
   "version": "3.9.7"
  },
  "toc": {
   "base_numbering": 1,
   "nav_menu": {},
   "number_sections": true,
   "sideBar": true,
   "skip_h1_title": false,
   "title_cell": "Table of Contents",
   "title_sidebar": "Contents",
   "toc_cell": true,
   "toc_position": {},
   "toc_section_display": true,
   "toc_window_display": true
  },
  "varInspector": {
   "cols": {
    "lenName": 16,
    "lenType": 16,
    "lenVar": 40
   },
   "kernels_config": {
    "python": {
     "delete_cmd_postfix": "",
     "delete_cmd_prefix": "del ",
     "library": "var_list.py",
     "varRefreshCmd": "print(var_dic_list())"
    },
    "r": {
     "delete_cmd_postfix": ") ",
     "delete_cmd_prefix": "rm(",
     "library": "var_list.r",
     "varRefreshCmd": "cat(var_dic_list()) "
    }
   },
   "types_to_exclude": [
    "module",
    "function",
    "builtin_function_or_method",
    "instance",
    "_Feature"
   ],
   "window_display": false
  }
 },
 "nbformat": 4,
 "nbformat_minor": 5
}
