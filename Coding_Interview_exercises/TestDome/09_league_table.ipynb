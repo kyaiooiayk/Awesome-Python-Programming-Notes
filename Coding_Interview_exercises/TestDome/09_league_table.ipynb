{
 "cells": [
  {
   "cell_type": "markdown",
   "id": "4cb22ddf",
   "metadata": {},
   "source": [
    "# Instruction\n",
    "<hr style = \"border:2px solid black\" ></hr>"
   ]
  },
  {
   "cell_type": "markdown",
   "id": "1d01603e",
   "metadata": {},
   "source": [
    "<div class=\"alert alert-warning\">\n",
    "<font color=black>\n",
    "\n",
    "- **To be completed 20min**\n",
    "\n",
    "- The LeagueTable class tracks the score of each player in a league. After each game, the player records their score with the record_result function.\n",
    "\n",
    "- The player's rank in the league is calculated using the following logic:\n",
    "    - The player with the highest score is ranked first (rank 1). The player with the lowest score is ranked last.\n",
    "    - If two players are tied on score, then the player who has played the fewest games is ranked higher.\n",
    "    - If two players are tied on score and number of games played, then the player who was first in the list of players is ranked higher.\n",
    "\n",
    "- Implement the player_rank function that returns the player at the given rank.\n",
    "```\n",
    "For example:\n",
    "table = LeagueTable(['Mike', 'Chris', 'Arnold'])\n",
    "table.record_result('Mike', 2)\n",
    "table.record_result('Mike', 3)\n",
    "table.record_result('Arnold', 5)\n",
    "table.record_result('Chris', 5)\n",
    "print(table.player_rank(1))\n",
    "```\n",
    "    \n",
    "- All players have the same score. However, Arnold and Chris have played fewer games than Mike, and as Chris is before Arnold in the list of players, he is ranked first. \n",
    "- Therefore, the code above should display \"Chris\".\n",
    "    \n",
    "</font>\n",
    "</div>"
   ]
  },
  {
   "cell_type": "markdown",
   "id": "20fc8f5c",
   "metadata": {},
   "source": [
    "# Start-up code\n",
    "<hr style = \"border:2px solid black\" ></hr>"
   ]
  },
  {
   "cell_type": "code",
   "execution_count": null,
   "id": "cf0c5e3e",
   "metadata": {},
   "outputs": [],
   "source": [
    "from collections import Counter\n",
    "from collections import OrderedDict\n",
    "\n",
    "class LeagueTable:\n",
    "    def __init__(self, players):\n",
    "        self.standings = OrderedDict([(player, Counter()) for player in players])\n",
    "    def record_result(self, player, score):\n",
    "        self.standings[player]['games_played'] += 1\n",
    "        self.standings[player]['score'] += score\n",
    "    def player_rank(self, rank):\n",
    "        return None\n",
    "    \n",
    "table = LeagueTable(['Mike', 'Chris', 'Arnold'])\n",
    "table.record_result('Mike', 2)\n",
    "table.record_result('Mike', 3)\n",
    "table.record_result('Arnold', 5)\n",
    "table.record_result('Chris', 5)\n",
    "print(table.player_rank(1))"
   ]
  },
  {
   "cell_type": "markdown",
   "id": "f163751a",
   "metadata": {},
   "source": [
    "# Solution #1\n",
    "<hr style = \"border:2px solid black\" ></hr>"
   ]
  },
  {
   "cell_type": "code",
   "execution_count": 1,
   "id": "f49b1c53",
   "metadata": {
    "ExecuteTime": {
     "end_time": "2022-03-11T10:15:17.712279Z",
     "start_time": "2022-03-11T10:15:17.706075Z"
    }
   },
   "outputs": [
    {
     "name": "stdout",
     "output_type": "stream",
     "text": [
      "Chris\n"
     ]
    }
   ],
   "source": [
    "from collections import Counter\n",
    "from collections import OrderedDict\n",
    "\n",
    "\n",
    "class LeagueTable:\n",
    "    def __init__(self, players):\n",
    "        self.standings = OrderedDict(\n",
    "            [(player, Counter()) for player in players])\n",
    "\n",
    "    def record_result(self, player, score):\n",
    "        self.standings[player]['games_played'] += 1\n",
    "        self.standings[player]['score'] += score\n",
    "\n",
    "    def player_rank(self, rank):\n",
    "        ranks = [(-counter['score'], counter['games_played'], i, name)\n",
    "                 for i, (name, counter) in enumerate(self.standings.items())]\n",
    "\n",
    "        return sorted(ranks)[rank-1][3]\n",
    "\n",
    "\n",
    "table = LeagueTable(['Mike', 'Chris', 'Arnold'])\n",
    "table.record_result('Mike', 2)\n",
    "table.record_result('Mike', 3)\n",
    "table.record_result('Arnold', 5)\n",
    "table.record_result('Chris', 5)\n",
    "print(table.player_rank(1))"
   ]
  },
  {
   "cell_type": "markdown",
   "id": "364120bc",
   "metadata": {},
   "source": [
    "# References\n",
    "<hr style = \"border:2px solid black\" ></hr>"
   ]
  },
  {
   "cell_type": "markdown",
   "id": "8a992212",
   "metadata": {},
   "source": [
    "<div class=\"alert alert-warning\">\n",
    "<font color=black>\n",
    "\n",
    "- [TestDome home page](https://www.testdome.com/tests/python-online-test/45)\n",
    "- [Solution #1](https://github.com/jozo/testdome-python-solutions/blob/master/09_league_table.py)\n",
    "\n",
    "</font>\n",
    "</div>"
   ]
  },
  {
   "cell_type": "code",
   "execution_count": null,
   "id": "88e08bbd",
   "metadata": {},
   "outputs": [],
   "source": []
  }
 ],
 "metadata": {
  "kernelspec": {
   "display_name": "trainingAI",
   "language": "python",
   "name": "trainingai"
  },
  "language_info": {
   "codemirror_mode": {
    "name": "ipython",
    "version": 3
   },
   "file_extension": ".py",
   "mimetype": "text/x-python",
   "name": "python",
   "nbconvert_exporter": "python",
   "pygments_lexer": "ipython3",
   "version": "3.9.7"
  },
  "toc": {
   "base_numbering": 1,
   "nav_menu": {},
   "number_sections": true,
   "sideBar": true,
   "skip_h1_title": false,
   "title_cell": "Table of Contents",
   "title_sidebar": "Contents",
   "toc_cell": false,
   "toc_position": {},
   "toc_section_display": true,
   "toc_window_display": true
  },
  "varInspector": {
   "cols": {
    "lenName": 16,
    "lenType": 16,
    "lenVar": 40
   },
   "kernels_config": {
    "python": {
     "delete_cmd_postfix": "",
     "delete_cmd_prefix": "del ",
     "library": "var_list.py",
     "varRefreshCmd": "print(var_dic_list())"
    },
    "r": {
     "delete_cmd_postfix": ") ",
     "delete_cmd_prefix": "rm(",
     "library": "var_list.r",
     "varRefreshCmd": "cat(var_dic_list()) "
    }
   },
   "types_to_exclude": [
    "module",
    "function",
    "builtin_function_or_method",
    "instance",
    "_Feature"
   ],
   "window_display": false
  }
 },
 "nbformat": 4,
 "nbformat_minor": 5
}
