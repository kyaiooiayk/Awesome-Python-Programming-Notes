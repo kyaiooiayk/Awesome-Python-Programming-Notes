{
 "cells": [
  {
   "cell_type": "markdown",
   "id": "4cb22ddf",
   "metadata": {},
   "source": [
    "# Instruction\n",
    "<hr style = \"border:2px solid black\" ></hr>"
   ]
  },
  {
   "cell_type": "markdown",
   "id": "434510f8",
   "metadata": {},
   "source": [
    "<div class=\"alert alert-warning\">\n",
    "<font color=black>\n",
    "\n",
    "- To be completed in **10 min** \n",
    "- Implement a group_by_owners function that: Accepts a dictionary containing the file owner name for each file name. \n",
    "- Returns a dictionary containing a list of file names for each owner name, in any order. \n",
    "- For example, for dictionary {'Input.txt': 'Randy', 'Code.py': 'Stan', 'Output.txt': 'Randy'} the group_by_owners function should return {'Randy': ['Input.txt', 'Output.txt'], 'Stan': ['Code.py']}.\n",
    "\n",
    "</font>\n",
    "</div>"
   ]
  },
  {
   "cell_type": "markdown",
   "id": "20fc8f5c",
   "metadata": {},
   "source": [
    "# Start-up code\n",
    "<hr style = \"border:2px solid black\" ></hr>"
   ]
  },
  {
   "cell_type": "code",
   "execution_count": null,
   "id": "b26438ec",
   "metadata": {},
   "outputs": [],
   "source": [
    "def group_by_owners(files):\n",
    "    return None\n",
    "files = {\n",
    "    'Input.txt': 'Randy',\n",
    "    'Code.py': 'Stan',\n",
    "    'Output.txt': 'Randy'\n",
    "}\n",
    "print(group_by_owners(files))"
   ]
  },
  {
   "cell_type": "markdown",
   "id": "bb79330c",
   "metadata": {},
   "source": [
    "# Dirty solution\n",
    "<hr style = \"border:2px solid black\" ></hr>"
   ]
  },
  {
   "cell_type": "code",
   "execution_count": 1,
   "id": "ade38539",
   "metadata": {
    "ExecuteTime": {
     "end_time": "2022-03-11T06:50:14.827629Z",
     "start_time": "2022-03-11T06:50:14.820202Z"
    }
   },
   "outputs": [
    {
     "name": "stdout",
     "output_type": "stream",
     "text": [
      "dict_keys(['Input.txt', 'Code.py', 'Output.txt'])\n",
      "['__class__', '__class_getitem__', '__contains__', '__delattr__', '__delitem__', '__dir__', '__doc__', '__eq__', '__format__', '__ge__', '__getattribute__', '__getitem__', '__gt__', '__hash__', '__init__', '__init_subclass__', '__ior__', '__iter__', '__le__', '__len__', '__lt__', '__ne__', '__new__', '__or__', '__reduce__', '__reduce_ex__', '__repr__', '__reversed__', '__ror__', '__setattr__', '__setitem__', '__sizeof__', '__str__', '__subclasshook__', 'clear', 'copy', 'fromkeys', 'get', 'items', 'keys', 'pop', 'popitem', 'setdefault', 'update', 'values']\n",
      "dict_values(['Randy', 'Stan', 'Randy'])\n",
      "current owner: Randy\n",
      "Randy True True\n",
      "Randy\n",
      "Stan False False\n",
      "Randy True True\n",
      "Randy\n",
      "results Randy ['Input.txt', 'Output.txt']\n",
      "current owner: Stan\n",
      "Randy True False\n",
      "Stan False True\n",
      "Stan\n",
      "Randy True False\n",
      "results Stan ['Code.py']\n",
      "current owner: Randy\n",
      "Randy True True\n",
      "Randy\n",
      "Stan False False\n",
      "Randy True True\n",
      "Randy\n",
      "results Randy ['Input.txt', 'Output.txt']\n",
      "{'Randy': ['Input.txt', 'Output.txt'], 'Stan': ['Code.py']}\n"
     ]
    }
   ],
   "source": [
    "def group_by_owners(files):\n",
    "    # Reminder for myself how to use dict\n",
    "    print(files.keys())\n",
    "    print(dir(files))\n",
    "    print(files.values())\n",
    "    \n",
    "    dict_ = {}\n",
    "    for owner_temp in files.values():\n",
    "        print(\"current owner:\", owner_temp)\n",
    "        owned = []\n",
    "        for key_temp in files.keys():\n",
    "            \n",
    "            print(files[key_temp], files[key_temp] == \"Randy\", files[key_temp] == owner_temp)\n",
    "            if files[key_temp] == owner_temp:\n",
    "                print(files[key_temp])\n",
    "                owned.append(key_temp)\n",
    "        print(\"results\", owner_temp, owned)\n",
    "        dict_[owner_temp] = owned\n",
    "    return dict_\n",
    "files = {\n",
    "    'Input.txt': 'Randy',\n",
    "    'Code.py': 'Stan',\n",
    "    'Output.txt': 'Randy'\n",
    "}\n",
    "print(group_by_owners(files))"
   ]
  },
  {
   "cell_type": "markdown",
   "id": "0e66829c",
   "metadata": {},
   "source": [
    "# Elegant solution\n",
    "<hr style = \"border:2px solid black\" ></hr>"
   ]
  },
  {
   "cell_type": "markdown",
   "id": "b93ff766",
   "metadata": {},
   "source": [
    "<div class=\"alert alert-info\">\n",
    "<font color=black>\n",
    "\n",
    "- Usually, a Python dictionary throws a KeyError if you try to get an item with a key that is not currently in the dictionary.\n",
    "\n",
    "- The defaultdict in contrast will simply create any items that you try to access (provided of course they do not exist yet).\n",
    "\n",
    "- To create such a \"default\" item, it calls the function object that you pass to the constructor (more precisely, it's an arbitrary \"callable\" object, which includes function and type objects).\n",
    "\n",
    "- For instance:\n",
    "    - `a = defaultdict(int)` default items are created using `int()` which will return the integer object 0.\n",
    "    - `b = defaultdict(int)` default items are created using `list()` which returns a new empty list object.\n",
    "\n",
    "</font>\n",
    "</div>"
   ]
  },
  {
   "cell_type": "code",
   "execution_count": 2,
   "id": "6dea1a7a",
   "metadata": {
    "ExecuteTime": {
     "end_time": "2022-03-11T06:52:17.213748Z",
     "start_time": "2022-03-11T06:52:17.209392Z"
    }
   },
   "outputs": [
    {
     "name": "stdout",
     "output_type": "stream",
     "text": [
      "Input.txt Randy\n",
      "Code.py Stan\n",
      "Output.txt Randy\n",
      "{'Randy': ['Input.txt', 'Output.txt'], 'Stan': ['Code.py']}\n"
     ]
    }
   ],
   "source": [
    "from collections import defaultdict\n",
    "\n",
    "def group_by_owners(files):\n",
    "   \n",
    "    owners = defaultdict(list)\n",
    "   \n",
    "    for owned, owner in files.items():\n",
    "        print(owned, owner)\n",
    "        owners[owner].append(owned)\n",
    "       \n",
    "    return dict(owners)\n",
    "    #return owners\n",
    "\n",
    "files = {\n",
    "    'Input.txt': 'Randy',\n",
    "    'Code.py': 'Stan',\n",
    "    'Output.txt': 'Randy'\n",
    "}\n",
    "print(group_by_owners(files))"
   ]
  },
  {
   "cell_type": "markdown",
   "id": "364120bc",
   "metadata": {},
   "source": [
    "# References\n",
    "<hr style = \"border:2px solid black\" ></hr>"
   ]
  },
  {
   "cell_type": "markdown",
   "id": "8f9ff57c",
   "metadata": {},
   "source": [
    "<div class=\"alert alert-warning\">\n",
    "<font color=black>\n",
    "\n",
    "- [TestDome home page](https://www.testdome.com/tests/python-online-test/45)\n",
    "- [elegant solution](https://github.com/jozo/testdome-python-solutions/blob/master/01_file_owners.py)\n",
    "- [python `defaultdict`](https://stackoverflow.com/questions/5900578/how-does-collections-defaultdict-work)\n",
    "\n",
    "</font>\n",
    "</div>"
   ]
  },
  {
   "cell_type": "code",
   "execution_count": null,
   "id": "b1f0a75a",
   "metadata": {},
   "outputs": [],
   "source": []
  }
 ],
 "metadata": {
  "kernelspec": {
   "display_name": "trainingAI",
   "language": "python",
   "name": "trainingai"
  },
  "language_info": {
   "codemirror_mode": {
    "name": "ipython",
    "version": 3
   },
   "file_extension": ".py",
   "mimetype": "text/x-python",
   "name": "python",
   "nbconvert_exporter": "python",
   "pygments_lexer": "ipython3",
   "version": "3.9.7"
  },
  "toc": {
   "base_numbering": 1,
   "nav_menu": {},
   "number_sections": true,
   "sideBar": true,
   "skip_h1_title": false,
   "title_cell": "Table of Contents",
   "title_sidebar": "Contents",
   "toc_cell": false,
   "toc_position": {},
   "toc_section_display": true,
   "toc_window_display": true
  },
  "varInspector": {
   "cols": {
    "lenName": 16,
    "lenType": 16,
    "lenVar": 40
   },
   "kernels_config": {
    "python": {
     "delete_cmd_postfix": "",
     "delete_cmd_prefix": "del ",
     "library": "var_list.py",
     "varRefreshCmd": "print(var_dic_list())"
    },
    "r": {
     "delete_cmd_postfix": ") ",
     "delete_cmd_prefix": "rm(",
     "library": "var_list.r",
     "varRefreshCmd": "cat(var_dic_list()) "
    }
   },
   "types_to_exclude": [
    "module",
    "function",
    "builtin_function_or_method",
    "instance",
    "_Feature"
   ],
   "window_display": false
  }
 },
 "nbformat": 4,
 "nbformat_minor": 5
}
