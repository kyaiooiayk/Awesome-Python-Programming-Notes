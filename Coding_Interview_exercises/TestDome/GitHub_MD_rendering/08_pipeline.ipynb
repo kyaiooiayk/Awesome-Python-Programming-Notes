{
 "cells": [
  {
   "cell_type": "markdown",
   "id": "4cb22ddf",
   "metadata": {},
   "source": [
    "# Instruction\n",
    "<hr style = \"border:2px solid black\" ></hr>"
   ]
  },
  {
   "cell_type": "markdown",
   "id": "ec474c66",
   "metadata": {},
   "source": [
    "\n",
    "- **To be completed 10min**\n",
    "\n",
    "- As part of a data processing pipeline, complete the implementation of the pipeline method:\n",
    "    - The method should accept a variable number of functions, and it should return a new function that accepts one parameter arg.\n",
    "    - The returned function should call the first function in the pipeline with the parameter arg, and call the second function with the result of the first function.\n",
    "    - The returned function should continue calling each function in the pipeline in order, following the same pattern, and return the value from the last function.\n",
    "\n",
    "- For example, `pipeline(lambda x: x * 3, lambda x: x + 1, lambda x: x / 2)` then calling the returned function with 3 should return 5.0.\n",
    "\n",
    "\n",
""   ]
  },
  {
   "cell_type": "markdown",
   "id": "20fc8f5c",
   "metadata": {},
   "source": [
    "# Start-up code\n",
    "<hr style = \"border:2px solid black\" ></hr>"
   ]
  },
  {
   "cell_type": "code",
   "execution_count": null,
   "id": "cf0c5e3e",
   "metadata": {},
   "outputs": [],
   "source": [
    "def pipeline(*funcs):\n",
    "    def helper(arg):\n",
    "        pass\n",
    "    return helper\n",
    "\n",
    "\n",
    "fun = pipeline(lambda x: x * 3, lambda x: x + 1, lambda x: x / 2)\n",
    "print(fun(3))  # should print 5.0"
   ]
  },
  {
   "cell_type": "markdown",
   "id": "f163751a",
   "metadata": {},
   "source": [
    "# Solution #1\n",
    "<hr style = \"border:2px solid black\" ></hr>"
   ]
  },
  {
   "cell_type": "code",
   "execution_count": 1,
   "id": "f49b1c53",
   "metadata": {
    "ExecuteTime": {
     "end_time": "2022-03-11T10:05:55.277535Z",
     "start_time": "2022-03-11T10:05:55.273749Z"
    }
   },
   "outputs": [
    {
     "name": "stdout",
     "output_type": "stream",
     "text": [
      "5.0\n"
     ]
    }
   ],
   "source": [
    "def pipeline(*funcs):\n",
    "    def helper(arg):\n",
    "        for f in funcs:\n",
    "            arg = f(arg)\n",
    "        return arg\n",
    "\n",
    "    return helper\n",
    "\n",
    "\n",
    "fun = pipeline(lambda x: x * 3, lambda x: x + 1, lambda x: x / 2)\n",
    "print(fun(3))  # should print 5.0"
   ]
  },
  {
   "cell_type": "markdown",
   "id": "364120bc",
   "metadata": {},
   "source": [
    "# References\n",
    "<hr style = \"border:2px solid black\" ></hr>"
   ]
  },
  {
   "cell_type": "markdown",
   "id": "27fd0134",
   "metadata": {},
   "source": [
    "\n",
    "- [TestDome home page](https://www.testdome.com/tests/python-online-test/45)\n",
    "- [Solution #1](https://github.com/jozo/testdome-python-solutions/blob/master/08_pipeline.py)\n",
    "\n",
""   ]
  },
  {
   "cell_type": "code",
   "execution_count": null,
   "id": "88e08bbd",
   "metadata": {},
   "outputs": [],
   "source": []
  }
 ],
 "metadata": {
  "kernelspec": {
   "display_name": "trainingAI",
   "language": "python",
   "name": "trainingai"
  },
  "language_info": {
   "codemirror_mode": {
    "name": "ipython",
    "version": 3
   },
   "file_extension": ".py",
   "mimetype": "text/x-python",
   "name": "python",
   "nbconvert_exporter": "python",
   "pygments_lexer": "ipython3",
   "version": "3.9.7"
  },
  "toc": {
   "base_numbering": 1,
   "nav_menu": {},
   "number_sections": true,
   "sideBar": true,
   "skip_h1_title": false,
   "title_cell": "Table of Contents",
   "title_sidebar": "Contents",
   "toc_cell": false,
   "toc_position": {},
   "toc_section_display": true,
   "toc_window_display": true
  },
  "varInspector": {
   "cols": {
    "lenName": 16,
    "lenType": 16,
    "lenVar": 40
   },
   "kernels_config": {
    "python": {
     "delete_cmd_postfix": "",
     "delete_cmd_prefix": "del ",
     "library": "var_list.py",
     "varRefreshCmd": "print(var_dic_list())"
    },
    "r": {
     "delete_cmd_postfix": ") ",
     "delete_cmd_prefix": "rm(",
     "library": "var_list.r",
     "varRefreshCmd": "cat(var_dic_list()) "
    }
   },
   "types_to_exclude": [
    "module",
    "function",
    "builtin_function_or_method",
    "instance",
    "_Feature"
   ],
   "window_display": false
  }
 },
 "nbformat": 4,
 "nbformat_minor": 5
}
