{
 "cells": [
  {
   "cell_type": "markdown",
   "id": "4cb22ddf",
   "metadata": {},
   "source": [
    "# Instruction\n",
    "<hr style = \"border:2px solid black\" ></hr>"
   ]
  },
  {
   "cell_type": "markdown",
   "id": "5bd46b02",
   "metadata": {},
   "source": [
    "\n",
    "- To be completed in **10 min** \n",
    "\n",
    "- Implement the IceCreamMachine's scoops method so that it returns all combinations of one ingredient and one topping. \n",
    "\n",
    "- If there are no ingredients or toppings, the method should return an empty list.\n",
    "For example: `IceCreamMachine([\"vanilla\", \"chocolate\"], [\"chocolate sauce\"]).scoops()` should return `[['vanilla', 'chocolate sauce'], ['chocolate', 'chocolate sauce']]`\n",
    "\n",
    "\n",
""   ]
  },
  {
   "cell_type": "markdown",
   "id": "20fc8f5c",
   "metadata": {},
   "source": [
    "# Start-up code\n",
    "<hr style = \"border:2px solid black\" ></hr>"
   ]
  },
  {
   "cell_type": "code",
   "execution_count": null,
   "id": "f49b1c53",
   "metadata": {},
   "outputs": [],
   "source": [
    "class IceCreamMachine:\n",
    "    def __init__(self, ingredients, toppings):\n",
    "        self.ingredients = ingredients\n",
    "        self.toppings = toppings\n",
    "    def scoops(self):\n",
    "        pass\n",
    "machine = IceCreamMachine([\"vanilla\", \"chocolate\"], [\"chocolate sauce\"])\n",
    "print(machine.scoops()) #should print[['vanilla', 'chocolate sauce'], ['chocolate', 'chocolate sauce']]"
   ]
  },
  {
   "cell_type": "markdown",
   "id": "bb79330c",
   "metadata": {},
   "source": [
    "# Dirty solution\n",
    "<hr style = \"border:2px solid black\" ></hr>"
   ]
  },
  {
   "cell_type": "code",
   "execution_count": 2,
   "id": "b26438ec",
   "metadata": {
    "ExecuteTime": {
     "end_time": "2022-03-11T07:04:29.968892Z",
     "start_time": "2022-03-11T07:04:29.965129Z"
    }
   },
   "outputs": [],
   "source": [
    "class IceCreamMachine:\n",
    "    def __init__(self, ingredients, toppings):\n",
    "        self.ingredients = ingredients\n",
    "        self.toppings = toppings\n",
    "\n",
    "    def scoops(self):\n",
    "        \n",
    "        if self.ingredients == [] or self.toppings == []:\n",
    "            return []\n",
    "        \n",
    "        else:\n",
    "            b= []\n",
    "            for ingr_temp in self.ingredients:\n",
    "                a = []\n",
    "                for top_temp in self.toppings:\n",
    "                    a.append([ingr_temp, top_temp])\n",
    "                b.append(a)\n",
    "            return b"
   ]
  },
  {
   "cell_type": "code",
   "execution_count": null,
   "id": "f1785bab",
   "metadata": {},
   "outputs": [],
   "source": [
    "# Testing for list not empty\n",
    "machine = IceCreamMachine([\"vanilla\", \"chocolate\"], [\"chocolate sauce\"])\n",
    "# should print[['vanilla', 'chocolate sauce'], ['chocolate', 'chocolate sauce']]\n",
    "print(machine.scoops())"
   ]
  },
  {
   "cell_type": "code",
   "execution_count": 3,
   "id": "0d61f407",
   "metadata": {
    "ExecuteTime": {
     "end_time": "2022-03-11T07:05:03.307451Z",
     "start_time": "2022-03-11T07:05:03.304353Z"
    }
   },
   "outputs": [
    {
     "name": "stdout",
     "output_type": "stream",
     "text": [
      "[]\n"
     ]
    }
   ],
   "source": [
    "# Testing for one list  empty\n",
    "machine = IceCreamMachine([\"vanilla\", \"chocolate\"], [])\n",
    "print(machine.scoops())"
   ]
  },
  {
   "cell_type": "code",
   "execution_count": 4,
   "id": "129194d5",
   "metadata": {
    "ExecuteTime": {
     "end_time": "2022-03-11T07:05:16.131389Z",
     "start_time": "2022-03-11T07:05:16.128688Z"
    }
   },
   "outputs": [
    {
     "name": "stdout",
     "output_type": "stream",
     "text": [
      "[]\n"
     ]
    }
   ],
   "source": [
    "# Testing for both lists  empty\n",
    "machine = IceCreamMachine([], [])\n",
    "print(machine.scoops())"
   ]
  },
  {
   "cell_type": "markdown",
   "id": "0e66829c",
   "metadata": {},
   "source": [
    "# Elegant solution\n",
    "<hr style = \"border:2px solid black\" ></hr>"
   ]
  },
  {
   "cell_type": "markdown",
   "id": "f6acbcc5",
   "metadata": {},
   "source": [
    "\n",
    "- `itertools ` is a module implements a number of iterator building blocks inspired by constructs from APL, Haskell, and SML. Each has been recast in a form suitable for Python.\n",
    "\n",
    "- The module standardizes a core set of fast, memory efficient tools that are useful by themselves or in combination. Together, they form an “iterator algebra” making it possible to construct specialized tools succinctly and efficiently in pure Python.\n",
    "\n",
""   ]
  },
  {
   "cell_type": "code",
   "execution_count": 5,
   "id": "6dea1a7a",
   "metadata": {
    "ExecuteTime": {
     "end_time": "2022-03-11T07:06:58.287391Z",
     "start_time": "2022-03-11T07:06:58.284173Z"
    }
   },
   "outputs": [],
   "source": [
    "from itertools import product\n",
    "\n",
    "class IceCreamMachine:\n",
    "\n",
    "    def __init__(self, ingredients, toppings):\n",
    "        self.ingredients = ingredients\n",
    "        self.toppings = toppings\n",
    "\n",
    "    def scoops(self):\n",
    "        return [list(p) for p in product(self.ingredients, self.toppings)]"
   ]
  },
  {
   "cell_type": "code",
   "execution_count": 6,
   "id": "d13dd89b",
   "metadata": {
    "ExecuteTime": {
     "end_time": "2022-03-11T07:07:16.413646Z",
     "start_time": "2022-03-11T07:07:16.410565Z"
    }
   },
   "outputs": [
    {
     "name": "stdout",
     "output_type": "stream",
     "text": [
      "[['vanilla', 'chocolate sauce'], ['chocolate', 'chocolate sauce']]\n"
     ]
    }
   ],
   "source": [
    "machine = IceCreamMachine([\"vanilla\", \"chocolate\"], [\"chocolate sauce\"])\n",
    "# should print[['vanilla', 'chocolate sauce'], ['chocolate', 'chocolate sauce']]\n",
    "print(machine.scoops())"
   ]
  },
  {
   "cell_type": "markdown",
   "id": "364120bc",
   "metadata": {},
   "source": [
    "# References\n",
    "<hr style = \"border:2px solid black\" ></hr>"
   ]
  },
  {
   "cell_type": "markdown",
   "id": "861641bb",
   "metadata": {},
   "source": [
    "\n",
    "- [TestDome home page](https://www.testdome.com/tests/python-online-test/45)\n",
    "- [elegant solution](https://github.com/jozo/testdome-python-solutions/blob/master/02_ice_cream_machine.py)\n",
    "- [`itertools`](https://docs.python.org/3/library/itertools.html)\n",
    "\n",
""   ]
  },
  {
   "cell_type": "code",
   "execution_count": null,
   "id": "88e08bbd",
   "metadata": {},
   "outputs": [],
   "source": []
  }
 ],
 "metadata": {
  "kernelspec": {
   "display_name": "trainingAI",
   "language": "python",
   "name": "trainingai"
  },
  "language_info": {
   "codemirror_mode": {
    "name": "ipython",
    "version": 3
   },
   "file_extension": ".py",
   "mimetype": "text/x-python",
   "name": "python",
   "nbconvert_exporter": "python",
   "pygments_lexer": "ipython3",
   "version": "3.9.7"
  },
  "toc": {
   "base_numbering": 1,
   "nav_menu": {},
   "number_sections": true,
   "sideBar": true,
   "skip_h1_title": false,
   "title_cell": "Table of Contents",
   "title_sidebar": "Contents",
   "toc_cell": false,
   "toc_position": {},
   "toc_section_display": true,
   "toc_window_display": true
  },
  "varInspector": {
   "cols": {
    "lenName": 16,
    "lenType": 16,
    "lenVar": 40
   },
   "kernels_config": {
    "python": {
     "delete_cmd_postfix": "",
     "delete_cmd_prefix": "del ",
     "library": "var_list.py",
     "varRefreshCmd": "print(var_dic_list())"
    },
    "r": {
     "delete_cmd_postfix": ") ",
     "delete_cmd_prefix": "rm(",
     "library": "var_list.r",
     "varRefreshCmd": "cat(var_dic_list()) "
    }
   },
   "types_to_exclude": [
    "module",
    "function",
    "builtin_function_or_method",
    "instance",
    "_Feature"
   ],
   "window_display": false
  }
 },
 "nbformat": 4,
 "nbformat_minor": 5
}
