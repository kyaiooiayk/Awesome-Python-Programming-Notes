{
 "cells": [
  {
   "cell_type": "markdown",
   "id": "97976f57",
   "metadata": {},
   "source": [
    "# Introduction"
   ]
  },
  {
   "cell_type": "markdown",
   "id": "353a58b7",
   "metadata": {},
   "source": [
    "<div class=\"alert alert-warning\">\n",
    "<font color=black>\n",
    "\n",
    "**What?** Questions around LIST manipulation\n",
    "\n",
    "</font>\n",
    "</div>"
   ]
  },
  {
   "cell_type": "markdown",
   "id": "5b1abeda",
   "metadata": {
    "ExecuteTime": {
     "end_time": "2022-04-11T17:05:38.147165Z",
     "start_time": "2022-04-11T17:05:38.144871Z"
    }
   },
   "source": [
    "# Excercise #1"
   ]
  },
  {
   "cell_type": "markdown",
   "id": "6e593272",
   "metadata": {},
   "source": [
    "<div class=\"alert alert-info\">\n",
    "<font color=black>\n",
    "\n",
    "- Return indices of the two numbers such that they add up to target.\n",
    "- Example:\n",
    "```\n",
    ">>> two_sum([2,7,11,15], 9)\n",
    "[0,1] \n",
    "```\n",
    "\n",
    "</font>\n",
    "</div>"
   ]
  },
  {
   "cell_type": "code",
   "execution_count": 1,
   "id": "31956049",
   "metadata": {
    "ExecuteTime": {
     "end_time": "2022-04-12T05:43:50.454259Z",
     "start_time": "2022-04-12T05:43:50.448897Z"
    }
   },
   "outputs": [],
   "source": [
    "import sys\n",
    "from typing import List, Any, Tuple\n",
    "import numpy as np\n",
    "\n",
    "\n",
    "def two_sum(nums: List[int], target: int) -> List[int]:\n",
    "\n",
    "    #trigger = False\n",
    "    # while trigger == False:\n",
    "    for i, value_1 in enumerate(nums):\n",
    "        dummy = [value_1+value_2 for j, value_2 in enumerate(nums)]\n",
    "        dummy.pop(i)\n",
    "        # print(dummy)\n",
    "        if target in dummy:\n",
    "            print(\"dummy\", dummy)\n",
    "            second_index = np.argwhere(np.array(dummy) == target)[0]+1\n",
    "            print(\"i=\", i, \"j=\", second_index[0])\n",
    "            return [i, second_index[0]]"
   ]
  },
  {
   "cell_type": "code",
   "execution_count": 2,
   "id": "062675b6",
   "metadata": {
    "ExecuteTime": {
     "end_time": "2022-04-12T05:43:51.018519Z",
     "start_time": "2022-04-12T05:43:51.007639Z"
    }
   },
   "outputs": [
    {
     "name": "stdout",
     "output_type": "stream",
     "text": [
      "dummy [8, 18, 22, 9, 8]\n",
      "i= 0 j= 4\n"
     ]
    },
    {
     "data": {
      "text/plain": [
       "[0, 4]"
      ]
     },
     "execution_count": 2,
     "metadata": {},
     "output_type": "execute_result"
    }
   ],
   "source": [
    "two_sum([7,1,11,15, 2, 1], 9)"
   ]
  },
  {
   "cell_type": "markdown",
   "id": "07499c2d",
   "metadata": {},
   "source": [
    "# Excercise #2"
   ]
  },
  {
   "cell_type": "markdown",
   "id": "d51ecc93",
   "metadata": {},
   "source": [
    "<div class=\"alert alert-info\">\n",
    "<font color=black>\n",
    "\n",
    "- Recursively flattens a list of lists *of any depth* into a single list that contains all items of all sublists of list_of_lists.\n",
    "- Example:\n",
    "\n",
    "```\n",
    ">>> flatten_list_deep([[1, 4, 6], [[3, [2]], 5, 2]])\n",
    "[1, 4, 6, 3, 2, 5, 2]\n",
    "```\n",
    "\n",
    "</font>\n",
    "</div>"
   ]
  },
  {
   "cell_type": "code",
   "execution_count": 35,
   "id": "ea6ec7f4",
   "metadata": {
    "ExecuteTime": {
     "end_time": "2022-04-12T05:50:43.196010Z",
     "start_time": "2022-04-12T05:50:43.192229Z"
    }
   },
   "outputs": [],
   "source": [
    "def flatten_list_deep(list_of_lists: List[Any]) -> List[int]:\n",
    "    \"\"\"\n",
    "    This soluction is a \"cheat\". Less elegant but it works.\n",
    "    \"\"\"\n",
    "    lol = list_of_lists\n",
    "    results = []\n",
    "\n",
    "    for i in tuple(str(lol)):\n",
    "        try:\n",
    "            dummy = int(i)\n",
    "            results.append(dummy)\n",
    "        except:\n",
    "            pass\n",
    "\n",
    "    return results"
   ]
  },
  {
   "cell_type": "code",
   "execution_count": 36,
   "id": "1ac9d48f",
   "metadata": {
    "ExecuteTime": {
     "end_time": "2022-04-12T05:50:43.563591Z",
     "start_time": "2022-04-12T05:50:43.558985Z"
    }
   },
   "outputs": [
    {
     "data": {
      "text/plain": [
       "[1, 4, 6, 3, 2, 5, 2, 1]"
      ]
     },
     "execution_count": 36,
     "metadata": {},
     "output_type": "execute_result"
    }
   ],
   "source": [
    "flatten_list_deep([[1, 4, 6], [[3, [2]], 5, 2, [1]]])"
   ]
  },
  {
   "cell_type": "code",
   "execution_count": 38,
   "id": "e6b307f3",
   "metadata": {
    "ExecuteTime": {
     "end_time": "2022-04-12T05:50:54.670896Z",
     "start_time": "2022-04-12T05:50:54.665983Z"
    }
   },
   "outputs": [
    {
     "data": {
      "text/plain": [
       "('[',\n",
       " '[',\n",
       " '1',\n",
       " ',',\n",
       " ' ',\n",
       " '4',\n",
       " ',',\n",
       " ' ',\n",
       " '6',\n",
       " ']',\n",
       " ',',\n",
       " ' ',\n",
       " '[',\n",
       " '[',\n",
       " '3',\n",
       " ',',\n",
       " ' ',\n",
       " '[',\n",
       " '2',\n",
       " ']',\n",
       " ']',\n",
       " ',',\n",
       " ' ',\n",
       " '5',\n",
       " ',',\n",
       " ' ',\n",
       " '2',\n",
       " ',',\n",
       " ' ',\n",
       " '[',\n",
       " '1',\n",
       " ']',\n",
       " ']',\n",
       " ']')"
      ]
     },
     "execution_count": 38,
     "metadata": {},
     "output_type": "execute_result"
    }
   ],
   "source": [
    "# This is how turning into a string and then applying tuple worked!\n",
    "tuple(str([[1, 4, 6], [[3, [2]], 5, 2, [1]]]))"
   ]
  },
  {
   "cell_type": "code",
   "execution_count": null,
   "id": "22938652",
   "metadata": {},
   "outputs": [],
   "source": []
  }
 ],
 "metadata": {
  "kernelspec": {
   "display_name": "trainingAI",
   "language": "python",
   "name": "trainingai"
  },
  "language_info": {
   "codemirror_mode": {
    "name": "ipython",
    "version": 3
   },
   "file_extension": ".py",
   "mimetype": "text/x-python",
   "name": "python",
   "nbconvert_exporter": "python",
   "pygments_lexer": "ipython3",
   "version": "3.9.7"
  },
  "toc": {
   "base_numbering": 1,
   "nav_menu": {},
   "number_sections": true,
   "sideBar": true,
   "skip_h1_title": false,
   "title_cell": "Table of Contents",
   "title_sidebar": "Contents",
   "toc_cell": false,
   "toc_position": {},
   "toc_section_display": true,
   "toc_window_display": true
  },
  "varInspector": {
   "cols": {
    "lenName": 16,
    "lenType": 16,
    "lenVar": 40
   },
   "kernels_config": {
    "python": {
     "delete_cmd_postfix": "",
     "delete_cmd_prefix": "del ",
     "library": "var_list.py",
     "varRefreshCmd": "print(var_dic_list())"
    },
    "r": {
     "delete_cmd_postfix": ") ",
     "delete_cmd_prefix": "rm(",
     "library": "var_list.r",
     "varRefreshCmd": "cat(var_dic_list()) "
    }
   },
   "types_to_exclude": [
    "module",
    "function",
    "builtin_function_or_method",
    "instance",
    "_Feature"
   ],
   "window_display": false
  }
 },
 "nbformat": 4,
 "nbformat_minor": 5
}
