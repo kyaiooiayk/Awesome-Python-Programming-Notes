{
 "cells": [
  {
   "cell_type": "markdown",
   "metadata": {},
   "source": [
    "# Introduction"
   ]
  },
  {
   "cell_type": "markdown",
   "metadata": {},
   "source": [
    "\n",
    "**What?** Prime numbers\n",
    "\n",
""   ]
  },
  {
   "cell_type": "markdown",
   "metadata": {},
   "source": [
    "# Prime numbers"
   ]
  },
  {
   "cell_type": "markdown",
   "metadata": {},
   "source": [
    "\n",
    "- A number is prime if can be divided by 1 and by itself **only**!\n",
    "\n",
""   ]
  },
  {
   "cell_type": "markdown",
   "metadata": {},
   "source": [
    "# Solution #1"
   ]
  },
  {
   "cell_type": "markdown",
   "metadata": {},
   "source": [
    "\n",
    "- The loop-``else`` is perhaps one of the more confusingly-named statements in Python;\n",
    "- Think of it as a ``nobreak`` statement: that is, the ``else`` block is executed only if the loop ends naturally, without encountering a ``break`` statement.\n",
    "\n",
""   ]
  },
  {
   "cell_type": "code",
   "execution_count": 1,
   "metadata": {},
   "outputs": [
    {
     "name": "stdout",
     "output_type": "stream",
     "text": [
      "[2, 3, 5, 7, 11, 13, 17, 19, 23, 29]\n"
     ]
    }
   ],
   "source": [
    "L = []\n",
    "nmax = 30\n",
    "\n",
    "for n in range(2, nmax):\n",
    "    for factor in L:\n",
    "        if n % factor == 0:\n",
    "            break            \n",
    "    else: \n",
    "        \"\"\"\n",
    "        The else statement only executes if none of the factors \n",
    "        divide the given number. The else statement works similarly\n",
    "        with the while loop.\n",
    "        \"\"\"\n",
    "        L.append(n)\n",
    "print(L)"
   ]
  },
  {
   "cell_type": "markdown",
   "metadata": {},
   "source": [
    "# Solution #2"
   ]
  },
  {
   "cell_type": "code",
   "execution_count": 2,
   "metadata": {},
   "outputs": [
    {
     "name": "stdout",
     "output_type": "stream",
     "text": [
      "  2 is a prime number\n",
      "  3 is a prime number\n",
      "4 equals 2 *0 2.0\n",
      "  5 is a prime number\n",
      "6 equals 2 *0 3.0\n",
      "  7 is a prime number\n",
      "8 equals 2 *0 4.0\n",
      "9 equals 3 *0 3.0\n",
      "10 equals 2 *0 5.0\n",
      "  11 is a prime number\n",
      "12 equals 2 *0 6.0\n",
      "  13 is a prime number\n",
      "14 equals 2 *0 7.0\n",
      "15 equals 3 *0 5.0\n",
      "16 equals 2 *0 8.0\n",
      "  17 is a prime number\n",
      "18 equals 2 *0 9.0\n",
      "  19 is a prime number\n",
      "20 equals 2 *0 10.0\n",
      "21 equals 3 *0 7.0\n",
      "22 equals 2 *0 11.0\n",
      "  23 is a prime number\n",
      "24 equals 2 *0 12.0\n",
      "25 equals 5 *0 5.0\n",
      "26 equals 2 *0 13.0\n",
      "27 equals 3 *0 9.0\n",
      "28 equals 2 *0 14.0\n",
      "  29 is a prime number\n"
     ]
    }
   ],
   "source": [
    "# A slightly different version of it is\n",
    "for n in range(2, nmax):\n",
    "    for x in range(2, n):\n",
    "        if n % x == 0:\n",
    "            print(n, \"equals\", x, \"*0\", n/x)\n",
    "            break\n",
    "    else:\n",
    "        \"\"\"\n",
    "        Loop falls through withouth finding a factor\n",
    "        Essentialy if the break is not hit by the end of the main loop\n",
    "        \"\"\"\n",
    "        print(\" \", n, \"is a prime number\")\n"
   ]
  },
  {
   "cell_type": "markdown",
   "metadata": {},
   "source": [
    "# Solution #3"
   ]
  },
  {
   "cell_type": "code",
   "execution_count": 2,
   "metadata": {},
   "outputs": [],
   "source": [
    "# Uses a generator\n",
    "def gen_primes(N):\n",
    "    \"\"\"Generate primes up to N\"\"\"\n",
    "    primes = set()\n",
    "    for n in range(2, N):\n",
    "        if all(n % p > 0 for p in primes):\n",
    "            primes.add(n)\n",
    "            yield n"
   ]
  },
  {
   "cell_type": "code",
   "execution_count": 4,
   "metadata": {},
   "outputs": [
    {
     "name": "stdout",
     "output_type": "stream",
     "text": [
      "<generator object gen_primes at 0x113802430>\n"
     ]
    }
   ],
   "source": [
    "print(gen_primes(100))"
   ]
  },
  {
   "cell_type": "code",
   "execution_count": 3,
   "metadata": {},
   "outputs": [
    {
     "name": "stdout",
     "output_type": "stream",
     "text": [
      "2 3 5 7 11 13 17 19 23 29 31 37 41 43 47 53 59 61 67 71 73 79 83 89 97\n"
     ]
    }
   ],
   "source": [
    "print(*gen_primes(100))"
   ]
  },
  {
   "cell_type": "code",
   "execution_count": 5,
   "metadata": {},
   "outputs": [
    {
     "name": "stdout",
     "output_type": "stream",
     "text": [
      "[2, 3, 5, 7, 11, 13, 17, 19, 23, 29, 31, 37, 41, 43, 47, 53, 59, 61, 67, 71, 73, 79, 83, 89, 97]\n"
     ]
    }
   ],
   "source": [
    "print(list(gen_primes(100)))"
   ]
  },
  {
   "cell_type": "markdown",
   "metadata": {},
   "source": [
    "# References"
   ]
  },
  {
   "cell_type": "markdown",
   "metadata": {},
   "source": [
    "\n",
    "- [Whirlwind Tour of Python](http://www.oreilly.com/programming/free/a-whirlwind-tour-of-python.csp)\n",
    "\n",
""   ]
  },
  {
   "cell_type": "code",
   "execution_count": null,
   "metadata": {},
   "outputs": [],
   "source": []
  }
 ],
 "metadata": {
  "kernelspec": {
   "display_name": "trainingAI",
   "language": "python",
   "name": "trainingai"
  },
  "language_info": {
   "codemirror_mode": {
    "name": "ipython",
    "version": 3
   },
   "file_extension": ".py",
   "mimetype": "text/x-python",
   "name": "python",
   "nbconvert_exporter": "python",
   "pygments_lexer": "ipython3",
   "version": "3.8.5"
  }
 },
 "nbformat": 4,
 "nbformat_minor": 2
}
