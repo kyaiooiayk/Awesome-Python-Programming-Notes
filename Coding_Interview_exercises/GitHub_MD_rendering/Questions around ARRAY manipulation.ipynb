{
 "cells": [
  {
   "cell_type": "markdown",
   "metadata": {},
   "source": [
    "# Introduction"
   ]
  },
  {
   "cell_type": "markdown",
   "metadata": {},
   "source": [
    "\n",
    "**What?** Questions around ARRAY manipulation\n",
    "\n",
""   ]
  },
  {
   "cell_type": "markdown",
   "metadata": {},
   "source": [
    "**Monotonic array**"
   ]
  },
  {
   "cell_type": "markdown",
   "metadata": {},
   "source": [
    "\n",
    "- Given an array of integers, determine whether the array is **monotonic** or not.\n",
    "- Monotic if:\n",
    "    - Consecutive repeated values are allowed hence **not striclty monotonic**.\n",
    "    - The next value is greater or lower than the one before.\n",
    "\n",
""   ]
  },
  {
   "cell_type": "code",
   "execution_count": 59,
   "metadata": {},
   "outputs": [
    {
     "name": "stdout",
     "output_type": "stream",
     "text": [
      "True\n",
      "False\n",
      "True\n"
     ]
    }
   ],
   "source": [
    "A = [6, 5, 4, 4] \n",
    "B = [1,1,1,3,3,4,3,2,4,2]\n",
    "C = [1,1,2,3,7]\n",
    "import numpy as np \n",
    "\n",
    "def solution(x):\n",
    "    # First get rid of duplicate but maintain the order    \n",
    "    notDuplicatesButOriginalOrder = [value for index, value in enumerate(x) if value not in x[:index]]\n",
    "    # Create a set which ordered and with no duplicated\n",
    "    OrderedAndNoDyplicates = np.array(list(set(x)))        \n",
    "    \n",
    "    # If it is monotic then the two must be equal\n",
    "    \n",
    "    # Case where it is monotic increasing\n",
    "    if all(np.array(notDuplicatesButOriginalOrder) == np.array(OrderedAndNoDyplicates)):\n",
    "        return True\n",
    "    # Case where it is monotic decreasing\n",
    "    elif all(np.array(notDuplicatesButOriginalOrder) == np.array(OrderedAndNoDyplicates)[::-1]):\n",
    "        return True\n",
    "    else:\n",
    "        return False\n",
    "    \n",
    "print(solution(A))\n",
    "print(solution(B))\n",
    "print(solution(C))"
   ]
  },
  {
   "cell_type": "code",
   "execution_count": 60,
   "metadata": {},
   "outputs": [
    {
     "name": "stdout",
     "output_type": "stream",
     "text": [
      "True\n",
      "False\n",
      "True\n"
     ]
    }
   ],
   "source": [
    "def solution(nums): \n",
    "    return (all(nums[i] <= nums[i + 1] for i in range(len(nums) - 1)) or \n",
    "            all(nums[i] >= nums[i + 1] for i in range(len(nums) - 1))) \n",
    "\n",
    "print(solution(A))\n",
    "print(solution(B))\n",
    "print(solution(C))"
   ]
  },
  {
   "cell_type": "markdown",
   "metadata": {},
   "source": [
    "**Move zeros**"
   ]
  },
  {
   "cell_type": "markdown",
   "metadata": {},
   "source": [
    "\n",
    "- Given an array nums, write a function to move all zeroes to the end of it while maintaining the relative order of the non-zero elements.\n",
    "\n",
""   ]
  },
  {
   "cell_type": "code",
   "execution_count": 62,
   "metadata": {},
   "outputs": [
    {
     "name": "stdout",
     "output_type": "stream",
     "text": [
      "[1, 3, 12, 0, 0]\n",
      "[1, 7, 8, 10, 12, 4, 0, 0, 0, 0]\n"
     ]
    }
   ],
   "source": [
    "array1 = [0,1,0,3,12]\n",
    "array2 = [1,7,0,0,8,0,10,12,0,4]\n",
    "\n",
    "def solution(nums):\n",
    "    for i in nums:\n",
    "        if 0 in nums:\n",
    "            nums.remove(0)\n",
    "            nums.append(0)\n",
    "    return nums\n",
    "\n",
    "print(solution(array1))\n",
    "print(solution(array2))"
   ]
  },
  {
   "cell_type": "markdown",
   "metadata": {},
   "source": [
    "**Fill the blanks**"
   ]
  },
  {
   "cell_type": "markdown",
   "metadata": {},
   "source": [
    "\n",
    "- Given an array containing `None` values fill in the `None` values with most recent non `None` value in the array  \n",
    "\n",
""   ]
  },
  {
   "cell_type": "code",
   "execution_count": 64,
   "metadata": {},
   "outputs": [
    {
     "data": {
      "text/plain": [
       "[1, 1, 2, 3, 3, 3, 5, 5]"
      ]
     },
     "execution_count": 64,
     "metadata": {},
     "output_type": "execute_result"
    }
   ],
   "source": [
    "array1 = [1, None, 2, 3, None, None, 5, None]\n",
    "\n",
    "def solution(array):\n",
    "    \n",
    "    valid = 0            \n",
    "    res = []                 \n",
    "    for i in array: \n",
    "        if i is not None:    \n",
    "            res.append(i)\n",
    "            valid = i\n",
    "        else:\n",
    "            res.append(valid)\n",
    "    return res\n",
    "\n",
    "solution(array1)"
   ]
  },
  {
   "cell_type": "code",
   "execution_count": 84,
   "metadata": {},
   "outputs": [
    {
     "name": "stdout",
     "output_type": "stream",
     "text": [
      "[1, 1, 2, 3, 3, 3, 5, 5]\n"
     ]
    }
   ],
   "source": [
    "def solution(array):\n",
    "    \n",
    "    output = []\n",
    "    whereIsNull = [index for index, value in enumerate(array) if value == None]    \n",
    "        \n",
    "    for index, value in enumerate(array):\n",
    "        if index not in whereIsNull:\n",
    "            output.append(value)\n",
    "            temp = value\n",
    "        else:\n",
    "            output.append(temp)\n",
    "    return output\n",
    "\n",
    "print(solution(array1))\n"
   ]
  },
  {
   "cell_type": "markdown",
   "metadata": {},
   "source": [
    "**Matched & Mismatched Words**"
   ]
  },
  {
   "cell_type": "markdown",
   "metadata": {},
   "source": [
    "\n",
    "- Given two sentences, return:\n",
    "    - an array that has the words that appear in one sentence and not the other \n",
    "    - an array with the words in common. \n",
    "\n",
""   ]
  },
  {
   "cell_type": "code",
   "execution_count": 85,
   "metadata": {},
   "outputs": [
    {
     "name": "stdout",
     "output_type": "stream",
     "text": [
      "(['The', 'We', 'a', 'are', 'by', 'heavy', 'hit', 'in', 'meet', 'our', 'pleased', 'storm', 'to', 'was', 'you'], ['city', 'really'])\n"
     ]
    }
   ],
   "source": [
    "sentence1 = 'We are really pleased to meet you in our city'\n",
    "sentence2 = 'The city was hit by a really heavy storm'\n",
    "\n",
    "def solution(sentence1, sentence2):\n",
    "    set1 = set(sentence1.split())\n",
    "    set2 = set(sentence2.split())\n",
    "    \n",
    "    return sorted(list(set1^set2)), sorted(list(set1&set2)) # ^ A.symmetric_difference(B), & A.intersection(B)\n",
    "\n",
    "print(solution(sentence1, sentence2))"
   ]
  },
  {
   "cell_type": "markdown",
   "metadata": {},
   "source": [
    "**Prime number array**"
   ]
  },
  {
   "cell_type": "markdown",
   "metadata": {},
   "source": [
    "\n",
    "- Given k numbers which are less than n, return the set of prime number among them\n",
    "- Note: The task is to write a program to print all Prime numbers in an Interval.\n",
    "- Definition: A prime number is a natural number greater than 1 that has no positive divisors other than 1 and itself. \n",
    "\n",
""   ]
  },
  {
   "cell_type": "code",
   "execution_count": 87,
   "metadata": {},
   "outputs": [
    {
     "data": {
      "text/plain": [
       "1"
      ]
     },
     "execution_count": 87,
     "metadata": {},
     "output_type": "execute_result"
    }
   ],
   "source": [
    "# the % operator returns the remainder\n",
    "3%2"
   ]
  },
  {
   "cell_type": "code",
   "execution_count": 88,
   "metadata": {},
   "outputs": [
    {
     "data": {
      "text/plain": [
       "0"
      ]
     },
     "execution_count": 88,
     "metadata": {},
     "output_type": "execute_result"
    }
   ],
   "source": [
    "3%3"
   ]
  },
  {
   "cell_type": "code",
   "execution_count": 89,
   "metadata": {},
   "outputs": [
    {
     "data": {
      "text/plain": [
       "2"
      ]
     },
     "execution_count": 89,
     "metadata": {},
     "output_type": "execute_result"
    }
   ],
   "source": [
    "10%8"
   ]
  },
  {
   "cell_type": "code",
   "execution_count": 86,
   "metadata": {},
   "outputs": [
    {
     "data": {
      "text/plain": [
       "[2, 3, 5, 7, 11, 13, 17, 19, 23, 29, 31]"
      ]
     },
     "execution_count": 86,
     "metadata": {},
     "output_type": "execute_result"
    }
   ],
   "source": [
    "n = 35\n",
    "def solution(n):\n",
    "    prime_nums = []\n",
    "    for num in range(n):\n",
    "        # all prime numbers are greater than 1\n",
    "        if num > 1: \n",
    "            for i in range(2, num):\n",
    "                # if the modulus == 0 is means that the number can be divided by a number preceding it\n",
    "                if (num % i) == 0: \n",
    "                    break\n",
    "            else:\n",
    "                prime_nums.append(num)\n",
    "    return prime_nums\n",
    "solution(n)"
   ]
  },
  {
   "cell_type": "markdown",
   "metadata": {},
   "source": [
    "# References"
   ]
  },
  {
   "cell_type": "markdown",
   "metadata": {},
   "source": [
    "\n",
    "- https://towardsdatascience.com/10-algorithms-to-solve-before-your-python-coding-interview-feb74fb9bc27\n",
    "\n",
""   ]
  },
  {
   "cell_type": "code",
   "execution_count": null,
   "metadata": {},
   "outputs": [],
   "source": []
  }
 ],
 "metadata": {
  "kernelspec": {
   "display_name": "trainingAI",
   "language": "python",
   "name": "trainingai"
  },
  "language_info": {
   "codemirror_mode": {
    "name": "ipython",
    "version": 3
   },
   "file_extension": ".py",
   "mimetype": "text/x-python",
   "name": "python",
   "nbconvert_exporter": "python",
   "pygments_lexer": "ipython3",
   "version": "3.8.5"
  }
 },
 "nbformat": 4,
 "nbformat_minor": 2
}
