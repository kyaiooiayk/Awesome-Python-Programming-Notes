{
 "cells": [
  {
   "cell_type": "markdown",
   "metadata": {},
   "source": [
    "# Introduction\n",
    "<hr style=\"border:2px solid black\"> </hr>"
   ]
  },
  {
   "cell_type": "markdown",
   "metadata": {},
   "source": [
    "\n",
    "**What?** Fibonacci series\n",
    "\n",
""   ]
  },
  {
   "cell_type": "markdown",
   "metadata": {},
   "source": [
    "# Fibonacci\n",
    "<hr style=\"border:2px solid black\"> </hr>"
   ]
  },
  {
   "cell_type": "markdown",
   "metadata": {},
   "source": [
    "\n",
    "- A Fibonacci series is a series where the next number is equal to the same of the previous two.\n",
    "- `1, 1, 2, 3, 5, 8, 13`\n",
    "- `2 = 1 + 1`\n",
    "- `5 = 2 + 2`\n",
    "\n",
""   ]
  },
  {
   "cell_type": "markdown",
   "metadata": {},
   "source": [
    "# Solution #1\n",
    "<hr style=\"border:2px solid black\"> </hr>"
   ]
  },
  {
   "cell_type": "markdown",
   "metadata": {},
   "source": [
    "\n",
    "- This loop will fill a list with all Fibonacci numbers up to a certain value.\n",
    "- Notice that we use a `while True` loop, which will loop forever unless we have a `break` statement!\n",
    "\n",
""   ]
  },
  {
   "cell_type": "code",
   "execution_count": 1,
   "metadata": {},
   "outputs": [
    {
     "name": "stdout",
     "output_type": "stream",
     "text": [
      "[1, 1, 2, 3, 5, 8, 13, 21, 34, 55, 89]\n"
     ]
    }
   ],
   "source": [
    "a, b = 0, 1\n",
    "amax = 100\n",
    "L = []\n",
    "\n",
    "while True:\n",
    "    (a, b) = (b, a + b)\n",
    "    if a > amax:\n",
    "        break\n",
    "    L.append(a)\n",
    "\n",
    "print(L)"
   ]
  },
  {
   "cell_type": "markdown",
   "metadata": {},
   "source": [
    "# Solutions #2\n",
    "<hr style=\"border:2px solid black\"> </hr>"
   ]
  },
  {
   "cell_type": "markdown",
   "metadata": {},
   "source": [
    "\n",
    "- This solution is done with recursions.\n",
    "- I am just wondering how efficient is this?\n",
    "\n",
""   ]
  },
  {
   "cell_type": "code",
   "execution_count": 1,
   "metadata": {},
   "outputs": [
    {
     "name": "stdout",
     "output_type": "stream",
     "text": [
      "\n",
      "sending 0\n",
      "start\n",
      "ouput 0\n",
      "\n",
      "sending 1\n",
      "start\n",
      "ouput 1\n",
      "\n",
      "sending 2\n",
      "1 0\n",
      "start\n",
      "start\n",
      "ouput 1\n",
      "\n",
      "sending 3\n",
      "2 1\n",
      "1 0\n",
      "start\n",
      "start\n",
      "start\n",
      "ouput 2\n",
      "\n",
      "sending 4\n",
      "3 2\n",
      "2 1\n",
      "1 0\n",
      "start\n",
      "start\n",
      "start\n",
      "1 0\n",
      "start\n",
      "start\n",
      "ouput 3\n"
     ]
    }
   ],
   "source": [
    "def rec_fib(num):\n",
    "    if num < 2:\n",
    "        print(\"start\")\n",
    "        return num\n",
    "    else:\n",
    "        \"\"\"\n",
    "        3 = 2+1\n",
    "        \"\"\"\n",
    "        print(num-1, num-2)\n",
    "        return (rec_fib(num-1)+rec_fib(num-2))\n",
    "\n",
    "for i in range(5):\n",
    "    print(\"\\nsending\", i)\n",
    "    print(\"ouput\", rec_fib(i))"
   ]
  },
  {
   "cell_type": "markdown",
   "metadata": {},
   "source": [
    "# References"
   ]
  },
  {
   "cell_type": "markdown",
   "metadata": {},
   "source": [
    "\n",
    "- https://github.com/ethen8181/machine-learning/blob/master/python/algorithms/recursion.ipynb\n",
    "- http://interactivepython.org/runestone/static/pythonds/Recursion/toctree.html\n",
    "- https://stackoverflow.com/questions/494594/how-to-write-the-fibonacci-sequence\n",
    "\n",
""   ]
  },
  {
   "cell_type": "code",
   "execution_count": null,
   "metadata": {},
   "outputs": [],
   "source": []
  }
 ],
 "metadata": {
  "hide_input": false,
  "kernelspec": {
   "display_name": "trainingAI",
   "language": "python",
   "name": "trainingai"
  },
  "language_info": {
   "codemirror_mode": {
    "name": "ipython",
    "version": 3
   },
   "file_extension": ".py",
   "mimetype": "text/x-python",
   "name": "python",
   "nbconvert_exporter": "python",
   "pygments_lexer": "ipython3",
   "version": "3.8.5"
  }
 },
 "nbformat": 4,
 "nbformat_minor": 2
}
