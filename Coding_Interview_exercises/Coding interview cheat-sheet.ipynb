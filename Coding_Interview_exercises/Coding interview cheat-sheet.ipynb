{
 "cells": [
  {
   "cell_type": "markdown",
   "metadata": {},
   "source": [
    "# Introduction\n",
    "<hr style=\"border:2px solid black\"> </hr>"
   ]
  },
  {
   "cell_type": "markdown",
   "metadata": {},
   "source": [
    "<div class=\"alert alert-warning\">\n",
    "<font color=black>\n",
    "\n",
    "**What?** Coding interview cheat-sheet\n",
    "\n",
    "</font>\n",
    "</div>"
   ]
  },
  {
   "cell_type": "markdown",
   "metadata": {},
   "source": [
    "# Built-In Data Structures\n",
    "<hr style=\"border:2px solid black\"> </hr>"
   ]
  },
  {
   "cell_type": "markdown",
   "metadata": {},
   "source": [
    "<div class=\"alert alert-info\">\n",
    "<font color=black>\n",
    "\n",
    "-  Python also has several built-in compound types\n",
    "\n",
    "\n",
    "| Type Name | Example                   |Description                            |\n",
    "|-----------|---------------------------|---------------------------------------|\n",
    "| `list`  | ``[1, 2, 3]``             | Ordered collection                    |\n",
    "| ``tuple`` | ``(1, 2, 3)``             | Immutable ordered collection          |\n",
    "| ``dict``  | ``{'a':1, 'b':2, 'c':3}`` | Unordered (key,value) mapping         |\n",
    "| ``set``   | ``{1, 2, 3}``             | Unordered collection of unique values |\n",
    "\n",
    "\n",
    "</font>\n",
    "</div>"
   ]
  },
  {
   "cell_type": "code",
   "execution_count": 1,
   "metadata": {},
   "outputs": [],
   "source": [
    "# Python data structures can be created using formal name\n",
    "formal_list = list() \n",
    "formal_dict = dict() \n",
    "formal_tuple = tuple()"
   ]
  },
  {
   "cell_type": "code",
   "execution_count": 2,
   "metadata": {},
   "outputs": [],
   "source": [
    "# Python data structures can be created using literal syntax\n",
    "literal_list = [] \n",
    "literal_dict = {} \n",
    "literal_tuple = ()"
   ]
  },
  {
   "cell_type": "markdown",
   "metadata": {},
   "source": [
    "# Numbers manipulation\n",
    "\n",
    "<hr style=\"border:2px solid black\"> </hr>"
   ]
  },
  {
   "cell_type": "markdown",
   "metadata": {},
   "source": [
    "**Division reminder**"
   ]
  },
  {
   "cell_type": "code",
   "execution_count": 1,
   "metadata": {},
   "outputs": [
    {
     "name": "stdout",
     "output_type": "stream",
     "text": [
      "3\n",
      "1.4285714285714286\n",
      "0.42857142857142855\n"
     ]
    }
   ],
   "source": [
    "print(10%7)\n",
    "print(10/7)\n",
    "print(3/7)"
   ]
  },
  {
   "cell_type": "markdown",
   "metadata": {},
   "source": [
    "# Flow control statement\n",
    "<hr style=\"border:2px solid black\"> </hr>"
   ]
  },
  {
   "cell_type": "markdown",
   "metadata": {},
   "source": [
    "**while**"
   ]
  },
  {
   "cell_type": "code",
   "execution_count": 107,
   "metadata": {},
   "outputs": [
    {
     "name": "stdout",
     "output_type": "stream",
     "text": [
      "0 1 2 3 4 5 6 7 8 9 "
     ]
    }
   ],
   "source": [
    "i = 0\n",
    "while i < 10:\n",
    "    print(i, end=' ')\n",
    "    i += 1"
   ]
  },
  {
   "cell_type": "markdown",
   "metadata": {},
   "source": [
    "**continue**"
   ]
  },
  {
   "cell_type": "markdown",
   "metadata": {},
   "source": [
    "<div class=\"alert alert-info\">\n",
    "<font color=black>\n",
    "\n",
    "- The `continue` statement continues with the next iteration of the loop\n",
    "\n",
    "</font>\n",
    "</div>"
   ]
  },
  {
   "cell_type": "code",
   "execution_count": 109,
   "metadata": {},
   "outputs": [
    {
     "name": "stdout",
     "output_type": "stream",
     "text": [
      "Found an even number 2\n",
      "Not even number 3\n",
      "Found an even number 4\n",
      "Not even number 5\n",
      "Found an even number 6\n",
      "Not even number 7\n",
      "Found an even number 8\n",
      "Not even number 9\n"
     ]
    }
   ],
   "source": [
    "\"\"\"\n",
    "Find odd number given a range\n",
    "An odd number is a number divisable by 2\n",
    "\"\"\"\n",
    "\n",
    "for num in range(2,10):\n",
    "    # if the remainder of n / 2 is 0, skip the rest of the loop\n",
    "    if num % 2 == 0:\n",
    "        print(\"Found an even number\", num)\n",
    "        continue\n",
    "    print(\"Not even number\", num)"
   ]
  },
  {
   "cell_type": "code",
   "execution_count": 1,
   "metadata": {},
   "outputs": [
    {
     "name": "stdout",
     "output_type": "stream",
     "text": [
      "Found an even number 2\n",
      "Not even number 2\n",
      "Not even number 3\n",
      "Found an even number 4\n",
      "Not even number 4\n",
      "Not even number 5\n",
      "Found an even number 6\n",
      "Not even number 6\n",
      "Not even number 7\n",
      "Found an even number 8\n",
      "Not even number 8\n",
      "Not even number 9\n"
     ]
    }
   ],
   "source": [
    "\"\"\"\n",
    "What happens if you ommit continue?\n",
    "\"\"\"\n",
    "for num in range(2,10):\n",
    "    # if the remainder of n / 2 is 0, skip the rest of the loop\n",
    "    if num % 2 == 0:\n",
    "        print(\"Found an even number\", num)\n",
    "        # If you ommit it, it'll change behaviour! Not what you wanted!\n",
    "        #continue\n",
    "    print(\"Not even number\", num)"
   ]
  },
  {
   "cell_type": "code",
   "execution_count": 2,
   "metadata": {},
   "outputs": [
    {
     "name": "stdout",
     "output_type": "stream",
     "text": [
      "Found an even number 2\n",
      "Not even number 2\n",
      "Not even number 3\n",
      "Found an even number 4\n",
      "Not even number 4\n",
      "Not even number 5\n",
      "Found an even number 6\n",
      "Not even number 6\n",
      "Not even number 7\n",
      "Found an even number 8\n",
      "Not even number 8\n",
      "Not even number 9\n"
     ]
    }
   ],
   "source": [
    "\"\"\"\n",
    "What happens if you use pass instead of continue!\n",
    "You are getting a different behaviour.\n",
    "\"\"\"\n",
    "for num in range(2,10):\n",
    "    # if the remainder of n / 2 is 0, skip the rest of the loop\n",
    "    if num % 2 == 0:\n",
    "        print(\"Found an even number\", num)\n",
    "        pass\n",
    "    print(\"Not even number\", num)"
   ]
  },
  {
   "cell_type": "code",
   "execution_count": 111,
   "metadata": {},
   "outputs": [
    {
     "name": "stdout",
     "output_type": "stream",
     "text": [
      "Found an even number 2\n",
      "Not even number 3\n",
      "Found an even number 4\n",
      "Not even number 5\n",
      "Found an even number 6\n",
      "Not even number 7\n",
      "Found an even number 8\n",
      "Not even number 9\n"
     ]
    }
   ],
   "source": [
    "\"\"\"\n",
    "to recover the proper behaviour you need to add an else clause.\n",
    "The bottom line? Continue seems to be more convenient\n",
    "\"\"\"\n",
    "for n in range(2,10):\n",
    "    # if the remainder of n / 2 is 0, skip the rest of the loop\n",
    "    if n % 2 == 0:\n",
    "        print(\"Found an even number\", n)        \n",
    "    else:        \n",
    "        print(\"Not even number\", n)"
   ]
  },
  {
   "cell_type": "markdown",
   "metadata": {},
   "source": [
    "**break**"
   ]
  },
  {
   "cell_type": "markdown",
   "metadata": {},
   "source": [
    "<div class=\"alert alert-info\">\n",
    "<font color=black>\n",
    "\n",
    "- The `break` statement breaks-out of the loop entirely\n",
    "- The `continue` statement **skips the remainder of the current loop**, and goes to the next iteration\n",
    "\n",
    "</font>\n",
    "</div>"
   ]
  },
  {
   "cell_type": "code",
   "execution_count": 2,
   "metadata": {},
   "outputs": [
    {
     "name": "stdout",
     "output_type": "stream",
     "text": [
      "Outermost loop 0\n",
      "    Innermost loop 0\n",
      "    Innermost loop 1\n",
      "    Innermost loop 2\n",
      "    Innermost loop 3\n",
      "Outermost loop 1\n",
      "    Innermost loop 0\n",
      "    Innermost loop 1\n",
      "    Innermost loop 2\n",
      "    Innermost loop 3\n",
      "Outermost loop 2\n",
      "    Innermost loop 0\n",
      "    Innermost loop 1\n",
      "    Innermost loop 2\n",
      "    Innermost loop 3\n",
      "Outermost loop 3\n",
      "    Innermost loop 0\n",
      "    Innermost loop 1\n",
      "    Innermost loop 2\n",
      "    Innermost loop 3\n",
      "Outermost loop 4\n",
      "    Innermost loop 0\n",
      "    Innermost loop 1\n",
      "    Innermost loop 2\n",
      "    Innermost loop 3\n"
     ]
    }
   ],
   "source": [
    "for i in range(5):\n",
    "    print(\"Outermost loop\", i)\n",
    "    for j in range(5):\n",
    "        print(\"    Innermost loop\", j)\n",
    "        if j == 3:            \n",
    "            break"
   ]
  },
  {
   "cell_type": "markdown",
   "metadata": {},
   "source": [
    "**for-else with a break**"
   ]
  },
  {
   "cell_type": "code",
   "execution_count": 8,
   "metadata": {
    "scrolled": true
   },
   "outputs": [
    {
     "name": "stdout",
     "output_type": "stream",
     "text": [
      "Outermost loop 0\n",
      "    Innermost loop 0\n",
      "    Innermost loop 1\n",
      "    Innermost loop 2\n",
      "    Innermost loop 3\n",
      "    Innermost loop 4\n",
      "!\n",
      "Outermost loop 1\n",
      "    Innermost loop 0\n",
      "    Innermost loop 1\n",
      "    Innermost loop 2\n",
      "    Innermost loop 3\n",
      "    Innermost loop 4\n",
      "!\n",
      "Outermost loop 2\n",
      "    Innermost loop 0\n",
      "    Innermost loop 1\n",
      "    Innermost loop 2\n",
      "    Innermost loop 3\n",
      "    Innermost loop 4\n",
      "!\n",
      "Outermost loop 3\n",
      "    Innermost loop 0\n",
      "    Innermost loop 1\n",
      "    Innermost loop 2\n",
      "    Innermost loop 3\n",
      "    Innermost loop 4\n",
      "!\n",
      "Outermost loop 4\n",
      "    Innermost loop 0\n",
      "    Innermost loop 1\n",
      "    Innermost loop 2\n",
      "    Innermost loop 3\n",
      "    Innermost loop 4\n",
      "!\n"
     ]
    }
   ],
   "source": [
    "for i in range(5):\n",
    "    print(\"Outermost loop\", i)\n",
    "    for j in range(5):\n",
    "        print(\"    Innermost loop\", j)\n",
    "        if j == 6:            \n",
    "            break\n",
    "    else:\n",
    "        \"\"\"\n",
    "        Essentialy if the break is NOT hit by the end of the main loop.\n",
    "        We'll enter this part.\n",
    "        \"\"\"\n",
    "        print(\"!\")"
   ]
  },
  {
   "cell_type": "markdown",
   "metadata": {},
   "source": [
    "# List/array manipulation\n",
    "<hr style=\"border:2px solid black\"> </hr>"
   ]
  },
  {
   "cell_type": "markdown",
   "metadata": {},
   "source": [
    "**Get rid of duplicates**"
   ]
  },
  {
   "cell_type": "code",
   "execution_count": 6,
   "metadata": {},
   "outputs": [
    {
     "name": "stdout",
     "output_type": "stream",
     "text": [
      "[6, 5, 4]\n",
      "[4, 5, 6]\n"
     ]
    }
   ],
   "source": [
    "import numpy as np\n",
    "A = [6, 5, 4, 4] \n",
    "\n",
    "# Get rid of duplicates but maintain order\n",
    "dummy = [value for index, value in enumerate(A) if value not in A[:index]]\n",
    "print(dummy)\n",
    "\n",
    "dummy = set(A)\n",
    "print(list(dummy))"
   ]
  },
  {
   "cell_type": "markdown",
   "metadata": {},
   "source": [
    "**Check where a condition is respected**"
   ]
  },
  {
   "cell_type": "code",
   "execution_count": 7,
   "metadata": {},
   "outputs": [
    {
     "name": "stdout",
     "output_type": "stream",
     "text": [
      "Are they all greater than 10? False\n",
      "Is there at least one greater than 10? True\n"
     ]
    }
   ],
   "source": [
    "A = [6, 5,7,8,9,11]\n",
    "print(\"Are they all greater than 10?\", all(np.array(A) >10))\n",
    "print(\"Is there at least one greater than 10?\", any(np.array(A) >10))"
   ]
  },
  {
   "cell_type": "markdown",
   "metadata": {},
   "source": [
    "**get frequency**"
   ]
  },
  {
   "cell_type": "code",
   "execution_count": 10,
   "metadata": {},
   "outputs": [
    {
     "name": "stdout",
     "output_type": "stream",
     "text": [
      "[('eyes', 8), ('the', 5), ('look', 4)]\n"
     ]
    }
   ],
   "source": [
    "\"\"\"\n",
    "Find the Most Frequently Items in a Sequence Using Counter\n",
    "Counter is a dictionary\n",
    "\"\"\"\n",
    "\n",
    "from collections import Counter\n",
    "\n",
    "words = [\n",
    "   'look', 'into', 'my', 'eyes', 'look', 'into', 'my', 'eyes',\n",
    "   'the', 'eyes', 'the', 'eyes', 'the', 'eyes', 'not', 'around', 'the',\n",
    "   'eyes', \"don't\", 'look', 'around', 'the', 'eyes', 'look', 'into',\n",
    "   'my', 'eyes', \"you're\", 'under'\n",
    "]\n",
    "word_counts = Counter(words)\n",
    "top_three = word_counts.most_common(3)\n",
    "print(top_three)"
   ]
  },
  {
   "cell_type": "code",
   "execution_count": 11,
   "metadata": {},
   "outputs": [
    {
     "data": {
      "text/plain": [
       "9"
      ]
     },
     "execution_count": 11,
     "metadata": {},
     "output_type": "execute_result"
    }
   ],
   "source": [
    "morewords = ['why', 'are', 'you', 'not', 'looking', 'in', 'my', 'eyes']\n",
    "for word in morewords:\n",
    "    word_counts[word] += 1\n",
    "\n",
    "word_counts['eyes']"
   ]
  },
  {
   "cell_type": "code",
   "execution_count": 12,
   "metadata": {},
   "outputs": [
    {
     "name": "stdout",
     "output_type": "stream",
     "text": [
      "Counter({'eyes': 9, 'the': 5, 'look': 4, 'my': 4, 'into': 3, 'not': 2, 'around': 2, \"don't\": 1, \"you're\": 1, 'under': 1, 'why': 1, 'are': 1, 'you': 1, 'looking': 1, 'in': 1})\n"
     ]
    }
   ],
   "source": [
    "# we can also perform math operations between them\n",
    "a = Counter(words)\n",
    "b = Counter(morewords)\n",
    "print(a + b)"
   ]
  },
  {
   "cell_type": "code",
   "execution_count": 16,
   "metadata": {},
   "outputs": [
    {
     "data": {
      "text/plain": [
       "Counter({1: 1, 2: 2, 3: 1})"
      ]
     },
     "execution_count": 16,
     "metadata": {},
     "output_type": "execute_result"
    }
   ],
   "source": [
    "# It works with numbers as wells\n",
    "a = [1,2,2,3]\n",
    "num_counts = Counter(a)\n",
    "num_counts"
   ]
  },
  {
   "cell_type": "markdown",
   "metadata": {},
   "source": [
    "**list comprehension**"
   ]
  },
  {
   "cell_type": "code",
   "execution_count": 172,
   "metadata": {},
   "outputs": [
    {
     "data": {
      "text/plain": [
       "[1, 2, 4, 5, 7, 8, 10, 11, 13, 14, 16, 17, 19]"
      ]
     },
     "execution_count": 172,
     "metadata": {},
     "output_type": "execute_result"
    }
   ],
   "source": [
    "# Simple if condition\n",
    "[val for val in range(20) if val % 3 > 0]"
   ]
  },
  {
   "cell_type": "code",
   "execution_count": null,
   "metadata": {},
   "outputs": [],
   "source": [
    "# Simple if and else conditions\n",
    "[val if val % 2 else -val for val in range(20) if val % 3]"
   ]
  },
  {
   "cell_type": "markdown",
   "metadata": {},
   "source": [
    "# Class\n",
    "<hr style=\"border:2px solid black\"> </hr>"
   ]
  },
  {
   "cell_type": "markdown",
   "metadata": {},
   "source": [
    "**What is self?**"
   ]
  },
  {
   "cell_type": "markdown",
   "metadata": {},
   "source": [
    "<div class=\"alert alert-info\">\n",
    "<font color=black>\n",
    "\n",
    "- `self` is the instance itself!\n",
    "- When we say `withdraw(self, amount)`, we're saying: \"here's how you  withdraw money from a Customer object (called `self`) and a money figure (called amount).\"\n",
    "- Put in another way `customerA.withdraw(10)` is totally equivalent to `Customer.withdraw(customerA, 10)`.\n",
    "- But how can pass `customerA` is there is not `customerA` as yet? This is where `__init__` comes in.\n",
    "\n",
    "\n",
    "- Python allows us to extend the `self` pattern also to objects that are being constructed.\n",
    "- **This is the reason why** when we call `__init__` we initialise object by saying `self.name = name`.\n",
    "\n",
    "</font>\n",
    "</div>"
   ]
  },
  {
   "cell_type": "markdown",
   "metadata": {},
   "source": [
    "**@classmethod**"
   ]
  },
  {
   "cell_type": "markdown",
   "metadata": {},
   "source": [
    "<div class=\"alert alert-block alert-info\">\n",
    "<font color=black>\n",
    "\n",
    "- `@classmethod` is bound to a class rather than an object.\n",
    "- Class methods can be called by both class and object. \n",
    "- These methods can be called with a class **or** with an object. \n",
    "\n",
    "</font>\n",
    "</div>"
   ]
  },
  {
   "cell_type": "code",
   "execution_count": 8,
   "metadata": {},
   "outputs": [],
   "source": [
    "from datetime import date\n",
    "  \n",
    "class Person:\n",
    "    def __init__(self, name, age):\n",
    "        \"\"\"\n",
    "        This will create the object by name and age\n",
    "        \"\"\"\n",
    "        self.name = name\n",
    "        self.age = age\n",
    "  \n",
    "    \"\"\"\n",
    "    This will create the object by name and year\n",
    "    \"\"\"\n",
    "    @classmethod\n",
    "    def fromBirthYear(cls, name, year):\n",
    "        return cls(name, date.today().year - year)\n",
    "  \n",
    "    def display(self):\n",
    "        print(\"Name : \", self.name, \"Age : \", self.age)"
   ]
  },
  {
   "cell_type": "code",
   "execution_count": 9,
   "metadata": {},
   "outputs": [
    {
     "name": "stdout",
     "output_type": "stream",
     "text": [
      "Name :  mayank Age :  21\n"
     ]
    }
   ],
   "source": [
    "person = Person('mayank', 21)\n",
    "person.display()"
   ]
  },
  {
   "cell_type": "code",
   "execution_count": 10,
   "metadata": {},
   "outputs": [
    {
     "name": "stdout",
     "output_type": "stream",
     "text": [
      "Name :  mayank Age :  21\n"
     ]
    }
   ],
   "source": [
    "person1 = Person.fromBirthYear('mayank', 2000)\n",
    "person1.display()"
   ]
  },
  {
   "cell_type": "code",
   "execution_count": 11,
   "metadata": {},
   "outputs": [
    {
     "name": "stdout",
     "output_type": "stream",
     "text": [
      "Name :  mayank Age :  21\n"
     ]
    }
   ],
   "source": [
    "# called by the class\n",
    "person1 = Person('just something', 1000)\n",
    "# called by the object\n",
    "person2 = person1.fromBirthYear('mayank', 2000)\n",
    "person2.display()"
   ]
  },
  {
   "cell_type": "markdown",
   "metadata": {},
   "source": [
    "**@property**"
   ]
  },
  {
   "cell_type": "markdown",
   "metadata": {},
   "source": [
    "<div class=\"alert alert-block alert-info\">\n",
    "<font color=black>\n",
    "\n",
    "- The Pythonic way to introduce object/instance attributes is to make them public, and not introduce getters and setters to retrieve or change them.\n",
    "- Give access to the value like it is an attribute **instead** of a method\n",
    "- They are often used to **validate** the value of an attribute. \n",
    "\n",
    "\n",
    "- You can define three methods for a property:\n",
    "    - A `getter` - to access the value of the attribute.\n",
    "    - A `setter` - to set the value of the attribute.\n",
    "    - A `deleter` - to delete the instance attribute. \n",
    "\n",
    "- You don't necessarily have to define all three methods for every property.\n",
    "\n",
    "</font>\n",
    "</div>"
   ]
  },
  {
   "cell_type": "code",
   "execution_count": 35,
   "metadata": {},
   "outputs": [],
   "source": [
    "class House:    \n",
    "    \"\"\"House\n",
    "    \n",
    "    We'd like to create a class where it only\n",
    "    attribute is its price. We'd like to enforce a check on\n",
    "    this value: no negative value area allowed. So the user\n",
    "    we'll never misuse them.\n",
    "    \"\"\"\n",
    "\n",
    "    def __init__(self, price):        \n",
    "        \"\"\"\n",
    "        Please note that there is un underscored in \n",
    "        front of price!\n",
    "        \"\"\"\n",
    "        self._price = price\n",
    "\n",
    "    # This is essentially the getter method\n",
    "    @property\n",
    "    def price(self):\n",
    "        print(\"getter\")\n",
    "        return self._price\n",
    "\n",
    "    @price.setter\n",
    "    def price(self, new_price):\n",
    "        print(\"setter\")\n",
    "        if new_price > 0 and isinstance(new_price, float):\n",
    "            self._price = new_price\n",
    "        else:\n",
    "            print(\"Please enter a valid price: float and >0.0\")\n",
    "\n",
    "    @price.deleter\n",
    "    def price(self):\n",
    "        print(\"deleter\")\n",
    "        del self._price"
   ]
  },
  {
   "cell_type": "code",
   "execution_count": 36,
   "metadata": {},
   "outputs": [
    {
     "name": "stdout",
     "output_type": "stream",
     "text": [
      "getter\n"
     ]
    },
    {
     "data": {
      "text/plain": [
       "10"
      ]
     },
     "execution_count": 36,
     "metadata": {},
     "output_type": "execute_result"
    }
   ],
   "source": [
    "house = House(10)\n",
    "house.price"
   ]
  },
  {
   "cell_type": "code",
   "execution_count": 37,
   "metadata": {},
   "outputs": [
    {
     "name": "stdout",
     "output_type": "stream",
     "text": [
      "setter\n"
     ]
    }
   ],
   "source": [
    "house.price = 15.0"
   ]
  },
  {
   "cell_type": "code",
   "execution_count": 38,
   "metadata": {},
   "outputs": [
    {
     "name": "stdout",
     "output_type": "stream",
     "text": [
      "setter\n",
      "Please enter a valid price: float and >0.0\n"
     ]
    }
   ],
   "source": [
    "house.price = -15.0"
   ]
  },
  {
   "cell_type": "code",
   "execution_count": 39,
   "metadata": {},
   "outputs": [
    {
     "name": "stdout",
     "output_type": "stream",
     "text": [
      "deleter\n"
     ]
    }
   ],
   "source": [
    "del house.price"
   ]
  },
  {
   "cell_type": "code",
   "execution_count": 40,
   "metadata": {},
   "outputs": [
    {
     "name": "stdout",
     "output_type": "stream",
     "text": [
      "getter\n"
     ]
    },
    {
     "ename": "AttributeError",
     "evalue": "'House' object has no attribute '_price'",
     "output_type": "error",
     "traceback": [
      "\u001b[0;31m---------------------------------------------------------------------------\u001b[0m",
      "\u001b[0;31mAttributeError\u001b[0m                            Traceback (most recent call last)",
      "\u001b[0;32m<ipython-input-40-f18ec4fbfcf6>\u001b[0m in \u001b[0;36m<module>\u001b[0;34m\u001b[0m\n\u001b[0;32m----> 1\u001b[0;31m \u001b[0mhouse\u001b[0m\u001b[0;34m.\u001b[0m\u001b[0mprice\u001b[0m\u001b[0;34m\u001b[0m\u001b[0;34m\u001b[0m\u001b[0m\n\u001b[0m",
      "\u001b[0;32m<ipython-input-35-e829999bd6ec>\u001b[0m in \u001b[0;36mprice\u001b[0;34m(self)\u001b[0m\n\u001b[1;32m     19\u001b[0m     \u001b[0;32mdef\u001b[0m \u001b[0mprice\u001b[0m\u001b[0;34m(\u001b[0m\u001b[0mself\u001b[0m\u001b[0;34m)\u001b[0m\u001b[0;34m:\u001b[0m\u001b[0;34m\u001b[0m\u001b[0;34m\u001b[0m\u001b[0m\n\u001b[1;32m     20\u001b[0m         \u001b[0mprint\u001b[0m\u001b[0;34m(\u001b[0m\u001b[0;34m\"getter\"\u001b[0m\u001b[0;34m)\u001b[0m\u001b[0;34m\u001b[0m\u001b[0;34m\u001b[0m\u001b[0m\n\u001b[0;32m---> 21\u001b[0;31m         \u001b[0;32mreturn\u001b[0m \u001b[0mself\u001b[0m\u001b[0;34m.\u001b[0m\u001b[0m_price\u001b[0m\u001b[0;34m\u001b[0m\u001b[0;34m\u001b[0m\u001b[0m\n\u001b[0m\u001b[1;32m     22\u001b[0m \u001b[0;34m\u001b[0m\u001b[0m\n\u001b[1;32m     23\u001b[0m     \u001b[0;34m@\u001b[0m\u001b[0mprice\u001b[0m\u001b[0;34m.\u001b[0m\u001b[0msetter\u001b[0m\u001b[0;34m\u001b[0m\u001b[0;34m\u001b[0m\u001b[0m\n",
      "\u001b[0;31mAttributeError\u001b[0m: 'House' object has no attribute '_price'"
     ]
    }
   ],
   "source": [
    "house.price"
   ]
  },
  {
   "cell_type": "markdown",
   "metadata": {},
   "source": [
    "**@staticmethod**"
   ]
  },
  {
   "cell_type": "markdown",
   "metadata": {},
   "source": [
    "<div class=\"alert alert-info\">\n",
    "<font color=black>\n",
    "\n",
    "- There is a class methods that do not have access to `self.` This is called a **static method**.\n",
    "- Static methods like class attributes do not need a class instance (object) to be called.\n",
    "- On a more intuitive side `@staticmethod` describe something which belong to the class and not the object. So a car has always the same function regardless of the fact that is a Toyota or a BMW!\n",
    "\n",
    "</font>\n",
    "</div>"
   ]
  },
  {
   "cell_type": "code",
   "execution_count": 68,
   "metadata": {},
   "outputs": [],
   "source": [
    "class Car:\n",
    "    \n",
    "    # This is a class attribute\n",
    "    wheels = 4\n",
    "    \n",
    "    def __init__(self, make, model):\n",
    "        self.make = make\n",
    "        self.model = model\n",
    "        \n",
    "    @staticmethod\n",
    "    def purpouses():\n",
    "        # If you try to call self.make it would throw you\n",
    "        # an error because it does not have access to self!\n",
    "        #print(self.make)\n",
    "        print(\"It is used to go around!\")"
   ]
  },
  {
   "cell_type": "code",
   "execution_count": 69,
   "metadata": {},
   "outputs": [
    {
     "data": {
      "text/plain": [
       "4"
      ]
     },
     "execution_count": 69,
     "metadata": {},
     "output_type": "execute_result"
    }
   ],
   "source": [
    "Car.wheels"
   ]
  },
  {
   "cell_type": "code",
   "execution_count": 70,
   "metadata": {},
   "outputs": [
    {
     "name": "stdout",
     "output_type": "stream",
     "text": [
      "It is used to go around!\n"
     ]
    }
   ],
   "source": [
    "Car.purpouses()"
   ]
  },
  {
   "cell_type": "code",
   "execution_count": 71,
   "metadata": {},
   "outputs": [],
   "source": [
    "car1 = Car(\"BMW\", \"318is\")"
   ]
  },
  {
   "cell_type": "code",
   "execution_count": 72,
   "metadata": {},
   "outputs": [
    {
     "data": {
      "text/plain": [
       "'BMW'"
      ]
     },
     "execution_count": 72,
     "metadata": {},
     "output_type": "execute_result"
    }
   ],
   "source": [
    "car1.make"
   ]
  },
  {
   "cell_type": "code",
   "execution_count": 73,
   "metadata": {},
   "outputs": [
    {
     "data": {
      "text/plain": [
       "'318is'"
      ]
     },
     "execution_count": 73,
     "metadata": {},
     "output_type": "execute_result"
    }
   ],
   "source": [
    "car1.model"
   ]
  },
  {
   "cell_type": "code",
   "execution_count": 74,
   "metadata": {},
   "outputs": [
    {
     "name": "stdout",
     "output_type": "stream",
     "text": [
      "It is used to go around!\n"
     ]
    }
   ],
   "source": [
    "car1.purpouses()"
   ]
  },
  {
   "cell_type": "markdown",
   "metadata": {},
   "source": [
    "**_ _call_ _ vs. _ _init_ _**"
   ]
  },
  {
   "cell_type": "markdown",
   "metadata": {},
   "source": [
    "<div class=\"alert alert-block alert-info\">\n",
    "<font color=black>\n",
    "\n",
    "- `__call__` is a built-in method which enables to write classes where the instances behave like functions and can be called like a function.\n",
    "- In practice: `object()` is shorthand for `object.__call__()`\n",
    "\n",
    "\n",
    "- `__init__()` is properly defined as Class Constructor which builds an instance of a class, whereas `__call__` makes such a instance callable as a function and therefore can be modifiable.\n",
    "- Technically `__init__` is called once by `__new__` when object is created, so that it can be initialised\n",
    "- But there are many scenarios where you might want to redefine your object, say you are done with your object, and may find a need for a new object. With `__call__` you can redefine the same object as if it were new.\n",
    "\n",
    "</font>\n",
    "</div>"
   ]
  },
  {
   "cell_type": "code",
   "execution_count": 77,
   "metadata": {},
   "outputs": [],
   "source": [
    "class Product():\n",
    "    def __init__(self):\n",
    "        print(\"Instance created\")\n",
    "    \n",
    "    # Defining __call__ method\n",
    "    def __call__(self, a, b):\n",
    "        print(\"Instance is called via special method __call__\")\n",
    "        print(a*b)"
   ]
  },
  {
   "cell_type": "code",
   "execution_count": 81,
   "metadata": {},
   "outputs": [
    {
     "name": "stdout",
     "output_type": "stream",
     "text": [
      "Instance created\n",
      "Instance created\n"
     ]
    }
   ],
   "source": [
    "# This two are equivalent\n",
    "p = Product()\n",
    "p.__init__()"
   ]
  },
  {
   "cell_type": "code",
   "execution_count": 83,
   "metadata": {},
   "outputs": [
    {
     "name": "stdout",
     "output_type": "stream",
     "text": [
      "Instance is called via special method __call__\n",
      "6\n",
      "Instance is called via special method __call__\n",
      "6\n"
     ]
    }
   ],
   "source": [
    "# p is being call like if p was a function\n",
    "p(2,3)\n",
    "# this is another equivalent way of doing it\n",
    "p.__call__(2,3)"
   ]
  },
  {
   "cell_type": "markdown",
   "metadata": {},
   "source": [
    "**_ _repr_ _ and _ _str_ _**"
   ]
  },
  {
   "cell_type": "markdown",
   "metadata": {},
   "source": [
    "<div class=\"alert alert-block alert-info\">\n",
    "<font color=black>\n",
    "\n",
    "- They both represent the object but the `__repr__` method tells you more. So much more that you can also reconstruct the object based on that information. Also Python interpreter sessions use `__repr__` to inspect objects. \n",
    "- `__str__` should have a readable output.\n",
    "\n",
    "</font>\n",
    "</div>"
   ]
  },
  {
   "cell_type": "code",
   "execution_count": 84,
   "metadata": {},
   "outputs": [],
   "source": [
    "import numpy as np\n",
    "\n",
    "class Tensor(object):\n",
    "    \n",
    "    def __init__(self, data):\n",
    "        \"\"\"__init__ method\n",
    "        Given a list, tunrs it into an array\n",
    "        \"\"\"        \n",
    "        self.data = np.array(data)\n",
    "    \n",
    "    def __add__(self, other):\n",
    "        \"\"\"__add__ method        \n",
    "        Add two tensor together\n",
    "        \"\"\"\n",
    "        return Tensor(self.data + other.data)\n",
    "    \n",
    "    def __repr__(self):\n",
    "        print(\"calling __repr__\")\n",
    "        \"\"\"__repr__ method\n",
    "        Returns the object representation in string format.\n",
    "        Retunrs and official string representation of the object,\n",
    "        which can be ised to construt the object again.\n",
    "        \"\"\"\n",
    "        return str(self.data.__repr__())\n",
    "    \n",
    "    def __str__(self):\n",
    "        print(\"calling __str__\")\n",
    "        \"\"\"\n",
    "        Returns the string representation of the object. This method is called\n",
    "        when print() or str() function is invoked on an object. Retunrs a \n",
    "        human-redeable string format.\n",
    "        \"\"\"\n",
    "        return str(self.data.__str__())"
   ]
  },
  {
   "cell_type": "code",
   "execution_count": 85,
   "metadata": {},
   "outputs": [],
   "source": [
    "x = Tensor([1,2,3,4,5])"
   ]
  },
  {
   "cell_type": "code",
   "execution_count": 86,
   "metadata": {},
   "outputs": [
    {
     "name": "stdout",
     "output_type": "stream",
     "text": [
      "calling __repr__\n"
     ]
    },
    {
     "data": {
      "text/plain": [
       "array([1, 2, 3, 4, 5])"
      ]
     },
     "execution_count": 86,
     "metadata": {},
     "output_type": "execute_result"
    }
   ],
   "source": [
    "x"
   ]
  },
  {
   "cell_type": "code",
   "execution_count": 87,
   "metadata": {},
   "outputs": [
    {
     "name": "stdout",
     "output_type": "stream",
     "text": [
      "calling __repr__\n"
     ]
    },
    {
     "data": {
      "text/plain": [
       "'array([1, 2, 3, 4, 5])'"
      ]
     },
     "execution_count": 87,
     "metadata": {},
     "output_type": "execute_result"
    }
   ],
   "source": [
    "repr(x)"
   ]
  },
  {
   "cell_type": "code",
   "execution_count": 88,
   "metadata": {},
   "outputs": [
    {
     "name": "stdout",
     "output_type": "stream",
     "text": [
      "calling __str__\n",
      "[1 2 3 4 5]\n"
     ]
    }
   ],
   "source": [
    "print(x)"
   ]
  },
  {
   "cell_type": "code",
   "execution_count": 89,
   "metadata": {},
   "outputs": [
    {
     "name": "stdout",
     "output_type": "stream",
     "text": [
      "calling __str__\n"
     ]
    },
    {
     "data": {
      "text/plain": [
       "'[1 2 3 4 5]'"
      ]
     },
     "execution_count": 89,
     "metadata": {},
     "output_type": "execute_result"
    }
   ],
   "source": [
    "str(x)"
   ]
  },
  {
   "cell_type": "markdown",
   "metadata": {},
   "source": [
    "**Abstract class**"
   ]
  },
  {
   "cell_type": "markdown",
   "metadata": {},
   "source": [
    "<div class=\"alert alert-info\">\n",
    "<font color=black>\n",
    "\n",
    "- A class is called an **abstract class** if it contains some abstract methods.\n",
    "- An **abstract method** is a method that is declared, but contains no implementation. \n",
    "- Abstract classes may not be instantiated, and its abstract methods must be implemented by its subclasses.\n",
    "\n",
    "</font>\n",
    "</div>"
   ]
  },
  {
   "cell_type": "code",
   "execution_count": 90,
   "metadata": {},
   "outputs": [],
   "source": [
    "import abc\n",
    "class Shape(metaclass = abc.ABCMeta):\n",
    "    @abc.abstractmethod\n",
    "    def area(self):\n",
    "        \"\"\"\n",
    "        A method being declared but not implemented.\n",
    "        This will be implemented in the subclass\n",
    "        or derived class.\n",
    "        \"\"\"\n",
    "        pass"
   ]
  },
  {
   "cell_type": "code",
   "execution_count": 91,
   "metadata": {},
   "outputs": [],
   "source": [
    "class Rectangle(Shape):\n",
    "    def __init__(self, x,y):\n",
    "        self.l = x\n",
    "        self.b = y\n",
    "    def area(self):\n",
    "        return self.l*self.b"
   ]
  },
  {
   "cell_type": "code",
   "execution_count": 92,
   "metadata": {},
   "outputs": [
    {
     "name": "stdout",
     "output_type": "stream",
     "text": [
      "area:  200\n"
     ]
    }
   ],
   "source": [
    "r = Rectangle(10,20)\n",
    "print ('area: ', r.area())"
   ]
  },
  {
   "cell_type": "markdown",
   "metadata": {},
   "source": [
    "**super()**"
   ]
  },
  {
   "cell_type": "markdown",
   "metadata": {},
   "source": [
    "<div class=\"alert alert-block alert-info\">\n",
    "<font color=black>\n",
    "\n",
    "- While Python isn’t purely an object-oriented language, it’s flexible enough and powerful enough to allow you to build your applications using the object-oriented paradigm. \n",
    "- One of the ways in which Python achieves this is by supporting inheritance, which it does with `super()`. \n",
    "\n",
    "</font>\n",
    "</div>"
   ]
  },
  {
   "cell_type": "code",
   "execution_count": 186,
   "metadata": {},
   "outputs": [],
   "source": [
    "# This is the base class\n",
    "class Rectangle:\n",
    "    def __init__(self, length, width):\n",
    "        self.length = length\n",
    "        self.width = width\n",
    "\n",
    "    def area(self):\n",
    "        return self.length * self.width\n",
    "\n",
    "    def perimeter(self):\n",
    "        return 2 * self.length + 2 * self.width"
   ]
  },
  {
   "cell_type": "code",
   "execution_count": 187,
   "metadata": {},
   "outputs": [],
   "source": [
    "# Derived class but with no inheritance\n",
    "class Square:\n",
    "    def __init__(self, length):\n",
    "        self.length = length\n",
    "\n",
    "    def area(self):\n",
    "        return self.length * self.length\n",
    "\n",
    "    def perimeter(self):\n",
    "        return 4 * self.length"
   ]
  },
  {
   "cell_type": "code",
   "execution_count": 188,
   "metadata": {},
   "outputs": [],
   "source": [
    "# Here we declare that the Square class inherits from the Rectangle class\n",
    "class Square_m(Rectangle):\n",
    "    def __init__(self, length):\n",
    "        super().__init__(length, length)"
   ]
  },
  {
   "cell_type": "code",
   "execution_count": 191,
   "metadata": {},
   "outputs": [
    {
     "name": "stdout",
     "output_type": "stream",
     "text": [
      "Rectangle area 8\n",
      "Square area (withouth super) 16\n",
      "Square area (with super) 16\n"
     ]
    }
   ],
   "source": [
    "rectangle = Rectangle(2,4)\n",
    "print(\"Rectangle area\", rectangle.area())\n",
    "\n",
    "square = Square(4)\n",
    "print(\"Square area (withouth super)\", square.area())\n",
    "\n",
    "square_m = Square_m(4)\n",
    "print(\"Square area (with super)\", square_m.area())"
   ]
  },
  {
   "cell_type": "markdown",
   "metadata": {},
   "source": [
    "**Public, Private, Protected attributes**"
   ]
  },
  {
   "cell_type": "markdown",
   "metadata": {},
   "source": [
    "<div class=\"alert alert-info\">\n",
    "<font color=black>\n",
    "\n",
    "There are two ways to restrict the access to class attributes:\n",
    "\n",
    "1. **protected**. First, we can prefix an attribute name with a leading underscore \"_\". It tells users of the class not to use this attribute unless, somebody writes a subclass.\n",
    "2. **private**. Second, we can prefix an attribute name with two leading underscores \"__\". The attribute is now inaccessible and invisible from outside. It's neither possible to read nor write to those attributes except inside of the class definition itself.\n",
    "\n",
    "\n",
    "- Whenever we assign or retrieve any object attribute Python searches it in the object's `__dict__` dictionary\n",
    "- When the Python compiler sees a private attribute, it actually transforms the actual name to `_[Class name]__[private attribute name]`. \n",
    "- **In practice** it is more common to use public and protected attribute,\n",
    "\n",
    "\n",
    "- **ATTENTION** This is a convention and good practice. In reality there is no such a concept of strick private method in python.\n",
    "\n",
    "</font>\n",
    "</div>"
   ]
  },
  {
   "cell_type": "code",
   "execution_count": 183,
   "metadata": {},
   "outputs": [],
   "source": [
    "class A:\n",
    "    \n",
    "    def __init__(self):               \n",
    "        self.public = \"I am public\"\n",
    "        self._protected = \"I am protected\"\n",
    "        self.__private = \"I am private\" \n",
    "\n",
    "instantiationOfA = A()"
   ]
  },
  {
   "cell_type": "code",
   "execution_count": 184,
   "metadata": {},
   "outputs": [
    {
     "name": "stdout",
     "output_type": "stream",
     "text": [
      "I am public\n",
      "I am protected\n",
      "I am private\n"
     ]
    }
   ],
   "source": [
    "print(instantiationOfA.public)\n",
    "print(instantiationOfA._protected)\n",
    "print(instantiationOfA._A__private)"
   ]
  },
  {
   "cell_type": "code",
   "execution_count": 185,
   "metadata": {},
   "outputs": [
    {
     "name": "stdout",
     "output_type": "stream",
     "text": [
      "{'public': 'I am public', '_protected': 'I am protected', '_A__private': 'I am private'}\n"
     ]
    }
   ],
   "source": [
    "print(instantiationOfA.__dict__)"
   ]
  },
  {
   "cell_type": "markdown",
   "metadata": {},
   "source": [
    "# Function\n",
    "<hr style=\"border:2px solid black\"> </hr>"
   ]
  },
  {
   "cell_type": "markdown",
   "metadata": {},
   "source": [
    "**args and kwargs**"
   ]
  },
  {
   "cell_type": "markdown",
   "metadata": {},
   "source": [
    "<div class=\"alert alert-info\">\n",
    "<font color=black>\n",
    "\n",
    "- `*args`   is used for specifying an unknown number of *positional* arguments.\n",
    "- `**kwargs` is used for specifying an unknown number of *keyword*    arguments. Double star allows us to pass through keyword arguments (and any number of them)\n",
    "\n",
    "</font>\n",
    "</div>"
   ]
  },
  {
   "cell_type": "code",
   "execution_count": 94,
   "metadata": {},
   "outputs": [],
   "source": [
    "def example_args(*dummy):\n",
    "       for a in dummy:            \n",
    "            print(a)"
   ]
  },
  {
   "cell_type": "code",
   "execution_count": 95,
   "metadata": {},
   "outputs": [
    {
     "name": "stdout",
     "output_type": "stream",
     "text": [
      "[1, 2, 3, 4]\n"
     ]
    }
   ],
   "source": [
    "example_args([1,2,3,4])"
   ]
  },
  {
   "cell_type": "code",
   "execution_count": 96,
   "metadata": {},
   "outputs": [
    {
     "name": "stdout",
     "output_type": "stream",
     "text": [
      "[1, 2, 3, 4, 5]\n",
      "[1, 2]\n"
     ]
    }
   ],
   "source": [
    "example_args([1,2,3,4,5], [1,2])"
   ]
  },
  {
   "cell_type": "code",
   "execution_count": 97,
   "metadata": {},
   "outputs": [],
   "source": [
    "def example_kargs(**dummy):\n",
    "       for key, values in dummy.items():\n",
    "            print(key, values)"
   ]
  },
  {
   "cell_type": "code",
   "execution_count": 98,
   "metadata": {},
   "outputs": [
    {
     "name": "stdout",
     "output_type": "stream",
     "text": [
      "a 3\n",
      "b 1\n"
     ]
    }
   ],
   "source": [
    "example_kargs(a = 3, b = 1 )"
   ]
  },
  {
   "cell_type": "code",
   "execution_count": 99,
   "metadata": {},
   "outputs": [
    {
     "name": "stdout",
     "output_type": "stream",
     "text": [
      "a 3\n",
      "b 1\n",
      "c 3\n"
     ]
    }
   ],
   "source": [
    "example_kargs(a = 3, b = 1, c = 3)"
   ]
  },
  {
   "cell_type": "code",
   "execution_count": 117,
   "metadata": {},
   "outputs": [
    {
     "name": "stdout",
     "output_type": "stream",
     "text": [
      "['nobody', '*', '-2', '-2', 'Unprivileged User', '/var/empty', '/usr/bin/false']\n",
      "nobody\n",
      "/var/empty\n",
      "/usr/bin/false\n"
     ]
    }
   ],
   "source": [
    "# Something a bit more complex\n",
    "line = 'nobody:*:-2:-2:Unprivileged User:/var/empty:/usr/bin/false'\n",
    "print(line.split(\":\"))\n",
    "uname, *_, homedir, sh = line.split(':')\n",
    "print(uname)\n",
    "print(homedir)\n",
    "print(sh)"
   ]
  },
  {
   "cell_type": "markdown",
   "metadata": {},
   "source": [
    "**Function decorator**"
   ]
  },
  {
   "cell_type": "markdown",
   "metadata": {},
   "source": [
    "<div class=\"alert alert-info\">\n",
    "<font color=black>\n",
    "\n",
    "- A decorator takes in a function, adds some functionality and **RETURNS** it.\n",
    "- If you're wondering why there us a ` @functools.wraps ` here while other example do not have it, it is because it is **good practice**. \n",
    "- This automatically adds a `__wrapped__` attribute that let you retrieve the original, undecorated function\n",
    "\n",
    "</font>\n",
    "</div>"
   ]
  },
  {
   "cell_type": "code",
   "execution_count": 151,
   "metadata": {},
   "outputs": [],
   "source": [
    "import functools\n",
    "\n",
    "def ourDecorator(func):\n",
    "    @functools.wraps(func)\n",
    "    def functionWrapper(x):\n",
    "        print(\"Decorating the function\")\n",
    "        func(x)        \n",
    "    return functionWrapper"
   ]
  },
  {
   "cell_type": "code",
   "execution_count": 152,
   "metadata": {},
   "outputs": [],
   "source": [
    "@ourDecorator\n",
    "def foo(x):\n",
    "    print(\"Hi, foo has been called with: \" + str(x))"
   ]
  },
  {
   "cell_type": "code",
   "execution_count": 153,
   "metadata": {},
   "outputs": [
    {
     "name": "stdout",
     "output_type": "stream",
     "text": [
      "Decorating the function\n",
      "Hi, foo has been called with: Hi\n"
     ]
    }
   ],
   "source": [
    "# Let us call foo\n",
    "foo(\"Hi\")"
   ]
  },
  {
   "cell_type": "code",
   "execution_count": 155,
   "metadata": {},
   "outputs": [
    {
     "name": "stdout",
     "output_type": "stream",
     "text": [
      "Decorating the function\n",
      "Hi, foo has been called with: Hi\n"
     ]
    }
   ],
   "source": [
    "# This is equivalent to \n",
    "ourDecorator(foo(\"Hi\"));"
   ]
  },
  {
   "cell_type": "code",
   "execution_count": 156,
   "metadata": {},
   "outputs": [],
   "source": [
    "def make_pretty(func):\n",
    "    def inner():\n",
    "        print(\"I got decorated\")\n",
    "        func()\n",
    "    return inner"
   ]
  },
  {
   "cell_type": "code",
   "execution_count": 157,
   "metadata": {},
   "outputs": [],
   "source": [
    "@make_pretty\n",
    "def ordinary():\n",
    "    print(\"I am ordinary\")"
   ]
  },
  {
   "cell_type": "code",
   "execution_count": 158,
   "metadata": {},
   "outputs": [
    {
     "name": "stdout",
     "output_type": "stream",
     "text": [
      "I got decorated\n",
      "I am ordinary\n"
     ]
    }
   ],
   "source": [
    "ordinary()"
   ]
  },
  {
   "cell_type": "code",
   "execution_count": 159,
   "metadata": {},
   "outputs": [],
   "source": [
    "# Decorating. while passing a parameters\n",
    "def smart_divide(func):\n",
    "    def inner(a, b):\n",
    "        print(\"I am going to divide\", a, \"and\", b)\n",
    "        if b == 0:\n",
    "            print(\"Whoops! cannot divide\")\n",
    "            return\n",
    "\n",
    "        return func(a, b)\n",
    "    return inner"
   ]
  },
  {
   "cell_type": "code",
   "execution_count": 160,
   "metadata": {},
   "outputs": [],
   "source": [
    "@smart_divide\n",
    "def divide(a, b):\n",
    "    print(a/b)"
   ]
  },
  {
   "cell_type": "code",
   "execution_count": 161,
   "metadata": {},
   "outputs": [
    {
     "name": "stdout",
     "output_type": "stream",
     "text": [
      "I am going to divide 4 and 0\n",
      "Whoops! cannot divide\n"
     ]
    }
   ],
   "source": [
    "divide(4,0)"
   ]
  },
  {
   "cell_type": "markdown",
   "metadata": {},
   "source": [
    "**partial function**"
   ]
  },
  {
   "cell_type": "markdown",
   "metadata": {},
   "source": [
    "<div class=\"alert alert-info\">\n",
    "<font color=black>\n",
    "\n",
    "- **Partial functions** allow one to derive a function with x parameters to a function with fewer parameters and fixed values set for the more limited function.\n",
    "- We are going to create a function that multiplies two numbers.\n",
    "- We then want to create a function that always multipluies y by 1, but we don't want to rewrite another function, insetad we'd like to use what we have.\n",
    "- **IMPORTANT:** the default values will start replacing variables from the left. \n",
    "    \n",
    "</font>\n",
    "</div>"
   ]
  },
  {
   "cell_type": "code",
   "execution_count": 176,
   "metadata": {},
   "outputs": [],
   "source": [
    "from functools import partial\n",
    "def multiply(x,y):\n",
    "        print(\"x has value:\", x)\n",
    "        print(\"y has value:\", y)\n",
    "        return x * y"
   ]
  },
  {
   "cell_type": "code",
   "execution_count": 177,
   "metadata": {},
   "outputs": [
    {
     "name": "stdout",
     "output_type": "stream",
     "text": [
      "x has value: 3\n",
      "y has value: 3\n"
     ]
    },
    {
     "data": {
      "text/plain": [
       "9"
      ]
     },
     "execution_count": 177,
     "metadata": {},
     "output_type": "execute_result"
    }
   ],
   "source": [
    "multiply(3,3)"
   ]
  },
  {
   "cell_type": "code",
   "execution_count": 178,
   "metadata": {},
   "outputs": [],
   "source": [
    "pf_1 = partial(multiply,2)"
   ]
  },
  {
   "cell_type": "code",
   "execution_count": 179,
   "metadata": {},
   "outputs": [
    {
     "name": "stdout",
     "output_type": "stream",
     "text": [
      "x has value: 2\n",
      "y has value: 3\n"
     ]
    },
    {
     "data": {
      "text/plain": [
       "6"
      ]
     },
     "execution_count": 179,
     "metadata": {},
     "output_type": "execute_result"
    }
   ],
   "source": [
    "pf_1(3)"
   ]
  },
  {
   "cell_type": "code",
   "execution_count": 180,
   "metadata": {},
   "outputs": [
    {
     "name": "stdout",
     "output_type": "stream",
     "text": [
      "x has value: 2\n",
      "y has value: 1\n"
     ]
    },
    {
     "data": {
      "text/plain": [
       "2"
      ]
     },
     "execution_count": 180,
     "metadata": {},
     "output_type": "execute_result"
    }
   ],
   "source": [
    "pf_1(1)"
   ]
  },
  {
   "cell_type": "code",
   "execution_count": 181,
   "metadata": {},
   "outputs": [],
   "source": [
    "pf_2 = partial(multiply, 2,2)"
   ]
  },
  {
   "cell_type": "code",
   "execution_count": 182,
   "metadata": {},
   "outputs": [
    {
     "name": "stdout",
     "output_type": "stream",
     "text": [
      "x has value: 2\n",
      "y has value: 2\n"
     ]
    },
    {
     "data": {
      "text/plain": [
       "4"
      ]
     },
     "execution_count": 182,
     "metadata": {},
     "output_type": "execute_result"
    }
   ],
   "source": [
    "pf_2()"
   ]
  },
  {
   "cell_type": "markdown",
   "metadata": {},
   "source": [
    "# Iterators\n",
    "<hr style=\"border:2px solid black\"> </hr>"
   ]
  },
  {
   "cell_type": "markdown",
   "metadata": {},
   "source": [
    "**zip**"
   ]
  },
  {
   "cell_type": "code",
   "execution_count": 100,
   "metadata": {},
   "outputs": [
    {
     "name": "stdout",
     "output_type": "stream",
     "text": [
      "2 3\n",
      "4 6\n",
      "6 9\n",
      "8 12\n",
      "10 15\n"
     ]
    }
   ],
   "source": [
    "L = [2, 4, 6, 8, 10]\n",
    "R = [3, 6, 9, 12, 15]\n",
    "# zip zips together iterables\n",
    "for lval, rval in zip(L, R):\n",
    "    print(lval, rval)"
   ]
  },
  {
   "cell_type": "code",
   "execution_count": 106,
   "metadata": {},
   "outputs": [
    {
     "name": "stdout",
     "output_type": "stream",
     "text": [
      "(1, 'a') (2, 'b') (3, 'c') (4, 'd')\n",
      "(1, 2, 3, 4) ('a', 'b', 'c', 'd')\n"
     ]
    }
   ],
   "source": [
    "L1 = (1, 2, 3, 4)\n",
    "L2 = ('a', 'b', 'c', 'd')\n",
    "\n",
    "# Zipping then togeher\n",
    "z = zip(L1, L2)\n",
    "print(*z)\n",
    "\n",
    "# Unzipping again\n",
    "z = zip(L1, L2)\n",
    "new_L1, new_L2 = zip(*z)\n",
    "print(new_L1, new_L2)"
   ]
  },
  {
   "cell_type": "markdown",
   "metadata": {},
   "source": [
    "<div class=\"alert alert-info\">\n",
    "<font color=black>\n",
    "\n",
    "- `map`, `filter` and `reduce` are all example of functional programming in python.\n",
    "- **Definition #1** style of programming in which functions are treated and manipulated as objects, i.e. functions can be assigned to variables, they can be passed as arguments, and they can be stored in containers along with other data. We can write parallel code that works by running lots of functions in parallel on large amounts of data.\n",
    "- **Definition #2** when you build your applications completely out of pure functions: Pure Function: Its return value is determined exclusively by it's arguments.\n",
    "\n",
    "</font>\n",
    "</div>"
   ]
  },
  {
   "cell_type": "markdown",
   "metadata": {},
   "source": [
    "**lambda**"
   ]
  },
  {
   "cell_type": "markdown",
   "metadata": {},
   "source": [
    "<div class=\"alert alert-block alert-info\">\n",
    "<font color=black>\n",
    "\n",
    "- `lambda` returns a function object which can be assigned to any variable.\n",
    "- `lambda` functions are passed as parameters to functions that expect function object as parameters such as map, reduce, and filter functions. \n",
    "- Lambda functions are single-expression  functions that **are not necessarily** bound to a name (they can be anonymous). \n",
    "- Lambda functions can't use regular Python statements and always include an implicit `return` statement.\n",
    "\n",
    "</font>\n",
    "</div>"
   ]
  },
  {
   "cell_type": "code",
   "execution_count": 166,
   "metadata": {},
   "outputs": [],
   "source": [
    "# Can we achieve something like in a different way?\n",
    "def add(x, y):\n",
    "    return x + y"
   ]
  },
  {
   "cell_type": "code",
   "execution_count": 167,
   "metadata": {},
   "outputs": [
    {
     "data": {
      "text/plain": [
       "<function __main__.<lambda>(x, y)>"
      ]
     },
     "execution_count": 167,
     "metadata": {},
     "output_type": "execute_result"
    }
   ],
   "source": [
    "lambda x, y: x + y"
   ]
  },
  {
   "cell_type": "code",
   "execution_count": 168,
   "metadata": {},
   "outputs": [
    {
     "data": {
      "text/plain": [
       "3"
      ]
     },
     "execution_count": 168,
     "metadata": {},
     "output_type": "execute_result"
    }
   ],
   "source": [
    "add = lambda x, y: x + y\n",
    "add(1, 2)"
   ]
  },
  {
   "cell_type": "markdown",
   "metadata": {},
   "source": [
    "**map**"
   ]
  },
  {
   "cell_type": "code",
   "execution_count": 101,
   "metadata": {},
   "outputs": [
    {
     "name": "stdout",
     "output_type": "stream",
     "text": [
      "0 1 4 9 16 25 36 49 64 81 "
     ]
    }
   ],
   "source": [
    "\"\"\"\n",
    "The map iterator takes a function and applies it to the values in an iterator\n",
    "    \n",
    "Find the first 10 square numbers\n",
    "\"\"\"\n",
    "square = lambda x: x ** 2\n",
    "for val in map(square, range(10)):\n",
    "    print(val, end = ' ')"
   ]
  },
  {
   "cell_type": "markdown",
   "metadata": {},
   "source": [
    "**filter**"
   ]
  },
  {
   "cell_type": "code",
   "execution_count": 102,
   "metadata": {},
   "outputs": [
    {
     "name": "stdout",
     "output_type": "stream",
     "text": [
      "0 2 4 6 8 "
     ]
    }
   ],
   "source": [
    "\"\"\"\n",
    "The filter iterator looks similar, except it only passes-through values \n",
    "for which the filter function evaluates to True:\n",
    "\n",
    "Find values up to 10 for which x % 2 is zero\n",
    "\"\"\"\n",
    "\n",
    "is_even = lambda x: x % 2 == 0\n",
    "for val in filter(is_even, range(10)):\n",
    "    print(val, end=' ')"
   ]
  },
  {
   "cell_type": "code",
   "execution_count": 103,
   "metadata": {},
   "outputs": [
    {
     "name": "stdout",
     "output_type": "stream",
     "text": [
      "0 1 2 3 4 5 6 7 8 9\n"
     ]
    }
   ],
   "source": [
    "# *args syntax works not just with sequences, but with any iterator:\n",
    "print(*range(10))"
   ]
  },
  {
   "cell_type": "code",
   "execution_count": 104,
   "metadata": {},
   "outputs": [
    {
     "name": "stdout",
     "output_type": "stream",
     "text": [
      "0 1 4 9 16 25 36 49 64 81\n"
     ]
    }
   ],
   "source": [
    "\"\"\"\n",
    "This means that problem like the one before: \n",
    "find values up to 10 for which x % 2 is zero\n",
    "\n",
    "can be reduced down to\n",
    "\"\"\"\n",
    "print(*map(lambda x: x ** 2, range(10)))"
   ]
  },
  {
   "cell_type": "markdown",
   "metadata": {},
   "source": [
    "# Generators\n",
    "<hr style=\"border:2px solid black\"> </hr>"
   ]
  },
  {
   "cell_type": "markdown",
   "metadata": {},
   "source": [
    "<div class=\"alert alert-info\">\n",
    "<font color=black>\n",
    "\n",
    "- List comprehensions and generator expressions are not the same thing.\n",
    "- List comprehensions use **square brackets**, while generator expressions use **parentheses**.\n",
    "- A list is a collection of values, while a generator is a recipe for producing values\n",
    "- When you create a list, you are actually building a collection of values, and there is some memory cost associated with that. When you create a generator, you are not building a collection of values, but a recipe for producing those values.\n",
    "- The difference is that a generator expression does not actually compute the values until they are needed. This not only leads to **memory efficiency**, but to computational efficiency as well! This also means that while the size of a list is limited by available memory, the size of a generator expression is unlimited!\n",
    "\n",
    "</font>\n",
    "</div>"
   ]
  },
  {
   "cell_type": "code",
   "execution_count": 162,
   "metadata": {},
   "outputs": [
    {
     "name": "stdout",
     "output_type": "stream",
     "text": [
      "0 1 4 9 16 25 36 49 64 81 100 121 \n",
      "0 1 4 9 16 25 36 49 64 81 100 121 "
     ]
    }
   ],
   "source": [
    "# Both expose the same iterator interface, as we can see here:\n",
    "L = [n ** 2 for n in range(12)]\n",
    "for val in L:\n",
    "    print(val, end=' ')\n",
    "\n",
    "print(\"\")\n",
    "G = (n ** 2 for n in range(12))\n",
    "for val in G:\n",
    "    print(val, end=' ')"
   ]
  },
  {
   "cell_type": "code",
   "execution_count": 163,
   "metadata": {},
   "outputs": [],
   "source": [
    "# Will not print anything unless you reinitialise the generator!\n",
    "for val in G:\n",
    "    print(val, end=' ')"
   ]
  },
  {
   "cell_type": "code",
   "execution_count": 164,
   "metadata": {},
   "outputs": [
    {
     "name": "stdout",
     "output_type": "stream",
     "text": [
      "0 1 4 9 16 25 36 \n",
      "doing something in between\n",
      "49 64 81 100 121 "
     ]
    }
   ],
   "source": [
    "# This can be very useful because it means iteration can be stopped and started:\n",
    "G = (n**2 for n in range(12))\n",
    "for n in G:\n",
    "    print(n, end=' ')\n",
    "    if n > 30: break\n",
    "\n",
    "print(\"\\ndoing something in between\")\n",
    "\n",
    "for n in G:\n",
    "    print(n, end=' ')"
   ]
  },
  {
   "cell_type": "markdown",
   "metadata": {},
   "source": [
    "<div class=\"alert alert-info\">\n",
    "<font color=black>\n",
    "\n",
    "- A **generator function** is a function that, rather than using return to return a value once, uses yield to yield a (potentially infinite) sequence of values. \n",
    "- Just as in generator expressions, the state of the generator is preserved between partial iterations, but if we want a fresh copy of the generator we can simply call the function again.\n",
    "\n",
    "</font>\n",
    "</div>"
   ]
  },
  {
   "cell_type": "code",
   "execution_count": 165,
   "metadata": {},
   "outputs": [
    {
     "name": "stdout",
     "output_type": "stream",
     "text": [
      "0 1 4 9 16 25 36 49 64 81 100 121\n",
      "0 1 4 9 16 25 36 49 64 81 100 121\n"
     ]
    }
   ],
   "source": [
    "# Similarly, here we have two ways of constructing equivalent generators:    \n",
    "G1 = (n ** 2 for n in range(12))\n",
    "print(*G1)\n",
    "\n",
    "def gen():\n",
    "    for n in range(12):\n",
    "        yield n ** 2\n",
    "\n",
    "G2 = gen()\n",
    "\n",
    "print(*G2)"
   ]
  },
  {
   "cell_type": "markdown",
   "metadata": {},
   "source": [
    "# Stack and queue\n",
    "<hr style=\"border:2px solid black\"> </hr>"
   ]
  },
  {
   "cell_type": "markdown",
   "metadata": {},
   "source": [
    "<div class=\"alert alert-info\">\n",
    "<font color=black>\n",
    "\n",
    "- Stack is a data structure where the last element addedis the first element retrieved -> **last-in, first-out**. \n",
    "- List can be very easily used as stacked.\n",
    "\n",
    "</font>\n",
    "</div>"
   ]
  },
  {
   "cell_type": "code",
   "execution_count": 171,
   "metadata": {},
   "outputs": [
    {
     "data": {
      "text/plain": [
       "[1, 2, 3, 4, 5]"
      ]
     },
     "execution_count": 171,
     "metadata": {},
     "output_type": "execute_result"
    }
   ],
   "source": [
    "stack = [1,2,3]\n",
    "stack.append(4)\n",
    "stack.append(5)\n",
    "stack"
   ]
  },
  {
   "cell_type": "code",
   "execution_count": 113,
   "metadata": {},
   "outputs": [
    {
     "data": {
      "text/plain": [
       "5"
      ]
     },
     "execution_count": 113,
     "metadata": {},
     "output_type": "execute_result"
    }
   ],
   "source": [
    "# the first to be removed is the the last that was added\n",
    "stack.pop()"
   ]
  },
  {
   "cell_type": "code",
   "execution_count": 114,
   "metadata": {},
   "outputs": [
    {
     "data": {
      "text/plain": [
       "[1, 2, 3, 4]"
      ]
     },
     "execution_count": 114,
     "metadata": {},
     "output_type": "execute_result"
    }
   ],
   "source": [
    "stack"
   ]
  },
  {
   "cell_type": "markdown",
   "metadata": {},
   "source": [
    "<div class=\"alert alert-info\">\n",
    "<font color=black>\n",
    "\n",
    "- Stack was last-in first-out.\n",
    "- Queue as the opposite firs-in first-out.\n",
    "\n",
    "\n",
    "- List are not **efficiently** used as a queue, because all the other elements have to be shifted by one.\n",
    "- To implement a queue use `collections.deque` which was designed to have fast append and pops from both ends.\n",
    "\n",
    "</font>\n",
    "</div>"
   ]
  },
  {
   "cell_type": "code",
   "execution_count": 118,
   "metadata": {},
   "outputs": [
    {
     "name": "stdout",
     "output_type": "stream",
     "text": [
      "deque(['Eric', 'John', 'Michael', 'Terry'])\n",
      "deque(['Eric', 'John', 'Michael', 'Terry', 'Graham'])\n",
      "Eric\n"
     ]
    }
   ],
   "source": [
    "from collections import deque\n",
    "a = [\"Eric\", \"John\", \"Michael\"]\n",
    "queue = deque(a)\n",
    "queue.append(\"Terry\")\n",
    "print(queue)\n",
    "queue.append(\"Graham\")\n",
    "print(queue)\n",
    "print(queue.popleft())"
   ]
  },
  {
   "cell_type": "code",
   "execution_count": 119,
   "metadata": {},
   "outputs": [
    {
     "name": "stdout",
     "output_type": "stream",
     "text": [
      "Graham\n",
      "deque(['John', 'Michael', 'Terry'])\n"
     ]
    }
   ],
   "source": [
    "# removes the right-most element\n",
    "print(queue.pop())\n",
    "print(queue)"
   ]
  },
  {
   "cell_type": "markdown",
   "metadata": {},
   "source": [
    "# Dictionary\n",
    "<hr style=\"border:2px solid black\"> </hr>"
   ]
  },
  {
   "cell_type": "markdown",
   "metadata": {},
   "source": [
    "<div class=\"alert alert-info\">\n",
    "<font color=black>\n",
    "\n",
    "- Keeping Dictionaries in Order Using OrderedDict\n",
    "- Be aware that the size of an OrderedDict is more than **twice as large** as a normal dictionary!\n",
    "\n",
    "</font>\n",
    "</div>"
   ]
  },
  {
   "cell_type": "markdown",
   "metadata": {},
   "source": [
    "d = dict()\n",
    "d['foo'] = 1\n",
    "d['spam'] = 3\n",
    "d['bar'] = 2\n",
    "d['grok'] = 4\n",
    "\n",
    "for key in d:\n",
    "    print(key, d[key])"
   ]
  },
  {
   "cell_type": "code",
   "execution_count": null,
   "metadata": {},
   "outputs": [],
   "source": [
    "from collections import OrderedDict\n",
    "od = OrderedDict()\n",
    "od['foo'] = 1\n",
    "od['bar'] = 2\n",
    "od['spam'] = 3\n",
    "od['grok'] = 4\n",
    "\n",
    "# the order remains the same compared to the dict\n",
    "for key in od:\n",
    "    print(key, od[key])"
   ]
  },
  {
   "cell_type": "code",
   "execution_count": 126,
   "metadata": {},
   "outputs": [
    {
     "name": "stdout",
     "output_type": "stream",
     "text": [
      "(10.75, 'FB')\n"
     ]
    }
   ],
   "source": [
    "\"\"\"\n",
    "Performing calculations (e.g., min, max, sorting, etc.) on a dictionary by convert the\n",
    "it into tuples of ( value, key ).\n",
    "\"\"\"\n",
    "\n",
    "# company and stocks\n",
    "prices = {'ACME': 45.23, 'AAPL': 612.78, 'IBM': 205.55,\n",
    "          'HPQ': 37.20, 'FB': 10.75}\n",
    "\n",
    "min_price = min(zip(prices.values(), prices.keys()))\n",
    "print(min_price)"
   ]
  },
  {
   "cell_type": "code",
   "execution_count": 127,
   "metadata": {},
   "outputs": [
    {
     "name": "stdout",
     "output_type": "stream",
     "text": [
      "{'y', 'x'}\n",
      "{'z'}\n",
      "{('y', 2)}\n",
      "{'y': 2, 'x': 1}\n"
     ]
    }
   ],
   "source": [
    "\"\"\"\n",
    "We can perform common set operations with dictionary .keys() and .items() without \n",
    "having to convert them into a set as they are unique.\n",
    "\"\"\"\n",
    "\n",
    "a = {'x': 1, 'y': 2, 'z': 3}\n",
    "b = {'w': 10, 'x': 11, 'y': 2}\n",
    "\n",
    "# common keys\n",
    "print(a.keys() & b.keys())\n",
    "\n",
    "# keys in a that are not in b\n",
    "print(a.keys() - b.keys())\n",
    "\n",
    "# (key,value) pairs in common\n",
    "print(a.items() & b.items())\n",
    "\n",
    "# make a new dictionary with certain keys removed\n",
    "c = {key: a[key] for key in a.keys() - {'z'}}\n",
    "print(c)"
   ]
  },
  {
   "cell_type": "markdown",
   "metadata": {},
   "source": [
    "# Errors and exceptions\n",
    "<hr style=\"border:2px solid black\"> </hr>"
   ]
  },
  {
   "cell_type": "markdown",
   "metadata": {},
   "source": [
    "<div class=\"alert alert-info\">\n",
    "<font color=black>\n",
    "    \n",
    "- There are three type of errors:\n",
    "\n",
    "    - **Syntax errors:** Errors where the code is not valid Python (generally easy to fix)\n",
    "    - **Runtime errors:** Errors where syntactically valid code fails to execute, perhaps due to invalid user input (sometimes easy to fix)\n",
    "    - **Semantic errors:** Errors in logic: code executes without a problem, but the result is not what you expect (often very difficult to track-down and fix)\n",
    "\n",
    "\n",
    "- Here we're going to focus on how to deal cleanly with *runtime errors*.\n",
    "- As we'll see, Python handles runtime errors via its *exception handling* framework.\n",
    "\n",
    "</font>\n",
    "</div>"
   ]
  },
  {
   "cell_type": "markdown",
   "metadata": {},
   "source": [
    "**Catching Exceptions: try and except**"
   ]
  },
  {
   "cell_type": "code",
   "execution_count": 134,
   "metadata": {},
   "outputs": [
    {
     "name": "stdout",
     "output_type": "stream",
     "text": [
      "let's try something:\n",
      "something bad happened!\n"
     ]
    }
   ],
   "source": [
    "try:\n",
    "    print(\"let's try something:\")\n",
    "    x = 1 / 0 # ZeroDivisionError\n",
    "except:\n",
    "    print(\"something bad happened!\")"
   ]
  },
  {
   "cell_type": "code",
   "execution_count": 136,
   "metadata": {},
   "outputs": [
    {
     "data": {
      "text/plain": [
       "1e+100"
      ]
     },
     "execution_count": 136,
     "metadata": {},
     "output_type": "execute_result"
    }
   ],
   "source": [
    "def safe_divide(a, b):\n",
    "    try:\n",
    "        return a / b\n",
    "    except ZeroDivisionError:\n",
    "        return 1E100\n",
    "safe_divide(1,0)"
   ]
  },
  {
   "cell_type": "code",
   "execution_count": 137,
   "metadata": {},
   "outputs": [
    {
     "ename": "TypeError",
     "evalue": "unsupported operand type(s) for /: 'int' and 'str'",
     "output_type": "error",
     "traceback": [
      "\u001b[0;31m---------------------------------------------------------------------------\u001b[0m",
      "\u001b[0;31mTypeError\u001b[0m                                 Traceback (most recent call last)",
      "\u001b[0;32m<ipython-input-137-0417ee0852f5>\u001b[0m in \u001b[0;36m<module>\u001b[0;34m\u001b[0m\n\u001b[1;32m      1\u001b[0m \u001b[0;31m# We're now catching zero-division errors only, and letting all other errors pass through un-modified.\u001b[0m\u001b[0;34m\u001b[0m\u001b[0;34m\u001b[0m\u001b[0;34m\u001b[0m\u001b[0m\n\u001b[0;32m----> 2\u001b[0;31m \u001b[0msafe_divide\u001b[0m\u001b[0;34m(\u001b[0m\u001b[0;36m1\u001b[0m\u001b[0;34m,\u001b[0m \u001b[0;34m'2'\u001b[0m\u001b[0;34m)\u001b[0m\u001b[0;34m\u001b[0m\u001b[0;34m\u001b[0m\u001b[0m\n\u001b[0m",
      "\u001b[0;32m<ipython-input-136-8ae43d9c6965>\u001b[0m in \u001b[0;36msafe_divide\u001b[0;34m(a, b)\u001b[0m\n\u001b[1;32m      1\u001b[0m \u001b[0;32mdef\u001b[0m \u001b[0msafe_divide\u001b[0m\u001b[0;34m(\u001b[0m\u001b[0ma\u001b[0m\u001b[0;34m,\u001b[0m \u001b[0mb\u001b[0m\u001b[0;34m)\u001b[0m\u001b[0;34m:\u001b[0m\u001b[0;34m\u001b[0m\u001b[0;34m\u001b[0m\u001b[0m\n\u001b[1;32m      2\u001b[0m     \u001b[0;32mtry\u001b[0m\u001b[0;34m:\u001b[0m\u001b[0;34m\u001b[0m\u001b[0;34m\u001b[0m\u001b[0m\n\u001b[0;32m----> 3\u001b[0;31m         \u001b[0;32mreturn\u001b[0m \u001b[0ma\u001b[0m \u001b[0;34m/\u001b[0m \u001b[0mb\u001b[0m\u001b[0;34m\u001b[0m\u001b[0;34m\u001b[0m\u001b[0m\n\u001b[0m\u001b[1;32m      4\u001b[0m     \u001b[0;32mexcept\u001b[0m \u001b[0mZeroDivisionError\u001b[0m\u001b[0;34m:\u001b[0m\u001b[0;34m\u001b[0m\u001b[0;34m\u001b[0m\u001b[0m\n\u001b[1;32m      5\u001b[0m         \u001b[0;32mreturn\u001b[0m \u001b[0;36m1E100\u001b[0m\u001b[0;34m\u001b[0m\u001b[0;34m\u001b[0m\u001b[0m\n",
      "\u001b[0;31mTypeError\u001b[0m: unsupported operand type(s) for /: 'int' and 'str'"
     ]
    }
   ],
   "source": [
    "# We're now catching zero-division errors only, and letting all other errors pass through un-modified.\n",
    "safe_divide(1, '2')"
   ]
  },
  {
   "cell_type": "markdown",
   "metadata": {},
   "source": [
    "# Raising Exceptions: raise\n",
    "<hr style=\"border:2px solid black\"> </hr>"
   ]
  },
  {
   "cell_type": "markdown",
   "metadata": {},
   "source": [
    "<div class=\"alert alert-info\">\n",
    "<font color=black>\n",
    "\n",
    "- The way you raise your **OWN exceptions** is with the raise statement. \n",
    "- We are going to write a simple function that accepts only positive numbers.\n",
    "- Keep in mind that `raise` is a python name recognised by python but `ValueError` is something you decide. For instance,  something like `value_error` would have been equally OK. \n",
    "\n",
    "</font>\n",
    "</div>"
   ]
  },
  {
   "cell_type": "code",
   "execution_count": 24,
   "metadata": {},
   "outputs": [],
   "source": [
    "def function(N):\n",
    "    if N < 0:\n",
    "        raise ValueError(\"N must be non-negative\")\n",
    "    else:\n",
    "        print(\"You entered\", N)\n",
    "        return N"
   ]
  },
  {
   "cell_type": "code",
   "execution_count": 25,
   "metadata": {},
   "outputs": [
    {
     "name": "stdout",
     "output_type": "stream",
     "text": [
      "You entered 10\n"
     ]
    },
    {
     "data": {
      "text/plain": [
       "10"
      ]
     },
     "execution_count": 25,
     "metadata": {},
     "output_type": "execute_result"
    }
   ],
   "source": [
    "function(10)"
   ]
  },
  {
   "cell_type": "code",
   "execution_count": 26,
   "metadata": {},
   "outputs": [
    {
     "ename": "ValueError",
     "evalue": "N must be non-negative",
     "output_type": "error",
     "traceback": [
      "\u001b[0;31m---------------------------------------------------------------------------\u001b[0m",
      "\u001b[0;31mValueError\u001b[0m                                Traceback (most recent call last)",
      "\u001b[0;32m<ipython-input-26-dae3e5858107>\u001b[0m in \u001b[0;36m<module>\u001b[0;34m\u001b[0m\n\u001b[0;32m----> 1\u001b[0;31m \u001b[0mfunction\u001b[0m\u001b[0;34m(\u001b[0m\u001b[0;34m-\u001b[0m\u001b[0;36m10\u001b[0m\u001b[0;34m)\u001b[0m\u001b[0;34m\u001b[0m\u001b[0;34m\u001b[0m\u001b[0m\n\u001b[0m",
      "\u001b[0;32m<ipython-input-24-daa72cbd466f>\u001b[0m in \u001b[0;36mfunction\u001b[0;34m(N)\u001b[0m\n\u001b[1;32m      1\u001b[0m \u001b[0;32mdef\u001b[0m \u001b[0mfunction\u001b[0m\u001b[0;34m(\u001b[0m\u001b[0mN\u001b[0m\u001b[0;34m)\u001b[0m\u001b[0;34m:\u001b[0m\u001b[0;34m\u001b[0m\u001b[0;34m\u001b[0m\u001b[0m\n\u001b[1;32m      2\u001b[0m     \u001b[0;32mif\u001b[0m \u001b[0mN\u001b[0m \u001b[0;34m<\u001b[0m \u001b[0;36m0\u001b[0m\u001b[0;34m:\u001b[0m\u001b[0;34m\u001b[0m\u001b[0;34m\u001b[0m\u001b[0m\n\u001b[0;32m----> 3\u001b[0;31m         \u001b[0;32mraise\u001b[0m \u001b[0mValueError\u001b[0m\u001b[0;34m(\u001b[0m\u001b[0;34m\"N must be non-negative\"\u001b[0m\u001b[0;34m)\u001b[0m\u001b[0;34m\u001b[0m\u001b[0;34m\u001b[0m\u001b[0m\n\u001b[0m\u001b[1;32m      4\u001b[0m     \u001b[0;32melse\u001b[0m\u001b[0;34m:\u001b[0m\u001b[0;34m\u001b[0m\u001b[0;34m\u001b[0m\u001b[0m\n\u001b[1;32m      5\u001b[0m         \u001b[0mprint\u001b[0m\u001b[0;34m(\u001b[0m\u001b[0;34m\"You entered\"\u001b[0m\u001b[0;34m,\u001b[0m \u001b[0mN\u001b[0m\u001b[0;34m)\u001b[0m\u001b[0;34m\u001b[0m\u001b[0;34m\u001b[0m\u001b[0m\n",
      "\u001b[0;31mValueError\u001b[0m: N must be non-negative"
     ]
    }
   ],
   "source": [
    "function(-10)"
   ]
  },
  {
   "cell_type": "markdown",
   "metadata": {},
   "source": [
    "**finally clause**"
   ]
  },
  {
   "cell_type": "markdown",
   "metadata": {},
   "source": [
    "<div class=\"alert alert-info\">\n",
    "<font color=black>\n",
    "\n",
    "- A `finally` clause is always executed before leaving the `try` statement, whether an exception has occured or not.\n",
    "- The `finally` clause is also executed on the way out when any other clause of the `try` statement is left via a `break`, `continue` or `return` statement.\n",
    "<br><br>\n",
    "- In the real world, the `finally` clause is used for releasing external resources that are always useful regardless of what happens.\n",
    "\n",
    "</font>\n",
    "</div>"
   ]
  },
  {
   "cell_type": "code",
   "execution_count": 141,
   "metadata": {},
   "outputs": [],
   "source": [
    "def divide(x, y):\n",
    "    try:\n",
    "        result = x/y\n",
    "    except ZeroDivisionError:\n",
    "        print(\"Division by zero!\")\n",
    "    else:\n",
    "        print(\"Result is:\", result)\n",
    "    finally:\n",
    "        print(\"Executing finally clause\")"
   ]
  },
  {
   "cell_type": "code",
   "execution_count": 142,
   "metadata": {},
   "outputs": [
    {
     "name": "stdout",
     "output_type": "stream",
     "text": [
      "Result is: 2.0\n",
      "Executing finally clause\n"
     ]
    }
   ],
   "source": [
    "divide(2,1)"
   ]
  },
  {
   "cell_type": "code",
   "execution_count": 143,
   "metadata": {},
   "outputs": [
    {
     "name": "stdout",
     "output_type": "stream",
     "text": [
      "Division by zero!\n",
      "Executing finally clause\n"
     ]
    }
   ],
   "source": [
    "divide(2,0)"
   ]
  },
  {
   "cell_type": "code",
   "execution_count": 144,
   "metadata": {},
   "outputs": [
    {
     "name": "stdout",
     "output_type": "stream",
     "text": [
      "Executing finally clause\n"
     ]
    },
    {
     "ename": "TypeError",
     "evalue": "unsupported operand type(s) for /: 'str' and 'str'",
     "output_type": "error",
     "traceback": [
      "\u001b[0;31m---------------------------------------------------------------------------\u001b[0m",
      "\u001b[0;31mTypeError\u001b[0m                                 Traceback (most recent call last)",
      "\u001b[0;32m<ipython-input-144-3ad63cdb9b7d>\u001b[0m in \u001b[0;36m<module>\u001b[0;34m\u001b[0m\n\u001b[0;32m----> 1\u001b[0;31m \u001b[0mdivide\u001b[0m\u001b[0;34m(\u001b[0m\u001b[0;34m\"2\"\u001b[0m\u001b[0;34m,\u001b[0m \u001b[0;34m\"1\"\u001b[0m\u001b[0;34m)\u001b[0m\u001b[0;34m\u001b[0m\u001b[0;34m\u001b[0m\u001b[0m\n\u001b[0m",
      "\u001b[0;32m<ipython-input-141-5e05ba5ce58f>\u001b[0m in \u001b[0;36mdivide\u001b[0;34m(x, y)\u001b[0m\n\u001b[1;32m      1\u001b[0m \u001b[0;32mdef\u001b[0m \u001b[0mdivide\u001b[0m\u001b[0;34m(\u001b[0m\u001b[0mx\u001b[0m\u001b[0;34m,\u001b[0m \u001b[0my\u001b[0m\u001b[0;34m)\u001b[0m\u001b[0;34m:\u001b[0m\u001b[0;34m\u001b[0m\u001b[0;34m\u001b[0m\u001b[0m\n\u001b[1;32m      2\u001b[0m     \u001b[0;32mtry\u001b[0m\u001b[0;34m:\u001b[0m\u001b[0;34m\u001b[0m\u001b[0;34m\u001b[0m\u001b[0m\n\u001b[0;32m----> 3\u001b[0;31m         \u001b[0mresult\u001b[0m \u001b[0;34m=\u001b[0m \u001b[0mx\u001b[0m\u001b[0;34m/\u001b[0m\u001b[0my\u001b[0m\u001b[0;34m\u001b[0m\u001b[0;34m\u001b[0m\u001b[0m\n\u001b[0m\u001b[1;32m      4\u001b[0m     \u001b[0;32mexcept\u001b[0m \u001b[0mZeroDivisionError\u001b[0m\u001b[0;34m:\u001b[0m\u001b[0;34m\u001b[0m\u001b[0;34m\u001b[0m\u001b[0m\n\u001b[1;32m      5\u001b[0m         \u001b[0mprint\u001b[0m\u001b[0;34m(\u001b[0m\u001b[0;34m\"Division by zero!\"\u001b[0m\u001b[0;34m)\u001b[0m\u001b[0;34m\u001b[0m\u001b[0;34m\u001b[0m\u001b[0m\n",
      "\u001b[0;31mTypeError\u001b[0m: unsupported operand type(s) for /: 'str' and 'str'"
     ]
    }
   ],
   "source": [
    "divide(\"2\", \"1\")"
   ]
  },
  {
   "cell_type": "code",
   "execution_count": null,
   "metadata": {},
   "outputs": [],
   "source": []
  },
  {
   "cell_type": "code",
   "execution_count": null,
   "metadata": {},
   "outputs": [],
   "source": []
  }
 ],
 "metadata": {
  "hide_input": false,
  "kernelspec": {
   "display_name": "trainingAI",
   "language": "python",
   "name": "trainingai"
  },
  "language_info": {
   "codemirror_mode": {
    "name": "ipython",
    "version": 3
   },
   "file_extension": ".py",
   "mimetype": "text/x-python",
   "name": "python",
   "nbconvert_exporter": "python",
   "pygments_lexer": "ipython3",
   "version": "3.9.7"
  },
  "toc": {
   "base_numbering": 1,
   "nav_menu": {},
   "number_sections": true,
   "sideBar": true,
   "skip_h1_title": false,
   "title_cell": "Table of Contents",
   "title_sidebar": "Contents",
   "toc_cell": false,
   "toc_position": {},
   "toc_section_display": true,
   "toc_window_display": true
  },
  "varInspector": {
   "cols": {
    "lenName": 16,
    "lenType": 16,
    "lenVar": 40
   },
   "kernels_config": {
    "python": {
     "delete_cmd_postfix": "",
     "delete_cmd_prefix": "del ",
     "library": "var_list.py",
     "varRefreshCmd": "print(var_dic_list())"
    },
    "r": {
     "delete_cmd_postfix": ") ",
     "delete_cmd_prefix": "rm(",
     "library": "var_list.r",
     "varRefreshCmd": "cat(var_dic_list()) "
    }
   },
   "types_to_exclude": [
    "module",
    "function",
    "builtin_function_or_method",
    "instance",
    "_Feature"
   ],
   "window_display": false
  }
 },
 "nbformat": 4,
 "nbformat_minor": 2
}
