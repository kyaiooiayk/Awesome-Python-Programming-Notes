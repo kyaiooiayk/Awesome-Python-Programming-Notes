{
 "cells": [
  {
   "cell_type": "markdown",
   "metadata": {},
   "source": [
    "# Introduction\n",
    "<hr style=\"border:2px solid black\"> </hr>"
   ]
  },
  {
   "cell_type": "markdown",
   "metadata": {},
   "source": [
    "<div class=\"alert alert-warning\">\n",
    "<font color=black>\n",
    "\n",
    "**What?** Recursion\n",
    "\n",
    "</font>\n",
    "</div>"
   ]
  },
  {
   "cell_type": "markdown",
   "metadata": {},
   "source": [
    "# What is a recursion?\n",
    "<hr style=\"border:2px solid black\"> </hr>"
   ]
  },
  {
   "cell_type": "markdown",
   "metadata": {},
   "source": [
    "<div class=\"alert alert-info\">\n",
    "<font color=black>\n",
    "\n",
    "- Is a method of breaking problems down into smaller and smaller sub-problems until we get to a problem small enough that it can be solved trivially. \n",
    "- Recursion must have three elements:\n",
    "\n",
    "    - It must have a base case\n",
    "    - It must call itself recursively\n",
    "    - It must change it's state and move towards the base case\n",
    "\n",
    "</font>\n",
    "</div>\n",
    "\n"
   ]
  },
  {
   "cell_type": "markdown",
   "metadata": {},
   "source": [
    "# Problem #1\n",
    "<hr style=\"border:2px solid black\"> </hr>"
   ]
  },
  {
   "cell_type": "markdown",
   "metadata": {},
   "source": [
    "<div class=\"alert alert-info\">\n",
    "<font color=black>\n",
    "\n",
    "- First problem: convert an integer to a string in any Base. \n",
    "\n",
    "</font>\n",
    "</div>"
   ]
  },
  {
   "cell_type": "code",
   "execution_count": 4,
   "metadata": {},
   "outputs": [],
   "source": [
    "def to_str(n, base):\n",
    "    convert_str = '0123456789ABCDEF'\n",
    "    if n < base:\n",
    "        \"\"\"\n",
    "        look up the string representation if it's smaller \n",
    "        than the base\n",
    "        \"\"\"        \n",
    "        return convert_str[n]\n",
    "    else:\n",
    "        \"\"\"\n",
    "        convert_str comes after to to_str method so that it will\n",
    "        delayed the addition until the recursive call finishes\n",
    "        \"\"\"                \n",
    "        return to_str(n // base, base) + convert_str[n % base]"
   ]
  },
  {
   "cell_type": "code",
   "execution_count": 5,
   "metadata": {},
   "outputs": [
    {
     "name": "stdout",
     "output_type": "stream",
     "text": [
      "769\n"
     ]
    }
   ],
   "source": [
    "print(to_str(769, 10))"
   ]
  },
  {
   "cell_type": "code",
   "execution_count": 6,
   "metadata": {},
   "outputs": [
    {
     "name": "stdout",
     "output_type": "stream",
     "text": [
      "1\n"
     ]
    }
   ],
   "source": [
    "print(to_str(1, 2))"
   ]
  },
  {
   "cell_type": "code",
   "execution_count": 7,
   "metadata": {},
   "outputs": [
    {
     "name": "stdout",
     "output_type": "stream",
     "text": [
      "10\n"
     ]
    }
   ],
   "source": [
    "print(to_str(2, 2))"
   ]
  },
  {
   "cell_type": "markdown",
   "metadata": {},
   "source": [
    "# Problem #2\n",
    "<hr style=\"border:2px solid black\"> </hr>"
   ]
  },
  {
   "cell_type": "markdown",
   "metadata": {},
   "source": [
    "<div class=\"alert alert-info\">\n",
    "<font color=black>\n",
    "\n",
    "- **Fibonacci sequence**.\n",
    "- A Fibonacci sequence is the integer sequence of `0, 1, 1, 2, 3, 5, 8...`\n",
    "- The first two terms are `0` and `1`. \n",
    "- All other terms are obtained by adding the preceding two terms.\n",
    "- This means to say the nth term is the sum of `(n-1)th` and `(n-2)th` terms.\n",
    "\n",
    "</font>\n",
    "</div>"
   ]
  },
  {
   "cell_type": "code",
   "execution_count": 30,
   "metadata": {},
   "outputs": [
    {
     "name": "stdout",
     "output_type": "stream",
     "text": [
      "\n",
      "sending 0\n",
      "start\n",
      "ouput 0\n",
      "\n",
      "sending 1\n",
      "start\n",
      "ouput 1\n",
      "\n",
      "sending 2\n",
      "1 0\n",
      "start\n",
      "start\n",
      "ouput 1\n",
      "\n",
      "sending 3\n",
      "2 1\n",
      "1 0\n",
      "start\n",
      "start\n",
      "start\n",
      "ouput 2\n",
      "\n",
      "sending 4\n",
      "3 2\n",
      "2 1\n",
      "1 0\n",
      "start\n",
      "start\n",
      "start\n",
      "1 0\n",
      "start\n",
      "start\n",
      "ouput 3\n"
     ]
    }
   ],
   "source": [
    "def rec_fib(num):\n",
    "    if num < 2:\n",
    "        print(\"start\")\n",
    "        return num\n",
    "    else:\n",
    "        \"\"\"\n",
    "        3 = 2+1\n",
    "        \"\"\"\n",
    "        print(num-1, num-2)\n",
    "        return (rec_fib(num-1)+rec_fib(num-2))\n",
    "\n",
    "for i in range(5):\n",
    "    print(\"\\nsending\", i)\n",
    "    print(\"ouput\", rec_fib(i))"
   ]
  },
  {
   "cell_type": "markdown",
   "metadata": {},
   "source": [
    "# References\n",
    "<hr style=\"border:2px solid black\"> </hr>"
   ]
  },
  {
   "cell_type": "markdown",
   "metadata": {},
   "source": [
    "<div class=\"alert alert-warning\">\n",
    "<font color=black>\n",
    "\n",
    "- https://github.com/ethen8181/machine-learning/blob/master/python/algorithms/recursion.ipynb\n",
    "- http://interactivepython.org/runestone/static/pythonds/Recursion/toctree.html\n",
    "- https://stackoverflow.com/questions/494594/how-to-write-the-fibonacci-sequence\n",
    "\n",
    "</font>\n",
    "</div>"
   ]
  },
  {
   "cell_type": "code",
   "execution_count": null,
   "metadata": {},
   "outputs": [],
   "source": []
  }
 ],
 "metadata": {
  "kernelspec": {
   "display_name": "trainingAI",
   "language": "python",
   "name": "trainingai"
  },
  "language_info": {
   "codemirror_mode": {
    "name": "ipython",
    "version": 3
   },
   "file_extension": ".py",
   "mimetype": "text/x-python",
   "name": "python",
   "nbconvert_exporter": "python",
   "pygments_lexer": "ipython3",
   "version": "3.8.5"
  }
 },
 "nbformat": 4,
 "nbformat_minor": 2
}
