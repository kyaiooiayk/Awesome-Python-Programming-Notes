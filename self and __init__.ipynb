{
 "cells": [
  {
   "cell_type": "markdown",
   "metadata": {},
   "source": [
    "# Introduction"
   ]
  },
  {
   "cell_type": "markdown",
   "metadata": {},
   "source": [
    "<div class=\"alert alert-warning\">\n",
    "<font color=black>\n",
    "\n",
    "**What?** self and __init__\n",
    "\n",
    "</font>\n",
    "</div>"
   ]
  },
  {
   "cell_type": "markdown",
   "metadata": {},
   "source": [
    "# Create a class"
   ]
  },
  {
   "cell_type": "markdown",
   "metadata": {},
   "source": [
    "<div class=\"alert alert-info\">\n",
    "<font color=black>\n",
    "\n",
    "- So in python everything is an object, but classess and objects are not exactly the same thing. You can create an object instantiating a class though.\n",
    "- Classes can be thought as **blueprint** for creating object. In other words, I've created a sort of instruction manual for constructing a customer object.\n",
    "\n",
    "</font>\n",
    "</div>"
   ]
  },
  {
   "cell_type": "code",
   "execution_count": 2,
   "metadata": {},
   "outputs": [],
   "source": [
    "class Customer(object):\n",
    "    \"\"\"A customer of ABC bank with a checking. account.\n",
    "    \n",
    "    Customer have the following propperties:\n",
    "    \n",
    "    Atributes:\n",
    "        name: a string representing the custome name\n",
    "        balance: a float. tracking the current balance of the customer's account\n",
    "    \"\"\"\n",
    "    \n",
    "    def __init__(self, name, balance = 0.0):\n",
    "        \"\"\"Object initialisation.\n",
    "        \n",
    "        Returns a customers objkect whose name is name and stating\n",
    "        balance is balance.\n",
    "        \"\"\"\n",
    "        \n",
    "        self.name = name\n",
    "        self.balance = balance\n",
    "        \n",
    "    def withdraw(self, amount):\n",
    "        \"\"\"Withdraw.\n",
    "        \n",
    "        Returns the balance remaininga fter withdrawing ana mount.\n",
    "        \"\"\"\n",
    "        \n",
    "        if amount > self.balance:\n",
    "            raise RuntimeError(\"Amount requested is greater than the current balance\")\n",
    "        self.balance -= amount\n",
    "        \n",
    "        return self.balance\n",
    "    \n",
    "    def deposit(self, amount):\n",
    "        \"\"\"Deposit.\n",
    "        \n",
    "        Returns the balance remaining after depositing some monies.\n",
    "        \"\"\"\n",
    "        \n",
    "        self.balance += amount\n",
    "        \n",
    "        return sel.balance"
   ]
  },
  {
   "cell_type": "markdown",
   "metadata": {},
   "source": [
    "<div class=\"alert alert-info\">\n",
    "<font color=black>\n",
    "\n",
    "- The class `Customer(object)` does not create a new customer, as we have created a blueprint only.\n",
    "- How do we create a real customer then? We;ll have to call the special class method `__init__` to create one.\n",
    "- This method is call automtically when we. instantiate the obejct with (for instance) `Customer(\"Charlier\", 100)`. This is saying \"hey create a customer named Charlie with 100GBP in his account!.\n",
    "\n",
    "</font>\n",
    "</div>"
   ]
  },
  {
   "cell_type": "code",
   "execution_count": 26,
   "metadata": {},
   "outputs": [],
   "source": [
    "custormerA = Customer(\"Charlier\", 100)\n",
    "custormerB = Customer(\"Maria\", 200)\n",
    "customerNull = Customer(\"Null\")"
   ]
  },
  {
   "cell_type": "code",
   "execution_count": 27,
   "metadata": {},
   "outputs": [
    {
     "data": {
      "text/plain": [
       "{'name': 'Charlier', 'balance': 100}"
      ]
     },
     "execution_count": 27,
     "metadata": {},
     "output_type": "execute_result"
    }
   ],
   "source": [
    "custormerA.__dict__"
   ]
  },
  {
   "cell_type": "code",
   "execution_count": 28,
   "metadata": {},
   "outputs": [
    {
     "data": {
      "text/plain": [
       "{'name': 'Maria', 'balance': 200}"
      ]
     },
     "execution_count": 28,
     "metadata": {},
     "output_type": "execute_result"
    }
   ],
   "source": [
    "custormerB.__dict__"
   ]
  },
  {
   "cell_type": "code",
   "execution_count": 29,
   "metadata": {},
   "outputs": [
    {
     "data": {
      "text/plain": [
       "{'name': 'Null', 'balance': 0.0}"
      ]
     },
     "execution_count": 29,
     "metadata": {},
     "output_type": "execute_result"
    }
   ],
   "source": [
    "customerNull.__dict__"
   ]
  },
  {
   "cell_type": "markdown",
   "metadata": {},
   "source": [
    "# What is self?"
   ]
  },
  {
   "cell_type": "markdown",
   "metadata": {},
   "source": [
    "<div class=\"alert alert-info\">\n",
    "<font color=black>\n",
    "\n",
    "- `self` is the instance itself!\n",
    "- When we say `withdraw(self, amount)`, we're saying: \"here's how you  withdraw money from a Customer object (called `self`) and a money figure (called amount).\"\n",
    "- Put in another way `customerA.withdraw(10)` is totally equivalent to `Customer.withdraw(customerA, 10)`.\n",
    "- But how can pass `customerA` is there is not `customerA` as yet? This is where `__init__` comes in.\n",
    "\n",
    "</font>\n",
    "</div>"
   ]
  },
  {
   "cell_type": "markdown",
   "metadata": {},
   "source": [
    "# What is _ _init_ _ ?"
   ]
  },
  {
   "cell_type": "markdown",
   "metadata": {},
   "source": [
    "<div class=\"alert alert-info\">\n",
    "<font color=black>\n",
    "\n",
    "- Python allows us to extend the `self` pattern also to objects that are being constructed.\n",
    "- **This is the reason why** when we call `__init__` we initialise object by saying `self.name = name`.\n",
    "\n",
    "</font>\n",
    "</div>"
   ]
  },
  {
   "cell_type": "markdown",
   "metadata": {},
   "source": [
    "# References"
   ]
  },
  {
   "cell_type": "markdown",
   "metadata": {},
   "source": [
    "<div class=\"alert alert-warning\">\n",
    "<font color=black>\n",
    "\n",
    "- Jeff Knupp, Everything I know about Python, old blog post no longer available online?\n",
    "\n",
    "</font>\n",
    "</div>"
   ]
  },
  {
   "cell_type": "code",
   "execution_count": null,
   "metadata": {},
   "outputs": [],
   "source": []
  }
 ],
 "metadata": {
  "kernelspec": {
   "display_name": "trainingAI",
   "language": "python",
   "name": "trainingai"
  },
  "language_info": {
   "codemirror_mode": {
    "name": "ipython",
    "version": 3
   },
   "file_extension": ".py",
   "mimetype": "text/x-python",
   "name": "python",
   "nbconvert_exporter": "python",
   "pygments_lexer": "ipython3",
   "version": "3.8.5"
  }
 },
 "nbformat": 4,
 "nbformat_minor": 2
}
