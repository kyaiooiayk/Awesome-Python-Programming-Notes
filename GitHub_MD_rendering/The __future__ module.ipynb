{
 "cells": [
  {
   "cell_type": "markdown",
   "id": "5bf3aa0a",
   "metadata": {},
   "source": [
    "# Introduction\n",
    "<hr style = \"border:2px solid black\" ></hr>"
   ]
  },
  {
   "cell_type": "markdown",
   "id": "8b54c68a",
   "metadata": {},
   "source": [
    "\n",
    "**What?** The __future__ module\n",
    "\n",
""   ]
  },
  {
   "cell_type": "markdown",
   "id": "3601b447",
   "metadata": {},
   "source": [
    "# What is it there for?\n",
    "<hr style = \"border:2px solid black\" ></hr>"
   ]
  },
  {
   "cell_type": "markdown",
   "id": "af9030f0",
   "metadata": {},
   "source": [
    "\n",
    "- The `__future__` is a real module.\n",
    "- It serves three purposes:\n",
    "\n",
    "    - **Purpouse #1**: To avoid confusing existing tools that analyze import statements and expect to find the modules they’re importing.\n",
    "    - **Purpouse #2**: To ensure that future statements run under releases prior to 2.1 at least yield runtime exceptions (the import of __future__ will fail, because there was no module of that name prior to 2.1).\n",
    "    - **Purpouse #3**: To document when incompatible changes were introduced, and when they will be — or were — made mandatory. This is a form of executable documentation, and can be inspected programmatically via importing __future__ and examining its contents.\n",
    "  \n",
""   ]
  },
  {
   "cell_type": "markdown",
   "id": "32cbd597",
   "metadata": {},
   "source": [
    "# Example #1\n",
    "<hr style = \"border:2px solid black\" ></hr>"
   ]
  },
  {
   "cell_type": "markdown",
   "id": "89335d18",
   "metadata": {
    "ExecuteTime": {
     "end_time": "2022-02-07T06:58:19.367421Z",
     "start_time": "2022-02-07T06:58:19.364651Z"
    }
   },
   "source": [
    "\n",
    "- **Case #1**: In python 2.7.x without `__future__` import:\n",
    "```\n",
    "print(8/7)  # prints 1\n",
    "print(8//7) # prints 1\n",
    "```\n",
    "- **Case #1**: In python 2.7.x with `__future__` import: \n",
    "```\n",
    "print(8/7)  # prints 1.1428571428571428\n",
    "print(8//7) # prints 1\n",
    "```\n",
    "- The internal difference is that without that import, `/` is mapped to the `__div__()` method, while with it, `__truediv__()` is used. In any case, `//` calls `__floordiv__()`.\n",
    "\n",
""   ]
  },
  {
   "cell_type": "markdown",
   "id": "11cec164",
   "metadata": {},
   "source": [
    "\n",
    "- **Case #3**: In python 3.x: \n",
    "```\n",
    "print(8/7)  # prints 1.1428571428571428\n",
    "print(8//7) # prints 1\n",
    "```\n",
    "\n",
""   ]
  },
  {
   "cell_type": "markdown",
   "id": "d6dd5dbf",
   "metadata": {},
   "source": [
    "# Example #2\n",
    "<hr style = \"border:2px solid black\" ></hr>"
   ]
  },
  {
   "cell_type": "markdown",
   "id": "8e283687",
   "metadata": {},
   "source": [
    "\n",
    "- `__future__` is a pseudo-module which programmers can use to enable new language features which are not compatible with the current interpreter. For example, the expression 11/4 currently evaluates to 2. If the module in which it is executed had enabled true division by executing: \n",
    "```\n",
    "from __future__ import division\n",
    "```\n",
    "    \n",
    "- The expression 11/4 would evaluate to 2.75. By importing the __future__ module and evaluating its variables, you can see when a new feature was first added to the language and when it will become the default:\n",
    "```\n",
    ">>> import __future__\n",
    ">>> __future__.division\n",
    "_Feature((2, 2, 0, 'alpha', 2), (3, 0, 0, 'alpha', 0), 8192)\n",
    "```\n",
    "\n",
""   ]
  },
  {
   "cell_type": "markdown",
   "id": "dc256a46",
   "metadata": {},
   "source": [
    "# Conclusions\n",
    "<hr style = \"border:2px solid black\" ></hr>"
   ]
  },
  {
   "cell_type": "markdown",
   "id": "1722deb7",
   "metadata": {},
   "source": [
    "\n",
    "- `__future__` is a pseudo-module which programmers can use to enable new language features which are not compatible with the current interpreter.\n",
    "\n",
""   ]
  },
  {
   "cell_type": "markdown",
   "id": "25ef9833",
   "metadata": {},
   "source": [
    "# References\n",
    "<hr style = \"border:2px solid black\" ></hr>"
   ]
  },
  {
   "cell_type": "markdown",
   "id": "b8c43417",
   "metadata": {},
   "source": [
    "\n",
    "- https://docs.python.org/3/library/__future__.html\n",
    "- https://stackoverflow.com/questions/7075082/what-is-future-in-python-used-for-and-how-when-to-use-it-and-how-it-works\n",
    "\n",
""   ]
  },
  {
   "cell_type": "code",
   "execution_count": null,
   "id": "77c3ea88",
   "metadata": {},
   "outputs": [],
   "source": []
  }
 ],
 "metadata": {
  "kernelspec": {
   "display_name": "trainingAI",
   "language": "python",
   "name": "trainingai"
  },
  "language_info": {
   "codemirror_mode": {
    "name": "ipython",
    "version": 3
   },
   "file_extension": ".py",
   "mimetype": "text/x-python",
   "name": "python",
   "nbconvert_exporter": "python",
   "pygments_lexer": "ipython3",
   "version": "3.9.7"
  },
  "toc": {
   "base_numbering": 1,
   "nav_menu": {},
   "number_sections": true,
   "sideBar": true,
   "skip_h1_title": false,
   "title_cell": "Table of Contents",
   "title_sidebar": "Contents",
   "toc_cell": false,
   "toc_position": {},
   "toc_section_display": true,
   "toc_window_display": true
  },
  "varInspector": {
   "cols": {
    "lenName": 16,
    "lenType": 16,
    "lenVar": 40
   },
   "kernels_config": {
    "python": {
     "delete_cmd_postfix": "",
     "delete_cmd_prefix": "del ",
     "library": "var_list.py",
     "varRefreshCmd": "print(var_dic_list())"
    },
    "r": {
     "delete_cmd_postfix": ") ",
     "delete_cmd_prefix": "rm(",
     "library": "var_list.r",
     "varRefreshCmd": "cat(var_dic_list()) "
    }
   },
   "types_to_exclude": [
    "module",
    "function",
    "builtin_function_or_method",
    "instance",
    "_Feature"
   ],
   "window_display": false
  }
 },
 "nbformat": 4,
 "nbformat_minor": 5
}
