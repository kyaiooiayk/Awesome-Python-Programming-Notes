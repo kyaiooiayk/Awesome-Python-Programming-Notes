{
 "cells": [
  {
   "cell_type": "markdown",
   "metadata": {},
   "source": [
    "# Introduction"
   ]
  },
  {
   "cell_type": "markdown",
   "metadata": {},
   "source": [
    "\n",
    "**What?** Dunder/Magic Methods in Python\n",
    "\n",
""   ]
  },
  {
   "cell_type": "markdown",
   "metadata": {},
   "source": [
    "# What are Dunder/Magic Methods in Python?"
   ]
  },
  {
   "cell_type": "markdown",
   "metadata": {},
   "source": [
    "\n",
    "- Dunder (**D**ouble **UNDER**score) methods are names that are preceded and succeeded by double underscores.\n",
    "- They are also called **magic methods**.\n",
    "- They can help **override** functionality for built-in functions for custom classes.\n",
    "\n",
""   ]
  },
  {
   "cell_type": "markdown",
   "metadata": {},
   "source": [
    "# Motivation"
   ]
  },
  {
   "cell_type": "markdown",
   "metadata": {},
   "source": [
    "\n",
    "- Let's say that the value of print for this function is NOT very useuful. \n",
    "- We can use a magic method to override it and make it a but more inforamtive\n",
    "\n",
""   ]
  },
  {
   "cell_type": "code",
   "execution_count": 1,
   "metadata": {},
   "outputs": [
    {
     "name": "stdout",
     "output_type": "stream",
     "text": [
      "<__main__.point object at 0x10e1684c0>\n"
     ]
    }
   ],
   "source": [
    "class point:\n",
    "    x = 4\n",
    "    y = 5\n",
    "\n",
    "p1 = point()\n",
    "print(p1)"
   ]
  },
  {
   "cell_type": "markdown",
   "metadata": {},
   "source": [
    "# Create a base class"
   ]
  },
  {
   "cell_type": "code",
   "execution_count": 19,
   "metadata": {},
   "outputs": [],
   "source": [
    "class softwares:\n",
    "    names = []\n",
    "    versions = {}"
   ]
  },
  {
   "cell_type": "code",
   "execution_count": 20,
   "metadata": {},
   "outputs": [],
   "source": [
    "p = softwares"
   ]
  },
  {
   "cell_type": "code",
   "execution_count": 21,
   "metadata": {},
   "outputs": [
    {
     "name": "stdout",
     "output_type": "stream",
     "text": [
      "<class '__main__.softwares'>\n"
     ]
    }
   ],
   "source": [
    "print(p)"
   ]
  },
  {
   "cell_type": "markdown",
   "metadata": {},
   "source": [
    "# _ _init_ _"
   ]
  },
  {
   "cell_type": "markdown",
   "metadata": {},
   "source": [
    "\n",
    "-  The `__init__` method is used to create an instance of the class.\n",
    "\n",
""   ]
  },
  {
   "cell_type": "code",
   "execution_count": 22,
   "metadata": {},
   "outputs": [],
   "source": [
    "class softwares:\n",
    "    names = []\n",
    "    versions = {}\n",
    "\n",
    "    def __init__(self,names):\n",
    "        if names:\n",
    "            self.names = names.copy()\n",
    "            for name in names:\n",
    "                self.versions[name] = 1\n",
    "        else:\n",
    "            raise Exception(\"Please Enter the names\")    "
   ]
  },
  {
   "cell_type": "code",
   "execution_count": 23,
   "metadata": {},
   "outputs": [],
   "source": [
    "# This works\n",
    "p = softwares(['S1','S2','S3'])"
   ]
  },
  {
   "cell_type": "code",
   "execution_count": 25,
   "metadata": {},
   "outputs": [
    {
     "ename": "Exception",
     "evalue": "Please Enter the names",
     "output_type": "error",
     "traceback": [
      "\u001b[0;31m---------------------------------------------------------------------------\u001b[0m",
      "\u001b[0;31mException\u001b[0m                                 Traceback (most recent call last)",
      "\u001b[0;32m<ipython-input-25-ebdc6b279643>\u001b[0m in \u001b[0;36m<module>\u001b[0;34m\u001b[0m\n\u001b[1;32m      1\u001b[0m \u001b[0;31m# This does not\u001b[0m\u001b[0;34m\u001b[0m\u001b[0;34m\u001b[0m\u001b[0;34m\u001b[0m\u001b[0m\n\u001b[0;32m----> 2\u001b[0;31m \u001b[0mp1\u001b[0m \u001b[0;34m=\u001b[0m \u001b[0msoftwares\u001b[0m\u001b[0;34m(\u001b[0m\u001b[0;34m[\u001b[0m\u001b[0;34m]\u001b[0m\u001b[0;34m)\u001b[0m\u001b[0;34m\u001b[0m\u001b[0;34m\u001b[0m\u001b[0m\n\u001b[0m",
      "\u001b[0;32m<ipython-input-22-4ea6a90b5948>\u001b[0m in \u001b[0;36m__init__\u001b[0;34m(self, names)\u001b[0m\n\u001b[1;32m      9\u001b[0m                 \u001b[0mself\u001b[0m\u001b[0;34m.\u001b[0m\u001b[0mversions\u001b[0m\u001b[0;34m[\u001b[0m\u001b[0mname\u001b[0m\u001b[0;34m]\u001b[0m \u001b[0;34m=\u001b[0m \u001b[0;36m1\u001b[0m\u001b[0;34m\u001b[0m\u001b[0;34m\u001b[0m\u001b[0m\n\u001b[1;32m     10\u001b[0m         \u001b[0;32melse\u001b[0m\u001b[0;34m:\u001b[0m\u001b[0;34m\u001b[0m\u001b[0;34m\u001b[0m\u001b[0m\n\u001b[0;32m---> 11\u001b[0;31m             \u001b[0;32mraise\u001b[0m \u001b[0mException\u001b[0m\u001b[0;34m(\u001b[0m\u001b[0;34m\"Please Enter the names\"\u001b[0m\u001b[0;34m)\u001b[0m\u001b[0;34m\u001b[0m\u001b[0;34m\u001b[0m\u001b[0m\n\u001b[0m",
      "\u001b[0;31mException\u001b[0m: Please Enter the names"
     ]
    }
   ],
   "source": [
    "# This does not\n",
    "p1 = softwares([])"
   ]
  },
  {
   "cell_type": "markdown",
   "metadata": {},
   "source": [
    "# _ _str_ _"
   ]
  },
  {
   "cell_type": "markdown",
   "metadata": {},
   "source": [
    "\n",
    "- The `__init__` is useful when we want to use instances of our class in a print statement.\n",
    "- The `print()` method returns a memory object, but we can override the `str()` method.\n",
    "\n",
""   ]
  },
  {
   "cell_type": "code",
   "execution_count": 26,
   "metadata": {},
   "outputs": [],
   "source": [
    "class softwares:\n",
    "    names = []\n",
    "    versions = {}\n",
    "\n",
    "    def __init__(self,names):\n",
    "        if names:\n",
    "            self.names = names.copy()\n",
    "            for name in names:\n",
    "                self.versions[name] = 1\n",
    "        else:\n",
    "            raise Exception(\"Please Enter the names\") \n",
    "    def __str__(self):\n",
    "        s =\"The current softwares and their versions are listed below: \\n\"\n",
    "        for key,value in self.versions.items():\n",
    "            s+= f\"{key} : v{value} \\n\"\n",
    "        return s        "
   ]
  },
  {
   "cell_type": "code",
   "execution_count": 27,
   "metadata": {},
   "outputs": [
    {
     "name": "stdout",
     "output_type": "stream",
     "text": [
      "The current softwares and their versions are listed below: \n",
      "S1 : v1 \n",
      "S2 : v1 \n",
      "S3 : v1 \n",
      "\n"
     ]
    }
   ],
   "source": [
    "p = softwares(['S1','S2','S3'])\n",
    "print(p)"
   ]
  },
  {
   "cell_type": "markdown",
   "metadata": {},
   "source": [
    "# _ _setitem_ _"
   ]
  },
  {
   "cell_type": "markdown",
   "metadata": {},
   "source": [
    "\n",
    "- When assigning values in a dictionary, the `setitem()` method is invoked.\n",
    "- We can give instances of our class a similar feature with the help of the `__setitem__` method.\n",
    "\n",
""   ]
  },
  {
   "cell_type": "code",
   "execution_count": 30,
   "metadata": {},
   "outputs": [
    {
     "data": {
      "text/plain": [
       "{'key': 'querty'}"
      ]
     },
     "execution_count": 30,
     "metadata": {},
     "output_type": "execute_result"
    }
   ],
   "source": [
    "# This is how a dictionary assigns value in python\n",
    "d = {}\n",
    "d['key'] = \"querty\"\n",
    "d"
   ]
  },
  {
   "cell_type": "code",
   "execution_count": 31,
   "metadata": {},
   "outputs": [],
   "source": [
    "class softwares:\n",
    "    names = []\n",
    "    versions = {}\n",
    "\n",
    "    def __init__(self,names):\n",
    "        if names:\n",
    "            self.names = names.copy()\n",
    "            for name in names:\n",
    "                self.versions[name] = 1\n",
    "        else:\n",
    "            raise Exception(\"Please Enter the names\")\n",
    "            \n",
    "    def __str__(self):\n",
    "        s =\"The current softwares and their versions are listed below: \\n\"\n",
    "        for key,value in self.versions.items():\n",
    "            s+= f\"{key} : v{value} \\n\"\n",
    "        return s \n",
    "    \n",
    "    def __setitem__(self, name, version):\n",
    "        if name in self.versions:\n",
    "            self.versions[name] = version\n",
    "        else:\n",
    "            raise Exception(\"Software Name doesn't exist\")    "
   ]
  },
  {
   "cell_type": "code",
   "execution_count": 33,
   "metadata": {},
   "outputs": [
    {
     "name": "stdout",
     "output_type": "stream",
     "text": [
      "The current softwares and their versions are listed below: \n",
      "S1 : v1 \n",
      "S2 : v1 \n",
      "S3 : v1 \n",
      "\n"
     ]
    }
   ],
   "source": [
    "p = softwares(['S1','S2','S3'])\n",
    "print(p)"
   ]
  },
  {
   "cell_type": "code",
   "execution_count": 36,
   "metadata": {},
   "outputs": [],
   "source": [
    "# Let's update the value of software S1\n",
    "p['S1'] = 2"
   ]
  },
  {
   "cell_type": "code",
   "execution_count": 38,
   "metadata": {},
   "outputs": [
    {
     "name": "stdout",
     "output_type": "stream",
     "text": [
      "The current softwares and their versions are listed below: \n",
      "S1 : v2 \n",
      "S2 : v1 \n",
      "S3 : v1 \n",
      "\n"
     ]
    }
   ],
   "source": [
    "print(p)"
   ]
  },
  {
   "cell_type": "code",
   "execution_count": 39,
   "metadata": {},
   "outputs": [
    {
     "ename": "Exception",
     "evalue": "Software Name doesn't exist",
     "output_type": "error",
     "traceback": [
      "\u001b[0;31m---------------------------------------------------------------------------\u001b[0m",
      "\u001b[0;31mException\u001b[0m                                 Traceback (most recent call last)",
      "\u001b[0;32m<ipython-input-39-727c49c10319>\u001b[0m in \u001b[0;36m<module>\u001b[0;34m\u001b[0m\n\u001b[1;32m      1\u001b[0m \u001b[0;31m# This hsould trhoe an error\u001b[0m\u001b[0;34m\u001b[0m\u001b[0;34m\u001b[0m\u001b[0;34m\u001b[0m\u001b[0m\n\u001b[0;32m----> 2\u001b[0;31m \u001b[0mp\u001b[0m\u001b[0;34m[\u001b[0m\u001b[0;34m'2'\u001b[0m\u001b[0;34m]\u001b[0m \u001b[0;34m=\u001b[0m \u001b[0;36m2\u001b[0m\u001b[0;34m\u001b[0m\u001b[0;34m\u001b[0m\u001b[0m\n\u001b[0m",
      "\u001b[0;32m<ipython-input-31-4e26c7e4df88>\u001b[0m in \u001b[0;36m__setitem__\u001b[0;34m(self, name, version)\u001b[0m\n\u001b[1;32m     19\u001b[0m             \u001b[0mself\u001b[0m\u001b[0;34m.\u001b[0m\u001b[0mversions\u001b[0m\u001b[0;34m[\u001b[0m\u001b[0mname\u001b[0m\u001b[0;34m]\u001b[0m \u001b[0;34m=\u001b[0m \u001b[0mversion\u001b[0m\u001b[0;34m\u001b[0m\u001b[0;34m\u001b[0m\u001b[0m\n\u001b[1;32m     20\u001b[0m         \u001b[0;32melse\u001b[0m\u001b[0;34m:\u001b[0m\u001b[0;34m\u001b[0m\u001b[0;34m\u001b[0m\u001b[0m\n\u001b[0;32m---> 21\u001b[0;31m             \u001b[0;32mraise\u001b[0m \u001b[0mException\u001b[0m\u001b[0;34m(\u001b[0m\u001b[0;34m\"Software Name doesn't exist\"\u001b[0m\u001b[0;34m)\u001b[0m\u001b[0;34m\u001b[0m\u001b[0;34m\u001b[0m\u001b[0m\n\u001b[0m",
      "\u001b[0;31mException\u001b[0m: Software Name doesn't exist"
     ]
    }
   ],
   "source": [
    "# This hsould trhoe an error\n",
    "p['2'] = 2"
   ]
  },
  {
   "cell_type": "markdown",
   "metadata": {},
   "source": [
    "# _ _getitem_ _"
   ]
  },
  {
   "cell_type": "markdown",
   "metadata": {},
   "source": [
    "\n",
    "- The `__getitem__` method is like the `__setitem__` method.\n",
    "- The major difference being that the getitem method is called when we use the [] operator of a dictionary. \n",
    "- Instances of our class can also be given a similar feature.\n",
    "\n",
""   ]
  },
  {
   "cell_type": "code",
   "execution_count": 44,
   "metadata": {},
   "outputs": [
    {
     "data": {
      "text/plain": [
       "{'key': 'querty'}"
      ]
     },
     "execution_count": 44,
     "metadata": {},
     "output_type": "execute_result"
    }
   ],
   "source": [
    "# This is how a dictionary assigns value in python\n",
    "d = {}\n",
    "d['key'] = \"querty\"\n",
    "d"
   ]
  },
  {
   "cell_type": "code",
   "execution_count": 45,
   "metadata": {},
   "outputs": [
    {
     "name": "stdout",
     "output_type": "stream",
     "text": [
      "querty\n"
     ]
    }
   ],
   "source": [
    "# In this case the __getitem__ is invoked\n",
    "print(d['key'])"
   ]
  },
  {
   "cell_type": "code",
   "execution_count": 46,
   "metadata": {},
   "outputs": [],
   "source": [
    "class softwares:\n",
    "    names = []\n",
    "    versions = {}\n",
    "\n",
    "    def __init__(self,names):\n",
    "        if names:\n",
    "            self.names = names.copy()\n",
    "            for name in names:\n",
    "                self.versions[name] = 1\n",
    "        else:\n",
    "            raise Exception(\"Please Enter the names\") \n",
    "    \n",
    "    def __str__(self):\n",
    "        s =\"The current softwares and their versions are listed below: \\n\"\n",
    "        for key,value in self.versions.items():\n",
    "            s+= f\"{key} : v{value} \\n\"\n",
    "        return s \n",
    "    \n",
    "    def __setitem__(self,name,version):\n",
    "        if name in self.versions:\n",
    "            self.versions[name] = version\n",
    "        else:\n",
    "            raise Exception(\"Software Name doesn't exist\")\n",
    "    \n",
    "    def __getitem__(self,name):\n",
    "        if name in self.versions:\n",
    "            return self.versions[name]\n",
    "        else:\n",
    "            raise Exception(\"Software Name doesn't exist\")            "
   ]
  },
  {
   "cell_type": "code",
   "execution_count": 47,
   "metadata": {},
   "outputs": [
    {
     "name": "stdout",
     "output_type": "stream",
     "text": [
      "The current softwares and their versions are listed below: \n",
      "S1 : v1 \n",
      "S2 : v1 \n",
      "S3 : v1 \n",
      "\n"
     ]
    }
   ],
   "source": [
    "p = softwares(['S1','S2','S3'])\n",
    "print(p)"
   ]
  },
  {
   "cell_type": "code",
   "execution_count": 48,
   "metadata": {},
   "outputs": [
    {
     "name": "stdout",
     "output_type": "stream",
     "text": [
      "1\n"
     ]
    }
   ],
   "source": [
    "print(p['S1'])"
   ]
  },
  {
   "cell_type": "code",
   "execution_count": 49,
   "metadata": {},
   "outputs": [
    {
     "ename": "Exception",
     "evalue": "Software Name doesn't exist",
     "output_type": "error",
     "traceback": [
      "\u001b[0;31m---------------------------------------------------------------------------\u001b[0m",
      "\u001b[0;31mException\u001b[0m                                 Traceback (most recent call last)",
      "\u001b[0;32m<ipython-input-49-c0acdcad3989>\u001b[0m in \u001b[0;36m<module>\u001b[0;34m\u001b[0m\n\u001b[0;32m----> 1\u001b[0;31m \u001b[0mprint\u001b[0m\u001b[0;34m(\u001b[0m\u001b[0mp\u001b[0m\u001b[0;34m[\u001b[0m\u001b[0;34m'1'\u001b[0m\u001b[0;34m]\u001b[0m\u001b[0;34m)\u001b[0m\u001b[0;34m\u001b[0m\u001b[0;34m\u001b[0m\u001b[0m\n\u001b[0m",
      "\u001b[0;32m<ipython-input-46-8edc46d25e2f>\u001b[0m in \u001b[0;36m__getitem__\u001b[0;34m(self, name)\u001b[0m\n\u001b[1;32m     27\u001b[0m             \u001b[0;32mreturn\u001b[0m \u001b[0mself\u001b[0m\u001b[0;34m.\u001b[0m\u001b[0mversions\u001b[0m\u001b[0;34m[\u001b[0m\u001b[0mname\u001b[0m\u001b[0;34m]\u001b[0m\u001b[0;34m\u001b[0m\u001b[0;34m\u001b[0m\u001b[0m\n\u001b[1;32m     28\u001b[0m         \u001b[0;32melse\u001b[0m\u001b[0;34m:\u001b[0m\u001b[0;34m\u001b[0m\u001b[0;34m\u001b[0m\u001b[0m\n\u001b[0;32m---> 29\u001b[0;31m             \u001b[0;32mraise\u001b[0m \u001b[0mException\u001b[0m\u001b[0;34m(\u001b[0m\u001b[0;34m\"Software Name doesn't exist\"\u001b[0m\u001b[0;34m)\u001b[0m\u001b[0;34m\u001b[0m\u001b[0;34m\u001b[0m\u001b[0m\n\u001b[0m",
      "\u001b[0;31mException\u001b[0m: Software Name doesn't exist"
     ]
    }
   ],
   "source": [
    "print(p['1'])"
   ]
  },
  {
   "cell_type": "markdown",
   "metadata": {},
   "source": [
    "# References"
   ]
  },
  {
   "cell_type": "markdown",
   "metadata": {},
   "source": [
    "\n",
    "- https://www.section.io/engineering-education/dunder-methods-python/\n",
    "\n",
""   ]
  },
  {
   "cell_type": "code",
   "execution_count": null,
   "metadata": {},
   "outputs": [],
   "source": []
  }
 ],
 "metadata": {
  "kernelspec": {
   "display_name": "trainingAI",
   "language": "python",
   "name": "trainingai"
  },
  "language_info": {
   "codemirror_mode": {
    "name": "ipython",
    "version": 3
   },
   "file_extension": ".py",
   "mimetype": "text/x-python",
   "name": "python",
   "nbconvert_exporter": "python",
   "pygments_lexer": "ipython3",
   "version": "3.8.5"
  }
 },
 "nbformat": 4,
 "nbformat_minor": 2
}
