{
 "cells": [
  {
   "cell_type": "markdown",
   "metadata": {},
   "source": [
    "# Introduction"
   ]
  },
  {
   "cell_type": "markdown",
   "metadata": {},
   "source": [
    "\n",
    "**What?** Super() __init__ and __new__\n",
    "\n",
""   ]
  },
  {
   "cell_type": "markdown",
   "metadata": {},
   "source": [
    "# What is _ _new_ _?"
   ]
  },
  {
   "cell_type": "markdown",
   "metadata": {},
   "source": [
    "\n",
    "- Transforming from class to an object is called instantiation. \n",
    "- `__init__` is used to objects initialization and provide a classs witha contructor.\n",
    " - During object creation `__init__` method doesn’t get executed first, the method which gets executed first is `__new__` \n",
    " - `__new__()` method gets most of the same arguments at __init__ and it is responsible for actually creating the new object (prior to initializing object) .\n",
    "- We can use `__new__` when we need to control the creation of a new instance.\n",
    "\n",
""   ]
  },
  {
   "cell_type": "markdown",
   "metadata": {},
   "source": [
    "# Problem"
   ]
  },
  {
   "cell_type": "markdown",
   "metadata": {},
   "source": [
    "\n",
    "- Let we have a 3 classes, File ,TextFile(File) and ImageFile(File) . We need instantiate TextFile for Text files, ImageFile for image file, and File for other type of files. We can obtain this by instantiating them directly.\n",
    "\n",
    "- But what if we could instantiate them only using the parent class (File ) depending the file content? Yes, we want to instantiate child classes using parent class! \n",
    "\n",
""   ]
  },
  {
   "cell_type": "code",
   "execution_count": 3,
   "metadata": {},
   "outputs": [],
   "source": [
    "\n",
    "class File:\n",
    "    def __new__(cls, *args, **kwargs):\n",
    "        file_type = kwargs.get(\"file_name\").split(\".\")[-1]\n",
    "\n",
    "        if file_type == \"txt\":\n",
    "            for i in cls.__subclasses__():\n",
    "                if i.__name__ == \"TextFile\":\n",
    "                    return super().__new__(i)\n",
    "        elif file_type in [\"jpg\", \"png\", \"jpeg\"]:\n",
    "            for i in cls.__subclasses__():\n",
    "                if i.__name__ == \"ImageFile\":\n",
    "                    return super().__new__(i)\n",
    "        else:\n",
    "            return super().__new__(File)\n",
    "\n",
    "    def __init__(self, file_name=\"\"):\n",
    "        self.file_name = file_name\n",
    "\n",
    "\n",
    "class ImageFile(File):\n",
    "    def __init__(self, *args, **kwargs):\n",
    "        self.height = kwargs.get(\"height\")\n",
    "        self.width = kwargs.get(\"width\")\n",
    "\n",
    "\n",
    "class TextFile(File):\n",
    "    def __init__(self, *args, **kwargs):\n",
    "        self.file_size = kwargs.get(\"file_size\")"
   ]
  },
  {
   "cell_type": "code",
   "execution_count": 5,
   "metadata": {},
   "outputs": [],
   "source": [
    "\"\"\"\n",
    "Here, we are instantiating the TextFile, ImageFile and File classes using the File (parent)\n",
    "class depending on content of file (file_type). \n",
    "\"\"\"\n",
    "text_file = File(file_name=\"testfile.txt\", height=100, width=100)\n",
    "image_file = File(file_name=\"imagefile.png\", file_size=500)\n",
    "other_file = File(file_name=\"video_file.mp4\")"
   ]
  },
  {
   "cell_type": "code",
   "execution_count": 6,
   "metadata": {},
   "outputs": [
    {
     "name": "stdout",
     "output_type": "stream",
     "text": [
      "<__main__.TextFile object at 0x106091bb0>\n",
      "<__main__.ImageFile object at 0x106091df0>\n",
      "<__main__.File object at 0x1060917f0>\n"
     ]
    }
   ],
   "source": [
    "print(text_file)\n",
    "print(image_file)\n",
    "print(other_file)"
   ]
  },
  {
   "cell_type": "markdown",
   "metadata": {},
   "source": [
    "# References"
   ]
  },
  {
   "cell_type": "markdown",
   "metadata": {},
   "source": [
    "\n",
    "- https://medium.com/@taohidulii/playing-with-inheritance-in-python-73ea4f3b669e\n",
    "\n",
""   ]
  },
  {
   "cell_type": "code",
   "execution_count": null,
   "metadata": {},
   "outputs": [],
   "source": []
  }
 ],
 "metadata": {
  "kernelspec": {
   "display_name": "trainingAI",
   "language": "python",
   "name": "trainingai"
  },
  "language_info": {
   "codemirror_mode": {
    "name": "ipython",
    "version": 3
   },
   "file_extension": ".py",
   "mimetype": "text/x-python",
   "name": "python",
   "nbconvert_exporter": "python",
   "pygments_lexer": "ipython3",
   "version": "3.8.5"
  }
 },
 "nbformat": 4,
 "nbformat_minor": 2
}
