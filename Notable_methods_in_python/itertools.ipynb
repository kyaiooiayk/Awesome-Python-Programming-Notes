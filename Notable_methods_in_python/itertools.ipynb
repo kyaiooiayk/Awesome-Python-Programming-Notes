{
 "cells": [
  {
   "cell_type": "markdown",
   "id": "4d678836",
   "metadata": {},
   "source": [
    "# Introduction\n",
    "<hr style = \"border:2px solid black\" ></hr>"
   ]
  },
  {
   "cell_type": "markdown",
   "id": "ac774552",
   "metadata": {},
   "source": [
    "<div class=\"alert alert-warning\">\n",
    "<font color=black>\n",
    "\n",
    "**What?** itertools\n",
    "\n",
    "</font>\n",
    "</div>"
   ]
  },
  {
   "cell_type": "markdown",
   "id": "d1b0adbc",
   "metadata": {},
   "source": [
    "# Import modules\n",
    "<hr style = \"border:2px solid black\" ></hr>"
   ]
  },
  {
   "cell_type": "code",
   "execution_count": 1,
   "id": "b2ce0209",
   "metadata": {
    "ExecuteTime": {
     "end_time": "2022-03-11T09:26:46.017443Z",
     "start_time": "2022-03-11T09:26:46.014940Z"
    }
   },
   "outputs": [],
   "source": [
    "from itertools import product, chain, combinations"
   ]
  },
  {
   "cell_type": "markdown",
   "id": "301e4566",
   "metadata": {},
   "source": [
    "# itertools\n",
    "<hr style = \"border:2px solid black\" ></hr>"
   ]
  },
  {
   "cell_type": "markdown",
   "id": "d9c691a7",
   "metadata": {},
   "source": [
    "<div class=\"alert alert-info\">\n",
    "<font color=black>\n",
    "\n",
    "- `itertools ` is a module implements a number of iterator building blocks inspired by constructs from APL, Haskell, and SML. Each has been recast in a form suitable for Python.\n",
    "\n",
    "- The module standardizes a core set of fast, memory efficient tools that are useful by themselves or in combination. Together, they form an “iterator algebra” making it possible to construct specialized tools succinctly and efficiently in pure Python.\n",
    "\n",
    "</font>\n",
    "</div>"
   ]
  },
  {
   "cell_type": "markdown",
   "id": "f5ced74e",
   "metadata": {},
   "source": [
    "# Example #1\n",
    "<hr style = \"border:2px solid black\" ></hr>"
   ]
  },
  {
   "cell_type": "markdown",
   "id": "de29833f",
   "metadata": {},
   "source": [
    "<div class=\"alert alert-info\">\n",
    "<font color=black>\n",
    "\n",
    "- Implement the IceCreamMachine's scoops method so that it returns all combinations of one ingredient and one topping. \n",
    "\n",
    "- If there are no ingredients or toppings, the method should return an empty list.\n",
    "For example: `IceCreamMachine([\"vanilla\", \"chocolate\"], [\"chocolate sauce\"]).scoops()` should return `[['vanilla', 'chocolate sauce'], ['chocolate', 'chocolate sauce']]`\n",
    "\n",
    "\n",
    "</font>\n",
    "</div>"
   ]
  },
  {
   "cell_type": "code",
   "execution_count": 2,
   "id": "6dea1a7a",
   "metadata": {
    "ExecuteTime": {
     "end_time": "2022-03-11T07:31:01.358422Z",
     "start_time": "2022-03-11T07:31:01.354857Z"
    }
   },
   "outputs": [],
   "source": [
    "class IceCreamMachine:\n",
    "\n",
    "    def __init__(self, ingredients, toppings):\n",
    "        self.ingredients = ingredients\n",
    "        self.toppings = toppings\n",
    "\n",
    "    def scoops(self):\n",
    "        return [list(p) for p in product(self.ingredients, self.toppings)]"
   ]
  },
  {
   "cell_type": "code",
   "execution_count": 3,
   "id": "2462459e",
   "metadata": {
    "ExecuteTime": {
     "end_time": "2022-03-11T07:31:01.364567Z",
     "start_time": "2022-03-11T07:31:01.361660Z"
    }
   },
   "outputs": [
    {
     "name": "stdout",
     "output_type": "stream",
     "text": [
      "[['vanilla', 'chocolate sauce'], ['chocolate', 'chocolate sauce']]\n"
     ]
    }
   ],
   "source": [
    "machine = IceCreamMachine([\"vanilla\", \"chocolate\"], [\"chocolate sauce\"])\n",
    "# should print[['vanilla', 'chocolate sauce'], ['chocolate', 'chocolate sauce']]\n",
    "print(machine.scoops())"
   ]
  },
  {
   "cell_type": "markdown",
   "id": "8600bc1e",
   "metadata": {},
   "source": [
    "# Example #2\n",
    "<hr style = \"border:2px solid black\" ></hr>"
   ]
  },
  {
   "cell_type": "markdown",
   "id": "cf201911",
   "metadata": {},
   "source": [
    "<div class=\"alert alert-info\">\n",
    "<font color=black>\n",
    "\n",
    "- Implement the unique_names method. When passed two arrays of names, it will return an array containing the names that appear in either or both arrays.\n",
    "- The returned array should have no duplicates.\n",
    "- For example, `calling unique_names(['Ava', 'Emma', 'Olivia'], ['Olivia', 'Sophia', 'Emma'])` should return an array containing Ava, Emma, Olivia, and Sophia in any order.\n",
    "\n",
    "</font>\n",
    "</div>"
   ]
  },
  {
   "cell_type": "code",
   "execution_count": 4,
   "id": "6e5cec17",
   "metadata": {
    "ExecuteTime": {
     "end_time": "2022-03-11T07:31:01.369861Z",
     "start_time": "2022-03-11T07:31:01.366599Z"
    }
   },
   "outputs": [
    {
     "name": "stdout",
     "output_type": "stream",
     "text": [
      "['Olivia', 'Sophia', 'Ava', 'Emma']\n"
     ]
    }
   ],
   "source": [
    "def unique_names(names1, names2):\n",
    "    return list(set(chain(names1, names2)))\n",
    "\n",
    "names1 = [\"Ava\", \"Emma\", \"Olivia\"]\n",
    "names2 = [\"Olivia\", \"Sophia\", \"Emma\"]\n",
    "print(unique_names(names1, names2))  # should print Ava, Emma, Olivia, Sophia"
   ]
  },
  {
   "cell_type": "markdown",
   "id": "d33973a9",
   "metadata": {},
   "source": [
    "# Example #3\n",
    "<hr style = \"border:2px solid black\" ></hr>"
   ]
  },
  {
   "cell_type": "markdown",
   "id": "0cb28fc2",
   "metadata": {},
   "source": [
    "<div class=\"alert alert-info\">\n",
    "<font color=black>\n",
    "\n",
    "- To be completed in **30 min**\n",
    "\n",
    "- Write a function that, when passed a list and a target sum, returns, efficiently with respect to time used, two distinct zero-based indices of any two of the numbers, whose sum is equal to the target sum. \n",
    "\n",
    "- If there are no two numbers, the function should return None.\n",
    "\n",
    "- For example, find_two_sum([3, 1, 5, 7, 5, 9], 10) should return a single tuple containing any of the following pairs of indices:\n",
    "\n",
    "```\n",
    "* 0 and 3 (or 3 and 0) as 3 + 7 = 10\n",
    "* 1 and 5 (or 5 and 1) as 1 + 9 = 10\n",
    "* 2 and 4 (or 4 and 2) as 5 + 5 = 10\n",
    "```\n",
    "\n",
    "</font>\n",
    "</div>"
   ]
  },
  {
   "cell_type": "code",
   "execution_count": 2,
   "id": "4bbd24d5",
   "metadata": {
    "ExecuteTime": {
     "end_time": "2022-03-11T09:26:48.863275Z",
     "start_time": "2022-03-11T09:26:48.859253Z"
    }
   },
   "outputs": [
    {
     "name": "stdout",
     "output_type": "stream",
     "text": [
      "(0, 3)\n"
     ]
    }
   ],
   "source": [
    "def find_two_sum(numbers, target_sum):\n",
    "    # :param numbers: (list of ints) The list of numbers.\n",
    "    # :param target_sum: (int) The required target sum.\n",
    "    # :returns: (a tuple of 2 ints) The indices of the two elements whose sum is equal to target_sum\n",
    "    \n",
    "    \n",
    "    #print(list(combinations(numbers,2)))\n",
    "    for duo in list(combinations(numbers,2)):\n",
    "        if sum(duo) == target_sum:\n",
    "            #print(duo, duo[0], duo[1], numbers.index(duo[0]), numbers.index(duo[1]))\n",
    "            # the task said any, so I will return the first one I find!\n",
    "            return (numbers.index(duo[0]), numbers.index(duo[1]))\n",
    "\n",
    "\n",
    "print(find_two_sum([3, 1, 5, 7, 5, 9], 10))"
   ]
  },
  {
   "cell_type": "markdown",
   "id": "364120bc",
   "metadata": {},
   "source": [
    "# References\n",
    "<hr style = \"border:2px solid black\" ></hr>"
   ]
  },
  {
   "cell_type": "markdown",
   "id": "5d22494d",
   "metadata": {},
   "source": [
    "<div class=\"alert alert-warning\">\n",
    "<font color=black>\n",
    "\n",
    "- [TestDome home page](https://www.testdome.com/tests/python-online-test/45)\n",
    "- [elegant solution](https://github.com/jozo/testdome-python-solutions/blob/master/02_ice_cream_machine.py)\n",
    "- [`itertools`](https://docs.python.org/3/library/itertools.html)\n",
    "\n",
    "</font>\n",
    "</div>"
   ]
  },
  {
   "cell_type": "code",
   "execution_count": null,
   "id": "c696a5a3",
   "metadata": {},
   "outputs": [],
   "source": []
  }
 ],
 "metadata": {
  "kernelspec": {
   "display_name": "trainingAI",
   "language": "python",
   "name": "trainingai"
  },
  "language_info": {
   "codemirror_mode": {
    "name": "ipython",
    "version": 3
   },
   "file_extension": ".py",
   "mimetype": "text/x-python",
   "name": "python",
   "nbconvert_exporter": "python",
   "pygments_lexer": "ipython3",
   "version": "3.9.7"
  },
  "toc": {
   "base_numbering": 1,
   "nav_menu": {},
   "number_sections": true,
   "sideBar": true,
   "skip_h1_title": false,
   "title_cell": "Table of Contents",
   "title_sidebar": "Contents",
   "toc_cell": false,
   "toc_position": {},
   "toc_section_display": true,
   "toc_window_display": true
  },
  "varInspector": {
   "cols": {
    "lenName": 16,
    "lenType": 16,
    "lenVar": 40
   },
   "kernels_config": {
    "python": {
     "delete_cmd_postfix": "",
     "delete_cmd_prefix": "del ",
     "library": "var_list.py",
     "varRefreshCmd": "print(var_dic_list())"
    },
    "r": {
     "delete_cmd_postfix": ") ",
     "delete_cmd_prefix": "rm(",
     "library": "var_list.r",
     "varRefreshCmd": "cat(var_dic_list()) "
    }
   },
   "types_to_exclude": [
    "module",
    "function",
    "builtin_function_or_method",
    "instance",
    "_Feature"
   ],
   "window_display": false
  }
 },
 "nbformat": 4,
 "nbformat_minor": 5
}
