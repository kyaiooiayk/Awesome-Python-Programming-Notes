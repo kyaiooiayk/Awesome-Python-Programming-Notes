{
 "cells": [
  {
   "cell_type": "markdown",
   "metadata": {},
   "source": [
    "# Introduction\n",
    "<hr style=\"border:2px solid black\"> </hr>"
   ]
  },
  {
   "cell_type": "markdown",
   "metadata": {},
   "source": [
    "<div class=\"alert alert-warning\">\n",
    "<font color=black>\n",
    "\n",
    "**What?** Docstrings\n",
    "\n",
    "</font>\n",
    "</div>"
   ]
  },
  {
   "cell_type": "markdown",
   "metadata": {},
   "source": [
    "# What is a docstring?\n",
    "<hr style=\"border:2px solid black\"> </hr>"
   ]
  },
  {
   "cell_type": "markdown",
   "metadata": {},
   "source": [
    "<div class=\"alert alert-info\">\n",
    "<font color=black>\n",
    "\n",
    "- Python documentation string or commonly known as docstring, is a string literal, and it is used in the class, module, function, or method definition. \n",
    "- Docstrings are accessible from the doc attribute `__doc__` for any of the Python objects and also with the built-in `help()` function.\n",
    "\n",
    "</font>\n",
    "</div>"
   ]
  },
  {
   "cell_type": "markdown",
   "metadata": {},
   "source": [
    "# Quick demo\n",
    "<hr style=\"border:2px solid black\"> </hr>"
   ]
  },
  {
   "cell_type": "markdown",
   "metadata": {},
   "source": [
    "<div class=\"alert alert-info\">\n",
    "<font color=black>\n",
    "\n",
    "- For example, let's say you installed the scikit-learn library and you would like to know all about the `sklearn` package like description, package modules, etc., you could simply use the help function to get all the information.\n",
    "- You would notice that the output of the `help` function is more verbose than the `__doc__` attribute.\n",
    "\n",
    "</font>\n",
    "</div>"
   ]
  },
  {
   "cell_type": "code",
   "execution_count": 1,
   "metadata": {},
   "outputs": [],
   "source": [
    "import sklearn"
   ]
  },
  {
   "cell_type": "code",
   "execution_count": null,
   "metadata": {},
   "outputs": [],
   "source": [
    "help(sklearn)"
   ]
  },
  {
   "cell_type": "code",
   "execution_count": 19,
   "metadata": {},
   "outputs": [
    {
     "name": "stdout",
     "output_type": "stream",
     "text": [
      "\n",
      "Machine learning module for Python\n",
      "==================================\n",
      "\n",
      "sklearn is a Python module integrating classical machine\n",
      "learning algorithms in the tightly-knit world of scientific Python\n",
      "packages (numpy, scipy, matplotlib).\n",
      "\n",
      "It aims to provide simple and efficient solutions to learning problems\n",
      "that are accessible to everybody and reusable in various contexts:\n",
      "machine-learning as a versatile tool for science and engineering.\n",
      "\n",
      "See http://scikit-learn.org for complete documentation.\n",
      "\n"
     ]
    }
   ],
   "source": [
    "print(sklearn.__doc__)"
   ]
  },
  {
   "cell_type": "markdown",
   "metadata": {},
   "source": [
    "# Docstrings vs. Commenting\n",
    "<hr style=\"border:2px solid black\"> </hr>"
   ]
  },
  {
   "cell_type": "markdown",
   "metadata": {},
   "source": [
    "<div class=\"alert alert-info\">\n",
    "<font color=black>\n",
    "\n",
    "- **Docstrings** act as documentation for the class, module, and packages. They are similar to comments, but they are enhanced, more logical, and useful version of commenting. They generally start with a triple quotes and can be access by `doc` or `help` python method.\n",
    "\n",
    "- **Comments** are mainly used to explain non-obvious portions of the code and can be useful for comments on Fixing bugs and tasks that are needed to be done. They generally start with `#` and cannot be access neither by `doc` not `help` python method.\n",
    "\n",
    "</font>\n",
    "</div>"
   ]
  },
  {
   "cell_type": "code",
   "execution_count": 14,
   "metadata": {},
   "outputs": [],
   "source": [
    "def square(a):\n",
    "    \"\"\"Returned argument a is squared.\n",
    "    \n",
    "    Parameters\n",
    "    ----------\n",
    "    a : float\n",
    "        input\n",
    "\n",
    "    Returns\n",
    "    -------\n",
    "    b : float\n",
    "        Returning value\n",
    "    \"\"\"\n",
    "    \n",
    "    # b is defined as a to the second power\n",
    "    b = a**2\n",
    "    return b"
   ]
  },
  {
   "cell_type": "code",
   "execution_count": 18,
   "metadata": {},
   "outputs": [
    {
     "data": {
      "text/plain": [
       "'Returned argument a is squared.\\n    \\n    Parameters:\\n    -----------\\n    a - float\\n        input\\n\\n    Returns:\\n    --------\\n    b - float\\n        Returning value\\n    '"
      ]
     },
     "execution_count": 18,
     "metadata": {},
     "output_type": "execute_result"
    }
   ],
   "source": [
    "square.__doc__"
   ]
  },
  {
   "cell_type": "code",
   "execution_count": 17,
   "metadata": {},
   "outputs": [
    {
     "name": "stdout",
     "output_type": "stream",
     "text": [
      "Returned argument a is squared.\n",
      "    \n",
      "    Parameters:\n",
      "    -----------\n",
      "    a - float\n",
      "        input\n",
      "\n",
      "    Returns:\n",
      "    --------\n",
      "    b - float\n",
      "        Returning value\n",
      "    \n"
     ]
    }
   ],
   "source": [
    "print(square.__doc__)"
   ]
  },
  {
   "cell_type": "code",
   "execution_count": 16,
   "metadata": {},
   "outputs": [
    {
     "name": "stdout",
     "output_type": "stream",
     "text": [
      "Help on function square in module __main__:\n",
      "\n",
      "square(a)\n",
      "    Returned argument a is squared.\n",
      "    \n",
      "    Parameters:\n",
      "    -----------\n",
      "    a - float\n",
      "        input\n",
      "    \n",
      "    Returns:\n",
      "    --------\n",
      "    b - float\n",
      "        Returning value\n",
      "\n"
     ]
    }
   ],
   "source": [
    "help(square)"
   ]
  },
  {
   "cell_type": "markdown",
   "metadata": {},
   "source": [
    "# Docstring format\n",
    "<hr style=\"border:2px solid black\"> </hr>"
   ]
  },
  {
   "cell_type": "markdown",
   "metadata": {},
   "source": [
    "<div class=\"alert alert-info\">\n",
    "<font color=black>\n",
    "\n",
    "- The most common formats used are listed below:\n",
    "    - [NumPy/SciPy docstrings](https://numpydoc.readthedocs.io/en/latest/format.html) Combination of reStructured and GoogleDocstrings and supported by Sphinx    \n",
    "    - [EpyDoc](http://epydoc.sourceforge.net/) Render Epytext as series of HTML documents and a tool for generating API documentation for Python modules based on their Docstrings\n",
    "    - [Google Docstrings](https://sphinxcontrib-napoleon.readthedocs.io/en/latest/example_google.html) Google's Style\n",
    "- [PyDoc](https://docs.python.org/3.10/library/pydoc.html) Standard documentation module for Python and supported by Sphinx    \n",
    "- The formats of all the Documentation strings are nearly similar. The patterns are similar, but there are only nitty-gritty changes in each format.\n",
    "\n",
    "</font>\n",
    "</div>"
   ]
  },
  {
   "cell_type": "markdown",
   "metadata": {},
   "source": [
    "## Sphinx Style"
   ]
  },
  {
   "cell_type": "markdown",
   "metadata": {},
   "source": [
    "<div class=\"alert alert-info\">\n",
    "<font color=black>\n",
    "\n",
    "- Sphinx is the easy and traditional style, verbose, and was initially created specifically for the Python Documentation. Sphinx uses a reStructured Text, which is similar in usage to Markdown.\n",
    "- Sphinx uses the keyword(reserved word); most of the programming language does. But it is explicitly called role in Sphinx. In the above code, Sphinx has the param as a role, and type is a role, which is the Sphinx data type for param. type role is optional, but param is mandatory. The return roles document the returned object. It is different from the param role. The return role is not dependent on the rtype and vice-versa. The rtype is the type of object returned from the given function\n",
    "\n",
    "</font>\n",
    "</div>"
   ]
  },
  {
   "cell_type": "code",
   "execution_count": null,
   "metadata": {},
   "outputs": [],
   "source": [
    "class Vehicle(object):\n",
    "    '''\n",
    "    The Vehicle object contains lots of vehicles\n",
    "    :param arg: The arg is used for ...\n",
    "    :type arg: str\n",
    "    :param `*args`: The variable arguments are used for ...\n",
    "    :param `**kwargs`: The keyword arguments are used for ...\n",
    "    :ivar arg: This is where we store arg\n",
    "    :vartype arg: str\n",
    "    '''\n",
    "\n",
    "\n",
    "    def __init__(self, arg, *args, **kwargs):\n",
    "        self.arg = arg\n",
    "\n",
    "    def cars(self, distance, destination):\n",
    "        '''We can't travel a certain distance in vehicles without fuels, so here's the fuels\n",
    "\n",
    "        :param distance: The amount of distance traveled\n",
    "        :type amount: int\n",
    "        :param bool destinationReached: Should the fuels be refilled to cover required distance?\n",
    "        :raises: :class:`RuntimeError`: Out of fuel\n",
    "\n",
    "        :returns: A Car mileage\n",
    "        :rtype: Cars\n",
    "        '''  \n",
    "        pass"
   ]
  },
  {
   "cell_type": "markdown",
   "metadata": {},
   "source": [
    "## Google Style"
   ]
  },
  {
   "cell_type": "markdown",
   "metadata": {},
   "source": [
    "<div class=\"alert alert-info\">\n",
    "<font color=black>\n",
    "\n",
    "- Google Style is easier and more intuitive to use. It can be used for the shorter form of documentation. A configuration of python file needs to be done to get started, so you need to add either sphinx.ext.napoleon or sphinxcontrib.napoleon to the extensions list in conf.py.\n",
    "- The Google Style is better than the Sphinx style. It also has an inconvenient feature, i.e., in the above code, the multi-line description of the distance would look **messy**.\n",
    "\n",
    "</font>\n",
    "</div>"
   ]
  },
  {
   "cell_type": "code",
   "execution_count": null,
   "metadata": {},
   "outputs": [],
   "source": [
    "class Vehicles(object):\n",
    "    '''\n",
    "    The Vehicle object contains a lot of vehicles\n",
    "\n",
    "    Args:\n",
    "        arg (str): The arg is used for...\n",
    "        *args: The variable arguments are used for...\n",
    "        **kwargs: The keyword arguments are used for...\n",
    "\n",
    "    Attributes:\n",
    "        arg (str): This is where we store arg,\n",
    "    '''\n",
    "    def __init__(self, arg, *args, **kwargs):\n",
    "        self.arg = arg\n",
    "\n",
    "    def cars(self, distance,destination):\n",
    "        '''We can't travel distance in vehicles without fuels, so here is the fuels\n",
    "\n",
    "        Args:\n",
    "            distance (int): The amount of distance traveled\n",
    "            destination (bool): Should the fuels refilled to cover the distance?\n",
    "\n",
    "        Raises:\n",
    "            RuntimeError: Out of fuel\n",
    "\n",
    "        Returns:\n",
    "            cars: A car mileage\n",
    "        '''\n",
    "        pass"
   ]
  },
  {
   "cell_type": "markdown",
   "metadata": {},
   "source": [
    "## Numpy Style"
   ]
  },
  {
   "cell_type": "markdown",
   "metadata": {},
   "source": [
    "<div class=\"alert alert-info\">\n",
    "<font color=black>\n",
    "\n",
    "- Numpy style has a lot of details in the documentation. It is more verbose than other documentation, but it is an excellent choice if you want to do detailed documentation, i.e., extensive documentation of all the functions and parameters.\n",
    "- The above example is more verbose than any other documentation. It is more lengthy and could only be used for the long and detailed documentation.\n",
    "\n",
    "</font>\n",
    "</div>"
   ]
  },
  {
   "cell_type": "code",
   "execution_count": null,
   "metadata": {},
   "outputs": [],
   "source": [
    "class Vehicles(object):\n",
    "    '''\n",
    "    The Vehicles object contains lots of vehicles\n",
    "\n",
    "    Parameters\n",
    "    ----------\n",
    "    arg : str\n",
    "        The arg is used for ...\n",
    "    *args\n",
    "        The variable arguments are used for ...\n",
    "    **kwargs\n",
    "        The keyword arguments are used for ...\n",
    "\n",
    "    Attributes\n",
    "    ----------\n",
    "    arg : str\n",
    "        This is where we store arg,\n",
    "    '''\n",
    "    def __init__(self, arg, *args, **kwargs):\n",
    "        self.arg = arg\n",
    "\n",
    "    def cars(self, distance, destination):\n",
    "        '''We can't travel distance in vehicles without fuels, so here is the fuels\n",
    "\n",
    "        Parameters\n",
    "        ----------\n",
    "        distance : int\n",
    "            The amount of distance traveled\n",
    "        destination : bool\n",
    "            Should the fuels refilled to cover the distance?\n",
    "\n",
    "        Raises\n",
    "        ------\n",
    "        RuntimeError\n",
    "            Out of fuel\n",
    "\n",
    "        Returns\n",
    "        -------\n",
    "        cars\n",
    "            A car mileage\n",
    "        '''\n",
    "        pass"
   ]
  },
  {
   "cell_type": "markdown",
   "metadata": {},
   "source": [
    "# PyDoc\n",
    "<hr style=\"border:2px solid black\"> </hr>"
   ]
  },
  {
   "cell_type": "markdown",
   "metadata": {},
   "source": [
    "<div class=\"alert alert-info\">\n",
    "<font color=black>\n",
    "\n",
    "- As you learned that docstrings are accessible through the built-in Python __doc__ attribute and the help() function. You could also make use of the built-in module known as Pydoc, which is very different in terms of the features & functionalities it possesses when compared to the doc attribute and the help function.\n",
    "- Pydoc is a tool that would come handy when you want to share the code with your colleagues or make it open-source, in which case you would be targeting a much wider audience. It could generate web pages from your Python documentation and can also launch a web server.\n",
    "\n",
    "</font>\n",
    "</div>"
   ]
  },
  {
   "cell_type": "markdown",
   "metadata": {},
   "source": [
    "# References\n",
    "<hr style=\"border:2px solid black\"> </hr>"
   ]
  },
  {
   "cell_type": "markdown",
   "metadata": {},
   "source": [
    "<div class=\"alert alert-warning\">\n",
    "<font color=black>\n",
    "\n",
    "- https://www.datacamp.com/community/tutorials/docstrings-python\n",
    "\n",
    "</font>\n",
    "</div>"
   ]
  },
  {
   "cell_type": "code",
   "execution_count": null,
   "metadata": {},
   "outputs": [],
   "source": []
  }
 ],
 "metadata": {
  "hide_input": false,
  "kernelspec": {
   "display_name": "trainingAI",
   "language": "python",
   "name": "trainingai"
  },
  "language_info": {
   "codemirror_mode": {
    "name": "ipython",
    "version": 3
   },
   "file_extension": ".py",
   "mimetype": "text/x-python",
   "name": "python",
   "nbconvert_exporter": "python",
   "pygments_lexer": "ipython3",
   "version": "3.8.5"
  }
 },
 "nbformat": 4,
 "nbformat_minor": 2
}
